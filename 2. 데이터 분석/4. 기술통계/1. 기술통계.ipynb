{
 "cells": [
  {
   "cell_type": "markdown",
   "metadata": {
    "id": "Dgaqd50C1uyU"
   },
   "source": [
    "# 데이터의 대표값 찾기 (중심 경향성)\n",
    "데이터의 중심이 어디에 위치하는지를 나타내는 값으로, 주로 평균(Mean), 중앙값(Median), 최빈값(Mode) 을 많이 활용합니다.\n",
    "\n",
    "<br/>\n",
    "<br/>\n",
    "\n",
    "# 평균 (Mean)\n",
    "\n",
    "평균은 모든 데이터를 더한 후 데이터의 갯수로 나눈 값입니다.\n",
    "\n",
    "이상치(아주 큰 값)이 포함된 데이터를 만들고 평균값을 구해보세요."
   ]
  },
  {
   "cell_type": "code",
   "execution_count": 1,
   "metadata": {
    "id": "PCmBIktJGGIy"
   },
   "outputs": [
    {
     "name": "stdout",
     "output_type": "stream",
     "text": [
      "58.333333333333336\n",
      "58.333333333333336\n"
     ]
    }
   ],
   "source": [
    "# 여기에 코드를 작성해보세요!\n",
    "import numpy as np\n",
    "import pandas as pd\n",
    "\n",
    "mdata = [10, 20, 30, 40, 50, 200]\n",
    "mean_val = np.mean(mdata)\n",
    "print(mean_val)\n",
    "\n",
    "df = pd.DataFrame(mdata, columns=['value'])\n",
    "mean_value2 = df['value'].mean()\n",
    "\n",
    "print(mean_value2)"
   ]
  },
  {
   "cell_type": "code",
   "execution_count": 2,
   "metadata": {
    "id": "NVKAC2O5wrmg"
   },
   "outputs": [
    {
     "name": "stdout",
     "output_type": "stream",
     "text": [
      "58.333333333333336\n"
     ]
    }
   ],
   "source": [
    "# 모범답안\n",
    "\n",
    "import numpy as np\n",
    "\n",
    "data = [10, 20, 30, 40, 50, 200]\n",
    "mean_value = np.mean(data)\n",
    "print(mean_value)  # 30.0"
   ]
  },
  {
   "cell_type": "markdown",
   "metadata": {
    "id": "uciGEG9K5vt2"
   },
   "source": [
    "## 중앙값 (Median)\n",
    "모든 데이터를 크기순으로 줄세웠을 때, 가운데에 있는 값입니다.  \n",
    "위와 동일한 데이터를 만들고 중앙값을 구해보세요."
   ]
  },
  {
   "cell_type": "code",
   "execution_count": 3,
   "metadata": {
    "id": "THOLa-AlGGei"
   },
   "outputs": [
    {
     "name": "stdout",
     "output_type": "stream",
     "text": [
      "35.0\n"
     ]
    }
   ],
   "source": [
    "# 여기에 코드를 작성해보세요!\n",
    "median_val = np.median(mdata)\n",
    "print(median_val)"
   ]
  },
  {
   "cell_type": "code",
   "execution_count": 4,
   "metadata": {
    "id": "nXuvbEd55v21"
   },
   "outputs": [
    {
     "name": "stdout",
     "output_type": "stream",
     "text": [
      "35.0\n"
     ]
    }
   ],
   "source": [
    "# 모범답안\n",
    "\n",
    "import numpy as np\n",
    "\n",
    "data = [10, 20, 30, 40, 50, 200]\n",
    "median_value = np.median(data)\n",
    "print(median_value)  # 30\n"
   ]
  },
  {
   "cell_type": "markdown",
   "metadata": {
    "id": "x_hBSbdD58md"
   },
   "source": [
    "중앙값은 이상치가 있어도 크게 흔들리지 않는다는 것을 알 수 있습니다.\n",
    "\n",
    "<br/>\n",
    "<br/>\n",
    "<br/>\n",
    "\n",
    "## 최빈값 (Mode)\n",
    "데이터 중에서 가장 많이 등장한 값을 말합니다.  \n",
    "일부 데이터가 중복된 데이터를 만들고 최빈값을 구해보세요.\n"
   ]
  },
  {
   "cell_type": "code",
   "execution_count": 5,
   "metadata": {
    "id": "P6xl-aOPGG99"
   },
   "outputs": [
    {
     "name": "stdout",
     "output_type": "stream",
     "text": [
      "0    3\n",
      "dtype: int64\n"
     ]
    }
   ],
   "source": [
    "# 여기에 코드를 작성해보세요!\n",
    "import pandas as pd\n",
    "\n",
    "mdata = pd.Series([1, 2, 2, 3, 3, 3, 4, 4])\n",
    "mode_val = mdata.mode()\n",
    "print(mode_val)"
   ]
  },
  {
   "cell_type": "code",
   "execution_count": 6,
   "metadata": {
    "id": "NA938jYu555V"
   },
   "outputs": [
    {
     "name": "stdout",
     "output_type": "stream",
     "text": [
      "0    3\n",
      "dtype: int64\n"
     ]
    }
   ],
   "source": [
    "# 모범답안\n",
    "\n",
    "import pandas as pd\n",
    "\n",
    "data = pd.Series([1, 2, 2, 3, 3, 3, 4, 4])\n",
    "mode_value = data.mode()\n",
    "print(mode_value)  # 3 (가장 많이 등장한 값)"
   ]
  },
  {
   "cell_type": "markdown",
   "metadata": {
    "id": "vYitPS2y6cvd"
   },
   "source": [
    "\n",
    "\n",
    "\n",
    "\n",
    "<br/>\n",
    "<br/>\n",
    "\n",
    "---\n",
    "<br/>\n",
    "<br/>\n",
    "\n",
    "# 데이터의 산포도 (흩어진 정도)\n",
    "\n",
    "* 산포도(Dispersion) 는 데이터가 얼마나 흩어져 있는지를 나타내는 지표\n",
    "* 산포도를 확인하면 데이터의 변동성을 파악할 수 있으며, 값이 극단적으로 다른 데이터(이상치)가 있는지도 확인 가능\n",
    "\n",
    "<br/>\n",
    "\n",
    "데이터의 퍼져있는 정도를 측정하기 위한 것으로 산포도를 확인하면 데이터의 변동성을 파악할 수 있습니다.\n",
    "\n",
    "<br/>\n",
    "\n",
    "## 범위 (Range)\n",
    "데이터의 최댓값- 최솟값 을 의미합니다.  \n",
    "실습에 사용할 데이터를 만들고 가장 큰 값과 가장 작은 값을 구해 데이터가 분포한 범위를 계산해보세요."
   ]
  },
  {
   "cell_type": "code",
   "execution_count": 7,
   "metadata": {
    "id": "Zic-Suo5GHvt"
   },
   "outputs": [
    {
     "name": "stdout",
     "output_type": "stream",
     "text": [
      "40\n"
     ]
    }
   ],
   "source": [
    "# 여기에 코드를 작성해보세요!\n",
    "\n",
    "data = [10, 20, 30, 40, 50]\n",
    "range_value = max(data) - min(data)\n",
    "print(range_value)"
   ]
  },
  {
   "cell_type": "code",
   "execution_count": 8,
   "metadata": {
    "id": "ym0sOJSk6z4t"
   },
   "outputs": [
    {
     "name": "stdout",
     "output_type": "stream",
     "text": [
      "40\n"
     ]
    }
   ],
   "source": [
    "# 모범답안\n",
    "\n",
    "data = [10, 20, 30, 40, 50]\n",
    "range_value = max(data) - min(data)\n",
    "print(range_value)  # 40\n"
   ]
  },
  {
   "cell_type": "markdown",
   "metadata": {
    "id": "-8UEZd6U6_i5"
   },
   "source": [
    "<br/>\n",
    "<br/>\n",
    "\n",
    "## 분산 (Variance)\n",
    "데이터가 얼마나 평균으로 부터 퍼져있는지를 나타냅니다.\n",
    "\n",
    "실습에 사용할 데이터를 만들고 분산을 구해보세요."
   ]
  },
  {
   "cell_type": "code",
   "execution_count": 9,
   "metadata": {
    "id": "3S-ljO1TF5Pr"
   },
   "outputs": [
    {
     "name": "stdout",
     "output_type": "stream",
     "text": [
      "200.0\n"
     ]
    }
   ],
   "source": [
    "# 여기에 코드를 작성해보세요!\n",
    "variance_value = np.var(data)\n",
    "print(variance_value)"
   ]
  },
  {
   "cell_type": "code",
   "execution_count": 10,
   "metadata": {
    "id": "hMxXXSKz6_sG"
   },
   "outputs": [
    {
     "name": "stdout",
     "output_type": "stream",
     "text": [
      "200.0\n"
     ]
    }
   ],
   "source": [
    "# 모범답안\n",
    "\n",
    "import numpy as np\n",
    "\n",
    "data = [10, 20, 30, 40, 50]\n",
    "variance_value = np.var(data)\n",
    "print(variance_value)  # 200.0"
   ]
  },
  {
   "cell_type": "markdown",
   "metadata": {
    "id": "SDqbQSLZ74Vt"
   },
   "source": [
    "## 표준편차 (Standard Deviation)\n",
    "분산과 동일하게 데이터가 얼마나 평균으로 부터 퍼져있는지를 나타냅니다.\n",
    "분산이 값이 크다는 단점이 있기 때문에 더욱 널리 쓰입니다.\n",
    "\n",
    "위와 동일한 데이터를 사용하여 표준편차를 구해보세요."
   ]
  },
  {
   "cell_type": "code",
   "execution_count": 11,
   "metadata": {
    "id": "-HgP0-z3GIet"
   },
   "outputs": [
    {
     "name": "stdout",
     "output_type": "stream",
     "text": [
      "14.142135623730951\n"
     ]
    }
   ],
   "source": [
    "# 여기에 코드를 작성해보세요!\n",
    "std_dev = np.std(data)\n",
    "print(std_dev)"
   ]
  },
  {
   "cell_type": "code",
   "execution_count": 12,
   "metadata": {
    "id": "daDoFvfC74e8"
   },
   "outputs": [
    {
     "name": "stdout",
     "output_type": "stream",
     "text": [
      "14.142135623730951\n"
     ]
    }
   ],
   "source": [
    "# 모범답안\n",
    "\n",
    "import numpy as np\n",
    "\n",
    "std_dev = np.std(data)\n",
    "print(std_dev)  # 14.14"
   ]
  },
  {
   "cell_type": "markdown",
   "metadata": {
    "id": "4tBULa6u6_0Z"
   },
   "source": [
    "\n",
    "<br/>\n",
    "<br/>\n",
    "\n",
    "---\n",
    "<br/>\n",
    "<br/>\n",
    "\n",
    "# [참고] 데이터의 분포 (데이터의 형태)\n",
    "데이터가 치우쳐져 있는지, 데이터 분포가 어느지점에 집중되어 있는지 알아보는 척도 입니다.\n",
    "주로 scipy 라이브러리를 활용합니다.   \n",
    "\n",
    "<br/>\n",
    "\n",
    "## 왜도 (Skewness)\n",
    "데이터가 좌우 어느 방향으로 치우쳐져 있는지 나타냅니다.\n",
    "- 왜도 > 0 → 오른쪽으로 치우침 (오른쪽 꼬리가 길다)\n",
    "- 왜도 < 0 → 왼쪽으로 치우침 (왼쪽 꼬리가 길다)"
   ]
  },
  {
   "cell_type": "code",
   "execution_count": 13,
   "metadata": {
    "id": "plxRIlao7aSf"
   },
   "outputs": [
    {
     "name": "stdout",
     "output_type": "stream",
     "text": [
      "1.1384199576606167\n"
     ]
    }
   ],
   "source": [
    "from scipy.stats import skew\n",
    "\n",
    "data = [10, 20, 30, 40, 100]  # 오른쪽으로 치우친 데이터\n",
    "skew_value = skew(data)\n",
    "print(skew_value)  # 양수 (오른쪽 꼬리)\n"
   ]
  },
  {
   "cell_type": "markdown",
   "metadata": {
    "id": "9S_rO3EU7bG1"
   },
   "source": [
    "\n",
    "<br/>\n",
    "\n",
    "## 첨도 (Kurtosis)\n",
    "데이터가 얼마나 뽀족한지 나타냅니다.\n",
    "- 첨도 > 0 → 뾰족한 분포 (극단적인 값이 많음)\n",
    "- 첨도 < 0 → 평평한 분포"
   ]
  },
  {
   "cell_type": "code",
   "execution_count": 14,
   "metadata": {
    "id": "0ikjhNfr7bSH"
   },
   "outputs": [
    {
     "name": "stdout",
     "output_type": "stream",
     "text": [
      "-0.2120000000000002\n"
     ]
    }
   ],
   "source": [
    "from scipy.stats import kurtosis\n",
    "\n",
    "kurtosis_value = kurtosis(data)\n",
    "print(kurtosis_value)"
   ]
  },
  {
   "cell_type": "markdown",
   "metadata": {
    "id": "ujf8-HKU9aw9"
   },
   "source": [
    "<br/>\n",
    "<br/>\n",
    "<br/>\n",
    "\n",
    "---\n",
    "\n",
    "<br/>\n",
    "\n",
    "# 데이터 집계\n",
    "데이터 집계는 데이터를 그룹별로 묶어 평균, 합계, 개수 등 요약 정보를 계산하는 과정입니다.\n",
    "이를 통해 복잡한 데이터를 간단한 통계로 요약하여 인사이트를 도출할 수 있습니다.\n",
    "\n",
    "## 데이터 집계의 필요성\n",
    "* 수많은 데이터는 그대로 두면 의미가 해석하기 어렵다.\n",
    "* 통계적 요약을 통해 흐름을 파악하고, 인사이트를 뽑아내는 것이 핵심\n",
    "<br/>\n",
    "\n",
    "## 전체 데이터 집계\n",
    "* 열 단위로 빠르게 집계할 수 있는 기본 통계 함수이며, 함수를 통해 데이터의 전반적인 분포나 스케일을 한눈에 파악할 수 있다.\n",
    "\n",
    "합계, 평균과 같이 모든 데이터의 집계를 할 때 쓰입니다.\n",
    "\n",
    "실습에 활용할 데이터를 만들어보겠습니다."
   ]
  },
  {
   "cell_type": "code",
   "execution_count": 15,
   "metadata": {
    "id": "J7fcHmBQ8kQp"
   },
   "outputs": [],
   "source": [
    "df = pd.DataFrame({\n",
    "    '고객': ['A', 'B', 'C'],\n",
    "    '매출': [12000, 15000, 10000]\n",
    "})\n",
    "\n"
   ]
  },
  {
   "cell_type": "code",
   "execution_count": null,
   "metadata": {},
   "outputs": [],
   "source": []
  },
  {
   "cell_type": "markdown",
   "metadata": {
    "id": "hS_JBRwCnh1r"
   },
   "source": [
    "위에서 만든 매출 데이터의 총 매출과 평균 매출을 구하고 기초 통계량을 확인해보세요."
   ]
  },
  {
   "cell_type": "code",
   "execution_count": 16,
   "metadata": {
    "id": "l4y6CYq8F_16"
   },
   "outputs": [
    {
     "name": "stdout",
     "output_type": "stream",
     "text": [
      "총 매출 : 37000\n",
      "평균 매출 : 12333.333333333334\n"
     ]
    },
    {
     "data": {
      "text/html": [
       "<div>\n",
       "<style scoped>\n",
       "    .dataframe tbody tr th:only-of-type {\n",
       "        vertical-align: middle;\n",
       "    }\n",
       "\n",
       "    .dataframe tbody tr th {\n",
       "        vertical-align: top;\n",
       "    }\n",
       "\n",
       "    .dataframe thead th {\n",
       "        text-align: right;\n",
       "    }\n",
       "</style>\n",
       "<table border=\"1\" class=\"dataframe\">\n",
       "  <thead>\n",
       "    <tr style=\"text-align: right;\">\n",
       "      <th></th>\n",
       "      <th>매출</th>\n",
       "    </tr>\n",
       "  </thead>\n",
       "  <tbody>\n",
       "    <tr>\n",
       "      <th>count</th>\n",
       "      <td>3.000000</td>\n",
       "    </tr>\n",
       "    <tr>\n",
       "      <th>mean</th>\n",
       "      <td>12333.333333</td>\n",
       "    </tr>\n",
       "    <tr>\n",
       "      <th>std</th>\n",
       "      <td>2516.611478</td>\n",
       "    </tr>\n",
       "    <tr>\n",
       "      <th>min</th>\n",
       "      <td>10000.000000</td>\n",
       "    </tr>\n",
       "    <tr>\n",
       "      <th>25%</th>\n",
       "      <td>11000.000000</td>\n",
       "    </tr>\n",
       "    <tr>\n",
       "      <th>50%</th>\n",
       "      <td>12000.000000</td>\n",
       "    </tr>\n",
       "    <tr>\n",
       "      <th>75%</th>\n",
       "      <td>13500.000000</td>\n",
       "    </tr>\n",
       "    <tr>\n",
       "      <th>max</th>\n",
       "      <td>15000.000000</td>\n",
       "    </tr>\n",
       "  </tbody>\n",
       "</table>\n",
       "</div>"
      ],
      "text/plain": [
       "                 매출\n",
       "count      3.000000\n",
       "mean   12333.333333\n",
       "std     2516.611478\n",
       "min    10000.000000\n",
       "25%    11000.000000\n",
       "50%    12000.000000\n",
       "75%    13500.000000\n",
       "max    15000.000000"
      ]
     },
     "metadata": {},
     "output_type": "display_data"
    }
   ],
   "source": [
    "# 여기에 코드를 작성해보세요!\n",
    "\n",
    "print(f\"총 매출 : {df['매출'].sum()}\")\n",
    "print(f\"평균 매출 : {df['매출'].mean()}\")\n",
    "\n",
    "display(df.describe())"
   ]
  },
  {
   "cell_type": "code",
   "execution_count": 17,
   "metadata": {
    "id": "PxkRKqPXF_Ip"
   },
   "outputs": [
    {
     "name": "stdout",
     "output_type": "stream",
     "text": [
      "총 매출: 37000\n",
      "평균 매출: 12333.333333333334\n",
      "                 매출\n",
      "count      3.000000\n",
      "mean   12333.333333\n",
      "std     2516.611478\n",
      "min    10000.000000\n",
      "25%    11000.000000\n",
      "50%    12000.000000\n",
      "75%    13500.000000\n",
      "max    15000.000000\n"
     ]
    }
   ],
   "source": [
    "# 모범답안\n",
    "\n",
    "# 전체 매출 합계 및 평균\n",
    "print(\"총 매출:\", df['매출'].sum())\n",
    "print(\"평균 매출:\", df['매출'].mean())\n",
    "\n",
    "# 기본 통계 요약\n",
    "print(df.describe())"
   ]
  },
  {
   "cell_type": "markdown",
   "metadata": {
    "id": "kPeQr9oYAMOL"
   },
   "source": [
    "<br/>\n",
    "\n",
    "## 그룹별 집계\n",
    "* 그룹별로 데이터를 나누고, 각 그룹의 통계를 계산하며 고객 유형, 지역, 상품군 등 세분화된 분석이 가능하다.\n",
    "\n",
    "\n",
    "그룹별 집계는 pandas의 groupby()를 사용해 특정 컬럼 기준으로 데이터를 묶고, 각 그룹에 통계 함수를 적용하는 기능입니다.\n",
    "예를 들어, 부서별 평균 급여, 요일별 판매량 등을 쉽게 계산할 수 있습니다.\n",
    "- groupby() : 그룹별로 데이터를 묶는 함수\n",
    "- df.groupby(‘그룹컬럼’)[‘컬럼명‘].sum()\n",
    "- df.groupby('그룹컬럼').agg({'A':'mean', 'B':'sum'})\n"
   ]
  },
  {
   "cell_type": "code",
   "execution_count": 18,
   "metadata": {
    "id": "1_SKWH_NAFL5"
   },
   "outputs": [
    {
     "data": {
      "text/html": [
       "<div>\n",
       "<style scoped>\n",
       "    .dataframe tbody tr th:only-of-type {\n",
       "        vertical-align: middle;\n",
       "    }\n",
       "\n",
       "    .dataframe tbody tr th {\n",
       "        vertical-align: top;\n",
       "    }\n",
       "\n",
       "    .dataframe thead th {\n",
       "        text-align: right;\n",
       "    }\n",
       "</style>\n",
       "<table border=\"1\" class=\"dataframe\">\n",
       "  <thead>\n",
       "    <tr style=\"text-align: right;\">\n",
       "      <th></th>\n",
       "      <th>지역</th>\n",
       "      <th>매출</th>\n",
       "    </tr>\n",
       "  </thead>\n",
       "  <tbody>\n",
       "    <tr>\n",
       "      <th>0</th>\n",
       "      <td>서울</td>\n",
       "      <td>1200</td>\n",
       "    </tr>\n",
       "    <tr>\n",
       "      <th>1</th>\n",
       "      <td>서울</td>\n",
       "      <td>1500</td>\n",
       "    </tr>\n",
       "    <tr>\n",
       "      <th>2</th>\n",
       "      <td>부산</td>\n",
       "      <td>900</td>\n",
       "    </tr>\n",
       "    <tr>\n",
       "      <th>3</th>\n",
       "      <td>부산</td>\n",
       "      <td>1100</td>\n",
       "    </tr>\n",
       "    <tr>\n",
       "      <th>4</th>\n",
       "      <td>대구</td>\n",
       "      <td>950</td>\n",
       "    </tr>\n",
       "  </tbody>\n",
       "</table>\n",
       "</div>"
      ],
      "text/plain": [
       "   지역    매출\n",
       "0  서울  1200\n",
       "1  서울  1500\n",
       "2  부산   900\n",
       "3  부산  1100\n",
       "4  대구   950"
      ]
     },
     "execution_count": 18,
     "metadata": {},
     "output_type": "execute_result"
    }
   ],
   "source": [
    "df = pd.DataFrame({\n",
    "    '지역': ['서울', '서울', '부산', '부산', '대구'],\n",
    "    '매출': [1200, 1500, 900, 1100, 950]\n",
    "})\n",
    "\n",
    "df"
   ]
  },
  {
   "cell_type": "markdown",
   "metadata": {
    "id": "rN9q4oDVoQ2k"
   },
   "source": [
    "데이터를 `groupby()`를 활용해 지역별로 묶고 각 지역의 매출 합계를 구해보세요."
   ]
  },
  {
   "cell_type": "code",
   "execution_count": 19,
   "metadata": {
    "id": "PepWdY9SGBoh"
   },
   "outputs": [
    {
     "data": {
      "text/plain": [
       "지역\n",
       "대구     950\n",
       "부산    2000\n",
       "서울    2700\n",
       "Name: 매출, dtype: int64"
      ]
     },
     "execution_count": 19,
     "metadata": {},
     "output_type": "execute_result"
    }
   ],
   "source": [
    "# 여기에 코드를 작성해보세요!\n",
    "df.groupby('지역')['매출'].sum()"
   ]
  },
  {
   "cell_type": "code",
   "execution_count": 20,
   "metadata": {
    "id": "iOvZpkpUAbhn"
   },
   "outputs": [
    {
     "data": {
      "text/plain": [
       "지역\n",
       "대구     950\n",
       "부산    2000\n",
       "서울    2700\n",
       "Name: 매출, dtype: int64"
      ]
     },
     "execution_count": 20,
     "metadata": {},
     "output_type": "execute_result"
    }
   ],
   "source": [
    "# 모범답안\n",
    "\n",
    "# 지역별 매출 합계\n",
    "df.groupby('지역')['매출'].sum()"
   ]
  },
  {
   "cell_type": "markdown",
   "metadata": {
    "id": "UR2Ls4l7ozPj"
   },
   "source": [
    "`groupby()`를 활용해 데이터를 지역별로 묶고 `agg()`를 활용해 매출의 평균과 합계를 구해보세요."
   ]
  },
  {
   "cell_type": "code",
   "execution_count": 21,
   "metadata": {
    "id": "1rSTxnYBGPEd"
   },
   "outputs": [
    {
     "data": {
      "text/html": [
       "<div>\n",
       "<style scoped>\n",
       "    .dataframe tbody tr th:only-of-type {\n",
       "        vertical-align: middle;\n",
       "    }\n",
       "\n",
       "    .dataframe tbody tr th {\n",
       "        vertical-align: top;\n",
       "    }\n",
       "\n",
       "    .dataframe thead tr th {\n",
       "        text-align: left;\n",
       "    }\n",
       "\n",
       "    .dataframe thead tr:last-of-type th {\n",
       "        text-align: right;\n",
       "    }\n",
       "</style>\n",
       "<table border=\"1\" class=\"dataframe\">\n",
       "  <thead>\n",
       "    <tr>\n",
       "      <th></th>\n",
       "      <th colspan=\"2\" halign=\"left\">매출</th>\n",
       "    </tr>\n",
       "    <tr>\n",
       "      <th></th>\n",
       "      <th>mean</th>\n",
       "      <th>sum</th>\n",
       "    </tr>\n",
       "    <tr>\n",
       "      <th>지역</th>\n",
       "      <th></th>\n",
       "      <th></th>\n",
       "    </tr>\n",
       "  </thead>\n",
       "  <tbody>\n",
       "    <tr>\n",
       "      <th>대구</th>\n",
       "      <td>950.0</td>\n",
       "      <td>950</td>\n",
       "    </tr>\n",
       "    <tr>\n",
       "      <th>부산</th>\n",
       "      <td>1000.0</td>\n",
       "      <td>2000</td>\n",
       "    </tr>\n",
       "    <tr>\n",
       "      <th>서울</th>\n",
       "      <td>1350.0</td>\n",
       "      <td>2700</td>\n",
       "    </tr>\n",
       "  </tbody>\n",
       "</table>\n",
       "</div>"
      ],
      "text/plain": [
       "        매출      \n",
       "      mean   sum\n",
       "지역              \n",
       "대구   950.0   950\n",
       "부산  1000.0  2000\n",
       "서울  1350.0  2700"
      ]
     },
     "execution_count": 21,
     "metadata": {},
     "output_type": "execute_result"
    }
   ],
   "source": [
    "# 여기에 코드를 작성해보세요!\n",
    "\n",
    "df.groupby('지역').agg({'매출' : ['mean', 'sum']})\n"
   ]
  },
  {
   "cell_type": "code",
   "execution_count": 22,
   "metadata": {
    "id": "ngrtyE3JAgWh"
   },
   "outputs": [
    {
     "data": {
      "text/html": [
       "<div>\n",
       "<style scoped>\n",
       "    .dataframe tbody tr th:only-of-type {\n",
       "        vertical-align: middle;\n",
       "    }\n",
       "\n",
       "    .dataframe tbody tr th {\n",
       "        vertical-align: top;\n",
       "    }\n",
       "\n",
       "    .dataframe thead tr th {\n",
       "        text-align: left;\n",
       "    }\n",
       "\n",
       "    .dataframe thead tr:last-of-type th {\n",
       "        text-align: right;\n",
       "    }\n",
       "</style>\n",
       "<table border=\"1\" class=\"dataframe\">\n",
       "  <thead>\n",
       "    <tr>\n",
       "      <th></th>\n",
       "      <th colspan=\"2\" halign=\"left\">매출</th>\n",
       "    </tr>\n",
       "    <tr>\n",
       "      <th></th>\n",
       "      <th>mean</th>\n",
       "      <th>sum</th>\n",
       "    </tr>\n",
       "    <tr>\n",
       "      <th>지역</th>\n",
       "      <th></th>\n",
       "      <th></th>\n",
       "    </tr>\n",
       "  </thead>\n",
       "  <tbody>\n",
       "    <tr>\n",
       "      <th>대구</th>\n",
       "      <td>950.0</td>\n",
       "      <td>950</td>\n",
       "    </tr>\n",
       "    <tr>\n",
       "      <th>부산</th>\n",
       "      <td>1000.0</td>\n",
       "      <td>2000</td>\n",
       "    </tr>\n",
       "    <tr>\n",
       "      <th>서울</th>\n",
       "      <td>1350.0</td>\n",
       "      <td>2700</td>\n",
       "    </tr>\n",
       "  </tbody>\n",
       "</table>\n",
       "</div>"
      ],
      "text/plain": [
       "        매출      \n",
       "      mean   sum\n",
       "지역              \n",
       "대구   950.0   950\n",
       "부산  1000.0  2000\n",
       "서울  1350.0  2700"
      ]
     },
     "execution_count": 22,
     "metadata": {},
     "output_type": "execute_result"
    }
   ],
   "source": [
    "# 모범답안\n",
    "\n",
    "# 지역별 매출 평균과 합계를 동시에 출력\n",
    "df.groupby('지역').agg({'매출': ['mean', 'sum']})"
   ]
  },
  {
   "cell_type": "markdown",
   "metadata": {
    "id": "avYlmh5BApqK"
   },
   "source": [
    "## 집계 결과 시각화\n",
    "\n",
    "집계한 데이터를 시각화하면 숫자만으론 보이지 않는 흐름과\n",
    "비교를 쉽게 볼 수 있다. 특히 보고자료로 많이 활용된다.\n",
    "\n",
    "지역별 매출 합계를 구하고 이를 `plot` 그래프로 그려보세요."
   ]
  },
  {
   "cell_type": "code",
   "execution_count": 26,
   "metadata": {},
   "outputs": [],
   "source": [
    "#import matplotlib.font_manager as fm\n",
    "\n",
    "# font_list = fm.findSystemFonts(fontpaths=None, fontext='ttf')\n",
    "# print(len(font_list))\n",
    "# print(font_list)\n",
    "\n",
    "# f = [f.name for f in fm.fontManager.ttflist]\n",
    "\n",
    "# print(f)\n",
    "\n",
    "import matplotlib.pyplot as plt\n",
    "\n",
    "plt.rc('font', family='D2CODING')"
   ]
  },
  {
   "cell_type": "code",
   "execution_count": 27,
   "metadata": {
    "id": "iO9Azv9XGEkl"
   },
   "outputs": [
    {
     "data": {
      "image/png": "[encoded data removed]",
      "text/plain": [
       "<Figure size 640x480 with 1 Axes>"
      ]
     },
     "metadata": {},
     "output_type": "display_data"
    }
   ],
   "source": [
    "# 여기에 코드를 작성해보세요!\n",
    "\n",
    "import matplotlib.pyplot as plt\n",
    "\n",
    "df.groupby(\"지역\")[\"매출\"].sum().plot(kind=\"bar\")\n",
    "plt.title(\"지역별 매출 합계\")\n",
    "plt.xlabel(\"지역\")\n",
    "plt.ylabel(\"매출\")\n",
    "plt.show()"
   ]
  },
  {
   "cell_type": "code",
   "execution_count": 25,
   "metadata": {
    "id": "OmGhnxHkAwiP"
   },
   "outputs": [
    {
     "data": {
      "image/png": "[encoded data removed]",
      "text/plain": [
       "<Figure size 640x480 with 1 Axes>"
      ]
     },
     "metadata": {},
     "output_type": "display_data"
    }
   ],
   "source": [
    "# 모범답안\n",
    "\n",
    "import matplotlib.pyplot as plt\n",
    "\n",
    "df.groupby('지역')['매출'].sum().plot(kind='bar')\n",
    "plt.title('지역별 매출 합계')\n",
    "plt.xlabel('지역')\n",
    "plt.ylabel('매출')\n",
    "plt.show()"
   ]
  },
  {
   "cell_type": "code",
   "execution_count": null,
   "metadata": {},
   "outputs": [],
   "source": []
  }
 ],
 "metadata": {
  "colab": {
   "provenance": []
  },
  "kernelspec": {
   "display_name": "tensor",
   "language": "python",
   "name": "python3"
  },
  "language_info": {
   "codemirror_mode": {
    "name": "ipython",
    "version": 3
   },
   "file_extension": ".py",
   "mimetype": "text/x-python",
   "name": "python",
   "nbconvert_exporter": "python",
   "pygments_lexer": "ipython3",
   "version": "3.13.2"
  }
 },
 "nbformat": 4,
 "nbformat_minor": 0
}
