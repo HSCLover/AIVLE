{
 "cells": [
  {
   "cell_type": "markdown",
   "id": "fe29a4be",
   "metadata": {
    "id": "fe29a4be"
   },
   "source": [
    "\n",
    "# 🧪 실습: train_test_split을 활용한 데이터 분할\n",
    "\n",
    " Scikit-learn의 `train_test_split` 함수를 활용하여 머신러닝에서 자주 사용되는 **데이터 분할** 방법을 실습합니다.\n",
    "\n",
    "\n",
    "\n",
    "## 📌 목표\n",
    "- train_test_split의 기본 사용법 이해\n",
    "- 분할 후 데이터 모양 확인\n",
    "\n"
   ]
  },
  {
   "cell_type": "markdown",
   "id": "408bad6d",
   "metadata": {
    "id": "408bad6d"
   },
   "source": [
    "### train_test_split 이란?\n",
    "\n",
    "- 머신러닝 모델을 훈련하고 평가하기 위해 전체 데이터를 용도별로 나누는 과정\n",
    "\n",
    "\n",
    "\n",
    "\n",
    "\n",
    "\n",
    "1.   목적: 모델이 보지 못한 새로운 데이터에도 잘 작동하도록 일반화 성능 확보\n",
    "2.   학습(train): 모델이 패턴을 학습하는 데 사용\n",
    "3.   테스트(test): 최종 성능 평가용\n",
    "\n",
    "\n",
    "\n",
    "\n",
    "\n",
    "\n",
    "\n"
   ]
  },
  {
   "cell_type": "code",
   "execution_count": 16,
   "id": "BkorwoI7b6mQ",
   "metadata": {
    "id": "BkorwoI7b6mQ"
   },
   "outputs": [],
   "source": [
    "#  필요한 라이브러리 불러오기\n",
    "# 여기에 코드를 작성하세요!\n",
    "\n",
    "import pandas as pd\n",
    "import numpy as np\n",
    "from sklearn.model_selection import train_test_split"
   ]
  },
  {
   "cell_type": "code",
   "execution_count": 17,
   "id": "c4ee29f4",
   "metadata": {
    "id": "c4ee29f4"
   },
   "outputs": [],
   "source": [
    "## 모범답안\n",
    "\n",
    "import pandas as pd\n",
    "import numpy as np\n",
    "from sklearn.model_selection import train_test_split\n"
   ]
  },
  {
   "cell_type": "markdown",
   "id": "004f6396",
   "metadata": {
    "id": "004f6396"
   },
   "source": [
    "\n",
    "## 1.  데이터셋 생성 및 확인\n",
    "\n",
    "먼저 간단한 예제를 위해 `pandas`와 `numpy`를 사용해 가상의 분류용 데이터를 생성하였습니다.\n",
    "\n"
   ]
  },
  {
   "cell_type": "code",
   "execution_count": 18,
   "id": "SssIPKgUcNCM",
   "metadata": {
    "id": "SssIPKgUcNCM"
   },
   "outputs": [],
   "source": [
    "# 가상의 데이터 생성\n",
    "np.random.seed(42)  # 재현성을 위해 고정\n",
    "X = pd.DataFrame({\n",
    "    'feature1': np.random.rand(100),\n",
    "    'feature2': np.random.rand(100)\n",
    "})\n",
    "y = pd.Series(np.random.choice([0, 1], size=100))  # 0 또는 1 라벨"
   ]
  },
  {
   "cell_type": "markdown",
   "id": "FcwOfCW4cQai",
   "metadata": {
    "id": "FcwOfCW4cQai"
   },
   "source": [
    "데이터셋을 살펴보세요"
   ]
  },
  {
   "cell_type": "code",
   "execution_count": 19,
   "id": "VKnvQPHzb7US",
   "metadata": {
    "id": "VKnvQPHzb7US"
   },
   "outputs": [
    {
     "data": {
      "text/html": [
       "<div>\n",
       "<style scoped>\n",
       "    .dataframe tbody tr th:only-of-type {\n",
       "        vertical-align: middle;\n",
       "    }\n",
       "\n",
       "    .dataframe tbody tr th {\n",
       "        vertical-align: top;\n",
       "    }\n",
       "\n",
       "    .dataframe thead th {\n",
       "        text-align: right;\n",
       "    }\n",
       "</style>\n",
       "<table border=\"1\" class=\"dataframe\">\n",
       "  <thead>\n",
       "    <tr style=\"text-align: right;\">\n",
       "      <th></th>\n",
       "      <th>feature1</th>\n",
       "      <th>feature2</th>\n",
       "    </tr>\n",
       "  </thead>\n",
       "  <tbody>\n",
       "    <tr>\n",
       "      <th>0</th>\n",
       "      <td>0.374540</td>\n",
       "      <td>0.031429</td>\n",
       "    </tr>\n",
       "    <tr>\n",
       "      <th>1</th>\n",
       "      <td>0.950714</td>\n",
       "      <td>0.636410</td>\n",
       "    </tr>\n",
       "    <tr>\n",
       "      <th>2</th>\n",
       "      <td>0.731994</td>\n",
       "      <td>0.314356</td>\n",
       "    </tr>\n",
       "    <tr>\n",
       "      <th>3</th>\n",
       "      <td>0.598658</td>\n",
       "      <td>0.508571</td>\n",
       "    </tr>\n",
       "    <tr>\n",
       "      <th>4</th>\n",
       "      <td>0.156019</td>\n",
       "      <td>0.907566</td>\n",
       "    </tr>\n",
       "  </tbody>\n",
       "</table>\n",
       "</div>"
      ],
      "text/plain": [
       "   feature1  feature2\n",
       "0  0.374540  0.031429\n",
       "1  0.950714  0.636410\n",
       "2  0.731994  0.314356\n",
       "3  0.598658  0.508571\n",
       "4  0.156019  0.907566"
      ]
     },
     "metadata": {},
     "output_type": "display_data"
    },
    {
     "data": {
      "text/plain": [
       "0    1\n",
       "1    1\n",
       "2    0\n",
       "3    0\n",
       "4    1\n",
       "dtype: int64"
      ]
     },
     "metadata": {},
     "output_type": "display_data"
    }
   ],
   "source": [
    "# 여기에 코드를 작성하세요!-\n",
    "\n",
    "display(X.head())\n",
    "\n",
    "display(y.head())"
   ]
  },
  {
   "cell_type": "code",
   "execution_count": 20,
   "id": "8da226a7",
   "metadata": {
    "id": "8da226a7"
   },
   "outputs": [
    {
     "name": "stdout",
     "output_type": "stream",
     "text": [
      " X 데이터 샘플:\n"
     ]
    },
    {
     "data": {
      "text/html": [
       "<div>\n",
       "<style scoped>\n",
       "    .dataframe tbody tr th:only-of-type {\n",
       "        vertical-align: middle;\n",
       "    }\n",
       "\n",
       "    .dataframe tbody tr th {\n",
       "        vertical-align: top;\n",
       "    }\n",
       "\n",
       "    .dataframe thead th {\n",
       "        text-align: right;\n",
       "    }\n",
       "</style>\n",
       "<table border=\"1\" class=\"dataframe\">\n",
       "  <thead>\n",
       "    <tr style=\"text-align: right;\">\n",
       "      <th></th>\n",
       "      <th>feature1</th>\n",
       "      <th>feature2</th>\n",
       "    </tr>\n",
       "  </thead>\n",
       "  <tbody>\n",
       "    <tr>\n",
       "      <th>0</th>\n",
       "      <td>0.374540</td>\n",
       "      <td>0.031429</td>\n",
       "    </tr>\n",
       "    <tr>\n",
       "      <th>1</th>\n",
       "      <td>0.950714</td>\n",
       "      <td>0.636410</td>\n",
       "    </tr>\n",
       "    <tr>\n",
       "      <th>2</th>\n",
       "      <td>0.731994</td>\n",
       "      <td>0.314356</td>\n",
       "    </tr>\n",
       "    <tr>\n",
       "      <th>3</th>\n",
       "      <td>0.598658</td>\n",
       "      <td>0.508571</td>\n",
       "    </tr>\n",
       "    <tr>\n",
       "      <th>4</th>\n",
       "      <td>0.156019</td>\n",
       "      <td>0.907566</td>\n",
       "    </tr>\n",
       "  </tbody>\n",
       "</table>\n",
       "</div>"
      ],
      "text/plain": [
       "   feature1  feature2\n",
       "0  0.374540  0.031429\n",
       "1  0.950714  0.636410\n",
       "2  0.731994  0.314356\n",
       "3  0.598658  0.508571\n",
       "4  0.156019  0.907566"
      ]
     },
     "metadata": {},
     "output_type": "display_data"
    },
    {
     "name": "stdout",
     "output_type": "stream",
     "text": [
      " y 라벨 샘플:\n"
     ]
    },
    {
     "data": {
      "text/plain": [
       "0    1\n",
       "1    1\n",
       "2    0\n",
       "3    0\n",
       "4    1\n",
       "dtype: int64"
      ]
     },
     "metadata": {},
     "output_type": "display_data"
    }
   ],
   "source": [
    "## 모범답안\n",
    "\n",
    "\n",
    "# 데이터 확인\n",
    "print(\" X 데이터 샘플:\")\n",
    "display(X.head())\n",
    "\n",
    "print(\" y 라벨 샘플:\")\n",
    "display(y.head())\n"
   ]
  },
  {
   "cell_type": "markdown",
   "id": "40821f12",
   "metadata": {
    "id": "40821f12"
   },
   "source": [
    "\n",
    "## 2.  기본적인 train_test_split 사용법\n",
    "\n",
    "`train_test_split`을 사용해 데이터를 학습용(train)과 테스트용(test)으로 나눠보겠습니다.\n",
    "\n",
    "- `test_size`: 테스트 데이터 비율 (예: 0.2 → 20%)\n",
    "- `random_state`: 데이터를 무작위로 섞을 때 결과를 매번 동일하게 만들기 위한 숫자 설정값 ( 고유번호)\n",
    "\n",
    "sklearn.model_selection.train_test_split(*arrays, test_size=None, train_size=None, random_state=None, shuffle=True, stratify=None)[source]\n",
    "\n",
    "-`*arrays(필수)` : X, y\n",
    "- `test_size`: 테스트 비율\n",
    "- `random_state`: 랜덤 고유번호 (랜덤시드 32비트내에서, 0 ~ 2^32 - 1)\n",
    "- `shuffle`: 섞기\n",
    "- `stratify`: 데이터 비율의 균형\n",
    "\n",
    "\n"
   ]
  },
  {
   "cell_type": "code",
   "execution_count": 21,
   "id": "3qQvOohSb9M4",
   "metadata": {
    "id": "3qQvOohSb9M4"
   },
   "outputs": [
    {
     "name": "stdout",
     "output_type": "stream",
     "text": [
      "(80, 2)\n",
      "(20, 2)\n",
      "(80,)\n",
      "(20,)\n"
     ]
    }
   ],
   "source": [
    "# 여기에 코드를 작성하세요!\n",
    "# 각기 다른 변수에 담을 때는 X_train, X_test, y_train, y_test 순서로 나누기\n",
    "X_train, X_test, y_train, y_test = train_test_split(X, y, test_size=0.2, random_state=1111)\n",
    "\n",
    "# x, y 가 100개씩\n",
    "print(f\"{X_train.shape}\\n{X_test.shape}\\n{y_train.shape}\\n{y_test.shape}\")\n",
    "\n"
   ]
  },
  {
   "cell_type": "code",
   "execution_count": 22,
   "id": "2c02bf03",
   "metadata": {},
   "outputs": [
    {
     "data": {
      "text/plain": [
       "1    55\n",
       "0    45\n",
       "Name: count, dtype: int64"
      ]
     },
     "execution_count": 22,
     "metadata": {},
     "output_type": "execute_result"
    }
   ],
   "source": [
    "y.value_counts()"
   ]
  },
  {
   "cell_type": "code",
   "execution_count": 23,
   "id": "94dd93d8",
   "metadata": {
    "id": "94dd93d8"
   },
   "outputs": [
    {
     "name": "stdout",
     "output_type": "stream",
     "text": [
      " X_train shape: (80, 2)\n",
      " X_test shape: (20, 2)\n",
      " y_train label 분포:\n",
      "1    46\n",
      "0    34\n",
      "Name: count, dtype: int64\n",
      " y_test label 분포:\n",
      "0    11\n",
      "1     9\n",
      "Name: count, dtype: int64\n"
     ]
    }
   ],
   "source": [
    "## 모범답안\n",
    "\n",
    "\n",
    "# 기본적인 분할\n",
    "X_train, X_test, y_train, y_test = train_test_split(\n",
    "    X, y, test_size=0.2, random_state=1234\n",
    ")\n",
    "\n",
    "# 분할 결과 확인\n",
    "print(f\" X_train shape: {X_train.shape}\")\n",
    "print(f\" X_test shape: {X_test.shape}\")\n",
    "print(f\" y_train label 분포:\\n{y_train.value_counts()}\")\n",
    "print(f\" y_test label 분포:\\n{y_test.value_counts()}\")\n"
   ]
  },
  {
   "cell_type": "markdown",
   "id": "77bb3dfb",
   "metadata": {
    "id": "77bb3dfb"
   },
   "source": [
    "\n",
    "### 문제\n",
    "##### X, y 데이터를 학습 시킬 때 , 학습 70%, 테스트 30% 로 나누어 학습시키려고 합니다. 코드를 작성해보세요. 라이브러리를 불러오는 것부터 시작하세요 (데이터 분할 고유번호는 2025 입니다)"
   ]
  },
  {
   "cell_type": "code",
   "execution_count": 27,
   "id": "8e0ef208",
   "metadata": {
    "id": "8e0ef208"
   },
   "outputs": [
    {
     "name": "stdout",
     "output_type": "stream",
     "text": [
      "(70, 2)\n",
      "(30, 2)\n",
      "(70,)\n",
      "(30,)\n"
     ]
    }
   ],
   "source": [
    "# 여기에 코드를 작성하세요\n",
    "from sklearn.model_selection import train_test_split\n",
    "\n",
    "X_train, X_test, y_train, y_test = train_test_split(X, y, test_size= 0.3, random_state=2025)\n",
    "\n",
    "print(f\"{X_train.shape}\\n{X_test.shape}\\n{y_train.shape}\\n{y_test.shape}\")"
   ]
  },
  {
   "cell_type": "code",
   "execution_count": 25,
   "id": "itRmqFmxyEJI",
   "metadata": {
    "id": "itRmqFmxyEJI"
   },
   "outputs": [],
   "source": [
    "## 모범답안\n",
    "\n",
    "X_train, X_test, y_train, y_test = train_test_split(X, y, test_size=0.3, random_state=2025)"
   ]
  },
  {
   "cell_type": "markdown",
   "id": "dbd5b6e1",
   "metadata": {
    "id": "dbd5b6e1"
   },
   "source": [
    "\n",
    "## 3.  정리\n",
    "\n",
    "- `train_test_split`은 머신러닝 실습에서 가장 기초적이면서 중요한 함수입니다.\n",
    "- 테스트 데이터는 반드시 훈련에 사용되지 않아야 하며, 모델 평가를 위해 **보존**해야 합니다.\n",
    "- 일반적인 분할 비율은 8:2 또는 7:3입니다.\n"
   ]
  }
 ],
 "metadata": {
  "colab": {
   "provenance": []
  },
  "kernelspec": {
   "display_name": "tensor",
   "language": "python",
   "name": "python3"
  },
  "language_info": {
   "codemirror_mode": {
    "name": "ipython",
    "version": 3
   },
   "file_extension": ".py",
   "mimetype": "text/x-python",
   "name": "python",
   "nbconvert_exporter": "python",
   "pygments_lexer": "ipython3",
   "version": "3.13.2"
  }
 },
 "nbformat": 4,
 "nbformat_minor": 5
}
