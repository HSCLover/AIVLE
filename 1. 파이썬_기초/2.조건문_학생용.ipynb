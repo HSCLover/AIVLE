{
 "cells": [
  {
   "cell_type": "markdown",
   "id": "22222a61",
   "metadata": {
    "id": "22222a61"
   },
   "source": [
    "\n",
    "# 🐍 파이썬 기초: 조건문 (if 문)\n",
    "\n",
    "## 1. 개요\n",
    "조건문은 프로그램이 특정 조건을 만족할 때만 실행되는 코드 블록을 정의하는 데 사용됩니다.  \n",
    "`if`, `elif`, `else` 키워드를 활용하여 조건을 설정할 수 있습니다.\n",
    "\n",
    "---\n",
    "\n",
    "## 2. 실습 목표\n",
    "- `if` 문을 사용하여 조건에 따라 다른 코드가 실행되는 방법을 이해한다.\n",
    "- `elif`, `else` 문을 활용하여 여러 조건을 처리하는 방법을 익힌다.\n",
    "- 논리 연산자 (`and`, `or`, `not`)를 활용하여 복합 조건을 구현한다.\n",
    "- 다양한 조건문 예제를 연습하여 실무에서 활용할 수 있도록 한다.\n"
   ]
  },
  {
   "cell_type": "markdown",
   "id": "95046245",
   "metadata": {
    "id": "95046245"
   },
   "source": [
    "\n",
    "## 3. if 문 개념과 사용법\n",
    "\n",
    "`if` 문은 특정 조건이 참(`True`)일 때 코드 블록을 실행합니다.  \n",
    "조건이 거짓(`False`)이면 실행되지 않습니다.\n",
    "\n",
    "### 3.1 기본적인 `if` 문 사용법\n"
   ]
  },
  {
   "cell_type": "code",
   "execution_count": null,
   "id": "aaeb3098",
   "metadata": {
    "id": "aaeb3098"
   },
   "outputs": [
    {
     "name": "stdout",
     "output_type": "stream",
     "text": [
      "성인입니다.\n"
     ]
    }
   ],
   "source": [
    "\n",
    "# if 문 기본 예제\n",
    "age = int(input(\"나이를 입력하세요: \"))\n",
    "\n",
    "if age >= 18:\n",
    "    print(\"성인입니다.\")\n"
   ]
  },
  {
   "cell_type": "markdown",
   "id": "499bbe92",
   "metadata": {
    "id": "499bbe92"
   },
   "source": [
    "\n",
    "### 3.2 `if-else` 문\n",
    "\n",
    "조건이 참일 때와 거짓일 때 실행할 코드 블록을 설정할 수 있습니다.\n"
   ]
  },
  {
   "cell_type": "code",
   "execution_count": 6,
   "id": "c6a05e58",
   "metadata": {
    "id": "c6a05e58"
   },
   "outputs": [
    {
     "name": "stdout",
     "output_type": "stream",
     "text": [
      "입력값 : 58\n",
      "짝수입니다.\n"
     ]
    }
   ],
   "source": [
    "\n",
    "# if-else 문 예제\n",
    "number = int(input(\"숫자를 입력하세요: \"))\n",
    "print(\"입력값 :\",number)\n",
    "\n",
    "if number % 2 == 0:\n",
    "    print(\"짝수입니다.\")\n",
    "else:\n",
    "    print(\"홀수입니다.\")\n"
   ]
  },
  {
   "cell_type": "markdown",
   "id": "924ba594",
   "metadata": {
    "id": "924ba594"
   },
   "source": [
    "\n",
    "### 3.3 `if-elif-else` 문\n",
    "\n",
    "여러 개의 조건을 순차적으로 검사할 때 `elif` 키워드를 사용할 수 있습니다.\n"
   ]
  },
  {
   "cell_type": "code",
   "execution_count": 7,
   "id": "1db949d5",
   "metadata": {
    "id": "1db949d5"
   },
   "outputs": [
    {
     "name": "stdout",
     "output_type": "stream",
     "text": [
      "B 학점입니다.\n"
     ]
    }
   ],
   "source": [
    "\n",
    "# if-elif-else 문 예제\n",
    "score = int(input(\"점수를 입력하세요: \"))\n",
    "\n",
    "if score >= 90:\n",
    "    print(\"A 학점입니다.\")\n",
    "elif score >= 80:\n",
    "    print(\"B 학점입니다.\")\n",
    "elif score >= 70:\n",
    "    print(\"C 학점입니다.\")\n",
    "else:\n",
    "    print(\"F 학점입니다.\")\n"
   ]
  },
  {
   "cell_type": "markdown",
   "id": "d03edd01",
   "metadata": {
    "id": "d03edd01"
   },
   "source": [
    "\n",
    "### 3.4 논리 연산자 (`and`, `or`, `not`)\n",
    "\n",
    "여러 조건을 조합하여 활용할 수 있습니다.\n"
   ]
  },
  {
   "cell_type": "code",
   "execution_count": 8,
   "id": "3177ceaf",
   "metadata": {
    "id": "3177ceaf"
   },
   "outputs": [
    {
     "name": "stdout",
     "output_type": "stream",
     "text": [
      "불쾌지수가 높습니다.\n"
     ]
    }
   ],
   "source": [
    "\n",
    "# 논리 연산자 사용 예제\n",
    "temperature = int(input(\"온도를 입력하세요: \"))\n",
    "humidity = int(input(\"습도를 입력하세요: \"))\n",
    "\n",
    "if temperature > 30 and humidity > 70:\n",
    "    print(\"더운 날씨입니다. 에어컨을 켜세요!\")\n",
    "elif temperature > 30 or humidity > 70:\n",
    "    print(\"불쾌지수가 높습니다.\")\n",
    "else:\n",
    "    print(\"쾌적한 날씨입니다.\")\n"
   ]
  },
  {
   "cell_type": "markdown",
   "id": "ae87535a",
   "metadata": {
    "id": "ae87535a"
   },
   "source": [
    "\n",
    "### 3.5 중첩 조건문\n",
    "\n",
    "조건문 안에 또 다른 조건문을 포함할 수 있습니다.\n"
   ]
  },
  {
   "cell_type": "code",
   "execution_count": 9,
   "id": "294a6e4f",
   "metadata": {
    "id": "294a6e4f"
   },
   "outputs": [
    {
     "name": "stdout",
     "output_type": "stream",
     "text": [
      "비밀번호에는 적어도 하나의 숫자가 포함되어야 합니다.\n"
     ]
    }
   ],
   "source": [
    "\n",
    "# 중첩 if 문 예제\n",
    "password = input(\"비밀번호를 입력하세요: \")\n",
    "\n",
    "if len(password) >= 8:\n",
    "    if any(char.isdigit() for char in password):\n",
    "        print(\"비밀번호 설정이 완료되었습니다.\")\n",
    "    else:\n",
    "        print(\"비밀번호에는 적어도 하나의 숫자가 포함되어야 합니다.\")\n",
    "else:\n",
    "    print(\"비밀번호는 최소 8자 이상이어야 합니다.\")\n"
   ]
  },
  {
   "cell_type": "markdown",
   "id": "387d4d54",
   "metadata": {
    "id": "387d4d54"
   },
   "source": [
    "\n",
    "## 4. ✨ 스스로 해결해보는 실습 문제 ✨\n",
    "\n",
    "아래 문제들을 직접 코드로 작성하여 실행해보세요!\n",
    "\n",
    "### 문제 1: 양수, 음수 판별  \n",
    " 사용자로부터 숫자를 입력받아 **양수**, **음수**, **0**인지 판별하는 코드를 작성하세요.\n",
    "\n"
   ]
  },
  {
   "cell_type": "code",
   "execution_count": null,
   "id": "244d2a3d",
   "metadata": {
    "id": "244d2a3d"
   },
   "outputs": [],
   "source": [
    "\n",
    "# 문제 1: 양수, 음수 판별\n",
    "num = int(input(\"숫자를 입력하세요: \"))\n",
    "if num > 0:\n",
    "    print(\"양수입니다.\")\n",
    "elif num < 0:\n",
    "    print(\"음수입니다.\")\n",
    "else:\n",
    "    print(\"0입니다.\")\n"
   ]
  },
  {
   "cell_type": "markdown",
   "id": "sywvFFlXY1JU",
   "metadata": {
    "id": "sywvFFlXY1JU"
   },
   "source": [
    "\n",
    "### 문제 2: 로그인 시스템  \n",
    "사용자에게 `아이디`와 `비밀번호`를 입력받고, 미리 저장된 값과 비교하여 **로그인 성공/실패**를 출력하는 코드를 작성하세요.\n"
   ]
  },
  {
   "cell_type": "code",
   "execution_count": null,
   "id": "8770ee21",
   "metadata": {
    "id": "8770ee21"
   },
   "outputs": [],
   "source": [
    "\n",
    "# 문제 2: 로그인 시스템\n",
    "stored_id = \"admin\"\n",
    "stored_pw = \"1234\"\n",
    "\n",
    "user_id = input(\"아이디를 입력하세요: \")\n",
    "user_pw = input(\"비밀번호를 입력하세요: \")\n",
    "\n",
    "if user_id == stored_id and user_pw == stored_pw:\n",
    "    print(\"로그인 성공!\")\n",
    "else:\n",
    "    print(\"로그인 실패!\")\n"
   ]
  },
  {
   "cell_type": "markdown",
   "id": "qEvUD4ONY_Zl",
   "metadata": {
    "id": "qEvUD4ONY_Zl"
   },
   "source": [
    "\n",
    "### 문제 3: 할인 혜택 적용  \n",
    " 사용자가 구매한 상품의 가격을 입력받아 **50,000원 이상이면 10% 할인**, **100,000원 이상이면 20% 할인**을 적용한 최종 가격을 출력하세요.\n",
    "\n"
   ]
  },
  {
   "cell_type": "code",
   "execution_count": null,
   "id": "9cc0789f",
   "metadata": {
    "id": "9cc0789f"
   },
   "outputs": [],
   "source": [
    "\n",
    "# 문제 3: 할인 혜택 적용\n",
    "price = int(input(\"물건의 가격을 입력하세요: \"))\n",
    "\n",
    "if  price >= 100000:\n",
    "    final_price = price * 0.8\n",
    "elif price >= 50000:\n",
    "    final_price = price * 0.85\n",
    "else:\n",
    "    fianl_price = price\n",
    "\n",
    "print(f\"최종 결제 금액: {final_price}원\")\n"
   ]
  },
  {
   "cell_type": "markdown",
   "id": "yOlxurTjZDAD",
   "metadata": {
    "id": "yOlxurTjZDAD"
   },
   "source": [
    "\n",
    "### 문제 4: 숫자 게임  \n",
    "사용자로부터 `1~10` 사이의 숫자를 입력받고, **정답(7)**을 맞추면 `\"정답입니다!\"`,  \n",
    "   오답이면 `\"다시 시도하세요!\"`를 출력하는 프로그램을 작성하세요."
   ]
  },
  {
   "cell_type": "code",
   "execution_count": null,
   "id": "b3cdb51c",
   "metadata": {
    "id": "b3cdb51c"
   },
   "outputs": [],
   "source": [
    "\n",
    "# 문제 4: 숫자 게임\n",
    "secret_number = 7\n",
    "user_guess = int(input(\"숫자를 맞춰보세요(1~10): \"))\n",
    "\n",
    "if user_guess == secret_number:\n",
    "    print(\"정답입니다!\")\n",
    "else:\n",
    "    print(\"다시 시도하세요!\")\n"
   ]
  },
  {
   "cell_type": "markdown",
   "id": "q8OZWX0gZHRZ",
   "metadata": {
    "id": "q8OZWX0gZHRZ"
   },
   "source": [
    "### 문제 5: 대화형 프로그램 만들기\n",
    "사용자로부터 \"어디가요?\"라는 질문을 입력받아 아래 조건에 따라 적절한 응답을 출력하는 프로그램을 작성하세요.\n",
    "\n",
    "1. 사용자의 입력이 \"편의점\"이면 \"올 때 메로나!\"를 출력한다.\n",
    "2. 사용자의 입력이 \"은행\"이면 다음과 같은 중첩 조건문을 사용하여 상황을 구분한다.\n",
    "   * 추가 질문으로 \"강도가 나타났다! 어떻게 할까요? (도망/신고)\"를 입력받는다.\n",
    "      * \"도망\"을 선택하면 \"안전한 곳으로 대피하세요!\"를 출력한다.\n",
    "      * \"신고\"를 선택하면 \"경찰에 신고했습니다!\"를 출력한다.\n",
    "3. 사용자의 입력이 \"카페\"이면 \"나도 갈래!\"를 출력한다."
   ]
  },
  {
   "cell_type": "code",
   "execution_count": null,
   "id": "WZJEHt7HZGJD",
   "metadata": {
    "id": "WZJEHt7HZGJD"
   },
   "outputs": [],
   "source": [
    "\n",
    " # 문제 5: 대화형 프로그램 만들기\n",
    "\n",
    "\n",
    "# 사용자 입력 받기\n",
    "destination = input(\"어디가요? (편의점/은행/카페)\")\n",
    "\n",
    "# 조건문으로 응답 처리\n",
    "if destination == \"편의점\":\n",
    "    print(\"올 때 메로나!\")\n",
    "elif destination == \"은행\":\n",
    "    # 은행에 도착했을 때 추가 질문\n",
    "    bank_select = input(\"강도가 나타났다! 어떻게 할까요? (도망/신고)\")\n",
    "    if bank_select == \"도망\":\n",
    "        print(\"안전한 곳으로 대피하세요!\")\n",
    "    elif bank_select == \"신고\":\n",
    "        print(\"경찰에 신고했습니다!\")\n",
    "\n",
    "elif destination == \"카페\":\n",
    "    print(\"나도 갈래!\")\n",
    "\n"
   ]
  }
 ],
 "metadata": {
  "colab": {
   "provenance": []
  },
  "kernelspec": {
   "display_name": "base",
   "language": "python",
   "name": "python3"
  },
  "language_info": {
   "codemirror_mode": {
    "name": "ipython",
    "version": 3
   },
   "file_extension": ".py",
   "mimetype": "text/x-python",
   "name": "python",
   "nbconvert_exporter": "python",
   "pygments_lexer": "ipython3",
   "version": "3.12.4"
  }
 },
 "nbformat": 4,
 "nbformat_minor": 5
}
