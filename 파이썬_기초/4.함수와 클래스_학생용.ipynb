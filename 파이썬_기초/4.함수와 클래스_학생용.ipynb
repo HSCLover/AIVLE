{
 "cells": [
  {
   "cell_type": "markdown",
   "id": "22e24475",
   "metadata": {
    "id": "22e24475"
   },
   "source": [
    "\n",
    "# 🐍 파이썬 기초: 함수와 클래스\n",
    "\n",
    "## 1. 개요\n",
    "프로그래밍에서 **함수**와 **클래스**는 코드의 재사용성과 유지보수성을 높이는 중요한 개념입니다.  \n",
    "파이썬에서는 내장 함수와 사용자 정의 함수를 사용할 수 있으며,  \n",
    "클래스를 활용하여 객체 지향 프로그래밍(OOP) 방식으로 코드를 작성할 수도 있습니다.  \n",
    "\n",
    "이 장에서는 **함수(`def`)**, **람다 함수(`lambda`)**, 그리고 **클래스(`class`)**를 배워봅니다.  \n",
    "\n",
    "---\n",
    "\n",
    "## 2. 실습 목표\n",
    "- 파이썬 내장 함수를 이해하고 활용할 수 있다.\n",
    "- `def` 키워드를 사용하여 사용자 정의 함수를 작성할 수 있다.\n",
    "- `lambda` 함수를 이해하고 간단한 함수를 한 줄로 작성할 수 있다.\n",
    "- `class` 키워드를 사용하여 클래스를 정의하고 객체를 생성할 수 있다.\n",
    "- 클래스의 **생성자(`__init__`)**, **메서드**, **상속**을 활용할 수 있다.\n"
   ]
  },
  {
   "cell_type": "markdown",
   "id": "b7468483",
   "metadata": {
    "id": "b7468483"
   },
   "source": [
    "\n",
    "## 3. 내장 함수 (Built-in Functions)\n",
    "\n",
    "파이썬은 기본적으로 제공하는 **내장 함수(Built-in Functions)**가 있습니다.  \n",
    "예를 들어, `print()`, `len()`, `sum()`, `max()`, `min()` 등이 있습니다.\n",
    "\n",
    "### 3.1 내장 함수 예제\n"
   ]
  },
  {
   "cell_type": "code",
   "execution_count": 1,
   "id": "92a5bb39",
   "metadata": {
    "id": "92a5bb39"
   },
   "outputs": [
    {
     "name": "stdout",
     "output_type": "stream",
     "text": [
      "리스트 길이: 5\n",
      "최대값: 50\n",
      "최소값: 10\n",
      "합계: 150\n"
     ]
    }
   ],
   "source": [
    "\n",
    "# 내장 함수 예제\n",
    "numbers = [10, 20, 30, 40, 50]\n",
    "\n",
    "print(\"리스트 길이:\", len(numbers))\n",
    "print(\"최대값:\", max(numbers))\n",
    "print(\"최소값:\", min(numbers))\n",
    "print(\"합계:\", sum(numbers))\n"
   ]
  },
  {
   "cell_type": "markdown",
   "id": "2642ca37",
   "metadata": {
    "id": "2642ca37"
   },
   "source": [
    "\n",
    "## 4. 사용자 정의 함수 (User-defined Functions)\n",
    "\n",
    "사용자는 `def` 키워드를 사용하여 원하는 기능을 수행하는 함수를 만들 수 있습니다.\n",
    "\n",
    "### 4.1 기본적인 함수 정의 및 호출\n"
   ]
  },
  {
   "cell_type": "code",
   "execution_count": null,
   "id": "ef6166f5",
   "metadata": {
    "id": "ef6166f5"
   },
   "outputs": [
    {
     "name": "stdout",
     "output_type": "stream",
     "text": [
      "안녕하세요, 철수님!\n"
     ]
    }
   ],
   "source": [
    "\n",
    "# 함수 정의 및 호출 예제\n",
    "def greet(name: str):\n",
    "    \"\"\"사용자에게 인사를 출력하는 함수\"\"\"\n",
    "    print(f\"안녕하세요, {name}님!\")\n",
    "\n",
    "greet(\"철수\")\n"
   ]
  },
  {
   "cell_type": "markdown",
   "id": "1596e2b5",
   "metadata": {
    "id": "1596e2b5"
   },
   "source": [
    "\n",
    "### 4.2 반환값이 있는 함수\n",
    "\n",
    "함수는 `return` 키워드를 사용하여 값을 반환할 수 있습니다.\n"
   ]
  },
  {
   "cell_type": "code",
   "execution_count": null,
   "id": "c8e3b186",
   "metadata": {
    "id": "c8e3b186"
   },
   "outputs": [
    {
     "name": "stdout",
     "output_type": "stream",
     "text": [
      "두 수의 합: 30\n"
     ]
    }
   ],
   "source": [
    "\n",
    "# 반환값이 있는 함수 예제\n",
    "def add(a, b):\n",
    "    return a + b\n",
    "\n",
    "result = add(10, 20)\n",
    "print(\"두 수의 합:\", result)\n"
   ]
  },
  {
   "cell_type": "markdown",
   "id": "d1d573ca",
   "metadata": {
    "id": "d1d573ca"
   },
   "source": [
    "\n",
    "## 5. 람다 함수 (Lambda Functions)\n",
    "\n",
    "`lambda` 키워드를 사용하면 **한 줄짜리 익명 함수**를 만들 수 있습니다.\n",
    "\n",
    "### 5.1 기본적인 람다 함수 예제\n"
   ]
  },
  {
   "cell_type": "code",
   "execution_count": 4,
   "id": "d6167293",
   "metadata": {
    "id": "d6167293"
   },
   "outputs": [
    {
     "name": "stdout",
     "output_type": "stream",
     "text": [
      "5의 제곱: 25\n",
      "10 + 20 = 30\n"
     ]
    }
   ],
   "source": [
    "\n",
    "# 람다 함수 예제\n",
    "square = lambda x: x ** 2\n",
    "print(\"5의 제곱:\", square(5))\n",
    "\n",
    "# 두 수를 더하는 람다 함수\n",
    "add = lambda a, b: a + b\n",
    "print(\"10 + 20 =\", add(10, 20))\n"
   ]
  },
  {
   "cell_type": "markdown",
   "id": "48948005",
   "metadata": {
    "id": "48948005"
   },
   "source": [
    "\n",
    "## 6. 클래스 (Class) 기초\n",
    "\n",
    "클래스는 **속성(Attributes)과 메서드(Methods)**를 가진 객체를 정의하는 데 사용됩니다.\n",
    "\n",
    "### 6.1 클래스 정의 및 객체 생성\n"
   ]
  },
  {
   "cell_type": "code",
   "execution_count": 5,
   "id": "869b066c",
   "metadata": {
    "id": "869b066c"
   },
   "outputs": [
    {
     "name": "stdout",
     "output_type": "stream",
     "text": [
      "안녕하세요, 제 이름은 영희이고, 나이는 25살입니다.\n"
     ]
    }
   ],
   "source": [
    "\n",
    "# 클래스 정의 및 객체 생성 예제\n",
    "class Person:\n",
    "    def __init__(self, name, age):\n",
    "        self.name = name\n",
    "        self.age = age\n",
    "\n",
    "    def introduce(self):\n",
    "        print(f\"안녕하세요, 제 이름은 {self.name}이고, 나이는 {self.age}살입니다.\")\n",
    "\n",
    "# 객체 생성\n",
    "p1 = Person(\"영희\", 25)\n",
    "p1.introduce()\n"
   ]
  },
  {
   "cell_type": "markdown",
   "id": "b1be8637",
   "metadata": {
    "id": "b1be8637"
   },
   "source": [
    "\n",
    "### 6.2 클래스 상속 (Inheritance)\n",
    "\n",
    "클래스를 **상속**하면 기존 클래스의 기능을 확장하여 사용할 수 있습니다.\n"
   ]
  },
  {
   "cell_type": "code",
   "execution_count": 6,
   "id": "cefdf600",
   "metadata": {
    "id": "cefdf600"
   },
   "outputs": [
    {
     "name": "stdout",
     "output_type": "stream",
     "text": [
      "안녕하세요, 제 이름은 철수이고, 나이는 20살입니다.\n",
      "철수 학생이 공부하고 있습니다.\n"
     ]
    }
   ],
   "source": [
    "\n",
    "# 클래스 상속 예제\n",
    "class Student(Person):\n",
    "    def __init__(self, name, age, student_id):\n",
    "        super().__init__(name, age)\n",
    "        self.student_id = student_id\n",
    "\n",
    "    def study(self):\n",
    "        print(f\"{self.name} 학생이 공부하고 있습니다.\")\n",
    "\n",
    "# 객체 생성 및 사용\n",
    "s1 = Student(\"철수\", 20, \"20231234\")\n",
    "s1.introduce()\n",
    "s1.study()\n"
   ]
  },
  {
   "cell_type": "markdown",
   "id": "30857436",
   "metadata": {
    "id": "30857436"
   },
   "source": [
    "\n",
    "## 7. ✨ 스스로 해결해보는 실습 문제 ✨\n",
    "\n",
    "아래 문제들을 직접 코드로 작성하여 실행해보세요!\n",
    "\n",
    "### 문제 1: 사용자 정의 함수  \n",
    "1. `multiply()`라는 함수를 정의하여 두 숫자의 곱을 반환하세요.\n",
    "\n"
   ]
  },
  {
   "cell_type": "code",
   "execution_count": 11,
   "id": "31bbaa94",
   "metadata": {
    "id": "31bbaa94"
   },
   "outputs": [
    {
     "name": "stdout",
     "output_type": "stream",
     "text": [
      "14\n"
     ]
    }
   ],
   "source": [
    "\n",
    "# 문제 1: 사용자 정의 함수\n",
    "def multiply(num1, num2):\n",
    "    return num1 * num2 # 두 수를 곱하는 함수\n",
    "\n",
    "result = multiply(2,7)\n",
    "\n",
    "print(f\"{result}\")\n"
   ]
  },
  {
   "cell_type": "markdown",
   "id": "PTgcGCSKcpCe",
   "metadata": {
    "id": "PTgcGCSKcpCe"
   },
   "source": [
    " ### 문제 2: 람다 함수  \n",
    "1. 람다 함수를 사용하여 주어진 리스트의 제곱값을 계산하는 함수를 작성하세요.\n",
    "\n",
    "\n"
   ]
  },
  {
   "cell_type": "code",
   "execution_count": 16,
   "id": "96fe1bd5",
   "metadata": {
    "id": "96fe1bd5"
   },
   "outputs": [
    {
     "name": "stdout",
     "output_type": "stream",
     "text": [
      "제곱 : [1, 4, 9, 16, 25]\n"
     ]
    }
   ],
   "source": [
    "\n",
    "# 문제 2: 람다 함수\n",
    "numbers = [1, 2, 3, 4, 5]\n",
    "squared_numbers = list(map(lambda x: x ** 2, numbers)) # 각 숫자의 제곱을 계산하는 람다 함수\n",
    "\n",
    "print(f\"제곱 : {squared_numbers}\")"
   ]
  },
  {
   "cell_type": "markdown",
   "id": "vHbidJp9crT6",
   "metadata": {
    "id": "vHbidJp9crT6"
   },
   "source": [
    "### 문제 3: 클래스 생성  \n",
    "1. `Car` 클래스를 정의하여 `브랜드`, `모델`, `연식` 속성을 가지고, 자동차 정보를 출력하는 메서드를 만드세요."
   ]
  },
  {
   "cell_type": "code",
   "execution_count": null,
   "id": "e8a3ab6f",
   "metadata": {
    "id": "e8a3ab6f"
   },
   "outputs": [],
   "source": [
    "\n",
    "# 문제 3: 클래스 생성\n",
    "class Car:\n",
    "    def __init__(self, brand, model, year):\n",
    "        self.brand = brand\n",
    "        self.model = model\n",
    "        self.year = year    \n",
    "    def information(self):\n",
    "        return f\"{self.brand} {self.model} {self.year}년식식\"\n",
    "        \n",
    "\n",
    "\n"
   ]
  }
 ],
 "metadata": {
  "colab": {
   "provenance": []
  },
  "kernelspec": {
   "display_name": "base",
   "language": "python",
   "name": "python3"
  },
  "language_info": {
   "codemirror_mode": {
    "name": "ipython",
    "version": 3
   },
   "file_extension": ".py",
   "mimetype": "text/x-python",
   "name": "python",
   "nbconvert_exporter": "python",
   "pygments_lexer": "ipython3",
   "version": "3.12.4"
  }
 },
 "nbformat": 4,
 "nbformat_minor": 5
}
