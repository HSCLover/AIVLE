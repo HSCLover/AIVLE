{
 "cells": [
  {
   "cell_type": "markdown",
   "id": "a56f9c64",
   "metadata": {
    "id": "a56f9c64"
   },
   "source": [
    "\n",
    "# 🐍 파이썬 기초: 반복문 (for문, while문)\n",
    "\n",
    "## 1. 개요\n",
    "반복문은 동일한 코드 블록을 여러 번 실행할 때 사용됩니다.  \n",
    "파이썬에서는 `for` 문과 `while` 문을 사용하여 반복 처리를 수행할 수 있습니다.  \n",
    "\n",
    "- **`for` 문**: 미리 정해진 횟수만큼 반복할 때 사용  \n",
    "- **`while` 문**: 특정 조건이 참(`True`)인 동안 반복할 때 사용  \n",
    "\n",
    "---\n",
    "\n",
    "## 2. 실습 목표\n",
    "- `for` 문과 `while` 문을 사용하여 반복문을 작성할 수 있다.\n",
    "- `range()`, `enumerate()`, `zip()` 등을 활용한 반복문을 작성할 수 있다.\n",
    "- `break`, `continue` 키워드를 활용하여 반복문 흐름을 제어할 수 있다.\n",
    "- 파일 읽기/쓰기 작업을 반복문과 함께 사용할 수 있다.\n"
   ]
  },
  {
   "cell_type": "markdown",
   "id": "0eef13db",
   "metadata": {
    "id": "0eef13db"
   },
   "source": [
    "\n",
    "## 3. for 문 개념과 사용법\n",
    "\n",
    "`for` 문은 **반복 횟수가 정해진 경우** 사용됩니다.  \n",
    "시퀀스 자료형은 반복 횟수가 정해져 있습니다.\n",
    "주로 `range()`, 리스트, 튜플, 딕셔너리 등의 반복 가능한 객체에서 요소를 하나씩 가져오며 실행됩니다.\n",
    "\n",
    "### 3.1 기본적인 `for` 문 사용법\n"
   ]
  },
  {
   "cell_type": "code",
   "execution_count": 3,
   "id": "4d082090",
   "metadata": {
    "id": "4d082090"
   },
   "outputs": [
    {
     "name": "stdout",
     "output_type": "stream",
     "text": [
      "[1, 2, 3, 4, 5]\n",
      "[0, 1, 2, 3, 4, 5, 6, 7, 8, 9]\n",
      "[1, 3, 5, 7, 9]\n"
     ]
    }
   ],
   "source": [
    "# range 함수\n",
    "\"\"\"\n",
    "range 함수 : 정해진 범위와 간격에 따라 숫자 시퀀스를 생성하는 함수\n",
    "range(이상, 미만, 간격)\n",
    "range(숫자a) : 0이상 숫자a 미만의 1간격 정수 배열 생성\n",
    "\"\"\"\n",
    "print(list(range(1, 6)))\n",
    "print(list(range(10)))\n",
    "print(list(range(1, 10, 2)))"
   ]
  },
  {
   "cell_type": "code",
   "execution_count": 2,
   "id": "8632ac5a",
   "metadata": {
    "id": "8632ac5a"
   },
   "outputs": [
    {
     "name": "stdout",
     "output_type": "stream",
     "text": [
      "1\n",
      "2\n",
      "3\n",
      "4\n",
      "5\n"
     ]
    }
   ],
   "source": [
    "\n",
    "# 1부터 5까지 출력하는 for 문\n",
    "for i in range(1, 6):\n",
    "    print(i)\n"
   ]
  },
  {
   "cell_type": "markdown",
   "id": "d7ec69e5",
   "metadata": {
    "id": "d7ec69e5"
   },
   "source": [
    "\n",
    "### 3.2 리스트를 활용한 `for` 문\n"
   ]
  },
  {
   "cell_type": "code",
   "execution_count": 4,
   "id": "d496bcfc",
   "metadata": {
    "id": "d496bcfc"
   },
   "outputs": [
    {
     "name": "stdout",
     "output_type": "stream",
     "text": [
      "사과\n",
      "바나나\n",
      "포도\n",
      "오렌지\n"
     ]
    }
   ],
   "source": [
    "\n",
    "# 리스트의 요소를 하나씩 출력\n",
    "fruits = [\"사과\", \"바나나\", \"포도\", \"오렌지\"]\n",
    "for fruit in fruits:\n",
    "    print(fruit)\n"
   ]
  },
  {
   "cell_type": "markdown",
   "id": "c824ed65",
   "metadata": {
    "id": "c824ed65"
   },
   "source": [
    "\n",
    "### 3.3 `enumerate()` 를 활용한 `for` 문\n",
    "\n",
    "리스트의 **인덱스와 값**을 함께 가져올 때 사용합니다.\n"
   ]
  },
  {
   "cell_type": "code",
   "execution_count": 6,
   "id": "8c97702b",
   "metadata": {
    "id": "8c97702b"
   },
   "outputs": [
    {
     "name": "stdout",
     "output_type": "stream",
     "text": [
      "1번째 과일: 사과\n",
      "2번째 과일: 바나나\n",
      "3번째 과일: 포도\n",
      "4번째 과일: 오렌지\n"
     ]
    }
   ],
   "source": [
    "\n",
    "# enumerate() 활용 예제\n",
    "for index, fruit in enumerate(fruits):\n",
    "    print(f\"{index + 1}번째 과일: {fruit}\")\n"
   ]
  },
  {
   "cell_type": "markdown",
   "id": "1d5db7ea",
   "metadata": {
    "id": "1d5db7ea"
   },
   "source": [
    "### 3.4 문자열을 활용한 `for` 문\n"
   ]
  },
  {
   "cell_type": "code",
   "execution_count": null,
   "id": "97c7a712",
   "metadata": {
    "id": "97c7a712"
   },
   "outputs": [
    {
     "name": "stdout",
     "output_type": "stream",
     "text": [
      "p\n",
      "y\n",
      "t\n",
      "h\n",
      "o\n",
      "n\n"
     ]
    }
   ],
   "source": [
    "# 문자열도 시퀀스 자료형이다 : 문자열의 한글자씩 출력\n",
    "word = 'python'\n",
    "for i in word:\n",
    "    print(i)"
   ]
  },
  {
   "cell_type": "markdown",
   "id": "1f3da293",
   "metadata": {
    "id": "1f3da293"
   },
   "source": [
    "\n",
    "## 4. while 문 개념과 사용법\n",
    "\n",
    "`while` 문은 **특정 조건이 참인 동안** 계속 반복됩니다.  \n",
    "사용자의 입력을 받을 때나, 반복 횟수를 미리 정할 수 없을 때 유용합니다.\n",
    "\n",
    "### 4.1 기본적인 `while` 문 사용법\n"
   ]
  },
  {
   "cell_type": "code",
   "execution_count": null,
   "id": "d03f79f1",
   "metadata": {
    "id": "d03f79f1"
   },
   "outputs": [
    {
     "name": "stdout",
     "output_type": "stream",
     "text": [
      "1\n",
      "2\n",
      "3\n",
      "4\n",
      "5\n"
     ]
    }
   ],
   "source": [
    "\n",
    "# while 문 예제: 1부터 5까지 출력\n",
    "num = 1\n",
    "while num <= 5:\n",
    "    print(num)\n",
    "    num += 1  # num을 1씩 증가\n"
   ]
  },
  {
   "cell_type": "markdown",
   "id": "52f95d57",
   "metadata": {
    "id": "52f95d57"
   },
   "source": [
    "\n",
    "### 4.2 사용자 입력을 활용한 `while` 문\n",
    "\n",
    "사용자가 `exit`을 입력할 때까지 계속 입력을 받는 프로그램을 만들 수 있습니다.\n"
   ]
  },
  {
   "cell_type": "code",
   "execution_count": 9,
   "id": "52f69308",
   "metadata": {
    "id": "52f69308"
   },
   "outputs": [
    {
     "name": "stdout",
     "output_type": "stream",
     "text": [
      "입력한 내용: test\n",
      "입력한 내용: test\n",
      "프로그램을 종료합니다.\n"
     ]
    }
   ],
   "source": [
    "\n",
    "# while 문을 사용한 사용자 입력 예제\n",
    "while True:\n",
    "    text = input(\"입력하세요 (종료하려면 'exit' 입력): \")\n",
    "    if text == \"exit\":\n",
    "        print(\"프로그램을 종료합니다.\")\n",
    "        break\n",
    "    print(f\"입력한 내용: {text}\")\n"
   ]
  },
  {
   "cell_type": "markdown",
   "id": "34cebaf6",
   "metadata": {
    "id": "34cebaf6"
   },
   "source": [
    "\n",
    "## 5. 반복문 흐름 제어 (`break`, `continue`)\n",
    "\n",
    "- **`break`**: 반복문을 즉시 종료합니다.  \n",
    "- **`continue`**: 현재 반복을 건너뛰고 다음 반복을 수행합니다.\n"
   ]
  },
  {
   "cell_type": "code",
   "execution_count": 10,
   "id": "e9637a5f",
   "metadata": {
    "id": "e9637a5f"
   },
   "outputs": [
    {
     "name": "stdout",
     "output_type": "stream",
     "text": [
      "1\n",
      "2\n",
      "3\n",
      "4\n",
      "---\n",
      "1\n",
      "2\n",
      "3\n",
      "4\n",
      "6\n",
      "7\n",
      "8\n",
      "9\n",
      "10\n"
     ]
    }
   ],
   "source": [
    "\n",
    "# break 예제: 1부터 10까지 출력하다가 5에서 멈추기\n",
    "for i in range(1, 11):\n",
    "    if i == 5:\n",
    "        break\n",
    "    print(i)\n",
    "\n",
    "print(\"---\")\n",
    "\n",
    "# continue 예제: 1부터 10까지 출력하되, 5는 건너뛰기\n",
    "for i in range(1, 11):\n",
    "    if i == 5:\n",
    "        continue\n",
    "    print(i)\n"
   ]
  },
  {
   "cell_type": "markdown",
   "id": "bf12acb1",
   "metadata": {
    "id": "bf12acb1"
   },
   "source": [
    "\n",
    "## 6. 파일 읽기 및 쓰기\n",
    "\n",
    "반복문을 사용하면 파일의 여러 줄을 읽거나, 여러 줄을 작성하는 작업을 쉽게 처리할 수 있습니다.\n",
    "\n",
    "### 6.1 파일 쓰기 (`write`)\n"
   ]
  },
  {
   "cell_type": "code",
   "execution_count": 11,
   "id": "2fc65f7d",
   "metadata": {
    "id": "2fc65f7d"
   },
   "outputs": [],
   "source": [
    "\n",
    "# 파일 쓰기 예제\n",
    "with open(\"sample.txt\", \"w\", encoding=\"utf-8\") as file:\n",
    "    for i in range(1, 6):\n",
    "        file.write(f\"이것은 {i}번째 줄입니다.\\n\")\n"
   ]
  },
  {
   "cell_type": "markdown",
   "id": "be92d7f6",
   "metadata": {
    "id": "be92d7f6"
   },
   "source": [
    "\n",
    "### 6.2 파일 읽기 (`readlines()`)\n"
   ]
  },
  {
   "cell_type": "code",
   "execution_count": 12,
   "id": "6e848670",
   "metadata": {
    "id": "6e848670"
   },
   "outputs": [
    {
     "name": "stdout",
     "output_type": "stream",
     "text": [
      "이것은 1번째 줄입니다.\n",
      "이것은 2번째 줄입니다.\n",
      "이것은 3번째 줄입니다.\n",
      "이것은 4번째 줄입니다.\n",
      "이것은 5번째 줄입니다.\n"
     ]
    }
   ],
   "source": [
    "\n",
    "# 파일 읽기 예제\n",
    "with open(\"sample.txt\", \"r\", encoding=\"utf-8\") as file:\n",
    "    lines = file.readlines()\n",
    "    for line in lines:\n",
    "        print(line.strip())\n"
   ]
  },
  {
   "cell_type": "markdown",
   "id": "7ea0a37e",
   "metadata": {
    "id": "7ea0a37e"
   },
   "source": [
    "\n",
    "## 7. ✨ 스스로 해결해보는 실습 문제 ✨\n",
    "\n",
    "아래 문제들을 직접 코드로 작성하여 실행해보세요!\n",
    "\n",
    "### 문제 1: 숫자 출력  \n",
    "1. `for` 문을 사용하여 1부터 10까지의 숫자를 출력하세요.  \n",
    "2. `while` 문을 사용하여 1부터 10까지의 숫자를 출력하세요.  \n",
    "\n",
    "  \n"
   ]
  },
  {
   "cell_type": "code",
   "execution_count": 19,
   "id": "0a665298",
   "metadata": {
    "id": "0a665298"
   },
   "outputs": [
    {
     "name": "stdout",
     "output_type": "stream",
     "text": [
      "for\n",
      "1\n",
      "2\n",
      "3\n",
      "4\n",
      "5\n",
      "6\n",
      "7\n",
      "8\n",
      "9\n",
      "10\n",
      "while\n",
      "1\n",
      "2\n",
      "3\n",
      "4\n",
      "5\n",
      "6\n",
      "7\n",
      "8\n",
      "9\n",
      "10\n"
     ]
    }
   ],
   "source": [
    "# 문제 1\n",
    "\n",
    "\n",
    "print(\"for\")\n",
    "# for 문을 사용한 숫자 출력\n",
    "for i in range(1, 11):\n",
    "    print(i)\n",
    "\n",
    "\n",
    "print(\"while\")\n",
    "# while 문을 사용한 숫자 출력\n",
    "j = 1\n",
    "while j <= 10:\n",
    "    print(j)\n",
    "    j += 1\n"
   ]
  },
  {
   "cell_type": "markdown",
   "id": "dbYN-PU7cDLq",
   "metadata": {
    "id": "dbYN-PU7cDLq"
   },
   "source": [
    "### 문제 2: 리스트 요소 출력  \n",
    "1. 리스트 `[\"Python\", \"Java\", \"C++\", \"JavaScript\"]`의 요소를 `for` 문을 사용하여 출력하세요.  \n",
    "\n"
   ]
  },
  {
   "cell_type": "code",
   "execution_count": 20,
   "id": "288bf467",
   "metadata": {
    "id": "288bf467"
   },
   "outputs": [
    {
     "name": "stdout",
     "output_type": "stream",
     "text": [
      "Python\n",
      "Java\n",
      "C++\n",
      "JavaScript\n"
     ]
    }
   ],
   "source": [
    "# 문제 2\n",
    "\n",
    "\n",
    "# 리스트 요소 출력\n",
    "languages = [\"Python\", \"Java\", \"C++\", \"JavaScript\"]\n",
    "\n",
    "for language in languages:\n",
    "    print(language)"
   ]
  },
  {
   "cell_type": "markdown",
   "id": "Cc3cJVEhcFBt",
   "metadata": {
    "id": "Cc3cJVEhcFBt"
   },
   "source": [
    "### 문제 3: 홀수만 출력  \n",
    "1. `for` 문을 사용하여 1부터 20까지의 숫자 중 홀수만 출력하세요.  \n",
    "2. `while` 문을 사용하여 1부터 20까지의 숫자 중 홀수만 출력하세요.  \n",
    "\n"
   ]
  },
  {
   "cell_type": "code",
   "execution_count": null,
   "id": "ffd985c4",
   "metadata": {
    "id": "ffd985c4"
   },
   "outputs": [
    {
     "name": "stdout",
     "output_type": "stream",
     "text": [
      "1\n",
      "3\n",
      "5\n",
      "7\n",
      "9\n",
      "11\n",
      "13\n",
      "15\n",
      "17\n",
      "19\n",
      "1\n",
      "3\n",
      "5\n",
      "7\n",
      "9\n",
      "11\n",
      "13\n",
      "15\n",
      "17\n",
      "19\n"
     ]
    }
   ],
   "source": [
    "# 문제 3\n",
    "\n",
    "\n",
    "# for 문을 사용한 홀수 출력\n",
    "for i in range(1,21,2):  # 1부터 20까지 2씩 증가\n",
    "    print(i)\n",
    "\n",
    "\n",
    "# while 문을 사용한 홀수 출력\n",
    "num = 1\n",
    "while num <= 20:\n",
    "    print(num)\n",
    "    num += 2\n"
   ]
  },
  {
   "cell_type": "markdown",
   "id": "yZYV7hVVcHMj",
   "metadata": {
    "id": "yZYV7hVVcHMj"
   },
   "source": [
    "### 문제 4: 구구단 출력  \n",
    "1. 사용자로부터 숫자를 입력받아 해당 숫자의 **구구단**을 출력하는 `for` 문을 작성하세요.  \n",
    "\n"
   ]
  },
  {
   "cell_type": "code",
   "execution_count": 1,
   "id": "da086dee",
   "metadata": {
    "id": "da086dee"
   },
   "outputs": [
    {
     "name": "stdout",
     "output_type": "stream",
     "text": [
      "7 x 1 = 7\n",
      "7 x 2 = 14\n",
      "7 x 3 = 21\n",
      "7 x 4 = 28\n",
      "7 x 5 = 35\n",
      "7 x 6 = 42\n",
      "7 x 7 = 49\n",
      "7 x 8 = 56\n",
      "7 x 9 = 63\n"
     ]
    }
   ],
   "source": [
    "# 문제 4\n",
    "\n",
    "# 구구단 출력\n",
    "num = int(input(\"구구단 단수를 입력하세요. : \"))\n",
    "\n",
    "# 구구단을 위한 반복문 생성\n",
    "for i in range(1, 10):\n",
    "    print(f\"{num} x {i} = {num * i}\")"
   ]
  },
  {
   "cell_type": "markdown",
   "id": "dUK35W4ecKOS",
   "metadata": {
    "id": "dUK35W4ecKOS"
   },
   "source": [
    "### 문제 5: 사용자 입력 반복  \n",
    "1. 사용자가 `\"exit\"`을 입력할 때까지 계속 입력을 받는 `while` 문을 작성하세요.  \n",
    "\n"
   ]
  },
  {
   "cell_type": "code",
   "execution_count": null,
   "id": "740b0c5d",
   "metadata": {
    "id": "740b0c5d"
   },
   "outputs": [
    {
     "name": "stdout",
     "output_type": "stream",
     "text": [
      "입력한 문자 : text\n",
      "입력한 문자 : first\n",
      "프로그램을 종료합니다.\n"
     ]
    }
   ],
   "source": [
    "# 문제 5\n",
    "\n",
    "# 사용자 입력 반복\n",
    "while True:\n",
    "    input_text = input(\"문자를 입력하세요. (종료하려면 'exit' 입력): \")\n",
    "    if input_text == \"exit\":\n",
    "        print(\"프로그램을 종료합니다.\")\n",
    "        break\n",
    "    print(f\"입력한 문자 : {input_text}\")"
   ]
  },
  {
   "cell_type": "markdown",
   "id": "5ZIlCANmcMia",
   "metadata": {
    "id": "5ZIlCANmcMia"
   },
   "source": [
    "### 문제 6: 파일 쓰기 및 읽기  \n",
    "1. `for` 문을 사용하여 `\"test.txt\"` 파일에 1부터 5까지의 숫자를 한 줄씩 저장하세요.  \n",
    "2. `while` 문을 사용하여 `\"test.txt\"` 파일을 한 줄씩 읽고 출력하세요."
   ]
  },
  {
   "cell_type": "code",
   "execution_count": null,
   "id": "ed4ee7f4",
   "metadata": {
    "id": "ed4ee7f4"
   },
   "outputs": [
    {
     "name": "stdout",
     "output_type": "stream",
     "text": [
      "파일 저장 완료.\n",
      "1\n",
      "2\n",
      "3\n",
      "4\n",
      "5\n"
     ]
    }
   ],
   "source": [
    "# 문제 6\n",
    "\n",
    "# 파일 쓰기 (for 문 사용)\n",
    "with open(\"./생성파일/numbers.txt\", \"w\", encoding=\"utf-8\") as file:\n",
    "    for i in range(1, 6):\n",
    "        file.write(f\"{i}\\n\")\n",
    "\n",
    "\n",
    "print(\"파일 저장 완료.\")\n",
    "\n",
    "# 파일 읽기 (while 문 사용)\n",
    "with open(\"./생성파일/numbers.txt\", \"r\", encoding=\"utf-8\") as file:\n",
    "    line = file.readline()\n",
    "    while line:\n",
    "        print(line.strip())\n",
    "        line = file.readline()\n",
    "\n"
   ]
  }
 ],
 "metadata": {
  "colab": {
   "provenance": []
  },
  "kernelspec": {
   "display_name": "base",
   "language": "python",
   "name": "python3"
  },
  "language_info": {
   "codemirror_mode": {
    "name": "ipython",
    "version": 3
   },
   "file_extension": ".py",
   "mimetype": "text/x-python",
   "name": "python",
   "nbconvert_exporter": "python",
   "pygments_lexer": "ipython3",
   "version": "3.12.4"
  }
 },
 "nbformat": 4,
 "nbformat_minor": 5
}
