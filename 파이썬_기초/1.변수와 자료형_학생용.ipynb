{
  "cells": [
    {
      "cell_type": "markdown",
      "id": "ef6e0004",
      "metadata": {
        "id": "ef6e0004"
      },
      "source": [
        "\n",
        "# 🐍 파이썬 기초: 변수와 자료형\n",
        "\n",
        "## 1. 개요\n",
        "본 실습에서는 파이썬의 변수와 다양한 자료형을 학습합니다.  \n",
        "변수는 데이터를 저장하는 메모리 공간이며, 자료형은 변수에 저장되는 데이터의 유형을 의미합니다.\n",
        "\n",
        "---\n",
        "\n",
        "## 2. 실습 목표\n",
        "- 변수의 개념을 이해하고 활용할 수 있다.\n",
        "- `print()` 함수를 사용하여 출력을 수행할 수 있다.\n",
        "- `input()` 함수를 사용하여 사용자의 입력을 받을 수 있다.\n",
        "- 파이썬에서 제공하는 기본 자료형 (정수, 실수, 문자열, 불리언, 리스트, 튜플, 딕셔너리, 집합)을 사용할 수 있다.\n",
        "- 자료형별 연산 방법을 이해하고 사용할 수 있다.\n"
      ]
    },
    {
      "cell_type": "markdown",
      "id": "470a64cf",
      "metadata": {
        "id": "470a64cf"
      },
      "source": [
        "\n",
        "## 3. 변수의 개념과 사용법  \n",
        "변수는 데이터를 저장하는 공간으로, 특정 값을 저장하여 코드에서 재사용할 수 있습니다.  \n",
        "변수를 선언할 때는 `=`(대입 연산자)를 사용합니다.\n",
        "\n",
        "### 3.1 변수 선언 및 출력 (`print()` 함수 사용)\n"
      ]
    },
    {
      "cell_type": "code",
      "execution_count": 1,
      "id": "f9dbd429",
      "metadata": {
        "id": "f9dbd429",
        "colab": {
          "base_uri": "https://localhost:8080/"
        },
        "outputId": "5d94f466-9ce3-4a9e-b299-b6fb62b3eafa"
      },
      "outputs": [
        {
          "output_type": "stream",
          "name": "stdout",
          "text": [
            "정수형 변수: 10\n",
            "실수형 변수: 3.14\n",
            "문자열 변수: Hello\n",
            "불리언 변수: True\n"
          ]
        }
      ],
      "source": [
        "\n",
        "# 변수 선언 및 사용 예제\n",
        "a = 10       # 정수형 변수\n",
        "b = 3.14     # 실수형 변수\n",
        "c = \"Hello\"  # 문자열 변수\n",
        "d = True     # 불리언 변수\n",
        "\n",
        "# 변수 출력\n",
        "print(\"정수형 변수:\", a)\n",
        "print(\"실수형 변수:\", b)\n",
        "print(\"문자열 변수:\", c)\n",
        "print(\"불리언 변수:\", d)\n"
      ]
    },
    {
      "cell_type": "markdown",
      "id": "32637de2",
      "metadata": {
        "id": "32637de2"
      },
      "source": [
        "\n",
        "### 3.2 입력받기 (`input()` 함수 사용)\n",
        "\n",
        "사용자로부터 입력을 받을 때 `input()` 함수를 사용합니다.  \n",
        "입력받은 데이터는 기본적으로 **문자열(`str`)** 타입이므로, 숫자로 변환하려면 `int()` 또는 `float()`을 사용해야 합니다.\n"
      ]
    },
    {
      "cell_type": "code",
      "execution_count": 3,
      "id": "422e7895",
      "metadata": {
        "id": "422e7895",
        "colab": {
          "base_uri": "https://localhost:8080/"
        },
        "outputId": "c03291c0-321d-4eb6-c56d-2fed318abe6f"
      },
      "outputs": [
        {
          "output_type": "stream",
          "name": "stdout",
          "text": [
            "이름을 입력하세요: 최동혁\n",
            "나이를 입력하세요: 26\n",
            "당신의 이름은 최동혁 이며, 나이는 26 살입니다.\n"
          ]
        }
      ],
      "source": [
        "\n",
        "# 사용자 입력 받기 예제\n",
        "name = input(\"이름을 입력하세요: \")\n",
        "age = int(input(\"나이를 입력하세요: \"))  # 정수로 변환\n",
        "\n",
        "print(\"당신의 이름은\", name, \"이며, 나이는\", age, \"살입니다.\")\n"
      ]
    },
    {
      "cell_type": "markdown",
      "id": "c1424065",
      "metadata": {
        "id": "c1424065"
      },
      "source": [
        "\n",
        "## 4. 자료형 종류 및 예제  \n",
        "\n",
        "파이썬의 주요 자료형은 다음과 같습니다.\n",
        "\n",
        "- **정수형 (`int`)**: 정수를 저장하는 자료형\n",
        "- **실수형 (`float`)**: 소수점을 포함한 숫자를 저장하는 자료형\n",
        "- **문자열 (`str`)**: 텍스트 데이터를 저장하는 자료형\n",
        "- **불리언 (`bool`)**: `True` 또는 `False` 값을 가지는 논리 자료형\n",
        "- **리스트 (`list`)**: 여러 개의 값을 순서대로 저장하는 자료형 (변경 가능)\n",
        "- **튜플 (`tuple`)**: 리스트와 비슷하지만 변경할 수 없는 자료형\n",
        "- **딕셔너리 (`dict`)**: 키-값 쌍으로 데이터를 저장하는 자료형\n",
        "- **집합 (`set`)**: 중복을 허용하지 않는 자료형\n",
        "\n"
      ]
    },
    {
      "cell_type": "code",
      "execution_count": 2,
      "id": "4c2eea48",
      "metadata": {
        "id": "4c2eea48",
        "colab": {
          "base_uri": "https://localhost:8080/"
        },
        "outputId": "f8806ccc-802e-42a8-a2d4-61803aa16760"
      },
      "outputs": [
        {
          "output_type": "stream",
          "name": "stdout",
          "text": [
            "정수형: 100 <class 'int'>\n",
            "실수형: 3.14 <class 'float'>\n",
            "문자열: Python <class 'str'>\n",
            "불리언: True <class 'bool'>\n",
            "리스트: [1, 2, 3, 4, 5] <class 'list'>\n",
            "튜플: (10, 20) <class 'tuple'>\n",
            "딕셔너리: {'name': 'Alice', 'age': 25} <class 'dict'>\n",
            "집합: {1, 2, 3, 4} <class 'set'>\n"
          ]
        }
      ],
      "source": [
        "\n",
        "# 정수형 (int)\n",
        "num1 = 100\n",
        "print(\"정수형:\", num1, type(num1))\n",
        "\n",
        "# 실수형 (float)\n",
        "num2 = 3.14\n",
        "print(\"실수형:\", num2, type(num2))\n",
        "\n",
        "# 문자열 (str)\n",
        "text = \"Python\"\n",
        "print(\"문자열:\", text, type(text))\n",
        "\n",
        "# 불리언 (bool)\n",
        "flag = True\n",
        "print(\"불리언:\", flag, type(flag))\n",
        "\n",
        "# 리스트 (list)\n",
        "numbers = [1, 2, 3, 4, 5]\n",
        "print(\"리스트:\", numbers, type(numbers))\n",
        "\n",
        "# 튜플 (tuple)\n",
        "coordinates = (10, 20)\n",
        "print(\"튜플:\", coordinates, type(coordinates))\n",
        "\n",
        "# 딕셔너리 (dict)\n",
        "person = {\"name\": \"Alice\", \"age\": 25}\n",
        "print(\"딕셔너리:\", person, type(person))\n",
        "\n",
        "# 집합 (set)\n",
        "unique_numbers = {1, 2, 3, 3, 4}\n",
        "print(\"집합:\", unique_numbers, type(unique_numbers))\n"
      ]
    },
    {
      "cell_type": "markdown",
      "id": "23a80ff3",
      "metadata": {
        "id": "23a80ff3"
      },
      "source": [
        "\n",
        "## 5. 자료형별 연산\n",
        "\n",
        "각 자료형에서 수행할 수 있는 연산을 살펴보겠습니다.\n",
        "\n",
        "### 5.1 숫자 연산\n"
      ]
    },
    {
      "cell_type": "code",
      "execution_count": 4,
      "id": "9e274392",
      "metadata": {
        "id": "9e274392",
        "colab": {
          "base_uri": "https://localhost:8080/"
        },
        "outputId": "7ee46286-c992-4c19-8506-cd36f8a61336"
      },
      "outputs": [
        {
          "output_type": "stream",
          "name": "stdout",
          "text": [
            "덧셈: 13\n",
            "뺄셈: 7\n",
            "곱셈: 30\n",
            "나눗셈: 3.3333333333333335\n",
            "몫: 3\n",
            "나머지: 1\n",
            "거듭제곱: 1000\n"
          ]
        }
      ],
      "source": [
        "\n",
        "# 숫자 연산 예제\n",
        "a = 10\n",
        "b = 3\n",
        "\n",
        "print(\"덧셈:\", a + b)\n",
        "print(\"뺄셈:\", a - b)\n",
        "print(\"곱셈:\", a * b)\n",
        "print(\"나눗셈:\", a / b)\n",
        "print(\"몫:\", a // b)  # 정수 나눗셈\n",
        "print(\"나머지:\", a % b)\n",
        "print(\"거듭제곱:\", a ** b)  # 10의 3제곱\n"
      ]
    },
    {
      "cell_type": "markdown",
      "id": "a29a144e",
      "metadata": {
        "id": "a29a144e"
      },
      "source": [
        "\n",
        "### 5.2 리스트 연산\n",
        "\n",
        "리스트는 여러 개의 요소를 저장할 수 있으며, 요소를 변경할 수도 있습니다.\n"
      ]
    },
    {
      "cell_type": "code",
      "execution_count": 5,
      "id": "6114afca",
      "metadata": {
        "id": "6114afca",
        "colab": {
          "base_uri": "https://localhost:8080/"
        },
        "outputId": "ac8f6adf-3ffb-40d1-e486-ef1a65664836"
      },
      "outputs": [
        {
          "output_type": "stream",
          "name": "stdout",
          "text": [
            "기본 리스트: ['사과', '바나나', '포도']\n",
            "변경된 리스트: ['사과', '오렌지', '포도']\n",
            "리스트 확장: ['사과', '오렌지', '포도', '복숭아', '수박']\n"
          ]
        }
      ],
      "source": [
        "\n",
        "fruits = [\"사과\", \"바나나\", \"포도\"]\n",
        "print(\"기본 리스트:\", fruits)\n",
        "\n",
        "# 리스트 요소 변경\n",
        "fruits[1] = \"오렌지\"\n",
        "print(\"변경된 리스트:\", fruits)\n",
        "\n",
        "# 리스트 더하기\n",
        "new_fruits = fruits + [\"복숭아\", \"수박\"]\n",
        "print(\"리스트 확장:\", new_fruits)\n"
      ]
    },
    {
      "cell_type": "markdown",
      "id": "25340ab1",
      "metadata": {
        "id": "25340ab1"
      },
      "source": [
        "\n",
        "### 5.3 튜플의 주의점\n",
        "\n",
        "튜플에서 원소가 1개일 경우, 쉼표(`,`)를 반드시 붙여야 합니다.\n"
      ]
    },
    {
      "cell_type": "code",
      "execution_count": 6,
      "id": "5ab8a813",
      "metadata": {
        "id": "5ab8a813",
        "colab": {
          "base_uri": "https://localhost:8080/"
        },
        "outputId": "6141f5bb-7aca-46e2-df95-1724cc3f08a5"
      },
      "outputs": [
        {
          "output_type": "stream",
          "name": "stdout",
          "text": [
            "튜플: (10,) <class 'tuple'>\n"
          ]
        }
      ],
      "source": [
        "\n",
        "single_tuple = (10,)  # 쉼표를 붙이지 않으면 정수형으로 인식됨\n",
        "print(\"튜플:\", single_tuple, type(single_tuple))\n"
      ]
    },
    {
      "cell_type": "markdown",
      "id": "2a276b31",
      "metadata": {
        "id": "2a276b31"
      },
      "source": [
        "\n",
        "### 5.4 딕셔너리 연산\n",
        "\n",
        "딕셔너리는 키를 통해 값을 저장하고 검색할 수 있습니다.\n"
      ]
    },
    {
      "cell_type": "code",
      "execution_count": 7,
      "id": "d6126b87",
      "metadata": {
        "id": "d6126b87",
        "colab": {
          "base_uri": "https://localhost:8080/"
        },
        "outputId": "5063cbcf-13e7-47bc-f034-7c3f81cedbf9"
      },
      "outputs": [
        {
          "output_type": "stream",
          "name": "stdout",
          "text": [
            "이름: 홍길동\n",
            "업데이트된 딕셔너리: {'name': '홍길동', 'age': 20, 'major': '컴퓨터공학', 'grade': 2}\n",
            "키 목록: dict_keys(['name', 'age', 'major', 'grade'])\n",
            "값 목록: dict_values(['홍길동', 20, '컴퓨터공학', 2])\n"
          ]
        }
      ],
      "source": [
        "\n",
        "# 딕셔너리 생성\n",
        "student = {\"name\": \"홍길동\", \"age\": 20, \"major\": \"컴퓨터공학\"}\n",
        "\n",
        "# 값 출력\n",
        "print(\"이름:\", student[\"name\"])\n",
        "\n",
        "# 새로운 키-값 추가\n",
        "student[\"grade\"] = 2\n",
        "print(\"업데이트된 딕셔너리:\", student)\n",
        "\n",
        "# keys(), values() 메서드 사용\n",
        "print(\"키 목록:\", student.keys())\n",
        "print(\"값 목록:\", student.values())\n"
      ]
    },
    {
      "cell_type": "markdown",
      "id": "fc77b0f5",
      "metadata": {
        "id": "fc77b0f5"
      },
      "source": [
        "\n",
        "### 5.5 집합 연산\n",
        "\n",
        "집합은 중복을 허용하지 않으며, 집합 연산(합집합, 교집합, 차집합)을 수행할 수 있습니다.\n"
      ]
    },
    {
      "cell_type": "code",
      "execution_count": 8,
      "id": "8de1f34a",
      "metadata": {
        "id": "8de1f34a",
        "colab": {
          "base_uri": "https://localhost:8080/"
        },
        "outputId": "19973bf4-ed24-4e01-a7ca-dcb211734171"
      },
      "outputs": [
        {
          "output_type": "stream",
          "name": "stdout",
          "text": [
            "합집합: {1, 2, 3, 4, 5, 6}\n",
            "교집합: {3, 4}\n",
            "차집합: {1, 2}\n"
          ]
        }
      ],
      "source": [
        "\n",
        "A = {1, 2, 3, 4}\n",
        "B = {3, 4, 5, 6}\n",
        "\n",
        "print(\"합집합:\", A | B)\n",
        "print(\"교집합:\", A & B)\n",
        "print(\"차집합:\", A - B)\n"
      ]
    },
    {
      "cell_type": "markdown",
      "id": "19f838e1",
      "metadata": {
        "id": "19f838e1"
      },
      "source": [
        "## 5. ✨ 스스로 해결해보는 실습 문제 ✨\n",
        "\n",
        "아래 문제들을 직접 코드로 작성하여 실행해보세요!\n",
        "\n",
        "### 문제 1: 변수 선언  \n",
        "1. `x` 변수에 정수 `42`를 저장하고 출력하세요.  \n",
        "2. `y` 변수에 실수 `3.14`를 저장하고 출력하세요.  \n",
        "3. `z` 변수에 문자열 `\"Python Programming\"`을 저장하고 출력하세요.  \n",
        "\n"
      ]
    },
    {
      "cell_type": "code",
      "execution_count": 9,
      "id": "77a46e35",
      "metadata": {
        "id": "77a46e35",
        "colab": {
          "base_uri": "https://localhost:8080/"
        },
        "outputId": "65238666-12e3-40f6-9011-f5fd6d744226"
      },
      "outputs": [
        {
          "output_type": "stream",
          "name": "stdout",
          "text": [
            "42\n",
            "3.14\n",
            "Python Programming\n"
          ]
        }
      ],
      "source": [
        "\n",
        "# 문제 1: 변수 선언\n",
        "x = 42\n",
        "y = 3.14\n",
        "z = \"Python Programming\"\n",
        "\n",
        "print (x)\n",
        "print (y)\n",
        "print (z)\n"
      ]
    },
    {
      "cell_type": "markdown",
      "source": [
        "### 문제 2: 자료형 확인  \n",
        "1. `type()` 함수를 이용하여 각 변수 (`x`, `y`, `z`)의 자료형을 출력하세요.  \n",
        "\n"
      ],
      "metadata": {
        "id": "cYAOTiOiUoFi"
      },
      "id": "cYAOTiOiUoFi"
    },
    {
      "cell_type": "code",
      "execution_count": 10,
      "id": "53459585",
      "metadata": {
        "id": "53459585",
        "colab": {
          "base_uri": "https://localhost:8080/"
        },
        "outputId": "e8c84fdd-187e-49d6-e0c5-dc8755487eaa"
      },
      "outputs": [
        {
          "output_type": "stream",
          "name": "stdout",
          "text": [
            "<class 'int'>\n",
            "<class 'float'>\n",
            "<class 'str'>\n"
          ]
        }
      ],
      "source": [
        "\n",
        "# 문제 2: 자료형 확인\n",
        "print(type(x))\n",
        "print(type(y))\n",
        "print(type(z))\n"
      ]
    },
    {
      "cell_type": "markdown",
      "source": [
        "### 문제 3: 리스트 활용  \n",
        "1. `fruits` 리스트에 `\"사과\", \"바나나\", \"포도\"`를 저장하고 출력하세요.  \n",
        "2. `fruits` 리스트의 첫 번째 요소를 출력하세요.  \n",
        "3. `fruits` 리스트에 `\"오렌지\"`를 추가한 후, 리스트를 출력하세요.  \n",
        "\n"
      ],
      "metadata": {
        "id": "ZYShJRepUot-"
      },
      "id": "ZYShJRepUot-"
    },
    {
      "cell_type": "code",
      "execution_count": 11,
      "id": "5f11c36d",
      "metadata": {
        "id": "5f11c36d",
        "colab": {
          "base_uri": "https://localhost:8080/"
        },
        "outputId": "d5147bd2-dda3-4471-f6de-096e803ef16f"
      },
      "outputs": [
        {
          "output_type": "stream",
          "name": "stdout",
          "text": [
            "['사과', '바나나', '포도']\n",
            "사과\n",
            "['사과', '바나나', '포도', '오렌지']\n"
          ]
        }
      ],
      "source": [
        "\n",
        "# 문제 3: 리스트 활용\n",
        "fruits = [\"사과\", \"바나나\", \"포도\"]\n",
        "print(fruits)\n",
        "print(fruits[0])\n",
        "fruits.append(\"오렌지\")\n",
        "print(fruits)\n"
      ]
    },
    {
      "cell_type": "markdown",
      "source": [
        "### 문제 4: 딕셔너리 활용  \n",
        "1. `student` 딕셔너리를 생성하여 `이름: \"홍길동\", 나이: 20, 학과: \"컴퓨터공학\"`을 저장하세요.  \n",
        "2. `student` 딕셔너리에서 `\"이름\"`에 해당하는 값을 출력하세요.  \n",
        "3. `student` 딕셔너리에 `\"학년\": 2` 키-값을 추가한 후 딕셔너리를 출력하세요.  \n",
        "\n"
      ],
      "metadata": {
        "id": "01iQPa1dUpQ0"
      },
      "id": "01iQPa1dUpQ0"
    },
    {
      "cell_type": "code",
      "execution_count": 12,
      "id": "13c08a4e",
      "metadata": {
        "id": "13c08a4e",
        "colab": {
          "base_uri": "https://localhost:8080/"
        },
        "outputId": "d7505ae2-9b60-467e-e089-3028cf7f58d9"
      },
      "outputs": [
        {
          "output_type": "stream",
          "name": "stdout",
          "text": [
            "홍길동\n",
            "{'이름': '홍길동', '나이': 20, '학과': '컴퓨터공학', '학년': 2}\n"
          ]
        }
      ],
      "source": [
        "\n",
        "# 문제 4: 딕셔너리 활용\n",
        "student = {\"이름\": \"홍길동\", \"나이\": 20, \"학과\": \"컴퓨터공학\"}\n",
        "print(student[\"이름\"])\n",
        "student[\"학년\"] = 2\n",
        "print(student)\n"
      ]
    },
    {
      "cell_type": "markdown",
      "source": [
        "### 문제 5: 집합 활용  \n",
        "1. `{1, 2, 3, 4, 4, 5}`를 저장하는 `numbers_set` 변수를 만들고 출력하세요.  \n",
        "2. `numbers_set`에 `6`을 추가한 후, 집합을 출력하세요.  (hint: add 메서드를 활용하세요)"
      ],
      "metadata": {
        "id": "2b3sRzUxUpvQ"
      },
      "id": "2b3sRzUxUpvQ"
    },
    {
      "cell_type": "code",
      "execution_count": 15,
      "id": "9c78af08",
      "metadata": {
        "id": "9c78af08",
        "colab": {
          "base_uri": "https://localhost:8080/"
        },
        "outputId": "b1fee63f-8eea-4e44-faee-65f7827a9781"
      },
      "outputs": [
        {
          "output_type": "stream",
          "name": "stdout",
          "text": [
            "{1, 2, 3, 4, 5}\n",
            "{1, 2, 3, 4, 5, 6}\n",
            "{1, 2, 3, 4, 5, 6, 7}\n"
          ]
        }
      ],
      "source": [
        "\n",
        "# 문제 5: 집합 활용\n",
        "numbers_set = {1, 2, 3, 4, 4, 5}\n",
        "print(numbers_set)\n",
        "numbers_set.add(6)\n",
        "print(numbers_set)\n",
        "\n",
        "# 기타 풀이 update와 합집합을 이용한 풀이\n",
        "numbers_set.update(numbers_set | {7})\n",
        "print(numbers_set)"
      ]
    }
  ],
  "metadata": {
    "language_info": {
      "name": "python"
    },
    "colab": {
      "provenance": []
    },
    "kernelspec": {
      "name": "python3",
      "display_name": "Python 3"
    }
  },
  "nbformat": 4,
  "nbformat_minor": 5
}