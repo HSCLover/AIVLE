{
 "cells": [
  {
   "cell_type": "markdown",
   "id": "90f3101f-8248-4e8c-bdbf-e113fe6ebbd0",
   "metadata": {
    "id": "90f3101f-8248-4e8c-bdbf-e113fe6ebbd0"
   },
   "source": [
    "# <span style=\"background-color:#fff5b1\"><span style=\"color:black\"><B>보험사 마케팅 활용을 위한 고객 군집화 모델링"
   ]
  },
  {
   "cell_type": "markdown",
   "id": "4c1174fc-1885-4f4e-bbb4-e9bf68f8fc6a",
   "metadata": {
    "id": "4c1174fc-1885-4f4e-bbb4-e9bf68f8fc6a"
   },
   "source": [
    "## **Mission 3. 분석 모델 개발**"
   ]
  },
  {
   "cell_type": "markdown",
   "id": "33589b19-a27e-4ed0-b1e5-8539ce9fe8c0",
   "metadata": {
    "id": "33589b19-a27e-4ed0-b1e5-8539ce9fe8c0",
    "tags": []
   },
   "source": [
    "### [미션 이해하기]\n",
    "* 여러분들은 K 보험사의 직원입니다. K보험사는 효과적인 마케팅 전략을 완성시키기 위해 데이터 기반 마케팅을 시작했습니다.\n",
    "  <br>고객의 행동,성향, 니즈 등의 고객 데이터를 마케팅 전략에 반영하여 고객별로 적절한 마케팅 Action을 주는 미션을 받았습니다.\n",
    "* 고객별로 특징을 적절하게 반영할 수 있는 마케팅 방안은 고객을 segment 하는 것 인데, 어떤 방법으로 고객을 묶을 수 있을까요?\n",
    "  <br>바로, <font color=\"1E90FF\"><b>군집분석을 기반으로 한 고객 segment를 개발 하는 것입니다.</font>\n"
   ]
  },
  {
   "cell_type": "markdown",
   "id": "e6ca9599-a9a1-45f7-bab0-35073378cad4",
   "metadata": {
    "id": "e6ca9599-a9a1-45f7-bab0-35073378cad4"
   },
   "source": [
    "<b>[2일차] mission 3 목표<b>: 전처리 한 데이터를 활용하여 군집분석 하고, 데이터 탐색 기반 프로파일링을 통해 군집별 특징 정의 해보기"
   ]
  },
  {
   "cell_type": "markdown",
   "id": "3cbdb6c2",
   "metadata": {
    "id": "3cbdb6c2"
   },
   "source": [
    "---------------------------------------------------------------------------------------------\n",
    "# **0. 환경설정(경로설정)**\n",
    "* 세부 요구사항\n",
    "    - 경로 설정 : 구글 colab\n",
    "        * 구글 드라이브 바로 밑에 dxproject 폴더를 만들고,\n",
    "        * 데이터 파일을 복사해 넣습니다."
   ]
  },
  {
   "cell_type": "code",
   "execution_count": 1,
   "id": "0af68a82",
   "metadata": {
    "colab": {
     "base_uri": "https://localhost:8080/"
    },
    "executionInfo": {
     "elapsed": 13830,
     "status": "ok",
     "timestamp": 1744605868845,
     "user": {
      "displayName": "花咲静流（나키）",
      "userId": "14501948246392099515"
     },
     "user_tz": -540
    },
    "id": "0af68a82",
    "outputId": "e61d7534-42ff-4fd7-9f3e-215ec7c4d896"
   },
   "outputs": [],
   "source": [
    "# # 구글 드라이브 연결\n",
    "# from google.colab import drive\n",
    "# drive.mount('/content/drive')"
   ]
  },
  {
   "cell_type": "code",
   "execution_count": 2,
   "id": "40f91042",
   "metadata": {
    "executionInfo": {
     "elapsed": 2,
     "status": "ok",
     "timestamp": 1744605871398,
     "user": {
      "displayName": "花咲静流（나키）",
      "userId": "14501948246392099515"
     },
     "user_tz": -540
    },
    "id": "40f91042"
   },
   "outputs": [],
   "source": [
    "# #Path\n",
    "# path = '/content/drive/MyDrive/AIVLE/DX_미니프로젝트 1차_1-2일차_실습자료/'"
   ]
  },
  {
   "cell_type": "code",
   "execution_count": 3,
   "id": "1f8e2b74",
   "metadata": {},
   "outputs": [],
   "source": [
    "path = './'"
   ]
  },
  {
   "cell_type": "markdown",
   "id": "9509146a-6c7c-4e06-9e1e-7fc9a93c8200",
   "metadata": {
    "id": "9509146a-6c7c-4e06-9e1e-7fc9a93c8200"
   },
   "source": [
    "---------------------------------------------------------------------------------------------\n",
    "#### <b>[실습프로세스]<b>\n",
    "\n",
    "1. k-means 군집분석\n",
    "2. 프로파일링"
   ]
  },
  {
   "cell_type": "markdown",
   "id": "3310b100-8526-4122-b00f-98195133395b",
   "metadata": {
    "id": "3310b100-8526-4122-b00f-98195133395b",
    "tags": []
   },
   "source": [
    "---------------------------------------------------------------------------------------------\n",
    "# **1. k-means 모델(군집 분석)**"
   ]
  },
  {
   "cell_type": "markdown",
   "id": "c24c4c20-98c7-46f5-b795-add4bc8912fb",
   "metadata": {
    "id": "c24c4c20-98c7-46f5-b795-add4bc8912fb"
   },
   "source": [
    "**k-means 모델이란?**\n",
    " > **비지도학습의 대표적인 군집분석을 위한 모델로 주어진 데이터를 K개의 클러스터로 묶는 알고리즘**\n",
    " > * K 군집의 초기 중심에서 시작해서 중심을 바꾸는 단계를 사용하여 데이터를 가장 가까운 군집으로 포함시켜 분류하는 모델\n",
    " > * 장점: 단순 알고리즘 및 빠른 연산 속도\n",
    " > * 단점: 이상치, 노이즈에 민감하고 초기 군집 수 결정 단계가 필요함"
   ]
  },
  {
   "cell_type": "markdown",
   "id": "21c7e59d-5751-4cdf-9922-3cf445d1b0f8",
   "metadata": {
    "id": "21c7e59d-5751-4cdf-9922-3cf445d1b0f8"
   },
   "source": [
    "## **(1) 데이터 불러오기**"
   ]
  },
  {
   "cell_type": "code",
   "execution_count": 4,
   "id": "310503f1-a0d6-47d6-ba74-617e5f113ecc",
   "metadata": {
    "executionInfo": {
     "elapsed": 8,
     "status": "ok",
     "timestamp": 1744605874859,
     "user": {
      "displayName": "花咲静流（나키）",
      "userId": "14501948246392099515"
     },
     "user_tz": -540
    },
    "id": "310503f1-a0d6-47d6-ba74-617e5f113ecc"
   },
   "outputs": [],
   "source": [
    "# 필요 라이브러리 로딩\n",
    "\n",
    "import numpy as np\n",
    "import pandas as pd\n",
    "import matplotlib.pyplot as plt\n",
    "import seaborn as sns\n",
    "import os\n",
    "\n",
    "# mosaic\n",
    "from statsmodels.graphics.mosaicplot import mosaic\n",
    "\n",
    "import warnings\n",
    "warnings.filterwarnings(action='ignore')"
   ]
  },
  {
   "cell_type": "code",
   "execution_count": 5,
   "id": "c3ec2301",
   "metadata": {
    "colab": {
     "base_uri": "https://localhost:8080/"
    },
    "executionInfo": {
     "elapsed": 5552,
     "status": "ok",
     "timestamp": 1744605881557,
     "user": {
      "displayName": "花咲静流（나키）",
      "userId": "14501948246392099515"
     },
     "user_tz": -540
    },
    "id": "c3ec2301",
    "outputId": "5ea89b0a-98a1-409f-9f97-dfe0f4085a81"
   },
   "outputs": [],
   "source": [
    "# # 한글 세팅\n",
    "\n",
    "# # 1. 나눔고딕 폰트 설치\n",
    "# !apt-get -qq update\n",
    "# !apt-get -qq install -y fonts-nanum\n",
    "\n",
    "# # 2. 런타임에 폰트 캐시 갱신\n",
    "# import matplotlib.font_manager as fm\n",
    "# import matplotlib.pyplot as plt\n",
    "# import matplotlib as mpl\n",
    "\n",
    "# font_dirs = ['/usr/share/fonts/truetype/nanum']\n",
    "# font_files = fm.findSystemFonts(fontpaths=font_dirs)\n",
    "\n",
    "# for font_file in font_files:\n",
    "#     fm.fontManager.addfont(font_file)\n",
    "\n",
    "# # 3. 폰트 이름 확인 후 설정\n",
    "# nanum_font_name = fm.FontProperties(fname=font_files[0]).get_name()\n",
    "# print(f\"설정된 폰트 이름: {nanum_font_name}\")\n",
    "\n",
    "# # matplotlib에 폰트 반영\n",
    "# mpl.rc('font', family=nanum_font_name)\n",
    "# mpl.rcParams['axes.unicode_minus'] = False\n",
    "\n",
    "# # 지수표현(소수점 2자리까지 나타내기)\n",
    "# pd.options.display.float_format = '{:.2f}'.format"
   ]
  },
  {
   "cell_type": "code",
   "execution_count": 6,
   "id": "1172e209",
   "metadata": {},
   "outputs": [],
   "source": [
    "import matplotlib.font_manager as fm\n",
    "import matplotlib.pyplot as plt\n",
    "import matplotlib as mpl\n",
    "\n",
    "mpl.rc('font', family='D2Coding')\n",
    "mpl.rcParams['axes.unicode_minus'] = False\n",
    "\n",
    "# 지수표현(소수점 2자리까지 나타내기)\n",
    "pd.options.display.float_format = '{:.2f}'.format"
   ]
  },
  {
   "cell_type": "code",
   "execution_count": 7,
   "id": "37852c14-3ef4-45ba-8557-dc99471d5744",
   "metadata": {
    "colab": {
     "base_uri": "https://localhost:8080/",
     "height": 206
    },
    "executionInfo": {
     "elapsed": 1269,
     "status": "ok",
     "timestamp": 1744605882831,
     "user": {
      "displayName": "花咲静流（나키）",
      "userId": "14501948246392099515"
     },
     "user_tz": -540
    },
    "id": "37852c14-3ef4-45ba-8557-dc99471d5744",
    "outputId": "a37a49e2-db83-41de-edf5-967519d750f4"
   },
   "outputs": [
    {
     "data": {
      "text/html": [
       "<div>\n",
       "<style scoped>\n",
       "    .dataframe tbody tr th:only-of-type {\n",
       "        vertical-align: middle;\n",
       "    }\n",
       "\n",
       "    .dataframe tbody tr th {\n",
       "        vertical-align: top;\n",
       "    }\n",
       "\n",
       "    .dataframe thead th {\n",
       "        text-align: right;\n",
       "    }\n",
       "</style>\n",
       "<table border=\"1\" class=\"dataframe\">\n",
       "  <thead>\n",
       "    <tr style=\"text-align: right;\">\n",
       "      <th></th>\n",
       "      <th>AGE</th>\n",
       "      <th>고용상태</th>\n",
       "      <th>Willingness to pay/Stay</th>\n",
       "      <th>상품타입</th>\n",
       "      <th>교육수준</th>\n",
       "      <th>소득</th>\n",
       "      <th>월 납입액</th>\n",
       "      <th>타 상품 보유 현황</th>\n",
       "      <th>총지불금액</th>\n",
       "      <th>거주지사이즈</th>\n",
       "      <th>자동차</th>\n",
       "    </tr>\n",
       "  </thead>\n",
       "  <tbody>\n",
       "    <tr>\n",
       "      <th>0</th>\n",
       "      <td>-0.07</td>\n",
       "      <td>-1.30</td>\n",
       "      <td>-0.81</td>\n",
       "      <td>-0.31</td>\n",
       "      <td>-0.30</td>\n",
       "      <td>-1.24</td>\n",
       "      <td>-0.47</td>\n",
       "      <td>-1.08</td>\n",
       "      <td>0.27</td>\n",
       "      <td>-0.34</td>\n",
       "      <td>-0.20</td>\n",
       "    </tr>\n",
       "    <tr>\n",
       "      <th>1</th>\n",
       "      <td>-1.85</td>\n",
       "      <td>0.77</td>\n",
       "      <td>-0.33</td>\n",
       "      <td>-0.31</td>\n",
       "      <td>-0.30</td>\n",
       "      <td>1.51</td>\n",
       "      <td>-0.47</td>\n",
       "      <td>1.41</td>\n",
       "      <td>-1.34</td>\n",
       "      <td>-0.34</td>\n",
       "      <td>-0.20</td>\n",
       "    </tr>\n",
       "    <tr>\n",
       "      <th>2</th>\n",
       "      <td>-0.96</td>\n",
       "      <td>-1.30</td>\n",
       "      <td>-0.50</td>\n",
       "      <td>-0.31</td>\n",
       "      <td>-0.30</td>\n",
       "      <td>-0.65</td>\n",
       "      <td>-0.94</td>\n",
       "      <td>1.41</td>\n",
       "      <td>-0.48</td>\n",
       "      <td>-0.34</td>\n",
       "      <td>-0.20</td>\n",
       "    </tr>\n",
       "    <tr>\n",
       "      <th>3</th>\n",
       "      <td>1.71</td>\n",
       "      <td>0.77</td>\n",
       "      <td>0.60</td>\n",
       "      <td>3.19</td>\n",
       "      <td>-0.30</td>\n",
       "      <td>0.14</td>\n",
       "      <td>0.23</td>\n",
       "      <td>-0.25</td>\n",
       "      <td>2.03</td>\n",
       "      <td>2.94</td>\n",
       "      <td>-0.20</td>\n",
       "    </tr>\n",
       "    <tr>\n",
       "      <th>4</th>\n",
       "      <td>0.82</td>\n",
       "      <td>0.77</td>\n",
       "      <td>0.12</td>\n",
       "      <td>-0.31</td>\n",
       "      <td>3.36</td>\n",
       "      <td>-0.52</td>\n",
       "      <td>0.47</td>\n",
       "      <td>0.58</td>\n",
       "      <td>1.15</td>\n",
       "      <td>-0.34</td>\n",
       "      <td>-0.20</td>\n",
       "    </tr>\n",
       "  </tbody>\n",
       "</table>\n",
       "</div>"
      ],
      "text/plain": [
       "    AGE  고용상태  Willingness to pay/Stay  상품타입  교육수준    소득  월 납입액  타 상품 보유 현황  \\\n",
       "0 -0.07 -1.30                    -0.81 -0.31 -0.30 -1.24  -0.47       -1.08   \n",
       "1 -1.85  0.77                    -0.33 -0.31 -0.30  1.51  -0.47        1.41   \n",
       "2 -0.96 -1.30                    -0.50 -0.31 -0.30 -0.65  -0.94        1.41   \n",
       "3  1.71  0.77                     0.60  3.19 -0.30  0.14   0.23       -0.25   \n",
       "4  0.82  0.77                     0.12 -0.31  3.36 -0.52   0.47        0.58   \n",
       "\n",
       "   총지불금액  거주지사이즈   자동차  \n",
       "0   0.27   -0.34 -0.20  \n",
       "1  -1.34   -0.34 -0.20  \n",
       "2  -0.48   -0.34 -0.20  \n",
       "3   2.03    2.94 -0.20  \n",
       "4   1.15   -0.34 -0.20  "
      ]
     },
     "execution_count": 7,
     "metadata": {},
     "output_type": "execute_result"
    }
   ],
   "source": [
    "# [문제 1~2] 스케일링 한 데이터 불러오기\n",
    "# 1. data 변수에 'data_sc.csv' 파일을 불러와서 할당\n",
    "# 2. data 변수 호출해서 상위 5개 확인해보기\n",
    "\n",
    "data = pd.read_csv(path+'data_sc.csv')\n",
    "\n",
    "data.head()\n"
   ]
  },
  {
   "cell_type": "markdown",
   "id": "45a0357c-8311-4fd9-a3b4-47c7766f4037",
   "metadata": {
    "id": "45a0357c-8311-4fd9-a3b4-47c7766f4037"
   },
   "source": [
    "## **(2) 군집분석**"
   ]
  },
  {
   "cell_type": "markdown",
   "id": "ca85a752-317d-4c33-9e78-70c9f1660954",
   "metadata": {
    "id": "ca85a752-317d-4c33-9e78-70c9f1660954"
   },
   "source": [
    "<b>군집분석을 위해 최적의 그룹 k 값을 찾아보고 최적의 군집 수를 결정해 보자"
   ]
  },
  {
   "cell_type": "markdown",
   "id": "083ac050-70b7-45ec-a12e-e044efc38eff",
   "metadata": {
    "id": "083ac050-70b7-45ec-a12e-e044efc38eff"
   },
   "source": [
    "### <b>**1) 기본 셋팅**\n",
    "* yellowbrick을 임포트 해서 군집분석 해보기"
   ]
  },
  {
   "cell_type": "code",
   "execution_count": 8,
   "id": "6d1e3b57-ee3f-4a67-a95c-6088ec42f113",
   "metadata": {
    "colab": {
     "base_uri": "https://localhost:8080/"
    },
    "executionInfo": {
     "elapsed": 2824,
     "status": "ok",
     "timestamp": 1744605796814,
     "user": {
      "displayName": "花咲静流（나키）",
      "userId": "14501948246392099515"
     },
     "user_tz": -540
    },
    "id": "6d1e3b57-ee3f-4a67-a95c-6088ec42f113",
    "outputId": "4c33e67d-8247-4521-bae3-3304d4fb2201"
   },
   "outputs": [
    {
     "name": "stdout",
     "output_type": "stream",
     "text": [
      "Collecting yellowbrick\n",
      "  Downloading yellowbrick-1.5-py3-none-any.whl.metadata (7.7 kB)\n",
      "Requirement already satisfied: matplotlib!=3.0.0,>=2.0.2 in c:\\users\\user\\appdata\\local\\programs\\python\\python312\\lib\\site-packages (from yellowbrick) (3.10.1)\n",
      "Requirement already satisfied: scipy>=1.0.0 in c:\\users\\user\\appdata\\local\\programs\\python\\python312\\lib\\site-packages (from yellowbrick) (1.15.2)\n",
      "Requirement already satisfied: scikit-learn>=1.0.0 in c:\\users\\user\\appdata\\local\\programs\\python\\python312\\lib\\site-packages (from yellowbrick) (1.6.1)\n",
      "Requirement already satisfied: numpy>=1.16.0 in c:\\users\\user\\appdata\\local\\programs\\python\\python312\\lib\\site-packages (from yellowbrick) (2.2.4)\n",
      "Requirement already satisfied: cycler>=0.10.0 in c:\\users\\user\\appdata\\local\\programs\\python\\python312\\lib\\site-packages (from yellowbrick) (0.12.1)\n",
      "Requirement already satisfied: contourpy>=1.0.1 in c:\\users\\user\\appdata\\local\\programs\\python\\python312\\lib\\site-packages (from matplotlib!=3.0.0,>=2.0.2->yellowbrick) (1.3.1)\n",
      "Requirement already satisfied: fonttools>=4.22.0 in c:\\users\\user\\appdata\\local\\programs\\python\\python312\\lib\\site-packages (from matplotlib!=3.0.0,>=2.0.2->yellowbrick) (4.57.0)\n",
      "Requirement already satisfied: kiwisolver>=1.3.1 in c:\\users\\user\\appdata\\local\\programs\\python\\python312\\lib\\site-packages (from matplotlib!=3.0.0,>=2.0.2->yellowbrick) (1.4.8)\n",
      "Requirement already satisfied: packaging>=20.0 in c:\\users\\user\\appdata\\roaming\\python\\python312\\site-packages (from matplotlib!=3.0.0,>=2.0.2->yellowbrick) (24.2)\n",
      "Requirement already satisfied: pillow>=8 in c:\\users\\user\\appdata\\local\\programs\\python\\python312\\lib\\site-packages (from matplotlib!=3.0.0,>=2.0.2->yellowbrick) (11.0.0)\n",
      "Requirement already satisfied: pyparsing>=2.3.1 in c:\\users\\user\\appdata\\local\\programs\\python\\python312\\lib\\site-packages (from matplotlib!=3.0.0,>=2.0.2->yellowbrick) (3.2.3)\n",
      "Requirement already satisfied: python-dateutil>=2.7 in c:\\users\\user\\appdata\\roaming\\python\\python312\\site-packages (from matplotlib!=3.0.0,>=2.0.2->yellowbrick) (2.9.0.post0)\n",
      "Requirement already satisfied: joblib>=1.2.0 in c:\\users\\user\\appdata\\local\\programs\\python\\python312\\lib\\site-packages (from scikit-learn>=1.0.0->yellowbrick) (1.4.2)\n",
      "Requirement already satisfied: threadpoolctl>=3.1.0 in c:\\users\\user\\appdata\\local\\programs\\python\\python312\\lib\\site-packages (from scikit-learn>=1.0.0->yellowbrick) (3.6.0)\n",
      "Requirement already satisfied: six>=1.5 in c:\\users\\user\\appdata\\roaming\\python\\python312\\site-packages (from python-dateutil>=2.7->matplotlib!=3.0.0,>=2.0.2->yellowbrick) (1.17.0)\n",
      "Downloading yellowbrick-1.5-py3-none-any.whl (282 kB)\n",
      "Installing collected packages: yellowbrick\n",
      "Successfully installed yellowbrick-1.5\n"
     ]
    }
   ],
   "source": [
    "#[같이 하기] yellowbrick이 없는 경우 pip로 설치해 주기(!pip install yellowbrick)\n",
    "\n",
    "!pip install yellowbrick"
   ]
  },
  {
   "cell_type": "code",
   "execution_count": 9,
   "id": "e239122c-feb8-426b-b89c-9e9bbeb82adf",
   "metadata": {
    "executionInfo": {
     "elapsed": 5,
     "status": "ok",
     "timestamp": 1744606877801,
     "user": {
      "displayName": "花咲静流（나키）",
      "userId": "14501948246392099515"
     },
     "user_tz": -540
    },
    "id": "e239122c-feb8-426b-b89c-9e9bbeb82adf"
   },
   "outputs": [],
   "source": [
    "# [같이 하기] k-means, yellowbrick의 KElbowVisualizer 불러오기\n",
    "\n",
    "from sklearn.cluster import KMeans\n",
    "from yellowbrick.cluster import KElbowVisualizer"
   ]
  },
  {
   "cell_type": "markdown",
   "id": "89cc90a9-3827-4d36-a18a-9a49a9131fe9",
   "metadata": {
    "id": "89cc90a9-3827-4d36-a18a-9a49a9131fe9",
    "tags": []
   },
   "source": [
    "### <b>**2) 직접 하나하나 해보기**\n",
    "* 몇 개의 그룹으로 군집화를 할지 k 값을 바꿔 가면서 '최적의 k 값'을 찾아보는 것을 해보자."
   ]
  },
  {
   "cell_type": "code",
   "execution_count": 10,
   "id": "afbbbf45-4715-4a84-95e9-f7a0ac827ae6",
   "metadata": {
    "colab": {
     "base_uri": "https://localhost:8080/",
     "height": 80
    },
    "executionInfo": {
     "elapsed": 286,
     "status": "ok",
     "timestamp": 1744606879431,
     "user": {
      "displayName": "花咲静流（나키）",
      "userId": "14501948246392099515"
     },
     "user_tz": -540
    },
    "id": "afbbbf45-4715-4a84-95e9-f7a0ac827ae6",
    "outputId": "b8b3565c-a380-4d80-a750-de6d2b3ae47a"
   },
   "outputs": [
    {
     "data": {
      "text/html": [
       "<style>#sk-container-id-1 {\n",
       "  /* Definition of color scheme common for light and dark mode */\n",
       "  --sklearn-color-text: #000;\n",
       "  --sklearn-color-text-muted: #666;\n",
       "  --sklearn-color-line: gray;\n",
       "  /* Definition of color scheme for unfitted estimators */\n",
       "  --sklearn-color-unfitted-level-0: #fff5e6;\n",
       "  --sklearn-color-unfitted-level-1: #f6e4d2;\n",
       "  --sklearn-color-unfitted-level-2: #ffe0b3;\n",
       "  --sklearn-color-unfitted-level-3: chocolate;\n",
       "  /* Definition of color scheme for fitted estimators */\n",
       "  --sklearn-color-fitted-level-0: #f0f8ff;\n",
       "  --sklearn-color-fitted-level-1: #d4ebff;\n",
       "  --sklearn-color-fitted-level-2: #b3dbfd;\n",
       "  --sklearn-color-fitted-level-3: cornflowerblue;\n",
       "\n",
       "  /* Specific color for light theme */\n",
       "  --sklearn-color-text-on-default-background: var(--sg-text-color, var(--theme-code-foreground, var(--jp-content-font-color1, black)));\n",
       "  --sklearn-color-background: var(--sg-background-color, var(--theme-background, var(--jp-layout-color0, white)));\n",
       "  --sklearn-color-border-box: var(--sg-text-color, var(--theme-code-foreground, var(--jp-content-font-color1, black)));\n",
       "  --sklearn-color-icon: #696969;\n",
       "\n",
       "  @media (prefers-color-scheme: dark) {\n",
       "    /* Redefinition of color scheme for dark theme */\n",
       "    --sklearn-color-text-on-default-background: var(--sg-text-color, var(--theme-code-foreground, var(--jp-content-font-color1, white)));\n",
       "    --sklearn-color-background: var(--sg-background-color, var(--theme-background, var(--jp-layout-color0, #111)));\n",
       "    --sklearn-color-border-box: var(--sg-text-color, var(--theme-code-foreground, var(--jp-content-font-color1, white)));\n",
       "    --sklearn-color-icon: #878787;\n",
       "  }\n",
       "}\n",
       "\n",
       "#sk-container-id-1 {\n",
       "  color: var(--sklearn-color-text);\n",
       "}\n",
       "\n",
       "#sk-container-id-1 pre {\n",
       "  padding: 0;\n",
       "}\n",
       "\n",
       "#sk-container-id-1 input.sk-hidden--visually {\n",
       "  border: 0;\n",
       "  clip: rect(1px 1px 1px 1px);\n",
       "  clip: rect(1px, 1px, 1px, 1px);\n",
       "  height: 1px;\n",
       "  margin: -1px;\n",
       "  overflow: hidden;\n",
       "  padding: 0;\n",
       "  position: absolute;\n",
       "  width: 1px;\n",
       "}\n",
       "\n",
       "#sk-container-id-1 div.sk-dashed-wrapped {\n",
       "  border: 1px dashed var(--sklearn-color-line);\n",
       "  margin: 0 0.4em 0.5em 0.4em;\n",
       "  box-sizing: border-box;\n",
       "  padding-bottom: 0.4em;\n",
       "  background-color: var(--sklearn-color-background);\n",
       "}\n",
       "\n",
       "#sk-container-id-1 div.sk-container {\n",
       "  /* jupyter's `normalize.less` sets `[hidden] { display: none; }`\n",
       "     but bootstrap.min.css set `[hidden] { display: none !important; }`\n",
       "     so we also need the `!important` here to be able to override the\n",
       "     default hidden behavior on the sphinx rendered scikit-learn.org.\n",
       "     See: https://github.com/scikit-learn/scikit-learn/issues/21755 */\n",
       "  display: inline-block !important;\n",
       "  position: relative;\n",
       "}\n",
       "\n",
       "#sk-container-id-1 div.sk-text-repr-fallback {\n",
       "  display: none;\n",
       "}\n",
       "\n",
       "div.sk-parallel-item,\n",
       "div.sk-serial,\n",
       "div.sk-item {\n",
       "  /* draw centered vertical line to link estimators */\n",
       "  background-image: linear-gradient(var(--sklearn-color-text-on-default-background), var(--sklearn-color-text-on-default-background));\n",
       "  background-size: 2px 100%;\n",
       "  background-repeat: no-repeat;\n",
       "  background-position: center center;\n",
       "}\n",
       "\n",
       "/* Parallel-specific style estimator block */\n",
       "\n",
       "#sk-container-id-1 div.sk-parallel-item::after {\n",
       "  content: \"\";\n",
       "  width: 100%;\n",
       "  border-bottom: 2px solid var(--sklearn-color-text-on-default-background);\n",
       "  flex-grow: 1;\n",
       "}\n",
       "\n",
       "#sk-container-id-1 div.sk-parallel {\n",
       "  display: flex;\n",
       "  align-items: stretch;\n",
       "  justify-content: center;\n",
       "  background-color: var(--sklearn-color-background);\n",
       "  position: relative;\n",
       "}\n",
       "\n",
       "#sk-container-id-1 div.sk-parallel-item {\n",
       "  display: flex;\n",
       "  flex-direction: column;\n",
       "}\n",
       "\n",
       "#sk-container-id-1 div.sk-parallel-item:first-child::after {\n",
       "  align-self: flex-end;\n",
       "  width: 50%;\n",
       "}\n",
       "\n",
       "#sk-container-id-1 div.sk-parallel-item:last-child::after {\n",
       "  align-self: flex-start;\n",
       "  width: 50%;\n",
       "}\n",
       "\n",
       "#sk-container-id-1 div.sk-parallel-item:only-child::after {\n",
       "  width: 0;\n",
       "}\n",
       "\n",
       "/* Serial-specific style estimator block */\n",
       "\n",
       "#sk-container-id-1 div.sk-serial {\n",
       "  display: flex;\n",
       "  flex-direction: column;\n",
       "  align-items: center;\n",
       "  background-color: var(--sklearn-color-background);\n",
       "  padding-right: 1em;\n",
       "  padding-left: 1em;\n",
       "}\n",
       "\n",
       "\n",
       "/* Toggleable style: style used for estimator/Pipeline/ColumnTransformer box that is\n",
       "clickable and can be expanded/collapsed.\n",
       "- Pipeline and ColumnTransformer use this feature and define the default style\n",
       "- Estimators will overwrite some part of the style using the `sk-estimator` class\n",
       "*/\n",
       "\n",
       "/* Pipeline and ColumnTransformer style (default) */\n",
       "\n",
       "#sk-container-id-1 div.sk-toggleable {\n",
       "  /* Default theme specific background. It is overwritten whether we have a\n",
       "  specific estimator or a Pipeline/ColumnTransformer */\n",
       "  background-color: var(--sklearn-color-background);\n",
       "}\n",
       "\n",
       "/* Toggleable label */\n",
       "#sk-container-id-1 label.sk-toggleable__label {\n",
       "  cursor: pointer;\n",
       "  display: flex;\n",
       "  width: 100%;\n",
       "  margin-bottom: 0;\n",
       "  padding: 0.5em;\n",
       "  box-sizing: border-box;\n",
       "  text-align: center;\n",
       "  align-items: start;\n",
       "  justify-content: space-between;\n",
       "  gap: 0.5em;\n",
       "}\n",
       "\n",
       "#sk-container-id-1 label.sk-toggleable__label .caption {\n",
       "  font-size: 0.6rem;\n",
       "  font-weight: lighter;\n",
       "  color: var(--sklearn-color-text-muted);\n",
       "}\n",
       "\n",
       "#sk-container-id-1 label.sk-toggleable__label-arrow:before {\n",
       "  /* Arrow on the left of the label */\n",
       "  content: \"▸\";\n",
       "  float: left;\n",
       "  margin-right: 0.25em;\n",
       "  color: var(--sklearn-color-icon);\n",
       "}\n",
       "\n",
       "#sk-container-id-1 label.sk-toggleable__label-arrow:hover:before {\n",
       "  color: var(--sklearn-color-text);\n",
       "}\n",
       "\n",
       "/* Toggleable content - dropdown */\n",
       "\n",
       "#sk-container-id-1 div.sk-toggleable__content {\n",
       "  max-height: 0;\n",
       "  max-width: 0;\n",
       "  overflow: hidden;\n",
       "  text-align: left;\n",
       "  /* unfitted */\n",
       "  background-color: var(--sklearn-color-unfitted-level-0);\n",
       "}\n",
       "\n",
       "#sk-container-id-1 div.sk-toggleable__content.fitted {\n",
       "  /* fitted */\n",
       "  background-color: var(--sklearn-color-fitted-level-0);\n",
       "}\n",
       "\n",
       "#sk-container-id-1 div.sk-toggleable__content pre {\n",
       "  margin: 0.2em;\n",
       "  border-radius: 0.25em;\n",
       "  color: var(--sklearn-color-text);\n",
       "  /* unfitted */\n",
       "  background-color: var(--sklearn-color-unfitted-level-0);\n",
       "}\n",
       "\n",
       "#sk-container-id-1 div.sk-toggleable__content.fitted pre {\n",
       "  /* unfitted */\n",
       "  background-color: var(--sklearn-color-fitted-level-0);\n",
       "}\n",
       "\n",
       "#sk-container-id-1 input.sk-toggleable__control:checked~div.sk-toggleable__content {\n",
       "  /* Expand drop-down */\n",
       "  max-height: 200px;\n",
       "  max-width: 100%;\n",
       "  overflow: auto;\n",
       "}\n",
       "\n",
       "#sk-container-id-1 input.sk-toggleable__control:checked~label.sk-toggleable__label-arrow:before {\n",
       "  content: \"▾\";\n",
       "}\n",
       "\n",
       "/* Pipeline/ColumnTransformer-specific style */\n",
       "\n",
       "#sk-container-id-1 div.sk-label input.sk-toggleable__control:checked~label.sk-toggleable__label {\n",
       "  color: var(--sklearn-color-text);\n",
       "  background-color: var(--sklearn-color-unfitted-level-2);\n",
       "}\n",
       "\n",
       "#sk-container-id-1 div.sk-label.fitted input.sk-toggleable__control:checked~label.sk-toggleable__label {\n",
       "  background-color: var(--sklearn-color-fitted-level-2);\n",
       "}\n",
       "\n",
       "/* Estimator-specific style */\n",
       "\n",
       "/* Colorize estimator box */\n",
       "#sk-container-id-1 div.sk-estimator input.sk-toggleable__control:checked~label.sk-toggleable__label {\n",
       "  /* unfitted */\n",
       "  background-color: var(--sklearn-color-unfitted-level-2);\n",
       "}\n",
       "\n",
       "#sk-container-id-1 div.sk-estimator.fitted input.sk-toggleable__control:checked~label.sk-toggleable__label {\n",
       "  /* fitted */\n",
       "  background-color: var(--sklearn-color-fitted-level-2);\n",
       "}\n",
       "\n",
       "#sk-container-id-1 div.sk-label label.sk-toggleable__label,\n",
       "#sk-container-id-1 div.sk-label label {\n",
       "  /* The background is the default theme color */\n",
       "  color: var(--sklearn-color-text-on-default-background);\n",
       "}\n",
       "\n",
       "/* On hover, darken the color of the background */\n",
       "#sk-container-id-1 div.sk-label:hover label.sk-toggleable__label {\n",
       "  color: var(--sklearn-color-text);\n",
       "  background-color: var(--sklearn-color-unfitted-level-2);\n",
       "}\n",
       "\n",
       "/* Label box, darken color on hover, fitted */\n",
       "#sk-container-id-1 div.sk-label.fitted:hover label.sk-toggleable__label.fitted {\n",
       "  color: var(--sklearn-color-text);\n",
       "  background-color: var(--sklearn-color-fitted-level-2);\n",
       "}\n",
       "\n",
       "/* Estimator label */\n",
       "\n",
       "#sk-container-id-1 div.sk-label label {\n",
       "  font-family: monospace;\n",
       "  font-weight: bold;\n",
       "  display: inline-block;\n",
       "  line-height: 1.2em;\n",
       "}\n",
       "\n",
       "#sk-container-id-1 div.sk-label-container {\n",
       "  text-align: center;\n",
       "}\n",
       "\n",
       "/* Estimator-specific */\n",
       "#sk-container-id-1 div.sk-estimator {\n",
       "  font-family: monospace;\n",
       "  border: 1px dotted var(--sklearn-color-border-box);\n",
       "  border-radius: 0.25em;\n",
       "  box-sizing: border-box;\n",
       "  margin-bottom: 0.5em;\n",
       "  /* unfitted */\n",
       "  background-color: var(--sklearn-color-unfitted-level-0);\n",
       "}\n",
       "\n",
       "#sk-container-id-1 div.sk-estimator.fitted {\n",
       "  /* fitted */\n",
       "  background-color: var(--sklearn-color-fitted-level-0);\n",
       "}\n",
       "\n",
       "/* on hover */\n",
       "#sk-container-id-1 div.sk-estimator:hover {\n",
       "  /* unfitted */\n",
       "  background-color: var(--sklearn-color-unfitted-level-2);\n",
       "}\n",
       "\n",
       "#sk-container-id-1 div.sk-estimator.fitted:hover {\n",
       "  /* fitted */\n",
       "  background-color: var(--sklearn-color-fitted-level-2);\n",
       "}\n",
       "\n",
       "/* Specification for estimator info (e.g. \"i\" and \"?\") */\n",
       "\n",
       "/* Common style for \"i\" and \"?\" */\n",
       "\n",
       ".sk-estimator-doc-link,\n",
       "a:link.sk-estimator-doc-link,\n",
       "a:visited.sk-estimator-doc-link {\n",
       "  float: right;\n",
       "  font-size: smaller;\n",
       "  line-height: 1em;\n",
       "  font-family: monospace;\n",
       "  background-color: var(--sklearn-color-background);\n",
       "  border-radius: 1em;\n",
       "  height: 1em;\n",
       "  width: 1em;\n",
       "  text-decoration: none !important;\n",
       "  margin-left: 0.5em;\n",
       "  text-align: center;\n",
       "  /* unfitted */\n",
       "  border: var(--sklearn-color-unfitted-level-1) 1pt solid;\n",
       "  color: var(--sklearn-color-unfitted-level-1);\n",
       "}\n",
       "\n",
       ".sk-estimator-doc-link.fitted,\n",
       "a:link.sk-estimator-doc-link.fitted,\n",
       "a:visited.sk-estimator-doc-link.fitted {\n",
       "  /* fitted */\n",
       "  border: var(--sklearn-color-fitted-level-1) 1pt solid;\n",
       "  color: var(--sklearn-color-fitted-level-1);\n",
       "}\n",
       "\n",
       "/* On hover */\n",
       "div.sk-estimator:hover .sk-estimator-doc-link:hover,\n",
       ".sk-estimator-doc-link:hover,\n",
       "div.sk-label-container:hover .sk-estimator-doc-link:hover,\n",
       ".sk-estimator-doc-link:hover {\n",
       "  /* unfitted */\n",
       "  background-color: var(--sklearn-color-unfitted-level-3);\n",
       "  color: var(--sklearn-color-background);\n",
       "  text-decoration: none;\n",
       "}\n",
       "\n",
       "div.sk-estimator.fitted:hover .sk-estimator-doc-link.fitted:hover,\n",
       ".sk-estimator-doc-link.fitted:hover,\n",
       "div.sk-label-container:hover .sk-estimator-doc-link.fitted:hover,\n",
       ".sk-estimator-doc-link.fitted:hover {\n",
       "  /* fitted */\n",
       "  background-color: var(--sklearn-color-fitted-level-3);\n",
       "  color: var(--sklearn-color-background);\n",
       "  text-decoration: none;\n",
       "}\n",
       "\n",
       "/* Span, style for the box shown on hovering the info icon */\n",
       ".sk-estimator-doc-link span {\n",
       "  display: none;\n",
       "  z-index: 9999;\n",
       "  position: relative;\n",
       "  font-weight: normal;\n",
       "  right: .2ex;\n",
       "  padding: .5ex;\n",
       "  margin: .5ex;\n",
       "  width: min-content;\n",
       "  min-width: 20ex;\n",
       "  max-width: 50ex;\n",
       "  color: var(--sklearn-color-text);\n",
       "  box-shadow: 2pt 2pt 4pt #999;\n",
       "  /* unfitted */\n",
       "  background: var(--sklearn-color-unfitted-level-0);\n",
       "  border: .5pt solid var(--sklearn-color-unfitted-level-3);\n",
       "}\n",
       "\n",
       ".sk-estimator-doc-link.fitted span {\n",
       "  /* fitted */\n",
       "  background: var(--sklearn-color-fitted-level-0);\n",
       "  border: var(--sklearn-color-fitted-level-3);\n",
       "}\n",
       "\n",
       ".sk-estimator-doc-link:hover span {\n",
       "  display: block;\n",
       "}\n",
       "\n",
       "/* \"?\"-specific style due to the `<a>` HTML tag */\n",
       "\n",
       "#sk-container-id-1 a.estimator_doc_link {\n",
       "  float: right;\n",
       "  font-size: 1rem;\n",
       "  line-height: 1em;\n",
       "  font-family: monospace;\n",
       "  background-color: var(--sklearn-color-background);\n",
       "  border-radius: 1rem;\n",
       "  height: 1rem;\n",
       "  width: 1rem;\n",
       "  text-decoration: none;\n",
       "  /* unfitted */\n",
       "  color: var(--sklearn-color-unfitted-level-1);\n",
       "  border: var(--sklearn-color-unfitted-level-1) 1pt solid;\n",
       "}\n",
       "\n",
       "#sk-container-id-1 a.estimator_doc_link.fitted {\n",
       "  /* fitted */\n",
       "  border: var(--sklearn-color-fitted-level-1) 1pt solid;\n",
       "  color: var(--sklearn-color-fitted-level-1);\n",
       "}\n",
       "\n",
       "/* On hover */\n",
       "#sk-container-id-1 a.estimator_doc_link:hover {\n",
       "  /* unfitted */\n",
       "  background-color: var(--sklearn-color-unfitted-level-3);\n",
       "  color: var(--sklearn-color-background);\n",
       "  text-decoration: none;\n",
       "}\n",
       "\n",
       "#sk-container-id-1 a.estimator_doc_link.fitted:hover {\n",
       "  /* fitted */\n",
       "  background-color: var(--sklearn-color-fitted-level-3);\n",
       "}\n",
       "</style><div id=\"sk-container-id-1\" class=\"sk-top-container\"><div class=\"sk-text-repr-fallback\"><pre>KMeans(n_clusters=3, n_init=10, random_state=2025)</pre><b>In a Jupyter environment, please rerun this cell to show the HTML representation or trust the notebook. <br />On GitHub, the HTML representation is unable to render, please try loading this page with nbviewer.org.</b></div><div class=\"sk-container\" hidden><div class=\"sk-item\"><div class=\"sk-estimator fitted sk-toggleable\"><input class=\"sk-toggleable__control sk-hidden--visually\" id=\"sk-estimator-id-1\" type=\"checkbox\" checked><label for=\"sk-estimator-id-1\" class=\"sk-toggleable__label fitted sk-toggleable__label-arrow\"><div><div>KMeans</div></div><div><a class=\"sk-estimator-doc-link fitted\" rel=\"noreferrer\" target=\"_blank\" href=\"https://scikit-learn.org/1.6/modules/generated/sklearn.cluster.KMeans.html\">?<span>Documentation for KMeans</span></a><span class=\"sk-estimator-doc-link fitted\">i<span>Fitted</span></span></div></label><div class=\"sk-toggleable__content fitted\"><pre>KMeans(n_clusters=3, n_init=10, random_state=2025)</pre></div> </div></div></div></div>"
      ],
      "text/plain": [
       "KMeans(n_clusters=3, n_init=10, random_state=2025)"
      ]
     },
     "execution_count": 10,
     "metadata": {},
     "output_type": "execute_result"
    }
   ],
   "source": [
    "# [같이 하기] 군집화할 그룹(k) 결정하기\n",
    "\n",
    "# 우리는 먼저 몇개의 그룹으로 군집화 할지 3~10까지 수 중에서 결정하려고 3부터 2씩 올려서 클러스터링을 해보려고 한다.\n",
    "# 그러면 3개의 그룹부터 시작해 보자.\n",
    "\n",
    "\n",
    "# 1.몇개의 그룹(k)으로 군집화 할지 임의로 정해보기(k에 할당)\n",
    "k=3\n",
    "\n",
    "# 2. 모델 만들기 (그룹수 : n_clusters 파라미터 사용)\n",
    "# 동일값을 위해 random_state=2024, n_init=10으로 설정값을 같이 해본다.\n",
    "# [참고]n_init 지정 : warning을 없애기 위해 지정해준다.\n",
    "\n",
    "model_1 = KMeans(n_clusters=k, random_state=2025,n_init=10)\n",
    "\n",
    "#3. 스케일링 된 데이터에 학습\n",
    "\n",
    "model_1.fit(data)\n"
   ]
  },
  {
   "cell_type": "code",
   "execution_count": 11,
   "id": "35bde289",
   "metadata": {
    "colab": {
     "base_uri": "https://localhost:8080/"
    },
    "executionInfo": {
     "elapsed": 12,
     "status": "ok",
     "timestamp": 1744606880234,
     "user": {
      "displayName": "花咲静流（나키）",
      "userId": "14501948246392099515"
     },
     "user_tz": -540
    },
    "id": "35bde289",
    "outputId": "36e42947-4bf5-46e6-e4a5-9ce45800053d"
   },
   "outputs": [
    {
     "data": {
      "text/plain": [
       "array([[-1.00095624e-01, -1.29322455e+00, -1.01399200e-01,\n",
       "        -1.99293152e-02, -9.28814411e-02, -1.02341277e+00,\n",
       "        -1.16472826e-01,  4.99150823e-03,  3.30622986e-01,\n",
       "         3.64344710e-02, -1.98295176e-01],\n",
       "       [ 2.15866309e-02,  7.72119935e-01, -2.27414180e-02,\n",
       "         1.87984101e-04,  5.72593042e-02,  6.15023311e-01,\n",
       "        -1.48376160e-01, -1.21526606e-03, -3.45765800e-01,\n",
       "        -2.17477950e-02, -1.98295176e-01],\n",
       "       [ 6.09453769e-01,  4.97163593e-02,  1.32505911e+00,\n",
       "         1.86543467e-01, -2.50542030e-02, -2.40246713e-02,\n",
       "         3.46144404e+00, -2.81900345e-02,  2.34094919e+00,\n",
       "        -1.48653084e-03,  5.03146772e+00]])"
      ]
     },
     "execution_count": 11,
     "metadata": {},
     "output_type": "execute_result"
    }
   ],
   "source": [
    "# [같이 하기] 모델이 찾은 3개의 센트로이드를 확인해보자.\n",
    "# 센트로이드는 하나의 클러스터(k) 내 데이터의 중심이 되는 점이다.\n",
    "\n",
    "model_1.cluster_centers_"
   ]
  },
  {
   "cell_type": "markdown",
   "id": "bb94c2cd",
   "metadata": {
    "id": "bb94c2cd"
   },
   "source": [
    "#### (여러분들을 위한 tip)\n",
    "- Kmeans객체는 각 군집을 구성하는 단어 피처가 군집의 중심(Centroid)을 기준으로 얼마나 가깝게 위치해 있는지 cluster_centers_라는 속성으로 제공합니다.\n",
    "- 3개의 클러스터에 각 군집 중심점의 좌표를 확인할 수 있습니다.\n",
    "- cluster_centers_는 배열 값으로 제공되며, 행은 개별 군집을, 열은 개별 피처를 의미합니다.\n",
    "- 각 배열 내의 값은 개별 군집 내의 상대 위치를 숫자 값으로 표현한 일종의 좌표 값입니다. 예를 들어 cluster_centers[0,1]은 0번 군집에서 두 번째 피처의 위치 값입니다."
   ]
  },
  {
   "cell_type": "code",
   "execution_count": 12,
   "id": "f3ae0338-4aee-47d2-bb8a-39cecdb37c70",
   "metadata": {
    "colab": {
     "base_uri": "https://localhost:8080/"
    },
    "executionInfo": {
     "elapsed": 8,
     "status": "ok",
     "timestamp": 1744606881692,
     "user": {
      "displayName": "花咲静流（나키）",
      "userId": "14501948246392099515"
     },
     "user_tz": -540
    },
    "id": "f3ae0338-4aee-47d2-bb8a-39cecdb37c70",
    "outputId": "c6b623fa-7899-48b2-bc3d-5ee9bf91a0cc",
    "tags": []
   },
   "outputs": [
    {
     "name": "stdout",
     "output_type": "stream",
     "text": [
      "90574.1728728488\n",
      "-90574.1728728488\n"
     ]
    }
   ],
   "source": [
    "# [같이 하기] 3가지 성능지표를 통해서 확인해보기\n",
    "\n",
    "# 1. inertia(이너셔) : 각 데이터와 센트로이드(중심) 사이의 평균 제곱거리로 도출한 모델 (model.inertia_로 쓴다)\n",
    "# 2. score 매서드: 이너셔의 음수값을 반환( model.score(df))\n",
    "\n",
    "print(model_1.inertia_)\n",
    "print(model_1.score(data))"
   ]
  },
  {
   "cell_type": "markdown",
   "id": "16491b26",
   "metadata": {
    "id": "16491b26"
   },
   "source": [
    "#### (여러분들을 위한 tip)\n",
    "- KMeans 클래스는 n_init번 실행하여 이너셔가 가장 낮은 모델을 리턴합니다.\n",
    "- 하지만 마냥 이니셔가 낮다고 좋은 모델일까요?\n",
    "- k가 늘어날 수록 이너셔는 점점 작아지기 때문에 이너셔가 그다지 좋은 성능 지표가 아니라는 걸 알 수 있습니다.\n",
    "- 어차피 클러스터가 늘어날 수록 각각의 데이터는 가까운 센트로이드에 가까워지기 때문에 이너셔가 작아지는 건 당연한 결과입니다.\n",
    "- 그걸 파악하기 위해서 한번 k값에 따라 이니셔가 어떻게 변하는지 확인해 보시죠."
   ]
  },
  {
   "cell_type": "markdown",
   "id": "0a06856b-bbfe-4e96-a61a-e40ee7d4ffe7",
   "metadata": {
    "id": "0a06856b-bbfe-4e96-a61a-e40ee7d4ffe7",
    "tags": []
   },
   "source": [
    "<b> k=3을 같이 해봤으니 이제 여러분들이 한번 그룹수(k)를 바꿔가면서 판단을 해보실 차례입니다!\n",
    "<br>2씩 늘려가면서 k값을 5,7,9개의 그룹으로 나눠서 모델 학습 시키고 성능지표를 확인해 보세요!"
   ]
  },
  {
   "cell_type": "code",
   "execution_count": 13,
   "id": "5b5e9242-3870-48e2-b292-86f1d50d58d2",
   "metadata": {
    "colab": {
     "base_uri": "https://localhost:8080/"
    },
    "executionInfo": {
     "elapsed": 175,
     "status": "ok",
     "timestamp": 1744606883855,
     "user": {
      "displayName": "花咲静流（나키）",
      "userId": "14501948246392099515"
     },
     "user_tz": -540
    },
    "id": "5b5e9242-3870-48e2-b292-86f1d50d58d2",
    "outputId": "b40d0e5b-1a31-4aa2-c75f-8b4559ae8ffe"
   },
   "outputs": [
    {
     "name": "stdout",
     "output_type": "stream",
     "text": [
      "69562.75315050545\n",
      "-69562.75315050545\n"
     ]
    }
   ],
   "source": [
    "#[문제 3] 군집화할 그룹(k)을 5개로 해보자.\n",
    "\n",
    "# 1.몇개의 그룹(k)으로 군집화 할지 임의로 정해보기(k1에 할당)\n",
    "k1= 5\n",
    "\n",
    "# 2. 모델 만들기 (그룹수 : n_clusters 파라미터 사용) (model_2 에 할당)\n",
    "# 동일값을 위해 random_state=2025, n_init=10으로 설정값을 같이 해본다.\n",
    "# [참고]n_init 지정 : warning을 없애기 위해 지정해준다.\n",
    "\n",
    "model_2 = KMeans(n_clusters=k1, random_state=2025, n_init=10)\n",
    "\n",
    "#3. 스케일링 된 데이터에 학습\n",
    "model_2.fit(data)\n",
    "\n",
    "\n",
    "#4. 학습한 결과 inertia,score 로 확인 해보기\n",
    "\n",
    "print(model_2.inertia_)\n",
    "print(model_2.score(data))"
   ]
  },
  {
   "cell_type": "code",
   "execution_count": 14,
   "id": "80e8e19f-1cc2-4ad7-a98f-b993e40e84bb",
   "metadata": {
    "colab": {
     "base_uri": "https://localhost:8080/"
    },
    "executionInfo": {
     "elapsed": 162,
     "status": "ok",
     "timestamp": 1744606884520,
     "user": {
      "displayName": "花咲静流（나키）",
      "userId": "14501948246392099515"
     },
     "user_tz": -540
    },
    "id": "80e8e19f-1cc2-4ad7-a98f-b993e40e84bb",
    "outputId": "dce10ec5-c909-411c-a3ac-cfbc055c1be7"
   },
   "outputs": [
    {
     "name": "stdout",
     "output_type": "stream",
     "text": [
      "53935.57782746184\n",
      "-53935.577827461835\n"
     ]
    }
   ],
   "source": [
    "#[문제 4] 군집화할 그룹(k)을 7개로 해보자.\n",
    "\n",
    "# 1.몇개의 그룹(k)으로 군집화 할지 임의로 정해보기(k2에 할당)\n",
    "\n",
    "k2= 7\n",
    "\n",
    "# 2. 모델 만들기 (그룹수 : n_clusters 파라미터 사용) (model_3 에 할당)\n",
    "# 동일값을 위해 random_state=2025, n_init=10으로 설정값을 같이 해본다.\n",
    "# [참고]n_init 지정 : warning을 없애기 위해 지정해준다.\n",
    "\n",
    "model_3 = KMeans(n_clusters=k2, random_state=2025, n_init=10)\n",
    "\n",
    "#3. 스케일링 된 데이터에 학습\n",
    "\n",
    "model_3.fit(data)\n",
    "\n",
    "#4. 학습한 결과 inertia,score 로 확인 해보기\n",
    "\n",
    "print(model_3.inertia_)\n",
    "print(model_3.score(data))"
   ]
  },
  {
   "cell_type": "code",
   "execution_count": 15,
   "id": "2fd146d6-7d79-4719-9fd5-7eafbe9804dd",
   "metadata": {
    "colab": {
     "base_uri": "https://localhost:8080/"
    },
    "executionInfo": {
     "elapsed": 223,
     "status": "ok",
     "timestamp": 1744606885714,
     "user": {
      "displayName": "花咲静流（나키）",
      "userId": "14501948246392099515"
     },
     "user_tz": -540
    },
    "id": "2fd146d6-7d79-4719-9fd5-7eafbe9804dd",
    "outputId": "53a92208-89ea-4c79-d4a5-10a2ae8240ec"
   },
   "outputs": [
    {
     "name": "stdout",
     "output_type": "stream",
     "text": [
      "48628.02819100349\n",
      "-48628.02819100349\n"
     ]
    }
   ],
   "source": [
    "#[문제 5] 군집화할 그룹(k)을 9개로 해보자.\n",
    "\n",
    "# 1.몇개의 그룹(k)으로 군집화 할지 임의로 정해보기(k3에 할당)\n",
    "\n",
    "k3=9\n",
    "\n",
    "# 2. 모델 만들기 (그룹수 : n_clusters 파라미터 사용) (model_4 에 할당)\n",
    "# 동일값을 위해 random_state=2025, n_init=10으로 설정값을 같이 해본다.\n",
    "# [참고]n_init 지정 : warning을 없애기 위해 지정해준다.\n",
    "\n",
    "model_4 = KMeans(n_clusters=k3, random_state=2025, n_init=10)\n",
    "\n",
    "#3. 스케일링 된 데이터에 학습\n",
    "\n",
    "model_4.fit(data)\n",
    "\n",
    "#4. 학습한 결과 inertia,score 로 확인 해보기\n",
    "\n",
    "\n",
    "print(model_4.inertia_)\n",
    "print(model_4.score(data))\n"
   ]
  },
  {
   "cell_type": "markdown",
   "id": "f24abbf3",
   "metadata": {
    "id": "f24abbf3"
   },
   "source": [
    "-----------"
   ]
  },
  {
   "cell_type": "markdown",
   "id": "805baaa7",
   "metadata": {
    "id": "805baaa7"
   },
   "source": [
    "* <b>for 문을 활용해서 그래프로도 확인을 해볼까요?"
   ]
  },
  {
   "cell_type": "code",
   "execution_count": 16,
   "id": "82b9222d",
   "metadata": {
    "colab": {
     "base_uri": "https://localhost:8080/",
     "height": 1000
    },
    "executionInfo": {
     "elapsed": 8533,
     "status": "ok",
     "timestamp": 1744606895991,
     "user": {
      "displayName": "花咲静流（나키）",
      "userId": "14501948246392099515"
     },
     "user_tz": -540
    },
    "id": "82b9222d",
    "outputId": "07945ee4-7dea-4ee3-f10e-a7c5e7f789b1"
   },
   "outputs": [
    {
     "name": "stdout",
     "output_type": "stream",
     "text": [
      "n_cluster:2, inertia:110732.53062808211\n",
      "---------\n",
      "n_cluster:3, inertia:90574.1728728488\n",
      "---------\n",
      "n_cluster:4, inertia:79134.23910277369\n",
      "---------\n",
      "n_cluster:5, inertia:69562.75315050545\n",
      "---------\n",
      "n_cluster:6, inertia:60892.413599571606\n",
      "---------\n",
      "n_cluster:7, inertia:53935.57782746184\n",
      "---------\n",
      "n_cluster:8, inertia:50635.84123403544\n",
      "---------\n",
      "n_cluster:9, inertia:48628.02819100349\n",
      "---------\n",
      "n_cluster:10, inertia:44740.42514171736\n",
      "---------\n",
      "n_cluster:11, inertia:42856.11058819026\n",
      "---------\n",
      "n_cluster:12, inertia:41010.309405967746\n",
      "---------\n",
      "n_cluster:13, inertia:39744.740189299184\n",
      "---------\n",
      "n_cluster:14, inertia:38686.32187321892\n",
      "---------\n",
      "n_cluster:15, inertia:37223.724837330694\n",
      "---------\n",
      "n_cluster:16, inertia:35840.53002742036\n",
      "---------\n",
      "n_cluster:17, inertia:34677.371799488676\n",
      "---------\n",
      "n_cluster:18, inertia:33996.43481732581\n",
      "---------\n",
      "n_cluster:19, inertia:32714.58019376232\n",
      "---------\n",
      "n_cluster:20, inertia:31832.90160317411\n",
      "---------\n"
     ]
    },
    {
     "data": {
      "image/png": "[encoded data removed]",
      "text/plain": [
       "<Figure size 800x550 with 1 Axes>"
      ]
     },
     "metadata": {},
     "output_type": "display_data"
    }
   ],
   "source": [
    "#[문제 6] for 문을 활용해서 2~20까지 k값을 넣어서 성능지표 확인하기\n",
    "\n",
    "ks= range(2,21)          # k값 범위 지정(range(2,21)) 후 ks 변수에 할당\n",
    "inertias = []  # 이너셔 결과를 저장하기 위한 빈 리스트 생성 (변수명 inertias)\n",
    "\n",
    "for k  in  ks : # for문 활용\n",
    "    model =  KMeans(n_clusters=k, random_state=2025, n_init=10)           # k-means 모델 만들기(그룹수 : n_clusters 파라미터 사용,n_init=10)\n",
    "    model.fit(data)                    # 모델 학습\n",
    "    inertias.append(model.inertia_)                    # 이너셔 결과를 inertias 리스트에 계속 저장(append 활용)\n",
    "    print('n_cluster:{}, inertia:{}'.format(k, model.inertia_))\n",
    "    print('---------') # n_cluster, inertia 결과 출력\n",
    "\n",
    "\n",
    "plt.Figure(figsize=(15,6))\n",
    "plt.plot(ks,inertias,'-o') # '-o'는 실선과 원을 같이 시각화\n",
    "plt.xlabel('k')\n",
    "plt.ylabel('inertia')\n",
    "plt.xticks(ks)\n",
    "plt.grid()\n",
    "plt.show()"
   ]
  },
  {
   "cell_type": "markdown",
   "id": "ee9d3786",
   "metadata": {
    "id": "ee9d3786"
   },
   "source": [
    "여기서는 확실하게 어떤 k 값이 좋은지 파악하기가 힘들긴 하네요"
   ]
  },
  {
   "cell_type": "markdown",
   "id": "b9617bab-45c4-4138-94a9-a148a1d5b722",
   "metadata": {
    "id": "b9617bab-45c4-4138-94a9-a148a1d5b722"
   },
   "source": [
    "### <b>**3) [참조]Elbow Method 활용해서 k 값 구하기**\n",
    "* yellowbrick의 k-Elbow Mehod를 활용해서 최적의 k 값을 구하기(k값 결정하기 쉽게 도와주는 함수)"
   ]
  },
  {
   "cell_type": "code",
   "execution_count": 17,
   "id": "d69955eb-1eea-4a9f-9fd1-f312b742b710",
   "metadata": {
    "colab": {
     "base_uri": "https://localhost:8080/",
     "height": 543
    },
    "executionInfo": {
     "elapsed": 6020,
     "status": "ok",
     "timestamp": 1744606902012,
     "user": {
      "displayName": "花咲静流（나키）",
      "userId": "14501948246392099515"
     },
     "user_tz": -540
    },
    "id": "d69955eb-1eea-4a9f-9fd1-f312b742b710",
    "outputId": "913bce9f-e107-4138-f71e-eb4492e6aca6"
   },
   "outputs": [
    {
     "data": {
      "image/png": "[encoded data removed]",
      "text/plain": [
       "<Figure size 800x550 with 2 Axes>"
      ]
     },
     "metadata": {},
     "output_type": "display_data"
    },
    {
     "data": {
      "text/plain": [
       "<Axes: title={'center': 'Distortion Score Elbow for KMeans Clustering'}, xlabel='k', ylabel='distortion score'>"
      ]
     },
     "execution_count": 17,
     "metadata": {},
     "output_type": "execute_result"
    }
   ],
   "source": [
    "#[문제 7] Elbow Method를 통해 최적의 군집 수 도출을 해보자.\n",
    "\n",
    "# 1. 모델 선언하기(random_state=2025, n_init = 10 으로 설정)(model_E로 할당)\n",
    "\n",
    "model_E = KMeans(random_state=2025,n_init=10)\n",
    "\n",
    "# 2. KElbowVisualizer 에 k-means 모델과 k값 넣어서 만들기(Elbow_M 에 할당)\n",
    "# k값은 k=(2,21)사이의 값중에서 찾는 것으로 넣으면 된다.\n",
    "\n",
    "Elbow_M = KElbowVisualizer(model_E,k=(2,21))\n",
    "\n",
    "# 3. Elbow 모델 학습하기(fit)\n",
    "\n",
    "Elbow_M.fit(data)\n",
    "\n",
    "# 4. Elbow 모델 확인하기(show()활용)\n",
    "\n",
    "Elbow_M.show()"
   ]
  },
  {
   "cell_type": "markdown",
   "id": "cc94fd69-9fa2-4868-9d7e-2f252c459758",
   "metadata": {
    "id": "cc94fd69-9fa2-4868-9d7e-2f252c459758"
   },
   "source": [
    "### <b>**4) 최적의 k 값으로 모델링**\n",
    "* Elbow Method를 통해 나온 최적의 k값으로 모델링을 해보자."
   ]
  },
  {
   "cell_type": "code",
   "execution_count": 18,
   "id": "81a80def-05ea-4077-bb3b-608612580ea8",
   "metadata": {
    "colab": {
     "base_uri": "https://localhost:8080/",
     "height": 310
    },
    "executionInfo": {
     "elapsed": 224,
     "status": "ok",
     "timestamp": 1744606906696,
     "user": {
      "displayName": "花咲静流（나키）",
      "userId": "14501948246392099515"
     },
     "user_tz": -540
    },
    "id": "81a80def-05ea-4077-bb3b-608612580ea8",
    "outputId": "5d949983-24f6-4ad3-d567-95723dc95ac1"
   },
   "outputs": [
    {
     "data": {
      "text/html": [
       "<div>\n",
       "<style scoped>\n",
       "    .dataframe tbody tr th:only-of-type {\n",
       "        vertical-align: middle;\n",
       "    }\n",
       "\n",
       "    .dataframe tbody tr th {\n",
       "        vertical-align: top;\n",
       "    }\n",
       "\n",
       "    .dataframe thead th {\n",
       "        text-align: right;\n",
       "    }\n",
       "</style>\n",
       "<table border=\"1\" class=\"dataframe\">\n",
       "  <thead>\n",
       "    <tr style=\"text-align: right;\">\n",
       "      <th></th>\n",
       "      <th>AGE</th>\n",
       "      <th>등록(계/피)</th>\n",
       "      <th>고용상태</th>\n",
       "      <th>성별</th>\n",
       "      <th>Willingness to pay/Stay</th>\n",
       "      <th>갱신</th>\n",
       "      <th>상품타입</th>\n",
       "      <th>교육수준</th>\n",
       "      <th>소득</th>\n",
       "      <th>지역</th>\n",
       "      <th>결혼여부</th>\n",
       "      <th>월 납입액</th>\n",
       "      <th>VOC</th>\n",
       "      <th>타 상품 보유 현황</th>\n",
       "      <th>온라인방문빈도</th>\n",
       "      <th>갱신인센티브</th>\n",
       "      <th>판매채널</th>\n",
       "      <th>총지불금액</th>\n",
       "      <th>자동차</th>\n",
       "      <th>거주지사이즈</th>\n",
       "    </tr>\n",
       "  </thead>\n",
       "  <tbody>\n",
       "    <tr>\n",
       "      <th>0</th>\n",
       "      <td>3</td>\n",
       "      <td>피보험자</td>\n",
       "      <td>무직</td>\n",
       "      <td>1</td>\n",
       "      <td>2.62</td>\n",
       "      <td>0</td>\n",
       "      <td>기본</td>\n",
       "      <td>대학졸업</td>\n",
       "      <td>0</td>\n",
       "      <td>도시근교</td>\n",
       "      <td>미혼</td>\n",
       "      <td>80</td>\n",
       "      <td>0</td>\n",
       "      <td>1</td>\n",
       "      <td>자주방문</td>\n",
       "      <td>없음</td>\n",
       "      <td>자사영업</td>\n",
       "      <td>631000</td>\n",
       "      <td>일반세단</td>\n",
       "      <td>소</td>\n",
       "    </tr>\n",
       "    <tr>\n",
       "      <th>1</th>\n",
       "      <td>1</td>\n",
       "      <td>계약자</td>\n",
       "      <td>고용</td>\n",
       "      <td>0</td>\n",
       "      <td>6.35</td>\n",
       "      <td>0</td>\n",
       "      <td>기본</td>\n",
       "      <td>고졸이하</td>\n",
       "      <td>102887400</td>\n",
       "      <td>시골</td>\n",
       "      <td>미혼</td>\n",
       "      <td>80</td>\n",
       "      <td>1</td>\n",
       "      <td>4이상</td>\n",
       "      <td>비방문</td>\n",
       "      <td>포인트</td>\n",
       "      <td>인터넷</td>\n",
       "      <td>54000</td>\n",
       "      <td>일반세단</td>\n",
       "      <td>중</td>\n",
       "    </tr>\n",
       "    <tr>\n",
       "      <th>2</th>\n",
       "      <td>2</td>\n",
       "      <td>계약자</td>\n",
       "      <td>휴직</td>\n",
       "      <td>0</td>\n",
       "      <td>4.97</td>\n",
       "      <td>0</td>\n",
       "      <td>기본</td>\n",
       "      <td>대학졸업</td>\n",
       "      <td>22159500</td>\n",
       "      <td>도시근교</td>\n",
       "      <td>기혼</td>\n",
       "      <td>60</td>\n",
       "      <td>0</td>\n",
       "      <td>4이상</td>\n",
       "      <td>비방문</td>\n",
       "      <td>할인</td>\n",
       "      <td>자사영업</td>\n",
       "      <td>362000</td>\n",
       "      <td>일반세단</td>\n",
       "      <td>중</td>\n",
       "    </tr>\n",
       "    <tr>\n",
       "      <th>3</th>\n",
       "      <td>5</td>\n",
       "      <td>계약자</td>\n",
       "      <td>고용</td>\n",
       "      <td>1</td>\n",
       "      <td>13.48</td>\n",
       "      <td>0</td>\n",
       "      <td>고급</td>\n",
       "      <td>고졸이하</td>\n",
       "      <td>51562500</td>\n",
       "      <td>도시근교</td>\n",
       "      <td>기혼</td>\n",
       "      <td>110</td>\n",
       "      <td>0</td>\n",
       "      <td>2</td>\n",
       "      <td>비방문</td>\n",
       "      <td>할인</td>\n",
       "      <td>자사영업</td>\n",
       "      <td>1264000</td>\n",
       "      <td>컴팩트카</td>\n",
       "      <td>대</td>\n",
       "    </tr>\n",
       "    <tr>\n",
       "      <th>4</th>\n",
       "      <td>4</td>\n",
       "      <td>계약자</td>\n",
       "      <td>고용</td>\n",
       "      <td>0</td>\n",
       "      <td>9.78</td>\n",
       "      <td>0</td>\n",
       "      <td>기본</td>\n",
       "      <td>석사</td>\n",
       "      <td>26820200</td>\n",
       "      <td>도시근교</td>\n",
       "      <td>기혼</td>\n",
       "      <td>120</td>\n",
       "      <td>0</td>\n",
       "      <td>3</td>\n",
       "      <td>비방문</td>\n",
       "      <td>없음</td>\n",
       "      <td>대리점</td>\n",
       "      <td>947000</td>\n",
       "      <td>SUV</td>\n",
       "      <td>중</td>\n",
       "    </tr>\n",
       "  </tbody>\n",
       "</table>\n",
       "</div>"
      ],
      "text/plain": [
       "   AGE 등록(계/피) 고용상태  성별  Willingness to pay/Stay  갱신 상품타입  교육수준         소득  \\\n",
       "0    3    피보험자   무직   1                     2.62   0   기본  대학졸업          0   \n",
       "1    1     계약자   고용   0                     6.35   0   기본  고졸이하  102887400   \n",
       "2    2     계약자   휴직   0                     4.97   0   기본  대학졸업   22159500   \n",
       "3    5     계약자   고용   1                    13.48   0   고급  고졸이하   51562500   \n",
       "4    4     계약자   고용   0                     9.78   0   기본    석사   26820200   \n",
       "\n",
       "     지역 결혼여부  월 납입액  VOC 타 상품 보유 현황 온라인방문빈도 갱신인센티브  판매채널    총지불금액   자동차 거주지사이즈  \n",
       "0  도시근교   미혼     80    0          1    자주방문     없음  자사영업   631000  일반세단      소  \n",
       "1    시골   미혼     80    1        4이상     비방문    포인트   인터넷    54000  일반세단      중  \n",
       "2  도시근교   기혼     60    0        4이상     비방문     할인  자사영업   362000  일반세단      중  \n",
       "3  도시근교   기혼    110    0          2     비방문     할인  자사영업  1264000  컴팩트카      대  \n",
       "4  도시근교   기혼    120    0          3     비방문     없음   대리점   947000   SUV      중  "
      ]
     },
     "execution_count": 18,
     "metadata": {},
     "output_type": "execute_result"
    }
   ],
   "source": [
    "# [문제 8] 원본 데이터('customers_seg.csv') 불러오기\n",
    "\n",
    "# 1. scale이 안된 원본 data에 clust를 맵핑 시키기 위해 원본 데이터('customers_seg.csv')도 불러옵시다\n",
    "# data0 라는 변수에 할당하기\n",
    "data0 = pd.read_csv(path+'customers_seg.csv')\n",
    "\n",
    "# 2. 'CID'는 활용하지 않을 예정으로 삭제합니다.\n",
    "data0 = data0.drop('CID', axis =1)\n",
    "\n",
    "# 3. 데이터 상위 5개 확인하기\n",
    "data0.head()"
   ]
  },
  {
   "cell_type": "code",
   "execution_count": 19,
   "id": "0740e020-d1e0-4b17-87b3-994273276908",
   "metadata": {
    "executionInfo": {
     "elapsed": 312,
     "status": "ok",
     "timestamp": 1744607044387,
     "user": {
      "displayName": "花咲静流（나키）",
      "userId": "14501948246392099515"
     },
     "user_tz": -540
    },
    "id": "0740e020-d1e0-4b17-87b3-994273276908"
   },
   "outputs": [],
   "source": [
    "# [문제 9] 최적의 k 값으로 k-means 모델을 구성해보자.\n",
    "\n",
    "#1.최적의 k 값으로 군집 수 선택 (k4에 할당)\n",
    "k4= 7\n",
    "\n",
    "# 2. 모델 만들기 (그룹수 : n_clusters 파라미터 사용) (model_B 에 할당)\n",
    "# 동일값을 위해 random_state=2025, n_init=10으로 설정값을 같이 해본다.\n",
    "# [참고]n_init의 기본 값이 10 이나 warning을 없애기 위해 지정해준다.\n",
    "\n",
    "model_B = KMeans(n_clusters=k4, random_state=2025, n_init=10)\n",
    "\n",
    "#3. 스케일링 된 데이터에 학습\n",
    "model_B.fit(data)\n",
    "\n",
    "\n",
    "#4. 클러스터링 된 결과 각 데이터가 몇번째 그룹에 속하는지 확인 및 저장(.predict)\n",
    "\n",
    "cluster = model_B.predict(data)"
   ]
  },
  {
   "cell_type": "code",
   "execution_count": 20,
   "id": "1415cdd5-7840-47b2-923a-9d2dffb1c067",
   "metadata": {
    "executionInfo": {
     "elapsed": 177,
     "status": "ok",
     "timestamp": 1744607377091,
     "user": {
      "displayName": "花咲静流（나키）",
      "userId": "14501948246392099515"
     },
     "user_tz": -540
    },
    "id": "1415cdd5-7840-47b2-923a-9d2dffb1c067"
   },
   "outputs": [],
   "source": [
    "# [문제 10] 예측결과와 원본 데이터 합치기\n",
    "\n",
    "#1. 예측 결과를 데이터프레임으로 만들고\n",
    "\n",
    "cluster = pd.DataFrame(cluster, columns = ['cluster'])\n",
    "\n",
    "\n",
    "#2. 원본 데이터와 합쳐서, result로 저장 --> ()안에 작성해보기!\n",
    "\n",
    "result = pd.concat([data0,cluster],axis=1)\n",
    "\n",
    "#3. 예측 결과는 카테고리 타입으로 변경\n",
    "result['cluster'] = pd.Categorical(result['cluster'] )\n",
    "result.head()\n",
    "\n",
    "#4. 결과 저장 --> 코드 마무리!\n",
    "result.to_csv(path+'result.csv',index=False)\n"
   ]
  },
  {
   "cell_type": "markdown",
   "id": "f11f1c33-96b8-4088-b7a2-016f7c0f9252",
   "metadata": {
    "id": "f11f1c33-96b8-4088-b7a2-016f7c0f9252"
   },
   "source": [
    "<b> 각 고객별로 군집 된 번호가 데이터 프레임에 생성한 것을 볼 수 있습니다! 다 왔습니다!\n",
    "\n",
    "* 이제부터 조별 과제를 수행합니다.\n",
    "    * 조 내에서 최적의 K값으로 군집을 수행한 결과(result)를 하나 선정해서\n",
    "    * 모든 조원들이 동일한 데이터를 로딩하고\n",
    "    * 프로파일링을 시작합니다.\n"
   ]
  },
  {
   "cell_type": "markdown",
   "id": "a00a6542-d91a-43a7-afc6-804f648bbf07",
   "metadata": {
    "id": "a00a6542-d91a-43a7-afc6-804f648bbf07"
   },
   "source": [
    "---------------------------------------------------------------------------------------------\n",
    "# **2. 프로파일링**"
   ]
  },
  {
   "cell_type": "markdown",
   "id": "fbc1fc17-c7d5-4b04-801b-f21c44731a05",
   "metadata": {
    "id": "fbc1fc17-c7d5-4b04-801b-f21c44731a05"
   },
   "source": [
    "<b>프로파일링 이란?\n",
    "> <b>군집의 구조와 내용을 분석하고 도메인 및 현업업무의 '추론'을 바탕으로 분석의 결과를 적용 가능하도록 하는 과정. 데이터를 통해서 군집별 특성을 파악하는 것에 목적은 두는 기법"
   ]
  },
  {
   "cell_type": "markdown",
   "id": "3a35df1b",
   "metadata": {
    "id": "3a35df1b"
   },
   "source": [
    "<font color=\"1E90FF\"><b>★ 프로파일링을 위해 군집간의 차이를 도메인 및 업무 관점으로 해석해야한다.</font>\n",
    "\n",
    "* 우리는 총 20개의 컬럼을 clust 별로 업무관점으로 해석하고 정리가 필요하다.\n",
    "  <br>* 범주형/수치형 데이터 별로도 특징과 해석방법이 조금 다르다\n",
    "  <br>* 개인별로 약 6개의 변수에 대한 군집간 차이 분석해보기!(하나의 변수당 2명이상이 분석 수행해야 비교가 된다!)\n",
    "\n",
    "* 도메인 지식을 총 동원 해서 각 컬럼의 clust 별 인사이트를 도출 해 보자!"
   ]
  },
  {
   "cell_type": "markdown",
   "id": "b6f410f9",
   "metadata": {
    "id": "b6f410f9"
   },
   "source": [
    "## **(1) 컬럼 확인해보기**"
   ]
  },
  {
   "cell_type": "code",
   "execution_count": 66,
   "id": "c36c10ae",
   "metadata": {
    "id": "c36c10ae"
   },
   "outputs": [
    {
     "name": "stdout",
     "output_type": "stream",
     "text": [
      "<class 'pandas.core.frame.DataFrame'>\n",
      "RangeIndex: 12000 entries, 0 to 11999\n",
      "Data columns (total 21 columns):\n",
      " #   Column                   Non-Null Count  Dtype  \n",
      "---  ------                   --------------  -----  \n",
      " 0   AGE                      12000 non-null  int64  \n",
      " 1   등록(계/피)                  12000 non-null  object \n",
      " 2   고용상태                     12000 non-null  object \n",
      " 3   성별                       12000 non-null  int64  \n",
      " 4   Willingness to pay/Stay  12000 non-null  float64\n",
      " 5   갱신                       12000 non-null  int64  \n",
      " 6   상품타입                     12000 non-null  object \n",
      " 7   교육수준                     12000 non-null  object \n",
      " 8   소득                       12000 non-null  int64  \n",
      " 9   지역                       12000 non-null  object \n",
      " 10  결혼여부                     12000 non-null  object \n",
      " 11  월 납입액                    12000 non-null  int64  \n",
      " 12  VOC                      12000 non-null  int64  \n",
      " 13  타 상품 보유 현황               12000 non-null  object \n",
      " 14  온라인방문빈도                  12000 non-null  object \n",
      " 15  갱신인센티브                   12000 non-null  object \n",
      " 16  판매채널                     12000 non-null  object \n",
      " 17  총지불금액                    12000 non-null  int64  \n",
      " 18  자동차                      12000 non-null  object \n",
      " 19  거주지사이즈                   12000 non-null  object \n",
      " 20  cluster                  12000 non-null  int64  \n",
      "dtypes: float64(1), int64(8), object(12)\n",
      "memory usage: 1.9+ MB\n"
     ]
    }
   ],
   "source": [
    "#[문제 11~12] result에 대해 info를 통해서 범주형/수치형 데이터 확인해보고 어떤 컬럼들이 있었는지 확인\n",
    "# 1. 데이터 불러오기(조에서 하나의 결과를 선정해서 공유)\n",
    "result = pd.read_csv(path+\"result.csv\")\n",
    "\n",
    "# 2. info로 확인하기\n",
    "result.info()"
   ]
  },
  {
   "cell_type": "markdown",
   "id": "868be271",
   "metadata": {
    "id": "868be271"
   },
   "source": [
    "<b>cluster 컬럼을 제외하고 그 다음 컬럼인 age 부터 차례대로 군집간의 차이를 업무관점으로 해석해 보기!\n",
    "\n",
    "[tip]\n",
    "* 범주형으로 되어있는 컬럼과 수치형으로 되어있는 컬럼이 해석하는 방법이 다르다.\n",
    "* 컬럼이 어떤 컬럼인지 확인해보고 특징들을 파악해보자."
   ]
  },
  {
   "cell_type": "markdown",
   "id": "f575281c",
   "metadata": {
    "id": "f575281c"
   },
   "source": [
    "----------"
   ]
  },
  {
   "cell_type": "markdown",
   "id": "45b776d6-e18f-4bb7-a2ba-ffd6c651f685",
   "metadata": {
    "id": "45b776d6-e18f-4bb7-a2ba-ffd6c651f685"
   },
   "source": [
    "### **1) AGE**"
   ]
  },
  {
   "cell_type": "code",
   "execution_count": 67,
   "id": "dbb046aa-cd9b-48a2-aee5-68493fd2303a",
   "metadata": {
    "id": "dbb046aa-cd9b-48a2-aee5-68493fd2303a"
   },
   "outputs": [
    {
     "data": {
      "text/html": [
       "<div>\n",
       "<style scoped>\n",
       "    .dataframe tbody tr th:only-of-type {\n",
       "        vertical-align: middle;\n",
       "    }\n",
       "\n",
       "    .dataframe tbody tr th {\n",
       "        vertical-align: top;\n",
       "    }\n",
       "\n",
       "    .dataframe thead th {\n",
       "        text-align: right;\n",
       "    }\n",
       "</style>\n",
       "<table border=\"1\" class=\"dataframe\">\n",
       "  <thead>\n",
       "    <tr style=\"text-align: right;\">\n",
       "      <th>cluster</th>\n",
       "      <th>0</th>\n",
       "      <th>1</th>\n",
       "      <th>2</th>\n",
       "      <th>3</th>\n",
       "      <th>4</th>\n",
       "      <th>5</th>\n",
       "      <th>6</th>\n",
       "      <th>All</th>\n",
       "      <th>0</th>\n",
       "      <th>1</th>\n",
       "      <th>2</th>\n",
       "      <th>3</th>\n",
       "      <th>4</th>\n",
       "      <th>5</th>\n",
       "      <th>6</th>\n",
       "      <th>All</th>\n",
       "    </tr>\n",
       "    <tr>\n",
       "      <th>AGE</th>\n",
       "      <th></th>\n",
       "      <th></th>\n",
       "      <th></th>\n",
       "      <th></th>\n",
       "      <th></th>\n",
       "      <th></th>\n",
       "      <th></th>\n",
       "      <th></th>\n",
       "      <th></th>\n",
       "      <th></th>\n",
       "      <th></th>\n",
       "      <th></th>\n",
       "      <th></th>\n",
       "      <th></th>\n",
       "      <th></th>\n",
       "      <th></th>\n",
       "    </tr>\n",
       "  </thead>\n",
       "  <tbody>\n",
       "    <tr>\n",
       "      <th>1</th>\n",
       "      <td>81</td>\n",
       "      <td>0</td>\n",
       "      <td>14</td>\n",
       "      <td>0</td>\n",
       "      <td>132</td>\n",
       "      <td>137</td>\n",
       "      <td>1090</td>\n",
       "      <td>1454</td>\n",
       "      <td>0.08</td>\n",
       "      <td>0.00</td>\n",
       "      <td>0.03</td>\n",
       "      <td>0.00</td>\n",
       "      <td>0.15</td>\n",
       "      <td>0.14</td>\n",
       "      <td>0.63</td>\n",
       "      <td>0.12</td>\n",
       "    </tr>\n",
       "    <tr>\n",
       "      <th>2</th>\n",
       "      <td>104</td>\n",
       "      <td>0</td>\n",
       "      <td>38</td>\n",
       "      <td>506</td>\n",
       "      <td>123</td>\n",
       "      <td>136</td>\n",
       "      <td>631</td>\n",
       "      <td>1538</td>\n",
       "      <td>0.11</td>\n",
       "      <td>0.00</td>\n",
       "      <td>0.08</td>\n",
       "      <td>0.15</td>\n",
       "      <td>0.14</td>\n",
       "      <td>0.14</td>\n",
       "      <td>0.37</td>\n",
       "      <td>0.13</td>\n",
       "    </tr>\n",
       "    <tr>\n",
       "      <th>3</th>\n",
       "      <td>349</td>\n",
       "      <td>1063</td>\n",
       "      <td>165</td>\n",
       "      <td>2434</td>\n",
       "      <td>308</td>\n",
       "      <td>456</td>\n",
       "      <td>0</td>\n",
       "      <td>4775</td>\n",
       "      <td>0.36</td>\n",
       "      <td>0.29</td>\n",
       "      <td>0.36</td>\n",
       "      <td>0.74</td>\n",
       "      <td>0.34</td>\n",
       "      <td>0.46</td>\n",
       "      <td>0.00</td>\n",
       "      <td>0.40</td>\n",
       "    </tr>\n",
       "    <tr>\n",
       "      <th>4</th>\n",
       "      <td>225</td>\n",
       "      <td>1941</td>\n",
       "      <td>91</td>\n",
       "      <td>363</td>\n",
       "      <td>285</td>\n",
       "      <td>219</td>\n",
       "      <td>0</td>\n",
       "      <td>3124</td>\n",
       "      <td>0.23</td>\n",
       "      <td>0.53</td>\n",
       "      <td>0.20</td>\n",
       "      <td>0.11</td>\n",
       "      <td>0.32</td>\n",
       "      <td>0.22</td>\n",
       "      <td>0.00</td>\n",
       "      <td>0.26</td>\n",
       "    </tr>\n",
       "    <tr>\n",
       "      <th>5</th>\n",
       "      <td>202</td>\n",
       "      <td>636</td>\n",
       "      <td>117</td>\n",
       "      <td>0</td>\n",
       "      <td>48</td>\n",
       "      <td>54</td>\n",
       "      <td>0</td>\n",
       "      <td>1057</td>\n",
       "      <td>0.21</td>\n",
       "      <td>0.17</td>\n",
       "      <td>0.26</td>\n",
       "      <td>0.00</td>\n",
       "      <td>0.05</td>\n",
       "      <td>0.05</td>\n",
       "      <td>0.00</td>\n",
       "      <td>0.09</td>\n",
       "    </tr>\n",
       "    <tr>\n",
       "      <th>6</th>\n",
       "      <td>11</td>\n",
       "      <td>12</td>\n",
       "      <td>29</td>\n",
       "      <td>0</td>\n",
       "      <td>0</td>\n",
       "      <td>0</td>\n",
       "      <td>0</td>\n",
       "      <td>52</td>\n",
       "      <td>0.01</td>\n",
       "      <td>0.00</td>\n",
       "      <td>0.06</td>\n",
       "      <td>0.00</td>\n",
       "      <td>0.00</td>\n",
       "      <td>0.00</td>\n",
       "      <td>0.00</td>\n",
       "      <td>0.00</td>\n",
       "    </tr>\n",
       "    <tr>\n",
       "      <th>All</th>\n",
       "      <td>972</td>\n",
       "      <td>3652</td>\n",
       "      <td>454</td>\n",
       "      <td>3303</td>\n",
       "      <td>896</td>\n",
       "      <td>1002</td>\n",
       "      <td>1721</td>\n",
       "      <td>12000</td>\n",
       "      <td>NaN</td>\n",
       "      <td>NaN</td>\n",
       "      <td>NaN</td>\n",
       "      <td>NaN</td>\n",
       "      <td>NaN</td>\n",
       "      <td>NaN</td>\n",
       "      <td>NaN</td>\n",
       "      <td>NaN</td>\n",
       "    </tr>\n",
       "  </tbody>\n",
       "</table>\n",
       "</div>"
      ],
      "text/plain": [
       "cluster    0     1    2     3    4     5     6    All    0    1    2    3  \\\n",
       "AGE                                                                         \n",
       "1         81     0   14     0  132   137  1090   1454 0.08 0.00 0.03 0.00   \n",
       "2        104     0   38   506  123   136   631   1538 0.11 0.00 0.08 0.15   \n",
       "3        349  1063  165  2434  308   456     0   4775 0.36 0.29 0.36 0.74   \n",
       "4        225  1941   91   363  285   219     0   3124 0.23 0.53 0.20 0.11   \n",
       "5        202   636  117     0   48    54     0   1057 0.21 0.17 0.26 0.00   \n",
       "6         11    12   29     0    0     0     0     52 0.01 0.00 0.06 0.00   \n",
       "All      972  3652  454  3303  896  1002  1721  12000  NaN  NaN  NaN  NaN   \n",
       "\n",
       "cluster    4    5    6  All  \n",
       "AGE                          \n",
       "1       0.15 0.14 0.63 0.12  \n",
       "2       0.14 0.14 0.37 0.13  \n",
       "3       0.34 0.46 0.00 0.40  \n",
       "4       0.32 0.22 0.00 0.26  \n",
       "5       0.05 0.05 0.00 0.09  \n",
       "6       0.00 0.00 0.00 0.00  \n",
       "All      NaN  NaN  NaN  NaN  "
      ]
     },
     "metadata": {},
     "output_type": "display_data"
    },
    {
     "data": {
      "image/png": "[encoded data removed]",
      "text/plain": [
       "<Figure size 800x550 with 3 Axes>"
      ]
     },
     "metadata": {},
     "output_type": "display_data"
    }
   ],
   "source": [
    "# [같이 하기] 'Age' 열에 대해 crosstab을 활용해서 clust별 범주별 합계를 확인 해보자.\n",
    "# crosstab의 margins='True'을 활용하면 행 합, 열 합을 추가할 수 있다.\n",
    "# pro_df 변수에 할당해서 확인해보자.\n",
    "\n",
    "feature = 'AGE'\n",
    "\n",
    "pro_df1 = pd.crosstab([result[feature]], result['cluster'], margins=True)\n",
    "\n",
    "# 비율로도 한번 확인 해보자.\n",
    "\n",
    "pro_df2 = pd.crosstab([result[feature]], result['cluster'], margins=True, normalize='columns')\n",
    "pro_df2 = pro_df2.round(3)\n",
    "\n",
    "# 합치기, concat\n",
    "pro_df = pd.concat([pro_df1, pro_df2], axis=1)\n",
    "\n",
    "# pro_df 확인\n",
    "display(pro_df)\n",
    "\n",
    "# 시각화를 해 봅시다.\n",
    "mosaic(result.sort_values('cluster'), [ 'cluster', feature])\n",
    "plt.show()"
   ]
  },
  {
   "cell_type": "markdown",
   "id": "e75a3efa",
   "metadata": {
    "id": "e75a3efa"
   },
   "source": [
    "<b>**'age' 변수에 대한 클러스터별 특징을 파악해보고 아래 주석에 적어보자!**\n",
    "( 바로 ppt에 작성을 해도 상관없다)"
   ]
  },
  {
   "cell_type": "code",
   "execution_count": 23,
   "id": "08818c69",
   "metadata": {
    "id": "08818c69"
   },
   "outputs": [],
   "source": [
    "#[같이 하기]\n",
    "\n"
   ]
  },
  {
   "cell_type": "markdown",
   "id": "71f67544-e083-4a4f-bad0-6c82e2496872",
   "metadata": {
    "id": "71f67544-e083-4a4f-bad0-6c82e2496872"
   },
   "source": [
    "### **2) 등록(계/피)**"
   ]
  },
  {
   "cell_type": "code",
   "execution_count": 24,
   "id": "0102d309-7d4b-4c93-b007-2642cb4d6a9e",
   "metadata": {
    "id": "0102d309-7d4b-4c93-b007-2642cb4d6a9e"
   },
   "outputs": [],
   "source": [
    "# [문제 13] '등록(계/피)' 열에 대해 crosstab을 활용해서 clust별 범주별 합계를 확인 해보자.\n",
    "\n"
   ]
  },
  {
   "cell_type": "markdown",
   "id": "1cc1cee2",
   "metadata": {
    "id": "1cc1cee2"
   },
   "source": [
    "<b>**'등록(계/피)' 변수에 대한 클러스터별 특징을 파악해보고 아래 주석에 적어보자!**\n",
    "( 바로 ppt에 작성을 해도 상관없다)"
   ]
  },
  {
   "cell_type": "code",
   "execution_count": 25,
   "id": "fa1f4c68",
   "metadata": {
    "id": "fa1f4c68"
   },
   "outputs": [],
   "source": [
    "#[문제 14]"
   ]
  },
  {
   "cell_type": "markdown",
   "id": "6802cd20-3358-4d4e-af7b-bd49fc74b6ed",
   "metadata": {
    "id": "6802cd20-3358-4d4e-af7b-bd49fc74b6ed"
   },
   "source": [
    "### **3) 성별**"
   ]
  },
  {
   "cell_type": "code",
   "execution_count": 26,
   "id": "9e584810-6c8b-466b-97a9-c0168b8380d8",
   "metadata": {
    "id": "9e584810-6c8b-466b-97a9-c0168b8380d8"
   },
   "outputs": [],
   "source": [
    "# [문제 15] '성별' 열에 대해 crosstab을 활용해서 clust별 범주별 합계를 확인 해보자.\n",
    "\n"
   ]
  },
  {
   "cell_type": "markdown",
   "id": "dda23558",
   "metadata": {
    "id": "dda23558"
   },
   "source": [
    "<b>**'성별' 변수에 대한 클러스터별 특징을 파악해보고 아래 주석에 적어보자!**\n",
    "( 바로 ppt에 작성을 해도 상관없다)"
   ]
  },
  {
   "cell_type": "code",
   "execution_count": 27,
   "id": "33d2c97d",
   "metadata": {
    "id": "33d2c97d"
   },
   "outputs": [],
   "source": [
    "#[문제16]"
   ]
  },
  {
   "cell_type": "markdown",
   "id": "06718f52-2368-46bc-93e5-135beedba1b7",
   "metadata": {
    "id": "06718f52-2368-46bc-93e5-135beedba1b7"
   },
   "source": [
    "### **4) willingness to pay/stay(수치)**"
   ]
  },
  {
   "cell_type": "code",
   "execution_count": 28,
   "id": "32eee39c-41ee-480c-8c46-7791a2ccdbb3",
   "metadata": {
    "id": "32eee39c-41ee-480c-8c46-7791a2ccdbb3"
   },
   "outputs": [
    {
     "data": {
      "text/html": [
       "<div>\n",
       "<style scoped>\n",
       "    .dataframe tbody tr th:only-of-type {\n",
       "        vertical-align: middle;\n",
       "    }\n",
       "\n",
       "    .dataframe tbody tr th {\n",
       "        vertical-align: top;\n",
       "    }\n",
       "\n",
       "    .dataframe thead tr th {\n",
       "        text-align: left;\n",
       "    }\n",
       "\n",
       "    .dataframe thead tr:last-of-type th {\n",
       "        text-align: right;\n",
       "    }\n",
       "</style>\n",
       "<table border=\"1\" class=\"dataframe\">\n",
       "  <thead>\n",
       "    <tr>\n",
       "      <th></th>\n",
       "      <th colspan=\"4\" halign=\"left\">Willingness to pay/Stay</th>\n",
       "    </tr>\n",
       "    <tr>\n",
       "      <th></th>\n",
       "      <th>max</th>\n",
       "      <th>min</th>\n",
       "      <th>mean</th>\n",
       "      <th>median</th>\n",
       "    </tr>\n",
       "    <tr>\n",
       "      <th>cluster</th>\n",
       "      <th></th>\n",
       "      <th></th>\n",
       "      <th></th>\n",
       "      <th></th>\n",
       "    </tr>\n",
       "  </thead>\n",
       "  <tbody>\n",
       "    <tr>\n",
       "      <th>0</th>\n",
       "      <td>75.38</td>\n",
       "      <td>3.52</td>\n",
       "      <td>11.91</td>\n",
       "      <td>9.42</td>\n",
       "    </tr>\n",
       "    <tr>\n",
       "      <th>1</th>\n",
       "      <td>53.68</td>\n",
       "      <td>2.51</td>\n",
       "      <td>8.35</td>\n",
       "      <td>6.22</td>\n",
       "    </tr>\n",
       "    <tr>\n",
       "      <th>2</th>\n",
       "      <td>92.50</td>\n",
       "      <td>6.54</td>\n",
       "      <td>18.96</td>\n",
       "      <td>15.63</td>\n",
       "    </tr>\n",
       "    <tr>\n",
       "      <th>3</th>\n",
       "      <td>49.69</td>\n",
       "      <td>2.05</td>\n",
       "      <td>7.86</td>\n",
       "      <td>5.74</td>\n",
       "    </tr>\n",
       "    <tr>\n",
       "      <th>4</th>\n",
       "      <td>47.76</td>\n",
       "      <td>2.44</td>\n",
       "      <td>8.56</td>\n",
       "      <td>6.08</td>\n",
       "    </tr>\n",
       "    <tr>\n",
       "      <th>5</th>\n",
       "      <td>51.74</td>\n",
       "      <td>2.09</td>\n",
       "      <td>7.80</td>\n",
       "      <td>5.86</td>\n",
       "    </tr>\n",
       "    <tr>\n",
       "      <th>6</th>\n",
       "      <td>54.86</td>\n",
       "      <td>2.47</td>\n",
       "      <td>8.23</td>\n",
       "      <td>6.18</td>\n",
       "    </tr>\n",
       "  </tbody>\n",
       "</table>\n",
       "</div>"
      ],
      "text/plain": [
       "        Willingness to pay/Stay                  \n",
       "                            max  min  mean median\n",
       "cluster                                          \n",
       "0                         75.38 3.52 11.91   9.42\n",
       "1                         53.68 2.51  8.35   6.22\n",
       "2                         92.50 6.54 18.96  15.63\n",
       "3                         49.69 2.05  7.86   5.74\n",
       "4                         47.76 2.44  8.56   6.08\n",
       "5                         51.74 2.09  7.80   5.86\n",
       "6                         54.86 2.47  8.23   6.18"
      ]
     },
     "metadata": {},
     "output_type": "display_data"
    },
    {
     "data": {
      "image/png": "[encoded data removed]",
      "text/plain": [
       "<Figure size 800x550 with 1 Axes>"
      ]
     },
     "metadata": {},
     "output_type": "display_data"
    }
   ],
   "source": [
    "# [같이 하기] WTP의 경우 '보험 유지 기대 확률'로 각 clust 별 min,max,mean,median 통계 값으로 확인해보자.\n",
    "# groupby 와 agg() 메소드를 활용하여 도출해 보자.\n",
    "\n",
    "feature = 'Willingness to pay/Stay'\n",
    "display(result[['cluster',feature]].groupby(['cluster']).agg(['max','min','mean','median']))\n",
    "\n",
    "# 시각화를 해 봅시다.\n",
    "sns.barplot(x='cluster', y=feature, data=result, palette='cool')\n",
    "plt.show()\n"
   ]
  },
  {
   "cell_type": "markdown",
   "id": "5b288ceb",
   "metadata": {
    "id": "5b288ceb"
   },
   "source": [
    "<b>**'WTP' 변수에 대한 클러스터별 특징을 파악해보고 아래 주석에 적어보자!**\n",
    "( 바로 ppt에 작성을 해도 상관없다)"
   ]
  },
  {
   "cell_type": "code",
   "execution_count": 29,
   "id": "f5972b2c",
   "metadata": {
    "id": "f5972b2c"
   },
   "outputs": [],
   "source": [
    "# [같이 하기]\n"
   ]
  },
  {
   "cell_type": "markdown",
   "id": "32880871-e132-4b05-8dd2-cba31997fe06",
   "metadata": {
    "id": "32880871-e132-4b05-8dd2-cba31997fe06"
   },
   "source": [
    "### **5) 상품 타입**"
   ]
  },
  {
   "cell_type": "code",
   "execution_count": 30,
   "id": "dfdeded9-5e55-4c82-a311-4887ac790046",
   "metadata": {
    "id": "dfdeded9-5e55-4c82-a311-4887ac790046"
   },
   "outputs": [],
   "source": [
    "# [문제 17] '상품타입' 열에 대해 crosstab을 활용해서 clust별 범주별 합계를 확인 해보자.\n",
    "\n"
   ]
  },
  {
   "cell_type": "markdown",
   "id": "e222c5a9",
   "metadata": {
    "id": "e222c5a9"
   },
   "source": [
    "<b>**'상품타입' 변수에 대한 클러스터별 특징을 파악해보고 아래 주석에 적어보자!**\n",
    "( 바로 ppt에 작성을 해도 상관없다)"
   ]
  },
  {
   "cell_type": "code",
   "execution_count": 31,
   "id": "1adcefba",
   "metadata": {
    "id": "1adcefba"
   },
   "outputs": [],
   "source": [
    "#[문제18]"
   ]
  },
  {
   "cell_type": "markdown",
   "id": "d5ce24de-1eb3-4391-9099-62d8e9c6a52a",
   "metadata": {
    "id": "d5ce24de-1eb3-4391-9099-62d8e9c6a52a"
   },
   "source": [
    "### **6) 교육수준**"
   ]
  },
  {
   "cell_type": "code",
   "execution_count": 32,
   "id": "54d15c80-4d90-4e3b-b755-4fc20d22802b",
   "metadata": {
    "id": "54d15c80-4d90-4e3b-b755-4fc20d22802b"
   },
   "outputs": [],
   "source": [
    "# [문제 19] '교육수준' 열에 대해 crosstab을 활용해서 clust별 범주별 합계를 확인 해보자.\n",
    "\n"
   ]
  },
  {
   "cell_type": "markdown",
   "id": "00fa463a",
   "metadata": {
    "id": "00fa463a"
   },
   "source": [
    "<b>**'교육수준' 변수에 대한 클러스터별 특징을 파악해보고 아래 주석에 적어보자!**\n",
    "( 바로 ppt에 작성을 해도 상관없다)"
   ]
  },
  {
   "cell_type": "code",
   "execution_count": 33,
   "id": "60e52800",
   "metadata": {
    "id": "60e52800"
   },
   "outputs": [],
   "source": [
    "#[문제20]"
   ]
  },
  {
   "cell_type": "markdown",
   "id": "532caaf2-49a1-4ff8-8a88-e2b9ce137a9d",
   "metadata": {
    "id": "532caaf2-49a1-4ff8-8a88-e2b9ce137a9d"
   },
   "source": [
    "### **7) 고용상태**"
   ]
  },
  {
   "cell_type": "code",
   "execution_count": 34,
   "id": "abf87985-16c2-4e0b-af6e-15dea77c9ffb",
   "metadata": {
    "id": "abf87985-16c2-4e0b-af6e-15dea77c9ffb"
   },
   "outputs": [],
   "source": [
    "# [문제 21] '고용상태' 열에 대해 crosstab을 활용해서 clust별 범주별 합계를 확인 해보자.\n",
    "\n"
   ]
  },
  {
   "cell_type": "markdown",
   "id": "cef06b07",
   "metadata": {
    "id": "cef06b07"
   },
   "source": [
    "<b>**'고용상태' 변수에 대한 클러스터별 특징을 파악해보고 아래 주석에 적어보자!**\n",
    "( 바로 ppt에 작성을 해도 상관없다)"
   ]
  },
  {
   "cell_type": "code",
   "execution_count": 35,
   "id": "aff7c0cb",
   "metadata": {
    "id": "aff7c0cb"
   },
   "outputs": [],
   "source": [
    "#[문제 22]"
   ]
  },
  {
   "cell_type": "markdown",
   "id": "9c9afe78-2077-48d2-8a99-f47a60e8a2d2",
   "metadata": {
    "id": "9c9afe78-2077-48d2-8a99-f47a60e8a2d2"
   },
   "source": [
    "### **8) 소득(수치)**"
   ]
  },
  {
   "cell_type": "code",
   "execution_count": 36,
   "id": "db5b7186-4e22-46f8-8883-41bbd5c14c1c",
   "metadata": {
    "id": "db5b7186-4e22-46f8-8883-41bbd5c14c1c"
   },
   "outputs": [],
   "source": [
    "# [문제 23] '소득'은 수치형으로 각 clust 별 min,max,mean,median 통계 값으로 확인해보자.\n",
    "# groupby 와 agg() 메소드를 활용하여 도출해 보자.\n",
    "\n"
   ]
  },
  {
   "cell_type": "markdown",
   "id": "f2128b0c",
   "metadata": {
    "id": "f2128b0c"
   },
   "source": [
    "<b>**'소득' 변수에 대한 클러스터별 특징을 파악해보고 아래 주석에 적어보자!**\n",
    "( 바로 ppt에 작성을 해도 상관없다)"
   ]
  },
  {
   "cell_type": "code",
   "execution_count": 37,
   "id": "7454154b",
   "metadata": {
    "id": "7454154b"
   },
   "outputs": [],
   "source": [
    "#[문제24]"
   ]
  },
  {
   "cell_type": "markdown",
   "id": "a245baee-aefc-4dbd-bdd3-bb53414dbbd9",
   "metadata": {
    "id": "a245baee-aefc-4dbd-bdd3-bb53414dbbd9"
   },
   "source": [
    "### **9) 결혼여부**"
   ]
  },
  {
   "cell_type": "code",
   "execution_count": 38,
   "id": "11684db0-56e6-4f7d-a9ea-8191fd901b30",
   "metadata": {
    "id": "11684db0-56e6-4f7d-a9ea-8191fd901b30"
   },
   "outputs": [],
   "source": [
    "# [문제 25] '결혼여부' 열에 대해 crosstab을 활용해서 clust별 범주별 합계를 확인 해보자.\n",
    "\n"
   ]
  },
  {
   "cell_type": "markdown",
   "id": "53f2060c",
   "metadata": {
    "id": "53f2060c"
   },
   "source": [
    "<b>**'결혼여부' 변수에 대한 클러스터별 특징을 파악해보고 아래 주석에 적어보자!**\n",
    "( 바로 ppt에 작성을 해도 상관없다)"
   ]
  },
  {
   "cell_type": "code",
   "execution_count": 39,
   "id": "d1974ce4",
   "metadata": {
    "id": "d1974ce4"
   },
   "outputs": [],
   "source": [
    "#[문제26]"
   ]
  },
  {
   "cell_type": "markdown",
   "id": "1ee5b45d-ec43-4d71-9b9e-ef9c202c1b84",
   "metadata": {
    "id": "1ee5b45d-ec43-4d71-9b9e-ef9c202c1b84"
   },
   "source": [
    "### **10) 월 납입액(수치)**"
   ]
  },
  {
   "cell_type": "code",
   "execution_count": 40,
   "id": "88acb42b-e042-49db-83b4-f090d6a8f7bc",
   "metadata": {
    "id": "88acb42b-e042-49db-83b4-f090d6a8f7bc"
   },
   "outputs": [],
   "source": [
    "# [문제 27] '월 납입액'은 수치형으로 각 clust 별 min,max,mean,median 통계 값으로 확인해보자.\n",
    "# groupby 와 agg() 메소드를 활용하여 도출해 보자.\n",
    "\n"
   ]
  },
  {
   "cell_type": "markdown",
   "id": "78068345",
   "metadata": {
    "id": "78068345"
   },
   "source": [
    "<b>**'월 납입액' 변수에 대한 클러스터별 특징을 파악해보고 아래 주석에 적어보자!**\n",
    "( 바로 ppt에 작성을 해도 상관없다)"
   ]
  },
  {
   "cell_type": "code",
   "execution_count": 41,
   "id": "76cf74d2",
   "metadata": {
    "id": "76cf74d2"
   },
   "outputs": [],
   "source": [
    "#[문제28]"
   ]
  },
  {
   "cell_type": "markdown",
   "id": "d509a0fb-edd1-4329-8797-3a0ff9aec578",
   "metadata": {
    "id": "d509a0fb-edd1-4329-8797-3a0ff9aec578"
   },
   "source": [
    "### **11) VOC**"
   ]
  },
  {
   "cell_type": "code",
   "execution_count": 42,
   "id": "84157740-689a-41fa-86b0-0aa3ad9833eb",
   "metadata": {
    "id": "84157740-689a-41fa-86b0-0aa3ad9833eb"
   },
   "outputs": [],
   "source": [
    "# [문제 29] 'VOC' 열에 대해 crosstab을 활용해서 clust별 범주별 합계를 확인 해보자.\n",
    "\n"
   ]
  },
  {
   "cell_type": "markdown",
   "id": "bd165817",
   "metadata": {
    "id": "bd165817"
   },
   "source": [
    "<b>**'VOC' 변수에 대한 클러스터별 특징을 파악해보고 아래 주석에 적어보자!**\n",
    "( 바로 ppt에 작성을 해도 상관없다)"
   ]
  },
  {
   "cell_type": "code",
   "execution_count": 43,
   "id": "1c2b482f",
   "metadata": {
    "id": "1c2b482f"
   },
   "outputs": [],
   "source": [
    "#[문제30]"
   ]
  },
  {
   "cell_type": "markdown",
   "id": "991f5f39-4fd8-438a-b992-934800dbe4ed",
   "metadata": {
    "id": "991f5f39-4fd8-438a-b992-934800dbe4ed"
   },
   "source": [
    "### **12) 타 상품 보유 현황**"
   ]
  },
  {
   "cell_type": "code",
   "execution_count": 44,
   "id": "28e49d4b-8645-4000-9059-51c69234e79d",
   "metadata": {
    "id": "28e49d4b-8645-4000-9059-51c69234e79d"
   },
   "outputs": [],
   "source": [
    "# [문제 31] '타 상품 보유 현황' 열에 대해 crosstab을 활용해서 clust별 범주별 합계를 확인 해보자.\n"
   ]
  },
  {
   "cell_type": "markdown",
   "id": "ffa64474",
   "metadata": {
    "id": "ffa64474"
   },
   "source": [
    "<b>**'타 상품 보유 현황\t' 변수에 대한 클러스터별 특징을 파악해보고 아래 주석에 적어보자!**\n",
    "( 바로 ppt에 작성을 해도 상관없다)"
   ]
  },
  {
   "cell_type": "code",
   "execution_count": 45,
   "id": "c4ce5f4e",
   "metadata": {
    "id": "c4ce5f4e"
   },
   "outputs": [],
   "source": [
    "#[문제32]"
   ]
  },
  {
   "cell_type": "markdown",
   "id": "45a81e45-e9cb-4786-8486-0ee6ef6c18c6",
   "metadata": {
    "id": "45a81e45-e9cb-4786-8486-0ee6ef6c18c6"
   },
   "source": [
    "### **13) 갱신 인센티브**"
   ]
  },
  {
   "cell_type": "code",
   "execution_count": 46,
   "id": "6e9ab842-6299-4a30-ad3d-2cd60901c9f1",
   "metadata": {
    "id": "6e9ab842-6299-4a30-ad3d-2cd60901c9f1"
   },
   "outputs": [],
   "source": [
    "# [문제 33] '갱신인센티브' 열에 대해 crosstab을 활용해서 clust별 범주별 합계를 확인 해보자.\n",
    "\n"
   ]
  },
  {
   "cell_type": "markdown",
   "id": "6bbf3acf-e2e3-40a2-b328-af7fce4a397a",
   "metadata": {
    "id": "6bbf3acf-e2e3-40a2-b328-af7fce4a397a"
   },
   "source": [
    "<b>**'갱신인센티브\t' 변수에 대한 클러스터별 특징을 파악해보고 아래 주석에 적어보자!**\n",
    "( 바로 ppt에 작성을 해도 상관없다)"
   ]
  },
  {
   "cell_type": "code",
   "execution_count": 47,
   "id": "31379397",
   "metadata": {
    "id": "31379397"
   },
   "outputs": [],
   "source": [
    "#[문제 34]"
   ]
  },
  {
   "cell_type": "markdown",
   "id": "4dc3fd6b-ab07-4a57-b2d5-194c329e579d",
   "metadata": {
    "id": "4dc3fd6b-ab07-4a57-b2d5-194c329e579d"
   },
   "source": [
    "### **14) 총 지불 금액(수치)**"
   ]
  },
  {
   "cell_type": "code",
   "execution_count": 48,
   "id": "9a16ee05-4f5c-497f-b2d6-26cc6cee44a6",
   "metadata": {
    "id": "9a16ee05-4f5c-497f-b2d6-26cc6cee44a6"
   },
   "outputs": [],
   "source": [
    "# [문제 35] '총지불금액'은 수치형으로 각 clust 별 min,max,mean,median 통계 값으로 확인해보자.\n",
    "# groupby 와 agg() 메소드를 활용하여 도출해 보자.\n",
    "\n",
    "\n",
    "\n",
    "# 시각화를 해 봅시다.\n"
   ]
  },
  {
   "cell_type": "markdown",
   "id": "a8e84e16",
   "metadata": {
    "id": "a8e84e16"
   },
   "source": [
    "<b>**'총지불금액' 변수에 대한 클러스터별 특징을 파악해보고 아래 주석에 적어보자!**\n",
    "( 바로 ppt에 작성을 해도 상관없다)"
   ]
  },
  {
   "cell_type": "code",
   "execution_count": 49,
   "id": "4116f0c1",
   "metadata": {
    "id": "4116f0c1"
   },
   "outputs": [],
   "source": [
    "#[문제 36]"
   ]
  },
  {
   "cell_type": "markdown",
   "id": "55ad9c65-1ae7-439e-ba42-cfa141f8d181",
   "metadata": {
    "id": "55ad9c65-1ae7-439e-ba42-cfa141f8d181"
   },
   "source": [
    "### **15) 자동차**"
   ]
  },
  {
   "cell_type": "code",
   "execution_count": 50,
   "id": "f53e5c92-5fba-4e39-859b-bc2b438bf02b",
   "metadata": {
    "id": "f53e5c92-5fba-4e39-859b-bc2b438bf02b"
   },
   "outputs": [],
   "source": [
    "# [문제 37] '자동차' 열에 대해 crosstab을 활용해서 clust별 범주별 합계를 확인 해보자.\n",
    "\n"
   ]
  },
  {
   "cell_type": "markdown",
   "id": "7137a0f8",
   "metadata": {
    "id": "7137a0f8"
   },
   "source": [
    "<b>**'자동차' 변수에 대한 클러스터별 특징을 파악해보고 아래 주석에 적어보자!**\n",
    "( 바로 ppt에 작성을 해도 상관없다)"
   ]
  },
  {
   "cell_type": "code",
   "execution_count": 51,
   "id": "8a2ed522",
   "metadata": {
    "id": "8a2ed522"
   },
   "outputs": [],
   "source": [
    "#[문제38]"
   ]
  },
  {
   "cell_type": "markdown",
   "id": "320f4f71-f004-4cdd-b451-82bfa24ae6f2",
   "metadata": {
    "id": "320f4f71-f004-4cdd-b451-82bfa24ae6f2"
   },
   "source": [
    " ### **16) 거주지 사이즈**"
   ]
  },
  {
   "cell_type": "code",
   "execution_count": 52,
   "id": "dff26d04-81b3-4a71-988d-472b6cf2fbfc",
   "metadata": {
    "id": "dff26d04-81b3-4a71-988d-472b6cf2fbfc"
   },
   "outputs": [],
   "source": [
    "# [문제 39] '거주지사이즈' 열에 대해 crosstab을 활용해서 clust별 범주별 합계를 확인 해보자.\n",
    "\n"
   ]
  },
  {
   "cell_type": "markdown",
   "id": "4255066b",
   "metadata": {
    "id": "4255066b"
   },
   "source": [
    "<b>**'거주지사이즈' 변수에 대한 클러스터별 특징을 파악해보고 아래 주석에 적어보자!**\n",
    "( 바로 ppt에 작성을 해도 상관없다)"
   ]
  },
  {
   "cell_type": "code",
   "execution_count": 53,
   "id": "97a19706",
   "metadata": {
    "id": "97a19706"
   },
   "outputs": [],
   "source": [
    "#[문제40]"
   ]
  },
  {
   "cell_type": "markdown",
   "id": "36449b0b-3063-47f0-9919-4e1117062b41",
   "metadata": {
    "id": "36449b0b-3063-47f0-9919-4e1117062b41"
   },
   "source": [
    "### **17) 갱신**"
   ]
  },
  {
   "cell_type": "code",
   "execution_count": 54,
   "id": "1b3b026e-b3fd-4536-aaa2-3c4eaf597ffd",
   "metadata": {
    "id": "1b3b026e-b3fd-4536-aaa2-3c4eaf597ffd"
   },
   "outputs": [],
   "source": [
    "# [문제 41] '갱신' 열에 대해 crosstab을 활용해서 clust별 범주별 합계를 확인 해보자.\n",
    "\n"
   ]
  },
  {
   "cell_type": "markdown",
   "id": "c2e977f4",
   "metadata": {
    "id": "c2e977f4"
   },
   "source": [
    "<b>**'갱신' 변수에 대한 클러스터별 특징을 파악해보고 아래 주석에 적어보자!**\n",
    "( 바로 ppt에 작성을 해도 상관없다)"
   ]
  },
  {
   "cell_type": "code",
   "execution_count": 55,
   "id": "20e65632",
   "metadata": {
    "id": "20e65632"
   },
   "outputs": [],
   "source": [
    "#[문제42]"
   ]
  },
  {
   "cell_type": "markdown",
   "id": "8c69a895-68ea-448d-84cc-a434a68da4db",
   "metadata": {
    "id": "8c69a895-68ea-448d-84cc-a434a68da4db"
   },
   "source": [
    "### **18) 지역**"
   ]
  },
  {
   "cell_type": "code",
   "execution_count": 56,
   "id": "5409ea49-6ba2-42e3-88d9-658e25a8699c",
   "metadata": {
    "id": "5409ea49-6ba2-42e3-88d9-658e25a8699c"
   },
   "outputs": [],
   "source": [
    "# [문제 43] '지역' 열에 대해 crosstab을 활용해서 clust별 범주별 합계를 확인 해보자.\n",
    "\n"
   ]
  },
  {
   "cell_type": "markdown",
   "id": "6ff6f6ec",
   "metadata": {
    "id": "6ff6f6ec"
   },
   "source": [
    "<b>**'지역' 변수에 대한 클러스터별 특징을 파악해보고 아래 주석에 적어보자!**\n",
    "( 바로 ppt에 작성을 해도 상관없다)"
   ]
  },
  {
   "cell_type": "code",
   "execution_count": 57,
   "id": "423fef02",
   "metadata": {
    "id": "423fef02"
   },
   "outputs": [],
   "source": [
    "#[문제44]"
   ]
  },
  {
   "cell_type": "markdown",
   "id": "a7c5bc8e-3eab-4373-bbd9-f9cfea1e2d74",
   "metadata": {
    "id": "a7c5bc8e-3eab-4373-bbd9-f9cfea1e2d74"
   },
   "source": [
    "### **19) 온라인방문빈도**"
   ]
  },
  {
   "cell_type": "code",
   "execution_count": 58,
   "id": "c77e2e07-d73e-454e-8b19-20c00ebb5f20",
   "metadata": {
    "id": "c77e2e07-d73e-454e-8b19-20c00ebb5f20"
   },
   "outputs": [],
   "source": [
    "# [문제 45] '온라인방문빈도' 열에 대해 crosstab을 활용해서 clust별 범주별 합계를 확인 해보자.\n",
    "\n"
   ]
  },
  {
   "cell_type": "markdown",
   "id": "a516c5bd",
   "metadata": {
    "id": "a516c5bd"
   },
   "source": [
    "<b>**'온라인방문빈도' 변수에 대한 클러스터별 특징을 파악해보고 아래 주석에 적어보자!**\n",
    "( 바로 ppt에 작성을 해도 상관없다)"
   ]
  },
  {
   "cell_type": "code",
   "execution_count": 59,
   "id": "7773a3d8",
   "metadata": {
    "id": "7773a3d8"
   },
   "outputs": [],
   "source": [
    "#[문제46]"
   ]
  },
  {
   "cell_type": "markdown",
   "id": "599ec32e-cc03-422d-998b-d0be50f94063",
   "metadata": {
    "id": "599ec32e-cc03-422d-998b-d0be50f94063"
   },
   "source": [
    "### **20) 판매채널**"
   ]
  },
  {
   "cell_type": "code",
   "execution_count": 60,
   "id": "c48587ae-c76f-4840-96d0-9aff57c7a061",
   "metadata": {
    "id": "c48587ae-c76f-4840-96d0-9aff57c7a061"
   },
   "outputs": [],
   "source": [
    "# [문제 47] '판매채널' 열에 대해 crosstab을 활용해서 clust별 범주별 합계를 확인 해보자.\n",
    "\n"
   ]
  },
  {
   "cell_type": "markdown",
   "id": "d145c8c2",
   "metadata": {
    "id": "d145c8c2"
   },
   "source": [
    "<b>**'판매채널' 변수에 대한 클러스터별 특징을 파악해보고 아래 주석에 적어보자!**\n",
    "( 바로 ppt에 작성을 해도 상관없다)"
   ]
  },
  {
   "cell_type": "code",
   "execution_count": 61,
   "id": "4250a5b0",
   "metadata": {
    "id": "4250a5b0"
   },
   "outputs": [],
   "source": [
    "#[문제48]"
   ]
  },
  {
   "cell_type": "markdown",
   "id": "70963f64-aedd-4a85-8ad8-13278aded787",
   "metadata": {
    "id": "70963f64-aedd-4a85-8ad8-13278aded787"
   },
   "source": [
    "---------------------------------------------------------------------------------------------\n",
    "## **(2) 결과 정리**"
   ]
  },
  {
   "cell_type": "markdown",
   "id": "8a3cd4fc-ad60-456f-bf96-70625d40981c",
   "metadata": {
    "id": "8a3cd4fc-ad60-456f-bf96-70625d40981c"
   },
   "source": [
    "<font color=\"1E90FF\"><b>★ 20가지 피쳐값에 대해 군집별로 분석해 보았고 인사이트도 도출해 보았다. 한번 ppt에 정리해보자!</font>"
   ]
  },
  {
   "cell_type": "markdown",
   "id": "117273bf",
   "metadata": {
    "id": "117273bf"
   },
   "source": [
    "## **[Mission 3-분석모델 개발]**\n",
    "\n",
    "* k-means 활용해 군집화 분석 모델 개발 완료\n",
    "* 프로파일링 기법을 통해 각 피쳐의 군집별 특성에 대해 파악하고 정의 해봄\n",
    "* 정의 한 것을 가지고 고객 군집별 마케팅 전략 수립"
   ]
  },
  {
   "cell_type": "markdown",
   "id": "4fa47a2c",
   "metadata": {
    "id": "4fa47a2c"
   },
   "source": [
    "<font color=\"1E90FF\"><b>→ 여러분들은 어떻게 군집에 대해 정의를 내리고 마케팅 방안을 수립하였나요?<br><b>서로의 군집에 대해서 이야기해 보고 발표해 봅시다.<b><br>\n",
    "    "
   ]
  },
  {
   "cell_type": "markdown",
   "id": "5f80e5cb",
   "metadata": {
    "id": "5f80e5cb"
   },
   "source": [
    "# <b>Mission 3 완료!\n",
    "수고하셨습니다!"
   ]
  }
 ],
 "metadata": {
  "colab": {
   "provenance": []
  },
  "kernelspec": {
   "display_name": "Python 3",
   "language": "python",
   "name": "python3"
  },
  "language_info": {
   "codemirror_mode": {
    "name": "ipython",
    "version": 3
   },
   "file_extension": ".py",
   "mimetype": "text/x-python",
   "name": "python",
   "nbconvert_exporter": "python",
   "pygments_lexer": "ipython3",
   "version": "3.12.9"
  }
 },
 "nbformat": 4,
 "nbformat_minor": 5
}
