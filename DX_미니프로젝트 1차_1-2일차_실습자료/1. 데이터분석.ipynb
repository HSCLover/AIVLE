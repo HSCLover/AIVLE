{
 "cells": [
  {
   "cell_type": "markdown",
   "id": "90f3101f-8248-4e8c-bdbf-e113fe6ebbd0",
   "metadata": {
    "id": "90f3101f-8248-4e8c-bdbf-e113fe6ebbd0"
   },
   "source": [
    "# <span style=\"background-color:#fff5b1\"><span style=\"color:black\"><B>보험사 마케팅 활용을 위한 고객 군집화 모델링"
   ]
  },
  {
   "cell_type": "markdown",
   "id": "4c1174fc-1885-4f4e-bbb4-e9bf68f8fc6a",
   "metadata": {
    "id": "4c1174fc-1885-4f4e-bbb4-e9bf68f8fc6a"
   },
   "source": [
    "## **Mission 1. 탐색적 데이터 분석**"
   ]
  },
  {
   "cell_type": "markdown",
   "id": "33589b19-a27e-4ed0-b1e5-8539ce9fe8c0",
   "metadata": {
    "id": "33589b19-a27e-4ed0-b1e5-8539ce9fe8c0",
    "tags": []
   },
   "source": [
    "### **[미션 이해하기]**\n",
    "* 여러분들은 K 보험사의 직원입니다. K 보험사는 효과적인 마케팅 전략을 완성시키기 위해 데이터 기반 마케팅을 시작했습니다.\n",
    "  <br>고객의 행동,성향, 니즈 등의 고객 데이터를 마케팅 전략에 반영하여 고객별로 적절한 마케팅 Action을 주는 미션을 받았습니다.\n",
    "* 고객별로 특징을 적절하게 반영할 수 있는 마케팅 방안은 고객을 segment 하는 것 인데, 어떤 방법으로 고객을 묶을 수 있을까요?\n",
    "  <br>바로, <font color=\"1E90FF\"><b>군집분석을 기반으로 한 고객 segment를 개발 하는 것입니다.</font>\n"
   ]
  },
  {
   "cell_type": "markdown",
   "id": "e6ca9599-a9a1-45f7-bab0-35073378cad4",
   "metadata": {
    "id": "e6ca9599-a9a1-45f7-bab0-35073378cad4"
   },
   "source": [
    "<b>[1일차] mission 1 목표 <b>: 고객의 기본 정보, 행동 정보 등을 확인해서 주요 변수를 선정하고 데이터 탐색해보기"
   ]
  },
  {
   "cell_type": "markdown",
   "id": "f26c0297",
   "metadata": {},
   "source": [
    "---------------------------------------------------------------------------------------------\n",
    "# **0. 환경설정(경로설정)**\n",
    "* 세부 요구사항\n",
    "    - 경로 설정 : 구글 colab\n",
    "        * 구글 드라이브 바로 밑에 dxproject 폴더를 만들고,\n",
    "        * 데이터 파일을 복사해 넣습니다."
   ]
  },
  {
   "cell_type": "code",
   "execution_count": null,
   "id": "a6e55ce1",
   "metadata": {},
   "outputs": [],
   "source": [
    "# 구글 드라이브 연결\n",
    "from google.colab import drive\n",
    "drive.mount('/content/drive')"
   ]
  },
  {
   "cell_type": "code",
   "execution_count": null,
   "id": "017b90e7",
   "metadata": {},
   "outputs": [],
   "source": [
    "#Path\n",
    "path = '/content/drive/MyDrive/dxproject/'"
   ]
  },
  {
   "cell_type": "markdown",
   "id": "460857c4-6776-4b4d-ade1-2e5cab89f57a",
   "metadata": {
    "id": "460857c4-6776-4b4d-ade1-2e5cab89f57a"
   },
   "source": [
    "---------------------------------------------------------------------------------------------\n",
    "#### <b>[실습프로세스]<b>\n",
    "\n",
    "1. 데이터 불러오기\n",
    "2. 데이터 기초 정보 확인\n",
    "3. 주요 변수 선정 및 탐색\n",
    "    * 분석가 선정 칼럼 탐색\n",
    "    * 도메인 주요 항목 칼럼 탐색"
   ]
  },
  {
   "cell_type": "markdown",
   "id": "3310b100-8526-4122-b00f-98195133395b",
   "metadata": {
    "id": "3310b100-8526-4122-b00f-98195133395b",
    "tags": []
   },
   "source": [
    "---------------------------------------------------------------------------------------------\n",
    "# **1. 데이터 불러오기**\n",
    "\n",
    "* numpy, pandas, matplotlib, seaborn 등 데이터 분석에 필요한 라이브러리를 로딩해 봅시다.\n",
    "* 만약 라이브러리가 없을 때 !pip를 통해 라이브러리를 설치해 주세요. (ex. !pip install pandas)\n",
    "* 현위치에서 'customers_seg.csv' 파일을 읽어와 주세요."
   ]
  },
  {
   "cell_type": "code",
   "execution_count": null,
   "id": "bbaf7c28-3a99-4d31-877c-76b8422179b3",
   "metadata": {
    "id": "bbaf7c28-3a99-4d31-877c-76b8422179b3",
    "tags": []
   },
   "outputs": [],
   "source": [
    "# [같이 하기] 필요 라이브러리 로딩\n",
    "# numpy, pandas, matplotlib, seaborn, os 등 임포트 하기\n",
    "\n",
    "import numpy as np\n",
    "import pandas as pd\n",
    "import seaborn as sns\n",
    "import os"
   ]
  },
  {
   "cell_type": "code",
   "execution_count": null,
   "id": "dcf395af-a9fc-4cdf-b524-c7ffc3db5a62",
   "metadata": {
    "id": "dcf395af-a9fc-4cdf-b524-c7ffc3db5a62"
   },
   "outputs": [],
   "source": [
    "# 한글 세팅\n",
    "\n",
    "# 1. 나눔고딕 폰트 설치\n",
    "!apt-get -qq update\n",
    "!apt-get -qq install -y fonts-nanum\n",
    "\n",
    "# 2. 런타임에 폰트 캐시 갱신\n",
    "import matplotlib.font_manager as fm\n",
    "import matplotlib.pyplot as plt\n",
    "import matplotlib as mpl\n",
    "\n",
    "font_dirs = ['/usr/share/fonts/truetype/nanum']\n",
    "font_files = fm.findSystemFonts(fontpaths=font_dirs)\n",
    "\n",
    "for font_file in font_files:\n",
    "    fm.fontManager.addfont(font_file)\n",
    "\n",
    "# 3. 폰트 이름 확인 후 설정\n",
    "nanum_font_name = fm.FontProperties(fname=font_files[0]).get_name()\n",
    "print(f\"설정된 폰트 이름: {nanum_font_name}\")\n",
    "\n",
    "# matplotlib에 폰트 반영\n",
    "mpl.rc('font', family=nanum_font_name)\n",
    "mpl.rcParams['axes.unicode_minus'] = False"
   ]
  },
  {
   "cell_type": "code",
   "execution_count": null,
   "id": "7964dd43-8e25-4f87-8e88-6b3152783780",
   "metadata": {
    "id": "7964dd43-8e25-4f87-8e88-6b3152783780"
   },
   "outputs": [],
   "source": [
    "# [같이 하기] 데이터 불러오기\n",
    "# 1. data 변수에 'customers_seg.csv' 파일을 불러오기\n",
    "# 2. data 변수 호출해서 상위 5개 확인해보기\n",
    "\n",
    "data = pd.read_csv(path+'customers_seg.csv')\n",
    "data.head()"
   ]
  },
  {
   "cell_type": "markdown",
   "id": "1139e7df-db00-4faf-8fa7-40928e90cdc0",
   "metadata": {
    "id": "1139e7df-db00-4faf-8fa7-40928e90cdc0"
   },
   "source": [
    "---------------------------------------------------------------------------------------------\n",
    "# **2. 데이터 기초 정보 확인하기**\n",
    "* 불러온 데이터셋(data)의 기초 정보들을 확인해봅시다."
   ]
  },
  {
   "cell_type": "code",
   "execution_count": null,
   "id": "788acadc-7edb-40ae-ada4-4c516917af71",
   "metadata": {
    "id": "788acadc-7edb-40ae-ada4-4c516917af71"
   },
   "outputs": [],
   "source": [
    "# [문제1] 데이터 셋의 상위 5개 행을 확인해보자.\n",
    "\n"
   ]
  },
  {
   "cell_type": "code",
   "execution_count": null,
   "id": "d691fc81-3a4f-46d7-9472-42bc44239c5a",
   "metadata": {
    "id": "d691fc81-3a4f-46d7-9472-42bc44239c5a"
   },
   "outputs": [],
   "source": [
    "# [문제2] 데이터 셋의 하위 5개 행을 확인해보자.\n",
    "\n"
   ]
  },
  {
   "cell_type": "code",
   "execution_count": null,
   "id": "fa92843d-afc7-4809-838c-8a2eefca20e0",
   "metadata": {
    "id": "fa92843d-afc7-4809-838c-8a2eefca20e0"
   },
   "outputs": [],
   "source": [
    "# [문제3] data 데이터프레임의 행, 열의 개수 확인해보자.(shape)\n",
    "\n"
   ]
  },
  {
   "cell_type": "code",
   "execution_count": null,
   "id": "d2a22906-53c5-4858-bc01-654a862b0f88",
   "metadata": {
    "id": "d2a22906-53c5-4858-bc01-654a862b0f88"
   },
   "outputs": [],
   "source": [
    "#[문제4] data 데이터프레임의 컬럼명, 데이터 개수, 데이터 타입 정보를 확인 해보자.\n",
    "\n"
   ]
  },
  {
   "cell_type": "code",
   "execution_count": null,
   "id": "78ffec50-cdf1-4942-9235-2b5985192440",
   "metadata": {
    "id": "78ffec50-cdf1-4942-9235-2b5985192440"
   },
   "outputs": [],
   "source": [
    "# [문제5] 데이터 셋 수치형 데이터 기초통계 정보를 확인해보자\n",
    "\n"
   ]
  },
  {
   "cell_type": "code",
   "execution_count": null,
   "id": "6fffe90d-8984-49f3-8125-49a011c5a3cf",
   "metadata": {
    "id": "6fffe90d-8984-49f3-8125-49a011c5a3cf"
   },
   "outputs": [],
   "source": [
    "# [문제6] 데이터 셋의 모든 컬럼명(변수명)을 확인해보자.\n",
    "\n"
   ]
  },
  {
   "cell_type": "markdown",
   "id": "dfe3bf07-4b93-4735-b4a6-f72517edf64c",
   "metadata": {
    "id": "dfe3bf07-4b93-4735-b4a6-f72517edf64c"
   },
   "source": [
    "---------------------------------------------------------------------------------------------\n",
    "# **3. 주요 변수 선정 및 탐색**"
   ]
  },
  {
   "cell_type": "markdown",
   "id": "e50a9f25-b42d-40fc-ba35-b2342b5f3901",
   "metadata": {
    "id": "e50a9f25-b42d-40fc-ba35-b2342b5f3901",
    "tags": []
   },
   "source": [
    "<b> 21개의 features 값은 어떤 의미일지 알아보고 주요 변수를 선정해 봅시다!"
   ]
  },
  {
   "cell_type": "markdown",
   "id": "fc87868f-8e19-41c3-93c6-b89d781bc842",
   "metadata": {
    "id": "fc87868f-8e19-41c3-93c6-b89d781bc842"
   },
   "source": [
    "---------------------------------------------------------------------------------------------\n",
    "<b>이 중 주요 변수를 선정 해 보았을 때 <font color=\"1E90FF\"><b>11개의 features를 선정하였다.</font>\n",
    "<font color=\"1E90FF\"><b>* 우리의 목표: 군집화가 된 고객 segment 개발</font>\n",
    "   \n",
    "<span><b>1. 도메인 내 주요 정보 항목</span>\n",
    "    <br><br>\n",
    "        - (1) Willingness to pay/Stay: 계속 보험을 유지할 지 판단하는 지표 (신용점수, 납부/연체기록, 소득 등 활용)\n",
    "    <br>- (2) 소득\n",
    "    <br>- (3) 월 납입액\n",
    "    <br>- (4) 타상품 보유 현황: 고객이 이용하는 파인애플사의 타 서비스 수(어느정도 고객의 충성도를 알 수 있음)\n",
    "    <br>- (5) 총지불금액\n",
    "    \n",
    "<span><b>2. 분석가 선정 컬럼</span>\n",
    "    <br><br>- (6)AGE, (7)고용상태, (8)교육수준: 고객 기본 정보\n",
    "    <br>- (9)상품타입, (10)거주지사이즈, (11)자동차: 소득 등과 연관해서 추정이 가능한 정보"
   ]
  },
  {
   "cell_type": "markdown",
   "id": "67bc6c07-f962-48bb-a7d0-df94c5e6c380",
   "metadata": {
    "id": "67bc6c07-f962-48bb-a7d0-df94c5e6c380"
   },
   "source": [
    "## <b> (1) 분석가 선정 컬럼 탐색하기\n",
    "* 분석가 선정 컬럼 : AGE, 고용상태, 교육수준, 상품 타입, 거주지사이즈, 자동차(총 6개 피쳐)\n",
    "* 위 분석가 선정 컬럼을 탐색해 보자!"
   ]
  },
  {
   "cell_type": "code",
   "execution_count": null,
   "id": "eb508019",
   "metadata": {
    "id": "eb508019"
   },
   "outputs": [],
   "source": [
    "#[문제 7] 분석가 선정 컬럼들이 수치형인지 문자/범주형인지 알아보자! (info 활용)\n",
    "\n"
   ]
  },
  {
   "cell_type": "markdown",
   "id": "00a4850f",
   "metadata": {
    "id": "00a4850f"
   },
   "source": [
    "**【각각의 변수들이 어떤 의미를 가지고 있을지 데이터 탐색을 해보자!】**"
   ]
  },
  {
   "cell_type": "markdown",
   "id": "fd250fc8-fb13-4c20-89aa-ad3bebcaa5a5",
   "metadata": {
    "id": "fd250fc8-fb13-4c20-89aa-ad3bebcaa5a5"
   },
   "source": [
    "### 1) AGE"
   ]
  },
  {
   "cell_type": "code",
   "execution_count": null,
   "id": "297c7471-ad20-4fe3-a239-e7ae01e29a5e",
   "metadata": {
    "id": "297c7471-ad20-4fe3-a239-e7ae01e29a5e"
   },
   "outputs": [],
   "source": [
    "#[같이 하기] AGE 변수는 범주형이다. 이에 대해 범주별 비율을 탐색해보자.(.value_counts())\n",
    "#  (1: 20대, 2: 30대, 3: 40대, 4: 50대, 5: 60대, 6: 70대)\n",
    "# 결과를 인덱스 기준으로 정렬해서 조회 (.sort_index())\n",
    "\n",
    "data['AGE'].value_counts(normalize = True).sort_index()"
   ]
  },
  {
   "cell_type": "markdown",
   "id": "186d0d86",
   "metadata": {
    "id": "186d0d86"
   },
   "source": [
    "<b>**age 변수에 대해 간단하게 탐색한 내용을 아래 주석으로 적어보자!**"
   ]
  },
  {
   "cell_type": "code",
   "execution_count": null,
   "id": "ba95b842",
   "metadata": {
    "id": "ba95b842"
   },
   "outputs": [],
   "source": [
    "# 연령대를 보았을 때 약 40% 정도가 40대 임을 알 수 있다. 약 4~50대가 65% 정도이다."
   ]
  },
  {
   "cell_type": "code",
   "execution_count": null,
   "id": "7e3bff37",
   "metadata": {
    "id": "7e3bff37"
   },
   "outputs": [],
   "source": [
    "#[같이 하기] age에 대해 countplot 으로 시각화를 해보자!\n",
    "# 1. sns.countplot(x=' ', data= )으로 시각화. 색상은 원하는 색상으로!\n",
    "# 2. title=('age'), grid 도 넣어서 이쁘게 만들어보자.\n",
    "\n",
    "sns.countplot(x='AGE',data=data)\n",
    "plt.title('age')\n",
    "plt.grid()\n",
    "plt.show()"
   ]
  },
  {
   "cell_type": "markdown",
   "id": "0d446084-d4a2-43b9-99da-4fc0ed71d37a",
   "metadata": {
    "id": "0d446084-d4a2-43b9-99da-4fc0ed71d37a"
   },
   "source": [
    "### 2) 고용상태"
   ]
  },
  {
   "cell_type": "code",
   "execution_count": null,
   "id": "f1b53277-4472-4e0d-a89d-c81cccdc163f",
   "metadata": {
    "id": "f1b53277-4472-4e0d-a89d-c81cccdc163f",
    "tags": []
   },
   "outputs": [],
   "source": [
    "#[문제 8] '고용상태' 변수에 대해 범주별 빈도수를 탐색해보자.\n",
    "\n"
   ]
  },
  {
   "cell_type": "code",
   "execution_count": null,
   "id": "f12b4e33-9894-4bad-9f92-9631b4c9a98a",
   "metadata": {
    "id": "f12b4e33-9894-4bad-9f92-9631b4c9a98a"
   },
   "outputs": [],
   "source": [
    "#[문제 9] 위 결과에 대해 비율로 계산해보자.\n",
    "\n"
   ]
  },
  {
   "cell_type": "code",
   "execution_count": null,
   "id": "5902b062-96b9-4b4d-870f-d8d40e04a587",
   "metadata": {
    "id": "5902b062-96b9-4b4d-870f-d8d40e04a587",
    "tags": []
   },
   "outputs": [],
   "source": [
    "#[문제 10] FALSE 값이 있잖어? 이게 뭐지?\n",
    "# False를 무엇으로 해석해야 할까?\n",
    "\n"
   ]
  },
  {
   "cell_type": "markdown",
   "id": "d809db36",
   "metadata": {
    "id": "d809db36"
   },
   "source": [
    "<b>**'고용상태' 변수에 대해 간단하게 탐색한 내용을 아래 주석으로 적어보자!**\n"
   ]
  },
  {
   "cell_type": "code",
   "execution_count": null,
   "id": "62d64507",
   "metadata": {
    "id": "62d64507"
   },
   "outputs": [],
   "source": [
    "# (주석으로 적기)"
   ]
  },
  {
   "cell_type": "code",
   "execution_count": null,
   "id": "07cd9ced",
   "metadata": {
    "id": "07cd9ced"
   },
   "outputs": [],
   "source": [
    "#[문제 11] '고용상태'에 대해 countplot 으로 시각화를 해보자!\n",
    "\n"
   ]
  },
  {
   "cell_type": "markdown",
   "id": "4b90ac7b-1bd4-446c-a741-eaafab3a3da1",
   "metadata": {
    "id": "4b90ac7b-1bd4-446c-a741-eaafab3a3da1"
   },
   "source": [
    "### 3) 교육수준"
   ]
  },
  {
   "cell_type": "code",
   "execution_count": null,
   "id": "6690ed2e-cf2a-4011-86ae-9fc66aa72c6a",
   "metadata": {
    "id": "6690ed2e-cf2a-4011-86ae-9fc66aa72c6a"
   },
   "outputs": [],
   "source": [
    "#[문제 12] '교육수준' 변수에 대해 범주별 빈도수를 탐색해보자.\n",
    "\n"
   ]
  },
  {
   "cell_type": "code",
   "execution_count": null,
   "id": "83123ae9-e4b9-4412-8e3f-f3706624a615",
   "metadata": {
    "id": "83123ae9-e4b9-4412-8e3f-f3706624a615"
   },
   "outputs": [],
   "source": [
    "#[문제 13] 위 결과에 대해 비율로 계산해보자.\n",
    "\n"
   ]
  },
  {
   "cell_type": "markdown",
   "id": "31c48e8e",
   "metadata": {
    "id": "31c48e8e"
   },
   "source": [
    "<b>**'교육수준' 변수에 대해 간단하게 탐색한 내용을 아래 주석으로 적어보자!**"
   ]
  },
  {
   "cell_type": "code",
   "execution_count": null,
   "id": "2eecf953",
   "metadata": {
    "id": "2eecf953"
   },
   "outputs": [],
   "source": [
    "# (주석으로 적기)"
   ]
  },
  {
   "cell_type": "code",
   "execution_count": null,
   "id": "8918f452",
   "metadata": {
    "id": "8918f452"
   },
   "outputs": [],
   "source": [
    "#[문제 14] '교육수준'에 대해 countplot 으로 시각화를 해보자!\n",
    "\n"
   ]
  },
  {
   "cell_type": "markdown",
   "id": "efbe3ae4-1bad-477e-9585-299bb34bc386",
   "metadata": {
    "id": "efbe3ae4-1bad-477e-9585-299bb34bc386"
   },
   "source": [
    "### 4) 상품타입"
   ]
  },
  {
   "cell_type": "code",
   "execution_count": null,
   "id": "f0ae84e4-24d2-4c0a-8430-aa39111acb25",
   "metadata": {
    "id": "f0ae84e4-24d2-4c0a-8430-aa39111acb25"
   },
   "outputs": [],
   "source": [
    "#[문제 15] '상품타입'변수에 대해 범주별 비율을 탐색해보자.\n",
    "\n"
   ]
  },
  {
   "cell_type": "markdown",
   "id": "b4dba274",
   "metadata": {
    "id": "b4dba274"
   },
   "source": [
    "<b>**'상품타입' 변수에 대해 간단하게 탐색한 내용을 아래 주석으로 적어보자!**"
   ]
  },
  {
   "cell_type": "code",
   "execution_count": null,
   "id": "f386523f",
   "metadata": {
    "id": "f386523f"
   },
   "outputs": [],
   "source": [
    "# (주석으로 적기)"
   ]
  },
  {
   "cell_type": "code",
   "execution_count": null,
   "id": "b7530f6a",
   "metadata": {
    "id": "b7530f6a"
   },
   "outputs": [],
   "source": [
    "#[문제 16] '상품타입'에 대해 countplot 으로 시각화를 해보자!\n",
    "\n"
   ]
  },
  {
   "cell_type": "markdown",
   "id": "70719016-ee76-4dd9-94a0-d70e8a0d4a2f",
   "metadata": {
    "id": "70719016-ee76-4dd9-94a0-d70e8a0d4a2f"
   },
   "source": [
    "### 5) 거주지사이즈"
   ]
  },
  {
   "cell_type": "code",
   "execution_count": null,
   "id": "bbd09e8b-860d-4746-9cd0-3a9760f4611d",
   "metadata": {
    "id": "bbd09e8b-860d-4746-9cd0-3a9760f4611d"
   },
   "outputs": [],
   "source": [
    "#[문제 17]'거주지사이즈'변수에 대해 범주별 비율을 탐색해보자.\n",
    "\n"
   ]
  },
  {
   "cell_type": "markdown",
   "id": "de3362c6",
   "metadata": {
    "id": "de3362c6"
   },
   "source": [
    "<b>**'거주지사이즈' 변수에 대해 간단하게 탐색한 내용을 아래 주석으로 적어보자!**"
   ]
  },
  {
   "cell_type": "code",
   "execution_count": null,
   "id": "9b1e64ab",
   "metadata": {
    "id": "9b1e64ab"
   },
   "outputs": [],
   "source": [
    "# (주석으로 적기)"
   ]
  },
  {
   "cell_type": "code",
   "execution_count": null,
   "id": "e19b97c6",
   "metadata": {
    "id": "e19b97c6"
   },
   "outputs": [],
   "source": [
    "#[문제 18] '거주지사이즈'에 대해 countplot 으로 시각화를 해보자!\n",
    "\n"
   ]
  },
  {
   "cell_type": "markdown",
   "id": "44892e39-c067-4f29-b54b-ece384e7823f",
   "metadata": {
    "id": "44892e39-c067-4f29-b54b-ece384e7823f"
   },
   "source": [
    "### 6) 자동차"
   ]
  },
  {
   "cell_type": "code",
   "execution_count": null,
   "id": "efca4168-5c00-4c80-bea2-8641e1167351",
   "metadata": {
    "id": "efca4168-5c00-4c80-bea2-8641e1167351"
   },
   "outputs": [],
   "source": [
    "#[문제 19]'자동차'변수에 대해 범주별 비율을 탐색해보자.\n",
    "\n"
   ]
  },
  {
   "cell_type": "markdown",
   "id": "0c196ed8",
   "metadata": {
    "id": "0c196ed8"
   },
   "source": [
    "<b>**'자동차' 변수에 대해 간단하게 탐색한 내용을 아래 주석으로 적어보자!**"
   ]
  },
  {
   "cell_type": "code",
   "execution_count": null,
   "id": "c414d1a6",
   "metadata": {
    "id": "c414d1a6"
   },
   "outputs": [],
   "source": [
    "# (주석으로 적기)"
   ]
  },
  {
   "cell_type": "code",
   "execution_count": null,
   "id": "22946eec",
   "metadata": {
    "id": "22946eec"
   },
   "outputs": [],
   "source": [
    "#[문제 20]'자동차'에 대해 countplot 으로 시각화를 해보자!\n",
    "\n"
   ]
  },
  {
   "cell_type": "markdown",
   "id": "84b47481-7956-47a9-ad48-2d94f5802d48",
   "metadata": {
    "id": "84b47481-7956-47a9-ad48-2d94f5802d48"
   },
   "source": [
    "## **(2) 도메인 주요 항목 컬럼 탐색하기**\n",
    "* 도메인 주요 항목 : Willingness to pay/Stay,소득,월 납입액,타상품 보유 현황,총지불금액(총 5개 항목)\n",
    "* 위 도메인 주요 항목 컬럼을 histplot 을 통해서 탐색해 보자"
   ]
  },
  {
   "cell_type": "code",
   "execution_count": null,
   "id": "a35470ac",
   "metadata": {
    "id": "a35470ac"
   },
   "outputs": [],
   "source": [
    "#[문제 21] 도메인 내 주요 항목 컬럼들이 수치형인지 문자형인지 알아보자! (info 활용)\n",
    "\n"
   ]
  },
  {
   "cell_type": "markdown",
   "id": "021a301f-831c-4f17-8cbc-610062457a15",
   "metadata": {
    "id": "021a301f-831c-4f17-8cbc-610062457a15"
   },
   "source": [
    "### 1) WTP(Willingness to pay/Stay)\n",
    "* 연속형/수치형 컬럼이기 때문에 histplot으로 데이터 확인해보기\n"
   ]
  },
  {
   "cell_type": "code",
   "execution_count": null,
   "id": "ded3f2a9-6261-434e-af18-cc19d6681da2",
   "metadata": {
    "id": "ded3f2a9-6261-434e-af18-cc19d6681da2"
   },
   "outputs": [],
   "source": [
    "#[같이 하기] 히스토그램으로 'Willingness to pay/Stay(WTP)'에 대한 그래프를 그려보자.\n",
    "\n",
    "# 1. figsize(12,8) 셋팅하기\n",
    "\n",
    "plt.figure(figsize=(12,8))\n",
    "\n",
    "# 2. histplot 그리기\n",
    "# bins = 30, kde = True로 설정해서 그래프를 그려보자.\n",
    "\n",
    "sns.histplot(data['Willingness to pay/Stay'],bins=30,kde=True)\n",
    "plt.grid()\n",
    "plt.show()"
   ]
  },
  {
   "cell_type": "markdown",
   "id": "64717be9",
   "metadata": {
    "id": "64717be9"
   },
   "source": [
    "- bins는 막대개수 조정/ kde 는 커널밀도 추정(분포 곡선)"
   ]
  },
  {
   "cell_type": "code",
   "execution_count": null,
   "id": "f2136513",
   "metadata": {
    "id": "f2136513"
   },
   "outputs": [],
   "source": [
    "#[같이 하기] WTP의 평균값을 확인해보자(describe 사용)\n",
    "\n",
    "data.describe()"
   ]
  },
  {
   "cell_type": "markdown",
   "id": "4fc314b8",
   "metadata": {
    "id": "4fc314b8"
   },
   "source": [
    "<b>**'Willingness to pay/Stay(WTP)' 변수에 대해 간단하게 탐색한 내용을 아래 주석으로 적어보자!**"
   ]
  },
  {
   "cell_type": "code",
   "execution_count": null,
   "id": "a9208c54",
   "metadata": {
    "id": "a9208c54"
   },
   "outputs": [],
   "source": [
    "# 대부분의 고객의 경우 보험유지기대지표(WTP)의 값이 낮게 나옴(0~10정도 사이가 대부분)\n",
    "# 평균값을 확인해보니 8 정도로 낮은 것으로 알 수 있음."
   ]
  },
  {
   "cell_type": "markdown",
   "id": "af36aff6-87a9-476c-b604-d96063afc8c0",
   "metadata": {
    "id": "af36aff6-87a9-476c-b604-d96063afc8c0"
   },
   "source": [
    "### 2) 소득\n",
    "* 연속형/수치형 컬럼이기 때문에 histplot으로 데이터 확인해보기"
   ]
  },
  {
   "cell_type": "code",
   "execution_count": null,
   "id": "4cd24cdb-cf0b-42d3-9017-e8215c595335",
   "metadata": {
    "id": "4cd24cdb-cf0b-42d3-9017-e8215c595335"
   },
   "outputs": [],
   "source": [
    "#[문제 22] 히스토그램으로 '소득'에 대한 그래프를 그려보자.\n",
    "# bins = 30, kde = True로 설정해서 한번 보자\n",
    "\n"
   ]
  },
  {
   "cell_type": "markdown",
   "id": "6ddbcc65",
   "metadata": {
    "id": "6ddbcc65"
   },
   "source": [
    "<b>**'소득' 변수에 대해 간단하게 탐색한 내용을 아래 주석으로 적어보자!**"
   ]
  },
  {
   "cell_type": "code",
   "execution_count": null,
   "id": "467e99a7",
   "metadata": {
    "id": "467e99a7"
   },
   "outputs": [],
   "source": [
    "# (주석으로 적기)"
   ]
  },
  {
   "cell_type": "markdown",
   "id": "50c3edeb-5074-4324-81a7-4ced83c58ee4",
   "metadata": {
    "id": "50c3edeb-5074-4324-81a7-4ced83c58ee4"
   },
   "source": [
    "### 3) 월 납입액\n",
    "* 연속형/수치형 컬럼이기 때문에 histplot으로 데이터 확인해보기"
   ]
  },
  {
   "cell_type": "code",
   "execution_count": null,
   "id": "09a7a450-cc88-4460-b737-de931f9434a4",
   "metadata": {
    "id": "09a7a450-cc88-4460-b737-de931f9434a4"
   },
   "outputs": [],
   "source": [
    "#[문제 23] 히스토그램으로 '월 납입액'에 대한 그래프를 그려보자.\n",
    "# bins = 30, kde = True로 설정해서 한번 보자\n",
    "\n"
   ]
  },
  {
   "cell_type": "code",
   "execution_count": null,
   "id": "b852ce89",
   "metadata": {
    "id": "b852ce89"
   },
   "outputs": [],
   "source": [
    "#[문제 24] '월 납입액'의 평균값을 확인해보자(describe 사용)\n"
   ]
  },
  {
   "cell_type": "markdown",
   "id": "875e5bc6",
   "metadata": {
    "id": "875e5bc6"
   },
   "source": [
    "<b>**'월 납입액' 변수에 대해 간단하게 탐색한 내용을 아래 주석으로 적어보자!**"
   ]
  },
  {
   "cell_type": "code",
   "execution_count": null,
   "id": "ffca9f0f",
   "metadata": {
    "id": "ffca9f0f"
   },
   "outputs": [],
   "source": [
    "# (주석으로 적기)"
   ]
  },
  {
   "cell_type": "markdown",
   "id": "47a0876b-7557-468c-ad15-5f96a1b31243",
   "metadata": {
    "id": "47a0876b-7557-468c-ad15-5f96a1b31243"
   },
   "source": [
    "### 4) 타상품 보유\n",
    "* 문자형/범주형 컬럼이기 때문에 범주 비율로 확인해보기"
   ]
  },
  {
   "cell_type": "code",
   "execution_count": null,
   "id": "5aa85657-3c6b-47be-96e9-38302644ce29",
   "metadata": {
    "id": "5aa85657-3c6b-47be-96e9-38302644ce29"
   },
   "outputs": [],
   "source": [
    "#[문제 25] '타상품 보유' 변수에 대해 범주별 비율을 확인하자.\n",
    "\n"
   ]
  },
  {
   "cell_type": "markdown",
   "id": "833b1a08",
   "metadata": {
    "id": "833b1a08"
   },
   "source": [
    "<b>**'타상품 보유' 변수에 대해 간단하게 탐색한 내용을 아래 주석으로 적어보자!**"
   ]
  },
  {
   "cell_type": "code",
   "execution_count": null,
   "id": "1a2282fa",
   "metadata": {
    "id": "1a2282fa"
   },
   "outputs": [],
   "source": [
    "# (주석으로 적기)"
   ]
  },
  {
   "cell_type": "markdown",
   "id": "651cfc5d-70a0-4066-b73e-61be50b18a4e",
   "metadata": {
    "id": "651cfc5d-70a0-4066-b73e-61be50b18a4e"
   },
   "source": [
    "### 5) 총지불금액\n",
    "* 연속형/수치형 컬럼이기 때문에 histplot으로 데이터 확인해보기"
   ]
  },
  {
   "cell_type": "code",
   "execution_count": null,
   "id": "a69c6372-034a-4bab-82a0-9fb80de7ef3a",
   "metadata": {
    "id": "a69c6372-034a-4bab-82a0-9fb80de7ef3a",
    "tags": []
   },
   "outputs": [],
   "source": [
    "#[문제 26] 히스토그램으로 '총지불금액'에 대한 그래프를 그려보자.\n",
    "# bins = 30, kde = True로 설정해서 한번 보자\n",
    "\n"
   ]
  },
  {
   "cell_type": "code",
   "execution_count": null,
   "id": "81546e9a",
   "metadata": {
    "id": "81546e9a"
   },
   "outputs": [],
   "source": [
    "#[문제 27] '총지불금액'의 평균값을 확인해보자(describe 사용)\n",
    "\n"
   ]
  },
  {
   "cell_type": "markdown",
   "id": "e0c6533c",
   "metadata": {
    "id": "e0c6533c"
   },
   "source": [
    "<b>**'총 지불 금액' 변수에 대해 간단하게 탐색한 내용을 아래 주석으로 적어보자!**"
   ]
  },
  {
   "cell_type": "code",
   "execution_count": null,
   "id": "3080fd58",
   "metadata": {
    "id": "3080fd58"
   },
   "outputs": [],
   "source": [
    "# (주석으로 적기)"
   ]
  },
  {
   "cell_type": "markdown",
   "id": "0ebd3904-3440-4803-9f26-a0fd1c26585b",
   "metadata": {
    "id": "0ebd3904-3440-4803-9f26-a0fd1c26585b"
   },
   "source": [
    "# **4. Mission 1-변수 탐색 결론**\n",
    "\n",
    "* 수치형 컬럼 이외에도, 주요 변수 중 object 형태의 컬럼이 존재\n",
    "* 수치형 컬럼은 단위가 각각 다르므로 스케일링 고려 필요\n",
    "* 범주형 컬럼은 인코딩을 통해서 모델링을 위한 변환이 필요"
   ]
  },
  {
   "cell_type": "markdown",
   "id": "20862d40-9449-4c1f-8393-21f21ac370bd",
   "metadata": {
    "id": "20862d40-9449-4c1f-8393-21f21ac370bd"
   },
   "source": [
    "<font color=\"1E90FF\"><b>→ 데이터를 확인하고 탐색하여 전처리의 방향성 및 feature 값에 대한 이해 증대<b><br>\n",
    "    "
   ]
  },
  {
   "cell_type": "markdown",
   "id": "9c905b4f",
   "metadata": {
    "id": "9c905b4f"
   },
   "source": [
    "# <b>Mission 1 완료!\n",
    "수고하셨습니다!"
   ]
  }
 ],
 "metadata": {
  "colab": {
   "provenance": [],
   "toc_visible": true
  },
  "kernelspec": {
   "display_name": "Python 3 (ipykernel)",
   "language": "python",
   "name": "python3"
  },
  "language_info": {
   "codemirror_mode": {
    "name": "ipython",
    "version": 3
   },
   "file_extension": ".py",
   "mimetype": "text/x-python",
   "name": "python",
   "nbconvert_exporter": "python",
   "pygments_lexer": "ipython3",
   "version": "3.10.9"
  }
 },
 "nbformat": 4,
 "nbformat_minor": 5
}
