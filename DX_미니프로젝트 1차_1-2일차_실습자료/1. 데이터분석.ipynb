{
 "cells": [
  {
   "cell_type": "markdown",
   "id": "90f3101f-8248-4e8c-bdbf-e113fe6ebbd0",
   "metadata": {
    "id": "90f3101f-8248-4e8c-bdbf-e113fe6ebbd0"
   },
   "source": [
    "# <span style=\"background-color:#fff5b1\"><span style=\"color:black\"><B>보험사 마케팅 활용을 위한 고객 군집화 모델링"
   ]
  },
  {
   "cell_type": "markdown",
   "id": "4c1174fc-1885-4f4e-bbb4-e9bf68f8fc6a",
   "metadata": {
    "id": "4c1174fc-1885-4f4e-bbb4-e9bf68f8fc6a"
   },
   "source": [
    "## **Mission 1. 탐색적 데이터 분석**"
   ]
  },
  {
   "cell_type": "markdown",
   "id": "33589b19-a27e-4ed0-b1e5-8539ce9fe8c0",
   "metadata": {
    "id": "33589b19-a27e-4ed0-b1e5-8539ce9fe8c0",
    "tags": []
   },
   "source": [
    "### **[미션 이해하기]**\n",
    "* 여러분들은 K 보험사의 직원입니다. K 보험사는 효과적인 마케팅 전략을 완성시키기 위해 데이터 기반 마케팅을 시작했습니다.\n",
    "  <br>고객의 행동,성향, 니즈 등의 고객 데이터를 마케팅 전략에 반영하여 고객별로 적절한 마케팅 Action을 주는 미션을 받았습니다.\n",
    "* 고객별로 특징을 적절하게 반영할 수 있는 마케팅 방안은 고객을 segment 하는 것 인데, 어떤 방법으로 고객을 묶을 수 있을까요?\n",
    "  <br>바로, <font color=\"1E90FF\"><b>군집분석을 기반으로 한 고객 segment를 개발 하는 것입니다.</font>\n"
   ]
  },
  {
   "cell_type": "markdown",
   "id": "e6ca9599-a9a1-45f7-bab0-35073378cad4",
   "metadata": {
    "id": "e6ca9599-a9a1-45f7-bab0-35073378cad4"
   },
   "source": [
    "<b>[1일차] mission 1 목표 <b>: 고객의 기본 정보, 행동 정보 등을 확인해서 주요 변수를 선정하고 데이터 탐색해보기"
   ]
  },
  {
   "cell_type": "markdown",
   "id": "f26c0297",
   "metadata": {
    "id": "f26c0297"
   },
   "source": [
    "---------------------------------------------------------------------------------------------\n",
    "# **0. 환경설정(경로설정)**\n",
    "* 세부 요구사항\n",
    "    - 경로 설정 : 구글 colab\n",
    "        * 구글 드라이브 바로 밑에 dxproject 폴더를 만들고,\n",
    "        * 데이터 파일을 복사해 넣습니다."
   ]
  },
  {
   "cell_type": "code",
   "execution_count": 50,
   "id": "a6e55ce1",
   "metadata": {
    "colab": {
     "base_uri": "https://localhost:8080/"
    },
    "executionInfo": {
     "elapsed": 21899,
     "status": "ok",
     "timestamp": 1744598202736,
     "user": {
      "displayName": "花咲静流（나키）",
      "userId": "14501948246392099515"
     },
     "user_tz": -540
    },
    "id": "a6e55ce1",
    "outputId": "8f4459d3-7600-4bde-8bb6-8c771456cf4c"
   },
   "outputs": [],
   "source": [
    "# # 구글 드라이브 연결\n",
    "# from google.colab import drive\n",
    "# drive.mount('/content/drive')"
   ]
  },
  {
   "cell_type": "code",
   "execution_count": 51,
   "id": "017b90e7",
   "metadata": {
    "executionInfo": {
     "elapsed": 3,
     "status": "ok",
     "timestamp": 1744598202736,
     "user": {
      "displayName": "花咲静流（나키）",
      "userId": "14501948246392099515"
     },
     "user_tz": -540
    },
    "id": "017b90e7"
   },
   "outputs": [],
   "source": [
    "# #Path\n",
    "# path = '/content/drive/MyDrive/AIVLE/DX_미니프로젝트 1차_1-2일차_실습자료/'"
   ]
  },
  {
   "cell_type": "code",
   "execution_count": 52,
   "id": "a30cf613",
   "metadata": {},
   "outputs": [],
   "source": [
    "path = './'"
   ]
  },
  {
   "cell_type": "markdown",
   "id": "460857c4-6776-4b4d-ade1-2e5cab89f57a",
   "metadata": {
    "id": "460857c4-6776-4b4d-ade1-2e5cab89f57a"
   },
   "source": [
    "---------------------------------------------------------------------------------------------\n",
    "#### <b>[실습프로세스]<b>\n",
    "\n",
    "1. 데이터 불러오기\n",
    "2. 데이터 기초 정보 확인\n",
    "3. 주요 변수 선정 및 탐색\n",
    "    * 분석가 선정 칼럼 탐색\n",
    "    * 도메인 주요 항목 칼럼 탐색"
   ]
  },
  {
   "cell_type": "markdown",
   "id": "3310b100-8526-4122-b00f-98195133395b",
   "metadata": {
    "id": "3310b100-8526-4122-b00f-98195133395b",
    "tags": []
   },
   "source": [
    "---------------------------------------------------------------------------------------------\n",
    "# **1. 데이터 불러오기**\n",
    "\n",
    "* numpy, pandas, matplotlib, seaborn 등 데이터 분석에 필요한 라이브러리를 로딩해 봅시다.\n",
    "* 만약 라이브러리가 없을 때 !pip를 통해 라이브러리를 설치해 주세요. (ex. !pip install pandas)\n",
    "* 현위치에서 'customers_seg.csv' 파일을 읽어와 주세요."
   ]
  },
  {
   "cell_type": "code",
   "execution_count": 53,
   "id": "bbaf7c28-3a99-4d31-877c-76b8422179b3",
   "metadata": {
    "executionInfo": {
     "elapsed": 1269,
     "status": "ok",
     "timestamp": 1744598204003,
     "user": {
      "displayName": "花咲静流（나키）",
      "userId": "14501948246392099515"
     },
     "user_tz": -540
    },
    "id": "bbaf7c28-3a99-4d31-877c-76b8422179b3",
    "tags": []
   },
   "outputs": [],
   "source": [
    "# [같이 하기] 필요 라이브러리 로딩\n",
    "# numpy, pandas, matplotlib, seaborn, os 등 임포트 하기\n",
    "\n",
    "import numpy as np\n",
    "import pandas as pd\n",
    "import seaborn as sns\n",
    "import os"
   ]
  },
  {
   "cell_type": "code",
   "execution_count": 54,
   "id": "dcf395af-a9fc-4cdf-b524-c7ffc3db5a62",
   "metadata": {
    "colab": {
     "base_uri": "https://localhost:8080/"
    },
    "executionInfo": {
     "elapsed": 17385,
     "status": "ok",
     "timestamp": 1744598221389,
     "user": {
      "displayName": "花咲静流（나키）",
      "userId": "14501948246392099515"
     },
     "user_tz": -540
    },
    "id": "dcf395af-a9fc-4cdf-b524-c7ffc3db5a62",
    "outputId": "5cd97efc-504c-4f4e-ebb7-e8b8a2cbc2d4"
   },
   "outputs": [],
   "source": [
    "# # 한글 세팅\n",
    "\n",
    "# # 1. 나눔고딕 폰트 설치\n",
    "# !apt-get -qq update\n",
    "# !apt-get -qq install -y fonts-nanum\n",
    "\n",
    "# # 2. 런타임에 폰트 캐시 갱신\n",
    "# import matplotlib.font_manager as fm\n",
    "# import matplotlib.pyplot as plt\n",
    "# import matplotlib as mpl\n",
    "\n",
    "# font_dirs = ['/usr/share/fonts/truetype/nanum']\n",
    "# font_files = fm.findSystemFonts(fontpaths=font_dirs)\n",
    "\n",
    "# for font_file in font_files:\n",
    "#     fm.fontManager.addfont(font_file)\n",
    "\n",
    "# # 3. 폰트 이름 확인 후 설정\n",
    "# nanum_font_name = fm.FontProperties(fname=font_files[0]).get_name()\n",
    "# print(f\"설정된 폰트 이름: {nanum_font_name}\")\n",
    "\n",
    "# # matplotlib에 폰트 반영\n",
    "# mpl.rc('font', family=nanum_font_name)\n",
    "# mpl.rcParams['axes.unicode_minus'] = False"
   ]
  },
  {
   "cell_type": "code",
   "execution_count": 55,
   "id": "e10f1c0a",
   "metadata": {},
   "outputs": [],
   "source": [
    "import matplotlib.font_manager as fm\n",
    "import matplotlib.pyplot as plt\n",
    "import matplotlib as mpl\n",
    "\n",
    "mpl.rc('font', family='D2Coding')\n",
    "mpl.rcParams['axes.unicode_minus'] = False"
   ]
  },
  {
   "cell_type": "code",
   "execution_count": 56,
   "id": "7964dd43-8e25-4f87-8e88-6b3152783780",
   "metadata": {
    "colab": {
     "base_uri": "https://localhost:8080/",
     "height": 322
    },
    "executionInfo": {
     "elapsed": 3154,
     "status": "ok",
     "timestamp": 1744598224544,
     "user": {
      "displayName": "花咲静流（나키）",
      "userId": "14501948246392099515"
     },
     "user_tz": -540
    },
    "id": "7964dd43-8e25-4f87-8e88-6b3152783780",
    "outputId": "634fa55f-2d93-4ead-b5ba-911db0017780"
   },
   "outputs": [
    {
     "data": {
      "text/html": [
       "<div>\n",
       "<style scoped>\n",
       "    .dataframe tbody tr th:only-of-type {\n",
       "        vertical-align: middle;\n",
       "    }\n",
       "\n",
       "    .dataframe tbody tr th {\n",
       "        vertical-align: top;\n",
       "    }\n",
       "\n",
       "    .dataframe thead th {\n",
       "        text-align: right;\n",
       "    }\n",
       "</style>\n",
       "<table border=\"1\" class=\"dataframe\">\n",
       "  <thead>\n",
       "    <tr style=\"text-align: right;\">\n",
       "      <th></th>\n",
       "      <th>CID</th>\n",
       "      <th>AGE</th>\n",
       "      <th>등록(계/피)</th>\n",
       "      <th>고용상태</th>\n",
       "      <th>성별</th>\n",
       "      <th>Willingness to pay/Stay</th>\n",
       "      <th>갱신</th>\n",
       "      <th>상품타입</th>\n",
       "      <th>교육수준</th>\n",
       "      <th>소득</th>\n",
       "      <th>...</th>\n",
       "      <th>결혼여부</th>\n",
       "      <th>월 납입액</th>\n",
       "      <th>VOC</th>\n",
       "      <th>타 상품 보유 현황</th>\n",
       "      <th>온라인방문빈도</th>\n",
       "      <th>갱신인센티브</th>\n",
       "      <th>판매채널</th>\n",
       "      <th>총지불금액</th>\n",
       "      <th>자동차</th>\n",
       "      <th>거주지사이즈</th>\n",
       "    </tr>\n",
       "  </thead>\n",
       "  <tbody>\n",
       "    <tr>\n",
       "      <th>0</th>\n",
       "      <td>1</td>\n",
       "      <td>3</td>\n",
       "      <td>피보험자</td>\n",
       "      <td>무직</td>\n",
       "      <td>1</td>\n",
       "      <td>2.616381</td>\n",
       "      <td>0</td>\n",
       "      <td>기본</td>\n",
       "      <td>대학졸업</td>\n",
       "      <td>0</td>\n",
       "      <td>...</td>\n",
       "      <td>미혼</td>\n",
       "      <td>80</td>\n",
       "      <td>0</td>\n",
       "      <td>1</td>\n",
       "      <td>자주방문</td>\n",
       "      <td>없음</td>\n",
       "      <td>자사영업</td>\n",
       "      <td>631000</td>\n",
       "      <td>일반세단</td>\n",
       "      <td>소</td>\n",
       "    </tr>\n",
       "    <tr>\n",
       "      <th>1</th>\n",
       "      <td>2</td>\n",
       "      <td>1</td>\n",
       "      <td>계약자</td>\n",
       "      <td>고용</td>\n",
       "      <td>0</td>\n",
       "      <td>6.352530</td>\n",
       "      <td>0</td>\n",
       "      <td>기본</td>\n",
       "      <td>고졸이하</td>\n",
       "      <td>102887400</td>\n",
       "      <td>...</td>\n",
       "      <td>미혼</td>\n",
       "      <td>80</td>\n",
       "      <td>1</td>\n",
       "      <td>4이상</td>\n",
       "      <td>비방문</td>\n",
       "      <td>포인트</td>\n",
       "      <td>인터넷</td>\n",
       "      <td>54000</td>\n",
       "      <td>일반세단</td>\n",
       "      <td>중</td>\n",
       "    </tr>\n",
       "    <tr>\n",
       "      <th>2</th>\n",
       "      <td>3</td>\n",
       "      <td>2</td>\n",
       "      <td>계약자</td>\n",
       "      <td>휴직</td>\n",
       "      <td>0</td>\n",
       "      <td>4.974354</td>\n",
       "      <td>0</td>\n",
       "      <td>기본</td>\n",
       "      <td>대학졸업</td>\n",
       "      <td>22159500</td>\n",
       "      <td>...</td>\n",
       "      <td>기혼</td>\n",
       "      <td>60</td>\n",
       "      <td>0</td>\n",
       "      <td>4이상</td>\n",
       "      <td>비방문</td>\n",
       "      <td>할인</td>\n",
       "      <td>자사영업</td>\n",
       "      <td>362000</td>\n",
       "      <td>일반세단</td>\n",
       "      <td>중</td>\n",
       "    </tr>\n",
       "    <tr>\n",
       "      <th>3</th>\n",
       "      <td>4</td>\n",
       "      <td>5</td>\n",
       "      <td>계약자</td>\n",
       "      <td>고용</td>\n",
       "      <td>1</td>\n",
       "      <td>13.480284</td>\n",
       "      <td>0</td>\n",
       "      <td>고급</td>\n",
       "      <td>고졸이하</td>\n",
       "      <td>51562500</td>\n",
       "      <td>...</td>\n",
       "      <td>기혼</td>\n",
       "      <td>110</td>\n",
       "      <td>0</td>\n",
       "      <td>2</td>\n",
       "      <td>비방문</td>\n",
       "      <td>할인</td>\n",
       "      <td>자사영업</td>\n",
       "      <td>1264000</td>\n",
       "      <td>컴팩트카</td>\n",
       "      <td>대</td>\n",
       "    </tr>\n",
       "    <tr>\n",
       "      <th>4</th>\n",
       "      <td>5</td>\n",
       "      <td>4</td>\n",
       "      <td>계약자</td>\n",
       "      <td>고용</td>\n",
       "      <td>0</td>\n",
       "      <td>9.776436</td>\n",
       "      <td>0</td>\n",
       "      <td>기본</td>\n",
       "      <td>석사</td>\n",
       "      <td>26820200</td>\n",
       "      <td>...</td>\n",
       "      <td>기혼</td>\n",
       "      <td>120</td>\n",
       "      <td>0</td>\n",
       "      <td>3</td>\n",
       "      <td>비방문</td>\n",
       "      <td>없음</td>\n",
       "      <td>대리점</td>\n",
       "      <td>947000</td>\n",
       "      <td>SUV</td>\n",
       "      <td>중</td>\n",
       "    </tr>\n",
       "  </tbody>\n",
       "</table>\n",
       "<p>5 rows × 21 columns</p>\n",
       "</div>"
      ],
      "text/plain": [
       "   CID  AGE 등록(계/피) 고용상태  성별  Willingness to pay/Stay  갱신 상품타입  교육수준  \\\n",
       "0    1    3    피보험자   무직   1                 2.616381   0   기본  대학졸업   \n",
       "1    2    1     계약자   고용   0                 6.352530   0   기본  고졸이하   \n",
       "2    3    2     계약자   휴직   0                 4.974354   0   기본  대학졸업   \n",
       "3    4    5     계약자   고용   1                13.480284   0   고급  고졸이하   \n",
       "4    5    4     계약자   고용   0                 9.776436   0   기본    석사   \n",
       "\n",
       "          소득  ... 결혼여부 월 납입액  VOC  타 상품 보유 현황 온라인방문빈도 갱신인센티브  판매채널    총지불금액  \\\n",
       "0          0  ...   미혼    80    0           1    자주방문     없음  자사영업   631000   \n",
       "1  102887400  ...   미혼    80    1         4이상     비방문    포인트   인터넷    54000   \n",
       "2   22159500  ...   기혼    60    0         4이상     비방문     할인  자사영업   362000   \n",
       "3   51562500  ...   기혼   110    0           2     비방문     할인  자사영업  1264000   \n",
       "4   26820200  ...   기혼   120    0           3     비방문     없음   대리점   947000   \n",
       "\n",
       "    자동차 거주지사이즈  \n",
       "0  일반세단      소  \n",
       "1  일반세단      중  \n",
       "2  일반세단      중  \n",
       "3  컴팩트카      대  \n",
       "4   SUV      중  \n",
       "\n",
       "[5 rows x 21 columns]"
      ]
     },
     "execution_count": 56,
     "metadata": {},
     "output_type": "execute_result"
    }
   ],
   "source": [
    "# [같이 하기] 데이터 불러오기\n",
    "# 1. data 변수에 'customers_seg.csv' 파일을 불러오기\n",
    "# 2. data 변수 호출해서 상위 5개 확인해보기\n",
    "\n",
    "data = pd.read_csv(path+'customers_seg.csv')\n",
    "data.head()"
   ]
  },
  {
   "cell_type": "markdown",
   "id": "1139e7df-db00-4faf-8fa7-40928e90cdc0",
   "metadata": {
    "id": "1139e7df-db00-4faf-8fa7-40928e90cdc0"
   },
   "source": [
    "---------------------------------------------------------------------------------------------\n",
    "# **2. 데이터 기초 정보 확인하기**\n",
    "* 불러온 데이터셋(data)의 기초 정보들을 확인해봅시다."
   ]
  },
  {
   "cell_type": "code",
   "execution_count": 57,
   "id": "788acadc-7edb-40ae-ada4-4c516917af71",
   "metadata": {
    "colab": {
     "base_uri": "https://localhost:8080/",
     "height": 322
    },
    "executionInfo": {
     "elapsed": 63,
     "status": "ok",
     "timestamp": 1744598224607,
     "user": {
      "displayName": "花咲静流（나키）",
      "userId": "14501948246392099515"
     },
     "user_tz": -540
    },
    "id": "788acadc-7edb-40ae-ada4-4c516917af71",
    "outputId": "24bb777a-4aef-467b-d13e-48d8ab4b2a0a"
   },
   "outputs": [
    {
     "data": {
      "text/html": [
       "<div>\n",
       "<style scoped>\n",
       "    .dataframe tbody tr th:only-of-type {\n",
       "        vertical-align: middle;\n",
       "    }\n",
       "\n",
       "    .dataframe tbody tr th {\n",
       "        vertical-align: top;\n",
       "    }\n",
       "\n",
       "    .dataframe thead th {\n",
       "        text-align: right;\n",
       "    }\n",
       "</style>\n",
       "<table border=\"1\" class=\"dataframe\">\n",
       "  <thead>\n",
       "    <tr style=\"text-align: right;\">\n",
       "      <th></th>\n",
       "      <th>CID</th>\n",
       "      <th>AGE</th>\n",
       "      <th>등록(계/피)</th>\n",
       "      <th>고용상태</th>\n",
       "      <th>성별</th>\n",
       "      <th>Willingness to pay/Stay</th>\n",
       "      <th>갱신</th>\n",
       "      <th>상품타입</th>\n",
       "      <th>교육수준</th>\n",
       "      <th>소득</th>\n",
       "      <th>...</th>\n",
       "      <th>결혼여부</th>\n",
       "      <th>월 납입액</th>\n",
       "      <th>VOC</th>\n",
       "      <th>타 상품 보유 현황</th>\n",
       "      <th>온라인방문빈도</th>\n",
       "      <th>갱신인센티브</th>\n",
       "      <th>판매채널</th>\n",
       "      <th>총지불금액</th>\n",
       "      <th>자동차</th>\n",
       "      <th>거주지사이즈</th>\n",
       "    </tr>\n",
       "  </thead>\n",
       "  <tbody>\n",
       "    <tr>\n",
       "      <th>0</th>\n",
       "      <td>1</td>\n",
       "      <td>3</td>\n",
       "      <td>피보험자</td>\n",
       "      <td>무직</td>\n",
       "      <td>1</td>\n",
       "      <td>2.616381</td>\n",
       "      <td>0</td>\n",
       "      <td>기본</td>\n",
       "      <td>대학졸업</td>\n",
       "      <td>0</td>\n",
       "      <td>...</td>\n",
       "      <td>미혼</td>\n",
       "      <td>80</td>\n",
       "      <td>0</td>\n",
       "      <td>1</td>\n",
       "      <td>자주방문</td>\n",
       "      <td>없음</td>\n",
       "      <td>자사영업</td>\n",
       "      <td>631000</td>\n",
       "      <td>일반세단</td>\n",
       "      <td>소</td>\n",
       "    </tr>\n",
       "    <tr>\n",
       "      <th>1</th>\n",
       "      <td>2</td>\n",
       "      <td>1</td>\n",
       "      <td>계약자</td>\n",
       "      <td>고용</td>\n",
       "      <td>0</td>\n",
       "      <td>6.352530</td>\n",
       "      <td>0</td>\n",
       "      <td>기본</td>\n",
       "      <td>고졸이하</td>\n",
       "      <td>102887400</td>\n",
       "      <td>...</td>\n",
       "      <td>미혼</td>\n",
       "      <td>80</td>\n",
       "      <td>1</td>\n",
       "      <td>4이상</td>\n",
       "      <td>비방문</td>\n",
       "      <td>포인트</td>\n",
       "      <td>인터넷</td>\n",
       "      <td>54000</td>\n",
       "      <td>일반세단</td>\n",
       "      <td>중</td>\n",
       "    </tr>\n",
       "    <tr>\n",
       "      <th>2</th>\n",
       "      <td>3</td>\n",
       "      <td>2</td>\n",
       "      <td>계약자</td>\n",
       "      <td>휴직</td>\n",
       "      <td>0</td>\n",
       "      <td>4.974354</td>\n",
       "      <td>0</td>\n",
       "      <td>기본</td>\n",
       "      <td>대학졸업</td>\n",
       "      <td>22159500</td>\n",
       "      <td>...</td>\n",
       "      <td>기혼</td>\n",
       "      <td>60</td>\n",
       "      <td>0</td>\n",
       "      <td>4이상</td>\n",
       "      <td>비방문</td>\n",
       "      <td>할인</td>\n",
       "      <td>자사영업</td>\n",
       "      <td>362000</td>\n",
       "      <td>일반세단</td>\n",
       "      <td>중</td>\n",
       "    </tr>\n",
       "    <tr>\n",
       "      <th>3</th>\n",
       "      <td>4</td>\n",
       "      <td>5</td>\n",
       "      <td>계약자</td>\n",
       "      <td>고용</td>\n",
       "      <td>1</td>\n",
       "      <td>13.480284</td>\n",
       "      <td>0</td>\n",
       "      <td>고급</td>\n",
       "      <td>고졸이하</td>\n",
       "      <td>51562500</td>\n",
       "      <td>...</td>\n",
       "      <td>기혼</td>\n",
       "      <td>110</td>\n",
       "      <td>0</td>\n",
       "      <td>2</td>\n",
       "      <td>비방문</td>\n",
       "      <td>할인</td>\n",
       "      <td>자사영업</td>\n",
       "      <td>1264000</td>\n",
       "      <td>컴팩트카</td>\n",
       "      <td>대</td>\n",
       "    </tr>\n",
       "    <tr>\n",
       "      <th>4</th>\n",
       "      <td>5</td>\n",
       "      <td>4</td>\n",
       "      <td>계약자</td>\n",
       "      <td>고용</td>\n",
       "      <td>0</td>\n",
       "      <td>9.776436</td>\n",
       "      <td>0</td>\n",
       "      <td>기본</td>\n",
       "      <td>석사</td>\n",
       "      <td>26820200</td>\n",
       "      <td>...</td>\n",
       "      <td>기혼</td>\n",
       "      <td>120</td>\n",
       "      <td>0</td>\n",
       "      <td>3</td>\n",
       "      <td>비방문</td>\n",
       "      <td>없음</td>\n",
       "      <td>대리점</td>\n",
       "      <td>947000</td>\n",
       "      <td>SUV</td>\n",
       "      <td>중</td>\n",
       "    </tr>\n",
       "  </tbody>\n",
       "</table>\n",
       "<p>5 rows × 21 columns</p>\n",
       "</div>"
      ],
      "text/plain": [
       "   CID  AGE 등록(계/피) 고용상태  성별  Willingness to pay/Stay  갱신 상품타입  교육수준  \\\n",
       "0    1    3    피보험자   무직   1                 2.616381   0   기본  대학졸업   \n",
       "1    2    1     계약자   고용   0                 6.352530   0   기본  고졸이하   \n",
       "2    3    2     계약자   휴직   0                 4.974354   0   기본  대학졸업   \n",
       "3    4    5     계약자   고용   1                13.480284   0   고급  고졸이하   \n",
       "4    5    4     계약자   고용   0                 9.776436   0   기본    석사   \n",
       "\n",
       "          소득  ... 결혼여부 월 납입액  VOC  타 상품 보유 현황 온라인방문빈도 갱신인센티브  판매채널    총지불금액  \\\n",
       "0          0  ...   미혼    80    0           1    자주방문     없음  자사영업   631000   \n",
       "1  102887400  ...   미혼    80    1         4이상     비방문    포인트   인터넷    54000   \n",
       "2   22159500  ...   기혼    60    0         4이상     비방문     할인  자사영업   362000   \n",
       "3   51562500  ...   기혼   110    0           2     비방문     할인  자사영업  1264000   \n",
       "4   26820200  ...   기혼   120    0           3     비방문     없음   대리점   947000   \n",
       "\n",
       "    자동차 거주지사이즈  \n",
       "0  일반세단      소  \n",
       "1  일반세단      중  \n",
       "2  일반세단      중  \n",
       "3  컴팩트카      대  \n",
       "4   SUV      중  \n",
       "\n",
       "[5 rows x 21 columns]"
      ]
     },
     "execution_count": 57,
     "metadata": {},
     "output_type": "execute_result"
    }
   ],
   "source": [
    "# [문제1] 데이터 셋의 상위 5개 행을 확인해보자.\n",
    "data.head()\n"
   ]
  },
  {
   "cell_type": "code",
   "execution_count": 58,
   "id": "d691fc81-3a4f-46d7-9472-42bc44239c5a",
   "metadata": {
    "colab": {
     "base_uri": "https://localhost:8080/",
     "height": 339
    },
    "executionInfo": {
     "elapsed": 40,
     "status": "ok",
     "timestamp": 1744598224648,
     "user": {
      "displayName": "花咲静流（나키）",
      "userId": "14501948246392099515"
     },
     "user_tz": -540
    },
    "id": "d691fc81-3a4f-46d7-9472-42bc44239c5a",
    "outputId": "05055855-5d1d-410b-8843-e7322ac125f2"
   },
   "outputs": [
    {
     "data": {
      "text/html": [
       "<div>\n",
       "<style scoped>\n",
       "    .dataframe tbody tr th:only-of-type {\n",
       "        vertical-align: middle;\n",
       "    }\n",
       "\n",
       "    .dataframe tbody tr th {\n",
       "        vertical-align: top;\n",
       "    }\n",
       "\n",
       "    .dataframe thead th {\n",
       "        text-align: right;\n",
       "    }\n",
       "</style>\n",
       "<table border=\"1\" class=\"dataframe\">\n",
       "  <thead>\n",
       "    <tr style=\"text-align: right;\">\n",
       "      <th></th>\n",
       "      <th>CID</th>\n",
       "      <th>AGE</th>\n",
       "      <th>등록(계/피)</th>\n",
       "      <th>고용상태</th>\n",
       "      <th>성별</th>\n",
       "      <th>Willingness to pay/Stay</th>\n",
       "      <th>갱신</th>\n",
       "      <th>상품타입</th>\n",
       "      <th>교육수준</th>\n",
       "      <th>소득</th>\n",
       "      <th>...</th>\n",
       "      <th>결혼여부</th>\n",
       "      <th>월 납입액</th>\n",
       "      <th>VOC</th>\n",
       "      <th>타 상품 보유 현황</th>\n",
       "      <th>온라인방문빈도</th>\n",
       "      <th>갱신인센티브</th>\n",
       "      <th>판매채널</th>\n",
       "      <th>총지불금액</th>\n",
       "      <th>자동차</th>\n",
       "      <th>거주지사이즈</th>\n",
       "    </tr>\n",
       "  </thead>\n",
       "  <tbody>\n",
       "    <tr>\n",
       "      <th>11995</th>\n",
       "      <td>11996</td>\n",
       "      <td>1</td>\n",
       "      <td>계약자</td>\n",
       "      <td>고용</td>\n",
       "      <td>1</td>\n",
       "      <td>25.9851</td>\n",
       "      <td>0</td>\n",
       "      <td>기본</td>\n",
       "      <td>대학졸업</td>\n",
       "      <td>86451000</td>\n",
       "      <td>...</td>\n",
       "      <td>기혼</td>\n",
       "      <td>70</td>\n",
       "      <td>0</td>\n",
       "      <td>2</td>\n",
       "      <td>비방문</td>\n",
       "      <td>설계사독려</td>\n",
       "      <td>인터넷</td>\n",
       "      <td>245000</td>\n",
       "      <td>일반세단</td>\n",
       "      <td>중</td>\n",
       "    </tr>\n",
       "    <tr>\n",
       "      <th>11996</th>\n",
       "      <td>11997</td>\n",
       "      <td>3</td>\n",
       "      <td>피보험자</td>\n",
       "      <td>고용</td>\n",
       "      <td>0</td>\n",
       "      <td>3.4410</td>\n",
       "      <td>1</td>\n",
       "      <td>중급</td>\n",
       "      <td>대학졸업</td>\n",
       "      <td>25962000</td>\n",
       "      <td>...</td>\n",
       "      <td>미혼</td>\n",
       "      <td>80</td>\n",
       "      <td>0</td>\n",
       "      <td>1</td>\n",
       "      <td>자주방문</td>\n",
       "      <td>할인</td>\n",
       "      <td>자사영업</td>\n",
       "      <td>468000</td>\n",
       "      <td>일반세단</td>\n",
       "      <td>중</td>\n",
       "    </tr>\n",
       "    <tr>\n",
       "      <th>11997</th>\n",
       "      <td>11998</td>\n",
       "      <td>3</td>\n",
       "      <td>피보험자</td>\n",
       "      <td>무직</td>\n",
       "      <td>1</td>\n",
       "      <td>9.0576</td>\n",
       "      <td>0</td>\n",
       "      <td>중급</td>\n",
       "      <td>대학졸업</td>\n",
       "      <td>0</td>\n",
       "      <td>...</td>\n",
       "      <td>미혼</td>\n",
       "      <td>90</td>\n",
       "      <td>3</td>\n",
       "      <td>2</td>\n",
       "      <td>자주방문</td>\n",
       "      <td>할인</td>\n",
       "      <td>자사영업</td>\n",
       "      <td>977000</td>\n",
       "      <td>일반세단</td>\n",
       "      <td>중</td>\n",
       "    </tr>\n",
       "    <tr>\n",
       "      <th>11998</th>\n",
       "      <td>11999</td>\n",
       "      <td>4</td>\n",
       "      <td>계약자</td>\n",
       "      <td>고용</td>\n",
       "      <td>1</td>\n",
       "      <td>8.3472</td>\n",
       "      <td>0</td>\n",
       "      <td>중급</td>\n",
       "      <td>대학졸업</td>\n",
       "      <td>26366000</td>\n",
       "      <td>...</td>\n",
       "      <td>기혼</td>\n",
       "      <td>100</td>\n",
       "      <td>0</td>\n",
       "      <td>3</td>\n",
       "      <td>비방문</td>\n",
       "      <td>포인트</td>\n",
       "      <td>자사영업</td>\n",
       "      <td>854000</td>\n",
       "      <td>일반세단</td>\n",
       "      <td>대</td>\n",
       "    </tr>\n",
       "    <tr>\n",
       "      <th>11999</th>\n",
       "      <td>12000</td>\n",
       "      <td>3</td>\n",
       "      <td>피보험자</td>\n",
       "      <td>무직</td>\n",
       "      <td>1</td>\n",
       "      <td>2.8971</td>\n",
       "      <td>0</td>\n",
       "      <td>중급</td>\n",
       "      <td>대학졸업</td>\n",
       "      <td>0</td>\n",
       "      <td>...</td>\n",
       "      <td>미혼</td>\n",
       "      <td>80</td>\n",
       "      <td>0</td>\n",
       "      <td>1</td>\n",
       "      <td>자주방문</td>\n",
       "      <td>없음</td>\n",
       "      <td>콜센터</td>\n",
       "      <td>456000</td>\n",
       "      <td>컴팩트카</td>\n",
       "      <td>중</td>\n",
       "    </tr>\n",
       "  </tbody>\n",
       "</table>\n",
       "<p>5 rows × 21 columns</p>\n",
       "</div>"
      ],
      "text/plain": [
       "         CID  AGE 등록(계/피) 고용상태  성별  Willingness to pay/Stay  갱신 상품타입  교육수준  \\\n",
       "11995  11996    1     계약자   고용   1                  25.9851   0   기본  대학졸업   \n",
       "11996  11997    3    피보험자   고용   0                   3.4410   1   중급  대학졸업   \n",
       "11997  11998    3    피보험자   무직   1                   9.0576   0   중급  대학졸업   \n",
       "11998  11999    4     계약자   고용   1                   8.3472   0   중급  대학졸업   \n",
       "11999  12000    3    피보험자   무직   1                   2.8971   0   중급  대학졸업   \n",
       "\n",
       "             소득  ... 결혼여부 월 납입액  VOC  타 상품 보유 현황 온라인방문빈도 갱신인센티브  판매채널   총지불금액  \\\n",
       "11995  86451000  ...   기혼    70    0           2     비방문  설계사독려   인터넷  245000   \n",
       "11996  25962000  ...   미혼    80    0           1    자주방문     할인  자사영업  468000   \n",
       "11997         0  ...   미혼    90    3           2    자주방문     할인  자사영업  977000   \n",
       "11998  26366000  ...   기혼   100    0           3     비방문    포인트  자사영업  854000   \n",
       "11999         0  ...   미혼    80    0           1    자주방문     없음   콜센터  456000   \n",
       "\n",
       "        자동차 거주지사이즈  \n",
       "11995  일반세단      중  \n",
       "11996  일반세단      중  \n",
       "11997  일반세단      중  \n",
       "11998  일반세단      대  \n",
       "11999  컴팩트카      중  \n",
       "\n",
       "[5 rows x 21 columns]"
      ]
     },
     "execution_count": 58,
     "metadata": {},
     "output_type": "execute_result"
    }
   ],
   "source": [
    "# [문제2] 데이터 셋의 하위 5개 행을 확인해보자.\n",
    "data.tail()\n"
   ]
  },
  {
   "cell_type": "code",
   "execution_count": 59,
   "id": "fa92843d-afc7-4809-838c-8a2eefca20e0",
   "metadata": {
    "colab": {
     "base_uri": "https://localhost:8080/"
    },
    "executionInfo": {
     "elapsed": 4,
     "status": "ok",
     "timestamp": 1744598224651,
     "user": {
      "displayName": "花咲静流（나키）",
      "userId": "14501948246392099515"
     },
     "user_tz": -540
    },
    "id": "fa92843d-afc7-4809-838c-8a2eefca20e0",
    "outputId": "8840e9bc-6e97-486f-fc6a-268b6df85d2a"
   },
   "outputs": [
    {
     "data": {
      "text/plain": [
       "(12000, 21)"
      ]
     },
     "execution_count": 59,
     "metadata": {},
     "output_type": "execute_result"
    }
   ],
   "source": [
    "# [문제3] data 데이터프레임의 행, 열의 개수 확인해보자.(shape)\n",
    "data.shape\n"
   ]
  },
  {
   "cell_type": "code",
   "execution_count": 60,
   "id": "d2a22906-53c5-4858-bc01-654a862b0f88",
   "metadata": {
    "colab": {
     "base_uri": "https://localhost:8080/"
    },
    "executionInfo": {
     "elapsed": 41,
     "status": "ok",
     "timestamp": 1744598224692,
     "user": {
      "displayName": "花咲静流（나키）",
      "userId": "14501948246392099515"
     },
     "user_tz": -540
    },
    "id": "d2a22906-53c5-4858-bc01-654a862b0f88",
    "outputId": "c1c6f611-0fad-40f6-ad13-8fe729f4946c"
   },
   "outputs": [
    {
     "name": "stdout",
     "output_type": "stream",
     "text": [
      "<class 'pandas.core.frame.DataFrame'>\n",
      "RangeIndex: 12000 entries, 0 to 11999\n",
      "Data columns (total 21 columns):\n",
      " #   Column                   Non-Null Count  Dtype  \n",
      "---  ------                   --------------  -----  \n",
      " 0   CID                      12000 non-null  int64  \n",
      " 1   AGE                      12000 non-null  int64  \n",
      " 2   등록(계/피)                  12000 non-null  object \n",
      " 3   고용상태                     12000 non-null  object \n",
      " 4   성별                       12000 non-null  int64  \n",
      " 5   Willingness to pay/Stay  12000 non-null  float64\n",
      " 6   갱신                       12000 non-null  int64  \n",
      " 7   상품타입                     12000 non-null  object \n",
      " 8   교육수준                     12000 non-null  object \n",
      " 9   소득                       12000 non-null  int64  \n",
      " 10  지역                       12000 non-null  object \n",
      " 11  결혼여부                     12000 non-null  object \n",
      " 12  월 납입액                    12000 non-null  int64  \n",
      " 13  VOC                      12000 non-null  int64  \n",
      " 14  타 상품 보유 현황               12000 non-null  object \n",
      " 15  온라인방문빈도                  12000 non-null  object \n",
      " 16  갱신인센티브                   12000 non-null  object \n",
      " 17  판매채널                     12000 non-null  object \n",
      " 18  총지불금액                    12000 non-null  int64  \n",
      " 19  자동차                      12000 non-null  object \n",
      " 20  거주지사이즈                   12000 non-null  object \n",
      "dtypes: float64(1), int64(8), object(12)\n",
      "memory usage: 1.9+ MB\n"
     ]
    }
   ],
   "source": [
    "#[문제4] data 데이터프레임의 컬럼명, 데이터 개수, 데이터 타입 정보를 확인 해보자.\n",
    "data.info()"
   ]
  },
  {
   "cell_type": "code",
   "execution_count": 61,
   "id": "78ffec50-cdf1-4942-9235-2b5985192440",
   "metadata": {
    "colab": {
     "base_uri": "https://localhost:8080/",
     "height": 300
    },
    "executionInfo": {
     "elapsed": 58,
     "status": "ok",
     "timestamp": 1744598224749,
     "user": {
      "displayName": "花咲静流（나키）",
      "userId": "14501948246392099515"
     },
     "user_tz": -540
    },
    "id": "78ffec50-cdf1-4942-9235-2b5985192440",
    "outputId": "fc58ead1-5f91-48da-97db-68844c301667"
   },
   "outputs": [
    {
     "data": {
      "text/html": [
       "<div>\n",
       "<style scoped>\n",
       "    .dataframe tbody tr th:only-of-type {\n",
       "        vertical-align: middle;\n",
       "    }\n",
       "\n",
       "    .dataframe tbody tr th {\n",
       "        vertical-align: top;\n",
       "    }\n",
       "\n",
       "    .dataframe thead th {\n",
       "        text-align: right;\n",
       "    }\n",
       "</style>\n",
       "<table border=\"1\" class=\"dataframe\">\n",
       "  <thead>\n",
       "    <tr style=\"text-align: right;\">\n",
       "      <th></th>\n",
       "      <th>CID</th>\n",
       "      <th>AGE</th>\n",
       "      <th>성별</th>\n",
       "      <th>Willingness to pay/Stay</th>\n",
       "      <th>갱신</th>\n",
       "      <th>소득</th>\n",
       "      <th>월 납입액</th>\n",
       "      <th>VOC</th>\n",
       "      <th>총지불금액</th>\n",
       "    </tr>\n",
       "  </thead>\n",
       "  <tbody>\n",
       "    <tr>\n",
       "      <th>count</th>\n",
       "      <td>12000.00000</td>\n",
       "      <td>12000.000000</td>\n",
       "      <td>12000.000000</td>\n",
       "      <td>12000.000000</td>\n",
       "      <td>12000.000000</td>\n",
       "      <td>1.200000e+04</td>\n",
       "      <td>12000.000000</td>\n",
       "      <td>12000.000000</td>\n",
       "      <td>1.200000e+04</td>\n",
       "    </tr>\n",
       "    <tr>\n",
       "      <th>mean</th>\n",
       "      <td>6000.50000</td>\n",
       "      <td>3.079000</td>\n",
       "      <td>0.487583</td>\n",
       "      <td>8.859478</td>\n",
       "      <td>0.143000</td>\n",
       "      <td>4.641737e+07</td>\n",
       "      <td>100.065833</td>\n",
       "      <td>0.390167</td>\n",
       "      <td>5.355854e+05</td>\n",
       "    </tr>\n",
       "    <tr>\n",
       "      <th>std</th>\n",
       "      <td>3464.24595</td>\n",
       "      <td>1.121768</td>\n",
       "      <td>0.499867</td>\n",
       "      <td>7.698885</td>\n",
       "      <td>0.350087</td>\n",
       "      <td>3.736221e+07</td>\n",
       "      <td>42.453750</td>\n",
       "      <td>0.919605</td>\n",
       "      <td>3.587993e+05</td>\n",
       "    </tr>\n",
       "    <tr>\n",
       "      <th>min</th>\n",
       "      <td>1.00000</td>\n",
       "      <td>1.000000</td>\n",
       "      <td>0.000000</td>\n",
       "      <td>2.045730</td>\n",
       "      <td>0.000000</td>\n",
       "      <td>0.000000e+00</td>\n",
       "      <td>60.000000</td>\n",
       "      <td>0.000000</td>\n",
       "      <td>0.000000e+00</td>\n",
       "    </tr>\n",
       "    <tr>\n",
       "      <th>25%</th>\n",
       "      <td>3000.75000</td>\n",
       "      <td>3.000000</td>\n",
       "      <td>0.000000</td>\n",
       "      <td>4.373400</td>\n",
       "      <td>0.000000</td>\n",
       "      <td>0.000000e+00</td>\n",
       "      <td>70.000000</td>\n",
       "      <td>0.000000</td>\n",
       "      <td>3.360000e+05</td>\n",
       "    </tr>\n",
       "    <tr>\n",
       "      <th>50%</th>\n",
       "      <td>6000.50000</td>\n",
       "      <td>3.000000</td>\n",
       "      <td>0.000000</td>\n",
       "      <td>6.384831</td>\n",
       "      <td>0.000000</td>\n",
       "      <td>4.186240e+07</td>\n",
       "      <td>90.000000</td>\n",
       "      <td>0.000000</td>\n",
       "      <td>4.740000e+05</td>\n",
       "    </tr>\n",
       "    <tr>\n",
       "      <th>75%</th>\n",
       "      <td>9000.25000</td>\n",
       "      <td>4.000000</td>\n",
       "      <td>1.000000</td>\n",
       "      <td>9.867900</td>\n",
       "      <td>0.000000</td>\n",
       "      <td>7.664150e+07</td>\n",
       "      <td>120.000000</td>\n",
       "      <td>0.000000</td>\n",
       "      <td>6.790000e+05</td>\n",
       "    </tr>\n",
       "    <tr>\n",
       "      <th>max</th>\n",
       "      <td>12000.00000</td>\n",
       "      <td>6.000000</td>\n",
       "      <td>1.000000</td>\n",
       "      <td>92.496300</td>\n",
       "      <td>1.000000</td>\n",
       "      <td>1.320209e+08</td>\n",
       "      <td>350.000000</td>\n",
       "      <td>5.000000</td>\n",
       "      <td>3.573000e+06</td>\n",
       "    </tr>\n",
       "  </tbody>\n",
       "</table>\n",
       "</div>"
      ],
      "text/plain": [
       "               CID           AGE            성별  Willingness to pay/Stay  \\\n",
       "count  12000.00000  12000.000000  12000.000000             12000.000000   \n",
       "mean    6000.50000      3.079000      0.487583                 8.859478   \n",
       "std     3464.24595      1.121768      0.499867                 7.698885   \n",
       "min        1.00000      1.000000      0.000000                 2.045730   \n",
       "25%     3000.75000      3.000000      0.000000                 4.373400   \n",
       "50%     6000.50000      3.000000      0.000000                 6.384831   \n",
       "75%     9000.25000      4.000000      1.000000                 9.867900   \n",
       "max    12000.00000      6.000000      1.000000                92.496300   \n",
       "\n",
       "                 갱신            소득         월 납입액           VOC         총지불금액  \n",
       "count  12000.000000  1.200000e+04  12000.000000  12000.000000  1.200000e+04  \n",
       "mean       0.143000  4.641737e+07    100.065833      0.390167  5.355854e+05  \n",
       "std        0.350087  3.736221e+07     42.453750      0.919605  3.587993e+05  \n",
       "min        0.000000  0.000000e+00     60.000000      0.000000  0.000000e+00  \n",
       "25%        0.000000  0.000000e+00     70.000000      0.000000  3.360000e+05  \n",
       "50%        0.000000  4.186240e+07     90.000000      0.000000  4.740000e+05  \n",
       "75%        0.000000  7.664150e+07    120.000000      0.000000  6.790000e+05  \n",
       "max        1.000000  1.320209e+08    350.000000      5.000000  3.573000e+06  "
      ]
     },
     "execution_count": 61,
     "metadata": {},
     "output_type": "execute_result"
    }
   ],
   "source": [
    "# [문제5] 데이터 셋 수치형 데이터 기초통계 정보를 확인해보자\n",
    "\n",
    "data.describe()"
   ]
  },
  {
   "cell_type": "code",
   "execution_count": 62,
   "id": "6fffe90d-8984-49f3-8125-49a011c5a3cf",
   "metadata": {
    "colab": {
     "base_uri": "https://localhost:8080/"
    },
    "executionInfo": {
     "elapsed": 3,
     "status": "ok",
     "timestamp": 1744598224752,
     "user": {
      "displayName": "花咲静流（나키）",
      "userId": "14501948246392099515"
     },
     "user_tz": -540
    },
    "id": "6fffe90d-8984-49f3-8125-49a011c5a3cf",
    "outputId": "bc1569ee-fdab-4666-cae3-3fb9909bde93"
   },
   "outputs": [
    {
     "data": {
      "text/plain": [
       "Index(['CID', 'AGE', '등록(계/피)', '고용상태', '성별', 'Willingness to pay/Stay', '갱신',\n",
       "       '상품타입', '교육수준', '소득', '지역', '결혼여부', '월 납입액', 'VOC', '타 상품 보유 현황',\n",
       "       '온라인방문빈도', '갱신인센티브', '판매채널', '총지불금액', '자동차', '거주지사이즈'],\n",
       "      dtype='object')"
      ]
     },
     "execution_count": 62,
     "metadata": {},
     "output_type": "execute_result"
    }
   ],
   "source": [
    "# [문제6] 데이터 셋의 모든 컬럼명(변수명)을 확인해보자.\n",
    "\n",
    "data.columns"
   ]
  },
  {
   "cell_type": "markdown",
   "id": "dfe3bf07-4b93-4735-b4a6-f72517edf64c",
   "metadata": {
    "id": "dfe3bf07-4b93-4735-b4a6-f72517edf64c"
   },
   "source": [
    "---------------------------------------------------------------------------------------------\n",
    "# **3. 주요 변수 선정 및 탐색**"
   ]
  },
  {
   "cell_type": "markdown",
   "id": "e50a9f25-b42d-40fc-ba35-b2342b5f3901",
   "metadata": {
    "id": "e50a9f25-b42d-40fc-ba35-b2342b5f3901",
    "tags": []
   },
   "source": [
    "<b> 21개의 features 값은 어떤 의미일지 알아보고 주요 변수를 선정해 봅시다!"
   ]
  },
  {
   "cell_type": "markdown",
   "id": "fc87868f-8e19-41c3-93c6-b89d781bc842",
   "metadata": {
    "id": "fc87868f-8e19-41c3-93c6-b89d781bc842"
   },
   "source": [
    "---------------------------------------------------------------------------------------------\n",
    "<b>이 중 주요 변수를 선정 해 보았을 때 <font color=\"1E90FF\"><b>11개의 features를 선정하였다.</font>\n",
    "<font color=\"1E90FF\"><b>* 우리의 목표: 군집화가 된 고객 segment 개발</font>\n",
    "   \n",
    "<span><b>1. 도메인 내 주요 정보 항목</span>\n",
    "    <br><br>\n",
    "        - (1) Willingness to pay/Stay: 계속 보험을 유지할 지 판단하는 지표 (신용점수, 납부/연체기록, 소득 등 활용)\n",
    "    <br>- (2) 소득\n",
    "    <br>- (3) 월 납입액\n",
    "    <br>- (4) 타상품 보유 현황: 고객이 이용하는 파인애플사의 타 서비스 수(어느정도 고객의 충성도를 알 수 있음)\n",
    "    <br>- (5) 총지불금액\n",
    "    \n",
    "<span><b>2. 분석가 선정 컬럼</span>\n",
    "    <br><br>- (6)AGE, (7)고용상태, (8)교육수준: 고객 기본 정보\n",
    "    <br>- (9)상품타입, (10)거주지사이즈, (11)자동차: 소득 등과 연관해서 추정이 가능한 정보"
   ]
  },
  {
   "cell_type": "markdown",
   "id": "67bc6c07-f962-48bb-a7d0-df94c5e6c380",
   "metadata": {
    "id": "67bc6c07-f962-48bb-a7d0-df94c5e6c380"
   },
   "source": [
    "## <b> (1) 분석가 선정 컬럼 탐색하기\n",
    "* 분석가 선정 컬럼 : AGE, 고용상태, 교육수준, 상품 타입, 거주지사이즈, 자동차(총 6개 피쳐)\n",
    "* 위 분석가 선정 컬럼을 탐색해 보자!"
   ]
  },
  {
   "cell_type": "code",
   "execution_count": 63,
   "id": "eb508019",
   "metadata": {
    "colab": {
     "base_uri": "https://localhost:8080/"
    },
    "executionInfo": {
     "elapsed": 43,
     "status": "ok",
     "timestamp": 1744599686709,
     "user": {
      "displayName": "花咲静流（나키）",
      "userId": "14501948246392099515"
     },
     "user_tz": -540
    },
    "id": "eb508019",
    "outputId": "911564ba-75c9-471b-9acb-58aadc18c410"
   },
   "outputs": [
    {
     "name": "stdout",
     "output_type": "stream",
     "text": [
      "<class 'pandas.core.frame.DataFrame'>\n",
      "RangeIndex: 12000 entries, 0 to 11999\n",
      "Data columns (total 6 columns):\n",
      " #   Column  Non-Null Count  Dtype \n",
      "---  ------  --------------  ----- \n",
      " 0   AGE     12000 non-null  int64 \n",
      " 1   고용상태    12000 non-null  object\n",
      " 2   교육수준    12000 non-null  object\n",
      " 3   상품타입    12000 non-null  object\n",
      " 4   거주지사이즈  12000 non-null  object\n",
      " 5   자동차     12000 non-null  object\n",
      "dtypes: int64(1), object(5)\n",
      "memory usage: 562.6+ KB\n"
     ]
    }
   ],
   "source": [
    "#[문제 7] 분석가 선정 컬럼들이 수치형인지 문자/범주형인지 알아보자! (info 활용)\n",
    "data[['AGE','고용상태','교육수준','상품타입','거주지사이즈','자동차']].info()\n"
   ]
  },
  {
   "cell_type": "markdown",
   "id": "00a4850f",
   "metadata": {
    "id": "00a4850f"
   },
   "source": [
    "**【각각의 변수들이 어떤 의미를 가지고 있을지 데이터 탐색을 해보자!】**"
   ]
  },
  {
   "cell_type": "markdown",
   "id": "fd250fc8-fb13-4c20-89aa-ad3bebcaa5a5",
   "metadata": {
    "id": "fd250fc8-fb13-4c20-89aa-ad3bebcaa5a5"
   },
   "source": [
    "### 1) AGE"
   ]
  },
  {
   "cell_type": "code",
   "execution_count": 64,
   "id": "297c7471-ad20-4fe3-a239-e7ae01e29a5e",
   "metadata": {
    "colab": {
     "base_uri": "https://localhost:8080/",
     "height": 303
    },
    "executionInfo": {
     "elapsed": 33,
     "status": "ok",
     "timestamp": 1744598224820,
     "user": {
      "displayName": "花咲静流（나키）",
      "userId": "14501948246392099515"
     },
     "user_tz": -540
    },
    "id": "297c7471-ad20-4fe3-a239-e7ae01e29a5e",
    "outputId": "ead294df-aa06-4a6c-ecd8-1d733aff33e6"
   },
   "outputs": [
    {
     "data": {
      "text/plain": [
       "AGE\n",
       "1    0.121167\n",
       "2    0.128167\n",
       "3    0.397917\n",
       "4    0.260333\n",
       "5    0.088083\n",
       "6    0.004333\n",
       "Name: proportion, dtype: float64"
      ]
     },
     "execution_count": 64,
     "metadata": {},
     "output_type": "execute_result"
    }
   ],
   "source": [
    "#[같이 하기] AGE 변수는 범주형이다. 이에 대해 범주별 비율을 탐색해보자.(.value_counts())\n",
    "#  (1: 20대, 2: 30대, 3: 40대, 4: 50대, 5: 60대, 6: 70대)\n",
    "# 결과를 인덱스 기준으로 정렬해서 조회 (.sort_index())\n",
    "\n",
    "data['AGE'].value_counts(normalize = True).sort_index()"
   ]
  },
  {
   "cell_type": "markdown",
   "id": "186d0d86",
   "metadata": {
    "id": "186d0d86"
   },
   "source": [
    "<b>**age 변수에 대해 간단하게 탐색한 내용을 아래 주석으로 적어보자!**"
   ]
  },
  {
   "cell_type": "code",
   "execution_count": 65,
   "id": "ba95b842",
   "metadata": {
    "id": "ba95b842"
   },
   "outputs": [],
   "source": [
    "# 연령대를 보았을 때 약 40% 정도가 40대 임을 알 수 있다. 약 4~50대가 65% 정도이다.\n",
    "# 2-30대는 약 25%, 60대는 8%, 70대는 1%미만으로 거의 존재하지 않는다."
   ]
  },
  {
   "cell_type": "code",
   "execution_count": 66,
   "id": "7e3bff37",
   "metadata": {
    "colab": {
     "base_uri": "https://localhost:8080/",
     "height": 471
    },
    "executionInfo": {
     "elapsed": 247,
     "status": "ok",
     "timestamp": 1744598225066,
     "user": {
      "displayName": "花咲静流（나키）",
      "userId": "14501948246392099515"
     },
     "user_tz": -540
    },
    "id": "7e3bff37",
    "outputId": "fa4797d6-bda8-4eda-ed47-d00df93bf492"
   },
   "outputs": [
    {
     "data": {
      "image/png": "[encoded data removed]",
      "text/plain": [
       "<Figure size 640x480 with 1 Axes>"
      ]
     },
     "metadata": {},
     "output_type": "display_data"
    }
   ],
   "source": [
    "#[같이 하기] age에 대해 countplot 으로 시각화를 해보자!\n",
    "# 1. sns.countplot(x=' ', data= )으로 시각화. 색상은 원하는 색상으로!\n",
    "# 2. title=('age'), grid 도 넣어서 이쁘게 만들어보자.\n",
    "\n",
    "sns.countplot(x='AGE',data=data, color='skyblue')\n",
    "plt.title('age')\n",
    "plt.grid()\n",
    "plt.show()"
   ]
  },
  {
   "cell_type": "markdown",
   "id": "0d446084-d4a2-43b9-99da-4fc0ed71d37a",
   "metadata": {
    "id": "0d446084-d4a2-43b9-99da-4fc0ed71d37a"
   },
   "source": [
    "### 2) 고용상태"
   ]
  },
  {
   "cell_type": "code",
   "execution_count": 67,
   "id": "f1b53277-4472-4e0d-a89d-c81cccdc163f",
   "metadata": {
    "colab": {
     "base_uri": "https://localhost:8080/",
     "height": 241
    },
    "executionInfo": {
     "elapsed": 8,
     "status": "ok",
     "timestamp": 1744598225071,
     "user": {
      "displayName": "花咲静流（나키）",
      "userId": "14501948246392099515"
     },
     "user_tz": -540
    },
    "id": "f1b53277-4472-4e0d-a89d-c81cccdc163f",
    "outputId": "8bda83d1-3bf7-4b2a-f414-7813934c34ae",
    "tags": []
   },
   "outputs": [
    {
     "data": {
      "text/plain": [
       "고용상태\n",
       "고용       7518\n",
       "무직       3028\n",
       "휴직       1094\n",
       "FALSE     360\n",
       "Name: count, dtype: int64"
      ]
     },
     "execution_count": 67,
     "metadata": {},
     "output_type": "execute_result"
    }
   ],
   "source": [
    "#[문제 8] '고용상태' 변수에 대해 범주별 빈도수를 탐색해보자.\n",
    "data['고용상태'].value_counts()\n"
   ]
  },
  {
   "cell_type": "code",
   "execution_count": 68,
   "id": "f12b4e33-9894-4bad-9f92-9631b4c9a98a",
   "metadata": {
    "colab": {
     "base_uri": "https://localhost:8080/",
     "height": 241
    },
    "executionInfo": {
     "elapsed": 7,
     "status": "ok",
     "timestamp": 1744598225072,
     "user": {
      "displayName": "花咲静流（나키）",
      "userId": "14501948246392099515"
     },
     "user_tz": -540
    },
    "id": "f12b4e33-9894-4bad-9f92-9631b4c9a98a",
    "outputId": "1fc488d1-63dc-49d1-80e3-4ff032ecac32"
   },
   "outputs": [
    {
     "data": {
      "text/plain": [
       "고용상태\n",
       "고용       0.626500\n",
       "무직       0.252333\n",
       "휴직       0.091167\n",
       "FALSE    0.030000\n",
       "Name: proportion, dtype: float64"
      ]
     },
     "execution_count": 68,
     "metadata": {},
     "output_type": "execute_result"
    }
   ],
   "source": [
    "#[문제 9] 위 결과에 대해 비율로 계산해보자.\n",
    "data['고용상태'].value_counts(normalize=True)\n"
   ]
  },
  {
   "cell_type": "code",
   "execution_count": 69,
   "id": "5902b062-96b9-4b4d-870f-d8d40e04a587",
   "metadata": {
    "colab": {
     "base_uri": "https://localhost:8080/",
     "height": 614
    },
    "executionInfo": {
     "elapsed": 44,
     "status": "ok",
     "timestamp": 1744598225115,
     "user": {
      "displayName": "花咲静流（나키）",
      "userId": "14501948246392099515"
     },
     "user_tz": -540
    },
    "id": "5902b062-96b9-4b4d-870f-d8d40e04a587",
    "outputId": "05e92ecc-e601-4b67-9e43-294152e83de4",
    "tags": []
   },
   "outputs": [
    {
     "data": {
      "text/html": [
       "<div>\n",
       "<style scoped>\n",
       "    .dataframe tbody tr th:only-of-type {\n",
       "        vertical-align: middle;\n",
       "    }\n",
       "\n",
       "    .dataframe tbody tr th {\n",
       "        vertical-align: top;\n",
       "    }\n",
       "\n",
       "    .dataframe thead th {\n",
       "        text-align: right;\n",
       "    }\n",
       "</style>\n",
       "<table border=\"1\" class=\"dataframe\">\n",
       "  <thead>\n",
       "    <tr style=\"text-align: right;\">\n",
       "      <th></th>\n",
       "      <th>CID</th>\n",
       "      <th>AGE</th>\n",
       "      <th>등록(계/피)</th>\n",
       "      <th>고용상태</th>\n",
       "      <th>성별</th>\n",
       "      <th>Willingness to pay/Stay</th>\n",
       "      <th>갱신</th>\n",
       "      <th>상품타입</th>\n",
       "      <th>교육수준</th>\n",
       "      <th>소득</th>\n",
       "      <th>...</th>\n",
       "      <th>결혼여부</th>\n",
       "      <th>월 납입액</th>\n",
       "      <th>VOC</th>\n",
       "      <th>타 상품 보유 현황</th>\n",
       "      <th>온라인방문빈도</th>\n",
       "      <th>갱신인센티브</th>\n",
       "      <th>판매채널</th>\n",
       "      <th>총지불금액</th>\n",
       "      <th>자동차</th>\n",
       "      <th>거주지사이즈</th>\n",
       "    </tr>\n",
       "  </thead>\n",
       "  <tbody>\n",
       "    <tr>\n",
       "      <th>149</th>\n",
       "      <td>150</td>\n",
       "      <td>3</td>\n",
       "      <td>피보험자</td>\n",
       "      <td>FALSE</td>\n",
       "      <td>0</td>\n",
       "      <td>12.898866</td>\n",
       "      <td>1</td>\n",
       "      <td>기본</td>\n",
       "      <td>석사</td>\n",
       "      <td>28438300</td>\n",
       "      <td>...</td>\n",
       "      <td>기혼</td>\n",
       "      <td>60</td>\n",
       "      <td>0</td>\n",
       "      <td>2</td>\n",
       "      <td>자주방문</td>\n",
       "      <td>할인</td>\n",
       "      <td>대리점</td>\n",
       "      <td>318000</td>\n",
       "      <td>컴팩트카</td>\n",
       "      <td>중</td>\n",
       "    </tr>\n",
       "    <tr>\n",
       "      <th>226</th>\n",
       "      <td>227</td>\n",
       "      <td>3</td>\n",
       "      <td>계약자</td>\n",
       "      <td>FALSE</td>\n",
       "      <td>0</td>\n",
       "      <td>13.943265</td>\n",
       "      <td>0</td>\n",
       "      <td>고급</td>\n",
       "      <td>고졸이하</td>\n",
       "      <td>19937500</td>\n",
       "      <td>...</td>\n",
       "      <td>기혼</td>\n",
       "      <td>130</td>\n",
       "      <td>0</td>\n",
       "      <td>2</td>\n",
       "      <td>비방문</td>\n",
       "      <td>할인</td>\n",
       "      <td>콜센터</td>\n",
       "      <td>682000</td>\n",
       "      <td>일반세단</td>\n",
       "      <td>대</td>\n",
       "    </tr>\n",
       "    <tr>\n",
       "      <th>298</th>\n",
       "      <td>299</td>\n",
       "      <td>3</td>\n",
       "      <td>계약자</td>\n",
       "      <td>FALSE</td>\n",
       "      <td>0</td>\n",
       "      <td>10.853136</td>\n",
       "      <td>1</td>\n",
       "      <td>중급</td>\n",
       "      <td>고졸이하</td>\n",
       "      <td>15635400</td>\n",
       "      <td>...</td>\n",
       "      <td>미혼</td>\n",
       "      <td>90</td>\n",
       "      <td>0</td>\n",
       "      <td>2</td>\n",
       "      <td>비방문</td>\n",
       "      <td>할인</td>\n",
       "      <td>대리점</td>\n",
       "      <td>706000</td>\n",
       "      <td>일반세단</td>\n",
       "      <td>대</td>\n",
       "    </tr>\n",
       "    <tr>\n",
       "      <th>382</th>\n",
       "      <td>383</td>\n",
       "      <td>4</td>\n",
       "      <td>피보험자</td>\n",
       "      <td>FALSE</td>\n",
       "      <td>1</td>\n",
       "      <td>6.524802</td>\n",
       "      <td>1</td>\n",
       "      <td>중급</td>\n",
       "      <td>대학졸업</td>\n",
       "      <td>36590400</td>\n",
       "      <td>...</td>\n",
       "      <td>기혼</td>\n",
       "      <td>90</td>\n",
       "      <td>0</td>\n",
       "      <td>4이상</td>\n",
       "      <td>자주방문</td>\n",
       "      <td>설계사독려</td>\n",
       "      <td>대리점</td>\n",
       "      <td>492000</td>\n",
       "      <td>컴팩트카</td>\n",
       "      <td>중</td>\n",
       "    </tr>\n",
       "    <tr>\n",
       "      <th>404</th>\n",
       "      <td>405</td>\n",
       "      <td>4</td>\n",
       "      <td>계약자</td>\n",
       "      <td>FALSE</td>\n",
       "      <td>1</td>\n",
       "      <td>5.006655</td>\n",
       "      <td>1</td>\n",
       "      <td>기본</td>\n",
       "      <td>대학졸업</td>\n",
       "      <td>37296600</td>\n",
       "      <td>...</td>\n",
       "      <td>미혼</td>\n",
       "      <td>60</td>\n",
       "      <td>0</td>\n",
       "      <td>3</td>\n",
       "      <td>비방문</td>\n",
       "      <td>할인</td>\n",
       "      <td>대리점</td>\n",
       "      <td>578000</td>\n",
       "      <td>컴팩트카</td>\n",
       "      <td>중</td>\n",
       "    </tr>\n",
       "    <tr>\n",
       "      <th>...</th>\n",
       "      <td>...</td>\n",
       "      <td>...</td>\n",
       "      <td>...</td>\n",
       "      <td>...</td>\n",
       "      <td>...</td>\n",
       "      <td>...</td>\n",
       "      <td>...</td>\n",
       "      <td>...</td>\n",
       "      <td>...</td>\n",
       "      <td>...</td>\n",
       "      <td>...</td>\n",
       "      <td>...</td>\n",
       "      <td>...</td>\n",
       "      <td>...</td>\n",
       "      <td>...</td>\n",
       "      <td>...</td>\n",
       "      <td>...</td>\n",
       "      <td>...</td>\n",
       "      <td>...</td>\n",
       "      <td>...</td>\n",
       "      <td>...</td>\n",
       "    </tr>\n",
       "    <tr>\n",
       "      <th>11868</th>\n",
       "      <td>11869</td>\n",
       "      <td>3</td>\n",
       "      <td>계약자</td>\n",
       "      <td>FALSE</td>\n",
       "      <td>1</td>\n",
       "      <td>7.792200</td>\n",
       "      <td>1</td>\n",
       "      <td>기본</td>\n",
       "      <td>대학졸업</td>\n",
       "      <td>32213000</td>\n",
       "      <td>...</td>\n",
       "      <td>기혼</td>\n",
       "      <td>70</td>\n",
       "      <td>0</td>\n",
       "      <td>2</td>\n",
       "      <td>비방문</td>\n",
       "      <td>할인</td>\n",
       "      <td>대리점</td>\n",
       "      <td>373000</td>\n",
       "      <td>일반세단</td>\n",
       "      <td>중</td>\n",
       "    </tr>\n",
       "    <tr>\n",
       "      <th>11887</th>\n",
       "      <td>11888</td>\n",
       "      <td>4</td>\n",
       "      <td>피보험자</td>\n",
       "      <td>FALSE</td>\n",
       "      <td>0</td>\n",
       "      <td>6.959700</td>\n",
       "      <td>1</td>\n",
       "      <td>중급</td>\n",
       "      <td>대학졸업</td>\n",
       "      <td>22324000</td>\n",
       "      <td>...</td>\n",
       "      <td>미혼</td>\n",
       "      <td>90</td>\n",
       "      <td>0</td>\n",
       "      <td>4이상</td>\n",
       "      <td>자주방문</td>\n",
       "      <td>할인</td>\n",
       "      <td>자사영업</td>\n",
       "      <td>510000</td>\n",
       "      <td>일반세단</td>\n",
       "      <td>중</td>\n",
       "    </tr>\n",
       "    <tr>\n",
       "      <th>11895</th>\n",
       "      <td>11896</td>\n",
       "      <td>4</td>\n",
       "      <td>계약자</td>\n",
       "      <td>FALSE</td>\n",
       "      <td>0</td>\n",
       "      <td>3.996000</td>\n",
       "      <td>1</td>\n",
       "      <td>기본</td>\n",
       "      <td>고졸이하</td>\n",
       "      <td>30219000</td>\n",
       "      <td>...</td>\n",
       "      <td>미혼</td>\n",
       "      <td>110</td>\n",
       "      <td>0</td>\n",
       "      <td>1</td>\n",
       "      <td>비방문</td>\n",
       "      <td>할인</td>\n",
       "      <td>대리점</td>\n",
       "      <td>858000</td>\n",
       "      <td>SUV</td>\n",
       "      <td>중</td>\n",
       "    </tr>\n",
       "    <tr>\n",
       "      <th>11941</th>\n",
       "      <td>11942</td>\n",
       "      <td>4</td>\n",
       "      <td>계약자</td>\n",
       "      <td>FALSE</td>\n",
       "      <td>0</td>\n",
       "      <td>10.644900</td>\n",
       "      <td>0</td>\n",
       "      <td>중급</td>\n",
       "      <td>고졸이하</td>\n",
       "      <td>32978000</td>\n",
       "      <td>...</td>\n",
       "      <td>미혼</td>\n",
       "      <td>90</td>\n",
       "      <td>2</td>\n",
       "      <td>2</td>\n",
       "      <td>비방문</td>\n",
       "      <td>할인</td>\n",
       "      <td>대리점</td>\n",
       "      <td>846000</td>\n",
       "      <td>일반세단</td>\n",
       "      <td>중</td>\n",
       "    </tr>\n",
       "    <tr>\n",
       "      <th>11988</th>\n",
       "      <td>11989</td>\n",
       "      <td>3</td>\n",
       "      <td>계약자</td>\n",
       "      <td>FALSE</td>\n",
       "      <td>0</td>\n",
       "      <td>28.260600</td>\n",
       "      <td>1</td>\n",
       "      <td>중급</td>\n",
       "      <td>대학졸업</td>\n",
       "      <td>16419000</td>\n",
       "      <td>...</td>\n",
       "      <td>미혼</td>\n",
       "      <td>110</td>\n",
       "      <td>0</td>\n",
       "      <td>2</td>\n",
       "      <td>비방문</td>\n",
       "      <td>할인</td>\n",
       "      <td>자사영업</td>\n",
       "      <td>575000</td>\n",
       "      <td>일반세단</td>\n",
       "      <td>소</td>\n",
       "    </tr>\n",
       "  </tbody>\n",
       "</table>\n",
       "<p>360 rows × 21 columns</p>\n",
       "</div>"
      ],
      "text/plain": [
       "         CID  AGE 등록(계/피)   고용상태  성별  Willingness to pay/Stay  갱신 상품타입  교육수준  \\\n",
       "149      150    3    피보험자  FALSE   0                12.898866   1   기본    석사   \n",
       "226      227    3     계약자  FALSE   0                13.943265   0   고급  고졸이하   \n",
       "298      299    3     계약자  FALSE   0                10.853136   1   중급  고졸이하   \n",
       "382      383    4    피보험자  FALSE   1                 6.524802   1   중급  대학졸업   \n",
       "404      405    4     계약자  FALSE   1                 5.006655   1   기본  대학졸업   \n",
       "...      ...  ...     ...    ...  ..                      ...  ..  ...   ...   \n",
       "11868  11869    3     계약자  FALSE   1                 7.792200   1   기본  대학졸업   \n",
       "11887  11888    4    피보험자  FALSE   0                 6.959700   1   중급  대학졸업   \n",
       "11895  11896    4     계약자  FALSE   0                 3.996000   1   기본  고졸이하   \n",
       "11941  11942    4     계약자  FALSE   0                10.644900   0   중급  고졸이하   \n",
       "11988  11989    3     계약자  FALSE   0                28.260600   1   중급  대학졸업   \n",
       "\n",
       "             소득  ... 결혼여부 월 납입액  VOC  타 상품 보유 현황 온라인방문빈도 갱신인센티브  판매채널   총지불금액  \\\n",
       "149    28438300  ...   기혼    60    0           2    자주방문     할인   대리점  318000   \n",
       "226    19937500  ...   기혼   130    0           2     비방문     할인   콜센터  682000   \n",
       "298    15635400  ...   미혼    90    0           2     비방문     할인   대리점  706000   \n",
       "382    36590400  ...   기혼    90    0         4이상    자주방문  설계사독려   대리점  492000   \n",
       "404    37296600  ...   미혼    60    0           3     비방문     할인   대리점  578000   \n",
       "...         ...  ...  ...   ...  ...         ...     ...    ...   ...     ...   \n",
       "11868  32213000  ...   기혼    70    0           2     비방문     할인   대리점  373000   \n",
       "11887  22324000  ...   미혼    90    0         4이상    자주방문     할인  자사영업  510000   \n",
       "11895  30219000  ...   미혼   110    0           1     비방문     할인   대리점  858000   \n",
       "11941  32978000  ...   미혼    90    2           2     비방문     할인   대리점  846000   \n",
       "11988  16419000  ...   미혼   110    0           2     비방문     할인  자사영업  575000   \n",
       "\n",
       "        자동차 거주지사이즈  \n",
       "149    컴팩트카      중  \n",
       "226    일반세단      대  \n",
       "298    일반세단      대  \n",
       "382    컴팩트카      중  \n",
       "404    컴팩트카      중  \n",
       "...     ...    ...  \n",
       "11868  일반세단      중  \n",
       "11887  일반세단      중  \n",
       "11895   SUV      중  \n",
       "11941  일반세단      중  \n",
       "11988  일반세단      소  \n",
       "\n",
       "[360 rows x 21 columns]"
      ]
     },
     "execution_count": 69,
     "metadata": {},
     "output_type": "execute_result"
    }
   ],
   "source": [
    "#[문제 10] FALSE 값이 있잖어? 이게 뭐지?\n",
    "# False를 무엇으로 해석해야 할까?\n",
    "data[data['고용상태']==\"FALSE\"]\n"
   ]
  },
  {
   "cell_type": "markdown",
   "id": "d809db36",
   "metadata": {
    "id": "d809db36"
   },
   "source": [
    "<b>**'고용상태' 변수에 대해 간단하게 탐색한 내용을 아래 주석으로 적어보자!**\n"
   ]
  },
  {
   "cell_type": "code",
   "execution_count": 70,
   "id": "62d64507",
   "metadata": {
    "executionInfo": {
     "elapsed": 2,
     "status": "ok",
     "timestamp": 1744598225117,
     "user": {
      "displayName": "花咲静流（나키）",
      "userId": "14501948246392099515"
     },
     "user_tz": -540
    },
    "id": "62d64507"
   },
   "outputs": [],
   "source": [
    "# (주석으로 적기)\n",
    "\n",
    "# 고용상태는 고용된 상태인 '고용' 값이 약 63% 정도이며,\n",
    "# 고용되지 않은 상태인 '휴직', '무직' 상태가 각각 9% 25% 정도로 총합 34% 정도를 가진다.\n",
    "# 마지막으로 알 수 없는 값인 'FALSE' 값이 약 3% 정도를 가진다."
   ]
  },
  {
   "cell_type": "code",
   "execution_count": 71,
   "id": "07cd9ced",
   "metadata": {
    "colab": {
     "base_uri": "https://localhost:8080/",
     "height": 467
    },
    "executionInfo": {
     "elapsed": 152,
     "status": "ok",
     "timestamp": 1744598719711,
     "user": {
      "displayName": "花咲静流（나키）",
      "userId": "14501948246392099515"
     },
     "user_tz": -540
    },
    "id": "07cd9ced",
    "outputId": "e24df3b4-ab98-4c1c-9960-c2f7919a23bd"
   },
   "outputs": [
    {
     "data": {
      "text/plain": [
       "<Axes: xlabel='고용상태', ylabel='count'>"
      ]
     },
     "execution_count": 71,
     "metadata": {},
     "output_type": "execute_result"
    },
    {
     "data": {
      "image/png": "[encoded data removed]",
      "text/plain": [
       "<Figure size 640x480 with 1 Axes>"
      ]
     },
     "metadata": {},
     "output_type": "display_data"
    }
   ],
   "source": [
    "#[문제 11] '고용상태'에 대해 countplot 으로 시각화를 해보자!\n",
    "\n",
    "sns.countplot(data=data, x=data['고용상태'], color='skyblue')"
   ]
  },
  {
   "cell_type": "markdown",
   "id": "4b90ac7b-1bd4-446c-a741-eaafab3a3da1",
   "metadata": {
    "id": "4b90ac7b-1bd4-446c-a741-eaafab3a3da1"
   },
   "source": [
    "### 3) 교육수준"
   ]
  },
  {
   "cell_type": "code",
   "execution_count": 72,
   "id": "6690ed2e-cf2a-4011-86ae-9fc66aa72c6a",
   "metadata": {
    "colab": {
     "base_uri": "https://localhost:8080/",
     "height": 241
    },
    "executionInfo": {
     "elapsed": 13,
     "status": "ok",
     "timestamp": 1744598421982,
     "user": {
      "displayName": "花咲静流（나키）",
      "userId": "14501948246392099515"
     },
     "user_tz": -540
    },
    "id": "6690ed2e-cf2a-4011-86ae-9fc66aa72c6a",
    "outputId": "cfc861a0-606b-4991-d422-c95a97b3c75a"
   },
   "outputs": [
    {
     "data": {
      "text/plain": [
       "교육수준\n",
       "대학졸업    7105\n",
       "고졸이하    3477\n",
       "석사       979\n",
       "박사       439\n",
       "Name: count, dtype: int64"
      ]
     },
     "execution_count": 72,
     "metadata": {},
     "output_type": "execute_result"
    }
   ],
   "source": [
    "#[문제 12] '교육수준' 변수에 대해 범주별 빈도수를 탐색해보자.\n",
    "\n",
    "data['교육수준'].value_counts()"
   ]
  },
  {
   "cell_type": "code",
   "execution_count": 73,
   "id": "83123ae9-e4b9-4412-8e3f-f3706624a615",
   "metadata": {
    "colab": {
     "base_uri": "https://localhost:8080/",
     "height": 241
    },
    "executionInfo": {
     "elapsed": 13,
     "status": "ok",
     "timestamp": 1744598440967,
     "user": {
      "displayName": "花咲静流（나키）",
      "userId": "14501948246392099515"
     },
     "user_tz": -540
    },
    "id": "83123ae9-e4b9-4412-8e3f-f3706624a615",
    "outputId": "72d73b5b-7dee-43f5-e8c3-1dbb727fcb45"
   },
   "outputs": [
    {
     "data": {
      "text/plain": [
       "교육수준\n",
       "대학졸업    0.592083\n",
       "고졸이하    0.289750\n",
       "석사      0.081583\n",
       "박사      0.036583\n",
       "Name: proportion, dtype: float64"
      ]
     },
     "execution_count": 73,
     "metadata": {},
     "output_type": "execute_result"
    }
   ],
   "source": [
    "#[문제 13] 위 결과에 대해 비율로 계산해보자.\n",
    "data['교육수준'].value_counts(normalize=True)\n"
   ]
  },
  {
   "cell_type": "markdown",
   "id": "31c48e8e",
   "metadata": {
    "id": "31c48e8e"
   },
   "source": [
    "<b>**'교육수준' 변수에 대해 간단하게 탐색한 내용을 아래 주석으로 적어보자!**"
   ]
  },
  {
   "cell_type": "code",
   "execution_count": 74,
   "id": "2eecf953",
   "metadata": {
    "id": "2eecf953"
   },
   "outputs": [],
   "source": [
    "# (주석으로 적기)\n",
    "# 고졸 이하가 약 29%로 대학졸업이상이 약 71%이고 이중 약 12%는 대학원 학위까지 있는 사람이다."
   ]
  },
  {
   "cell_type": "code",
   "execution_count": 75,
   "id": "8918f452",
   "metadata": {
    "colab": {
     "base_uri": "https://localhost:8080/",
     "height": 467
    },
    "executionInfo": {
     "elapsed": 169,
     "status": "ok",
     "timestamp": 1744598729933,
     "user": {
      "displayName": "花咲静流（나키）",
      "userId": "14501948246392099515"
     },
     "user_tz": -540
    },
    "id": "8918f452",
    "outputId": "53e25e0c-246d-452a-dec7-6c3fe38590da"
   },
   "outputs": [
    {
     "data": {
      "text/plain": [
       "<Axes: xlabel='교육수준', ylabel='count'>"
      ]
     },
     "execution_count": 75,
     "metadata": {},
     "output_type": "execute_result"
    },
    {
     "data": {
      "image/png": "[encoded data removed]",
      "text/plain": [
       "<Figure size 640x480 with 1 Axes>"
      ]
     },
     "metadata": {},
     "output_type": "display_data"
    }
   ],
   "source": [
    "#[문제 14] '교육수준'에 대해 countplot 으로 시각화를 해보자!\n",
    "sns.countplot(data=data, x=data['교육수준'], color='skyblue')\n"
   ]
  },
  {
   "cell_type": "markdown",
   "id": "efbe3ae4-1bad-477e-9585-299bb34bc386",
   "metadata": {
    "id": "efbe3ae4-1bad-477e-9585-299bb34bc386"
   },
   "source": [
    "### 4) 상품타입"
   ]
  },
  {
   "cell_type": "code",
   "execution_count": 76,
   "id": "f0ae84e4-24d2-4c0a-8430-aa39111acb25",
   "metadata": {
    "colab": {
     "base_uri": "https://localhost:8080/",
     "height": 209
    },
    "executionInfo": {
     "elapsed": 39,
     "status": "ok",
     "timestamp": 1744598577341,
     "user": {
      "displayName": "花咲静流（나키）",
      "userId": "14501948246392099515"
     },
     "user_tz": -540
    },
    "id": "f0ae84e4-24d2-4c0a-8430-aa39111acb25",
    "outputId": "00223e4d-e911-4585-c12c-b38accb52a20"
   },
   "outputs": [
    {
     "data": {
      "text/plain": [
       "상품타입\n",
       "기본    0.606500\n",
       "중급    0.303917\n",
       "고급    0.089583\n",
       "Name: proportion, dtype: float64"
      ]
     },
     "execution_count": 76,
     "metadata": {},
     "output_type": "execute_result"
    }
   ],
   "source": [
    "#[문제 15] '상품타입'변수에 대해 범주별 비율을 탐색해보자.\n",
    "data['상품타입'].value_counts(normalize=True)\n"
   ]
  },
  {
   "cell_type": "markdown",
   "id": "b4dba274",
   "metadata": {
    "id": "b4dba274"
   },
   "source": [
    "<b>**'상품타입' 변수에 대해 간단하게 탐색한 내용을 아래 주석으로 적어보자!**"
   ]
  },
  {
   "cell_type": "code",
   "execution_count": 77,
   "id": "f386523f",
   "metadata": {
    "id": "f386523f"
   },
   "outputs": [],
   "source": [
    "# (주석으로 적기)\n",
    "# '기본'이 60%, '중급'이 30%로 대부분의 사람들이 기본이나 중급에 가입하였으며\n",
    "# 고급은 9%정도의 사람들 밖에 가입하지 않았다."
   ]
  },
  {
   "cell_type": "code",
   "execution_count": 78,
   "id": "b7530f6a",
   "metadata": {
    "colab": {
     "base_uri": "https://localhost:8080/",
     "height": 467
    },
    "executionInfo": {
     "elapsed": 142,
     "status": "ok",
     "timestamp": 1744598733689,
     "user": {
      "displayName": "花咲静流（나키）",
      "userId": "14501948246392099515"
     },
     "user_tz": -540
    },
    "id": "b7530f6a",
    "outputId": "c43dfbc7-5f4b-4266-dac8-ecd0a0a1bcf6"
   },
   "outputs": [
    {
     "data": {
      "text/plain": [
       "<Axes: xlabel='상품타입', ylabel='count'>"
      ]
     },
     "execution_count": 78,
     "metadata": {},
     "output_type": "execute_result"
    },
    {
     "data": {
      "image/png": "[encoded data removed]",
      "text/plain": [
       "<Figure size 640x480 with 1 Axes>"
      ]
     },
     "metadata": {},
     "output_type": "display_data"
    }
   ],
   "source": [
    "#[문제 16] '상품타입'에 대해 countplot 으로 시각화를 해보자!\n",
    "\n",
    "sns.countplot(data=data, x=data['상품타입'], color='skyblue')"
   ]
  },
  {
   "cell_type": "markdown",
   "id": "70719016-ee76-4dd9-94a0-d70e8a0d4a2f",
   "metadata": {
    "id": "70719016-ee76-4dd9-94a0-d70e8a0d4a2f"
   },
   "source": [
    "### 5) 거주지사이즈"
   ]
  },
  {
   "cell_type": "code",
   "execution_count": 79,
   "id": "bbd09e8b-860d-4746-9cd0-3a9760f4611d",
   "metadata": {
    "colab": {
     "base_uri": "https://localhost:8080/",
     "height": 209
    },
    "executionInfo": {
     "elapsed": 43,
     "status": "ok",
     "timestamp": 1744598787495,
     "user": {
      "displayName": "花咲静流（나키）",
      "userId": "14501948246392099515"
     },
     "user_tz": -540
    },
    "id": "bbd09e8b-860d-4746-9cd0-3a9760f4611d",
    "outputId": "e2bd3aa8-c097-4693-b1a0-bf0cab164998"
   },
   "outputs": [
    {
     "data": {
      "text/plain": [
       "거주지사이즈\n",
       "중    0.701917\n",
       "소    0.194333\n",
       "대    0.103750\n",
       "Name: proportion, dtype: float64"
      ]
     },
     "execution_count": 79,
     "metadata": {},
     "output_type": "execute_result"
    }
   ],
   "source": [
    "#[문제 17]'거주지사이즈'변수에 대해 범주별 비율을 탐색해보자.\n",
    "data['거주지사이즈'].value_counts(normalize=True)\n"
   ]
  },
  {
   "cell_type": "markdown",
   "id": "de3362c6",
   "metadata": {
    "id": "de3362c6"
   },
   "source": [
    "<b>**'거주지사이즈' 변수에 대해 간단하게 탐색한 내용을 아래 주석으로 적어보자!**"
   ]
  },
  {
   "cell_type": "code",
   "execution_count": 80,
   "id": "9b1e64ab",
   "metadata": {
    "executionInfo": {
     "elapsed": 42,
     "status": "ok",
     "timestamp": 1744598821247,
     "user": {
      "displayName": "花咲静流（나키）",
      "userId": "14501948246392099515"
     },
     "user_tz": -540
    },
    "id": "9b1e64ab"
   },
   "outputs": [],
   "source": [
    "# (주석으로 적기)\n",
    "# 대부분의 사람들이 '중' 사이즈의 집에 거주한다. (약 70%)\n",
    "# '소' 는 약 20%, '대' 는 약 10%이다."
   ]
  },
  {
   "cell_type": "code",
   "execution_count": 81,
   "id": "e19b97c6",
   "metadata": {
    "colab": {
     "base_uri": "https://localhost:8080/",
     "height": 467
    },
    "executionInfo": {
     "elapsed": 153,
     "status": "ok",
     "timestamp": 1744598794690,
     "user": {
      "displayName": "花咲静流（나키）",
      "userId": "14501948246392099515"
     },
     "user_tz": -540
    },
    "id": "e19b97c6",
    "outputId": "48b2ea1a-e8d6-4d56-bd90-82fefb59b7ca"
   },
   "outputs": [
    {
     "data": {
      "text/plain": [
       "<Axes: xlabel='거주지사이즈', ylabel='count'>"
      ]
     },
     "execution_count": 81,
     "metadata": {},
     "output_type": "execute_result"
    },
    {
     "data": {
      "image/png": "[encoded data removed]",
      "text/plain": [
       "<Figure size 640x480 with 1 Axes>"
      ]
     },
     "metadata": {},
     "output_type": "display_data"
    }
   ],
   "source": [
    "#[문제 18] '거주지사이즈'에 대해 countplot 으로 시각화를 해보자!\n",
    "sns.countplot(data=data, x=data['거주지사이즈'], color='skyblue')\n"
   ]
  },
  {
   "cell_type": "markdown",
   "id": "44892e39-c067-4f29-b54b-ece384e7823f",
   "metadata": {
    "id": "44892e39-c067-4f29-b54b-ece384e7823f"
   },
   "source": [
    "### 6) 자동차"
   ]
  },
  {
   "cell_type": "code",
   "execution_count": 82,
   "id": "efca4168-5c00-4c80-bea2-8641e1167351",
   "metadata": {
    "colab": {
     "base_uri": "https://localhost:8080/",
     "height": 272
    },
    "executionInfo": {
     "elapsed": 4,
     "status": "ok",
     "timestamp": 1744598781739,
     "user": {
      "displayName": "花咲静流（나키）",
      "userId": "14501948246392099515"
     },
     "user_tz": -540
    },
    "id": "efca4168-5c00-4c80-bea2-8641e1167351",
    "outputId": "b3a3ea02-ca6e-4a0e-a44c-2e7dabbefaf7"
   },
   "outputs": [
    {
     "data": {
      "text/plain": [
       "자동차\n",
       "일반세단    0.506167\n",
       "컴팩트카    0.207000\n",
       "SUV     0.194667\n",
       "스포츠카    0.054333\n",
       "고급차     0.037833\n",
       "Name: proportion, dtype: float64"
      ]
     },
     "execution_count": 82,
     "metadata": {},
     "output_type": "execute_result"
    }
   ],
   "source": [
    "#[문제 19]'자동차'변수에 대해 범주별 비율을 탐색해보자.\n",
    "data['자동차'].value_counts(normalize=True)\n"
   ]
  },
  {
   "cell_type": "markdown",
   "id": "0c196ed8",
   "metadata": {
    "id": "0c196ed8"
   },
   "source": [
    "<b>**'자동차' 변수에 대해 간단하게 탐색한 내용을 아래 주석으로 적어보자!**"
   ]
  },
  {
   "cell_type": "code",
   "execution_count": 83,
   "id": "c414d1a6",
   "metadata": {
    "id": "c414d1a6"
   },
   "outputs": [],
   "source": [
    "# (주석으로 적기)\n",
    "# 50%의 사람들이 일반 세단을 타고 다니며,\n",
    "# 나머지는 약 20%씩 컴팩트카와 SUV를 타고다닌다.\n",
    "# 스포츠카와 고급차를 합쳐도 약 9%이다."
   ]
  },
  {
   "cell_type": "code",
   "execution_count": 84,
   "id": "22946eec",
   "metadata": {
    "colab": {
     "base_uri": "https://localhost:8080/",
     "height": 467
    },
    "executionInfo": {
     "elapsed": 164,
     "status": "ok",
     "timestamp": 1744598774594,
     "user": {
      "displayName": "花咲静流（나키）",
      "userId": "14501948246392099515"
     },
     "user_tz": -540
    },
    "id": "22946eec",
    "outputId": "9b43da64-0777-4ee6-bb23-a2c639604b35"
   },
   "outputs": [
    {
     "data": {
      "text/plain": [
       "<Axes: xlabel='자동차', ylabel='count'>"
      ]
     },
     "execution_count": 84,
     "metadata": {},
     "output_type": "execute_result"
    },
    {
     "data": {
      "image/png": "[encoded data removed]",
      "text/plain": [
       "<Figure size 640x480 with 1 Axes>"
      ]
     },
     "metadata": {},
     "output_type": "display_data"
    }
   ],
   "source": [
    "#[문제 20]'자동차'에 대해 countplot 으로 시각화를 해보자!\n",
    "sns.countplot(data=data, x=data['자동차'], color='skyblue')\n"
   ]
  },
  {
   "cell_type": "markdown",
   "id": "84b47481-7956-47a9-ad48-2d94f5802d48",
   "metadata": {
    "id": "84b47481-7956-47a9-ad48-2d94f5802d48"
   },
   "source": [
    "## **(2) 도메인 주요 항목 컬럼 탐색하기**\n",
    "* 도메인 주요 항목 : Willingness to pay/Stay,소득,월 납입액,타상품 보유 현황,총지불금액(총 5개 항목)\n",
    "* 위 도메인 주요 항목 컬럼을 histplot 을 통해서 탐색해 보자"
   ]
  },
  {
   "cell_type": "code",
   "execution_count": 85,
   "id": "a35470ac",
   "metadata": {
    "colab": {
     "base_uri": "https://localhost:8080/"
    },
    "executionInfo": {
     "elapsed": 46,
     "status": "ok",
     "timestamp": 1744599738702,
     "user": {
      "displayName": "花咲静流（나키）",
      "userId": "14501948246392099515"
     },
     "user_tz": -540
    },
    "id": "a35470ac",
    "outputId": "16e94406-3057-40ea-8517-d0f65d94f0bd"
   },
   "outputs": [
    {
     "name": "stdout",
     "output_type": "stream",
     "text": [
      "<class 'pandas.core.frame.DataFrame'>\n",
      "RangeIndex: 12000 entries, 0 to 11999\n",
      "Data columns (total 5 columns):\n",
      " #   Column                   Non-Null Count  Dtype  \n",
      "---  ------                   --------------  -----  \n",
      " 0   Willingness to pay/Stay  12000 non-null  float64\n",
      " 1   소득                       12000 non-null  int64  \n",
      " 2   월 납입액                    12000 non-null  int64  \n",
      " 3   타 상품 보유 현황               12000 non-null  object \n",
      " 4   총지불금액                    12000 non-null  int64  \n",
      "dtypes: float64(1), int64(3), object(1)\n",
      "memory usage: 468.9+ KB\n"
     ]
    }
   ],
   "source": [
    "#[문제 21] 도메인 내 주요 항목 컬럼들이 수치형인지 문자형인지 알아보자! (info 활용)\n",
    "data[['Willingness to pay/Stay','소득','월 납입액','타 상품 보유 현황','총지불금액']].info()\n"
   ]
  },
  {
   "cell_type": "markdown",
   "id": "021a301f-831c-4f17-8cbc-610062457a15",
   "metadata": {
    "id": "021a301f-831c-4f17-8cbc-610062457a15"
   },
   "source": [
    "### 1) WTP(Willingness to pay/Stay)\n",
    "* 연속형/수치형 컬럼이기 때문에 histplot으로 데이터 확인해보기\n"
   ]
  },
  {
   "cell_type": "code",
   "execution_count": 86,
   "id": "ded3f2a9-6261-434e-af18-cc19d6681da2",
   "metadata": {
    "colab": {
     "base_uri": "https://localhost:8080/",
     "height": 696
    },
    "executionInfo": {
     "elapsed": 378,
     "status": "ok",
     "timestamp": 1744599746777,
     "user": {
      "displayName": "花咲静流（나키）",
      "userId": "14501948246392099515"
     },
     "user_tz": -540
    },
    "id": "ded3f2a9-6261-434e-af18-cc19d6681da2",
    "outputId": "0efec13f-8519-4ada-d9c1-a468d256fabc"
   },
   "outputs": [
    {
     "data": {
      "image/png": "[encoded data removed]",
      "text/plain": [
       "<Figure size 1200x800 with 1 Axes>"
      ]
     },
     "metadata": {},
     "output_type": "display_data"
    }
   ],
   "source": [
    "#[같이 하기] 히스토그램으로 'Willingness to pay/Stay(WTP)'에 대한 그래프를 그려보자.\n",
    "\n",
    "# 1. figsize(12,8) 셋팅하기\n",
    "\n",
    "plt.figure(figsize=(12,8))\n",
    "\n",
    "# 2. histplot 그리기\n",
    "# bins = 30, kde = True로 설정해서 그래프를 그려보자.\n",
    "\n",
    "sns.histplot(data['Willingness to pay/Stay'],bins=30,kde=True)\n",
    "plt.grid()\n",
    "plt.show()"
   ]
  },
  {
   "cell_type": "markdown",
   "id": "64717be9",
   "metadata": {
    "id": "64717be9"
   },
   "source": [
    "- bins는 막대개수 조정/ kde 는 커널밀도 추정(분포 곡선)"
   ]
  },
  {
   "cell_type": "code",
   "execution_count": 87,
   "id": "f2136513",
   "metadata": {
    "colab": {
     "base_uri": "https://localhost:8080/",
     "height": 300
    },
    "executionInfo": {
     "elapsed": 62,
     "status": "ok",
     "timestamp": 1744599750144,
     "user": {
      "displayName": "花咲静流（나키）",
      "userId": "14501948246392099515"
     },
     "user_tz": -540
    },
    "id": "f2136513",
    "outputId": "2591aa17-aed4-48ad-b016-fe009371ab5d"
   },
   "outputs": [
    {
     "data": {
      "text/html": [
       "<div>\n",
       "<style scoped>\n",
       "    .dataframe tbody tr th:only-of-type {\n",
       "        vertical-align: middle;\n",
       "    }\n",
       "\n",
       "    .dataframe tbody tr th {\n",
       "        vertical-align: top;\n",
       "    }\n",
       "\n",
       "    .dataframe thead th {\n",
       "        text-align: right;\n",
       "    }\n",
       "</style>\n",
       "<table border=\"1\" class=\"dataframe\">\n",
       "  <thead>\n",
       "    <tr style=\"text-align: right;\">\n",
       "      <th></th>\n",
       "      <th>CID</th>\n",
       "      <th>AGE</th>\n",
       "      <th>성별</th>\n",
       "      <th>Willingness to pay/Stay</th>\n",
       "      <th>갱신</th>\n",
       "      <th>소득</th>\n",
       "      <th>월 납입액</th>\n",
       "      <th>VOC</th>\n",
       "      <th>총지불금액</th>\n",
       "    </tr>\n",
       "  </thead>\n",
       "  <tbody>\n",
       "    <tr>\n",
       "      <th>count</th>\n",
       "      <td>12000.00000</td>\n",
       "      <td>12000.000000</td>\n",
       "      <td>12000.000000</td>\n",
       "      <td>12000.000000</td>\n",
       "      <td>12000.000000</td>\n",
       "      <td>1.200000e+04</td>\n",
       "      <td>12000.000000</td>\n",
       "      <td>12000.000000</td>\n",
       "      <td>1.200000e+04</td>\n",
       "    </tr>\n",
       "    <tr>\n",
       "      <th>mean</th>\n",
       "      <td>6000.50000</td>\n",
       "      <td>3.079000</td>\n",
       "      <td>0.487583</td>\n",
       "      <td>8.859478</td>\n",
       "      <td>0.143000</td>\n",
       "      <td>4.641737e+07</td>\n",
       "      <td>100.065833</td>\n",
       "      <td>0.390167</td>\n",
       "      <td>5.355854e+05</td>\n",
       "    </tr>\n",
       "    <tr>\n",
       "      <th>std</th>\n",
       "      <td>3464.24595</td>\n",
       "      <td>1.121768</td>\n",
       "      <td>0.499867</td>\n",
       "      <td>7.698885</td>\n",
       "      <td>0.350087</td>\n",
       "      <td>3.736221e+07</td>\n",
       "      <td>42.453750</td>\n",
       "      <td>0.919605</td>\n",
       "      <td>3.587993e+05</td>\n",
       "    </tr>\n",
       "    <tr>\n",
       "      <th>min</th>\n",
       "      <td>1.00000</td>\n",
       "      <td>1.000000</td>\n",
       "      <td>0.000000</td>\n",
       "      <td>2.045730</td>\n",
       "      <td>0.000000</td>\n",
       "      <td>0.000000e+00</td>\n",
       "      <td>60.000000</td>\n",
       "      <td>0.000000</td>\n",
       "      <td>0.000000e+00</td>\n",
       "    </tr>\n",
       "    <tr>\n",
       "      <th>25%</th>\n",
       "      <td>3000.75000</td>\n",
       "      <td>3.000000</td>\n",
       "      <td>0.000000</td>\n",
       "      <td>4.373400</td>\n",
       "      <td>0.000000</td>\n",
       "      <td>0.000000e+00</td>\n",
       "      <td>70.000000</td>\n",
       "      <td>0.000000</td>\n",
       "      <td>3.360000e+05</td>\n",
       "    </tr>\n",
       "    <tr>\n",
       "      <th>50%</th>\n",
       "      <td>6000.50000</td>\n",
       "      <td>3.000000</td>\n",
       "      <td>0.000000</td>\n",
       "      <td>6.384831</td>\n",
       "      <td>0.000000</td>\n",
       "      <td>4.186240e+07</td>\n",
       "      <td>90.000000</td>\n",
       "      <td>0.000000</td>\n",
       "      <td>4.740000e+05</td>\n",
       "    </tr>\n",
       "    <tr>\n",
       "      <th>75%</th>\n",
       "      <td>9000.25000</td>\n",
       "      <td>4.000000</td>\n",
       "      <td>1.000000</td>\n",
       "      <td>9.867900</td>\n",
       "      <td>0.000000</td>\n",
       "      <td>7.664150e+07</td>\n",
       "      <td>120.000000</td>\n",
       "      <td>0.000000</td>\n",
       "      <td>6.790000e+05</td>\n",
       "    </tr>\n",
       "    <tr>\n",
       "      <th>max</th>\n",
       "      <td>12000.00000</td>\n",
       "      <td>6.000000</td>\n",
       "      <td>1.000000</td>\n",
       "      <td>92.496300</td>\n",
       "      <td>1.000000</td>\n",
       "      <td>1.320209e+08</td>\n",
       "      <td>350.000000</td>\n",
       "      <td>5.000000</td>\n",
       "      <td>3.573000e+06</td>\n",
       "    </tr>\n",
       "  </tbody>\n",
       "</table>\n",
       "</div>"
      ],
      "text/plain": [
       "               CID           AGE            성별  Willingness to pay/Stay  \\\n",
       "count  12000.00000  12000.000000  12000.000000             12000.000000   \n",
       "mean    6000.50000      3.079000      0.487583                 8.859478   \n",
       "std     3464.24595      1.121768      0.499867                 7.698885   \n",
       "min        1.00000      1.000000      0.000000                 2.045730   \n",
       "25%     3000.75000      3.000000      0.000000                 4.373400   \n",
       "50%     6000.50000      3.000000      0.000000                 6.384831   \n",
       "75%     9000.25000      4.000000      1.000000                 9.867900   \n",
       "max    12000.00000      6.000000      1.000000                92.496300   \n",
       "\n",
       "                 갱신            소득         월 납입액           VOC         총지불금액  \n",
       "count  12000.000000  1.200000e+04  12000.000000  12000.000000  1.200000e+04  \n",
       "mean       0.143000  4.641737e+07    100.065833      0.390167  5.355854e+05  \n",
       "std        0.350087  3.736221e+07     42.453750      0.919605  3.587993e+05  \n",
       "min        0.000000  0.000000e+00     60.000000      0.000000  0.000000e+00  \n",
       "25%        0.000000  0.000000e+00     70.000000      0.000000  3.360000e+05  \n",
       "50%        0.000000  4.186240e+07     90.000000      0.000000  4.740000e+05  \n",
       "75%        0.000000  7.664150e+07    120.000000      0.000000  6.790000e+05  \n",
       "max        1.000000  1.320209e+08    350.000000      5.000000  3.573000e+06  "
      ]
     },
     "execution_count": 87,
     "metadata": {},
     "output_type": "execute_result"
    }
   ],
   "source": [
    "#[같이 하기] WTP의 평균값을 확인해보자(describe 사용)\n",
    "\n",
    "data.describe()"
   ]
  },
  {
   "cell_type": "markdown",
   "id": "4fc314b8",
   "metadata": {
    "id": "4fc314b8"
   },
   "source": [
    "<b>**'Willingness to pay/Stay(WTP)' 변수에 대해 간단하게 탐색한 내용을 아래 주석으로 적어보자!**"
   ]
  },
  {
   "cell_type": "code",
   "execution_count": 88,
   "id": "a9208c54",
   "metadata": {
    "id": "a9208c54"
   },
   "outputs": [],
   "source": [
    "# 대부분의 고객의 경우 보험유지기대지표(WTP)의 값이 낮게 나옴(0~10정도 사이가 대부분)\n",
    "# 평균값을 확인해보니 8 정도로 낮은 것으로 알 수 있음."
   ]
  },
  {
   "cell_type": "markdown",
   "id": "af36aff6-87a9-476c-b604-d96063afc8c0",
   "metadata": {
    "id": "af36aff6-87a9-476c-b604-d96063afc8c0"
   },
   "source": [
    "### 2) 소득\n",
    "* 연속형/수치형 컬럼이기 때문에 histplot으로 데이터 확인해보기"
   ]
  },
  {
   "cell_type": "code",
   "execution_count": 89,
   "id": "4cd24cdb-cf0b-42d3-9017-e8215c595335",
   "metadata": {
    "colab": {
     "base_uri": "https://localhost:8080/",
     "height": 449
    },
    "executionInfo": {
     "elapsed": 369,
     "status": "ok",
     "timestamp": 1744599809306,
     "user": {
      "displayName": "花咲静流（나키）",
      "userId": "14501948246392099515"
     },
     "user_tz": -540
    },
    "id": "4cd24cdb-cf0b-42d3-9017-e8215c595335",
    "outputId": "b7e9927a-5995-40cc-b2c5-8ac3b46a7c1a"
   },
   "outputs": [
    {
     "data": {
      "image/png": "[encoded data removed]",
      "text/plain": [
       "<Figure size 640x480 with 1 Axes>"
      ]
     },
     "metadata": {},
     "output_type": "display_data"
    }
   ],
   "source": [
    "#[문제 22] 히스토그램으로 '소득'에 대한 그래프를 그려보자.\n",
    "# bins = 30, kde = True로 설정해서 한번 보자\n",
    "sns.histplot(data['소득'],bins=30,kde=True)\n",
    "plt.grid()\n",
    "plt.show()\n"
   ]
  },
  {
   "cell_type": "markdown",
   "id": "6ddbcc65",
   "metadata": {
    "id": "6ddbcc65"
   },
   "source": [
    "<b>**'소득' 변수에 대해 간단하게 탐색한 내용을 아래 주석으로 적어보자!**"
   ]
  },
  {
   "cell_type": "code",
   "execution_count": 90,
   "id": "467e99a7",
   "metadata": {
    "id": "467e99a7"
   },
   "outputs": [],
   "source": [
    "# (주석으로 적기)\n",
    "# 0에 가까운 값에 소득이 몰려있고 나머지는 비교적 고르게 분포되어있음.\n",
    "# 고용 상태가 아닌 사람들의 소득이 0으로 되어있는 것이 아닌가 추정."
   ]
  },
  {
   "cell_type": "markdown",
   "id": "50c3edeb-5074-4324-81a7-4ced83c58ee4",
   "metadata": {
    "id": "50c3edeb-5074-4324-81a7-4ced83c58ee4"
   },
   "source": [
    "### 3) 월 납입액\n",
    "* 연속형/수치형 컬럼이기 때문에 histplot으로 데이터 확인해보기"
   ]
  },
  {
   "cell_type": "code",
   "execution_count": 91,
   "id": "09a7a450-cc88-4460-b737-de931f9434a4",
   "metadata": {
    "colab": {
     "base_uri": "https://localhost:8080/",
     "height": 449
    },
    "executionInfo": {
     "elapsed": 347,
     "status": "ok",
     "timestamp": 1744599883687,
     "user": {
      "displayName": "花咲静流（나키）",
      "userId": "14501948246392099515"
     },
     "user_tz": -540
    },
    "id": "09a7a450-cc88-4460-b737-de931f9434a4",
    "outputId": "a7652a43-1e3a-454f-c06d-474df266ef04"
   },
   "outputs": [
    {
     "data": {
      "image/png": "[encoded data removed]",
      "text/plain": [
       "<Figure size 640x480 with 1 Axes>"
      ]
     },
     "metadata": {},
     "output_type": "display_data"
    }
   ],
   "source": [
    "#[문제 23] 히스토그램으로 '월 납입액'에 대한 그래프를 그려보자.\n",
    "# bins = 30, kde = True로 설정해서 한번 보자\n",
    "\n",
    "sns.histplot(data['월 납입액'],bins=30,kde=True)\n",
    "plt.grid()\n",
    "plt.show()"
   ]
  },
  {
   "cell_type": "code",
   "execution_count": 92,
   "id": "b852ce89",
   "metadata": {
    "colab": {
     "base_uri": "https://localhost:8080/",
     "height": 300
    },
    "executionInfo": {
     "elapsed": 137,
     "status": "ok",
     "timestamp": 1744599996159,
     "user": {
      "displayName": "花咲静流（나키）",
      "userId": "14501948246392099515"
     },
     "user_tz": -540
    },
    "id": "b852ce89",
    "outputId": "d15a7833-a0c6-47b6-a477-48fa0e934a10"
   },
   "outputs": [
    {
     "data": {
      "text/html": [
       "<div>\n",
       "<style scoped>\n",
       "    .dataframe tbody tr th:only-of-type {\n",
       "        vertical-align: middle;\n",
       "    }\n",
       "\n",
       "    .dataframe tbody tr th {\n",
       "        vertical-align: top;\n",
       "    }\n",
       "\n",
       "    .dataframe thead th {\n",
       "        text-align: right;\n",
       "    }\n",
       "</style>\n",
       "<table border=\"1\" class=\"dataframe\">\n",
       "  <thead>\n",
       "    <tr style=\"text-align: right;\">\n",
       "      <th></th>\n",
       "      <th>CID</th>\n",
       "      <th>AGE</th>\n",
       "      <th>성별</th>\n",
       "      <th>Willingness to pay/Stay</th>\n",
       "      <th>갱신</th>\n",
       "      <th>소득</th>\n",
       "      <th>월 납입액</th>\n",
       "      <th>VOC</th>\n",
       "      <th>총지불금액</th>\n",
       "    </tr>\n",
       "  </thead>\n",
       "  <tbody>\n",
       "    <tr>\n",
       "      <th>count</th>\n",
       "      <td>12000.00000</td>\n",
       "      <td>12000.000000</td>\n",
       "      <td>12000.000000</td>\n",
       "      <td>12000.000000</td>\n",
       "      <td>12000.000000</td>\n",
       "      <td>1.200000e+04</td>\n",
       "      <td>12000.000000</td>\n",
       "      <td>12000.000000</td>\n",
       "      <td>1.200000e+04</td>\n",
       "    </tr>\n",
       "    <tr>\n",
       "      <th>mean</th>\n",
       "      <td>6000.50000</td>\n",
       "      <td>3.079000</td>\n",
       "      <td>0.487583</td>\n",
       "      <td>8.859478</td>\n",
       "      <td>0.143000</td>\n",
       "      <td>4.641737e+07</td>\n",
       "      <td>100.065833</td>\n",
       "      <td>0.390167</td>\n",
       "      <td>5.355854e+05</td>\n",
       "    </tr>\n",
       "    <tr>\n",
       "      <th>std</th>\n",
       "      <td>3464.24595</td>\n",
       "      <td>1.121768</td>\n",
       "      <td>0.499867</td>\n",
       "      <td>7.698885</td>\n",
       "      <td>0.350087</td>\n",
       "      <td>3.736221e+07</td>\n",
       "      <td>42.453750</td>\n",
       "      <td>0.919605</td>\n",
       "      <td>3.587993e+05</td>\n",
       "    </tr>\n",
       "    <tr>\n",
       "      <th>min</th>\n",
       "      <td>1.00000</td>\n",
       "      <td>1.000000</td>\n",
       "      <td>0.000000</td>\n",
       "      <td>2.045730</td>\n",
       "      <td>0.000000</td>\n",
       "      <td>0.000000e+00</td>\n",
       "      <td>60.000000</td>\n",
       "      <td>0.000000</td>\n",
       "      <td>0.000000e+00</td>\n",
       "    </tr>\n",
       "    <tr>\n",
       "      <th>25%</th>\n",
       "      <td>3000.75000</td>\n",
       "      <td>3.000000</td>\n",
       "      <td>0.000000</td>\n",
       "      <td>4.373400</td>\n",
       "      <td>0.000000</td>\n",
       "      <td>0.000000e+00</td>\n",
       "      <td>70.000000</td>\n",
       "      <td>0.000000</td>\n",
       "      <td>3.360000e+05</td>\n",
       "    </tr>\n",
       "    <tr>\n",
       "      <th>50%</th>\n",
       "      <td>6000.50000</td>\n",
       "      <td>3.000000</td>\n",
       "      <td>0.000000</td>\n",
       "      <td>6.384831</td>\n",
       "      <td>0.000000</td>\n",
       "      <td>4.186240e+07</td>\n",
       "      <td>90.000000</td>\n",
       "      <td>0.000000</td>\n",
       "      <td>4.740000e+05</td>\n",
       "    </tr>\n",
       "    <tr>\n",
       "      <th>75%</th>\n",
       "      <td>9000.25000</td>\n",
       "      <td>4.000000</td>\n",
       "      <td>1.000000</td>\n",
       "      <td>9.867900</td>\n",
       "      <td>0.000000</td>\n",
       "      <td>7.664150e+07</td>\n",
       "      <td>120.000000</td>\n",
       "      <td>0.000000</td>\n",
       "      <td>6.790000e+05</td>\n",
       "    </tr>\n",
       "    <tr>\n",
       "      <th>max</th>\n",
       "      <td>12000.00000</td>\n",
       "      <td>6.000000</td>\n",
       "      <td>1.000000</td>\n",
       "      <td>92.496300</td>\n",
       "      <td>1.000000</td>\n",
       "      <td>1.320209e+08</td>\n",
       "      <td>350.000000</td>\n",
       "      <td>5.000000</td>\n",
       "      <td>3.573000e+06</td>\n",
       "    </tr>\n",
       "  </tbody>\n",
       "</table>\n",
       "</div>"
      ],
      "text/plain": [
       "               CID           AGE            성별  Willingness to pay/Stay  \\\n",
       "count  12000.00000  12000.000000  12000.000000             12000.000000   \n",
       "mean    6000.50000      3.079000      0.487583                 8.859478   \n",
       "std     3464.24595      1.121768      0.499867                 7.698885   \n",
       "min        1.00000      1.000000      0.000000                 2.045730   \n",
       "25%     3000.75000      3.000000      0.000000                 4.373400   \n",
       "50%     6000.50000      3.000000      0.000000                 6.384831   \n",
       "75%     9000.25000      4.000000      1.000000                 9.867900   \n",
       "max    12000.00000      6.000000      1.000000                92.496300   \n",
       "\n",
       "                 갱신            소득         월 납입액           VOC         총지불금액  \n",
       "count  12000.000000  1.200000e+04  12000.000000  12000.000000  1.200000e+04  \n",
       "mean       0.143000  4.641737e+07    100.065833      0.390167  5.355854e+05  \n",
       "std        0.350087  3.736221e+07     42.453750      0.919605  3.587993e+05  \n",
       "min        0.000000  0.000000e+00     60.000000      0.000000  0.000000e+00  \n",
       "25%        0.000000  0.000000e+00     70.000000      0.000000  3.360000e+05  \n",
       "50%        0.000000  4.186240e+07     90.000000      0.000000  4.740000e+05  \n",
       "75%        0.000000  7.664150e+07    120.000000      0.000000  6.790000e+05  \n",
       "max        1.000000  1.320209e+08    350.000000      5.000000  3.573000e+06  "
      ]
     },
     "execution_count": 92,
     "metadata": {},
     "output_type": "execute_result"
    }
   ],
   "source": [
    "#[문제 24] '월 납입액'의 평균값을 확인해보자(describe 사용)\n",
    "\n",
    "data.describe()"
   ]
  },
  {
   "cell_type": "markdown",
   "id": "875e5bc6",
   "metadata": {
    "id": "875e5bc6"
   },
   "source": [
    "<b>**'월 납입액' 변수에 대해 간단하게 탐색한 내용을 아래 주석으로 적어보자!**"
   ]
  },
  {
   "cell_type": "code",
   "execution_count": 93,
   "id": "ffca9f0f",
   "metadata": {
    "id": "ffca9f0f"
   },
   "outputs": [],
   "source": [
    "# (주석으로 적기)\n",
    "# 대부분 60-150 사이에 집중되어있음.\n",
    "# 평균은 100정도임."
   ]
  },
  {
   "cell_type": "markdown",
   "id": "47a0876b-7557-468c-ad15-5f96a1b31243",
   "metadata": {
    "id": "47a0876b-7557-468c-ad15-5f96a1b31243"
   },
   "source": [
    "### 4) 타상품 보유\n",
    "* 문자형/범주형 컬럼이기 때문에 범주 비율로 확인해보기"
   ]
  },
  {
   "cell_type": "code",
   "execution_count": 94,
   "id": "5aa85657-3c6b-47be-96e9-38302644ce29",
   "metadata": {
    "colab": {
     "base_uri": "https://localhost:8080/",
     "height": 241
    },
    "executionInfo": {
     "elapsed": 9,
     "status": "ok",
     "timestamp": 1744600127200,
     "user": {
      "displayName": "花咲静流（나키）",
      "userId": "14501948246392099515"
     },
     "user_tz": -540
    },
    "id": "5aa85657-3c6b-47be-96e9-38302644ce29",
    "outputId": "15c543d5-84eb-43ea-fd89-7e941920f25d"
   },
   "outputs": [
    {
     "data": {
      "text/plain": [
       "타 상품 보유 현황\n",
       "1      0.356917\n",
       "4이상    0.262917\n",
       "2      0.251417\n",
       "3      0.128750\n",
       "Name: proportion, dtype: float64"
      ]
     },
     "execution_count": 94,
     "metadata": {},
     "output_type": "execute_result"
    }
   ],
   "source": [
    "#[문제 25] '타상품 보유' 변수에 대해 범주별 비율을 확인하자.\n",
    "data['타 상품 보유 현황'].value_counts(normalize=True)\n"
   ]
  },
  {
   "cell_type": "markdown",
   "id": "833b1a08",
   "metadata": {
    "id": "833b1a08"
   },
   "source": [
    "<b>**'타상품 보유' 변수에 대해 간단하게 탐색한 내용을 아래 주석으로 적어보자!**"
   ]
  },
  {
   "cell_type": "code",
   "execution_count": 95,
   "id": "1a2282fa",
   "metadata": {
    "executionInfo": {
     "elapsed": 41,
     "status": "ok",
     "timestamp": 1744600197834,
     "user": {
      "displayName": "花咲静流（나키）",
      "userId": "14501948246392099515"
     },
     "user_tz": -540
    },
    "id": "1a2282fa"
   },
   "outputs": [],
   "source": [
    "# (주석으로 적기)\n",
    "# 1개 보유가 35%, 2개 보유가 25%, 3개 보유가 13%, 4개 이상이 26%\n"
   ]
  },
  {
   "cell_type": "markdown",
   "id": "651cfc5d-70a0-4066-b73e-61be50b18a4e",
   "metadata": {
    "id": "651cfc5d-70a0-4066-b73e-61be50b18a4e"
   },
   "source": [
    "### 5) 총지불금액\n",
    "* 연속형/수치형 컬럼이기 때문에 histplot으로 데이터 확인해보기"
   ]
  },
  {
   "cell_type": "code",
   "execution_count": 96,
   "id": "a69c6372-034a-4bab-82a0-9fb80de7ef3a",
   "metadata": {
    "colab": {
     "base_uri": "https://localhost:8080/",
     "height": 449
    },
    "executionInfo": {
     "elapsed": 383,
     "status": "ok",
     "timestamp": 1744600227765,
     "user": {
      "displayName": "花咲静流（나키）",
      "userId": "14501948246392099515"
     },
     "user_tz": -540
    },
    "id": "a69c6372-034a-4bab-82a0-9fb80de7ef3a",
    "outputId": "30234cac-6a8b-4433-d4ea-17e43aa5915c",
    "tags": []
   },
   "outputs": [
    {
     "data": {
      "image/png": "[encoded data removed]",
      "text/plain": [
       "<Figure size 640x480 with 1 Axes>"
      ]
     },
     "metadata": {},
     "output_type": "display_data"
    }
   ],
   "source": [
    "#[문제 26] 히스토그램으로 '총지불금액'에 대한 그래프를 그려보자.\n",
    "# bins = 30, kde = True로 설정해서 한번 보자\n",
    "sns.histplot(data['총지불금액'],bins=30,kde=True)\n",
    "plt.grid()\n",
    "plt.show()\n"
   ]
  },
  {
   "cell_type": "code",
   "execution_count": 97,
   "id": "81546e9a",
   "metadata": {
    "colab": {
     "base_uri": "https://localhost:8080/",
     "height": 335
    },
    "executionInfo": {
     "elapsed": 29,
     "status": "ok",
     "timestamp": 1744600242557,
     "user": {
      "displayName": "花咲静流（나키）",
      "userId": "14501948246392099515"
     },
     "user_tz": -540
    },
    "id": "81546e9a",
    "outputId": "fe269049-3ac4-4d4a-d8a2-516dcc118dc5"
   },
   "outputs": [
    {
     "data": {
      "text/plain": [
       "count    1.200000e+04\n",
       "mean     5.355854e+05\n",
       "std      3.587993e+05\n",
       "min      0.000000e+00\n",
       "25%      3.360000e+05\n",
       "50%      4.740000e+05\n",
       "75%      6.790000e+05\n",
       "max      3.573000e+06\n",
       "Name: 총지불금액, dtype: float64"
      ]
     },
     "execution_count": 97,
     "metadata": {},
     "output_type": "execute_result"
    }
   ],
   "source": [
    "#[문제 27] '총지불금액'의 평균값을 확인해보자(describe 사용)\n",
    "data['총지불금액'].describe()\n"
   ]
  },
  {
   "cell_type": "markdown",
   "id": "e0c6533c",
   "metadata": {
    "id": "e0c6533c"
   },
   "source": [
    "<b>**'총 지불 금액' 변수에 대해 간단하게 탐색한 내용을 아래 주석으로 적어보자!**"
   ]
  },
  {
   "cell_type": "code",
   "execution_count": 98,
   "id": "3080fd58",
   "metadata": {
    "executionInfo": {
     "elapsed": 43,
     "status": "ok",
     "timestamp": 1744600272569,
     "user": {
      "displayName": "花咲静流（나키）",
      "userId": "14501948246392099515"
     },
     "user_tz": -540
    },
    "id": "3080fd58"
   },
   "outputs": [],
   "source": [
    "# (주석으로 적기)\n",
    "# 총 지불 금액 푱균은 약 53만원"
   ]
  },
  {
   "cell_type": "markdown",
   "id": "0ebd3904-3440-4803-9f26-a0fd1c26585b",
   "metadata": {
    "id": "0ebd3904-3440-4803-9f26-a0fd1c26585b"
   },
   "source": [
    "# **4. Mission 1-변수 탐색 결론**\n",
    "\n",
    "* 수치형 컬럼 이외에도, 주요 변수 중 object 형태의 컬럼이 존재\n",
    "* 수치형 컬럼은 단위가 각각 다르므로 스케일링 고려 필요\n",
    "* 범주형 컬럼은 인코딩을 통해서 모델링을 위한 변환이 필요"
   ]
  },
  {
   "cell_type": "markdown",
   "id": "20862d40-9449-4c1f-8393-21f21ac370bd",
   "metadata": {
    "id": "20862d40-9449-4c1f-8393-21f21ac370bd"
   },
   "source": [
    "<font color=\"1E90FF\"><b>→ 데이터를 확인하고 탐색하여 전처리의 방향성 및 feature 값에 대한 이해 증대<b><br>\n",
    "    "
   ]
  },
  {
   "cell_type": "markdown",
   "id": "9c905b4f",
   "metadata": {
    "id": "9c905b4f"
   },
   "source": [
    "# <b>Mission 1 완료!\n",
    "수고하셨습니다!"
   ]
  }
 ],
 "metadata": {
  "colab": {
   "provenance": []
  },
  "kernelspec": {
   "display_name": "Python 3",
   "name": "python3"
  },
  "language_info": {
   "codemirror_mode": {
    "name": "ipython",
    "version": 3
   },
   "file_extension": ".py",
   "mimetype": "text/x-python",
   "name": "python",
   "nbconvert_exporter": "python",
   "pygments_lexer": "ipython3",
   "version": "3.12.9"
  }
 },
 "nbformat": 4,
 "nbformat_minor": 5
}
