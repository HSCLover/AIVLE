{
 "cells": [
  {
   "cell_type": "markdown",
   "metadata": {
    "id": "UmEVKGL0YPhR"
   },
   "source": [
    "# Telco Customer Churn 데이터셋 소개\n",
    "\n",
    "## 📌 데이터 개요\n",
    "\n",
    "Telco Customer Churn 데이터는 미국 통신사 고객들의 서비스 이용 내역과 이탈 여부(Churn)를 포함하고 있는 데이터셋입니다.  \n",
    "고객의 **계약 정보, 서비스 이용 현황, 요금 정보** 등을 기반으로 고객이 **이탈(Churn)할지를 예측**하는 데 사용됩니다.\n",
    "\n",
    "- 데이터 출처:\n",
    "- 총 샘플 수: 약 7,000건\n",
    "- 이진 분류 문제: 고객이 이탈했는지 (`Churn`)\n"
   ]
  },
  {
   "cell_type": "markdown",
   "metadata": {
    "id": "oUd-vD_1fdjf"
   },
   "source": [
    "데이터 셋의 다운로드 경로\n",
    "\n",
    "https://www.kaggle.com/datasets/blastchar/telco-customer-churn"
   ]
  },
  {
   "cell_type": "markdown",
   "metadata": {
    "id": "v5Q-xI-2YlkN"
   },
   "source": [
    "\n",
    "\n",
    "| 컬럼명             | 설명 |\n",
    "|--------------------|------|\n",
    "| `customerID`       | 고유 고객 ID |\n",
    "| `gender`           | 성별 (Male, Female) |\n",
    "| `SeniorCitizen`    | 고령자 여부 (1: 고령자, 0: 비고령자) |\n",
    "| `Partner`          | 배우자 유무 (Yes, No) |\n",
    "| `Dependents`       | 부양 가족 유무 (Yes, No) |\n",
    "| `tenure`           | 서비스 가입 기간 (개월 수) |\n",
    "| `PhoneService`     | 전화 서비스 이용 여부 |\n",
    "| `MultipleLines`    | 복수 회선 여부 |\n",
    "| `InternetService`  | 인터넷 서비스 종류 (DSL, Fiber optic, No) |\n",
    "| `OnlineSecurity`   | 온라인 보안 서비스 이용 여부 |\n",
    "| `OnlineBackup`     | 온라인 백업 서비스 이용 여부 |\n",
    "| `DeviceProtection` | 기기 보호 서비스 이용 여부 |\n",
    "| `TechSupport`      | 기술 지원 서비스 이용 여부 |\n",
    "| `StreamingTV`      | TV 스트리밍 서비스 이용 여부 |\n",
    "| `StreamingMovies`  | 영화 스트리밍 서비스 이용 여부 |\n",
    "| `Contract`         | 계약 형태 (Month-to-month, One year, Two year) |\n",
    "| `PaperlessBilling` | 전자 청구서 수신 여부 |\n",
    "| `PaymentMethod`    | 결제 방법 (전자이체, 신용카드 등) |\n",
    "| `MonthlyCharges`   | 월 요금 |\n",
    "| `TotalCharges`     | 총 청구 금액 |\n",
    "| `Churn`            | **이탈 여부 (Yes, No)** ← 예측 대상\n",
    "\n",
    "\n"
   ]
  },
  {
   "cell_type": "markdown",
   "metadata": {
    "id": "rMAswzuMYZrE"
   },
   "source": [
    "## 🎯 예측 목표\n",
    "\n",
    "> 고객의 서비스 이용 기록을 바탕으로, **해당 고객이 이탈할 가능성이 있는지(`Churn`)를 예측**합니다.\n",
    "\n",
    "- Yes → 이탈한 고객\n",
    "- No  → 유지 중인 고객"
   ]
  },
  {
   "cell_type": "markdown",
   "metadata": {
    "id": "y_CBTTfAYqj3"
   },
   "source": [
    "#딥러닝 학습 프로세스\n",
    "\n",
    "1. 필요한 라이브러리 가져오기\n",
    "2. 데이터 로딩\n",
    "3. 데이터 전처리\n",
    "4. Sequential API를 이용한 모델 구조 정의\n",
    "5. 모델 컴파일\n",
    "6. 모델 학습\n",
    "6. 모델 평가\n",
    "7. 예측 수행\n",
    "9. 시각화\n",
    "10. 모델의 성능 개선"
   ]
  },
  {
   "cell_type": "markdown",
   "metadata": {
    "id": "iIP9934FY2md"
   },
   "source": [
    "# 1. 라이브러리 가져오기"
   ]
  },
  {
   "cell_type": "markdown",
   "metadata": {
    "id": "u9qerJLPqxBi"
   },
   "source": [
    "- 데이터 파일 (csv)를 불러오기 위해  pandas\n",
    "- 데이터를 학습용과 테스트용으로 분리하기 위한 train_test_split 함수\n",
    "- 수치 데이터의 표준화를 위해 StandardScaler\n",
    "- 딥러닝 모델을 만들기 위한  Keras의 Sequential 과 Dense 클래스\n"
   ]
  },
  {
   "cell_type": "code",
   "execution_count": null,
   "metadata": {
    "id": "mCyk4TmYFY-V"
   },
   "outputs": [],
   "source": [
    "# 여기에 코드를 작성해보세요!"
   ]
  },
  {
   "cell_type": "code",
   "execution_count": null,
   "metadata": {
    "id": "At5XDVnRY3hp"
   },
   "outputs": [],
   "source": [
    "import pandas as pd\n",
    "from sklearn.model_selection import train_test_split\n",
    "from sklearn.preprocessing import StandardScaler\n",
    "from tensorflow.keras.models import Sequential\n",
    "from tensorflow.keras.layers import Dense"
   ]
  },
  {
   "cell_type": "markdown",
   "metadata": {
    "id": "oL7uiAP6ZBS8"
   },
   "source": [
    "# 2. 데이터 로딩\n",
    "\n",
    "다운로드한 데이터 파일 `WA_Fn-UseC_-Telco-Customer-Churn.csv` 을 런타임 파일로 업로드합니다.\n"
   ]
  },
  {
   "cell_type": "code",
   "execution_count": null,
   "metadata": {
    "id": "CFPGR2kDFiDB"
   },
   "outputs": [],
   "source": [
    "# 여기에 코드를 작성해보세요!"
   ]
  },
  {
   "cell_type": "code",
   "execution_count": null,
   "metadata": {
    "colab": {
     "base_uri": "https://localhost:8080/",
     "height": 413
    },
    "id": "3bH6H4KEcXUU",
    "outputId": "21d624fa-fcd1-4b23-d97f-71766fe363f4"
   },
   "outputs": [
    {
     "data": {
      "application/vnd.google.colaboratory.intrinsic+json": {
       "type": "dataframe",
       "variable_name": "df"
      },
      "text/html": [
       "\n",
       "  <div id=\"df-02960aa9-74d2-47e9-b90b-dbc0c0f10897\" class=\"colab-df-container\">\n",
       "    <div>\n",
       "<style scoped>\n",
       "    .dataframe tbody tr th:only-of-type {\n",
       "        vertical-align: middle;\n",
       "    }\n",
       "\n",
       "    .dataframe tbody tr th {\n",
       "        vertical-align: top;\n",
       "    }\n",
       "\n",
       "    .dataframe thead th {\n",
       "        text-align: right;\n",
       "    }\n",
       "</style>\n",
       "<table border=\"1\" class=\"dataframe\">\n",
       "  <thead>\n",
       "    <tr style=\"text-align: right;\">\n",
       "      <th></th>\n",
       "      <th>customerID</th>\n",
       "      <th>gender</th>\n",
       "      <th>SeniorCitizen</th>\n",
       "      <th>Partner</th>\n",
       "      <th>Dependents</th>\n",
       "      <th>tenure</th>\n",
       "      <th>PhoneService</th>\n",
       "      <th>MultipleLines</th>\n",
       "      <th>InternetService</th>\n",
       "      <th>OnlineSecurity</th>\n",
       "      <th>...</th>\n",
       "      <th>DeviceProtection</th>\n",
       "      <th>TechSupport</th>\n",
       "      <th>StreamingTV</th>\n",
       "      <th>StreamingMovies</th>\n",
       "      <th>Contract</th>\n",
       "      <th>PaperlessBilling</th>\n",
       "      <th>PaymentMethod</th>\n",
       "      <th>MonthlyCharges</th>\n",
       "      <th>TotalCharges</th>\n",
       "      <th>Churn</th>\n",
       "    </tr>\n",
       "  </thead>\n",
       "  <tbody>\n",
       "    <tr>\n",
       "      <th>0</th>\n",
       "      <td>7590-VHVEG</td>\n",
       "      <td>Female</td>\n",
       "      <td>0</td>\n",
       "      <td>Yes</td>\n",
       "      <td>No</td>\n",
       "      <td>1</td>\n",
       "      <td>No</td>\n",
       "      <td>No phone service</td>\n",
       "      <td>DSL</td>\n",
       "      <td>No</td>\n",
       "      <td>...</td>\n",
       "      <td>No</td>\n",
       "      <td>No</td>\n",
       "      <td>No</td>\n",
       "      <td>No</td>\n",
       "      <td>Month-to-month</td>\n",
       "      <td>Yes</td>\n",
       "      <td>Electronic check</td>\n",
       "      <td>29.85</td>\n",
       "      <td>29.85</td>\n",
       "      <td>No</td>\n",
       "    </tr>\n",
       "    <tr>\n",
       "      <th>1</th>\n",
       "      <td>5575-GNVDE</td>\n",
       "      <td>Male</td>\n",
       "      <td>0</td>\n",
       "      <td>No</td>\n",
       "      <td>No</td>\n",
       "      <td>34</td>\n",
       "      <td>Yes</td>\n",
       "      <td>No</td>\n",
       "      <td>DSL</td>\n",
       "      <td>Yes</td>\n",
       "      <td>...</td>\n",
       "      <td>Yes</td>\n",
       "      <td>No</td>\n",
       "      <td>No</td>\n",
       "      <td>No</td>\n",
       "      <td>One year</td>\n",
       "      <td>No</td>\n",
       "      <td>Mailed check</td>\n",
       "      <td>56.95</td>\n",
       "      <td>1889.5</td>\n",
       "      <td>No</td>\n",
       "    </tr>\n",
       "    <tr>\n",
       "      <th>2</th>\n",
       "      <td>3668-QPYBK</td>\n",
       "      <td>Male</td>\n",
       "      <td>0</td>\n",
       "      <td>No</td>\n",
       "      <td>No</td>\n",
       "      <td>2</td>\n",
       "      <td>Yes</td>\n",
       "      <td>No</td>\n",
       "      <td>DSL</td>\n",
       "      <td>Yes</td>\n",
       "      <td>...</td>\n",
       "      <td>No</td>\n",
       "      <td>No</td>\n",
       "      <td>No</td>\n",
       "      <td>No</td>\n",
       "      <td>Month-to-month</td>\n",
       "      <td>Yes</td>\n",
       "      <td>Mailed check</td>\n",
       "      <td>53.85</td>\n",
       "      <td>108.15</td>\n",
       "      <td>Yes</td>\n",
       "    </tr>\n",
       "    <tr>\n",
       "      <th>3</th>\n",
       "      <td>7795-CFOCW</td>\n",
       "      <td>Male</td>\n",
       "      <td>0</td>\n",
       "      <td>No</td>\n",
       "      <td>No</td>\n",
       "      <td>45</td>\n",
       "      <td>No</td>\n",
       "      <td>No phone service</td>\n",
       "      <td>DSL</td>\n",
       "      <td>Yes</td>\n",
       "      <td>...</td>\n",
       "      <td>Yes</td>\n",
       "      <td>Yes</td>\n",
       "      <td>No</td>\n",
       "      <td>No</td>\n",
       "      <td>One year</td>\n",
       "      <td>No</td>\n",
       "      <td>Bank transfer (automatic)</td>\n",
       "      <td>42.30</td>\n",
       "      <td>1840.75</td>\n",
       "      <td>No</td>\n",
       "    </tr>\n",
       "    <tr>\n",
       "      <th>4</th>\n",
       "      <td>9237-HQITU</td>\n",
       "      <td>Female</td>\n",
       "      <td>0</td>\n",
       "      <td>No</td>\n",
       "      <td>No</td>\n",
       "      <td>2</td>\n",
       "      <td>Yes</td>\n",
       "      <td>No</td>\n",
       "      <td>Fiber optic</td>\n",
       "      <td>No</td>\n",
       "      <td>...</td>\n",
       "      <td>No</td>\n",
       "      <td>No</td>\n",
       "      <td>No</td>\n",
       "      <td>No</td>\n",
       "      <td>Month-to-month</td>\n",
       "      <td>Yes</td>\n",
       "      <td>Electronic check</td>\n",
       "      <td>70.70</td>\n",
       "      <td>151.65</td>\n",
       "      <td>Yes</td>\n",
       "    </tr>\n",
       "  </tbody>\n",
       "</table>\n",
       "<p>5 rows × 21 columns</p>\n",
       "</div>\n",
       "    <div class=\"colab-df-buttons\">\n",
       "\n",
       "  <div class=\"colab-df-container\">\n",
       "    <button class=\"colab-df-convert\" onclick=\"convertToInteractive('df-02960aa9-74d2-47e9-b90b-dbc0c0f10897')\"\n",
       "            title=\"Convert this dataframe to an interactive table.\"\n",
       "            style=\"display:none;\">\n",
       "\n",
       "  <svg xmlns=\"http://www.w3.org/2000/svg\" height=\"24px\" viewBox=\"0 -960 960 960\">\n",
       "    <path d=\"M120-120v-720h720v720H120Zm60-500h600v-160H180v160Zm220 220h160v-160H400v160Zm0 220h160v-160H400v160ZM180-400h160v-160H180v160Zm440 0h160v-160H620v160ZM180-180h160v-160H180v160Zm440 0h160v-160H620v160Z\"/>\n",
       "  </svg>\n",
       "    </button>\n",
       "\n",
       "  <style>\n",
       "    .colab-df-container {\n",
       "      display:flex;\n",
       "      gap: 12px;\n",
       "    }\n",
       "\n",
       "    .colab-df-convert {\n",
       "      background-color: #E8F0FE;\n",
       "      border: none;\n",
       "      border-radius: 50%;\n",
       "      cursor: pointer;\n",
       "      display: none;\n",
       "      fill: #1967D2;\n",
       "      height: 32px;\n",
       "      padding: 0 0 0 0;\n",
       "      width: 32px;\n",
       "    }\n",
       "\n",
       "    .colab-df-convert:hover {\n",
       "      background-color: #E2EBFA;\n",
       "      box-shadow: 0px 1px 2px rgba(60, 64, 67, 0.3), 0px 1px 3px 1px rgba(60, 64, 67, 0.15);\n",
       "      fill: #174EA6;\n",
       "    }\n",
       "\n",
       "    .colab-df-buttons div {\n",
       "      margin-bottom: 4px;\n",
       "    }\n",
       "\n",
       "    [theme=dark] .colab-df-convert {\n",
       "      background-color: #3B4455;\n",
       "      fill: #D2E3FC;\n",
       "    }\n",
       "\n",
       "    [theme=dark] .colab-df-convert:hover {\n",
       "      background-color: #434B5C;\n",
       "      box-shadow: 0px 1px 3px 1px rgba(0, 0, 0, 0.15);\n",
       "      filter: drop-shadow(0px 1px 2px rgba(0, 0, 0, 0.3));\n",
       "      fill: #FFFFFF;\n",
       "    }\n",
       "  </style>\n",
       "\n",
       "    <script>\n",
       "      const buttonEl =\n",
       "        document.querySelector('#df-02960aa9-74d2-47e9-b90b-dbc0c0f10897 button.colab-df-convert');\n",
       "      buttonEl.style.display =\n",
       "        google.colab.kernel.accessAllowed ? 'block' : 'none';\n",
       "\n",
       "      async function convertToInteractive(key) {\n",
       "        const element = document.querySelector('#df-02960aa9-74d2-47e9-b90b-dbc0c0f10897');\n",
       "        const dataTable =\n",
       "          await google.colab.kernel.invokeFunction('convertToInteractive',\n",
       "                                                    [key], {});\n",
       "        if (!dataTable) return;\n",
       "\n",
       "        const docLinkHtml = 'Like what you see? Visit the ' +\n",
       "          '<a target=\"_blank\" href=https://colab.research.google.com/notebooks/data_table.ipynb>data table notebook</a>'\n",
       "          + ' to learn more about interactive tables.';\n",
       "        element.innerHTML = '';\n",
       "        dataTable['output_type'] = 'display_data';\n",
       "        await google.colab.output.renderOutput(dataTable, element);\n",
       "        const docLink = document.createElement('div');\n",
       "        docLink.innerHTML = docLinkHtml;\n",
       "        element.appendChild(docLink);\n",
       "      }\n",
       "    </script>\n",
       "  </div>\n",
       "\n",
       "\n",
       "<div id=\"df-2d1bc217-3dfd-4065-9482-79e5073435a3\">\n",
       "  <button class=\"colab-df-quickchart\" onclick=\"quickchart('df-2d1bc217-3dfd-4065-9482-79e5073435a3')\"\n",
       "            title=\"Suggest charts\"\n",
       "            style=\"display:none;\">\n",
       "\n",
       "<svg xmlns=\"http://www.w3.org/2000/svg\" height=\"24px\"viewBox=\"0 0 24 24\"\n",
       "     width=\"24px\">\n",
       "    <g>\n",
       "        <path d=\"M19 3H5c-1.1 0-2 .9-2 2v14c0 1.1.9 2 2 2h14c1.1 0 2-.9 2-2V5c0-1.1-.9-2-2-2zM9 17H7v-7h2v7zm4 0h-2V7h2v10zm4 0h-2v-4h2v4z\"/>\n",
       "    </g>\n",
       "</svg>\n",
       "  </button>\n",
       "\n",
       "<style>\n",
       "  .colab-df-quickchart {\n",
       "      --bg-color: #E8F0FE;\n",
       "      --fill-color: #1967D2;\n",
       "      --hover-bg-color: #E2EBFA;\n",
       "      --hover-fill-color: #174EA6;\n",
       "      --disabled-fill-color: #AAA;\n",
       "      --disabled-bg-color: #DDD;\n",
       "  }\n",
       "\n",
       "  [theme=dark] .colab-df-quickchart {\n",
       "      --bg-color: #3B4455;\n",
       "      --fill-color: #D2E3FC;\n",
       "      --hover-bg-color: #434B5C;\n",
       "      --hover-fill-color: #FFFFFF;\n",
       "      --disabled-bg-color: #3B4455;\n",
       "      --disabled-fill-color: #666;\n",
       "  }\n",
       "\n",
       "  .colab-df-quickchart {\n",
       "    background-color: var(--bg-color);\n",
       "    border: none;\n",
       "    border-radius: 50%;\n",
       "    cursor: pointer;\n",
       "    display: none;\n",
       "    fill: var(--fill-color);\n",
       "    height: 32px;\n",
       "    padding: 0;\n",
       "    width: 32px;\n",
       "  }\n",
       "\n",
       "  .colab-df-quickchart:hover {\n",
       "    background-color: var(--hover-bg-color);\n",
       "    box-shadow: 0 1px 2px rgba(60, 64, 67, 0.3), 0 1px 3px 1px rgba(60, 64, 67, 0.15);\n",
       "    fill: var(--button-hover-fill-color);\n",
       "  }\n",
       "\n",
       "  .colab-df-quickchart-complete:disabled,\n",
       "  .colab-df-quickchart-complete:disabled:hover {\n",
       "    background-color: var(--disabled-bg-color);\n",
       "    fill: var(--disabled-fill-color);\n",
       "    box-shadow: none;\n",
       "  }\n",
       "\n",
       "  .colab-df-spinner {\n",
       "    border: 2px solid var(--fill-color);\n",
       "    border-color: transparent;\n",
       "    border-bottom-color: var(--fill-color);\n",
       "    animation:\n",
       "      spin 1s steps(1) infinite;\n",
       "  }\n",
       "\n",
       "  @keyframes spin {\n",
       "    0% {\n",
       "      border-color: transparent;\n",
       "      border-bottom-color: var(--fill-color);\n",
       "      border-left-color: var(--fill-color);\n",
       "    }\n",
       "    20% {\n",
       "      border-color: transparent;\n",
       "      border-left-color: var(--fill-color);\n",
       "      border-top-color: var(--fill-color);\n",
       "    }\n",
       "    30% {\n",
       "      border-color: transparent;\n",
       "      border-left-color: var(--fill-color);\n",
       "      border-top-color: var(--fill-color);\n",
       "      border-right-color: var(--fill-color);\n",
       "    }\n",
       "    40% {\n",
       "      border-color: transparent;\n",
       "      border-right-color: var(--fill-color);\n",
       "      border-top-color: var(--fill-color);\n",
       "    }\n",
       "    60% {\n",
       "      border-color: transparent;\n",
       "      border-right-color: var(--fill-color);\n",
       "    }\n",
       "    80% {\n",
       "      border-color: transparent;\n",
       "      border-right-color: var(--fill-color);\n",
       "      border-bottom-color: var(--fill-color);\n",
       "    }\n",
       "    90% {\n",
       "      border-color: transparent;\n",
       "      border-bottom-color: var(--fill-color);\n",
       "    }\n",
       "  }\n",
       "</style>\n",
       "\n",
       "  <script>\n",
       "    async function quickchart(key) {\n",
       "      const quickchartButtonEl =\n",
       "        document.querySelector('#' + key + ' button');\n",
       "      quickchartButtonEl.disabled = true;  // To prevent multiple clicks.\n",
       "      quickchartButtonEl.classList.add('colab-df-spinner');\n",
       "      try {\n",
       "        const charts = await google.colab.kernel.invokeFunction(\n",
       "            'suggestCharts', [key], {});\n",
       "      } catch (error) {\n",
       "        console.error('Error during call to suggestCharts:', error);\n",
       "      }\n",
       "      quickchartButtonEl.classList.remove('colab-df-spinner');\n",
       "      quickchartButtonEl.classList.add('colab-df-quickchart-complete');\n",
       "    }\n",
       "    (() => {\n",
       "      let quickchartButtonEl =\n",
       "        document.querySelector('#df-2d1bc217-3dfd-4065-9482-79e5073435a3 button');\n",
       "      quickchartButtonEl.style.display =\n",
       "        google.colab.kernel.accessAllowed ? 'block' : 'none';\n",
       "    })();\n",
       "  </script>\n",
       "</div>\n",
       "\n",
       "    </div>\n",
       "  </div>\n"
      ],
      "text/plain": [
       "   customerID  gender  SeniorCitizen Partner Dependents  tenure PhoneService  \\\n",
       "0  7590-VHVEG  Female              0     Yes         No       1           No   \n",
       "1  5575-GNVDE    Male              0      No         No      34          Yes   \n",
       "2  3668-QPYBK    Male              0      No         No       2          Yes   \n",
       "3  7795-CFOCW    Male              0      No         No      45           No   \n",
       "4  9237-HQITU  Female              0      No         No       2          Yes   \n",
       "\n",
       "      MultipleLines InternetService OnlineSecurity  ... DeviceProtection  \\\n",
       "0  No phone service             DSL             No  ...               No   \n",
       "1                No             DSL            Yes  ...              Yes   \n",
       "2                No             DSL            Yes  ...               No   \n",
       "3  No phone service             DSL            Yes  ...              Yes   \n",
       "4                No     Fiber optic             No  ...               No   \n",
       "\n",
       "  TechSupport StreamingTV StreamingMovies        Contract PaperlessBilling  \\\n",
       "0          No          No              No  Month-to-month              Yes   \n",
       "1          No          No              No        One year               No   \n",
       "2          No          No              No  Month-to-month              Yes   \n",
       "3         Yes          No              No        One year               No   \n",
       "4          No          No              No  Month-to-month              Yes   \n",
       "\n",
       "               PaymentMethod MonthlyCharges  TotalCharges Churn  \n",
       "0           Electronic check          29.85         29.85    No  \n",
       "1               Mailed check          56.95        1889.5    No  \n",
       "2               Mailed check          53.85        108.15   Yes  \n",
       "3  Bank transfer (automatic)          42.30       1840.75    No  \n",
       "4           Electronic check          70.70        151.65   Yes  \n",
       "\n",
       "[5 rows x 21 columns]"
      ]
     },
     "execution_count": 66,
     "metadata": {},
     "output_type": "execute_result"
    }
   ],
   "source": [
    "url = \"./WA_Fn-UseC_-Telco-Customer-Churn.csv\"\n",
    "df = pd.read_csv(url)\n",
    "df.head()"
   ]
  },
  {
   "cell_type": "markdown",
   "metadata": {
    "id": "SpMibIhTtP2O"
   },
   "source": [
    "## 데이터 탐색"
   ]
  },
  {
   "cell_type": "markdown",
   "metadata": {
    "id": "0EqzCXngt0OB"
   },
   "source": [
    "1) 데이터 구조를 살펴보세요.\n",
    "- 데이터가 몇 행 몇 열인지 확인합니다."
   ]
  },
  {
   "cell_type": "code",
   "execution_count": null,
   "metadata": {
    "id": "lywVLtYDdWOR"
   },
   "outputs": [],
   "source": [
    "# 여기에 코드를 작성해보세요!"
   ]
  },
  {
   "cell_type": "code",
   "execution_count": null,
   "metadata": {
    "colab": {
     "base_uri": "https://localhost:8080/"
    },
    "id": "u9h-EITgvoYJ",
    "outputId": "4c7f02ff-c485-40c5-87ef-252260513ea9"
   },
   "outputs": [
    {
     "data": {
      "text/plain": [
       "(7043, 21)"
      ]
     },
     "execution_count": 3,
     "metadata": {},
     "output_type": "execute_result"
    }
   ],
   "source": [
    "df.shape"
   ]
  },
  {
   "cell_type": "markdown",
   "metadata": {
    "id": "N6osnfUyt9G9"
   },
   "source": [
    "2) 데이터 요약 정보를 확인해보세요.\n",
    "- 각 열의 자료형, 결측치 유무, 메모리 사용량 등을 출력합니다."
   ]
  },
  {
   "cell_type": "code",
   "execution_count": null,
   "metadata": {
    "id": "l6sKPVg8dW7Z"
   },
   "outputs": [],
   "source": [
    "# 여기에 코드를 작성해보세요!"
   ]
  },
  {
   "cell_type": "code",
   "execution_count": null,
   "metadata": {
    "colab": {
     "base_uri": "https://localhost:8080/"
    },
    "id": "vfAVD6PQhphD",
    "outputId": "b0c262e9-46ae-44fa-eb2c-e42f9d25a7ed"
   },
   "outputs": [
    {
     "name": "stdout",
     "output_type": "stream",
     "text": [
      "<class 'pandas.core.frame.DataFrame'>\n",
      "RangeIndex: 7043 entries, 0 to 7042\n",
      "Data columns (total 21 columns):\n",
      " #   Column            Non-Null Count  Dtype  \n",
      "---  ------            --------------  -----  \n",
      " 0   customerID        7043 non-null   object \n",
      " 1   gender            7043 non-null   object \n",
      " 2   SeniorCitizen     7043 non-null   int64  \n",
      " 3   Partner           7043 non-null   object \n",
      " 4   Dependents        7043 non-null   object \n",
      " 5   tenure            7043 non-null   int64  \n",
      " 6   PhoneService      7043 non-null   object \n",
      " 7   MultipleLines     7043 non-null   object \n",
      " 8   InternetService   7043 non-null   object \n",
      " 9   OnlineSecurity    7043 non-null   object \n",
      " 10  OnlineBackup      7043 non-null   object \n",
      " 11  DeviceProtection  7043 non-null   object \n",
      " 12  TechSupport       7043 non-null   object \n",
      " 13  StreamingTV       7043 non-null   object \n",
      " 14  StreamingMovies   7043 non-null   object \n",
      " 15  Contract          7043 non-null   object \n",
      " 16  PaperlessBilling  7043 non-null   object \n",
      " 17  PaymentMethod     7043 non-null   object \n",
      " 18  MonthlyCharges    7043 non-null   float64\n",
      " 19  TotalCharges      7043 non-null   object \n",
      " 20  Churn             7043 non-null   object \n",
      "dtypes: float64(1), int64(2), object(18)\n",
      "memory usage: 1.1+ MB\n"
     ]
    }
   ],
   "source": [
    "df.info()"
   ]
  },
  {
   "cell_type": "markdown",
   "metadata": {
    "id": "M33OuCk4uOp_"
   },
   "source": [
    "3) 범주형 변수와 수치형 변수 구분합니다.\n",
    "- describe()는 기본적으로 수치형 변수에 대한 통계 요약을 보여줍니다."
   ]
  },
  {
   "cell_type": "code",
   "execution_count": null,
   "metadata": {
    "id": "Udsw1sH8dYB5"
   },
   "outputs": [],
   "source": [
    "# 여기에 코드를 작성해보세요!"
   ]
  },
  {
   "cell_type": "code",
   "execution_count": null,
   "metadata": {
    "colab": {
     "base_uri": "https://localhost:8080/",
     "height": 311
    },
    "id": "1vvhg7nMsa6B",
    "outputId": "9160452f-1172-4cec-c61e-1d04d54bbadf"
   },
   "outputs": [
    {
     "data": {
      "application/vnd.google.colaboratory.intrinsic+json": {
       "summary": "{\n  \"name\": \"df\",\n  \"rows\": 8,\n  \"fields\": [\n    {\n      \"column\": \"SeniorCitizen\",\n      \"properties\": {\n        \"dtype\": \"number\",\n        \"std\": 2489.9992387084,\n        \"min\": 0.0,\n        \"max\": 7043.0,\n        \"num_unique_values\": 5,\n        \"samples\": [\n          0.1621468124378816,\n          1.0,\n          0.36861160561002687\n        ],\n        \"semantic_type\": \"\",\n        \"description\": \"\"\n      }\n    },\n    {\n      \"column\": \"tenure\",\n      \"properties\": {\n        \"dtype\": \"number\",\n        \"std\": 2478.9752758409018,\n        \"min\": 0.0,\n        \"max\": 7043.0,\n        \"num_unique_values\": 8,\n        \"samples\": [\n          32.37114865824223,\n          29.0,\n          7043.0\n        ],\n        \"semantic_type\": \"\",\n        \"description\": \"\"\n      }\n    },\n    {\n      \"column\": \"MonthlyCharges\",\n      \"properties\": {\n        \"dtype\": \"number\",\n        \"std\": 2468.7047672837775,\n        \"min\": 18.25,\n        \"max\": 7043.0,\n        \"num_unique_values\": 8,\n        \"samples\": [\n          64.76169246059918,\n          70.35,\n          7043.0\n        ],\n        \"semantic_type\": \"\",\n        \"description\": \"\"\n      }\n    }\n  ]\n}",
       "type": "dataframe"
      },
      "text/html": [
       "\n",
       "  <div id=\"df-ad7c80f3-7a21-4760-991f-68041fcd7fe7\" class=\"colab-df-container\">\n",
       "    <div>\n",
       "<style scoped>\n",
       "    .dataframe tbody tr th:only-of-type {\n",
       "        vertical-align: middle;\n",
       "    }\n",
       "\n",
       "    .dataframe tbody tr th {\n",
       "        vertical-align: top;\n",
       "    }\n",
       "\n",
       "    .dataframe thead th {\n",
       "        text-align: right;\n",
       "    }\n",
       "</style>\n",
       "<table border=\"1\" class=\"dataframe\">\n",
       "  <thead>\n",
       "    <tr style=\"text-align: right;\">\n",
       "      <th></th>\n",
       "      <th>SeniorCitizen</th>\n",
       "      <th>tenure</th>\n",
       "      <th>MonthlyCharges</th>\n",
       "    </tr>\n",
       "  </thead>\n",
       "  <tbody>\n",
       "    <tr>\n",
       "      <th>count</th>\n",
       "      <td>7043.000000</td>\n",
       "      <td>7043.000000</td>\n",
       "      <td>7043.000000</td>\n",
       "    </tr>\n",
       "    <tr>\n",
       "      <th>mean</th>\n",
       "      <td>0.162147</td>\n",
       "      <td>32.371149</td>\n",
       "      <td>64.761692</td>\n",
       "    </tr>\n",
       "    <tr>\n",
       "      <th>std</th>\n",
       "      <td>0.368612</td>\n",
       "      <td>24.559481</td>\n",
       "      <td>30.090047</td>\n",
       "    </tr>\n",
       "    <tr>\n",
       "      <th>min</th>\n",
       "      <td>0.000000</td>\n",
       "      <td>0.000000</td>\n",
       "      <td>18.250000</td>\n",
       "    </tr>\n",
       "    <tr>\n",
       "      <th>25%</th>\n",
       "      <td>0.000000</td>\n",
       "      <td>9.000000</td>\n",
       "      <td>35.500000</td>\n",
       "    </tr>\n",
       "    <tr>\n",
       "      <th>50%</th>\n",
       "      <td>0.000000</td>\n",
       "      <td>29.000000</td>\n",
       "      <td>70.350000</td>\n",
       "    </tr>\n",
       "    <tr>\n",
       "      <th>75%</th>\n",
       "      <td>0.000000</td>\n",
       "      <td>55.000000</td>\n",
       "      <td>89.850000</td>\n",
       "    </tr>\n",
       "    <tr>\n",
       "      <th>max</th>\n",
       "      <td>1.000000</td>\n",
       "      <td>72.000000</td>\n",
       "      <td>118.750000</td>\n",
       "    </tr>\n",
       "  </tbody>\n",
       "</table>\n",
       "</div>\n",
       "    <div class=\"colab-df-buttons\">\n",
       "\n",
       "  <div class=\"colab-df-container\">\n",
       "    <button class=\"colab-df-convert\" onclick=\"convertToInteractive('df-ad7c80f3-7a21-4760-991f-68041fcd7fe7')\"\n",
       "            title=\"Convert this dataframe to an interactive table.\"\n",
       "            style=\"display:none;\">\n",
       "\n",
       "  <svg xmlns=\"http://www.w3.org/2000/svg\" height=\"24px\" viewBox=\"0 -960 960 960\">\n",
       "    <path d=\"M120-120v-720h720v720H120Zm60-500h600v-160H180v160Zm220 220h160v-160H400v160Zm0 220h160v-160H400v160ZM180-400h160v-160H180v160Zm440 0h160v-160H620v160ZM180-180h160v-160H180v160Zm440 0h160v-160H620v160Z\"/>\n",
       "  </svg>\n",
       "    </button>\n",
       "\n",
       "  <style>\n",
       "    .colab-df-container {\n",
       "      display:flex;\n",
       "      gap: 12px;\n",
       "    }\n",
       "\n",
       "    .colab-df-convert {\n",
       "      background-color: #E8F0FE;\n",
       "      border: none;\n",
       "      border-radius: 50%;\n",
       "      cursor: pointer;\n",
       "      display: none;\n",
       "      fill: #1967D2;\n",
       "      height: 32px;\n",
       "      padding: 0 0 0 0;\n",
       "      width: 32px;\n",
       "    }\n",
       "\n",
       "    .colab-df-convert:hover {\n",
       "      background-color: #E2EBFA;\n",
       "      box-shadow: 0px 1px 2px rgba(60, 64, 67, 0.3), 0px 1px 3px 1px rgba(60, 64, 67, 0.15);\n",
       "      fill: #174EA6;\n",
       "    }\n",
       "\n",
       "    .colab-df-buttons div {\n",
       "      margin-bottom: 4px;\n",
       "    }\n",
       "\n",
       "    [theme=dark] .colab-df-convert {\n",
       "      background-color: #3B4455;\n",
       "      fill: #D2E3FC;\n",
       "    }\n",
       "\n",
       "    [theme=dark] .colab-df-convert:hover {\n",
       "      background-color: #434B5C;\n",
       "      box-shadow: 0px 1px 3px 1px rgba(0, 0, 0, 0.15);\n",
       "      filter: drop-shadow(0px 1px 2px rgba(0, 0, 0, 0.3));\n",
       "      fill: #FFFFFF;\n",
       "    }\n",
       "  </style>\n",
       "\n",
       "    <script>\n",
       "      const buttonEl =\n",
       "        document.querySelector('#df-ad7c80f3-7a21-4760-991f-68041fcd7fe7 button.colab-df-convert');\n",
       "      buttonEl.style.display =\n",
       "        google.colab.kernel.accessAllowed ? 'block' : 'none';\n",
       "\n",
       "      async function convertToInteractive(key) {\n",
       "        const element = document.querySelector('#df-ad7c80f3-7a21-4760-991f-68041fcd7fe7');\n",
       "        const dataTable =\n",
       "          await google.colab.kernel.invokeFunction('convertToInteractive',\n",
       "                                                    [key], {});\n",
       "        if (!dataTable) return;\n",
       "\n",
       "        const docLinkHtml = 'Like what you see? Visit the ' +\n",
       "          '<a target=\"_blank\" href=https://colab.research.google.com/notebooks/data_table.ipynb>data table notebook</a>'\n",
       "          + ' to learn more about interactive tables.';\n",
       "        element.innerHTML = '';\n",
       "        dataTable['output_type'] = 'display_data';\n",
       "        await google.colab.output.renderOutput(dataTable, element);\n",
       "        const docLink = document.createElement('div');\n",
       "        docLink.innerHTML = docLinkHtml;\n",
       "        element.appendChild(docLink);\n",
       "      }\n",
       "    </script>\n",
       "  </div>\n",
       "\n",
       "\n",
       "<div id=\"df-c03c7eb2-16a0-4714-816c-5e6aea26af0f\">\n",
       "  <button class=\"colab-df-quickchart\" onclick=\"quickchart('df-c03c7eb2-16a0-4714-816c-5e6aea26af0f')\"\n",
       "            title=\"Suggest charts\"\n",
       "            style=\"display:none;\">\n",
       "\n",
       "<svg xmlns=\"http://www.w3.org/2000/svg\" height=\"24px\"viewBox=\"0 0 24 24\"\n",
       "     width=\"24px\">\n",
       "    <g>\n",
       "        <path d=\"M19 3H5c-1.1 0-2 .9-2 2v14c0 1.1.9 2 2 2h14c1.1 0 2-.9 2-2V5c0-1.1-.9-2-2-2zM9 17H7v-7h2v7zm4 0h-2V7h2v10zm4 0h-2v-4h2v4z\"/>\n",
       "    </g>\n",
       "</svg>\n",
       "  </button>\n",
       "\n",
       "<style>\n",
       "  .colab-df-quickchart {\n",
       "      --bg-color: #E8F0FE;\n",
       "      --fill-color: #1967D2;\n",
       "      --hover-bg-color: #E2EBFA;\n",
       "      --hover-fill-color: #174EA6;\n",
       "      --disabled-fill-color: #AAA;\n",
       "      --disabled-bg-color: #DDD;\n",
       "  }\n",
       "\n",
       "  [theme=dark] .colab-df-quickchart {\n",
       "      --bg-color: #3B4455;\n",
       "      --fill-color: #D2E3FC;\n",
       "      --hover-bg-color: #434B5C;\n",
       "      --hover-fill-color: #FFFFFF;\n",
       "      --disabled-bg-color: #3B4455;\n",
       "      --disabled-fill-color: #666;\n",
       "  }\n",
       "\n",
       "  .colab-df-quickchart {\n",
       "    background-color: var(--bg-color);\n",
       "    border: none;\n",
       "    border-radius: 50%;\n",
       "    cursor: pointer;\n",
       "    display: none;\n",
       "    fill: var(--fill-color);\n",
       "    height: 32px;\n",
       "    padding: 0;\n",
       "    width: 32px;\n",
       "  }\n",
       "\n",
       "  .colab-df-quickchart:hover {\n",
       "    background-color: var(--hover-bg-color);\n",
       "    box-shadow: 0 1px 2px rgba(60, 64, 67, 0.3), 0 1px 3px 1px rgba(60, 64, 67, 0.15);\n",
       "    fill: var(--button-hover-fill-color);\n",
       "  }\n",
       "\n",
       "  .colab-df-quickchart-complete:disabled,\n",
       "  .colab-df-quickchart-complete:disabled:hover {\n",
       "    background-color: var(--disabled-bg-color);\n",
       "    fill: var(--disabled-fill-color);\n",
       "    box-shadow: none;\n",
       "  }\n",
       "\n",
       "  .colab-df-spinner {\n",
       "    border: 2px solid var(--fill-color);\n",
       "    border-color: transparent;\n",
       "    border-bottom-color: var(--fill-color);\n",
       "    animation:\n",
       "      spin 1s steps(1) infinite;\n",
       "  }\n",
       "\n",
       "  @keyframes spin {\n",
       "    0% {\n",
       "      border-color: transparent;\n",
       "      border-bottom-color: var(--fill-color);\n",
       "      border-left-color: var(--fill-color);\n",
       "    }\n",
       "    20% {\n",
       "      border-color: transparent;\n",
       "      border-left-color: var(--fill-color);\n",
       "      border-top-color: var(--fill-color);\n",
       "    }\n",
       "    30% {\n",
       "      border-color: transparent;\n",
       "      border-left-color: var(--fill-color);\n",
       "      border-top-color: var(--fill-color);\n",
       "      border-right-color: var(--fill-color);\n",
       "    }\n",
       "    40% {\n",
       "      border-color: transparent;\n",
       "      border-right-color: var(--fill-color);\n",
       "      border-top-color: var(--fill-color);\n",
       "    }\n",
       "    60% {\n",
       "      border-color: transparent;\n",
       "      border-right-color: var(--fill-color);\n",
       "    }\n",
       "    80% {\n",
       "      border-color: transparent;\n",
       "      border-right-color: var(--fill-color);\n",
       "      border-bottom-color: var(--fill-color);\n",
       "    }\n",
       "    90% {\n",
       "      border-color: transparent;\n",
       "      border-bottom-color: var(--fill-color);\n",
       "    }\n",
       "  }\n",
       "</style>\n",
       "\n",
       "  <script>\n",
       "    async function quickchart(key) {\n",
       "      const quickchartButtonEl =\n",
       "        document.querySelector('#' + key + ' button');\n",
       "      quickchartButtonEl.disabled = true;  // To prevent multiple clicks.\n",
       "      quickchartButtonEl.classList.add('colab-df-spinner');\n",
       "      try {\n",
       "        const charts = await google.colab.kernel.invokeFunction(\n",
       "            'suggestCharts', [key], {});\n",
       "      } catch (error) {\n",
       "        console.error('Error during call to suggestCharts:', error);\n",
       "      }\n",
       "      quickchartButtonEl.classList.remove('colab-df-spinner');\n",
       "      quickchartButtonEl.classList.add('colab-df-quickchart-complete');\n",
       "    }\n",
       "    (() => {\n",
       "      let quickchartButtonEl =\n",
       "        document.querySelector('#df-c03c7eb2-16a0-4714-816c-5e6aea26af0f button');\n",
       "      quickchartButtonEl.style.display =\n",
       "        google.colab.kernel.accessAllowed ? 'block' : 'none';\n",
       "    })();\n",
       "  </script>\n",
       "</div>\n",
       "\n",
       "    </div>\n",
       "  </div>\n"
      ],
      "text/plain": [
       "       SeniorCitizen       tenure  MonthlyCharges\n",
       "count    7043.000000  7043.000000     7043.000000\n",
       "mean        0.162147    32.371149       64.761692\n",
       "std         0.368612    24.559481       30.090047\n",
       "min         0.000000     0.000000       18.250000\n",
       "25%         0.000000     9.000000       35.500000\n",
       "50%         0.000000    29.000000       70.350000\n",
       "75%         0.000000    55.000000       89.850000\n",
       "max         1.000000    72.000000      118.750000"
      ]
     },
     "execution_count": 6,
     "metadata": {},
     "output_type": "execute_result"
    }
   ],
   "source": [
    "# 수치형 변수 요약 보기\n",
    "df.describe()"
   ]
  },
  {
   "cell_type": "code",
   "execution_count": null,
   "metadata": {
    "id": "eDcCzhrBdY5w"
   },
   "outputs": [],
   "source": [
    "# 여기에 코드를 작성해보세요!"
   ]
  },
  {
   "cell_type": "code",
   "execution_count": null,
   "metadata": {
    "colab": {
     "base_uri": "https://localhost:8080/",
     "height": 238
    },
    "id": "7a2HCEOTv_7l",
    "outputId": "9965938b-f922-4e9f-cb32-1101f383c352"
   },
   "outputs": [
    {
     "data": {
      "application/vnd.google.colaboratory.intrinsic+json": {
       "summary": "{\n  \"name\": \"df\",\n  \"rows\": 4,\n  \"fields\": [\n    {\n      \"column\": \"customerID\",\n      \"properties\": {\n        \"dtype\": \"string\",\n        \"num_unique_values\": 3,\n        \"samples\": [\n          \"7043\",\n          \"3186-AJIEK\",\n          \"1\"\n        ],\n        \"semantic_type\": \"\",\n        \"description\": \"\"\n      }\n    },\n    {\n      \"column\": \"gender\",\n      \"properties\": {\n        \"dtype\": \"string\",\n        \"num_unique_values\": 4,\n        \"samples\": [\n          2,\n          \"3555\",\n          \"7043\"\n        ],\n        \"semantic_type\": \"\",\n        \"description\": \"\"\n      }\n    },\n    {\n      \"column\": \"Partner\",\n      \"properties\": {\n        \"dtype\": \"string\",\n        \"num_unique_values\": 4,\n        \"samples\": [\n          2,\n          \"3641\",\n          \"7043\"\n        ],\n        \"semantic_type\": \"\",\n        \"description\": \"\"\n      }\n    },\n    {\n      \"column\": \"Dependents\",\n      \"properties\": {\n        \"dtype\": \"string\",\n        \"num_unique_values\": 4,\n        \"samples\": [\n          2,\n          \"4933\",\n          \"7043\"\n        ],\n        \"semantic_type\": \"\",\n        \"description\": \"\"\n      }\n    },\n    {\n      \"column\": \"PhoneService\",\n      \"properties\": {\n        \"dtype\": \"string\",\n        \"num_unique_values\": 4,\n        \"samples\": [\n          2,\n          \"6361\",\n          \"7043\"\n        ],\n        \"semantic_type\": \"\",\n        \"description\": \"\"\n      }\n    },\n    {\n      \"column\": \"MultipleLines\",\n      \"properties\": {\n        \"dtype\": \"string\",\n        \"num_unique_values\": 4,\n        \"samples\": [\n          3,\n          \"3390\",\n          \"7043\"\n        ],\n        \"semantic_type\": \"\",\n        \"description\": \"\"\n      }\n    },\n    {\n      \"column\": \"InternetService\",\n      \"properties\": {\n        \"dtype\": \"string\",\n        \"num_unique_values\": 4,\n        \"samples\": [\n          3,\n          \"3096\",\n          \"7043\"\n        ],\n        \"semantic_type\": \"\",\n        \"description\": \"\"\n      }\n    },\n    {\n      \"column\": \"OnlineSecurity\",\n      \"properties\": {\n        \"dtype\": \"string\",\n        \"num_unique_values\": 4,\n        \"samples\": [\n          3,\n          \"3498\",\n          \"7043\"\n        ],\n        \"semantic_type\": \"\",\n        \"description\": \"\"\n      }\n    },\n    {\n      \"column\": \"OnlineBackup\",\n      \"properties\": {\n        \"dtype\": \"string\",\n        \"num_unique_values\": 4,\n        \"samples\": [\n          3,\n          \"3088\",\n          \"7043\"\n        ],\n        \"semantic_type\": \"\",\n        \"description\": \"\"\n      }\n    },\n    {\n      \"column\": \"DeviceProtection\",\n      \"properties\": {\n        \"dtype\": \"string\",\n        \"num_unique_values\": 4,\n        \"samples\": [\n          3,\n          \"3095\",\n          \"7043\"\n        ],\n        \"semantic_type\": \"\",\n        \"description\": \"\"\n      }\n    },\n    {\n      \"column\": \"TechSupport\",\n      \"properties\": {\n        \"dtype\": \"string\",\n        \"num_unique_values\": 4,\n        \"samples\": [\n          3,\n          \"3473\",\n          \"7043\"\n        ],\n        \"semantic_type\": \"\",\n        \"description\": \"\"\n      }\n    },\n    {\n      \"column\": \"StreamingTV\",\n      \"properties\": {\n        \"dtype\": \"string\",\n        \"num_unique_values\": 4,\n        \"samples\": [\n          3,\n          \"2810\",\n          \"7043\"\n        ],\n        \"semantic_type\": \"\",\n        \"description\": \"\"\n      }\n    },\n    {\n      \"column\": \"StreamingMovies\",\n      \"properties\": {\n        \"dtype\": \"string\",\n        \"num_unique_values\": 4,\n        \"samples\": [\n          3,\n          \"2785\",\n          \"7043\"\n        ],\n        \"semantic_type\": \"\",\n        \"description\": \"\"\n      }\n    },\n    {\n      \"column\": \"Contract\",\n      \"properties\": {\n        \"dtype\": \"string\",\n        \"num_unique_values\": 4,\n        \"samples\": [\n          3,\n          \"3875\",\n          \"7043\"\n        ],\n        \"semantic_type\": \"\",\n        \"description\": \"\"\n      }\n    },\n    {\n      \"column\": \"PaperlessBilling\",\n      \"properties\": {\n        \"dtype\": \"string\",\n        \"num_unique_values\": 4,\n        \"samples\": [\n          2,\n          \"4171\",\n          \"7043\"\n        ],\n        \"semantic_type\": \"\",\n        \"description\": \"\"\n      }\n    },\n    {\n      \"column\": \"PaymentMethod\",\n      \"properties\": {\n        \"dtype\": \"string\",\n        \"num_unique_values\": 4,\n        \"samples\": [\n          4,\n          \"2365\",\n          \"7043\"\n        ],\n        \"semantic_type\": \"\",\n        \"description\": \"\"\n      }\n    },\n    {\n      \"column\": \"TotalCharges\",\n      \"properties\": {\n        \"dtype\": \"string\",\n        \"num_unique_values\": 4,\n        \"samples\": [\n          6531,\n          \"11\",\n          \"7043\"\n        ],\n        \"semantic_type\": \"\",\n        \"description\": \"\"\n      }\n    },\n    {\n      \"column\": \"Churn\",\n      \"properties\": {\n        \"dtype\": \"string\",\n        \"num_unique_values\": 4,\n        \"samples\": [\n          2,\n          \"5174\",\n          \"7043\"\n        ],\n        \"semantic_type\": \"\",\n        \"description\": \"\"\n      }\n    }\n  ]\n}",
       "type": "dataframe"
      },
      "text/html": [
       "\n",
       "  <div id=\"df-159537d7-fffc-4f30-b5f0-cfb6364d8b93\" class=\"colab-df-container\">\n",
       "    <div>\n",
       "<style scoped>\n",
       "    .dataframe tbody tr th:only-of-type {\n",
       "        vertical-align: middle;\n",
       "    }\n",
       "\n",
       "    .dataframe tbody tr th {\n",
       "        vertical-align: top;\n",
       "    }\n",
       "\n",
       "    .dataframe thead th {\n",
       "        text-align: right;\n",
       "    }\n",
       "</style>\n",
       "<table border=\"1\" class=\"dataframe\">\n",
       "  <thead>\n",
       "    <tr style=\"text-align: right;\">\n",
       "      <th></th>\n",
       "      <th>customerID</th>\n",
       "      <th>gender</th>\n",
       "      <th>Partner</th>\n",
       "      <th>Dependents</th>\n",
       "      <th>PhoneService</th>\n",
       "      <th>MultipleLines</th>\n",
       "      <th>InternetService</th>\n",
       "      <th>OnlineSecurity</th>\n",
       "      <th>OnlineBackup</th>\n",
       "      <th>DeviceProtection</th>\n",
       "      <th>TechSupport</th>\n",
       "      <th>StreamingTV</th>\n",
       "      <th>StreamingMovies</th>\n",
       "      <th>Contract</th>\n",
       "      <th>PaperlessBilling</th>\n",
       "      <th>PaymentMethod</th>\n",
       "      <th>TotalCharges</th>\n",
       "      <th>Churn</th>\n",
       "    </tr>\n",
       "  </thead>\n",
       "  <tbody>\n",
       "    <tr>\n",
       "      <th>count</th>\n",
       "      <td>7043</td>\n",
       "      <td>7043</td>\n",
       "      <td>7043</td>\n",
       "      <td>7043</td>\n",
       "      <td>7043</td>\n",
       "      <td>7043</td>\n",
       "      <td>7043</td>\n",
       "      <td>7043</td>\n",
       "      <td>7043</td>\n",
       "      <td>7043</td>\n",
       "      <td>7043</td>\n",
       "      <td>7043</td>\n",
       "      <td>7043</td>\n",
       "      <td>7043</td>\n",
       "      <td>7043</td>\n",
       "      <td>7043</td>\n",
       "      <td>7043</td>\n",
       "      <td>7043</td>\n",
       "    </tr>\n",
       "    <tr>\n",
       "      <th>unique</th>\n",
       "      <td>7043</td>\n",
       "      <td>2</td>\n",
       "      <td>2</td>\n",
       "      <td>2</td>\n",
       "      <td>2</td>\n",
       "      <td>3</td>\n",
       "      <td>3</td>\n",
       "      <td>3</td>\n",
       "      <td>3</td>\n",
       "      <td>3</td>\n",
       "      <td>3</td>\n",
       "      <td>3</td>\n",
       "      <td>3</td>\n",
       "      <td>3</td>\n",
       "      <td>2</td>\n",
       "      <td>4</td>\n",
       "      <td>6531</td>\n",
       "      <td>2</td>\n",
       "    </tr>\n",
       "    <tr>\n",
       "      <th>top</th>\n",
       "      <td>3186-AJIEK</td>\n",
       "      <td>Male</td>\n",
       "      <td>No</td>\n",
       "      <td>No</td>\n",
       "      <td>Yes</td>\n",
       "      <td>No</td>\n",
       "      <td>Fiber optic</td>\n",
       "      <td>No</td>\n",
       "      <td>No</td>\n",
       "      <td>No</td>\n",
       "      <td>No</td>\n",
       "      <td>No</td>\n",
       "      <td>No</td>\n",
       "      <td>Month-to-month</td>\n",
       "      <td>Yes</td>\n",
       "      <td>Electronic check</td>\n",
       "      <td></td>\n",
       "      <td>No</td>\n",
       "    </tr>\n",
       "    <tr>\n",
       "      <th>freq</th>\n",
       "      <td>1</td>\n",
       "      <td>3555</td>\n",
       "      <td>3641</td>\n",
       "      <td>4933</td>\n",
       "      <td>6361</td>\n",
       "      <td>3390</td>\n",
       "      <td>3096</td>\n",
       "      <td>3498</td>\n",
       "      <td>3088</td>\n",
       "      <td>3095</td>\n",
       "      <td>3473</td>\n",
       "      <td>2810</td>\n",
       "      <td>2785</td>\n",
       "      <td>3875</td>\n",
       "      <td>4171</td>\n",
       "      <td>2365</td>\n",
       "      <td>11</td>\n",
       "      <td>5174</td>\n",
       "    </tr>\n",
       "  </tbody>\n",
       "</table>\n",
       "</div>\n",
       "    <div class=\"colab-df-buttons\">\n",
       "\n",
       "  <div class=\"colab-df-container\">\n",
       "    <button class=\"colab-df-convert\" onclick=\"convertToInteractive('df-159537d7-fffc-4f30-b5f0-cfb6364d8b93')\"\n",
       "            title=\"Convert this dataframe to an interactive table.\"\n",
       "            style=\"display:none;\">\n",
       "\n",
       "  <svg xmlns=\"http://www.w3.org/2000/svg\" height=\"24px\" viewBox=\"0 -960 960 960\">\n",
       "    <path d=\"M120-120v-720h720v720H120Zm60-500h600v-160H180v160Zm220 220h160v-160H400v160Zm0 220h160v-160H400v160ZM180-400h160v-160H180v160Zm440 0h160v-160H620v160ZM180-180h160v-160H180v160Zm440 0h160v-160H620v160Z\"/>\n",
       "  </svg>\n",
       "    </button>\n",
       "\n",
       "  <style>\n",
       "    .colab-df-container {\n",
       "      display:flex;\n",
       "      gap: 12px;\n",
       "    }\n",
       "\n",
       "    .colab-df-convert {\n",
       "      background-color: #E8F0FE;\n",
       "      border: none;\n",
       "      border-radius: 50%;\n",
       "      cursor: pointer;\n",
       "      display: none;\n",
       "      fill: #1967D2;\n",
       "      height: 32px;\n",
       "      padding: 0 0 0 0;\n",
       "      width: 32px;\n",
       "    }\n",
       "\n",
       "    .colab-df-convert:hover {\n",
       "      background-color: #E2EBFA;\n",
       "      box-shadow: 0px 1px 2px rgba(60, 64, 67, 0.3), 0px 1px 3px 1px rgba(60, 64, 67, 0.15);\n",
       "      fill: #174EA6;\n",
       "    }\n",
       "\n",
       "    .colab-df-buttons div {\n",
       "      margin-bottom: 4px;\n",
       "    }\n",
       "\n",
       "    [theme=dark] .colab-df-convert {\n",
       "      background-color: #3B4455;\n",
       "      fill: #D2E3FC;\n",
       "    }\n",
       "\n",
       "    [theme=dark] .colab-df-convert:hover {\n",
       "      background-color: #434B5C;\n",
       "      box-shadow: 0px 1px 3px 1px rgba(0, 0, 0, 0.15);\n",
       "      filter: drop-shadow(0px 1px 2px rgba(0, 0, 0, 0.3));\n",
       "      fill: #FFFFFF;\n",
       "    }\n",
       "  </style>\n",
       "\n",
       "    <script>\n",
       "      const buttonEl =\n",
       "        document.querySelector('#df-159537d7-fffc-4f30-b5f0-cfb6364d8b93 button.colab-df-convert');\n",
       "      buttonEl.style.display =\n",
       "        google.colab.kernel.accessAllowed ? 'block' : 'none';\n",
       "\n",
       "      async function convertToInteractive(key) {\n",
       "        const element = document.querySelector('#df-159537d7-fffc-4f30-b5f0-cfb6364d8b93');\n",
       "        const dataTable =\n",
       "          await google.colab.kernel.invokeFunction('convertToInteractive',\n",
       "                                                    [key], {});\n",
       "        if (!dataTable) return;\n",
       "\n",
       "        const docLinkHtml = 'Like what you see? Visit the ' +\n",
       "          '<a target=\"_blank\" href=https://colab.research.google.com/notebooks/data_table.ipynb>data table notebook</a>'\n",
       "          + ' to learn more about interactive tables.';\n",
       "        element.innerHTML = '';\n",
       "        dataTable['output_type'] = 'display_data';\n",
       "        await google.colab.output.renderOutput(dataTable, element);\n",
       "        const docLink = document.createElement('div');\n",
       "        docLink.innerHTML = docLinkHtml;\n",
       "        element.appendChild(docLink);\n",
       "      }\n",
       "    </script>\n",
       "  </div>\n",
       "\n",
       "\n",
       "<div id=\"df-6d075723-ff8c-4e9b-b6dd-bcb5a694c9d7\">\n",
       "  <button class=\"colab-df-quickchart\" onclick=\"quickchart('df-6d075723-ff8c-4e9b-b6dd-bcb5a694c9d7')\"\n",
       "            title=\"Suggest charts\"\n",
       "            style=\"display:none;\">\n",
       "\n",
       "<svg xmlns=\"http://www.w3.org/2000/svg\" height=\"24px\"viewBox=\"0 0 24 24\"\n",
       "     width=\"24px\">\n",
       "    <g>\n",
       "        <path d=\"M19 3H5c-1.1 0-2 .9-2 2v14c0 1.1.9 2 2 2h14c1.1 0 2-.9 2-2V5c0-1.1-.9-2-2-2zM9 17H7v-7h2v7zm4 0h-2V7h2v10zm4 0h-2v-4h2v4z\"/>\n",
       "    </g>\n",
       "</svg>\n",
       "  </button>\n",
       "\n",
       "<style>\n",
       "  .colab-df-quickchart {\n",
       "      --bg-color: #E8F0FE;\n",
       "      --fill-color: #1967D2;\n",
       "      --hover-bg-color: #E2EBFA;\n",
       "      --hover-fill-color: #174EA6;\n",
       "      --disabled-fill-color: #AAA;\n",
       "      --disabled-bg-color: #DDD;\n",
       "  }\n",
       "\n",
       "  [theme=dark] .colab-df-quickchart {\n",
       "      --bg-color: #3B4455;\n",
       "      --fill-color: #D2E3FC;\n",
       "      --hover-bg-color: #434B5C;\n",
       "      --hover-fill-color: #FFFFFF;\n",
       "      --disabled-bg-color: #3B4455;\n",
       "      --disabled-fill-color: #666;\n",
       "  }\n",
       "\n",
       "  .colab-df-quickchart {\n",
       "    background-color: var(--bg-color);\n",
       "    border: none;\n",
       "    border-radius: 50%;\n",
       "    cursor: pointer;\n",
       "    display: none;\n",
       "    fill: var(--fill-color);\n",
       "    height: 32px;\n",
       "    padding: 0;\n",
       "    width: 32px;\n",
       "  }\n",
       "\n",
       "  .colab-df-quickchart:hover {\n",
       "    background-color: var(--hover-bg-color);\n",
       "    box-shadow: 0 1px 2px rgba(60, 64, 67, 0.3), 0 1px 3px 1px rgba(60, 64, 67, 0.15);\n",
       "    fill: var(--button-hover-fill-color);\n",
       "  }\n",
       "\n",
       "  .colab-df-quickchart-complete:disabled,\n",
       "  .colab-df-quickchart-complete:disabled:hover {\n",
       "    background-color: var(--disabled-bg-color);\n",
       "    fill: var(--disabled-fill-color);\n",
       "    box-shadow: none;\n",
       "  }\n",
       "\n",
       "  .colab-df-spinner {\n",
       "    border: 2px solid var(--fill-color);\n",
       "    border-color: transparent;\n",
       "    border-bottom-color: var(--fill-color);\n",
       "    animation:\n",
       "      spin 1s steps(1) infinite;\n",
       "  }\n",
       "\n",
       "  @keyframes spin {\n",
       "    0% {\n",
       "      border-color: transparent;\n",
       "      border-bottom-color: var(--fill-color);\n",
       "      border-left-color: var(--fill-color);\n",
       "    }\n",
       "    20% {\n",
       "      border-color: transparent;\n",
       "      border-left-color: var(--fill-color);\n",
       "      border-top-color: var(--fill-color);\n",
       "    }\n",
       "    30% {\n",
       "      border-color: transparent;\n",
       "      border-left-color: var(--fill-color);\n",
       "      border-top-color: var(--fill-color);\n",
       "      border-right-color: var(--fill-color);\n",
       "    }\n",
       "    40% {\n",
       "      border-color: transparent;\n",
       "      border-right-color: var(--fill-color);\n",
       "      border-top-color: var(--fill-color);\n",
       "    }\n",
       "    60% {\n",
       "      border-color: transparent;\n",
       "      border-right-color: var(--fill-color);\n",
       "    }\n",
       "    80% {\n",
       "      border-color: transparent;\n",
       "      border-right-color: var(--fill-color);\n",
       "      border-bottom-color: var(--fill-color);\n",
       "    }\n",
       "    90% {\n",
       "      border-color: transparent;\n",
       "      border-bottom-color: var(--fill-color);\n",
       "    }\n",
       "  }\n",
       "</style>\n",
       "\n",
       "  <script>\n",
       "    async function quickchart(key) {\n",
       "      const quickchartButtonEl =\n",
       "        document.querySelector('#' + key + ' button');\n",
       "      quickchartButtonEl.disabled = true;  // To prevent multiple clicks.\n",
       "      quickchartButtonEl.classList.add('colab-df-spinner');\n",
       "      try {\n",
       "        const charts = await google.colab.kernel.invokeFunction(\n",
       "            'suggestCharts', [key], {});\n",
       "      } catch (error) {\n",
       "        console.error('Error during call to suggestCharts:', error);\n",
       "      }\n",
       "      quickchartButtonEl.classList.remove('colab-df-spinner');\n",
       "      quickchartButtonEl.classList.add('colab-df-quickchart-complete');\n",
       "    }\n",
       "    (() => {\n",
       "      let quickchartButtonEl =\n",
       "        document.querySelector('#df-6d075723-ff8c-4e9b-b6dd-bcb5a694c9d7 button');\n",
       "      quickchartButtonEl.style.display =\n",
       "        google.colab.kernel.accessAllowed ? 'block' : 'none';\n",
       "    })();\n",
       "  </script>\n",
       "</div>\n",
       "\n",
       "    </div>\n",
       "  </div>\n"
      ],
      "text/plain": [
       "        customerID gender Partner Dependents PhoneService MultipleLines  \\\n",
       "count         7043   7043    7043       7043         7043          7043   \n",
       "unique        7043      2       2          2            2             3   \n",
       "top     3186-AJIEK   Male      No         No          Yes            No   \n",
       "freq             1   3555    3641       4933         6361          3390   \n",
       "\n",
       "       InternetService OnlineSecurity OnlineBackup DeviceProtection  \\\n",
       "count             7043           7043         7043             7043   \n",
       "unique               3              3            3                3   \n",
       "top        Fiber optic             No           No               No   \n",
       "freq              3096           3498         3088             3095   \n",
       "\n",
       "       TechSupport StreamingTV StreamingMovies        Contract  \\\n",
       "count         7043        7043            7043            7043   \n",
       "unique           3           3               3               3   \n",
       "top             No          No              No  Month-to-month   \n",
       "freq          3473        2810            2785            3875   \n",
       "\n",
       "       PaperlessBilling     PaymentMethod TotalCharges Churn  \n",
       "count              7043              7043         7043  7043  \n",
       "unique                2                 4         6531     2  \n",
       "top                 Yes  Electronic check                 No  \n",
       "freq               4171              2365           11  5174  "
      ]
     },
     "execution_count": 50,
     "metadata": {},
     "output_type": "execute_result"
    }
   ],
   "source": [
    "# 범주형 변수 요약 보기\n",
    "df.describe(include='object')"
   ]
  },
  {
   "cell_type": "markdown",
   "metadata": {
    "id": "0LKCZUyluWA-"
   },
   "source": [
    "4) 범주형 컬럼들의 고유값을 확인합니다. (label 확인용)"
   ]
  },
  {
   "cell_type": "markdown",
   "metadata": {
    "id": "YmY7vpzo18JG"
   },
   "source": [
    "[customerID], [TotalCharges]은 범주형 변수가 아님."
   ]
  },
  {
   "cell_type": "code",
   "execution_count": null,
   "metadata": {
    "id": "2CwRoPPDdZvD"
   },
   "outputs": [],
   "source": [
    "# 여기에 코드를 작성해보세요!"
   ]
  },
  {
   "cell_type": "code",
   "execution_count": null,
   "metadata": {
    "colab": {
     "base_uri": "https://localhost:8080/"
    },
    "id": "vhWos1I5se3Y",
    "outputId": "412257ab-a900-45db-f536-9ee158212f06"
   },
   "outputs": [
    {
     "name": "stdout",
     "output_type": "stream",
     "text": [
      "[customerID] 고유값: ['7590-VHVEG' '5575-GNVDE' '3668-QPYBK' ... '4801-JZAZL' '8361-LTMKD'\n",
      " '3186-AJIEK']\n",
      "[gender] 고유값: ['Female' 'Male']\n",
      "[Partner] 고유값: ['Yes' 'No']\n",
      "[Dependents] 고유값: ['No' 'Yes']\n",
      "[PhoneService] 고유값: ['No' 'Yes']\n",
      "[MultipleLines] 고유값: ['No phone service' 'No' 'Yes']\n",
      "[InternetService] 고유값: ['DSL' 'Fiber optic' 'No']\n",
      "[OnlineSecurity] 고유값: ['No' 'Yes' 'No internet service']\n",
      "[OnlineBackup] 고유값: ['Yes' 'No' 'No internet service']\n",
      "[DeviceProtection] 고유값: ['No' 'Yes' 'No internet service']\n",
      "[TechSupport] 고유값: ['No' 'Yes' 'No internet service']\n",
      "[StreamingTV] 고유값: ['No' 'Yes' 'No internet service']\n",
      "[StreamingMovies] 고유값: ['No' 'Yes' 'No internet service']\n",
      "[Contract] 고유값: ['Month-to-month' 'One year' 'Two year']\n",
      "[PaperlessBilling] 고유값: ['Yes' 'No']\n",
      "[PaymentMethod] 고유값: ['Electronic check' 'Mailed check' 'Bank transfer (automatic)'\n",
      " 'Credit card (automatic)']\n",
      "[TotalCharges] 고유값: ['29.85' '1889.5' '108.15' ... '346.45' '306.6' '6844.5']\n",
      "[Churn] 고유값: ['No' 'Yes']\n"
     ]
    }
   ],
   "source": [
    "for col in df.columns:\n",
    "    if df[col].dtype == 'object':\n",
    "        print(f\"[{col}] 고유값: {df[col].unique()}\")\n"
   ]
  },
  {
   "cell_type": "markdown",
   "metadata": {
    "id": "DdgUQ7fbudgg"
   },
   "source": [
    "5) 이탈 여부(목표 변수) 분포를 확인해보세요."
   ]
  },
  {
   "cell_type": "code",
   "execution_count": null,
   "metadata": {
    "id": "HIU9bLJldfnm"
   },
   "outputs": [],
   "source": [
    "# 여기에 코드를 작성해보세요!"
   ]
  },
  {
   "cell_type": "code",
   "execution_count": null,
   "metadata": {
    "colab": {
     "base_uri": "https://localhost:8080/",
     "height": 186
    },
    "id": "_eSqlbVAtklL",
    "outputId": "1afffe55-da16-45b4-a5d3-65d72a118960"
   },
   "outputs": [
    {
     "data": {
      "text/html": [
       "<div>\n",
       "<style scoped>\n",
       "    .dataframe tbody tr th:only-of-type {\n",
       "        vertical-align: middle;\n",
       "    }\n",
       "\n",
       "    .dataframe tbody tr th {\n",
       "        vertical-align: top;\n",
       "    }\n",
       "\n",
       "    .dataframe thead th {\n",
       "        text-align: right;\n",
       "    }\n",
       "</style>\n",
       "<table border=\"1\" class=\"dataframe\">\n",
       "  <thead>\n",
       "    <tr style=\"text-align: right;\">\n",
       "      <th></th>\n",
       "      <th>proportion</th>\n",
       "    </tr>\n",
       "    <tr>\n",
       "      <th>Churn</th>\n",
       "      <th></th>\n",
       "    </tr>\n",
       "  </thead>\n",
       "  <tbody>\n",
       "    <tr>\n",
       "      <th>No</th>\n",
       "      <td>0.73463</td>\n",
       "    </tr>\n",
       "    <tr>\n",
       "      <th>Yes</th>\n",
       "      <td>0.26537</td>\n",
       "    </tr>\n",
       "  </tbody>\n",
       "</table>\n",
       "</div><br><label><b>dtype:</b> float64</label>"
      ],
      "text/plain": [
       "Churn\n",
       "No     0.73463\n",
       "Yes    0.26537\n",
       "Name: proportion, dtype: float64"
      ]
     },
     "execution_count": 9,
     "metadata": {},
     "output_type": "execute_result"
    }
   ],
   "source": [
    "# 이탈 여부의 비율 확인\n",
    "df['Churn'].value_counts(normalize=True)"
   ]
  },
  {
   "cell_type": "markdown",
   "metadata": {
    "id": "6LWVE1HKwDLu"
   },
   "source": [
    "# 3. 데이터 전처리"
   ]
  },
  {
   "cell_type": "markdown",
   "metadata": {
    "id": "bas6o-pTwc6L"
   },
   "source": [
    "1. 객체형 데이터의 수치형 변환 및 데이터 결측치 처리\n",
    "2. 타겟 변수의 변환\n",
    "3. 범주형 데이터를 모델 학습에 적합하도록 원핫인코딩\n",
    "4. 입력(X), 정답(y) 분리\n",
    "5. 입력값의 수치형 변수 정규화\n",
    "6. 훈련/테스트 데이터 분리"
   ]
  },
  {
   "cell_type": "markdown",
   "metadata": {
    "id": "4jAY59N7h-zD"
   },
   "source": [
    "## 1) 객체형 데이터의 수치형 변환 및 데이터 결측치 처리"
   ]
  },
  {
   "cell_type": "markdown",
   "metadata": {
    "id": "qL5HoXOBu1DC"
   },
   "source": [
    "- 공백 문자열이 있는 열을 먼저 처리\n",
    "- 'TotalCharges' 열이 object로 불러와졌다면 수치로 변환"
   ]
  },
  {
   "cell_type": "code",
   "execution_count": null,
   "metadata": {
    "id": "aGwMBrPadoyX"
   },
   "outputs": [],
   "source": [
    "# 여기에 코드를 작성해보세요!"
   ]
  },
  {
   "cell_type": "code",
   "execution_count": null,
   "metadata": {
    "colab": {
     "base_uri": "https://localhost:8080/"
    },
    "id": "KPrmlmtQwUOT",
    "outputId": "ced3b42e-d728-4b92-b81f-7df5b217584c"
   },
   "outputs": [
    {
     "name": "stdout",
     "output_type": "stream",
     "text": [
      "[전처리 전] TotalCharges 열 타입: object\n",
      "[전처리 전] TotalCharges 결측치 수: 0\n"
     ]
    }
   ],
   "source": [
    "# [1] TotalCharges 열의 문제 확인\n",
    "print(\"[전처리 전] TotalCharges 열 타입:\", df['TotalCharges'].dtype)\n",
    "print(\"[전처리 전] TotalCharges 결측치 수:\", df['TotalCharges'].isnull().sum())"
   ]
  },
  {
   "cell_type": "markdown",
   "metadata": {
    "id": "aAEutIWKeSoh"
   },
   "source": [
    "공백 문자열이 있는 열을 수치로 변환하고 오류 발생 시 NaN으로 처리합니다."
   ]
  },
  {
   "cell_type": "code",
   "execution_count": null,
   "metadata": {
    "id": "yn5icEBzdypC"
   },
   "outputs": [],
   "source": [
    "# 여기에 코드를 작성해보세요!"
   ]
  },
  {
   "cell_type": "code",
   "execution_count": null,
   "metadata": {
    "id": "ZH7DDbpRu9S2"
   },
   "outputs": [],
   "source": [
    "#공백 문자열이 있는 열을 수치로 변환 (오류 발생 시 NaN 처리)\n",
    "df['TotalCharges'] = pd.to_numeric(df['TotalCharges'], errors='coerce')"
   ]
  },
  {
   "cell_type": "markdown",
   "metadata": {
    "id": "K4Plsr_Wd9sQ"
   },
   "source": [
    "변환 후 결측치 개수를 확인해보세요."
   ]
  },
  {
   "cell_type": "code",
   "execution_count": null,
   "metadata": {
    "colab": {
     "base_uri": "https://localhost:8080/"
    },
    "id": "7HN0M7NGvUQG",
    "outputId": "49c2ec86-df8b-486b-bf28-81816c7f606b"
   },
   "outputs": [
    {
     "name": "stdout",
     "output_type": "stream",
     "text": [
      "[전처리 후] TotalCharges 결측치 수: 11\n"
     ]
    }
   ],
   "source": [
    "# 변환 후 결측치 개수 확인\n",
    "print(\"[전처리 후] TotalCharges 결측치 수:\", df['TotalCharges'].isnull().sum())"
   ]
  },
  {
   "cell_type": "markdown",
   "metadata": {
    "id": "M3PaQp2Md26c"
   },
   "source": [
    "전체 결측치 개수를 확인해보세요."
   ]
  },
  {
   "cell_type": "code",
   "execution_count": null,
   "metadata": {
    "id": "jW-9FFu-d0aI"
   },
   "outputs": [],
   "source": [
    "# 여기에 코드를 작성해보세요!"
   ]
  },
  {
   "cell_type": "code",
   "execution_count": null,
   "metadata": {
    "colab": {
     "base_uri": "https://localhost:8080/",
     "height": 772
    },
    "id": "RUcM6AkxvHPk",
    "outputId": "3d282dfc-8ba3-4142-c4a4-29f3b0f3a02f"
   },
   "outputs": [
    {
     "data": {
      "text/html": [
       "<div>\n",
       "<style scoped>\n",
       "    .dataframe tbody tr th:only-of-type {\n",
       "        vertical-align: middle;\n",
       "    }\n",
       "\n",
       "    .dataframe tbody tr th {\n",
       "        vertical-align: top;\n",
       "    }\n",
       "\n",
       "    .dataframe thead th {\n",
       "        text-align: right;\n",
       "    }\n",
       "</style>\n",
       "<table border=\"1\" class=\"dataframe\">\n",
       "  <thead>\n",
       "    <tr style=\"text-align: right;\">\n",
       "      <th></th>\n",
       "      <th>0</th>\n",
       "    </tr>\n",
       "  </thead>\n",
       "  <tbody>\n",
       "    <tr>\n",
       "      <th>customerID</th>\n",
       "      <td>0</td>\n",
       "    </tr>\n",
       "    <tr>\n",
       "      <th>gender</th>\n",
       "      <td>0</td>\n",
       "    </tr>\n",
       "    <tr>\n",
       "      <th>SeniorCitizen</th>\n",
       "      <td>0</td>\n",
       "    </tr>\n",
       "    <tr>\n",
       "      <th>Partner</th>\n",
       "      <td>0</td>\n",
       "    </tr>\n",
       "    <tr>\n",
       "      <th>Dependents</th>\n",
       "      <td>0</td>\n",
       "    </tr>\n",
       "    <tr>\n",
       "      <th>tenure</th>\n",
       "      <td>0</td>\n",
       "    </tr>\n",
       "    <tr>\n",
       "      <th>PhoneService</th>\n",
       "      <td>0</td>\n",
       "    </tr>\n",
       "    <tr>\n",
       "      <th>MultipleLines</th>\n",
       "      <td>0</td>\n",
       "    </tr>\n",
       "    <tr>\n",
       "      <th>InternetService</th>\n",
       "      <td>0</td>\n",
       "    </tr>\n",
       "    <tr>\n",
       "      <th>OnlineSecurity</th>\n",
       "      <td>0</td>\n",
       "    </tr>\n",
       "    <tr>\n",
       "      <th>OnlineBackup</th>\n",
       "      <td>0</td>\n",
       "    </tr>\n",
       "    <tr>\n",
       "      <th>DeviceProtection</th>\n",
       "      <td>0</td>\n",
       "    </tr>\n",
       "    <tr>\n",
       "      <th>TechSupport</th>\n",
       "      <td>0</td>\n",
       "    </tr>\n",
       "    <tr>\n",
       "      <th>StreamingTV</th>\n",
       "      <td>0</td>\n",
       "    </tr>\n",
       "    <tr>\n",
       "      <th>StreamingMovies</th>\n",
       "      <td>0</td>\n",
       "    </tr>\n",
       "    <tr>\n",
       "      <th>Contract</th>\n",
       "      <td>0</td>\n",
       "    </tr>\n",
       "    <tr>\n",
       "      <th>PaperlessBilling</th>\n",
       "      <td>0</td>\n",
       "    </tr>\n",
       "    <tr>\n",
       "      <th>PaymentMethod</th>\n",
       "      <td>0</td>\n",
       "    </tr>\n",
       "    <tr>\n",
       "      <th>MonthlyCharges</th>\n",
       "      <td>0</td>\n",
       "    </tr>\n",
       "    <tr>\n",
       "      <th>TotalCharges</th>\n",
       "      <td>11</td>\n",
       "    </tr>\n",
       "    <tr>\n",
       "      <th>Churn</th>\n",
       "      <td>0</td>\n",
       "    </tr>\n",
       "  </tbody>\n",
       "</table>\n",
       "</div><br><label><b>dtype:</b> int64</label>"
      ],
      "text/plain": [
       "customerID           0\n",
       "gender               0\n",
       "SeniorCitizen        0\n",
       "Partner              0\n",
       "Dependents           0\n",
       "tenure               0\n",
       "PhoneService         0\n",
       "MultipleLines        0\n",
       "InternetService      0\n",
       "OnlineSecurity       0\n",
       "OnlineBackup         0\n",
       "DeviceProtection     0\n",
       "TechSupport          0\n",
       "StreamingTV          0\n",
       "StreamingMovies      0\n",
       "Contract             0\n",
       "PaperlessBilling     0\n",
       "PaymentMethod        0\n",
       "MonthlyCharges       0\n",
       "TotalCharges        11\n",
       "Churn                0\n",
       "dtype: int64"
      ]
     },
     "execution_count": 17,
     "metadata": {},
     "output_type": "execute_result"
    }
   ],
   "source": [
    "# 전체결측치 개수 확인\n",
    "df.isnull().sum()"
   ]
  },
  {
   "cell_type": "markdown",
   "metadata": {
    "id": "WU0Ilh-Yxq-1"
   },
   "source": [
    "결측치 제거 전 후 데이터 크기 비교해서 확인합니다.\n"
   ]
  },
  {
   "cell_type": "code",
   "execution_count": null,
   "metadata": {
    "id": "WPY8DcDJfqu5"
   },
   "outputs": [],
   "source": [
    "# 여기에 코드를 작성해보세요!"
   ]
  },
  {
   "cell_type": "code",
   "execution_count": null,
   "metadata": {
    "colab": {
     "base_uri": "https://localhost:8080/"
    },
    "id": "L5oiiEkqxtxw",
    "outputId": "a84f9554-d5a7-4558-f1c9-a3b68c054cca"
   },
   "outputs": [
    {
     "name": "stdout",
     "output_type": "stream",
     "text": [
      "결측치 제거 전: (7043, 21)\n",
      "결측치 제거 후: (7032, 21)\n"
     ]
    }
   ],
   "source": [
    "print(\"결측치 제거 전:\", df.shape)\n",
    "df = df.dropna()\n",
    "print(\"결측치 제거 후:\", df.shape)"
   ]
  },
  {
   "cell_type": "markdown",
   "metadata": {
    "id": "ZIeSUDy57VjY"
   },
   "source": [
    "## 2) 타겟 변수의 변환\n",
    "Churn은 이탈 여부를 나타내는 이진 분류 타겟입니다.   \n",
    "따라서 Yes는 1 (이탈), No는 0 (유지)로 변환해서 모델에 적용합니다.   \n",
    "범주형 변수 → 숫자형으로 변환하는 Label Encoding 또는 One-hot Encoding을 수행할 수 있습니다."
   ]
  },
  {
   "cell_type": "code",
   "execution_count": null,
   "metadata": {
    "id": "nnxtKIEKfrbe"
   },
   "outputs": [],
   "source": [
    "# 여기에 코드를 작성해보세요!"
   ]
  },
  {
   "cell_type": "code",
   "execution_count": null,
   "metadata": {
    "id": "ZG4qLK_PiE3M"
   },
   "outputs": [],
   "source": [
    "#map() 를 이용해 이진 클래스(Yes/No)를 1 또는 0로 변환\n",
    "df['Churn'] = df['Churn'].map({'Yes': 1, 'No': 0})"
   ]
  },
  {
   "cell_type": "markdown",
   "metadata": {
    "id": "lPv9obXc76Zl"
   },
   "source": [
    "## 3) 범주형 변수의 원핫 인코딩\n",
    "\n",
    "- [customerID]는 제거\n",
    "- 이진 범주형 컬럼 처리 (Yes/No → 1/0) :  ['Partner', 'Dependents', 'PhoneService', 'PaperlessBilling']\n",
    "- 나머지 범주형 변수 → One-hot Encoding\n",
    "\n"
   ]
  },
  {
   "cell_type": "markdown",
   "metadata": {
    "id": "sWNeUUcMgbAU"
   },
   "source": [
    "식별자인 customerID는 삭제합니다."
   ]
  },
  {
   "cell_type": "code",
   "execution_count": null,
   "metadata": {
    "id": "lrd9-gvqfsi6"
   },
   "outputs": [],
   "source": [
    "# 여기에 코드를 작성해보세요!"
   ]
  },
  {
   "cell_type": "code",
   "execution_count": null,
   "metadata": {
    "id": "SXCZQ6f42Q3t"
   },
   "outputs": [],
   "source": [
    "#'customerID'는 식별자이므로 제거\n",
    "df.drop('customerID', axis=1, inplace=True)"
   ]
  },
  {
   "cell_type": "markdown",
   "metadata": {
    "id": "tRVcJOYBgjMB"
   },
   "source": [
    "'Yes'/'No' 값을 갖는 이진 범주형 컬럼을 1과 0으로 변환하세요."
   ]
  },
  {
   "cell_type": "code",
   "execution_count": null,
   "metadata": {
    "id": "WOo5Nl4cftGM"
   },
   "outputs": [],
   "source": [
    "# 여기에 코드를 작성해보세요!"
   ]
  },
  {
   "cell_type": "code",
   "execution_count": null,
   "metadata": {
    "colab": {
     "base_uri": "https://localhost:8080/"
    },
    "id": "BT-jzMMJFmcr",
    "outputId": "a9ee02ba-d865-4356-bd0e-3d84f2ba4c3b"
   },
   "outputs": [
    {
     "name": "stdout",
     "output_type": "stream",
     "text": [
      "[전처리 전] Partner 고유값: ['Yes' 'No']\n",
      "[전처리 후] Partner 고유값: [1 0]\n",
      "[전처리 전] Dependents 고유값: ['No' 'Yes']\n",
      "[전처리 후] Dependents 고유값: [0 1]\n",
      "[전처리 전] PhoneService 고유값: ['No' 'Yes']\n",
      "[전처리 후] PhoneService 고유값: [0 1]\n",
      "[전처리 전] PaperlessBilling 고유값: ['Yes' 'No']\n",
      "[전처리 후] PaperlessBilling 고유값: [1 0]\n"
     ]
    }
   ],
   "source": [
    "#이진 범주형 컬럼 처리 (Yes/No → 1/0)\n",
    "binary_cols = ['Partner', 'Dependents', 'PhoneService', 'PaperlessBilling']\n",
    "for col in binary_cols:\n",
    "    print(f\"[전처리 전] {col} 고유값: {df[col].unique()}\")\n",
    "    df[col] = df[col].map({'Yes': 1, 'No': 0})\n",
    "    print(f\"[전처리 후] {col} 고유값: {df[col].unique()}\")"
   ]
  },
  {
   "cell_type": "markdown",
   "metadata": {
    "id": "46XTqA-AzZgD"
   },
   "source": [
    "나머지 범주형 변수는 pd.get_dummies()로 처리해보세요.\n",
    "- get_dummies는 문자열 범주형 변수를 0/1로 변환해 새로운 열 생성\n"
   ]
  },
  {
   "cell_type": "code",
   "execution_count": null,
   "metadata": {
    "id": "KZ_sP_sPg2j0"
   },
   "outputs": [],
   "source": [
    "# 여기에 코드를 작성해보세요!"
   ]
  },
  {
   "cell_type": "code",
   "execution_count": null,
   "metadata": {
    "colab": {
     "base_uri": "https://localhost:8080/"
    },
    "id": "Yolze0pliKr2",
    "outputId": "942ff156-c6b4-4877-d3a5-efd7dcdb9340"
   },
   "outputs": [
    {
     "name": "stdout",
     "output_type": "stream",
     "text": [
      "원-핫 인코딩 적용 전 컬럼 수: 20\n",
      "원-핫 인코딩 적용 후 컬럼 수: 31\n"
     ]
    }
   ],
   "source": [
    "print(\"원-핫 인코딩 적용 전 컬럼 수:\", len(df.columns))\n",
    "df = pd.get_dummies(df, drop_first=True)\n",
    "print(\"원-핫 인코딩 적용 후 컬럼 수:\", len(df.columns))"
   ]
  },
  {
   "cell_type": "markdown",
   "metadata": {
    "id": "pibqWQ0ChEox"
   },
   "source": [
    "원-핫 인코딩 적용 후 데이터프레임의 구조를 확인해보세요."
   ]
  },
  {
   "cell_type": "code",
   "execution_count": null,
   "metadata": {
    "id": "48ihn9WRhk90"
   },
   "outputs": [],
   "source": [
    "# 여기에 코드를 작성해보세요!"
   ]
  },
  {
   "cell_type": "code",
   "execution_count": null,
   "metadata": {
    "colab": {
     "base_uri": "https://localhost:8080/"
    },
    "id": "NE0p29WTzxBW",
    "outputId": "b66fa16b-91fa-4106-8e8e-7f27b7890ff6"
   },
   "outputs": [
    {
     "name": "stdout",
     "output_type": "stream",
     "text": [
      "<class 'pandas.core.frame.DataFrame'>\n",
      "Index: 7032 entries, 0 to 7042\n",
      "Data columns (total 31 columns):\n",
      " #   Column                                 Non-Null Count  Dtype  \n",
      "---  ------                                 --------------  -----  \n",
      " 0   SeniorCitizen                          7032 non-null   int64  \n",
      " 1   Partner                                7032 non-null   int64  \n",
      " 2   Dependents                             7032 non-null   int64  \n",
      " 3   tenure                                 7032 non-null   int64  \n",
      " 4   PhoneService                           7032 non-null   int64  \n",
      " 5   PaperlessBilling                       7032 non-null   int64  \n",
      " 6   MonthlyCharges                         7032 non-null   float64\n",
      " 7   TotalCharges                           7032 non-null   float64\n",
      " 8   Churn                                  7032 non-null   int64  \n",
      " 9   gender_Male                            7032 non-null   bool   \n",
      " 10  MultipleLines_No phone service         7032 non-null   bool   \n",
      " 11  MultipleLines_Yes                      7032 non-null   bool   \n",
      " 12  InternetService_Fiber optic            7032 non-null   bool   \n",
      " 13  InternetService_No                     7032 non-null   bool   \n",
      " 14  OnlineSecurity_No internet service     7032 non-null   bool   \n",
      " 15  OnlineSecurity_Yes                     7032 non-null   bool   \n",
      " 16  OnlineBackup_No internet service       7032 non-null   bool   \n",
      " 17  OnlineBackup_Yes                       7032 non-null   bool   \n",
      " 18  DeviceProtection_No internet service   7032 non-null   bool   \n",
      " 19  DeviceProtection_Yes                   7032 non-null   bool   \n",
      " 20  TechSupport_No internet service        7032 non-null   bool   \n",
      " 21  TechSupport_Yes                        7032 non-null   bool   \n",
      " 22  StreamingTV_No internet service        7032 non-null   bool   \n",
      " 23  StreamingTV_Yes                        7032 non-null   bool   \n",
      " 24  StreamingMovies_No internet service    7032 non-null   bool   \n",
      " 25  StreamingMovies_Yes                    7032 non-null   bool   \n",
      " 26  Contract_One year                      7032 non-null   bool   \n",
      " 27  Contract_Two year                      7032 non-null   bool   \n",
      " 28  PaymentMethod_Credit card (automatic)  7032 non-null   bool   \n",
      " 29  PaymentMethod_Electronic check         7032 non-null   bool   \n",
      " 30  PaymentMethod_Mailed check             7032 non-null   bool   \n",
      "dtypes: bool(22), float64(2), int64(7)\n",
      "memory usage: 700.5 KB\n"
     ]
    }
   ],
   "source": [
    "df.info()"
   ]
  },
  {
   "cell_type": "markdown",
   "metadata": {
    "id": "OqWdzg-qh3xZ"
   },
   "source": [
    "원-핫 인코딩이 잘 적용되었는지 데이터의 일부를 확인해보세요."
   ]
  },
  {
   "cell_type": "code",
   "execution_count": null,
   "metadata": {
    "id": "C6WeQ6CZh3PM"
   },
   "outputs": [],
   "source": [
    "# 여기에 코드를 작성해보세요!"
   ]
  },
  {
   "cell_type": "code",
   "execution_count": null,
   "metadata": {
    "colab": {
     "base_uri": "https://localhost:8080/",
     "height": 301
    },
    "id": "8wQCxXiW1JgY",
    "outputId": "fca16d9e-c77c-49d7-fa03-0d987494f231"
   },
   "outputs": [
    {
     "data": {
      "application/vnd.google.colaboratory.intrinsic+json": {
       "type": "dataframe",
       "variable_name": "df"
      },
      "text/html": [
       "\n",
       "  <div id=\"df-b7e3a18c-b48b-451e-aab3-13000d2340b3\" class=\"colab-df-container\">\n",
       "    <div>\n",
       "<style scoped>\n",
       "    .dataframe tbody tr th:only-of-type {\n",
       "        vertical-align: middle;\n",
       "    }\n",
       "\n",
       "    .dataframe tbody tr th {\n",
       "        vertical-align: top;\n",
       "    }\n",
       "\n",
       "    .dataframe thead th {\n",
       "        text-align: right;\n",
       "    }\n",
       "</style>\n",
       "<table border=\"1\" class=\"dataframe\">\n",
       "  <thead>\n",
       "    <tr style=\"text-align: right;\">\n",
       "      <th></th>\n",
       "      <th>SeniorCitizen</th>\n",
       "      <th>Partner</th>\n",
       "      <th>Dependents</th>\n",
       "      <th>tenure</th>\n",
       "      <th>PhoneService</th>\n",
       "      <th>PaperlessBilling</th>\n",
       "      <th>MonthlyCharges</th>\n",
       "      <th>TotalCharges</th>\n",
       "      <th>Churn</th>\n",
       "      <th>gender_Male</th>\n",
       "      <th>...</th>\n",
       "      <th>TechSupport_Yes</th>\n",
       "      <th>StreamingTV_No internet service</th>\n",
       "      <th>StreamingTV_Yes</th>\n",
       "      <th>StreamingMovies_No internet service</th>\n",
       "      <th>StreamingMovies_Yes</th>\n",
       "      <th>Contract_One year</th>\n",
       "      <th>Contract_Two year</th>\n",
       "      <th>PaymentMethod_Credit card (automatic)</th>\n",
       "      <th>PaymentMethod_Electronic check</th>\n",
       "      <th>PaymentMethod_Mailed check</th>\n",
       "    </tr>\n",
       "  </thead>\n",
       "  <tbody>\n",
       "    <tr>\n",
       "      <th>0</th>\n",
       "      <td>0</td>\n",
       "      <td>1</td>\n",
       "      <td>0</td>\n",
       "      <td>1</td>\n",
       "      <td>0</td>\n",
       "      <td>1</td>\n",
       "      <td>29.85</td>\n",
       "      <td>29.85</td>\n",
       "      <td>0</td>\n",
       "      <td>False</td>\n",
       "      <td>...</td>\n",
       "      <td>False</td>\n",
       "      <td>False</td>\n",
       "      <td>False</td>\n",
       "      <td>False</td>\n",
       "      <td>False</td>\n",
       "      <td>False</td>\n",
       "      <td>False</td>\n",
       "      <td>False</td>\n",
       "      <td>True</td>\n",
       "      <td>False</td>\n",
       "    </tr>\n",
       "    <tr>\n",
       "      <th>1</th>\n",
       "      <td>0</td>\n",
       "      <td>0</td>\n",
       "      <td>0</td>\n",
       "      <td>34</td>\n",
       "      <td>1</td>\n",
       "      <td>0</td>\n",
       "      <td>56.95</td>\n",
       "      <td>1889.50</td>\n",
       "      <td>0</td>\n",
       "      <td>True</td>\n",
       "      <td>...</td>\n",
       "      <td>False</td>\n",
       "      <td>False</td>\n",
       "      <td>False</td>\n",
       "      <td>False</td>\n",
       "      <td>False</td>\n",
       "      <td>True</td>\n",
       "      <td>False</td>\n",
       "      <td>False</td>\n",
       "      <td>False</td>\n",
       "      <td>True</td>\n",
       "    </tr>\n",
       "    <tr>\n",
       "      <th>2</th>\n",
       "      <td>0</td>\n",
       "      <td>0</td>\n",
       "      <td>0</td>\n",
       "      <td>2</td>\n",
       "      <td>1</td>\n",
       "      <td>1</td>\n",
       "      <td>53.85</td>\n",
       "      <td>108.15</td>\n",
       "      <td>1</td>\n",
       "      <td>True</td>\n",
       "      <td>...</td>\n",
       "      <td>False</td>\n",
       "      <td>False</td>\n",
       "      <td>False</td>\n",
       "      <td>False</td>\n",
       "      <td>False</td>\n",
       "      <td>False</td>\n",
       "      <td>False</td>\n",
       "      <td>False</td>\n",
       "      <td>False</td>\n",
       "      <td>True</td>\n",
       "    </tr>\n",
       "    <tr>\n",
       "      <th>3</th>\n",
       "      <td>0</td>\n",
       "      <td>0</td>\n",
       "      <td>0</td>\n",
       "      <td>45</td>\n",
       "      <td>0</td>\n",
       "      <td>0</td>\n",
       "      <td>42.30</td>\n",
       "      <td>1840.75</td>\n",
       "      <td>0</td>\n",
       "      <td>True</td>\n",
       "      <td>...</td>\n",
       "      <td>True</td>\n",
       "      <td>False</td>\n",
       "      <td>False</td>\n",
       "      <td>False</td>\n",
       "      <td>False</td>\n",
       "      <td>True</td>\n",
       "      <td>False</td>\n",
       "      <td>False</td>\n",
       "      <td>False</td>\n",
       "      <td>False</td>\n",
       "    </tr>\n",
       "    <tr>\n",
       "      <th>4</th>\n",
       "      <td>0</td>\n",
       "      <td>0</td>\n",
       "      <td>0</td>\n",
       "      <td>2</td>\n",
       "      <td>1</td>\n",
       "      <td>1</td>\n",
       "      <td>70.70</td>\n",
       "      <td>151.65</td>\n",
       "      <td>1</td>\n",
       "      <td>False</td>\n",
       "      <td>...</td>\n",
       "      <td>False</td>\n",
       "      <td>False</td>\n",
       "      <td>False</td>\n",
       "      <td>False</td>\n",
       "      <td>False</td>\n",
       "      <td>False</td>\n",
       "      <td>False</td>\n",
       "      <td>False</td>\n",
       "      <td>True</td>\n",
       "      <td>False</td>\n",
       "    </tr>\n",
       "  </tbody>\n",
       "</table>\n",
       "<p>5 rows × 31 columns</p>\n",
       "</div>\n",
       "    <div class=\"colab-df-buttons\">\n",
       "\n",
       "  <div class=\"colab-df-container\">\n",
       "    <button class=\"colab-df-convert\" onclick=\"convertToInteractive('df-b7e3a18c-b48b-451e-aab3-13000d2340b3')\"\n",
       "            title=\"Convert this dataframe to an interactive table.\"\n",
       "            style=\"display:none;\">\n",
       "\n",
       "  <svg xmlns=\"http://www.w3.org/2000/svg\" height=\"24px\" viewBox=\"0 -960 960 960\">\n",
       "    <path d=\"M120-120v-720h720v720H120Zm60-500h600v-160H180v160Zm220 220h160v-160H400v160Zm0 220h160v-160H400v160ZM180-400h160v-160H180v160Zm440 0h160v-160H620v160ZM180-180h160v-160H180v160Zm440 0h160v-160H620v160Z\"/>\n",
       "  </svg>\n",
       "    </button>\n",
       "\n",
       "  <style>\n",
       "    .colab-df-container {\n",
       "      display:flex;\n",
       "      gap: 12px;\n",
       "    }\n",
       "\n",
       "    .colab-df-convert {\n",
       "      background-color: #E8F0FE;\n",
       "      border: none;\n",
       "      border-radius: 50%;\n",
       "      cursor: pointer;\n",
       "      display: none;\n",
       "      fill: #1967D2;\n",
       "      height: 32px;\n",
       "      padding: 0 0 0 0;\n",
       "      width: 32px;\n",
       "    }\n",
       "\n",
       "    .colab-df-convert:hover {\n",
       "      background-color: #E2EBFA;\n",
       "      box-shadow: 0px 1px 2px rgba(60, 64, 67, 0.3), 0px 1px 3px 1px rgba(60, 64, 67, 0.15);\n",
       "      fill: #174EA6;\n",
       "    }\n",
       "\n",
       "    .colab-df-buttons div {\n",
       "      margin-bottom: 4px;\n",
       "    }\n",
       "\n",
       "    [theme=dark] .colab-df-convert {\n",
       "      background-color: #3B4455;\n",
       "      fill: #D2E3FC;\n",
       "    }\n",
       "\n",
       "    [theme=dark] .colab-df-convert:hover {\n",
       "      background-color: #434B5C;\n",
       "      box-shadow: 0px 1px 3px 1px rgba(0, 0, 0, 0.15);\n",
       "      filter: drop-shadow(0px 1px 2px rgba(0, 0, 0, 0.3));\n",
       "      fill: #FFFFFF;\n",
       "    }\n",
       "  </style>\n",
       "\n",
       "    <script>\n",
       "      const buttonEl =\n",
       "        document.querySelector('#df-b7e3a18c-b48b-451e-aab3-13000d2340b3 button.colab-df-convert');\n",
       "      buttonEl.style.display =\n",
       "        google.colab.kernel.accessAllowed ? 'block' : 'none';\n",
       "\n",
       "      async function convertToInteractive(key) {\n",
       "        const element = document.querySelector('#df-b7e3a18c-b48b-451e-aab3-13000d2340b3');\n",
       "        const dataTable =\n",
       "          await google.colab.kernel.invokeFunction('convertToInteractive',\n",
       "                                                    [key], {});\n",
       "        if (!dataTable) return;\n",
       "\n",
       "        const docLinkHtml = 'Like what you see? Visit the ' +\n",
       "          '<a target=\"_blank\" href=https://colab.research.google.com/notebooks/data_table.ipynb>data table notebook</a>'\n",
       "          + ' to learn more about interactive tables.';\n",
       "        element.innerHTML = '';\n",
       "        dataTable['output_type'] = 'display_data';\n",
       "        await google.colab.output.renderOutput(dataTable, element);\n",
       "        const docLink = document.createElement('div');\n",
       "        docLink.innerHTML = docLinkHtml;\n",
       "        element.appendChild(docLink);\n",
       "      }\n",
       "    </script>\n",
       "  </div>\n",
       "\n",
       "\n",
       "<div id=\"df-5be33630-fe31-4b57-b23f-a45e69ecb953\">\n",
       "  <button class=\"colab-df-quickchart\" onclick=\"quickchart('df-5be33630-fe31-4b57-b23f-a45e69ecb953')\"\n",
       "            title=\"Suggest charts\"\n",
       "            style=\"display:none;\">\n",
       "\n",
       "<svg xmlns=\"http://www.w3.org/2000/svg\" height=\"24px\"viewBox=\"0 0 24 24\"\n",
       "     width=\"24px\">\n",
       "    <g>\n",
       "        <path d=\"M19 3H5c-1.1 0-2 .9-2 2v14c0 1.1.9 2 2 2h14c1.1 0 2-.9 2-2V5c0-1.1-.9-2-2-2zM9 17H7v-7h2v7zm4 0h-2V7h2v10zm4 0h-2v-4h2v4z\"/>\n",
       "    </g>\n",
       "</svg>\n",
       "  </button>\n",
       "\n",
       "<style>\n",
       "  .colab-df-quickchart {\n",
       "      --bg-color: #E8F0FE;\n",
       "      --fill-color: #1967D2;\n",
       "      --hover-bg-color: #E2EBFA;\n",
       "      --hover-fill-color: #174EA6;\n",
       "      --disabled-fill-color: #AAA;\n",
       "      --disabled-bg-color: #DDD;\n",
       "  }\n",
       "\n",
       "  [theme=dark] .colab-df-quickchart {\n",
       "      --bg-color: #3B4455;\n",
       "      --fill-color: #D2E3FC;\n",
       "      --hover-bg-color: #434B5C;\n",
       "      --hover-fill-color: #FFFFFF;\n",
       "      --disabled-bg-color: #3B4455;\n",
       "      --disabled-fill-color: #666;\n",
       "  }\n",
       "\n",
       "  .colab-df-quickchart {\n",
       "    background-color: var(--bg-color);\n",
       "    border: none;\n",
       "    border-radius: 50%;\n",
       "    cursor: pointer;\n",
       "    display: none;\n",
       "    fill: var(--fill-color);\n",
       "    height: 32px;\n",
       "    padding: 0;\n",
       "    width: 32px;\n",
       "  }\n",
       "\n",
       "  .colab-df-quickchart:hover {\n",
       "    background-color: var(--hover-bg-color);\n",
       "    box-shadow: 0 1px 2px rgba(60, 64, 67, 0.3), 0 1px 3px 1px rgba(60, 64, 67, 0.15);\n",
       "    fill: var(--button-hover-fill-color);\n",
       "  }\n",
       "\n",
       "  .colab-df-quickchart-complete:disabled,\n",
       "  .colab-df-quickchart-complete:disabled:hover {\n",
       "    background-color: var(--disabled-bg-color);\n",
       "    fill: var(--disabled-fill-color);\n",
       "    box-shadow: none;\n",
       "  }\n",
       "\n",
       "  .colab-df-spinner {\n",
       "    border: 2px solid var(--fill-color);\n",
       "    border-color: transparent;\n",
       "    border-bottom-color: var(--fill-color);\n",
       "    animation:\n",
       "      spin 1s steps(1) infinite;\n",
       "  }\n",
       "\n",
       "  @keyframes spin {\n",
       "    0% {\n",
       "      border-color: transparent;\n",
       "      border-bottom-color: var(--fill-color);\n",
       "      border-left-color: var(--fill-color);\n",
       "    }\n",
       "    20% {\n",
       "      border-color: transparent;\n",
       "      border-left-color: var(--fill-color);\n",
       "      border-top-color: var(--fill-color);\n",
       "    }\n",
       "    30% {\n",
       "      border-color: transparent;\n",
       "      border-left-color: var(--fill-color);\n",
       "      border-top-color: var(--fill-color);\n",
       "      border-right-color: var(--fill-color);\n",
       "    }\n",
       "    40% {\n",
       "      border-color: transparent;\n",
       "      border-right-color: var(--fill-color);\n",
       "      border-top-color: var(--fill-color);\n",
       "    }\n",
       "    60% {\n",
       "      border-color: transparent;\n",
       "      border-right-color: var(--fill-color);\n",
       "    }\n",
       "    80% {\n",
       "      border-color: transparent;\n",
       "      border-right-color: var(--fill-color);\n",
       "      border-bottom-color: var(--fill-color);\n",
       "    }\n",
       "    90% {\n",
       "      border-color: transparent;\n",
       "      border-bottom-color: var(--fill-color);\n",
       "    }\n",
       "  }\n",
       "</style>\n",
       "\n",
       "  <script>\n",
       "    async function quickchart(key) {\n",
       "      const quickchartButtonEl =\n",
       "        document.querySelector('#' + key + ' button');\n",
       "      quickchartButtonEl.disabled = true;  // To prevent multiple clicks.\n",
       "      quickchartButtonEl.classList.add('colab-df-spinner');\n",
       "      try {\n",
       "        const charts = await google.colab.kernel.invokeFunction(\n",
       "            'suggestCharts', [key], {});\n",
       "      } catch (error) {\n",
       "        console.error('Error during call to suggestCharts:', error);\n",
       "      }\n",
       "      quickchartButtonEl.classList.remove('colab-df-spinner');\n",
       "      quickchartButtonEl.classList.add('colab-df-quickchart-complete');\n",
       "    }\n",
       "    (() => {\n",
       "      let quickchartButtonEl =\n",
       "        document.querySelector('#df-5be33630-fe31-4b57-b23f-a45e69ecb953 button');\n",
       "      quickchartButtonEl.style.display =\n",
       "        google.colab.kernel.accessAllowed ? 'block' : 'none';\n",
       "    })();\n",
       "  </script>\n",
       "</div>\n",
       "\n",
       "    </div>\n",
       "  </div>\n"
      ],
      "text/plain": [
       "   SeniorCitizen  Partner  Dependents  tenure  PhoneService  PaperlessBilling  \\\n",
       "0              0        1           0       1             0                 1   \n",
       "1              0        0           0      34             1                 0   \n",
       "2              0        0           0       2             1                 1   \n",
       "3              0        0           0      45             0                 0   \n",
       "4              0        0           0       2             1                 1   \n",
       "\n",
       "   MonthlyCharges  TotalCharges  Churn  gender_Male  ...  TechSupport_Yes  \\\n",
       "0           29.85         29.85      0        False  ...            False   \n",
       "1           56.95       1889.50      0         True  ...            False   \n",
       "2           53.85        108.15      1         True  ...            False   \n",
       "3           42.30       1840.75      0         True  ...             True   \n",
       "4           70.70        151.65      1        False  ...            False   \n",
       "\n",
       "   StreamingTV_No internet service  StreamingTV_Yes  \\\n",
       "0                            False            False   \n",
       "1                            False            False   \n",
       "2                            False            False   \n",
       "3                            False            False   \n",
       "4                            False            False   \n",
       "\n",
       "   StreamingMovies_No internet service  StreamingMovies_Yes  \\\n",
       "0                                False                False   \n",
       "1                                False                False   \n",
       "2                                False                False   \n",
       "3                                False                False   \n",
       "4                                False                False   \n",
       "\n",
       "   Contract_One year  Contract_Two year  \\\n",
       "0              False              False   \n",
       "1               True              False   \n",
       "2              False              False   \n",
       "3               True              False   \n",
       "4              False              False   \n",
       "\n",
       "   PaymentMethod_Credit card (automatic)  PaymentMethod_Electronic check  \\\n",
       "0                                  False                            True   \n",
       "1                                  False                           False   \n",
       "2                                  False                           False   \n",
       "3                                  False                           False   \n",
       "4                                  False                            True   \n",
       "\n",
       "   PaymentMethod_Mailed check  \n",
       "0                       False  \n",
       "1                        True  \n",
       "2                        True  \n",
       "3                       False  \n",
       "4                       False  \n",
       "\n",
       "[5 rows x 31 columns]"
      ]
     },
     "execution_count": 24,
     "metadata": {},
     "output_type": "execute_result"
    }
   ],
   "source": [
    "df.head()"
   ]
  },
  {
   "cell_type": "markdown",
   "metadata": {
    "id": "2KaCVIsqyldz"
   },
   "source": [
    "## 4) 입력(X), 정답(y) 분리\n",
    "\n",
    "- X : 타겟변수 제외\n",
    "- y : 타겟변수"
   ]
  },
  {
   "cell_type": "code",
   "execution_count": null,
   "metadata": {
    "id": "_Jl2KmmwijJt"
   },
   "outputs": [],
   "source": [
    "# 여기에 코드를 작성해보세요!"
   ]
  },
  {
   "cell_type": "code",
   "execution_count": null,
   "metadata": {
    "id": "03h3kqwKwy8d"
   },
   "outputs": [],
   "source": [
    "X = df.drop('Churn', axis=1)\n",
    "y = df['Churn']"
   ]
  },
  {
   "cell_type": "markdown",
   "metadata": {
    "id": "62stjTJP3iq0"
   },
   "source": [
    "## 5) 입력값의 수치형 변수 정규화\n",
    "\n",
    "수치형 변수의 정규화 : 평균 0, 표준편차 1로 스케일링하여 신경망 학습 성능을 향상시켜보세요."
   ]
  },
  {
   "cell_type": "code",
   "execution_count": null,
   "metadata": {
    "id": "8LFCAyO6ikjj"
   },
   "outputs": [],
   "source": [
    "# 여기에 코드를 작성해보세요!"
   ]
  },
  {
   "cell_type": "code",
   "execution_count": null,
   "metadata": {
    "id": "l5hDrqAXwL6v"
   },
   "outputs": [],
   "source": [
    "from sklearn.model_selection import train_test_split\n",
    "from sklearn.preprocessing import StandardScaler\n",
    "\n",
    "scaler = StandardScaler()\n",
    "X_scaled = scaler.fit_transform(X)"
   ]
  },
  {
   "cell_type": "markdown",
   "metadata": {
    "id": "cH1aZemRkXsU"
   },
   "source": [
    "정규화 결과 형태를 확인해보세요."
   ]
  },
  {
   "cell_type": "code",
   "execution_count": null,
   "metadata": {
    "id": "wPq6BENbiljq"
   },
   "outputs": [],
   "source": [
    "# 여기에 코드를 작성해보세요!"
   ]
  },
  {
   "cell_type": "code",
   "execution_count": null,
   "metadata": {
    "colab": {
     "base_uri": "https://localhost:8080/"
    },
    "id": "9gbzMqCi3s0B",
    "outputId": "8c53f0cc-aecf-492c-e3af-219da5e53b9f"
   },
   "outputs": [
    {
     "data": {
      "text/plain": [
       "((7032, 30),\n",
       " array([-0.44032709,  1.03561683, -0.65230493, -1.28024804, -3.05633383,\n",
       "         0.82893915, -1.16169394, -0.99419409, -1.00943013,  3.05633383,\n",
       "        -0.85433559, -0.88689648, -0.52513044, -0.52513044, -0.63374636,\n",
       "        -0.52513044,  1.37833008, -0.52513044, -0.72391796, -0.52513044,\n",
       "        -0.63926039, -0.52513044, -0.79018582, -0.52513044, -0.79684918,\n",
       "        -0.51453688, -0.56136439, -0.5253508 ,  1.40476387, -0.54360352]))"
      ]
     },
     "execution_count": 75,
     "metadata": {},
     "output_type": "execute_result"
    }
   ],
   "source": [
    "# 정규화 결과 형태 확인\n",
    "X_scaled.shape, X_scaled[0]"
   ]
  },
  {
   "cell_type": "markdown",
   "metadata": {
    "id": "dtpdje6Qv4lN"
   },
   "source": [
    "## 6) 훈련/테스트 데이터 분리\n",
    "\n",
    "먼저 전체 데이터를 학습/테스트셋으로 8:2 비율로 나눕니다.\n",
    "  - `test_size=0.2`: 전체 데이터 중 20%를 테스트셋으로 사용\n",
    "  - `random_state=42`: 데이터 분할의 일관성을 위해 고정된 난수 시드 사용"
   ]
  },
  {
   "cell_type": "code",
   "execution_count": null,
   "metadata": {
    "id": "usbtRvpTFnqt"
   },
   "outputs": [],
   "source": [
    "# 여기에 코드를 작성해보세요!"
   ]
  },
  {
   "cell_type": "code",
   "execution_count": null,
   "metadata": {
    "id": "biZe_XLxiOKw"
   },
   "outputs": [],
   "source": [
    "X_train, X_test, y_train, y_test = train_test_split(\n",
    "    X_scaled, y, test_size=0.2, random_state=42, stratify=y\n",
    ")\n"
   ]
  },
  {
   "cell_type": "markdown",
   "metadata": {
    "id": "BOOdkDREv2kU"
   },
   "source": [
    "# 4. 모델 구조 정의"
   ]
  },
  {
   "cell_type": "markdown",
   "metadata": {
    "id": "tW8IXG7wqEus"
   },
   "source": [
    "### 통신사 고객 이탈 여부 예측 모델 구조는 다음과 같습니다.\n",
    "\n",
    "| 층 (Layer)                | 뉴런 수 | 활성화 함수 | 설명 |\n",
    "|---------------------------|---------|--------------|------|\n",
    "| 입력층 + Dense            | 128     | ReLU         | 입력 특성 정의, 첫 번째 은닉층 정의 |\n",
    "| Dense                    | 64      | ReLU         | 두 번째 은닉층 정의, 추가적인  특성 학습 |\n",
    "| 출력층 (Dense)            | 1       | Sigmoid      | 확률(0~1)을 출력하는 이진 분류용 출력층 |"
   ]
  },
  {
   "cell_type": "markdown",
   "metadata": {
    "id": "5QOakWtk6yxt"
   },
   "source": [
    "- 입력층 + 첫 번째 은닉층 정의하기 : 입력 데이터를 받아 노드 128개로 비선형 변환합니다.  활성화 함수 ReLU는 계산이 빠르고 성능이 좋습니다.   \n",
    "- 두 번째 은닉층 정의하기 : 앞 레이어에서 추출한 특징을 압축/추상화합니다.   \n",
    "- 출력층 (이진 분류 → sigmoid) : 최종 이탈 예측 결과(0~1 확률)로 이진분류용 확률 함수 시그모이드를 지정합니다.\n"
   ]
  },
  {
   "cell_type": "markdown",
   "metadata": {
    "id": "qmTMl7RI547V"
   },
   "source": [
    "고객이 이탈할 확률을 예측하고,\n",
    "그 확률이 일정 기준(보통 0.5) 이상이면 \"이탈\",\n",
    "아니면 \"잔류\"라고 분류합니다.\n",
    "\n",
    "![image.png](data:image/png;base64,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)\n"
   ]
  },
  {
   "cell_type": "markdown",
   "metadata": {
    "id": "SPTcTUI36FsC"
   },
   "source": [
    "시그모이드는 입력값 x가 아무리 작거나 커도 출력값은 0과 1 사이로 나옵니다.\n",
    "\n",
    "- 출력값이 0~1 → “이탈할 확률”로 직관적 해석\n",
    "- 0.5 기준으로 0 or 1 결정 가능\n",
    "- \tbinary_crossentropy와 함께 쓰면 확률 기반 손실 계산 가능"
   ]
  },
  {
   "cell_type": "markdown",
   "metadata": {
    "id": "YQ_FWD7L6W0e"
   },
   "source": [
    "다중 분류 (3개 이상 클래스)라면,   \n",
    "`Dense(class 수, activation='softmax'` 로 설정합니다."
   ]
  },
  {
   "cell_type": "markdown",
   "metadata": {
    "id": "YIoCEtNLktwo"
   },
   "source": [
    "Sequential 모델을 사용하여 이진 분류를 위한 신경망 구조를 정의해보세요.\n",
    "\n",
    "은닉층은 2개로 구성하고, 출력층에는 sigmoid 함수를 사용합니다."
   ]
  },
  {
   "cell_type": "code",
   "execution_count": null,
   "metadata": {
    "id": "iPqaNDOVFoaj"
   },
   "outputs": [],
   "source": [
    "# 여기에 코드를 작성해보세요!"
   ]
  },
  {
   "cell_type": "code",
   "execution_count": null,
   "metadata": {
    "colab": {
     "base_uri": "https://localhost:8080/"
    },
    "id": "UtcY34OciOHW",
    "outputId": "0e776704-fac9-44c9-e276-e65f95468c01"
   },
   "outputs": [
    {
     "name": "stderr",
     "output_type": "stream",
     "text": [
      "/usr/local/lib/python3.11/dist-packages/keras/src/layers/core/dense.py:87: UserWarning: Do not pass an `input_shape`/`input_dim` argument to a layer. When using Sequential models, prefer using an `Input(shape)` object as the first layer in the model instead.\n",
      "  super().__init__(activity_regularizer=activity_regularizer, **kwargs)\n"
     ]
    }
   ],
   "source": [
    "model = Sequential([\n",
    "    # 입력층 → 첫 번째 은닉층\n",
    "    # 노드 128개, 활성화 함수: ReLU\n",
    "    Dense(128, activation='relu', input_shape=(X_train.shape[1],)),\n",
    "\n",
    "    # 두 번째 은닉층: 노드 64개\n",
    "    Dense(64, activation='relu'),\n",
    "\n",
    "    # 출력층: 이진 분류를 위한 sigmoid 함수 사용 (출력값: 0~1 확률)\n",
    "    Dense(1, activation='sigmoid')  # 이진 분류\n",
    "])\n"
   ]
  },
  {
   "cell_type": "markdown",
   "metadata": {
    "id": "N46ZFGJ8yx_c"
   },
   "source": [
    "# 5. 모델 컴파일"
   ]
  },
  {
   "cell_type": "markdown",
   "metadata": {
    "id": "OfDFqpTht44v"
   },
   "source": [
    "모델 학습을 위한 설정을 수행합니다.\n",
    "\n",
    "- 학습 방법(가중치를 어떻게 조정할지) : `optimizer='adam'`\n",
    "- 이진 분류용 손실 함수 지정 : `loss='binary_crossentropy'`\n",
    "- binary_crossentropy : 예측 확률과 실제 라벨(0 또는 1)의 차이를 로그 함수 기반으로 계산\n",
    "- 평가지표 지정 : `metrics=['accuracy']`\n",
    "- accuracy : 전체 샘플 중에서 정확히 예측한 비율을 평가하는 지표."
   ]
  },
  {
   "cell_type": "code",
   "execution_count": null,
   "metadata": {
    "id": "q6mTJhH4Fpin"
   },
   "outputs": [],
   "source": [
    "# 여기에 코드를 작성해보세요!"
   ]
  },
  {
   "cell_type": "code",
   "execution_count": null,
   "metadata": {
    "id": "hPrmdNZNiOD9"
   },
   "outputs": [],
   "source": [
    "model.compile(optimizer='adam',\n",
    "              loss='binary_crossentropy',\n",
    "              metrics=['accuracy'])"
   ]
  },
  {
   "cell_type": "markdown",
   "metadata": {
    "id": "F1yHhA1PzDW7"
   },
   "source": [
    "# 6. 모델 학습"
   ]
  },
  {
   "cell_type": "markdown",
   "metadata": {
    "id": "f66TCxBOui1p"
   },
   "source": [
    "실제 데이터를 이용해 가중치 조정하며, 모델 학습시킵니다.\n",
    "모델 학습 시 조기 종료(EarlyStopping)를 적용하여 과적합을 방지하고, 가장 성능이 좋은 모델만 저장하기 위한 콜백(callback) 함수 설정합니다."
   ]
  },
  {
   "cell_type": "markdown",
   "metadata": {
    "id": "Xr1kW3gruuNA"
   },
   "source": [
    "1) EarlyStopping, ModelCheckpoint 클래스를 가져오세요."
   ]
  },
  {
   "cell_type": "code",
   "execution_count": null,
   "metadata": {
    "id": "UMVh_qgolDR7"
   },
   "outputs": [],
   "source": [
    "# 여기에 코드를 작성해보세요!"
   ]
  },
  {
   "cell_type": "code",
   "execution_count": null,
   "metadata": {
    "id": "LnjXwn5y8ttk"
   },
   "outputs": [],
   "source": [
    "from tensorflow.keras.callbacks import EarlyStopping, ModelCheckpoint"
   ]
  },
  {
   "cell_type": "markdown",
   "metadata": {
    "id": "7U8eI1F68Cu8"
   },
   "source": [
    "2) ModelCheckpoint 콜백을 설정해보세요.\n",
    "- `'model.keras'` : 모델 가중치를 저장할 파일 이름\n",
    "- `monitor='val_loss'` : 검증 손실을 기준으로 가장 작을 때를 저장해서 성능 추적   \n",
    "- `save_best_only=True` :\t검증 손실이 개선된 경우에만 저장\n",
    "- `verbose=1` :\t저장 시마다 안내 메시지 출력 (기록 확인 가능)"
   ]
  },
  {
   "cell_type": "code",
   "execution_count": null,
   "metadata": {
    "id": "W3naNz-elHX1"
   },
   "outputs": [],
   "source": [
    "# 여기에 코드를 작성해보세요!"
   ]
  },
  {
   "cell_type": "code",
   "execution_count": null,
   "metadata": {
    "id": "_lRRWDnP8CHW"
   },
   "outputs": [],
   "source": [
    "checkpoint = ModelCheckpoint(\n",
    "    'model.keras', monitor='val_loss',\n",
    "    save_best_only=True, verbose=1\n",
    ")"
   ]
  },
  {
   "cell_type": "markdown",
   "metadata": {
    "id": "z144Yjx-8Pmk"
   },
   "source": [
    "3) EarlyStopping 콜백을 설정해보세요.\n",
    "\n",
    "- `monitor='val_loss'`:\n",
    "- `patience=10` : 10 에포크 연속으로 개선이 없으면 학습 중단   \n",
    "- `restore_best_weights=True` : 가장 성능이 좋았던 가중치로 복원"
   ]
  },
  {
   "cell_type": "code",
   "execution_count": null,
   "metadata": {
    "id": "e-LyWrB9lkee"
   },
   "outputs": [],
   "source": [
    "# 여기에 코드를 작성해보세요!"
   ]
  },
  {
   "cell_type": "code",
   "execution_count": null,
   "metadata": {
    "id": "iYdMDXq0vNE_"
   },
   "outputs": [],
   "source": [
    "early_stop = EarlyStopping(monitor='val_loss',\n",
    "                           patience=10,\n",
    "                           restore_best_weights=True)"
   ]
  },
  {
   "cell_type": "markdown",
   "metadata": {
    "id": "qd8azm3189Js"
   },
   "source": [
    "4) 콜백을 적용시켜보세요."
   ]
  },
  {
   "cell_type": "markdown",
   "metadata": {
    "id": "FYyzeX6K9JE3"
   },
   "source": [
    "모델을 학습시키는 파라미터로 위에서 정의한 두 콜백을 지정합니다."
   ]
  },
  {
   "cell_type": "markdown",
   "metadata": {
    "id": "VVRWa3kEvNup"
   },
   "source": [
    "### 🛠️ 모델 학습 파라미터 정리\n",
    "\n",
    "| 매개변수              | 설정값        | 설명 |\n",
    "|-----------------------|---------------|------|\n",
    "| `X_train`, `y_train`  | -             | 입력 데이터와 정답 데이터 (훈련용) |\n",
    "| `epochs`              | `100`         | 전체 데이터를 학습할 최대 반복 횟수 |\n",
    "| `batch_size`          | `32`          | 한 번에 학습에 사용하는 데이터 수 (미니배치 크기) |\n",
    "| `validation_split`    | `0.2`         | 훈련 데이터의 20%를 검증용으로 자동 분리 |\n",
    "| `callbacks`           | `[early_stop]`| 조기 종료 기능 적용 (`val_loss`가 개선되지 않으면 중단) |\n",
    "| `callbacks`           | `[checkpoint]`| 가장 좋은 모델 저장(`val_loss`가 가장 작을 때 저장) |\n",
    "| `verbose`             | `1`           | 학습 로그 출력 방식 (1: 진행률 표시) |\n"
   ]
  },
  {
   "cell_type": "code",
   "execution_count": null,
   "metadata": {
    "id": "7kLWzJZTFqxx"
   },
   "outputs": [],
   "source": [
    "# 여기에 코드를 작성해보세요!"
   ]
  },
  {
   "cell_type": "code",
   "execution_count": null,
   "metadata": {
    "colab": {
     "base_uri": "https://localhost:8080/"
    },
    "collapsed": true,
    "id": "r7fc8mKliN6l",
    "outputId": "753a160f-3a6a-4e55-aac2-f23dc17b97c5"
   },
   "outputs": [
    {
     "name": "stdout",
     "output_type": "stream",
     "text": [
      "Epoch 1/100\n",
      "\u001b[1m131/141\u001b[0m \u001b[32m━━━━━━━━━━━━━━━━━━\u001b[0m\u001b[37m━━\u001b[0m \u001b[1m0s\u001b[0m 3ms/step - accuracy: 0.7249 - loss: 0.5159\n",
      "Epoch 1: val_loss improved from inf to 0.40832, saving model to model.keras\n",
      "\u001b[1m141/141\u001b[0m \u001b[32m━━━━━━━━━━━━━━━━━━━━\u001b[0m\u001b[37m\u001b[0m \u001b[1m3s\u001b[0m 6ms/step - accuracy: 0.7286 - loss: 0.5119 - val_accuracy: 0.8036 - val_loss: 0.4083\n",
      "Epoch 2/100\n",
      "\u001b[1m137/141\u001b[0m \u001b[32m━━━━━━━━━━━━━━━━━━━\u001b[0m\u001b[37m━\u001b[0m \u001b[1m0s\u001b[0m 3ms/step - accuracy: 0.8067 - loss: 0.4162\n",
      "Epoch 2: val_loss improved from 0.40832 to 0.40655, saving model to model.keras\n",
      "\u001b[1m141/141\u001b[0m \u001b[32m━━━━━━━━━━━━━━━━━━━━\u001b[0m\u001b[37m\u001b[0m \u001b[1m1s\u001b[0m 4ms/step - accuracy: 0.8065 - loss: 0.4162 - val_accuracy: 0.8107 - val_loss: 0.4065\n",
      "Epoch 3/100\n",
      "\u001b[1m134/141\u001b[0m \u001b[32m━━━━━━━━━━━━━━━━━━━\u001b[0m\u001b[37m━\u001b[0m \u001b[1m0s\u001b[0m 2ms/step - accuracy: 0.8202 - loss: 0.4000\n",
      "Epoch 3: val_loss did not improve from 0.40655\n",
      "\u001b[1m141/141\u001b[0m \u001b[32m━━━━━━━━━━━━━━━━━━━━\u001b[0m\u001b[37m\u001b[0m \u001b[1m1s\u001b[0m 3ms/step - accuracy: 0.8196 - loss: 0.4005 - val_accuracy: 0.8009 - val_loss: 0.4123\n",
      "Epoch 4/100\n",
      "\u001b[1m125/141\u001b[0m \u001b[32m━━━━━━━━━━━━━━━━━\u001b[0m\u001b[37m━━━\u001b[0m \u001b[1m0s\u001b[0m 2ms/step - accuracy: 0.8138 - loss: 0.4022\n",
      "Epoch 4: val_loss did not improve from 0.40655\n",
      "\u001b[1m141/141\u001b[0m \u001b[32m━━━━━━━━━━━━━━━━━━━━\u001b[0m\u001b[37m\u001b[0m \u001b[1m1s\u001b[0m 4ms/step - accuracy: 0.8136 - loss: 0.4023 - val_accuracy: 0.8018 - val_loss: 0.4137\n",
      "Epoch 5/100\n",
      "\u001b[1m139/141\u001b[0m \u001b[32m━━━━━━━━━━━━━━━━━━━\u001b[0m\u001b[37m━\u001b[0m \u001b[1m0s\u001b[0m 3ms/step - accuracy: 0.8309 - loss: 0.3854\n",
      "Epoch 5: val_loss did not improve from 0.40655\n",
      "\u001b[1m141/141\u001b[0m \u001b[32m━━━━━━━━━━━━━━━━━━━━\u001b[0m\u001b[37m\u001b[0m \u001b[1m1s\u001b[0m 4ms/step - accuracy: 0.8306 - loss: 0.3857 - val_accuracy: 0.7991 - val_loss: 0.4136\n",
      "Epoch 6/100\n",
      "\u001b[1m135/141\u001b[0m \u001b[32m━━━━━━━━━━━━━━━━━━━\u001b[0m\u001b[37m━\u001b[0m \u001b[1m0s\u001b[0m 2ms/step - accuracy: 0.8297 - loss: 0.3834\n",
      "Epoch 6: val_loss did not improve from 0.40655\n",
      "\u001b[1m141/141\u001b[0m \u001b[32m━━━━━━━━━━━━━━━━━━━━\u001b[0m\u001b[37m\u001b[0m \u001b[1m1s\u001b[0m 3ms/step - accuracy: 0.8294 - loss: 0.3838 - val_accuracy: 0.7929 - val_loss: 0.4214\n",
      "Epoch 7/100\n",
      "\u001b[1m139/141\u001b[0m \u001b[32m━━━━━━━━━━━━━━━━━━━\u001b[0m\u001b[37m━\u001b[0m \u001b[1m0s\u001b[0m 2ms/step - accuracy: 0.8257 - loss: 0.3826\n",
      "Epoch 7: val_loss did not improve from 0.40655\n",
      "\u001b[1m141/141\u001b[0m \u001b[32m━━━━━━━━━━━━━━━━━━━━\u001b[0m\u001b[37m\u001b[0m \u001b[1m1s\u001b[0m 3ms/step - accuracy: 0.8255 - loss: 0.3827 - val_accuracy: 0.7733 - val_loss: 0.4334\n",
      "Epoch 8/100\n",
      "\u001b[1m139/141\u001b[0m \u001b[32m━━━━━━━━━━━━━━━━━━━\u001b[0m\u001b[37m━\u001b[0m \u001b[1m0s\u001b[0m 3ms/step - accuracy: 0.8284 - loss: 0.3833\n",
      "Epoch 8: val_loss did not improve from 0.40655\n",
      "\u001b[1m141/141\u001b[0m \u001b[32m━━━━━━━━━━━━━━━━━━━━\u001b[0m\u001b[37m\u001b[0m \u001b[1m1s\u001b[0m 4ms/step - accuracy: 0.8283 - loss: 0.3834 - val_accuracy: 0.7920 - val_loss: 0.4281\n",
      "Epoch 9/100\n",
      "\u001b[1m137/141\u001b[0m \u001b[32m━━━━━━━━━━━━━━━━━━━\u001b[0m\u001b[37m━\u001b[0m \u001b[1m0s\u001b[0m 3ms/step - accuracy: 0.8280 - loss: 0.3735\n",
      "Epoch 9: val_loss did not improve from 0.40655\n",
      "\u001b[1m141/141\u001b[0m \u001b[32m━━━━━━━━━━━━━━━━━━━━\u001b[0m\u001b[37m\u001b[0m \u001b[1m1s\u001b[0m 4ms/step - accuracy: 0.8278 - loss: 0.3738 - val_accuracy: 0.7893 - val_loss: 0.4257\n",
      "Epoch 10/100\n",
      "\u001b[1m120/141\u001b[0m \u001b[32m━━━━━━━━━━━━━━━━━\u001b[0m\u001b[37m━━━\u001b[0m \u001b[1m0s\u001b[0m 2ms/step - accuracy: 0.8391 - loss: 0.3626\n",
      "Epoch 10: val_loss did not improve from 0.40655\n",
      "\u001b[1m141/141\u001b[0m \u001b[32m━━━━━━━━━━━━━━━━━━━━\u001b[0m\u001b[37m\u001b[0m \u001b[1m0s\u001b[0m 3ms/step - accuracy: 0.8377 - loss: 0.3641 - val_accuracy: 0.7867 - val_loss: 0.4283\n",
      "Epoch 11/100\n",
      "\u001b[1m137/141\u001b[0m \u001b[32m━━━━━━━━━━━━━━━━━━━\u001b[0m\u001b[37m━\u001b[0m \u001b[1m0s\u001b[0m 2ms/step - accuracy: 0.8259 - loss: 0.3768\n",
      "Epoch 11: val_loss did not improve from 0.40655\n",
      "\u001b[1m141/141\u001b[0m \u001b[32m━━━━━━━━━━━━━━━━━━━━\u001b[0m\u001b[37m\u001b[0m \u001b[1m1s\u001b[0m 3ms/step - accuracy: 0.8261 - loss: 0.3766 - val_accuracy: 0.7964 - val_loss: 0.4302\n",
      "Epoch 12/100\n",
      "\u001b[1m133/141\u001b[0m \u001b[32m━━━━━━━━━━━━━━━━━━\u001b[0m\u001b[37m━━\u001b[0m \u001b[1m0s\u001b[0m 2ms/step - accuracy: 0.8347 - loss: 0.3684\n",
      "Epoch 12: val_loss did not improve from 0.40655\n",
      "\u001b[1m141/141\u001b[0m \u001b[32m━━━━━━━━━━━━━━━━━━━━\u001b[0m\u001b[37m\u001b[0m \u001b[1m0s\u001b[0m 3ms/step - accuracy: 0.8345 - loss: 0.3683 - val_accuracy: 0.7769 - val_loss: 0.4359\n"
     ]
    }
   ],
   "source": [
    "history = model.fit(\n",
    "    X_train, y_train,\n",
    "    epochs=100,\n",
    "    batch_size=32,\n",
    "    validation_split=0.2,\n",
    "    callbacks=[early_stop, checkpoint],\n",
    "    verbose=1\n",
    ")"
   ]
  },
  {
   "cell_type": "markdown",
   "metadata": {
    "id": "HGfhhFk59djw"
   },
   "source": [
    "<모델 학습 로그의 해석 예시>\n",
    "\n",
    "- Epoch 1~2 :\tval_loss가 계속 감소 → 모델이 점점 잘 학습됨\n",
    "- Epoch 3 이후 :val_loss가 더 이상 개선되지 않음 → 과적합 조짐 시작\n",
    "- Epoch 12까지 진행\t: patience=10 설정 덕분에 총 10번 참음 (Epoch 2 이후 10번 실패) → 다음 Epoch 13에서 학습 자동 중단 예정\n"
   ]
  },
  {
   "cell_type": "markdown",
   "metadata": {
    "id": "98635WHo9yrU"
   },
   "source": [
    "<모델 체크포인트 지점 요약 예시>\n",
    "- Epoch1 : `val_loss improved from inf to 0.41535` → 가장 첫 val_loss이 저장됨\n",
    "- Epoch2 : `val_loss improved from 0.41535 to 0.41013` → 가장 낮은 검증 손실 → 모델 저장됨 (model.h5)\n",
    "- Epoch 3~12 : `val_loss did not improve from 0.41013` → 모델이 더 이상 일반화 성능을 향상시키지 못함 → 과적합 시작\n",
    "\n",
    "\n"
   ]
  },
  {
   "cell_type": "markdown",
   "metadata": {
    "id": "SBtvsD68zLwO"
   },
   "source": [
    "# 7. 모델 평가"
   ]
  },
  {
   "cell_type": "markdown",
   "metadata": {
    "id": "IfPij6WkJ2O_"
   },
   "source": [
    "model.evaluate(): 학습된 모델에 대해 테스트셋 성능을 평가합니다.\n",
    "\n",
    "- X_test: 입력 데이터\n",
    "- y_test: 실제 정답 라벨\n",
    "\n",
    "평가지표 : 정확도 acc"
   ]
  },
  {
   "cell_type": "code",
   "execution_count": null,
   "metadata": {
    "id": "V3v5U8vfFrq-"
   },
   "outputs": [],
   "source": [
    "# 여기에 코드를 작성해보세요!"
   ]
  },
  {
   "cell_type": "code",
   "execution_count": null,
   "metadata": {
    "colab": {
     "base_uri": "https://localhost:8080/"
    },
    "id": "pSUBiEkAjwPZ",
    "outputId": "3b14f81f-8c74-452d-bc6d-b319628e1d47"
   },
   "outputs": [
    {
     "name": "stdout",
     "output_type": "stream",
     "text": [
      "\u001b[1m44/44\u001b[0m \u001b[32m━━━━━━━━━━━━━━━━━━━━\u001b[0m\u001b[37m\u001b[0m \u001b[1m0s\u001b[0m 3ms/step - accuracy: 0.7965 - loss: 0.4259\n",
      "Test Accuracy: 80.38%\n"
     ]
    }
   ],
   "source": [
    "loss, acc = model.evaluate(X_test, y_test)\n",
    "print(f\"Test Accuracy: {acc:.2%}\")"
   ]
  },
  {
   "cell_type": "markdown",
   "metadata": {
    "id": "QLdDK27BzPFW"
   },
   "source": [
    "# 8. 예측 수행"
   ]
  },
  {
   "cell_type": "markdown",
   "metadata": {
    "id": "7BYv9osw-9YI"
   },
   "source": [
    "저장된 최적 이진 분류 모델 불러옵니다."
   ]
  },
  {
   "cell_type": "code",
   "execution_count": null,
   "metadata": {
    "id": "m-Lo2-iglxpS"
   },
   "outputs": [],
   "source": [
    "# 여기에 코드를 작성해보세요!"
   ]
  },
  {
   "cell_type": "code",
   "execution_count": null,
   "metadata": {
    "id": "nEzhVJrZ--yf"
   },
   "outputs": [],
   "source": [
    "from tensorflow.keras.models import load_model\n",
    "model = load_model('model.keras')"
   ]
  },
  {
   "cell_type": "markdown",
   "metadata": {
    "id": "LFjiBOkXKP1F"
   },
   "source": [
    "테스트 입력 데이터에 대해 예측 수행합니다.\n",
    "- `model.predict(X_test)` : 테스트셋에 대한 예측 (확률 값 반환)\n",
    "- 확률값을 기준으로 이진 분류 : 0.5보다 크면 클래스 1 (이탈), 작으면 0 (비이탈)"
   ]
  },
  {
   "cell_type": "code",
   "execution_count": null,
   "metadata": {
    "id": "t9pa5bG7lyM9"
   },
   "outputs": [],
   "source": [
    "# 여기에 코드를 작성해보세요!"
   ]
  },
  {
   "cell_type": "code",
   "execution_count": null,
   "metadata": {
    "colab": {
     "base_uri": "https://localhost:8080/"
    },
    "id": "sZgkT9rCFsp5",
    "outputId": "f9ed8e0f-8cc3-4989-91b9-35503c079ea4"
   },
   "outputs": [
    {
     "name": "stdout",
     "output_type": "stream",
     "text": [
      "\u001b[1m44/44\u001b[0m \u001b[32m━━━━━━━━━━━━━━━━━━━━\u001b[0m\u001b[37m\u001b[0m \u001b[1m0s\u001b[0m 3ms/step\n"
     ]
    }
   ],
   "source": [
    "from sklearn.metrics import classification_report, confusion_matrix\n",
    "\n",
    "y_pred_prob = model.predict(X_test)\n",
    "y_pred = (y_pred_prob > 0.5).astype(int)"
   ]
  },
  {
   "cell_type": "markdown",
   "metadata": {
    "id": "1r0JQGqw_a0k"
   },
   "source": [
    "혼동 행렬을 생성해보세요.\n",
    "\n",
    "- Confusion_matrix: 예측 결과를 분류별로 정리한 혼동 행렬을 생성\n",
    "- classification_report: 분류 성능 리포트 - 정밀도(Precision), 재현율(Recall), F1-score 등을 출력"
   ]
  },
  {
   "cell_type": "code",
   "execution_count": null,
   "metadata": {
    "id": "ES2-4YIolzP8"
   },
   "outputs": [],
   "source": [
    "# 여기에 코드를 작성해보세요!"
   ]
  },
  {
   "cell_type": "code",
   "execution_count": null,
   "metadata": {
    "colab": {
     "base_uri": "https://localhost:8080/"
    },
    "id": "YtE9d3YF_2ol",
    "outputId": "c3ba92fa-0859-4e14-e0e7-b56c786fe7ef"
   },
   "outputs": [
    {
     "name": "stdout",
     "output_type": "stream",
     "text": [
      "[[954  79]\n",
      " [219 155]]\n"
     ]
    }
   ],
   "source": [
    "#혼동 행렬\n",
    "print(confusion_matrix(y_test, y_pred))"
   ]
  },
  {
   "cell_type": "markdown",
   "metadata": {
    "id": "kFposjvYAYdb"
   },
   "source": [
    "<혼동행렬 해석 예시>\n"
   ]
  },
  {
   "cell_type": "markdown",
   "metadata": {
    "id": "3cbj4qsGAZnZ"
   },
   "source": [
    "- **TN (True Negative)**: 잔류 고객을 정확히 잔류로 예측 → `954건`\n",
    "- **FP (False Positive)**: 잔류 고객을 이탈로 잘못 예측 → `79건`\n",
    "- **FN (False Negative)**: 이탈 고객을 잔류로 잘못 예측 → `219건`\n",
    "- **TP (True Positive)**: 이탈 고객을 정확히 이탈로 예측 → `155건`"
   ]
  },
  {
   "cell_type": "markdown",
   "metadata": {
    "id": "zbD4m9namPak"
   },
   "source": [
    "분류 성능 리포트를 생성해보세요."
   ]
  },
  {
   "cell_type": "code",
   "execution_count": null,
   "metadata": {
    "id": "cEb4bm9vmSIo"
   },
   "outputs": [],
   "source": [
    "# 여기에 코드를 작성해보세요!"
   ]
  },
  {
   "cell_type": "code",
   "execution_count": null,
   "metadata": {
    "colab": {
     "base_uri": "https://localhost:8080/"
    },
    "id": "fVULCZr1iqQ6",
    "outputId": "e8f2f192-9d8e-419d-bff3-7b6dd8718f1b"
   },
   "outputs": [
    {
     "name": "stdout",
     "output_type": "stream",
     "text": [
      "              precision    recall  f1-score   support\n",
      "\n",
      "           0       0.81      0.92      0.86      1033\n",
      "           1       0.66      0.41      0.51       374\n",
      "\n",
      "    accuracy                           0.79      1407\n",
      "   macro avg       0.74      0.67      0.69      1407\n",
      "weighted avg       0.77      0.79      0.77      1407\n",
      "\n"
     ]
    }
   ],
   "source": [
    "#분류 성능 리포트\n",
    "print(classification_report(y_test, y_pred))\n"
   ]
  },
  {
   "cell_type": "markdown",
   "metadata": {
    "id": "HGOzOPEFzqj8"
   },
   "source": [
    "- 전체 정확도(Accuracy)는 약 **79%**  \n",
    "- **정밀도(Precision)**: 이탈(1)이라고 예측한 것 중 실제 이탈 비율은 **66%**  \n",
    "- **재현율(Recall)**: 실제 이탈자(1) 중 모델이 맞춘 비율은 **41%**  \n",
    "- **F1-score**는 이탈자 예측에서 약 **51%** 수준입니다."
   ]
  },
  {
   "cell_type": "markdown",
   "metadata": {
    "id": "Vt3Zs0KCzoj_"
   },
   "source": [
    "# 9. 시각화"
   ]
  },
  {
   "cell_type": "markdown",
   "metadata": {
    "id": "9SWI17jfEBCQ"
   },
   "source": [
    "딥러닝 모델 학습 후, model.fit() 함수가 반환한 History 객체 안에 어떤 학습 지표들이 저장되어 있는지를 확인해 봅니다.\n",
    "\n",
    "- `history.history`는 딕셔너리 형태로, 각 key에 대해 epoch별 값이 리스트로 저장됩니다.  \n",
    "예: `history.history['loss']` → `[0.45, 0.39, 0.36, ...]`\n",
    "- 손실 곡선, 정확도 곡선 등으로 시각화, 성능 추적에 필요합니다."
   ]
  },
  {
   "cell_type": "markdown",
   "metadata": {
    "id": "JUfe-ZOJEgTE"
   },
   "source": [
    "| Key 이름        | 의미                     | 설명 |\n",
    "|------------------|--------------------------|------|\n",
    "| `loss`           | 훈련 손실 값              | 각 epoch마다 훈련셋에서 계산된 손실 (예: binary_crossentropy) |\n",
    "| `accuracy`       | 훈련 정확도               | 훈련셋에서 모델이 얼마나 정확하게 분류했는지를 측정 |\n",
    "| `val_loss`       | 검증 손실 값              | 검증셋(validation set)에서의 손실. 과적합 여부 판단에 사용 |\n",
    "| `val_accuracy`   | 검증 정확도               | 검증셋에서의 분류 정확도. 모델의 일반화 성능을 판단하는 데 사용 |\n"
   ]
  },
  {
   "cell_type": "code",
   "execution_count": null,
   "metadata": {
    "id": "0IdpHkvPFt1P"
   },
   "outputs": [],
   "source": [
    "# 여기에 코드를 작성해보세요!"
   ]
  },
  {
   "cell_type": "code",
   "execution_count": null,
   "metadata": {
    "colab": {
     "base_uri": "https://localhost:8080/"
    },
    "id": "OWxteRcyrC_D",
    "outputId": "3d693333-33e4-4c45-9edd-b6a8751ea8a1"
   },
   "outputs": [
    {
     "name": "stdout",
     "output_type": "stream",
     "text": [
      "dict_keys(['accuracy', 'loss', 'val_accuracy', 'val_loss'])\n"
     ]
    }
   ],
   "source": [
    "#history.history에 어떤 키가 있는지 확인하기\n",
    "print(history.history.keys())"
   ]
  },
  {
   "cell_type": "markdown",
   "metadata": {
    "id": "jyq7WdPxE8f8"
   },
   "source": [
    "1) 손실 곡선(Loss Curve) 시각화\n",
    "\n",
    "손실 곡선은 딥러닝 모델이 학습 도중 얼마나 오차를 줄였는지를 보여주는 그래프입니다."
   ]
  },
  {
   "cell_type": "markdown",
   "metadata": {
    "id": "xfuhdF3fzt7P"
   },
   "source": [
    "- history.history['loss']\t: 에포크(epoch)별 훈련 손실값 (Binary Crossentropy 기준)\n",
    "- history.history['val_loss']\t: 에포크별 검증 손실값"
   ]
  },
  {
   "cell_type": "markdown",
   "metadata": {
    "id": "zUMQb6tSFY9i"
   },
   "source": [
    "잘 학습된 곡선의 경우, 초기에는 손실이 높고, 점점 감소하는 양상을 보입니다.\n",
    "- Train Loss와 Val Loss가 비슷한 수준에서 함께 낮아집니다.\n",
    "→ 일반화(Generalization)가 잘 된 모델\n",
    "\n",
    "과적합 신호   \n",
    "- Train Loss는 계속 감소하는데 Val Loss가 증가하거나 평평해지면 과적합 시작\n",
    "- 이런 경우 EarlyStopping 또는 Dropout 등의 기술 적용 필요합니다."
   ]
  },
  {
   "cell_type": "code",
   "execution_count": null,
   "metadata": {
    "id": "d7vTFDBuFuft"
   },
   "outputs": [],
   "source": [
    "# 여기에 코드를 작성해보세요!"
   ]
  },
  {
   "cell_type": "code",
   "execution_count": null,
   "metadata": {
    "colab": {
     "base_uri": "https://localhost:8080/",
     "height": 492
    },
    "id": "2f1kUikKilQU",
    "outputId": "64d20afb-088d-4fd2-c518-0c867af84518"
   },
   "outputs": [
    {
     "data": {
      "text/plain": [
       "<matplotlib.legend.Legend at 0x7dd2a6d83a10>"
      ]
     },
     "execution_count": 86,
     "metadata": {},
     "output_type": "execute_result"
    },
    {
     "data": {
      "image/png": "[encoded data removed]",
      "text/plain": [
       "<Figure size 640x480 with 1 Axes>"
      ]
     },
     "metadata": {},
     "output_type": "display_data"
    }
   ],
   "source": [
    "#손실 곡선 시각화\n",
    "import matplotlib.pyplot as plt\n",
    "\n",
    "plt.plot(history.history['loss'], label='Train Loss')\n",
    "plt.plot(history.history['val_loss'], label='Val Loss')\n",
    "plt.title('Loss Curve')\n",
    "plt.xlabel('Epochs')\n",
    "plt.ylabel('Binary Crossentropy')\n",
    "plt.legend()"
   ]
  },
  {
   "cell_type": "markdown",
   "metadata": {
    "id": "4Due4GM0jPFw"
   },
   "source": [
    "- 훈련 손실(Train Loss)은 계속 감소하는 반면, 검증 손실(Val Loss)은 중간부터 다시 증가하고 있는 양상을 보입니다.   \n",
    "- 이것은 딥러닝 학습에서 매우 전형적인 오버피팅의 신호입니다."
   ]
  },
  {
   "cell_type": "markdown",
   "metadata": {
    "id": "Bc3myqYwF0ct"
   },
   "source": [
    "2) 정확도 곡선 시각화\n",
    "\n",
    "딥러닝 모델이 훈련 도중 **얼마나 정확하게 예측했는지**를 시각적으로 보여줍니다.  \n",
    "- 학습셋(`accuracy`)과 검증셋(`val_accuracy`)의 정확도 변화를 비교합니다.\n",
    "- **일반화 성능과 과적합 여부를 확인**할 수 있습니다.\n",
    "\n"
   ]
  },
  {
   "cell_type": "markdown",
   "metadata": {
    "id": "Vx47gH80sR0y"
   },
   "source": [
    "- history.history['accuracy'] : 에포크별 훈련 정확도 기록\n",
    "- history.history['val_accuracy'] :\t에포크별 검증 정확도 기록"
   ]
  },
  {
   "cell_type": "markdown",
   "metadata": {
    "id": "DX7SAL7yGMN1"
   },
   "source": [
    "잘 학습된 모델의 특징\n",
    "- 초기엔 정확도가 낮다가 점점 상승\n",
    "- Train Accuracy와 Val Accuracy가 나란히 증가\n",
    "→ 모델이 학습 데이터를 잘 따라가면서도, 검증 데이터에 대한 일반화 성능도 좋음\n",
    "\n",
    "과적합 신호\n",
    "- Train Accuracy는 증가하지만 Val Accuracy가 일정 수준 이후 정체 또는 하락\n",
    "- EarlyStopping, Dropout, 정규화 등의 기술로 일반화 성능을 높이는 것이 필요"
   ]
  },
  {
   "cell_type": "code",
   "execution_count": null,
   "metadata": {
    "id": "nGxBFvDpS5gA"
   },
   "outputs": [],
   "source": [
    "# 여기에 코드를 작성해보세요!"
   ]
  },
  {
   "cell_type": "code",
   "execution_count": null,
   "metadata": {
    "colab": {
     "base_uri": "https://localhost:8080/",
     "height": 492
    },
    "id": "r2jQbBGfqgb9",
    "outputId": "3cbff8a6-c358-42ba-b614-7ff58702df70"
   },
   "outputs": [
    {
     "data": {
      "text/plain": [
       "<matplotlib.legend.Legend at 0x7dd2a6ddf490>"
      ]
     },
     "execution_count": 87,
     "metadata": {},
     "output_type": "execute_result"
    },
    {
     "data": {
      "image/png": "[encoded data removed]",
      "text/plain": [
       "<Figure size 640x480 with 1 Axes>"
      ]
     },
     "metadata": {},
     "output_type": "display_data"
    }
   ],
   "source": [
    "import matplotlib.pyplot as plt\n",
    "\n",
    "plt.plot(history.history['accuracy'], label='Accuracy')\n",
    "plt.plot(history.history['val_accuracy'], label='Val Accuracy')\n",
    "plt.title('Model Accuracy')\n",
    "plt.xlabel('Epochs')\n",
    "plt.ylabel('Accuracy')\n",
    "plt.legend(['Train', 'Validation'], loc='lower right')\n"
   ]
  },
  {
   "cell_type": "markdown",
   "metadata": {
    "id": "Klye3lYwHWH-"
   },
   "source": [
    "- 초기에는 훈련과 검증 모두 상승\n",
    "- 약 2 epoch 이후부터 훈련 정확도는 계속 상승하지만, 검증 정확도는 거의 일정하거나 오히려 감소하는 모습을 보입니다.\n",
    "- 새로운 데이터에 대한 일반화 성능은 떨어지고 있음을 의미합니다"
   ]
  },
  {
   "cell_type": "markdown",
   "metadata": {
    "id": "adjGG2w8r1sV"
   },
   "source": [
    "# 10. 모델의 성능 개선"
   ]
  },
  {
   "cell_type": "markdown",
   "metadata": {
    "id": "unngdNSwCzvn"
   },
   "source": [
    "재현율의 개선 방법 : threshold 조정, class_weight, 모델 구조 개선 등이 있습니다.   \n",
    "오버피팅 해소 방법 : 일반화 성능 개선을 위해 EarlyStopping, Dropout, 정규화 등을 적용합니다."
   ]
  },
  {
   "cell_type": "markdown",
   "metadata": {
    "id": "_IjHkpdjBkbH"
   },
   "source": [
    "참고1) 예측 임계값(Threshold) 조정\n",
    "\n",
    "모델은 기본적으로 **0.5**를 기준으로 예측 확률을 0 또는 1로 나눕니다.\n",
    "이 기준을 낮추면(예: 0.4),\n",
    "- **더 많은 데이터를 이탈(1)로 예측**하게 되어  \n",
    "**재현율(Recall)이 증가**할 수 있습니다.\n",
    "- 임계값을 너무 낮추면 False Positive가 증가 → 정밀도(precision) 하락할 수 있습니다.\n",
    "\n"
   ]
  },
  {
   "cell_type": "markdown",
   "metadata": {
    "id": "lw1K7dUiBzIY"
   },
   "source": [
    "참고2) class_weight 사용 (이탈 클래스 가중치 부여)   \n",
    "학습 데이터에서 이탈(1)이 적은 불균형 데이터인 경우,  **모델은 잔류(0)를 더 많이 예측하려는 경향**이 있습니다.\n",
    "\n",
    "- 이탈 클래스에 **더 높은 가중치**를 주면,  모델이 **이탈자를 더 중요하게 학습**하게 됩니다.\n",
    "- `model.fit(class_weight={0: 1.0, 1: 2.5}`),  # 클래스 1(이탈)의 가중치 ↑\n",
    "- 가중치를 너무 높이면 FP 증가 → 비이탈을 이탈로 잘못 예측할 수 있습니다."
   ]
  },
  {
   "cell_type": "markdown",
   "metadata": {
    "id": "ZPkOg5JQCklQ"
   },
   "source": [
    "참고3) 모델 구조 개선 (복잡도와 일반화 향상)\n",
    "\n",
    "현재 모델이 이탈자를 잘 잡지 못하는 이유 중 하나는  **학습 표현력 부족**, 또는 **과적합으로 인한 일반화 실패**일 수 있습니다.\n",
    "\n",
    "- **Dropout**: 과적합 방지\n",
    "- **BatchNormalization**: 학습 안정화\n",
    "- **Layer 추가**: 더 깊은 표현력 확보\n",
    "- 구조가 너무 복잡하면 오히려 학습이 어려워질 수 있으므로 성능 확인 후 점진적으로 조정"
   ]
  },
  {
   "cell_type": "markdown",
   "metadata": {
    "id": "r91t54vdGxmZ"
   },
   "source": [
    "참고4)"
   ]
  },
  {
   "cell_type": "markdown",
   "metadata": {
    "id": "W036geZelp_q"
   },
   "source": [
    "모델의 오버피팅을 해소하기 위해 이번 예제에서는 모델의 구조 개선을 실습합니다.\n",
    "\n",
    "개선 모델에는 Dropout, 정규화, 배치정규화, 최적화된 모델의 자동 저장 기능을 통합하여 적용합니다.\n",
    "- L2 정규화\t가중치가 너무 커지지 않도록 제한 → 모델 단순화\n",
    "- BatchNormalization\t입력 분포 안정화 → 과적합 방지 + 빠른 학습\n",
    "- Dropout\t무작위 노드 비활성화 → 학습 다양화"
   ]
  },
  {
   "cell_type": "code",
   "execution_count": null,
   "metadata": {
    "id": "JmxgUfKwSzTJ"
   },
   "outputs": [],
   "source": [
    "# 여기에 코드를 작성해보세요!"
   ]
  },
  {
   "cell_type": "code",
   "execution_count": null,
   "metadata": {
    "id": "6QZDSjYITNBv"
   },
   "outputs": [],
   "source": [
    "#성능개선을 위한 클래스 가져오기\n",
    "from tensorflow.keras.layers import Dense, Dropout, BatchNormalization\n",
    "from tensorflow.keras.regularizers import l2\n",
    "from tensorflow.keras.callbacks import EarlyStopping, ModelCheckpoint"
   ]
  },
  {
   "cell_type": "markdown",
   "metadata": {
    "id": "XbRE5F1xTwo9"
   },
   "source": [
    "**다음과 같이 모델을 구성해보세요.**\n",
    "\n",
    "### 모델 구조 개선\n",
    "\n",
    "| 층 (Layer)                | 뉴런 수 | 활성화 함수 | 설명 |\n",
    "|---------------------------|---------|--------------|------|\n",
    "| 입력층 + Dense            | 128     | ReLU         | 입력 특성 정의, 첫 번째 은닉층 정의, L2정규화를 통해 복잡도 감소  |\n",
    "| BatchNormalization        | -       | -            | 은닉층 출력값을 정규화하여 학습 안정화 및 속도 향상 |\n",
    "| Dropout                  | -       | -            | 50%의 뉴런을 무작위로 제거하여 과적합 방지 |\n",
    "| Dense                    | 64      | ReLU         | 두 번째 은닉층 정의, 추가적인  특성 학습, L2정규화를 통해 복잡도 감소 |\n",
    "| Dropout                  | -       | -            | 30%의 뉴런 드롭아웃 적용 |\n",
    "| 출력층 (Dense)            | 1       | Sigmoid      | 확률(0~1)을 출력하는 이진 분류용 출력층 |"
   ]
  },
  {
   "cell_type": "code",
   "execution_count": null,
   "metadata": {
    "id": "RXc_vCJkTlDF"
   },
   "outputs": [],
   "source": [
    "# 여기에 코드를 작성해보세요!"
   ]
  },
  {
   "cell_type": "code",
   "execution_count": null,
   "metadata": {
    "colab": {
     "base_uri": "https://localhost:8080/"
    },
    "id": "rfqvgN4dTRgk",
    "outputId": "7561431b-0cc4-458b-bdf5-fd2dcf3ba361"
   },
   "outputs": [
    {
     "name": "stderr",
     "output_type": "stream",
     "text": [
      "/usr/local/lib/python3.11/dist-packages/keras/src/layers/core/dense.py:87: UserWarning: Do not pass an `input_shape`/`input_dim` argument to a layer. When using Sequential models, prefer using an `Input(shape)` object as the first layer in the model instead.\n",
      "  super().__init__(activity_regularizer=activity_regularizer, **kwargs)\n"
     ]
    }
   ],
   "source": [
    "# 1. 모델 구성\n",
    "model = Sequential([\n",
    "    Dense(128, activation='relu', input_shape=(X_train.shape[1],), kernel_regularizer=l2(0.001)),\n",
    "    BatchNormalization(),\n",
    "    Dropout(0.5),\n",
    "    Dense(64, activation='relu', kernel_regularizer=l2(0.001)),\n",
    "    Dropout(0.3),\n",
    "    Dense(1, activation='sigmoid')\n",
    "])"
   ]
  },
  {
   "cell_type": "code",
   "execution_count": null,
   "metadata": {
    "id": "xArGlsvZTlqT"
   },
   "outputs": [],
   "source": [
    "# 여기에 코드를 작성해보세요!"
   ]
  },
  {
   "cell_type": "code",
   "execution_count": null,
   "metadata": {
    "id": "nk_7qDcwTZw1"
   },
   "outputs": [],
   "source": [
    "# 2. 컴파일\n",
    "model.compile(optimizer='adam', loss='binary_crossentropy', metrics=['accuracy'])"
   ]
  },
  {
   "cell_type": "markdown",
   "metadata": {
    "id": "FTy1mxAsUUx_"
   },
   "source": [
    "**다음과 같이 진행해보세요.**\n",
    "\n",
    "콜백 설정 (EarlyStopping + 최적 모델 저장)\n",
    "\n",
    "EarlyStopping: 검증 손실(val_loss)이 5번 연속 좋아지지 않으면 학습 자동 중단\n",
    "\n",
    " - restore_best_weights=True → 가장 성능 좋았던 시점의 가중치로 복원\n",
    "\n",
    "ModelCheckpoint: 학습 중 검증 손실이 가장 낮았을 때의 모델만 저장\n",
    "\n",
    " - 'best_model.keras'로 저장됨"
   ]
  },
  {
   "cell_type": "code",
   "execution_count": null,
   "metadata": {
    "id": "fgxdBRKxTmLF"
   },
   "outputs": [],
   "source": [
    "# 여기에 코드를 작성해보세요!"
   ]
  },
  {
   "cell_type": "code",
   "execution_count": null,
   "metadata": {
    "id": "0Yk6ep4hTdd6"
   },
   "outputs": [],
   "source": [
    "# 3. 콜백 설정 (EarlyStopping + 최적 모델 저장)\n",
    "early_stop = EarlyStopping(monitor='val_loss',\n",
    "                           patience=5, restore_best_weights=True)\n",
    "checkpoint = ModelCheckpoint(\n",
    "    'best_model.keras', monitor='val_loss', save_best_only=True, verbose=1\n",
    ")"
   ]
  },
  {
   "cell_type": "markdown",
   "metadata": {
    "id": "V-kLG_7bU-J8"
   },
   "source": [
    "## 모델 학습\n",
    "**다음과 같이 모델 학습을 시작해보세요.**\n",
    "\n",
    "- validation_split=0.2: 학습 데이터의 20%를 검증용으로 사용\n",
    "- epochs=100: 최대 반복 횟수 (EarlyStopping으로 조기 종료될 수 있음)\n",
    "- batch_size=32: 한 번에 학습할 데이터 샘플 수\n",
    "- callbacks: EarlyStopping, ModelCheckpoint 기능 적용\n",
    "- verbose=1: 학습 진행 상황 출력"
   ]
  },
  {
   "cell_type": "code",
   "execution_count": null,
   "metadata": {
    "id": "RXnYbM1UTm7w"
   },
   "outputs": [],
   "source": [
    "# 여기에 코드를 작성해보세요!"
   ]
  },
  {
   "cell_type": "code",
   "execution_count": null,
   "metadata": {
    "colab": {
     "base_uri": "https://localhost:8080/"
    },
    "collapsed": true,
    "id": "fKFlzdPGjZK9",
    "outputId": "4bc49332-44c6-4179-a5aa-5b2991d0f7be"
   },
   "outputs": [
    {
     "name": "stdout",
     "output_type": "stream",
     "text": [
      "Epoch 1/100\n",
      "\u001b[1m129/141\u001b[0m \u001b[32m━━━━━━━━━━━━━━━━━━\u001b[0m\u001b[37m━━\u001b[0m \u001b[1m0s\u001b[0m 3ms/step - accuracy: 0.6105 - loss: 0.8969\n",
      "Epoch 1: val_loss improved from inf to 0.55239, saving model to best_model.keras\n",
      "\u001b[1m141/141\u001b[0m \u001b[32m━━━━━━━━━━━━━━━━━━━━\u001b[0m\u001b[37m\u001b[0m \u001b[1m5s\u001b[0m 7ms/step - accuracy: 0.6186 - loss: 0.8834 - val_accuracy: 0.7938 - val_loss: 0.5524\n",
      "Epoch 2/100\n",
      "\u001b[1m141/141\u001b[0m \u001b[32m━━━━━━━━━━━━━━━━━━━━\u001b[0m\u001b[37m\u001b[0m \u001b[1m0s\u001b[0m 4ms/step - accuracy: 0.7667 - loss: 0.6232\n",
      "Epoch 2: val_loss improved from 0.55239 to 0.53811, saving model to best_model.keras\n",
      "\u001b[1m141/141\u001b[0m \u001b[32m━━━━━━━━━━━━━━━━━━━━\u001b[0m\u001b[37m\u001b[0m \u001b[1m1s\u001b[0m 6ms/step - accuracy: 0.7666 - loss: 0.6232 - val_accuracy: 0.7929 - val_loss: 0.5381\n",
      "Epoch 3/100\n",
      "\u001b[1m141/141\u001b[0m \u001b[32m━━━━━━━━━━━━━━━━━━━━\u001b[0m\u001b[37m\u001b[0m \u001b[1m0s\u001b[0m 4ms/step - accuracy: 0.7665 - loss: 0.5962\n",
      "Epoch 3: val_loss improved from 0.53811 to 0.53061, saving model to best_model.keras\n",
      "\u001b[1m141/141\u001b[0m \u001b[32m━━━━━━━━━━━━━━━━━━━━\u001b[0m\u001b[37m\u001b[0m \u001b[1m1s\u001b[0m 5ms/step - accuracy: 0.7666 - loss: 0.5961 - val_accuracy: 0.7893 - val_loss: 0.5306\n",
      "Epoch 4/100\n",
      "\u001b[1m139/141\u001b[0m \u001b[32m━━━━━━━━━━━━━━━━━━━\u001b[0m\u001b[37m━\u001b[0m \u001b[1m0s\u001b[0m 3ms/step - accuracy: 0.7627 - loss: 0.5913\n",
      "Epoch 4: val_loss improved from 0.53061 to 0.51275, saving model to best_model.keras\n",
      "\u001b[1m141/141\u001b[0m \u001b[32m━━━━━━━━━━━━━━━━━━━━\u001b[0m\u001b[37m\u001b[0m \u001b[1m1s\u001b[0m 5ms/step - accuracy: 0.7630 - loss: 0.5910 - val_accuracy: 0.8000 - val_loss: 0.5127\n",
      "Epoch 5/100\n",
      "\u001b[1m141/141\u001b[0m \u001b[32m━━━━━━━━━━━━━━━━━━━━\u001b[0m\u001b[37m\u001b[0m \u001b[1m0s\u001b[0m 4ms/step - accuracy: 0.7844 - loss: 0.5577\n",
      "Epoch 5: val_loss improved from 0.51275 to 0.51249, saving model to best_model.keras\n",
      "\u001b[1m141/141\u001b[0m \u001b[32m━━━━━━━━━━━━━━━━━━━━\u001b[0m\u001b[37m\u001b[0m \u001b[1m1s\u001b[0m 7ms/step - accuracy: 0.7843 - loss: 0.5578 - val_accuracy: 0.7893 - val_loss: 0.5125\n",
      "Epoch 6/100\n",
      "\u001b[1m138/141\u001b[0m \u001b[32m━━━━━━━━━━━━━━━━━━━\u001b[0m\u001b[37m━\u001b[0m \u001b[1m0s\u001b[0m 6ms/step - accuracy: 0.7859 - loss: 0.5377\n",
      "Epoch 6: val_loss improved from 0.51249 to 0.50736, saving model to best_model.keras\n",
      "\u001b[1m141/141\u001b[0m \u001b[32m━━━━━━━━━━━━━━━━━━━━\u001b[0m\u001b[37m\u001b[0m \u001b[1m1s\u001b[0m 9ms/step - accuracy: 0.7861 - loss: 0.5376 - val_accuracy: 0.7973 - val_loss: 0.5074\n",
      "Epoch 7/100\n",
      "\u001b[1m127/141\u001b[0m \u001b[32m━━━━━━━━━━━━━━━━━━\u001b[0m\u001b[37m━━\u001b[0m \u001b[1m0s\u001b[0m 3ms/step - accuracy: 0.7987 - loss: 0.5150\n",
      "Epoch 7: val_loss improved from 0.50736 to 0.50370, saving model to best_model.keras\n",
      "\u001b[1m141/141\u001b[0m \u001b[32m━━━━━━━━━━━━━━━━━━━━\u001b[0m\u001b[37m\u001b[0m \u001b[1m2s\u001b[0m 4ms/step - accuracy: 0.7985 - loss: 0.5163 - val_accuracy: 0.7902 - val_loss: 0.5037\n",
      "Epoch 8/100\n",
      "\u001b[1m128/141\u001b[0m \u001b[32m━━━━━━━━━━━━━━━━━━\u001b[0m\u001b[37m━━\u001b[0m \u001b[1m0s\u001b[0m 3ms/step - accuracy: 0.7975 - loss: 0.5113\n",
      "Epoch 8: val_loss improved from 0.50370 to 0.49341, saving model to best_model.keras\n",
      "\u001b[1m141/141\u001b[0m \u001b[32m━━━━━━━━━━━━━━━━━━━━\u001b[0m\u001b[37m\u001b[0m \u001b[1m1s\u001b[0m 4ms/step - accuracy: 0.7969 - loss: 0.5123 - val_accuracy: 0.7964 - val_loss: 0.4934\n",
      "Epoch 9/100\n",
      "\u001b[1m133/141\u001b[0m \u001b[32m━━━━━━━━━━━━━━━━━━\u001b[0m\u001b[37m━━\u001b[0m \u001b[1m0s\u001b[0m 4ms/step - accuracy: 0.7819 - loss: 0.5236\n",
      "Epoch 9: val_loss improved from 0.49341 to 0.49055, saving model to best_model.keras\n",
      "\u001b[1m141/141\u001b[0m \u001b[32m━━━━━━━━━━━━━━━━━━━━\u001b[0m\u001b[37m\u001b[0m \u001b[1m1s\u001b[0m 5ms/step - accuracy: 0.7823 - loss: 0.5230 - val_accuracy: 0.7982 - val_loss: 0.4905\n",
      "Epoch 10/100\n",
      "\u001b[1m127/141\u001b[0m \u001b[32m━━━━━━━━━━━━━━━━━━\u001b[0m\u001b[37m━━\u001b[0m \u001b[1m0s\u001b[0m 4ms/step - accuracy: 0.8187 - loss: 0.4765\n",
      "Epoch 10: val_loss improved from 0.49055 to 0.48570, saving model to best_model.keras\n",
      "\u001b[1m141/141\u001b[0m \u001b[32m━━━━━━━━━━━━━━━━━━━━\u001b[0m\u001b[37m\u001b[0m \u001b[1m1s\u001b[0m 5ms/step - accuracy: 0.8164 - loss: 0.4799 - val_accuracy: 0.8062 - val_loss: 0.4857\n",
      "Epoch 11/100\n",
      "\u001b[1m136/141\u001b[0m \u001b[32m━━━━━━━━━━━━━━━━━━━\u001b[0m\u001b[37m━\u001b[0m \u001b[1m0s\u001b[0m 3ms/step - accuracy: 0.7976 - loss: 0.5031\n",
      "Epoch 11: val_loss improved from 0.48570 to 0.48512, saving model to best_model.keras\n",
      "\u001b[1m141/141\u001b[0m \u001b[32m━━━━━━━━━━━━━━━━━━━━\u001b[0m\u001b[37m\u001b[0m \u001b[1m1s\u001b[0m 5ms/step - accuracy: 0.7978 - loss: 0.5030 - val_accuracy: 0.7929 - val_loss: 0.4851\n",
      "Epoch 12/100\n",
      "\u001b[1m126/141\u001b[0m \u001b[32m━━━━━━━━━━━━━━━━━\u001b[0m\u001b[37m━━━\u001b[0m \u001b[1m0s\u001b[0m 3ms/step - accuracy: 0.7978 - loss: 0.4951\n",
      "Epoch 12: val_loss improved from 0.48512 to 0.48197, saving model to best_model.keras\n",
      "\u001b[1m141/141\u001b[0m \u001b[32m━━━━━━━━━━━━━━━━━━━━\u001b[0m\u001b[37m\u001b[0m \u001b[1m1s\u001b[0m 5ms/step - accuracy: 0.7983 - loss: 0.4947 - val_accuracy: 0.7840 - val_loss: 0.4820\n",
      "Epoch 13/100\n",
      "\u001b[1m135/141\u001b[0m \u001b[32m━━━━━━━━━━━━━━━━━━━\u001b[0m\u001b[37m━\u001b[0m \u001b[1m0s\u001b[0m 3ms/step - accuracy: 0.7977 - loss: 0.4958\n",
      "Epoch 13: val_loss improved from 0.48197 to 0.47643, saving model to best_model.keras\n",
      "\u001b[1m141/141\u001b[0m \u001b[32m━━━━━━━━━━━━━━━━━━━━\u001b[0m\u001b[37m\u001b[0m \u001b[1m1s\u001b[0m 4ms/step - accuracy: 0.7977 - loss: 0.4956 - val_accuracy: 0.7964 - val_loss: 0.4764\n",
      "Epoch 14/100\n",
      "\u001b[1m130/141\u001b[0m \u001b[32m━━━━━━━━━━━━━━━━━━\u001b[0m\u001b[37m━━\u001b[0m \u001b[1m0s\u001b[0m 4ms/step - accuracy: 0.8030 - loss: 0.4968\n",
      "Epoch 14: val_loss improved from 0.47643 to 0.47233, saving model to best_model.keras\n",
      "\u001b[1m141/141\u001b[0m \u001b[32m━━━━━━━━━━━━━━━━━━━━\u001b[0m\u001b[37m\u001b[0m \u001b[1m1s\u001b[0m 6ms/step - accuracy: 0.8028 - loss: 0.4960 - val_accuracy: 0.7991 - val_loss: 0.4723\n",
      "Epoch 15/100\n",
      "\u001b[1m131/141\u001b[0m \u001b[32m━━━━━━━━━━━━━━━━━━\u001b[0m\u001b[37m━━\u001b[0m \u001b[1m0s\u001b[0m 4ms/step - accuracy: 0.8118 - loss: 0.4712\n",
      "Epoch 15: val_loss did not improve from 0.47233\n",
      "\u001b[1m141/141\u001b[0m \u001b[32m━━━━━━━━━━━━━━━━━━━━\u001b[0m\u001b[37m\u001b[0m \u001b[1m1s\u001b[0m 5ms/step - accuracy: 0.8112 - loss: 0.4719 - val_accuracy: 0.8027 - val_loss: 0.4728\n",
      "Epoch 16/100\n",
      "\u001b[1m135/141\u001b[0m \u001b[32m━━━━━━━━━━━━━━━━━━━\u001b[0m\u001b[37m━\u001b[0m \u001b[1m0s\u001b[0m 5ms/step - accuracy: 0.8081 - loss: 0.4836\n",
      "Epoch 16: val_loss improved from 0.47233 to 0.46980, saving model to best_model.keras\n",
      "\u001b[1m141/141\u001b[0m \u001b[32m━━━━━━━━━━━━━━━━━━━━\u001b[0m\u001b[37m\u001b[0m \u001b[1m1s\u001b[0m 6ms/step - accuracy: 0.8081 - loss: 0.4833 - val_accuracy: 0.8009 - val_loss: 0.4698\n",
      "Epoch 17/100\n",
      "\u001b[1m134/141\u001b[0m \u001b[32m━━━━━━━━━━━━━━━━━━━\u001b[0m\u001b[37m━\u001b[0m \u001b[1m0s\u001b[0m 5ms/step - accuracy: 0.7991 - loss: 0.4717\n",
      "Epoch 17: val_loss improved from 0.46980 to 0.46512, saving model to best_model.keras\n",
      "\u001b[1m141/141\u001b[0m \u001b[32m━━━━━━━━━━━━━━━━━━━━\u001b[0m\u001b[37m\u001b[0m \u001b[1m1s\u001b[0m 7ms/step - accuracy: 0.7992 - loss: 0.4716 - val_accuracy: 0.7973 - val_loss: 0.4651\n",
      "Epoch 18/100\n",
      "\u001b[1m131/141\u001b[0m \u001b[32m━━━━━━━━━━━━━━━━━━\u001b[0m\u001b[37m━━\u001b[0m \u001b[1m0s\u001b[0m 4ms/step - accuracy: 0.7959 - loss: 0.4788\n",
      "Epoch 18: val_loss improved from 0.46512 to 0.46118, saving model to best_model.keras\n",
      "\u001b[1m141/141\u001b[0m \u001b[32m━━━━━━━━━━━━━━━━━━━━\u001b[0m\u001b[37m\u001b[0m \u001b[1m1s\u001b[0m 5ms/step - accuracy: 0.7966 - loss: 0.4776 - val_accuracy: 0.8062 - val_loss: 0.4612\n",
      "Epoch 19/100\n",
      "\u001b[1m135/141\u001b[0m \u001b[32m━━━━━━━━━━━━━━━━━━━\u001b[0m\u001b[37m━\u001b[0m \u001b[1m0s\u001b[0m 3ms/step - accuracy: 0.8013 - loss: 0.4716\n",
      "Epoch 19: val_loss improved from 0.46118 to 0.45961, saving model to best_model.keras\n",
      "\u001b[1m141/141\u001b[0m \u001b[32m━━━━━━━━━━━━━━━━━━━━\u001b[0m\u001b[37m\u001b[0m \u001b[1m1s\u001b[0m 4ms/step - accuracy: 0.8016 - loss: 0.4713 - val_accuracy: 0.7982 - val_loss: 0.4596\n",
      "Epoch 20/100\n",
      "\u001b[1m134/141\u001b[0m \u001b[32m━━━━━━━━━━━━━━━━━━━\u001b[0m\u001b[37m━\u001b[0m \u001b[1m0s\u001b[0m 3ms/step - accuracy: 0.7918 - loss: 0.4804\n",
      "Epoch 20: val_loss did not improve from 0.45961\n",
      "\u001b[1m141/141\u001b[0m \u001b[32m━━━━━━━━━━━━━━━━━━━━\u001b[0m\u001b[37m\u001b[0m \u001b[1m1s\u001b[0m 5ms/step - accuracy: 0.7927 - loss: 0.4793 - val_accuracy: 0.7991 - val_loss: 0.4612\n",
      "Epoch 21/100\n",
      "\u001b[1m137/141\u001b[0m \u001b[32m━━━━━━━━━━━━━━━━━━━\u001b[0m\u001b[37m━\u001b[0m \u001b[1m0s\u001b[0m 3ms/step - accuracy: 0.8099 - loss: 0.4446\n",
      "Epoch 21: val_loss improved from 0.45961 to 0.45722, saving model to best_model.keras\n",
      "\u001b[1m141/141\u001b[0m \u001b[32m━━━━━━━━━━━━━━━━━━━━\u001b[0m\u001b[37m\u001b[0m \u001b[1m1s\u001b[0m 5ms/step - accuracy: 0.8097 - loss: 0.4449 - val_accuracy: 0.8009 - val_loss: 0.4572\n",
      "Epoch 22/100\n",
      "\u001b[1m137/141\u001b[0m \u001b[32m━━━━━━━━━━━━━━━━━━━\u001b[0m\u001b[37m━\u001b[0m \u001b[1m0s\u001b[0m 3ms/step - accuracy: 0.8124 - loss: 0.4426\n",
      "Epoch 22: val_loss improved from 0.45722 to 0.45459, saving model to best_model.keras\n",
      "\u001b[1m141/141\u001b[0m \u001b[32m━━━━━━━━━━━━━━━━━━━━\u001b[0m\u001b[37m\u001b[0m \u001b[1m1s\u001b[0m 4ms/step - accuracy: 0.8123 - loss: 0.4428 - val_accuracy: 0.7973 - val_loss: 0.4546\n",
      "Epoch 23/100\n",
      "\u001b[1m140/141\u001b[0m \u001b[32m━━━━━━━━━━━━━━━━━━━\u001b[0m\u001b[37m━\u001b[0m \u001b[1m0s\u001b[0m 4ms/step - accuracy: 0.8063 - loss: 0.4534\n",
      "Epoch 23: val_loss did not improve from 0.45459\n",
      "\u001b[1m141/141\u001b[0m \u001b[32m━━━━━━━━━━━━━━━━━━━━\u001b[0m\u001b[37m\u001b[0m \u001b[1m1s\u001b[0m 6ms/step - accuracy: 0.8063 - loss: 0.4534 - val_accuracy: 0.7956 - val_loss: 0.4589\n",
      "Epoch 24/100\n",
      "\u001b[1m135/141\u001b[0m \u001b[32m━━━━━━━━━━━━━━━━━━━\u001b[0m\u001b[37m━\u001b[0m \u001b[1m0s\u001b[0m 3ms/step - accuracy: 0.8076 - loss: 0.4503\n",
      "Epoch 24: val_loss improved from 0.45459 to 0.45329, saving model to best_model.keras\n",
      "\u001b[1m141/141\u001b[0m \u001b[32m━━━━━━━━━━━━━━━━━━━━\u001b[0m\u001b[37m\u001b[0m \u001b[1m1s\u001b[0m 5ms/step - accuracy: 0.8075 - loss: 0.4504 - val_accuracy: 0.7947 - val_loss: 0.4533\n",
      "Epoch 25/100\n",
      "\u001b[1m129/141\u001b[0m \u001b[32m━━━━━━━━━━━━━━━━━━\u001b[0m\u001b[37m━━\u001b[0m \u001b[1m0s\u001b[0m 3ms/step - accuracy: 0.7970 - loss: 0.4663\n",
      "Epoch 25: val_loss improved from 0.45329 to 0.44796, saving model to best_model.keras\n",
      "\u001b[1m141/141\u001b[0m \u001b[32m━━━━━━━━━━━━━━━━━━━━\u001b[0m\u001b[37m\u001b[0m \u001b[1m1s\u001b[0m 5ms/step - accuracy: 0.7974 - loss: 0.4653 - val_accuracy: 0.7911 - val_loss: 0.4480\n",
      "Epoch 26/100\n",
      "\u001b[1m127/141\u001b[0m \u001b[32m━━━━━━━━━━━━━━━━━━\u001b[0m\u001b[37m━━\u001b[0m \u001b[1m0s\u001b[0m 3ms/step - accuracy: 0.8108 - loss: 0.4509\n",
      "Epoch 26: val_loss improved from 0.44796 to 0.44496, saving model to best_model.keras\n",
      "\u001b[1m141/141\u001b[0m \u001b[32m━━━━━━━━━━━━━━━━━━━━\u001b[0m\u001b[37m\u001b[0m \u001b[1m1s\u001b[0m 5ms/step - accuracy: 0.8105 - loss: 0.4512 - val_accuracy: 0.8027 - val_loss: 0.4450\n",
      "Epoch 27/100\n",
      "\u001b[1m134/141\u001b[0m \u001b[32m━━━━━━━━━━━━━━━━━━━\u001b[0m\u001b[37m━\u001b[0m \u001b[1m0s\u001b[0m 6ms/step - accuracy: 0.8224 - loss: 0.4411\n",
      "Epoch 27: val_loss did not improve from 0.44496\n",
      "\u001b[1m141/141\u001b[0m \u001b[32m━━━━━━━━━━━━━━━━━━━━\u001b[0m\u001b[37m\u001b[0m \u001b[1m2s\u001b[0m 8ms/step - accuracy: 0.8218 - loss: 0.4414 - val_accuracy: 0.7956 - val_loss: 0.4553\n",
      "Epoch 28/100\n",
      "\u001b[1m132/141\u001b[0m \u001b[32m━━━━━━━━━━━━━━━━━━\u001b[0m\u001b[37m━━\u001b[0m \u001b[1m0s\u001b[0m 6ms/step - accuracy: 0.8061 - loss: 0.4338\n",
      "Epoch 28: val_loss did not improve from 0.44496\n",
      "\u001b[1m141/141\u001b[0m \u001b[32m━━━━━━━━━━━━━━━━━━━━\u001b[0m\u001b[37m\u001b[0m \u001b[1m1s\u001b[0m 9ms/step - accuracy: 0.8058 - loss: 0.4344 - val_accuracy: 0.8009 - val_loss: 0.4486\n",
      "Epoch 29/100\n",
      "\u001b[1m134/141\u001b[0m \u001b[32m━━━━━━━━━━━━━━━━━━━\u001b[0m\u001b[37m━\u001b[0m \u001b[1m0s\u001b[0m 4ms/step - accuracy: 0.8053 - loss: 0.4457\n",
      "Epoch 29: val_loss did not improve from 0.44496\n",
      "\u001b[1m141/141\u001b[0m \u001b[32m━━━━━━━━━━━━━━━━━━━━\u001b[0m\u001b[37m\u001b[0m \u001b[1m2s\u001b[0m 5ms/step - accuracy: 0.8057 - loss: 0.4454 - val_accuracy: 0.7991 - val_loss: 0.4486\n",
      "Epoch 30/100\n",
      "\u001b[1m137/141\u001b[0m \u001b[32m━━━━━━━━━━━━━━━━━━━\u001b[0m\u001b[37m━\u001b[0m \u001b[1m0s\u001b[0m 3ms/step - accuracy: 0.8055 - loss: 0.4433\n",
      "Epoch 30: val_loss did not improve from 0.44496\n",
      "\u001b[1m141/141\u001b[0m \u001b[32m━━━━━━━━━━━━━━━━━━━━\u001b[0m\u001b[37m\u001b[0m \u001b[1m1s\u001b[0m 4ms/step - accuracy: 0.8056 - loss: 0.4433 - val_accuracy: 0.7964 - val_loss: 0.4490\n",
      "Epoch 31/100\n",
      "\u001b[1m135/141\u001b[0m \u001b[32m━━━━━━━━━━━━━━━━━━━\u001b[0m\u001b[37m━\u001b[0m \u001b[1m0s\u001b[0m 3ms/step - accuracy: 0.8054 - loss: 0.4433\n",
      "Epoch 31: val_loss did not improve from 0.44496\n",
      "\u001b[1m141/141\u001b[0m \u001b[32m━━━━━━━━━━━━━━━━━━━━\u001b[0m\u001b[37m\u001b[0m \u001b[1m1s\u001b[0m 4ms/step - accuracy: 0.8057 - loss: 0.4430 - val_accuracy: 0.7911 - val_loss: 0.4493\n"
     ]
    }
   ],
   "source": [
    "# 4. 모델 학습 시작\n",
    "history = model.fit(\n",
    "    X_train, y_train,\n",
    "    validation_split=0.2,\n",
    "    epochs=100,\n",
    "    batch_size=32,\n",
    "    callbacks=[early_stop, checkpoint],\n",
    "    verbose=1\n",
    ")\n"
   ]
  },
  {
   "cell_type": "markdown",
   "metadata": {
    "id": "FMIrVbsAj91V"
   },
   "source": [
    " 총 **26 Epoch** 동안 학습\n",
    "- `ModelCheckpoint` 콜백을 사용하여 **최상의 val_loss에서 모델 자동 저장**\n",
    "- 최적 모델은 **Epoch 26**에서 저장됨 (val_loss = **0.44496**)\n",
    "\n",
    "- **훈련 손실과 검증 손실이 꾸준히 감소 → 과적합 없음**\n",
    "- Train/Val 정확도 모두 **80% 안팎으로 수렴** → 일반화 잘 된 상태\n",
    "- 성능이 일찍부터 정체되지 않고 **꾸준히 향상** → 모델이 충분히 학습됨"
   ]
  },
  {
   "cell_type": "markdown",
   "metadata": {
    "id": "BGDgjNgOkr06"
   },
   "source": [
    "## 평가"
   ]
  },
  {
   "cell_type": "markdown",
   "metadata": {
    "id": "kYRKh1tgVPKg"
   },
   "source": [
    "모델을 평가해보세요."
   ]
  },
  {
   "cell_type": "code",
   "execution_count": null,
   "metadata": {
    "id": "MN0xV_rjToeZ"
   },
   "outputs": [],
   "source": [
    "# 여기에 코드를 작성해보세요!"
   ]
  },
  {
   "cell_type": "code",
   "execution_count": null,
   "metadata": {
    "colab": {
     "base_uri": "https://localhost:8080/"
    },
    "id": "T1zsTVJjjf1s",
    "outputId": "6c56b2dd-ed1d-4ecb-8dd1-1ac0c3f9adaf"
   },
   "outputs": [
    {
     "name": "stdout",
     "output_type": "stream",
     "text": [
      "\u001b[1m44/44\u001b[0m \u001b[32m━━━━━━━━━━━━━━━━━━━━\u001b[0m\u001b[37m\u001b[0m \u001b[1m0s\u001b[0m 3ms/step - accuracy: 0.7851 - loss: 0.4571\n",
      "Test Accuracy: 79.74%\n"
     ]
    }
   ],
   "source": [
    "# 5. 평가\n",
    "loss, acc = model.evaluate(X_test, y_test)\n",
    "print(f\"Test Accuracy: {acc:.2%}\")\n"
   ]
  },
  {
   "cell_type": "markdown",
   "metadata": {
    "id": "GSj5qdAFlvSy"
   },
   "source": [
    "## 시각화"
   ]
  },
  {
   "cell_type": "markdown",
   "metadata": {
    "id": "K0w1eSPUVWAf"
   },
   "source": [
    "1) 손실 곡선을 시각화 해보세요."
   ]
  },
  {
   "cell_type": "code",
   "execution_count": null,
   "metadata": {
    "id": "KZcdw6LPVW_B"
   },
   "outputs": [],
   "source": [
    "# 여기에 코드를 작성해보세요!"
   ]
  },
  {
   "cell_type": "code",
   "execution_count": null,
   "metadata": {
    "colab": {
     "base_uri": "https://localhost:8080/",
     "height": 472
    },
    "id": "aLcLfOEYjmzR",
    "outputId": "27b491c8-bdcc-4c91-89ce-edda490ead97"
   },
   "outputs": [
    {
     "data": {
      "image/png": "[encoded data removed]",
      "text/plain": [
       "<Figure size 640x480 with 1 Axes>"
      ]
     },
     "metadata": {},
     "output_type": "display_data"
    }
   ],
   "source": [
    "#손실 곡선 시각화\n",
    "import matplotlib.pyplot as plt\n",
    "\n",
    "plt.plot(history.history['loss'], label='Train Loss')\n",
    "plt.plot(history.history['val_loss'], label='Val Loss')\n",
    "plt.title('Loss Curve')\n",
    "plt.xlabel('Epoch')\n",
    "plt.ylabel('Binary Crossentropy')\n",
    "plt.legend()\n",
    "plt.grid()\n",
    "plt.show()"
   ]
  },
  {
   "cell_type": "markdown",
   "metadata": {
    "id": "jACuReneyjMJ"
   },
   "source": [
    "- 학습과 검증 손실이 모두 점진적으로 감소하며 비슷한 수준을 유지하고 있습니다.    \n",
    "- 이는 모델이 학습 데이터에 과하게 적합되지 않고, 일반화 성능도 함께 향상되었음을 보여줍니다.    \n",
    "- Dropout, BatchNormalization, L2 정규화 등의 적용이 효과적이었음을 알 수 있습니다."
   ]
  },
  {
   "cell_type": "markdown",
   "metadata": {
    "id": "MVB_C6pnuJ5b"
   },
   "source": [
    "- history.history['accuracy'] : 에포크별 훈련 정확도 기록\n",
    "- history.history['val_accuracy'] :\t에포크별 검증 정확도 기록"
   ]
  },
  {
   "cell_type": "code",
   "execution_count": null,
   "metadata": {
    "id": "OiPELegQuJ5c"
   },
   "outputs": [],
   "source": [
    "# 여기에 코드를 작성해보세요!"
   ]
  },
  {
   "cell_type": "code",
   "execution_count": null,
   "metadata": {
    "colab": {
     "base_uri": "https://localhost:8080/",
     "height": 490
    },
    "id": "K3ecEyx_uJ5c",
    "outputId": "5de1d218-0657-4a87-d396-358a9633871c"
   },
   "outputs": [
    {
     "data": {
      "text/plain": [
       "<matplotlib.legend.Legend at 0x7cfc5e931bd0>"
      ]
     },
     "execution_count": 56,
     "metadata": {},
     "output_type": "execute_result"
    },
    {
     "data": {
      "image/png": "[encoded data removed]",
      "text/plain": [
       "<Figure size 640x480 with 1 Axes>"
      ]
     },
     "metadata": {},
     "output_type": "display_data"
    }
   ],
   "source": [
    "#정확도 곡선 시각화\n",
    "import matplotlib.pyplot as plt\n",
    "\n",
    "plt.plot(history.history['accuracy'], label='Accuracy')\n",
    "plt.plot(history.history['val_accuracy'], label='Val Accuracy')\n",
    "plt.title('Model Accuracy')\n",
    "plt.xlabel('Epochs')\n",
    "plt.ylabel('Accuracy')\n",
    "plt.legend(['Train', 'Validation'], loc='lower right')\n"
   ]
  },
  {
   "cell_type": "markdown",
   "metadata": {
    "id": "QTSsk8XlxhBQ"
   },
   "source": [
    "* 훈련 정확도와 검증 정확도가 유사한 수준에서 수렴하므로, 모델이 과적합되지 않고 적절히 일반화된 것으로 보입니다.\n",
    "* 약 20~25 에포크 이후부터 두 정확도가 안정화되었으므로, 더 많은 에포크를 학습시키는 것은 큰 이점을 제공하지 않을 가능성이 있습니다."
   ]
  },
  {
   "cell_type": "markdown",
   "metadata": {
    "id": "G8UUnUUgVfSy"
   },
   "source": [
    "## 예측 수행\n",
    "예측 결과를 확인해보세요."
   ]
  },
  {
   "cell_type": "code",
   "execution_count": null,
   "metadata": {
    "id": "IbVL9CLeVmUI"
   },
   "outputs": [],
   "source": [
    "# 여기에 코드를 작성해보세요!"
   ]
  },
  {
   "cell_type": "code",
   "execution_count": null,
   "metadata": {
    "colab": {
     "base_uri": "https://localhost:8080/"
    },
    "id": "VPI7Ihqqsoyg",
    "outputId": "deb7b59a-f684-4c18-f049-f6dacc957f70"
   },
   "outputs": [
    {
     "name": "stdout",
     "output_type": "stream",
     "text": [
      "\u001b[1m44/44\u001b[0m \u001b[32m━━━━━━━━━━━━━━━━━━━━\u001b[0m\u001b[37m\u001b[0m \u001b[1m0s\u001b[0m 3ms/step\n",
      "[[918 115]\n",
      " [192 182]]\n",
      "              precision    recall  f1-score   support\n",
      "\n",
      "           0       0.83      0.89      0.86      1033\n",
      "           1       0.61      0.49      0.54       374\n",
      "\n",
      "    accuracy                           0.78      1407\n",
      "   macro avg       0.72      0.69      0.70      1407\n",
      "weighted avg       0.77      0.78      0.77      1407\n",
      "\n"
     ]
    }
   ],
   "source": [
    "#7. 예측\n",
    "from sklearn.metrics import classification_report, confusion_matrix\n",
    "\n",
    "y_pred_prob = model.predict(X_test)\n",
    "y_pred = (y_pred_prob > 0.5).astype(int)\n",
    "\n",
    "#혼동 행렬\n",
    "print(confusion_matrix(y_test, y_pred))\n",
    "print(classification_report(y_test, y_pred))"
   ]
  },
  {
   "cell_type": "markdown",
   "metadata": {
    "id": "Zu3AcxnY1KOY"
   },
   "source": [
    "<혼동행렬 해석 예시>\n",
    "\n",
    "- **TN (True Negative)**: 잔류 고객을 정확히 잔류로 예측 → `918건`\n",
    "- **FP (False Positive)**: 잔류 고객을 이탈로 잘못 예측 → `115건`\n",
    "- **FN (False Negative)**: 이탈 고객을 잔류로 잘못 예측 → `192건`\n",
    "- **TP (True Positive)**: 이탈 고객을 정확히 이탈로 예측 → `182건`"
   ]
  }
 ],
 "metadata": {
  "colab": {
   "provenance": [],
   "toc_visible": true
  },
  "kernelspec": {
   "display_name": "Python 3",
   "name": "python3"
  },
  "language_info": {
   "name": "python"
  }
 },
 "nbformat": 4,
 "nbformat_minor": 0
}
