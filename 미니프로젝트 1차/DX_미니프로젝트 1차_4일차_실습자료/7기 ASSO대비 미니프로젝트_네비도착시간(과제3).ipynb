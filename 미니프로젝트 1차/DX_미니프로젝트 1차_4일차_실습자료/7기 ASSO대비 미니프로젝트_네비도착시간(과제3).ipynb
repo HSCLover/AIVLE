{
 "cells": [
  {
   "cell_type": "markdown",
   "id": "1f32dd86-1670-4327-bfe9-9d99b93a5d9c",
   "metadata": {
    "id": "1f32dd86-1670-4327-bfe9-9d99b93a5d9c"
   },
   "source": [
    "**AIVLE School 미니프로젝트**\n",
    "### **네비게이션 주행데이터를 이용한 <span style=\"color:darkgreen\">도착시각</span> 예측 문제**\n",
    "---"
   ]
  },
  {
   "cell_type": "markdown",
   "id": "WYolCSC6BqmL",
   "metadata": {
    "id": "WYolCSC6BqmL"
   },
   "source": [
    "**[환경설정]**\n",
    "* 세부 요구사항\n",
    "  - 경로 설정 : 구글콜랩\n",
    "  * 구글 드라이브 바로 밑에 aice 폴더를 만들고 데이터 파일을 복사해 넣습니다"
   ]
  },
  {
   "cell_type": "code",
   "execution_count": null,
   "id": "w1IOhSnKBruh",
   "metadata": {
    "id": "w1IOhSnKBruh"
   },
   "outputs": [],
   "source": [
    "# # 구글 드라이브 연결\n",
    "# from google.colab import drive\n",
    "# drive.mount('/content/drive')"
   ]
  },
  {
   "cell_type": "code",
   "execution_count": null,
   "id": "oV_6yJY2Brog",
   "metadata": {
    "id": "oV_6yJY2Brog"
   },
   "outputs": [],
   "source": [
    "# #Path 설정하기\n",
    "# path = '/content/drive/MyDrive/aice/'"
   ]
  },
  {
   "cell_type": "markdown",
   "id": "d2341ad0-ca25-4cd0-8a66-63ba196797cb",
   "metadata": {
    "id": "d2341ad0-ca25-4cd0-8a66-63ba196797cb"
   },
   "source": [
    "<br>"
   ]
  },
  {
   "cell_type": "markdown",
   "id": "1951fedb-3724-418c-8de8-ac69b120d310",
   "metadata": {
    "id": "1951fedb-3724-418c-8de8-ac69b120d310"
   },
   "source": [
    "#### **<span style=\"color:red\">[미션 안내]</span>**\n",
    "* 네비게이션 주행데이터를 읽어들여 데이터를 분석 및 전처리한 후 머신러닝과 딥러닝으로 도착시각을 예측하고 결과를 분석하세요."
   ]
  },
  {
   "cell_type": "markdown",
   "id": "07c798aa-1b49-4dae-af82-dd853b9e7886",
   "metadata": {
    "id": "07c798aa-1b49-4dae-af82-dd853b9e7886"
   },
   "source": [
    "#### **<span style=\"color:red\">[유의 사항]</span>**\n",
    "* 각 문항의 답안코드는 반드시 '#여기에 답안코드를 작성하세요'로 표시된 cell에 작성해야 합니다.\n",
    "* 제공된 cell을 추가/삭제하고 다른 cell에 답안코드를 작성 시 채점되지 않습니다.\n",
    "* 반드시 문제에 제시된 가이드를 읽고 답안 작성하세요.\n",
    "* 문제에 변수명이 제시된 경우 반드시 해당 변수명을 사용하세요.\n",
    "* 문제와 데이터는 제3자에게 공유하거나 개인적인 용도로 사용하는 등 외부로 유출할 수 없으며 유출로 인한 책임은 응시자 본인에게 있습니다."
   ]
  },
  {
   "cell_type": "markdown",
   "id": "f2e1c59a-e306-45f5-90d0-252e63994de8",
   "metadata": {
    "id": "f2e1c59a-e306-45f5-90d0-252e63994de8"
   },
   "source": [
    "<br>"
   ]
  },
  {
   "cell_type": "markdown",
   "id": "cb429a27-f439-4323-a69f-aa554cebeb5f",
   "metadata": {
    "id": "cb429a27-f439-4323-a69f-aa554cebeb5f"
   },
   "source": [
    "### 1. scikit-learn 패키지는 머신러닝 교육을 위한 최고의 파이썬 패키지입니다.\n",
    "### scikit-learn를 별칭(alias) sk로 임포트하는 코드를 작성하고 실행하세요."
   ]
  },
  {
   "cell_type": "code",
   "execution_count": 1,
   "id": "78bfda52-7125-4bf4-99cc-a49888f3557b",
   "metadata": {
    "id": "78bfda52-7125-4bf4-99cc-a49888f3557b"
   },
   "outputs": [],
   "source": [
    "# 여기에 답안코드를 작성하세요.\n",
    "import sklearn as sk"
   ]
  },
  {
   "cell_type": "markdown",
   "id": "7d66e4d1-6a30-484d-920e-772b815f50c7",
   "metadata": {
    "id": "7d66e4d1-6a30-484d-920e-772b815f50c7"
   },
   "source": [
    "<br>"
   ]
  },
  {
   "cell_type": "markdown",
   "id": "d792db90-2273-4eef-a0f2-3cb37d2edf7c",
   "metadata": {
    "id": "d792db90-2273-4eef-a0f2-3cb37d2edf7c"
   },
   "source": [
    "### 2. Pandas는 데이터 분석을 위해 널리 사용되는 파이썬 라이브러리입니다.\n",
    "### Pandas를 사용할 수 있도록 별칭(alias)을 pd로 해서 불러오세요."
   ]
  },
  {
   "cell_type": "code",
   "execution_count": 2,
   "id": "771f7972-0473-4db8-8797-95ddc19017fc",
   "metadata": {
    "id": "771f7972-0473-4db8-8797-95ddc19017fc"
   },
   "outputs": [],
   "source": [
    "# 여기에 답안코드를 작성하세요.\n",
    "import pandas as pd"
   ]
  },
  {
   "cell_type": "markdown",
   "id": "326a5dea-8170-4655-a4c6-ed1d3e4a1718",
   "metadata": {
    "id": "326a5dea-8170-4655-a4c6-ed1d3e4a1718"
   },
   "source": [
    "<br>"
   ]
  },
  {
   "cell_type": "markdown",
   "id": "55ced9e0-391e-4169-acd5-2165cd5b3ee0",
   "metadata": {
    "id": "55ced9e0-391e-4169-acd5-2165cd5b3ee0"
   },
   "source": [
    "### 3. 모델링을 위해 분석 및 처리할 데이터 파일을 읽어오려고 합니다.\n",
    "### Pandas함수로 데이터 파일을 읽어 데이터프레임 변수명 df에 할당하는 코드를 작성하세요.\n",
    "* A0007IT.json 파일을 읽어 데이터 프레임 변수명 df에 할당하세요."
   ]
  },
  {
   "cell_type": "code",
   "execution_count": 3,
   "id": "dbc291ca-4629-4beb-be81-1633aa8e62b2",
   "metadata": {
    "id": "dbc291ca-4629-4beb-be81-1633aa8e62b2"
   },
   "outputs": [],
   "source": [
    "# 여기에 답안코드를 작성하세요.\n",
    "df = pd.read_json('./A0007IT.json')"
   ]
  },
  {
   "cell_type": "code",
   "execution_count": 4,
   "id": "51b26de2-329e-4823-b6a1-727d7d4751fa",
   "metadata": {},
   "outputs": [
    {
     "data": {
      "text/html": [
       "<div>\n",
       "<style scoped>\n",
       "    .dataframe tbody tr th:only-of-type {\n",
       "        vertical-align: middle;\n",
       "    }\n",
       "\n",
       "    .dataframe tbody tr th {\n",
       "        vertical-align: top;\n",
       "    }\n",
       "\n",
       "    .dataframe thead th {\n",
       "        text-align: right;\n",
       "    }\n",
       "</style>\n",
       "<table border=\"1\" class=\"dataframe\">\n",
       "  <thead>\n",
       "    <tr style=\"text-align: right;\">\n",
       "      <th></th>\n",
       "      <th>Time_Departure</th>\n",
       "      <th>Time_Arrival</th>\n",
       "      <th>Distance</th>\n",
       "      <th>Time_Driving</th>\n",
       "      <th>Speed_Per_Hour</th>\n",
       "      <th>Address1</th>\n",
       "      <th>Address2</th>\n",
       "      <th>Signaltype</th>\n",
       "      <th>Weekday</th>\n",
       "      <th>Hour</th>\n",
       "      <th>Day</th>\n",
       "    </tr>\n",
       "  </thead>\n",
       "  <tbody>\n",
       "    <tr>\n",
       "      <th>0</th>\n",
       "      <td>35:21.0</td>\n",
       "      <td>55:22.6</td>\n",
       "      <td>12914.0</td>\n",
       "      <td>1201.534058</td>\n",
       "      <td>38.692536</td>\n",
       "      <td>경기도</td>\n",
       "      <td>광명시</td>\n",
       "      <td>7</td>\n",
       "      <td>0</td>\n",
       "      <td>5</td>\n",
       "      <td>20</td>\n",
       "    </tr>\n",
       "    <tr>\n",
       "      <th>1</th>\n",
       "      <td>55:22.0</td>\n",
       "      <td>09:06.9</td>\n",
       "      <td>7483.0</td>\n",
       "      <td>823.817017</td>\n",
       "      <td>32.699980</td>\n",
       "      <td>서울특별시</td>\n",
       "      <td>영등포구</td>\n",
       "      <td>31</td>\n",
       "      <td>0</td>\n",
       "      <td>5</td>\n",
       "      <td>20</td>\n",
       "    </tr>\n",
       "    <tr>\n",
       "      <th>2</th>\n",
       "      <td>13:46.0</td>\n",
       "      <td>22:32.9</td>\n",
       "      <td>8087.0</td>\n",
       "      <td>526.710998</td>\n",
       "      <td>55.273575</td>\n",
       "      <td>경기도</td>\n",
       "      <td>김포시</td>\n",
       "      <td>6</td>\n",
       "      <td>0</td>\n",
       "      <td>0</td>\n",
       "      <td>20</td>\n",
       "    </tr>\n",
       "    <tr>\n",
       "      <th>3</th>\n",
       "      <td>13:43.0</td>\n",
       "      <td>28:42.7</td>\n",
       "      <td>10528.0</td>\n",
       "      <td>898.581970</td>\n",
       "      <td>42.178456</td>\n",
       "      <td>경기도</td>\n",
       "      <td>광주시</td>\n",
       "      <td>2</td>\n",
       "      <td>0</td>\n",
       "      <td>0</td>\n",
       "      <td>20</td>\n",
       "    </tr>\n",
       "    <tr>\n",
       "      <th>4</th>\n",
       "      <td>01:57.0</td>\n",
       "      <td>17:58.2</td>\n",
       "      <td>10636.0</td>\n",
       "      <td>957.758972</td>\n",
       "      <td>39.978326</td>\n",
       "      <td>경기도</td>\n",
       "      <td>안산시 상록구</td>\n",
       "      <td>28</td>\n",
       "      <td>0</td>\n",
       "      <td>0</td>\n",
       "      <td>20</td>\n",
       "    </tr>\n",
       "  </tbody>\n",
       "</table>\n",
       "</div>"
      ],
      "text/plain": [
       "  Time_Departure Time_Arrival  Distance  Time_Driving  Speed_Per_Hour  \\\n",
       "0        35:21.0      55:22.6   12914.0   1201.534058       38.692536   \n",
       "1        55:22.0      09:06.9    7483.0    823.817017       32.699980   \n",
       "2        13:46.0      22:32.9    8087.0    526.710998       55.273575   \n",
       "3        13:43.0      28:42.7   10528.0    898.581970       42.178456   \n",
       "4        01:57.0      17:58.2   10636.0    957.758972       39.978326   \n",
       "\n",
       "  Address1 Address2  Signaltype  Weekday  Hour  Day  \n",
       "0      경기도      광명시           7        0     5   20  \n",
       "1    서울특별시     영등포구          31        0     5   20  \n",
       "2      경기도      김포시           6        0     0   20  \n",
       "3      경기도      광주시           2        0     0   20  \n",
       "4      경기도  안산시 상록구          28        0     0   20  "
      ]
     },
     "execution_count": 4,
     "metadata": {},
     "output_type": "execute_result"
    }
   ],
   "source": [
    "df.head()"
   ]
  },
  {
   "cell_type": "markdown",
   "id": "6a34284c-1724-4326-8079-b823f1e9b08b",
   "metadata": {
    "id": "6a34284c-1724-4326-8079-b823f1e9b08b"
   },
   "source": [
    "<br>"
   ]
  },
  {
   "cell_type": "markdown",
   "id": "a1c7f855-339a-4600-a87d-64a5525edcc8",
   "metadata": {
    "id": "a1c7f855-339a-4600-a87d-64a5525edcc8"
   },
   "source": [
    "### 4. Address1(주소1)에 대한 분포도를 알아 보려고 합니다.\n",
    "### Address1(주소1)에 대해 countplot그래프로 만들고 아래 가이드에 따라 답하세요.\n",
    "* Seaborn을 활용하세요.\n",
    "* 첫번째, Address1(주소1)에 대해서 분포를 보여주는 countplot그래프 그리세요.\n",
    "* 두번째, 지역명이 없는 '-'에 해당되는 row(행)을 삭제하세요."
   ]
  },
  {
   "cell_type": "code",
   "execution_count": 5,
   "id": "865d5d47-ce7e-4536-828f-b9d5ab804780",
   "metadata": {
    "id": "865d5d47-ce7e-4536-828f-b9d5ab804780",
    "tags": []
   },
   "outputs": [
    {
     "name": "stderr",
     "output_type": "stream",
     "text": [
      "/usr/local/lib/python3.10/dist-packages/IPython/core/pylabtools.py:152: UserWarning: Glyph 44221 (\\N{HANGUL SYLLABLE GYEONG}) missing from font(s) DejaVu Sans.\n",
      "  fig.canvas.print_figure(bytes_io, **kw)\n",
      "/usr/local/lib/python3.10/dist-packages/IPython/core/pylabtools.py:152: UserWarning: Glyph 44592 (\\N{HANGUL SYLLABLE GI}) missing from font(s) DejaVu Sans.\n",
      "  fig.canvas.print_figure(bytes_io, **kw)\n",
      "/usr/local/lib/python3.10/dist-packages/IPython/core/pylabtools.py:152: UserWarning: Glyph 46020 (\\N{HANGUL SYLLABLE DO}) missing from font(s) DejaVu Sans.\n",
      "  fig.canvas.print_figure(bytes_io, **kw)\n",
      "/usr/local/lib/python3.10/dist-packages/IPython/core/pylabtools.py:152: UserWarning: Glyph 49436 (\\N{HANGUL SYLLABLE SEO}) missing from font(s) DejaVu Sans.\n",
      "  fig.canvas.print_figure(bytes_io, **kw)\n",
      "/usr/local/lib/python3.10/dist-packages/IPython/core/pylabtools.py:152: UserWarning: Glyph 50872 (\\N{HANGUL SYLLABLE UL}) missing from font(s) DejaVu Sans.\n",
      "  fig.canvas.print_figure(bytes_io, **kw)\n",
      "/usr/local/lib/python3.10/dist-packages/IPython/core/pylabtools.py:152: UserWarning: Glyph 53945 (\\N{HANGUL SYLLABLE TEUG}) missing from font(s) DejaVu Sans.\n",
      "  fig.canvas.print_figure(bytes_io, **kw)\n",
      "/usr/local/lib/python3.10/dist-packages/IPython/core/pylabtools.py:152: UserWarning: Glyph 48324 (\\N{HANGUL SYLLABLE BYEOL}) missing from font(s) DejaVu Sans.\n",
      "  fig.canvas.print_figure(bytes_io, **kw)\n",
      "/usr/local/lib/python3.10/dist-packages/IPython/core/pylabtools.py:152: UserWarning: Glyph 49884 (\\N{HANGUL SYLLABLE SI}) missing from font(s) DejaVu Sans.\n",
      "  fig.canvas.print_figure(bytes_io, **kw)\n",
      "/usr/local/lib/python3.10/dist-packages/IPython/core/pylabtools.py:152: UserWarning: Glyph 51064 (\\N{HANGUL SYLLABLE IN}) missing from font(s) DejaVu Sans.\n",
      "  fig.canvas.print_figure(bytes_io, **kw)\n",
      "/usr/local/lib/python3.10/dist-packages/IPython/core/pylabtools.py:152: UserWarning: Glyph 52380 (\\N{HANGUL SYLLABLE CEON}) missing from font(s) DejaVu Sans.\n",
      "  fig.canvas.print_figure(bytes_io, **kw)\n",
      "/usr/local/lib/python3.10/dist-packages/IPython/core/pylabtools.py:152: UserWarning: Glyph 44305 (\\N{HANGUL SYLLABLE GWANG}) missing from font(s) DejaVu Sans.\n",
      "  fig.canvas.print_figure(bytes_io, **kw)\n",
      "/usr/local/lib/python3.10/dist-packages/IPython/core/pylabtools.py:152: UserWarning: Glyph 50669 (\\N{HANGUL SYLLABLE YEOG}) missing from font(s) DejaVu Sans.\n",
      "  fig.canvas.print_figure(bytes_io, **kw)\n",
      "/usr/local/lib/python3.10/dist-packages/IPython/core/pylabtools.py:152: UserWarning: Glyph 52649 (\\N{HANGUL SYLLABLE CUNG}) missing from font(s) DejaVu Sans.\n",
      "  fig.canvas.print_figure(bytes_io, **kw)\n",
      "/usr/local/lib/python3.10/dist-packages/IPython/core/pylabtools.py:152: UserWarning: Glyph 52397 (\\N{HANGUL SYLLABLE CEONG}) missing from font(s) DejaVu Sans.\n",
      "  fig.canvas.print_figure(bytes_io, **kw)\n",
      "/usr/local/lib/python3.10/dist-packages/IPython/core/pylabtools.py:152: UserWarning: Glyph 48513 (\\N{HANGUL SYLLABLE BUG}) missing from font(s) DejaVu Sans.\n",
      "  fig.canvas.print_figure(bytes_io, **kw)\n",
      "/usr/local/lib/python3.10/dist-packages/IPython/core/pylabtools.py:152: UserWarning: Glyph 44053 (\\N{HANGUL SYLLABLE GANG}) missing from font(s) DejaVu Sans.\n",
      "  fig.canvas.print_figure(bytes_io, **kw)\n",
      "/usr/local/lib/python3.10/dist-packages/IPython/core/pylabtools.py:152: UserWarning: Glyph 50896 (\\N{HANGUL SYLLABLE WEON}) missing from font(s) DejaVu Sans.\n",
      "  fig.canvas.print_figure(bytes_io, **kw)\n",
      "/usr/local/lib/python3.10/dist-packages/IPython/core/pylabtools.py:152: UserWarning: Glyph 45224 (\\N{HANGUL SYLLABLE NAM}) missing from font(s) DejaVu Sans.\n",
      "  fig.canvas.print_figure(bytes_io, **kw)\n"
     ]
    },
    {
     "data": {
      "image/png": "[encoded data removed]",
      "text/plain": [
       "<Figure size 640x480 with 1 Axes>"
      ]
     },
     "metadata": {},
     "output_type": "display_data"
    }
   ],
   "source": [
    "# 여기에 답안코드를 작성하세요.\n",
    "import seaborn as sns\n",
    "import matplotlib.pyplot as plt\n",
    "\n",
    "sns.countplot(df['Address1'])\n",
    "plt.show()"
   ]
  },
  {
   "cell_type": "markdown",
   "id": "594967e8-9231-4671-a88e-7b54898ffa4e",
   "metadata": {
    "id": "594967e8-9231-4671-a88e-7b54898ffa4e"
   },
   "source": [
    "<br>"
   ]
  },
  {
   "cell_type": "markdown",
   "id": "ff6b633c-fbb2-40d1-982e-5e57daac66cc",
   "metadata": {
    "id": "ff6b633c-fbb2-40d1-982e-5e57daac66cc"
   },
   "source": [
    "### 5. 실주행시간과 평균시속의 분포를 같이 확인하려고 합니다.\n",
    "### Time_Driving(실주행시간)과 Speed_Per_Hour(평균시속)을 jointplot 그래프로 만드세요.\n",
    "* Seaborn을 활용하세요.\n",
    "* X축에는 Time_Driving(실주행시간)을 표시하고 Y축에는 Speed_Per_Hour(평균시속)을 표시하세요."
   ]
  },
  {
   "cell_type": "code",
   "execution_count": 6,
   "id": "23c0e7e5-c4e7-42e8-9258-2bd3fb7a1551",
   "metadata": {
    "id": "23c0e7e5-c4e7-42e8-9258-2bd3fb7a1551"
   },
   "outputs": [
    {
     "data": {
      "image/png": "[encoded data removed]",
      "text/plain": [
       "<Figure size 600x600 with 3 Axes>"
      ]
     },
     "metadata": {},
     "output_type": "display_data"
    }
   ],
   "source": [
    "# 여기에 답안코드를 작성하세요.\n",
    "sns.jointplot(df,x='Time_Driving',y='Speed_Per_Hour')\n",
    "\n",
    "plt.show()"
   ]
  },
  {
   "cell_type": "markdown",
   "id": "7c3d46d9-2a4a-49ce-ace2-b007933c2a53",
   "metadata": {
    "id": "7c3d46d9-2a4a-49ce-ace2-b007933c2a53"
   },
   "source": [
    "<br>"
   ]
  },
  {
   "cell_type": "markdown",
   "id": "c7ba7823-db7b-409c-91a2-13519680b52c",
   "metadata": {
    "id": "c7ba7823-db7b-409c-91a2-13519680b52c"
   },
   "source": [
    "### 6. 위의 jointplot 그래프에서 시속 300이 넘는 이상치를 발견할 수 있습니다.\n",
    "### jointplot 그래프에서 발견한 이상치 1개를 삭제하세요.\n",
    "* 대상 데이터프레임: df\n",
    "* jointplot 그래프를 보고 시속 300 이상되는 이상치를 찾아 해당 행(Row)을 삭제하세요.\n",
    "* 전처리 반영 후에 새로운 데이터프레임 변수명 df_temp에 저장하세요."
   ]
  },
  {
   "cell_type": "code",
   "execution_count": 7,
   "id": "414a676e-0392-4e52-a8fa-bc4dd71482b8",
   "metadata": {
    "id": "414a676e-0392-4e52-a8fa-bc4dd71482b8"
   },
   "outputs": [],
   "source": [
    "# 여기에 답안코드를 작성하세요.\n",
    "df_temp = df[df['Speed_Per_Hour']<300]"
   ]
  },
  {
   "cell_type": "markdown",
   "id": "43d2735b-8ba6-44c9-9e08-6c53002f1b46",
   "metadata": {
    "id": "43d2735b-8ba6-44c9-9e08-6c53002f1b46"
   },
   "source": [
    "<br>"
   ]
  },
  {
   "cell_type": "markdown",
   "id": "f086ac8c-cef8-4944-a518-81fc042b1444",
   "metadata": {
    "id": "f086ac8c-cef8-4944-a518-81fc042b1444"
   },
   "source": [
    "### 7. 모델링 성능을 제대로 얻기 위해서 결측치 처리는 필수입니다.\n",
    "### 아래 가이드를 따라 결측치 처리하세요.\n",
    "* 대상 데이터프레임: df_temp\n",
    "* 결측치를 확인하는 코드를 작성하세요.\n",
    "* 결측치가 있는 행(raw)를 삭제 하세요.\n",
    "* 전처리 반영된 결과를 새로운 데이터프레임 변수명 df_na에 저장하세요."
   ]
  },
  {
   "cell_type": "code",
   "execution_count": 8,
   "id": "ccc8da5a-221a-4c13-ab4e-792264ea48a8",
   "metadata": {
    "id": "ccc8da5a-221a-4c13-ab4e-792264ea48a8"
   },
   "outputs": [
    {
     "name": "stdout",
     "output_type": "stream",
     "text": [
      "Time_Departure    0\n",
      "Time_Arrival      0\n",
      "Distance          2\n",
      "Time_Driving      3\n",
      "Speed_Per_Hour    0\n",
      "Address1          0\n",
      "Address2          0\n",
      "Signaltype        0\n",
      "Weekday           0\n",
      "Hour              0\n",
      "Day               0\n",
      "dtype: int64\n"
     ]
    }
   ],
   "source": [
    "# 여기에 답안코드를 작성하세요.\n",
    "print(df_temp.isnull().sum())\n",
    "\n",
    "df_na = df_temp.dropna()"
   ]
  },
  {
   "cell_type": "code",
   "execution_count": 9,
   "id": "89c6d21e",
   "metadata": {},
   "outputs": [
    {
     "data": {
      "text/plain": [
       "Time_Departure    0\n",
       "Time_Arrival      0\n",
       "Distance          0\n",
       "Time_Driving      0\n",
       "Speed_Per_Hour    0\n",
       "Address1          0\n",
       "Address2          0\n",
       "Signaltype        0\n",
       "Weekday           0\n",
       "Hour              0\n",
       "Day               0\n",
       "dtype: int64"
      ]
     },
     "execution_count": 9,
     "metadata": {},
     "output_type": "execute_result"
    }
   ],
   "source": [
    "df_na.isnull().sum()"
   ]
  },
  {
   "cell_type": "markdown",
   "id": "46c64f89-a3ee-45d7-94f4-5ede4c6d6e92",
   "metadata": {
    "id": "46c64f89-a3ee-45d7-94f4-5ede4c6d6e92"
   },
   "source": [
    "<br>"
   ]
  },
  {
   "cell_type": "markdown",
   "id": "590a5dfe-8ebf-4fdc-9c6b-f3b03fc57890",
   "metadata": {
    "id": "590a5dfe-8ebf-4fdc-9c6b-f3b03fc57890"
   },
   "source": [
    "### 8. 모델링 성능을 제대로 얻기 위해서 불필요한 변수는 삭제해야 합니다.\n",
    "### 아래 가이드를 따라 불필요 데이터를 삭제 처리하세요.\n",
    "* 대상 데이터프레임: df_na\n",
    "* 'Time_Departure', 'Time_Arrival' 2개 컬럼을 삭제하세요.\n",
    "* 전처리 반영된 결과를 새로운 데이터프레임 변수명 df_del에 저장하세요."
   ]
  },
  {
   "cell_type": "code",
   "execution_count": 15,
   "id": "7573f7e1-eeb9-436b-8fb4-af7ba4872782",
   "metadata": {
    "id": "7573f7e1-eeb9-436b-8fb4-af7ba4872782"
   },
   "outputs": [],
   "source": [
    "# 여기에 답안코드를 작성하세요.\n",
    "df_del = df_na.drop(['Time_Departure','Time_Arrival'],axis=1)"
   ]
  },
  {
   "cell_type": "markdown",
   "id": "9db815d3-4725-42e4-a34d-a693ef160dc4",
   "metadata": {
    "id": "9db815d3-4725-42e4-a34d-a693ef160dc4"
   },
   "source": [
    "<br>"
   ]
  },
  {
   "cell_type": "code",
   "execution_count": 16,
   "id": "23c19052",
   "metadata": {},
   "outputs": [
    {
     "data": {
      "text/plain": [
       "Index(['Distance', 'Time_Driving', 'Speed_Per_Hour', 'Address1', 'Address2',\n",
       "       'Signaltype', 'Weekday', 'Hour', 'Day'],\n",
       "      dtype='object')"
      ]
     },
     "execution_count": 16,
     "metadata": {},
     "output_type": "execute_result"
    }
   ],
   "source": [
    "df_del.columns"
   ]
  },
  {
   "cell_type": "markdown",
   "id": "2364a91e-b4d4-4471-8171-82cd7a87cb25",
   "metadata": {
    "id": "2364a91e-b4d4-4471-8171-82cd7a87cb25"
   },
   "source": [
    "### 9. 원-핫 인코딩(One-hot encoding)은 범주형 변수를 1과 0의 이진형 벡터로 변환하기 위하여 사용하는 방법입니다.\n",
    "### 원-핫 인코딩으로 아래 조건에 해당하는 컬럼 데이터를 변환하세요.\n",
    "* 대상 데이터프레임: df_del\n",
    "* 원-핫 인코딩 대상: object 타입의 전체 컬럼\n",
    "* 활용 함수: pandas의 get_dummies\n",
    "* 해당 전처리가 반영된 결과를 데이터프레임 변수 df_preset에 저장해 주세요."
   ]
  },
  {
   "cell_type": "code",
   "execution_count": 17,
   "id": "abbad879-2bf9-4177-837a-0dcca9adcd43",
   "metadata": {
    "id": "abbad879-2bf9-4177-837a-0dcca9adcd43"
   },
   "outputs": [],
   "source": [
    "# 여기에 답안코드를 작성하세요.\n",
    "\n",
    "df_preset = pd.get_dummies(df_del, columns=df_del.select_dtypes(include='object').columns,drop_first=True)"
   ]
  },
  {
   "cell_type": "markdown",
   "id": "4266bd53-b060-4355-b473-c051cbbc908e",
   "metadata": {
    "id": "4266bd53-b060-4355-b473-c051cbbc908e"
   },
   "source": [
    "<br>"
   ]
  },
  {
   "cell_type": "markdown",
   "id": "6b01b0e7-30e3-4a64-8e6a-1e45507a8262",
   "metadata": {
    "id": "6b01b0e7-30e3-4a64-8e6a-1e45507a8262"
   },
   "source": [
    "### 10. 훈련과 검증 각각에 사용할 데이터셋을 분리하려고 합니다.\n",
    "### Time_Driving(실주행시간) 컬럼을 label값 y로, 나머지 컬럼을 feature값 X로 할당한 후 훈련데이터셋과 검증데이터셋으로 분리하세요.\n",
    "* 대상 데이터프레임: df_preset\n",
    "* 훈련 데이터셋 label: y_train, 훈련 데이터셋 Feature: X_train\n",
    "* 검증 데이터셋 label: y_valid, 검증 데이터셋 Feature: X_valid\n",
    "* 훈련 데이터셋과 검증데이터셋 비율은 80:20\n",
    "* random_state: 42\n",
    "* Scikit-learn의 train_test_split 함수를 활용하세요."
   ]
  },
  {
   "cell_type": "code",
   "execution_count": 21,
   "id": "da848455-7b93-47fd-8ac4-d844b2a4e7be",
   "metadata": {
    "id": "da848455-7b93-47fd-8ac4-d844b2a4e7be",
    "tags": []
   },
   "outputs": [],
   "source": [
    "# 여기에 답안코드를 작성하세요.\n",
    "from sklearn.model_selection import train_test_split\n",
    "\n",
    "X_train, X_valid, y_train, y_valid = train_test_split(df_preset.drop(columns=['Time_Driving']),df_preset['Time_Driving'], train_size=0.8, random_state=42)"
   ]
  },
  {
   "cell_type": "markdown",
   "id": "a0f356a6-f40f-45e2-a559-d5d04e75ea3f",
   "metadata": {
    "id": "a0f356a6-f40f-45e2-a559-d5d04e75ea3f"
   },
   "source": [
    "<br>"
   ]
  },
  {
   "cell_type": "markdown",
   "id": "8fb3c92a-4027-4076-bdb0-6f3bda7da917",
   "metadata": {
    "id": "8fb3c92a-4027-4076-bdb0-6f3bda7da917"
   },
   "source": [
    "### 11. Time_Driving(실주행시간)을 예측하는 머신러닝 모델을 만들려고 합니다.\n",
    "### 의사결정나무(decision tree)는 여러 가지 규칙을 순차적으로 적용하면서 독립 변수 공간을 분할하는 모형으로\n",
    "### 분류(classification)와 회귀 분석(regression)에 모두 사용될 수 있습니다.\n",
    "### 의사결정나무(decision tree)로 학습을 진행하세요.\n",
    "* 트리의 최대 깊이: 5로 설정\n",
    "* 노드를 분할하기 위한 최소한의 샘플 데이터수(min_samples_split): 3로 설정\n",
    "* random_state: 120로 설정"
   ]
  },
  {
   "cell_type": "code",
   "execution_count": 22,
   "id": "8901a3f2-3839-4831-afeb-fd2877eef954",
   "metadata": {
    "id": "8901a3f2-3839-4831-afeb-fd2877eef954"
   },
   "outputs": [
    {
     "data": {
      "text/html": [
       "<style>#sk-container-id-2 {color: black;background-color: white;}#sk-container-id-2 pre{padding: 0;}#sk-container-id-2 div.sk-toggleable {background-color: white;}#sk-container-id-2 label.sk-toggleable__label {cursor: pointer;display: block;width: 100%;margin-bottom: 0;padding: 0.3em;box-sizing: border-box;text-align: center;}#sk-container-id-2 label.sk-toggleable__label-arrow:before {content: \"▸\";float: left;margin-right: 0.25em;color: #696969;}#sk-container-id-2 label.sk-toggleable__label-arrow:hover:before {color: black;}#sk-container-id-2 div.sk-estimator:hover label.sk-toggleable__label-arrow:before {color: black;}#sk-container-id-2 div.sk-toggleable__content {max-height: 0;max-width: 0;overflow: hidden;text-align: left;background-color: #f0f8ff;}#sk-container-id-2 div.sk-toggleable__content pre {margin: 0.2em;color: black;border-radius: 0.25em;background-color: #f0f8ff;}#sk-container-id-2 input.sk-toggleable__control:checked~div.sk-toggleable__content {max-height: 200px;max-width: 100%;overflow: auto;}#sk-container-id-2 input.sk-toggleable__control:checked~label.sk-toggleable__label-arrow:before {content: \"▾\";}#sk-container-id-2 div.sk-estimator input.sk-toggleable__control:checked~label.sk-toggleable__label {background-color: #d4ebff;}#sk-container-id-2 div.sk-label input.sk-toggleable__control:checked~label.sk-toggleable__label {background-color: #d4ebff;}#sk-container-id-2 input.sk-hidden--visually {border: 0;clip: rect(1px 1px 1px 1px);clip: rect(1px, 1px, 1px, 1px);height: 1px;margin: -1px;overflow: hidden;padding: 0;position: absolute;width: 1px;}#sk-container-id-2 div.sk-estimator {font-family: monospace;background-color: #f0f8ff;border: 1px dotted black;border-radius: 0.25em;box-sizing: border-box;margin-bottom: 0.5em;}#sk-container-id-2 div.sk-estimator:hover {background-color: #d4ebff;}#sk-container-id-2 div.sk-parallel-item::after {content: \"\";width: 100%;border-bottom: 1px solid gray;flex-grow: 1;}#sk-container-id-2 div.sk-label:hover label.sk-toggleable__label {background-color: #d4ebff;}#sk-container-id-2 div.sk-serial::before {content: \"\";position: absolute;border-left: 1px solid gray;box-sizing: border-box;top: 0;bottom: 0;left: 50%;z-index: 0;}#sk-container-id-2 div.sk-serial {display: flex;flex-direction: column;align-items: center;background-color: white;padding-right: 0.2em;padding-left: 0.2em;position: relative;}#sk-container-id-2 div.sk-item {position: relative;z-index: 1;}#sk-container-id-2 div.sk-parallel {display: flex;align-items: stretch;justify-content: center;background-color: white;position: relative;}#sk-container-id-2 div.sk-item::before, #sk-container-id-2 div.sk-parallel-item::before {content: \"\";position: absolute;border-left: 1px solid gray;box-sizing: border-box;top: 0;bottom: 0;left: 50%;z-index: -1;}#sk-container-id-2 div.sk-parallel-item {display: flex;flex-direction: column;z-index: 1;position: relative;background-color: white;}#sk-container-id-2 div.sk-parallel-item:first-child::after {align-self: flex-end;width: 50%;}#sk-container-id-2 div.sk-parallel-item:last-child::after {align-self: flex-start;width: 50%;}#sk-container-id-2 div.sk-parallel-item:only-child::after {width: 0;}#sk-container-id-2 div.sk-dashed-wrapped {border: 1px dashed gray;margin: 0 0.4em 0.5em 0.4em;box-sizing: border-box;padding-bottom: 0.4em;background-color: white;}#sk-container-id-2 div.sk-label label {font-family: monospace;font-weight: bold;display: inline-block;line-height: 1.2em;}#sk-container-id-2 div.sk-label-container {text-align: center;}#sk-container-id-2 div.sk-container {/* jupyter's `normalize.less` sets `[hidden] { display: none; }` but bootstrap.min.css set `[hidden] { display: none !important; }` so we also need the `!important` here to be able to override the default hidden behavior on the sphinx rendered scikit-learn.org. See: https://github.com/scikit-learn/scikit-learn/issues/21755 */display: inline-block !important;position: relative;}#sk-container-id-2 div.sk-text-repr-fallback {display: none;}</style><div id=\"sk-container-id-2\" class=\"sk-top-container\"><div class=\"sk-text-repr-fallback\"><pre>DecisionTreeRegressor(max_depth=5, min_samples_split=3, random_state=120)</pre><b>In a Jupyter environment, please rerun this cell to show the HTML representation or trust the notebook. <br />On GitHub, the HTML representation is unable to render, please try loading this page with nbviewer.org.</b></div><div class=\"sk-container\" hidden><div class=\"sk-item\"><div class=\"sk-estimator sk-toggleable\"><input class=\"sk-toggleable__control sk-hidden--visually\" id=\"sk-estimator-id-2\" type=\"checkbox\" checked><label for=\"sk-estimator-id-2\" class=\"sk-toggleable__label sk-toggleable__label-arrow\">DecisionTreeRegressor</label><div class=\"sk-toggleable__content\"><pre>DecisionTreeRegressor(max_depth=5, min_samples_split=3, random_state=120)</pre></div></div></div></div></div>"
      ],
      "text/plain": [
       "DecisionTreeRegressor(max_depth=5, min_samples_split=3, random_state=120)"
      ]
     },
     "execution_count": 22,
     "metadata": {},
     "output_type": "execute_result"
    }
   ],
   "source": [
    "# 여기에 답안코드를 작성하세요.\n",
    "from sklearn.tree import DecisionTreeClassifier, DecisionTreeRegressor\n",
    "\n",
    "model = DecisionTreeRegressor(max_depth=5,min_samples_split=3,random_state=120)\n",
    "\n",
    "model.fit(X_train,y_train)\n"
   ]
  },
  {
   "cell_type": "markdown",
   "id": "c42fb023-9864-4471-8a45-44fdbfd35e93",
   "metadata": {
    "id": "c42fb023-9864-4471-8a45-44fdbfd35e93"
   },
   "source": [
    "<br>"
   ]
  },
  {
   "cell_type": "markdown",
   "id": "1ccbcefa-d9b4-454f-b82a-f755d5f16283",
   "metadata": {
    "id": "1ccbcefa-d9b4-454f-b82a-f755d5f16283"
   },
   "source": [
    "### 12. 위 의사결정나무(decision tree) 모델의 성능을 평가하려고 합니다.\n",
    "### 예측 결과의 mae(Mean Absolute Error)를 구하세요.\n",
    "* 성능 평가는 검증 데이터셋을 활용하세요.\n",
    "* 11번 문제에서 만든 의사결정나무(decision tree) 모델로 y값을 예측(predict)하여 y_pred에 저장하세요.\n",
    "* 검증 정답(y_valid)과 예측값(y_pred)의 mae(Mean Absolute Error)를 구하고 dt_mae 변수에 저장하세요."
   ]
  },
  {
   "cell_type": "code",
   "execution_count": 26,
   "id": "8a8b9d20-a680-4000-9b3a-aadfe5d6cb02",
   "metadata": {
    "id": "8a8b9d20-a680-4000-9b3a-aadfe5d6cb02"
   },
   "outputs": [],
   "source": [
    "# 여기에 답안코드를 작성하세요.\n",
    "from sklearn.metrics import mean_absolute_error\n",
    "\n",
    "y_pred = model.predict(X_valid)\n",
    "\n",
    "dt_mae = mean_absolute_error(y_valid,y_pred)\n"
   ]
  },
  {
   "cell_type": "markdown",
   "id": "ca8e3bcd-70a1-41fe-b050-2a7b3d97280b",
   "metadata": {
    "id": "ca8e3bcd-70a1-41fe-b050-2a7b3d97280b",
    "tags": []
   },
   "source": [
    "<br>"
   ]
  },
  {
   "cell_type": "markdown",
   "id": "9d72df85-cb80-4f1b-a4db-01ea5b4ec30d",
   "metadata": {
    "id": "9d72df85-cb80-4f1b-a4db-01ea5b4ec30d"
   },
   "source": [
    "##### **<span style=\"color:red\">다음 문항을 풀기 전에</span> 아래 코드를 실행하세요.**"
   ]
  },
  {
   "cell_type": "code",
   "execution_count": 27,
   "id": "5f6e8b6d-f740-4d98-9189-78cdb98991d0",
   "metadata": {
    "id": "5f6e8b6d-f740-4d98-9189-78cdb98991d0"
   },
   "outputs": [
    {
     "name": "stderr",
     "output_type": "stream",
     "text": [
      "2025-04-25 12:11:15.793185: I tensorflow/core/util/port.cc:113] oneDNN custom operations are on. You may see slightly different numerical results due to floating-point round-off errors from different computation orders. To turn them off, set the environment variable `TF_ENABLE_ONEDNN_OPTS=0`.\n",
      "2025-04-25 12:11:16.016367: E external/local_xla/xla/stream_executor/cuda/cuda_dnn.cc:9373] Unable to register cuDNN factory: Attempting to register factory for plugin cuDNN when one has already been registered\n",
      "2025-04-25 12:11:16.016582: E external/local_xla/xla/stream_executor/cuda/cuda_fft.cc:607] Unable to register cuFFT factory: Attempting to register factory for plugin cuFFT when one has already been registered\n",
      "2025-04-25 12:11:16.051208: E external/local_xla/xla/stream_executor/cuda/cuda_blas.cc:1534] Unable to register cuBLAS factory: Attempting to register factory for plugin cuBLAS when one has already been registered\n",
      "2025-04-25 12:11:16.133275: I tensorflow/core/platform/cpu_feature_guard.cc:183] This TensorFlow binary is optimized to use available CPU instructions in performance-critical operations.\n",
      "To enable the following instructions: SSE3 SSE4.1 SSE4.2 AVX, in other operations, rebuild TensorFlow with the appropriate compiler flags.\n"
     ]
    }
   ],
   "source": [
    "import tensorflow as tf\n",
    "from tensorflow.keras.models import Sequential, load_model\n",
    "from tensorflow.keras.layers import Dense, Activation, Dropout, BatchNormalization\n",
    "from tensorflow.keras.callbacks import EarlyStopping, ModelCheckpoint\n",
    "from tensorflow.keras.utils import to_categorical\n",
    "\n",
    "tf.random.set_seed(1)"
   ]
  },
  {
   "cell_type": "markdown",
   "id": "0d15cb7c-f9fd-45ce-85e0-7ea72a4091a5",
   "metadata": {
    "id": "0d15cb7c-f9fd-45ce-85e0-7ea72a4091a5",
    "tags": []
   },
   "source": [
    "<br>"
   ]
  },
  {
   "cell_type": "markdown",
   "id": "e897fb3e-1364-4445-ac10-920f82ae4232",
   "metadata": {
    "id": "e897fb3e-1364-4445-ac10-920f82ae4232"
   },
   "source": [
    "### 13. Time_Driving(실주행시간)을 예측하는 딥러닝 모델을 만들려고 합니다.\n",
    "### 아래 가이드에 따라 모델링하고 학습을 진행하세요.\n",
    "* Tensoflow framework를 사용하여 딥러닝 모델을 만드세요.\n",
    "* 히든레이어(hidden layer) 2개이상으로 모델을 구성하세요.\n",
    "* dropout 비율 0.2로 Dropout 레이어 1개를 추가해 주세요.\n",
    "* 손실함수는 MSE(Mean Squared Error)를 사용하세요.\n",
    "* 하이퍼파라미터 epochs: 30, batch_size: 16으로 설정해주세요.\n",
    "* 각 에포크마다 loss와 metrics 평가하기 위한 데이터로 X_valid, y_valid 사용하세요.\n",
    "* 학습정보는 history 변수에 저장해주세요"
   ]
  },
  {
   "cell_type": "code",
   "execution_count": 38,
   "id": "df129f00-16d9-427b-adef-af90f3ab177c",
   "metadata": {
    "id": "df129f00-16d9-427b-adef-af90f3ab177c"
   },
   "outputs": [
    {
     "name": "stdout",
     "output_type": "stream",
     "text": [
      "Epoch 1/30\n",
      "2776/2776 [==============================] - 7s 2ms/step - loss: 160397.3438 - mse: 160397.3438 - val_loss: 92716.9453 - val_mse: 92716.9453\n",
      "Epoch 2/30\n",
      "2776/2776 [==============================] - 7s 2ms/step - loss: 60323.0664 - mse: 60323.0664 - val_loss: 30095.1719 - val_mse: 30095.1719\n",
      "Epoch 3/30\n",
      "2776/2776 [==============================] - 7s 2ms/step - loss: 35258.8438 - mse: 35258.8438 - val_loss: 30448.9688 - val_mse: 30448.9688\n",
      "Epoch 4/30\n",
      "2776/2776 [==============================] - 7s 2ms/step - loss: 26236.6348 - mse: 26236.6348 - val_loss: 35516.0312 - val_mse: 35516.0312\n",
      "Epoch 5/30\n",
      "2776/2776 [==============================] - 7s 2ms/step - loss: 22028.5352 - mse: 22028.5352 - val_loss: 26379.0430 - val_mse: 26379.0430\n",
      "Epoch 6/30\n",
      "2776/2776 [==============================] - 7s 2ms/step - loss: 20811.8535 - mse: 20811.8535 - val_loss: 40135.2227 - val_mse: 40135.2227\n",
      "Epoch 7/30\n",
      "2776/2776 [==============================] - 6s 2ms/step - loss: 20081.4707 - mse: 20081.4707 - val_loss: 27581.4824 - val_mse: 27581.4824\n",
      "Epoch 8/30\n",
      "2776/2776 [==============================] - 6s 2ms/step - loss: 17450.5566 - mse: 17450.5566 - val_loss: 18978.4297 - val_mse: 18978.4297\n",
      "Epoch 9/30\n",
      "2776/2776 [==============================] - 6s 2ms/step - loss: 18192.5117 - mse: 18192.5117 - val_loss: 22089.9434 - val_mse: 22089.9434\n",
      "Epoch 10/30\n",
      "2776/2776 [==============================] - 7s 2ms/step - loss: 18116.2617 - mse: 18116.2617 - val_loss: 28006.3105 - val_mse: 28006.3105\n",
      "Epoch 11/30\n",
      "2776/2776 [==============================] - 7s 2ms/step - loss: 17285.4863 - mse: 17285.4863 - val_loss: 113699.4219 - val_mse: 113699.4219\n",
      "Epoch 12/30\n",
      "2776/2776 [==============================] - 7s 2ms/step - loss: 14716.8008 - mse: 14716.8008 - val_loss: 47779.1367 - val_mse: 47779.1367\n",
      "Epoch 13/30\n",
      "2776/2776 [==============================] - 7s 2ms/step - loss: 14553.1006 - mse: 14553.1006 - val_loss: 61963.4219 - val_mse: 61963.4219\n",
      "Epoch 14/30\n",
      "2776/2776 [==============================] - 6s 2ms/step - loss: 16547.3086 - mse: 16547.3086 - val_loss: 112452.7812 - val_mse: 112452.7812\n",
      "Epoch 15/30\n",
      "2776/2776 [==============================] - 6s 2ms/step - loss: 16496.9141 - mse: 16496.9141 - val_loss: 41936.3086 - val_mse: 41936.3086\n",
      "Epoch 16/30\n",
      "2776/2776 [==============================] - 7s 2ms/step - loss: 19384.4863 - mse: 19384.4863 - val_loss: 47213.5273 - val_mse: 47213.5273\n",
      "Epoch 17/30\n",
      "2776/2776 [==============================] - 6s 2ms/step - loss: 17071.1387 - mse: 17071.1387 - val_loss: 50442.2227 - val_mse: 50442.2227\n",
      "Epoch 18/30\n",
      "2776/2776 [==============================] - 6s 2ms/step - loss: 21172.6797 - mse: 21172.6797 - val_loss: 45808.8320 - val_mse: 45808.8320\n",
      "Epoch 19/30\n",
      "2776/2776 [==============================] - 6s 2ms/step - loss: 29000.5449 - mse: 29000.5449 - val_loss: 43523.1953 - val_mse: 43523.1953\n",
      "Epoch 20/30\n",
      "2776/2776 [==============================] - 7s 2ms/step - loss: 25897.2773 - mse: 25897.2773 - val_loss: 62171.3477 - val_mse: 62171.3477\n",
      "Epoch 21/30\n",
      "2776/2776 [==============================] - 7s 2ms/step - loss: 24678.3340 - mse: 24678.3340 - val_loss: 33937.0547 - val_mse: 33937.0547\n",
      "Epoch 22/30\n",
      "2776/2776 [==============================] - 7s 2ms/step - loss: 43349.0391 - mse: 43349.0391 - val_loss: 50053.6953 - val_mse: 50053.6953\n",
      "Epoch 23/30\n",
      "2776/2776 [==============================] - 7s 2ms/step - loss: 44727.7891 - mse: 44727.7891 - val_loss: 64088.7109 - val_mse: 64088.7109\n",
      "Epoch 24/30\n",
      "2776/2776 [==============================] - 6s 2ms/step - loss: 44973.9180 - mse: 44973.9180 - val_loss: 41471.8086 - val_mse: 41471.8086\n",
      "Epoch 25/30\n",
      "2776/2776 [==============================] - 7s 2ms/step - loss: 42658.0039 - mse: 42658.0039 - val_loss: 42379.8242 - val_mse: 42379.8242\n",
      "Epoch 26/30\n",
      "2776/2776 [==============================] - 6s 2ms/step - loss: 42256.5000 - mse: 42256.5000 - val_loss: 33950.6406 - val_mse: 33950.6406\n",
      "Epoch 27/30\n",
      "2776/2776 [==============================] - 7s 2ms/step - loss: 44199.8828 - mse: 44199.8828 - val_loss: 35861.0156 - val_mse: 35861.0156\n",
      "Epoch 28/30\n",
      "2776/2776 [==============================] - 7s 2ms/step - loss: 43156.6445 - mse: 43156.6445 - val_loss: 47844.3633 - val_mse: 47844.3633\n",
      "Epoch 29/30\n",
      "2776/2776 [==============================] - 6s 2ms/step - loss: 42521.1602 - mse: 42521.1602 - val_loss: 37697.3086 - val_mse: 37697.3086\n",
      "Epoch 30/30\n",
      "2776/2776 [==============================] - 7s 2ms/step - loss: 43621.8867 - mse: 43621.8867 - val_loss: 38120.8750 - val_mse: 38120.8750\n"
     ]
    }
   ],
   "source": [
    "# 여기에 답안코드를 작성하세요.\n",
    "\n",
    "model = Sequential()\n",
    "model.add(Dense(64,activation='relu',input_shape=(X_train.shape[1],)))\n",
    "model.add(Dropout(0.2))\n",
    "model.add(Dense(64,activation='relu'))\n",
    "model.add(Dense(1))\n",
    "\n",
    "model.compile(optimizer='adam',loss='mse',metrics=['mse'])\n",
    "\n",
    "history = model.fit(X_train,y_train,batch_size=16,epochs=30,validation_data=(X_valid,y_valid))\n"
   ]
  },
  {
   "cell_type": "markdown",
   "id": "12f33874-3f1e-4b63-ba3e-91d90ee5e512",
   "metadata": {
    "id": "12f33874-3f1e-4b63-ba3e-91d90ee5e512"
   },
   "source": [
    "<br>"
   ]
  },
  {
   "cell_type": "markdown",
   "id": "8989c197-ec84-4192-955d-1c52d34cb006",
   "metadata": {
    "id": "8989c197-ec84-4192-955d-1c52d34cb006"
   },
   "source": [
    "### 14. 위 딥러닝 모델의 성능을 평가하려고 합니다.\n",
    "### Matplotlib 라이브러리 활용해서 학습 mse와 검증 mse를 그래프로 표시하세요.\n",
    "* 1개의 그래프에 학습 mse과 검증 mse 2가지를 모두 표시하세요.\n",
    "* 위 2가지 각각의 범례를 'mse', 'val_mse'로 표시하세요.\n",
    "* 그래프의 타이틀은 'Model MSE'로 표시하세요.\n",
    "* X축에는 'Epochs'라고 표시하고 Y축에는 'MSE'라고 표시하세요."
   ]
  },
  {
   "cell_type": "code",
   "execution_count": 39,
   "id": "e5094d66-0b51-45bf-89f0-07af04d7909e",
   "metadata": {
    "id": "e5094d66-0b51-45bf-89f0-07af04d7909e"
   },
   "outputs": [
    {
     "data": {
      "image/png": "[encoded data removed]",
      "text/plain": [
       "<Figure size 640x480 with 1 Axes>"
      ]
     },
     "metadata": {},
     "output_type": "display_data"
    }
   ],
   "source": [
    "# 여기에 답안코드를 작성하세요.\n",
    "\n",
    "mse = history.history['mse']\n",
    "val_mse = history.history['val_mse']\n",
    "\n",
    "plt.plot(mse,label='mse')\n",
    "plt.plot(val_mse,label='val_mse')\n",
    "\n",
    "plt.title('Model MSE')\n",
    "plt.xlabel('Epochs')\n",
    "plt.ylabel('MSE')\n",
    "\n",
    "plt.show()"
   ]
  },
  {
   "cell_type": "code",
   "execution_count": null,
   "id": "74bf360b",
   "metadata": {},
   "outputs": [],
   "source": []
  }
 ],
 "metadata": {
  "colab": {
   "provenance": []
  },
  "kernelspec": {
   "display_name": "Python 3",
   "language": "python",
   "name": "python3"
  },
  "language_info": {
   "codemirror_mode": {
    "name": "ipython",
    "version": 3
   },
   "file_extension": ".py",
   "mimetype": "text/x-python",
   "name": "python",
   "nbconvert_exporter": "python",
   "pygments_lexer": "ipython3",
   "version": "3.10.12"
  }
 },
 "nbformat": 4,
 "nbformat_minor": 5
}
