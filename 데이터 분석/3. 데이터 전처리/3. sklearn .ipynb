{
 "cells": [
  {
   "cell_type": "markdown",
   "metadata": {
    "id": "VAsQRro5mRbg"
   },
   "source": [
    "# scikit-learn (사이킷런)\n",
    "scikit-learn은 Python에서 머신러닝과 데이터 전처리를 위한 가장 널리 사용되는 라이브러리입니다.\n",
    "머신러닝 모델을 쉽게 구축하고, 학습시키고, 평가할 수 있도록 다양한 기능을 제공합니다.\n",
    "sklearn은 NumPy, SciPy, matplotlib 등을 기반으로 하며, 전처리, 모델링, 평가, 파이프라인까지 폭넓게 지원합니다.\n",
    "\n",
    "\n",
    "\n",
    " <img src=\"./sorce/scikitlearn.png\" height=\"150\" width=\"300\">\n",
    "\n",
    "\n",
    "scikit-learn은 다음과 같은 주요 특징을 가지고 있습니다:\n",
    "\n",
    "- 간편한 API : .fit(), .transform(), .predict() 등 직관적 메서드 제공\n",
    "\n",
    "- 전처리 기능 제공 : 스케일링, 인코딩, 결측치 대체 등 전처리 도구 내장\n",
    "\n",
    "- 다양한 알고리즘 지원 : 분류, 회귀, 클러스터링, 차원 축소 등 머신러닝 모델 제공\n",
    "\n",
    "- 일관된 사용 방식 : 모든 객체가 유사한 방식으로 작동하여 학습이 쉬움\n",
    "\n",
    "- 파이프라인 지원 : 전처리와 모델 학습을 순차적으로 자동화 가능\n",
    "\n",
    "\n",
    "<br/>\n",
    "<br/>\n",
    "여기에서는 데이터 전처리를 위해 scikit learn 을 사용해보겠습니다.\n",
    "\n",
    "<br/>\n",
    "먼저 라이브러리를 불러오겠습니다.\n",
    "scikit learn 은 sklearn 이라는 명칭으로 사용됩니다."
   ]
  },
  {
   "cell_type": "code",
   "execution_count": 1,
   "metadata": {
    "id": "on93tyLtJ1OT"
   },
   "outputs": [],
   "source": [
    "import sklearn\n",
    "import numpy as np\n",
    "import pandas as pd"
   ]
  },
  {
   "cell_type": "markdown",
   "metadata": {
    "id": "atUTLqF_rFbg"
   },
   "source": [
    "## 범주형 데이터 전처리\n",
    "범주형 데이터이 텍스트로 이루어져 있는 경우, 컴퓨터가 데이터분석에서 처리할 수 없습니다. 따라서 데이터 전처리 과정에서 범주형 데이터는 숫자로 변화해야합니다.\n",
    "<br/>\n",
    "범주형 데이터를 전처리를 하는 방식 중 많이 쓰이는 2가지를 소개합니다.\n",
    "* 레이블 인코딩 (Label encoding)\n",
    "* 원핫 인코딩 (OneHot encoding)\n",
    "\n",
    "<br/>\n",
    "<br/>\n",
    "<br/>\n",
    "<br/>\n",
    "\n",
    "### 1) 레이블 인코딩 (Label Encoding)\n",
    "텍스트 데이터를 숫자로 변환하는 가장 간단한 방법입니다. 각 범주데이터를 0,1,2... 차례로 변환 시켜주는 방식입니다. 여기에서  sklearn 의 LabelEncoder 클래스를 활용합니다.  \n",
    "여러 도시를 담은 `도시` 컬럼을 생성하고 각 도시를 0, 1, 2... 와 같은 숫자로 바꿔 `도시_인코딩` 컬럼에 저장해보세요."
   ]
  },
  {
   "cell_type": "code",
   "execution_count": 2,
   "metadata": {
    "id": "I-uX6e0OEn4M"
   },
   "outputs": [
    {
     "data": {
      "application/vnd.microsoft.datawrangler.viewer.v0+json": {
       "columns": [
        {
         "name": "index",
         "rawType": "int64",
         "type": "integer"
        },
        {
         "name": "도시",
         "rawType": "object",
         "type": "string"
        },
        {
         "name": "도시_인코딩",
         "rawType": "int32",
         "type": "integer"
        }
       ],
       "conversionMethod": "pd.DataFrame",
       "ref": "977271bb-f86e-494a-a366-39c2c682c72a",
       "rows": [
        [
         "0",
         "서울",
         "2"
        ],
        [
         "1",
         "부산",
         "1"
        ],
        [
         "2",
         "대전",
         "0"
        ],
        [
         "3",
         "서울",
         "2"
        ],
        [
         "4",
         "부산",
         "1"
        ]
       ],
       "shape": {
        "columns": 2,
        "rows": 5
       }
      },
      "text/html": [
       "<div>\n",
       "<style scoped>\n",
       "    .dataframe tbody tr th:only-of-type {\n",
       "        vertical-align: middle;\n",
       "    }\n",
       "\n",
       "    .dataframe tbody tr th {\n",
       "        vertical-align: top;\n",
       "    }\n",
       "\n",
       "    .dataframe thead th {\n",
       "        text-align: right;\n",
       "    }\n",
       "</style>\n",
       "<table border=\"1\" class=\"dataframe\">\n",
       "  <thead>\n",
       "    <tr style=\"text-align: right;\">\n",
       "      <th></th>\n",
       "      <th>도시</th>\n",
       "      <th>도시_인코딩</th>\n",
       "    </tr>\n",
       "  </thead>\n",
       "  <tbody>\n",
       "    <tr>\n",
       "      <th>0</th>\n",
       "      <td>서울</td>\n",
       "      <td>2</td>\n",
       "    </tr>\n",
       "    <tr>\n",
       "      <th>1</th>\n",
       "      <td>부산</td>\n",
       "      <td>1</td>\n",
       "    </tr>\n",
       "    <tr>\n",
       "      <th>2</th>\n",
       "      <td>대전</td>\n",
       "      <td>0</td>\n",
       "    </tr>\n",
       "    <tr>\n",
       "      <th>3</th>\n",
       "      <td>서울</td>\n",
       "      <td>2</td>\n",
       "    </tr>\n",
       "    <tr>\n",
       "      <th>4</th>\n",
       "      <td>부산</td>\n",
       "      <td>1</td>\n",
       "    </tr>\n",
       "  </tbody>\n",
       "</table>\n",
       "</div>"
      ],
      "text/plain": [
       "   도시  도시_인코딩\n",
       "0  서울       2\n",
       "1  부산       1\n",
       "2  대전       0\n",
       "3  서울       2\n",
       "4  부산       1"
      ]
     },
     "metadata": {},
     "output_type": "display_data"
    }
   ],
   "source": [
    "# 여기에 코드를 작성해보세요!\n",
    "from sklearn.preprocessing import LabelEncoder\n",
    "\n",
    "df = pd.DataFrame({\"도시\": [\"서울\", \"부산\", \"대전\", \"서울\", \"부산\"]})\n",
    "\n",
    "encoder = LabelEncoder()\n",
    "\n",
    "df[\"도시_인코딩\"] = encoder.fit_transform(df[\"도시\"])\n",
    "\n",
    "display(df)"
   ]
  },
  {
   "cell_type": "code",
   "execution_count": null,
   "metadata": {
    "colab": {
     "base_uri": "https://localhost:8080/"
    },
    "executionInfo": {
     "elapsed": 33,
     "status": "ok",
     "timestamp": 1742946343741,
     "user": {
      "displayName": "MinJeong Shin",
      "userId": "09913383294869151014"
     },
     "user_tz": -540
    },
    "id": "YF9BaeB_rE38",
    "outputId": "eef16011-bddd-4ac8-ae08-cd0799b9ed7c"
   },
   "outputs": [
    {
     "name": "stdout",
     "output_type": "stream",
     "text": [
      "   도시  도시_인코딩\n",
      "0  서울       2\n",
      "1  부산       1\n",
      "2  대전       0\n",
      "3  서울       2\n",
      "4  부산       1\n"
     ]
    }
   ],
   "source": [
    "# 모범답안\n",
    "\n",
    "import pandas as pd\n",
    "from sklearn.preprocessing import LabelEncoder\n",
    "\n",
    "# 데이터 생성\n",
    "df = pd.DataFrame({\"도시\": [\"서울\", \"부산\", \"대전\", \"서울\", \"부산\"]})\n",
    "\n",
    "# 라벨 인코딩 적용\n",
    "encoder = LabelEncoder()\n",
    "df[\"도시_인코딩\"] = encoder.fit_transform(df[\"도시\"])\n",
    "\n",
    "print(df)"
   ]
  },
  {
   "cell_type": "markdown",
   "metadata": {
    "id": "_b_39ue9sO84"
   },
   "source": [
    "### 2) 원 핫 인코딩 (One-Hot Emcoding)\n",
    "원핫 인코딩은 범주형 데이터를 숫자로 표현하지만, 각 범주를 단순 숫자배열이 아닌, 별도 열(column)을 만들어서 0 또는 1로 표시하는 방식입니다.  \n",
    "\n",
    "`도시` 컬럼의 각 고유값을 새로운 열로 만들어, 해당 행의 도시에만 1(True)을 표시하고 나머진 0(False)로 표시해보세요."
   ]
  },
  {
   "cell_type": "code",
   "execution_count": null,
   "metadata": {
    "id": "2Te0-kwOEuoA"
   },
   "outputs": [],
   "source": [
    "# 여기에 코드를 작성해보세요!"
   ]
  },
  {
   "cell_type": "code",
   "execution_count": null,
   "metadata": {
    "colab": {
     "base_uri": "https://localhost:8080/"
    },
    "executionInfo": {
     "elapsed": 51,
     "status": "ok",
     "timestamp": 1742946345870,
     "user": {
      "displayName": "MinJeong Shin",
      "userId": "09913383294869151014"
     },
     "user_tz": -540
    },
    "id": "1N5gvFYesOcs",
    "outputId": "c71ae987-492a-40d4-c083-a5a78da0f10d"
   },
   "outputs": [
    {
     "name": "stdout",
     "output_type": "stream",
     "text": [
      "   도시_인코딩  도시_대전  도시_부산  도시_서울\n",
      "0       2  False  False   True\n",
      "1       1  False   True  False\n",
      "2       0   True  False  False\n",
      "3       2  False  False   True\n",
      "4       1  False   True  False\n"
     ]
    }
   ],
   "source": [
    "# 모범답안\n",
    "df = pd.get_dummies(df, columns=[\"도시\"])\n",
    "print(df)"
   ]
  },
  {
   "cell_type": "markdown",
   "metadata": {
    "id": "SCVfwyjZsziB"
   },
   "source": [
    "<br/>\n",
    "<br/>\n",
    "<br/>\n",
    "\n",
    "# 데이터의 정규화 & 표준화\n",
    "\n",
    "## 데이터의 정규화 (Normalization)\n",
    "정규화는 데이터의 값을 0과 1 사이로 압축하는 작업입니다.\n",
    "가장 많이 사용되는 방식은 MinMaxScaler 입니다.\n",
    "\n",
    "## 특징\n",
    "\n",
    "* 데이터를 0과 1 사이의 값으로 변환하는 방법\n",
    "* 각 특성(feature)이 서로 다른 범위를 가지더라도 모든 값을 같은 스케일로 맞출 수 있음\n",
    "* 최소값(min)과 최대값(max)을 기준으로 데이터를 변환하기 때문에, 이상치(outlier)의 영향을 받을 가능성이 있음\n",
    "* 데이터의 크기가 너무 클 경우 값이 한쪽으로 치우치는 것을 방지하고, 모델이 학습하는 속도를 높이고 성능을 개선하는 효과가 있음\n",
    "\n",
    "`(5, 1)` 크기의 데이터를 생성하고 `MinMaxScaler()`을 이용해 0과 1 사이로 정규화해보세요."
   ]
  },
  {
   "cell_type": "code",
   "execution_count": null,
   "metadata": {
    "id": "6JWuNtY-ElXq"
   },
   "outputs": [],
   "source": [
    "# 여기에 코드를 작성해보세요!"
   ]
  },
  {
   "cell_type": "code",
   "execution_count": null,
   "metadata": {
    "colab": {
     "base_uri": "https://localhost:8080/"
    },
    "executionInfo": {
     "elapsed": 16,
     "status": "ok",
     "timestamp": 1742946663205,
     "user": {
      "displayName": "MinJeong Shin",
      "userId": "09913383294869151014"
     },
     "user_tz": -540
    },
    "id": "fjkNv037szwy",
    "outputId": "c7d34fbb-762a-4fce-c0a9-7c4bc40c89a5"
   },
   "outputs": [
    {
     "name": "stdout",
     "output_type": "stream",
     "text": [
      "[[0.  ]\n",
      " [0.25]\n",
      " [0.5 ]\n",
      " [0.75]\n",
      " [1.  ]]\n"
     ]
    }
   ],
   "source": [
    "# 모범답안\n",
    "\n",
    "import numpy as np\n",
    "from sklearn.preprocessing import MinMaxScaler\n",
    "\n",
    "data = np.array([[100], [200], [300], [400], [500]])  # 예제 데이터\n",
    "\n",
    "scaler = MinMaxScaler()\n",
    "normalized_data = scaler.fit_transform(data)\n",
    "\n",
    "print(normalized_data)\n"
   ]
  },
  {
   "cell_type": "markdown",
   "metadata": {
    "id": "BjmYuY0Gt7Ss"
   },
   "source": [
    "## 데이터의 표준화 (Standardization)\n",
    "표준화는 데이터의 평균을 0, 표준편차를 1로 변환하는 전처리 기법입니다.\n",
    "\n",
    "주로 변수의 단위와 크기가 다른 경우, 모델의 성능 향상과 학습 안정성 확보를 위해 사용합니다.\n",
    "\n",
    "## 특징\n",
    "\n",
    "* 데이터를 평균이 0, 표준편차가 1인 정규 분포로 변환하는 방법\n",
    "* 이상치(outlier)가 있어도 크게 영향을 받지 않음\n",
    "* 데이터가 서로 다른 단위를 가지고 있거나, 평균과 분산이 크게 차이가 나는 경우에 사용함\n",
    "* 데이터가 정규분포를 따르는 경우, 표준화를 하면 통계적 분석이 더 정확해짐\n",
    "\n",
    "`StandardScaler()`를 이용하여 위에서 만든 데이터를 평균 0, 표준편차 1로 표준화해보세요.\n"
   ]
  },
  {
   "cell_type": "code",
   "execution_count": null,
   "metadata": {
    "id": "n_yXnmx5EhTh"
   },
   "outputs": [],
   "source": [
    "# 여기에 코드를 작성해보세요!"
   ]
  },
  {
   "cell_type": "code",
   "execution_count": null,
   "metadata": {
    "colab": {
     "base_uri": "https://localhost:8080/"
    },
    "executionInfo": {
     "elapsed": 11,
     "status": "ok",
     "timestamp": 1742946761637,
     "user": {
      "displayName": "MinJeong Shin",
      "userId": "09913383294869151014"
     },
     "user_tz": -540
    },
    "id": "K7Wa_z3lszz8",
    "outputId": "67e5973d-8966-4a58-af5d-a67518115859"
   },
   "outputs": [
    {
     "name": "stdout",
     "output_type": "stream",
     "text": [
      "[[-1.41421356]\n",
      " [-0.70710678]\n",
      " [ 0.        ]\n",
      " [ 0.70710678]\n",
      " [ 1.41421356]]\n"
     ]
    }
   ],
   "source": [
    "# 모범답안\n",
    "\n",
    "from sklearn.preprocessing import StandardScaler\n",
    "\n",
    "scaler = StandardScaler()\n",
    "standardized_data = scaler.fit_transform(data)\n",
    "\n",
    "print(standardized_data)\n"
   ]
  }
 ],
 "metadata": {
  "colab": {
   "provenance": []
  },
  "kernelspec": {
   "display_name": "base",
   "language": "python",
   "name": "python3"
  },
  "language_info": {
   "codemirror_mode": {
    "name": "ipython",
    "version": 3
   },
   "file_extension": ".py",
   "mimetype": "text/x-python",
   "name": "python",
   "nbconvert_exporter": "python",
   "pygments_lexer": "ipython3",
   "version": "3.9.7"
  }
 },
 "nbformat": 4,
 "nbformat_minor": 0
}
