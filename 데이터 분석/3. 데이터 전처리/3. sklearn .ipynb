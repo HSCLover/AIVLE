{
 "cells": [
  {
   "cell_type": "markdown",
   "metadata": {
    "id": "VAsQRro5mRbg"
   },
   "source": [
    "# scikit-learn (사이킷런)\n",
    "scikit-learn은 Python에서 머신러닝과 데이터 전처리를 위한 가장 널리 사용되는 라이브러리입니다.\n",
    "머신러닝 모델을 쉽게 구축하고, 학습시키고, 평가할 수 있도록 다양한 기능을 제공합니다.\n",
    "sklearn은 NumPy, SciPy, matplotlib 등을 기반으로 하며, 전처리, 모델링, 평가, 파이프라인까지 폭넓게 지원합니다.\n",
    "\n",
    "\n",
    "\n",
    " <img src=\"./sorce/scikitlearn.png\" height=\"150\" width=\"300\">\n",
    "\n",
    "\n",
    "scikit-learn은 다음과 같은 주요 특징을 가지고 있습니다:\n",
    "\n",
    "- 간편한 API : .fit(), .transform(), .predict() 등 직관적 메서드 제공\n",
    "\n",
    "- 전처리 기능 제공 : 스케일링, 인코딩, 결측치 대체 등 전처리 도구 내장\n",
    "\n",
    "- 다양한 알고리즘 지원 : 분류, 회귀, 클러스터링, 차원 축소 등 머신러닝 모델 제공\n",
    "\n",
    "- 일관된 사용 방식 : 모든 객체가 유사한 방식으로 작동하여 학습이 쉬움\n",
    "\n",
    "- 파이프라인 지원 : 전처리와 모델 학습을 순차적으로 자동화 가능\n",
    "\n",
    "\n",
    "<br/>\n",
    "<br/>\n",
    "여기에서는 데이터 전처리를 위해 scikit learn 을 사용해보겠습니다.\n",
    "\n",
    "<br/>\n",
    "먼저 라이브러리를 불러오겠습니다.\n",
    "scikit learn 은 sklearn 이라는 명칭으로 사용됩니다."
   ]
  },
  {
   "cell_type": "code",
   "execution_count": 1,
   "metadata": {
    "id": "on93tyLtJ1OT"
   },
   "outputs": [
    {
     "name": "stdout",
     "output_type": "stream",
     "text": [
      "cuda\n"
     ]
    }
   ],
   "source": [
    "import sklearn\n",
    "import numpy as np\n",
    "import pandas as pd\n",
    "\n",
    "import torch\n",
    "device = torch.device(\"cuda\" if torch.cuda.is_available() else \"cpu\")\n",
    "print(device)"
   ]
  },
  {
   "cell_type": "markdown",
   "metadata": {
    "id": "atUTLqF_rFbg"
   },
   "source": [
    "## 범주형 데이터 전처리\n",
    "범주형 데이터이 텍스트로 이루어져 있는 경우, 컴퓨터가 데이터분석에서 처리할 수 없습니다. 따라서 데이터 전처리 과정에서 범주형 데이터는 숫자로 변화해야합니다.\n",
    "<br/>\n",
    "범주형 데이터를 전처리를 하는 방식 중 많이 쓰이는 2가지를 소개합니다.\n",
    "* 레이블 인코딩 (Label encoding)\n",
    "* 원핫 인코딩 (OneHot encoding)\n",
    "\n",
    "<br/>\n",
    "<br/>\n",
    "<br/>\n",
    "<br/>\n",
    "\n",
    "### 1) 레이블 인코딩 (Label Encoding)\n",
    "텍스트 데이터를 숫자로 변환하는 가장 간단한 방법입니다. 각 범주데이터를 0,1,2... 차례로 변환 시켜주는 방식입니다. 여기에서  sklearn 의 LabelEncoder 클래스를 활용합니다.  \n",
    "여러 도시를 담은 `도시` 컬럼을 생성하고 각 도시를 0, 1, 2... 와 같은 숫자로 바꿔 `도시_인코딩` 컬럼에 저장해보세요."
   ]
  },
  {
   "cell_type": "code",
   "execution_count": 2,
   "metadata": {
    "id": "I-uX6e0OEn4M"
   },
   "outputs": [
    {
     "data": {
      "text/html": [
       "<div>\n",
       "<style scoped>\n",
       "    .dataframe tbody tr th:only-of-type {\n",
       "        vertical-align: middle;\n",
       "    }\n",
       "\n",
       "    .dataframe tbody tr th {\n",
       "        vertical-align: top;\n",
       "    }\n",
       "\n",
       "    .dataframe thead th {\n",
       "        text-align: right;\n",
       "    }\n",
       "</style>\n",
       "<table border=\"1\" class=\"dataframe\">\n",
       "  <thead>\n",
       "    <tr style=\"text-align: right;\">\n",
       "      <th></th>\n",
       "      <th>도시</th>\n",
       "      <th>도시_인코딩</th>\n",
       "    </tr>\n",
       "  </thead>\n",
       "  <tbody>\n",
       "    <tr>\n",
       "      <th>0</th>\n",
       "      <td>서울</td>\n",
       "      <td>2</td>\n",
       "    </tr>\n",
       "    <tr>\n",
       "      <th>1</th>\n",
       "      <td>부산</td>\n",
       "      <td>1</td>\n",
       "    </tr>\n",
       "    <tr>\n",
       "      <th>2</th>\n",
       "      <td>대전</td>\n",
       "      <td>0</td>\n",
       "    </tr>\n",
       "    <tr>\n",
       "      <th>3</th>\n",
       "      <td>서울</td>\n",
       "      <td>2</td>\n",
       "    </tr>\n",
       "    <tr>\n",
       "      <th>4</th>\n",
       "      <td>부산</td>\n",
       "      <td>1</td>\n",
       "    </tr>\n",
       "  </tbody>\n",
       "</table>\n",
       "</div>"
      ],
      "text/plain": [
       "   도시  도시_인코딩\n",
       "0  서울       2\n",
       "1  부산       1\n",
       "2  대전       0\n",
       "3  서울       2\n",
       "4  부산       1"
      ]
     },
     "metadata": {},
     "output_type": "display_data"
    }
   ],
   "source": [
    "# 여기에 코드를 작성해보세요!\n",
    "from sklearn.preprocessing import LabelEncoder\n",
    "\n",
    "df = pd.DataFrame({\"도시\": [\"서울\", \"부산\", \"대전\", \"서울\", \"부산\"]})\n",
    "\n",
    "encoder = LabelEncoder()\n",
    "\n",
    "df[\"도시_인코딩\"] = encoder.fit_transform(df[\"도시\"])\n",
    "\n",
    "display(df)"
   ]
  },
  {
   "cell_type": "code",
   "execution_count": 3,
   "metadata": {
    "colab": {
     "base_uri": "https://localhost:8080/"
    },
    "executionInfo": {
     "elapsed": 33,
     "status": "ok",
     "timestamp": 1742946343741,
     "user": {
      "displayName": "MinJeong Shin",
      "userId": "09913383294869151014"
     },
     "user_tz": -540
    },
    "id": "YF9BaeB_rE38",
    "outputId": "eef16011-bddd-4ac8-ae08-cd0799b9ed7c"
   },
   "outputs": [
    {
     "name": "stdout",
     "output_type": "stream",
     "text": [
      "   도시  도시_인코딩\n",
      "0  서울       2\n",
      "1  부산       1\n",
      "2  대전       0\n",
      "3  서울       2\n",
      "4  부산       1\n"
     ]
    }
   ],
   "source": [
    "3# 모범답안\n",
    "\n",
    "import pandas as pd\n",
    "from sklearn.preprocessing import LabelEncoder\n",
    "\n",
    "# 데이터 생성\n",
    "df = pd.DataFrame({\"도시\": [\"서울\", \"부산\", \"대전\", \"서울\", \"부산\"]})\n",
    "\n",
    "# 라벨 인코딩 적용\n",
    "encoder = LabelEncoder()\n",
    "df[\"도시_인코딩\"] = encoder.fit_transform(df[\"도시\"])\n",
    "\n",
    "print(df)"
   ]
  },
  {
   "cell_type": "markdown",
   "metadata": {
    "id": "_b_39ue9sO84"
   },
   "source": [
    "### 2) 원 핫 인코딩 (One-Hot Emcoding)\n",
    "원핫 인코딩은 범주형 데이터를 숫자로 표현하지만, 각 범주를 단순 숫자배열이 아닌, 별도 열(column)을 만들어서 0 또는 1로 표시하는 방식입니다.  \n",
    "\n",
    "`도시` 컬럼의 각 고유값을 새로운 열로 만들어, 해당 행의 도시에만 1(True)을 표시하고 나머진 0(False)로 표시해보세요."
   ]
  },
  {
   "cell_type": "code",
   "execution_count": 4,
   "metadata": {
    "id": "2Te0-kwOEuoA"
   },
   "outputs": [
    {
     "data": {
      "text/html": [
       "<div>\n",
       "<style scoped>\n",
       "    .dataframe tbody tr th:only-of-type {\n",
       "        vertical-align: middle;\n",
       "    }\n",
       "\n",
       "    .dataframe tbody tr th {\n",
       "        vertical-align: top;\n",
       "    }\n",
       "\n",
       "    .dataframe thead th {\n",
       "        text-align: right;\n",
       "    }\n",
       "</style>\n",
       "<table border=\"1\" class=\"dataframe\">\n",
       "  <thead>\n",
       "    <tr style=\"text-align: right;\">\n",
       "      <th></th>\n",
       "      <th>도시_인코딩</th>\n",
       "      <th>도시_대전</th>\n",
       "      <th>도시_부산</th>\n",
       "      <th>도시_서울</th>\n",
       "    </tr>\n",
       "  </thead>\n",
       "  <tbody>\n",
       "    <tr>\n",
       "      <th>0</th>\n",
       "      <td>2</td>\n",
       "      <td>False</td>\n",
       "      <td>False</td>\n",
       "      <td>True</td>\n",
       "    </tr>\n",
       "    <tr>\n",
       "      <th>1</th>\n",
       "      <td>1</td>\n",
       "      <td>False</td>\n",
       "      <td>True</td>\n",
       "      <td>False</td>\n",
       "    </tr>\n",
       "    <tr>\n",
       "      <th>2</th>\n",
       "      <td>0</td>\n",
       "      <td>True</td>\n",
       "      <td>False</td>\n",
       "      <td>False</td>\n",
       "    </tr>\n",
       "    <tr>\n",
       "      <th>3</th>\n",
       "      <td>2</td>\n",
       "      <td>False</td>\n",
       "      <td>False</td>\n",
       "      <td>True</td>\n",
       "    </tr>\n",
       "    <tr>\n",
       "      <th>4</th>\n",
       "      <td>1</td>\n",
       "      <td>False</td>\n",
       "      <td>True</td>\n",
       "      <td>False</td>\n",
       "    </tr>\n",
       "  </tbody>\n",
       "</table>\n",
       "</div>"
      ],
      "text/plain": [
       "   도시_인코딩  도시_대전  도시_부산  도시_서울\n",
       "0       2  False  False   True\n",
       "1       1  False   True  False\n",
       "2       0   True  False  False\n",
       "3       2  False  False   True\n",
       "4       1  False   True  False"
      ]
     },
     "metadata": {},
     "output_type": "display_data"
    }
   ],
   "source": [
    "# 여기에 코드를 작성해보세요!\n",
    "dframe = pd.get_dummies(df, columns=[\"도시\"])\n",
    "display(dframe)"
   ]
  },
  {
   "cell_type": "code",
   "execution_count": 5,
   "metadata": {
    "colab": {
     "base_uri": "https://localhost:8080/"
    },
    "executionInfo": {
     "elapsed": 51,
     "status": "ok",
     "timestamp": 1742946345870,
     "user": {
      "displayName": "MinJeong Shin",
      "userId": "09913383294869151014"
     },
     "user_tz": -540
    },
    "id": "1N5gvFYesOcs",
    "outputId": "c71ae987-492a-40d4-c083-a5a78da0f10d"
   },
   "outputs": [
    {
     "name": "stdout",
     "output_type": "stream",
     "text": [
      "   도시_인코딩  도시_대전  도시_부산  도시_서울\n",
      "0       2  False  False   True\n",
      "1       1  False   True  False\n",
      "2       0   True  False  False\n",
      "3       2  False  False   True\n",
      "4       1  False   True  False\n"
     ]
    }
   ],
   "source": [
    "# 모범답안\n",
    "df = pd.get_dummies(df, columns=[\"도시\"])\n",
    "print(df)"
   ]
  },
  {
   "cell_type": "markdown",
   "metadata": {
    "id": "SCVfwyjZsziB"
   },
   "source": [
    "<br/>\n",
    "<br/>\n",
    "<br/>\n",
    "\n",
    "# 데이터의 정규화 & 표준화\n",
    "\n",
    "## 데이터의 정규화 (Normalization)\n",
    "정규화는 데이터의 값을 0과 1 사이로 압축하는 작업입니다.\n",
    "가장 많이 사용되는 방식은 MinMaxScaler 입니다.\n",
    "\n",
    "## 특징\n",
    "\n",
    "* 데이터를 0과 1 사이의 값으로 변환하는 방법\n",
    "* 각 특성(feature)이 서로 다른 범위를 가지더라도 모든 값을 같은 스케일로 맞출 수 있음\n",
    "* 최소값(min)과 최대값(max)을 기준으로 데이터를 변환하기 때문에, 이상치(outlier)의 영향을 받을 가능성이 있음\n",
    "* 데이터의 크기가 너무 클 경우 값이 한쪽으로 치우치는 것을 방지하고, 모델이 학습하는 속도를 높이고 성능을 개선하는 효과가 있음\n",
    "\n",
    "`(5, 1)` 크기의 데이터를 생성하고 `MinMaxScaler()`을 이용해 0과 1 사이로 정규화해보세요."
   ]
  },
  {
   "cell_type": "code",
   "execution_count": 6,
   "metadata": {
    "id": "6JWuNtY-ElXq"
   },
   "outputs": [
    {
     "data": {
      "text/plain": [
       "array([[0.  ],\n",
       "       [0.25],\n",
       "       [0.5 ],\n",
       "       [0.75],\n",
       "       [1.  ]])"
      ]
     },
     "execution_count": 6,
     "metadata": {},
     "output_type": "execute_result"
    }
   ],
   "source": [
    "# 여기에 코드를 작성해보세요!\n",
    "from sklearn.preprocessing import MinMaxScaler\n",
    "\n",
    "mdata = np.array([[100], [200], [300], [400], [500]])\n",
    "\n",
    "scaler = MinMaxScaler()\n",
    "normalized_data = scaler.fit_transform(mdata)\n",
    "\n",
    "print\n",
    "(normalized_data)"
   ]
  },
  {
   "cell_type": "code",
   "execution_count": 7,
   "metadata": {},
   "outputs": [
    {
     "data": {
      "text/html": [
       "<div>\n",
       "<style scoped>\n",
       "    .dataframe tbody tr th:only-of-type {\n",
       "        vertical-align: middle;\n",
       "    }\n",
       "\n",
       "    .dataframe tbody tr th {\n",
       "        vertical-align: top;\n",
       "    }\n",
       "\n",
       "    .dataframe thead th {\n",
       "        text-align: right;\n",
       "    }\n",
       "</style>\n",
       "<table border=\"1\" class=\"dataframe\">\n",
       "  <thead>\n",
       "    <tr style=\"text-align: right;\">\n",
       "      <th></th>\n",
       "      <th>0</th>\n",
       "      <th>1</th>\n",
       "      <th>2</th>\n",
       "      <th>3</th>\n",
       "      <th>4</th>\n",
       "      <th>5</th>\n",
       "      <th>6</th>\n",
       "      <th>7</th>\n",
       "      <th>8</th>\n",
       "      <th>9</th>\n",
       "      <th>...</th>\n",
       "      <th>990</th>\n",
       "      <th>991</th>\n",
       "      <th>992</th>\n",
       "      <th>993</th>\n",
       "      <th>994</th>\n",
       "      <th>995</th>\n",
       "      <th>996</th>\n",
       "      <th>997</th>\n",
       "      <th>998</th>\n",
       "      <th>999</th>\n",
       "    </tr>\n",
       "  </thead>\n",
       "  <tbody>\n",
       "    <tr>\n",
       "      <th>0</th>\n",
       "      <td>455</td>\n",
       "      <td>335</td>\n",
       "      <td>213</td>\n",
       "      <td>223</td>\n",
       "      <td>228</td>\n",
       "      <td>303</td>\n",
       "      <td>173</td>\n",
       "      <td>196</td>\n",
       "      <td>11</td>\n",
       "      <td>77</td>\n",
       "      <td>...</td>\n",
       "      <td>411</td>\n",
       "      <td>92</td>\n",
       "      <td>447</td>\n",
       "      <td>1</td>\n",
       "      <td>317</td>\n",
       "      <td>393</td>\n",
       "      <td>156</td>\n",
       "      <td>448</td>\n",
       "      <td>87</td>\n",
       "      <td>13</td>\n",
       "    </tr>\n",
       "    <tr>\n",
       "      <th>1</th>\n",
       "      <td>14</td>\n",
       "      <td>109</td>\n",
       "      <td>310</td>\n",
       "      <td>290</td>\n",
       "      <td>334</td>\n",
       "      <td>381</td>\n",
       "      <td>77</td>\n",
       "      <td>77</td>\n",
       "      <td>152</td>\n",
       "      <td>178</td>\n",
       "      <td>...</td>\n",
       "      <td>142</td>\n",
       "      <td>189</td>\n",
       "      <td>58</td>\n",
       "      <td>244</td>\n",
       "      <td>336</td>\n",
       "      <td>122</td>\n",
       "      <td>58</td>\n",
       "      <td>284</td>\n",
       "      <td>213</td>\n",
       "      <td>296</td>\n",
       "    </tr>\n",
       "    <tr>\n",
       "      <th>2</th>\n",
       "      <td>361</td>\n",
       "      <td>140</td>\n",
       "      <td>23</td>\n",
       "      <td>104</td>\n",
       "      <td>174</td>\n",
       "      <td>335</td>\n",
       "      <td>187</td>\n",
       "      <td>138</td>\n",
       "      <td>222</td>\n",
       "      <td>455</td>\n",
       "      <td>...</td>\n",
       "      <td>315</td>\n",
       "      <td>65</td>\n",
       "      <td>68</td>\n",
       "      <td>242</td>\n",
       "      <td>8</td>\n",
       "      <td>162</td>\n",
       "      <td>156</td>\n",
       "      <td>439</td>\n",
       "      <td>53</td>\n",
       "      <td>387</td>\n",
       "    </tr>\n",
       "    <tr>\n",
       "      <th>3</th>\n",
       "      <td>429</td>\n",
       "      <td>300</td>\n",
       "      <td>495</td>\n",
       "      <td>126</td>\n",
       "      <td>479</td>\n",
       "      <td>460</td>\n",
       "      <td>282</td>\n",
       "      <td>1</td>\n",
       "      <td>177</td>\n",
       "      <td>158</td>\n",
       "      <td>...</td>\n",
       "      <td>170</td>\n",
       "      <td>240</td>\n",
       "      <td>432</td>\n",
       "      <td>333</td>\n",
       "      <td>455</td>\n",
       "      <td>321</td>\n",
       "      <td>403</td>\n",
       "      <td>468</td>\n",
       "      <td>388</td>\n",
       "      <td>358</td>\n",
       "    </tr>\n",
       "    <tr>\n",
       "      <th>4</th>\n",
       "      <td>306</td>\n",
       "      <td>483</td>\n",
       "      <td>80</td>\n",
       "      <td>391</td>\n",
       "      <td>44</td>\n",
       "      <td>428</td>\n",
       "      <td>404</td>\n",
       "      <td>219</td>\n",
       "      <td>383</td>\n",
       "      <td>352</td>\n",
       "      <td>...</td>\n",
       "      <td>329</td>\n",
       "      <td>217</td>\n",
       "      <td>141</td>\n",
       "      <td>244</td>\n",
       "      <td>155</td>\n",
       "      <td>447</td>\n",
       "      <td>364</td>\n",
       "      <td>75</td>\n",
       "      <td>280</td>\n",
       "      <td>229</td>\n",
       "    </tr>\n",
       "    <tr>\n",
       "      <th>...</th>\n",
       "      <td>...</td>\n",
       "      <td>...</td>\n",
       "      <td>...</td>\n",
       "      <td>...</td>\n",
       "      <td>...</td>\n",
       "      <td>...</td>\n",
       "      <td>...</td>\n",
       "      <td>...</td>\n",
       "      <td>...</td>\n",
       "      <td>...</td>\n",
       "      <td>...</td>\n",
       "      <td>...</td>\n",
       "      <td>...</td>\n",
       "      <td>...</td>\n",
       "      <td>...</td>\n",
       "      <td>...</td>\n",
       "      <td>...</td>\n",
       "      <td>...</td>\n",
       "      <td>...</td>\n",
       "      <td>...</td>\n",
       "      <td>...</td>\n",
       "    </tr>\n",
       "    <tr>\n",
       "      <th>995</th>\n",
       "      <td>144</td>\n",
       "      <td>27</td>\n",
       "      <td>82</td>\n",
       "      <td>226</td>\n",
       "      <td>196</td>\n",
       "      <td>450</td>\n",
       "      <td>261</td>\n",
       "      <td>397</td>\n",
       "      <td>154</td>\n",
       "      <td>484</td>\n",
       "      <td>...</td>\n",
       "      <td>164</td>\n",
       "      <td>222</td>\n",
       "      <td>95</td>\n",
       "      <td>326</td>\n",
       "      <td>170</td>\n",
       "      <td>499</td>\n",
       "      <td>165</td>\n",
       "      <td>408</td>\n",
       "      <td>203</td>\n",
       "      <td>334</td>\n",
       "    </tr>\n",
       "    <tr>\n",
       "      <th>996</th>\n",
       "      <td>352</td>\n",
       "      <td>139</td>\n",
       "      <td>102</td>\n",
       "      <td>364</td>\n",
       "      <td>479</td>\n",
       "      <td>213</td>\n",
       "      <td>154</td>\n",
       "      <td>93</td>\n",
       "      <td>285</td>\n",
       "      <td>9</td>\n",
       "      <td>...</td>\n",
       "      <td>179</td>\n",
       "      <td>78</td>\n",
       "      <td>346</td>\n",
       "      <td>412</td>\n",
       "      <td>69</td>\n",
       "      <td>181</td>\n",
       "      <td>345</td>\n",
       "      <td>316</td>\n",
       "      <td>364</td>\n",
       "      <td>65</td>\n",
       "    </tr>\n",
       "    <tr>\n",
       "      <th>997</th>\n",
       "      <td>487</td>\n",
       "      <td>67</td>\n",
       "      <td>442</td>\n",
       "      <td>369</td>\n",
       "      <td>254</td>\n",
       "      <td>333</td>\n",
       "      <td>424</td>\n",
       "      <td>442</td>\n",
       "      <td>93</td>\n",
       "      <td>416</td>\n",
       "      <td>...</td>\n",
       "      <td>362</td>\n",
       "      <td>380</td>\n",
       "      <td>430</td>\n",
       "      <td>49</td>\n",
       "      <td>392</td>\n",
       "      <td>111</td>\n",
       "      <td>274</td>\n",
       "      <td>454</td>\n",
       "      <td>214</td>\n",
       "      <td>171</td>\n",
       "    </tr>\n",
       "    <tr>\n",
       "      <th>998</th>\n",
       "      <td>64</td>\n",
       "      <td>129</td>\n",
       "      <td>66</td>\n",
       "      <td>278</td>\n",
       "      <td>442</td>\n",
       "      <td>156</td>\n",
       "      <td>83</td>\n",
       "      <td>23</td>\n",
       "      <td>143</td>\n",
       "      <td>69</td>\n",
       "      <td>...</td>\n",
       "      <td>497</td>\n",
       "      <td>242</td>\n",
       "      <td>246</td>\n",
       "      <td>150</td>\n",
       "      <td>205</td>\n",
       "      <td>69</td>\n",
       "      <td>39</td>\n",
       "      <td>181</td>\n",
       "      <td>437</td>\n",
       "      <td>222</td>\n",
       "    </tr>\n",
       "    <tr>\n",
       "      <th>999</th>\n",
       "      <td>329</td>\n",
       "      <td>274</td>\n",
       "      <td>344</td>\n",
       "      <td>359</td>\n",
       "      <td>155</td>\n",
       "      <td>248</td>\n",
       "      <td>481</td>\n",
       "      <td>318</td>\n",
       "      <td>413</td>\n",
       "      <td>339</td>\n",
       "      <td>...</td>\n",
       "      <td>474</td>\n",
       "      <td>228</td>\n",
       "      <td>104</td>\n",
       "      <td>129</td>\n",
       "      <td>13</td>\n",
       "      <td>376</td>\n",
       "      <td>214</td>\n",
       "      <td>314</td>\n",
       "      <td>404</td>\n",
       "      <td>160</td>\n",
       "    </tr>\n",
       "  </tbody>\n",
       "</table>\n",
       "<p>1000 rows × 1000 columns</p>\n",
       "</div>"
      ],
      "text/plain": [
       "     0    1    2    3    4    5    6    7    8    9    ...  990  991  992  \\\n",
       "0    455  335  213  223  228  303  173  196   11   77  ...  411   92  447   \n",
       "1     14  109  310  290  334  381   77   77  152  178  ...  142  189   58   \n",
       "2    361  140   23  104  174  335  187  138  222  455  ...  315   65   68   \n",
       "3    429  300  495  126  479  460  282    1  177  158  ...  170  240  432   \n",
       "4    306  483   80  391   44  428  404  219  383  352  ...  329  217  141   \n",
       "..   ...  ...  ...  ...  ...  ...  ...  ...  ...  ...  ...  ...  ...  ...   \n",
       "995  144   27   82  226  196  450  261  397  154  484  ...  164  222   95   \n",
       "996  352  139  102  364  479  213  154   93  285    9  ...  179   78  346   \n",
       "997  487   67  442  369  254  333  424  442   93  416  ...  362  380  430   \n",
       "998   64  129   66  278  442  156   83   23  143   69  ...  497  242  246   \n",
       "999  329  274  344  359  155  248  481  318  413  339  ...  474  228  104   \n",
       "\n",
       "     993  994  995  996  997  998  999  \n",
       "0      1  317  393  156  448   87   13  \n",
       "1    244  336  122   58  284  213  296  \n",
       "2    242    8  162  156  439   53  387  \n",
       "3    333  455  321  403  468  388  358  \n",
       "4    244  155  447  364   75  280  229  \n",
       "..   ...  ...  ...  ...  ...  ...  ...  \n",
       "995  326  170  499  165  408  203  334  \n",
       "996  412   69  181  345  316  364   65  \n",
       "997   49  392  111  274  454  214  171  \n",
       "998  150  205   69   39  181  437  222  \n",
       "999  129   13  376  214  314  404  160  \n",
       "\n",
       "[1000 rows x 1000 columns]"
      ]
     },
     "metadata": {},
     "output_type": "display_data"
    },
    {
     "data": {
      "text/plain": [
       "array([[0.91182365, 0.67068273, 0.42685371, ..., 0.89779559, 0.1743487 ,\n",
       "        0.0260521 ],\n",
       "       [0.02805611, 0.21686747, 0.62124248, ..., 0.56913828, 0.42685371,\n",
       "        0.59318637],\n",
       "       [0.72344689, 0.27911647, 0.04609218, ..., 0.87975952, 0.10621242,\n",
       "        0.7755511 ],\n",
       "       ...,\n",
       "       [0.9759519 , 0.13253012, 0.88577154, ..., 0.90981964, 0.42885772,\n",
       "        0.34268537],\n",
       "       [0.12825651, 0.25702811, 0.13226453, ..., 0.36272545, 0.8757515 ,\n",
       "        0.44488978],\n",
       "       [0.65931864, 0.54819277, 0.68937876, ..., 0.62925852, 0.80961924,\n",
       "        0.32064128]], shape=(1000, 1000))"
      ]
     },
     "execution_count": 7,
     "metadata": {},
     "output_type": "execute_result"
    }
   ],
   "source": [
    "mdframe = pd.DataFrame(np.random.randint(0,500,size=(1000, 1000)))\n",
    "\n",
    "display(mdframe)\n",
    "\n",
    "normal_mddata = scaler.fit_transform(mdframe)\n",
    "\n",
    "normal_mddata"
   ]
  },
  {
   "cell_type": "code",
   "execution_count": 8,
   "metadata": {
    "colab": {
     "base_uri": "https://localhost:8080/"
    },
    "executionInfo": {
     "elapsed": 16,
     "status": "ok",
     "timestamp": 1742946663205,
     "user": {
      "displayName": "MinJeong Shin",
      "userId": "09913383294869151014"
     },
     "user_tz": -540
    },
    "id": "fjkNv037szwy",
    "outputId": "c7d34fbb-762a-4fce-c0a9-7c4bc40c89a5"
   },
   "outputs": [
    {
     "name": "stdout",
     "output_type": "stream",
     "text": [
      "[[0.  ]\n",
      " [0.25]\n",
      " [0.5 ]\n",
      " [0.75]\n",
      " [1.  ]]\n"
     ]
    }
   ],
   "source": [
    "# 모범답안\n",
    "\n",
    "import numpy as np\n",
    "from sklearn.preprocessing import MinMaxScaler\n",
    "\n",
    "data = np.array([[100], [200], [300], [400], [500]])  # 예제 데이터\n",
    "\n",
    "scaler = MinMaxScaler()\n",
    "normalized_data = scaler.fit_transform(data)\n",
    "\n",
    "print(normalized_data)\n"
   ]
  },
  {
   "cell_type": "markdown",
   "metadata": {
    "id": "BjmYuY0Gt7Ss"
   },
   "source": [
    "## 데이터의 표준화 (Standardization)\n",
    "표준화는 데이터의 평균을 0, 표준편차를 1로 변환하는 전처리 기법입니다.\n",
    "\n",
    "주로 변수의 단위와 크기가 다른 경우, 모델의 성능 향상과 학습 안정성 확보를 위해 사용합니다.\n",
    "\n",
    "## 특징\n",
    "\n",
    "* 데이터를 평균이 0, 표준편차가 1인 정규 분포로 변환하는 방법\n",
    "* 이상치(outlier)가 있어도 크게 영향을 받지 않음\n",
    "* 데이터가 서로 다른 단위를 가지고 있거나, 평균과 분산이 크게 차이가 나는 경우에 사용함\n",
    "* 데이터가 정규분포를 따르는 경우, 표준화를 하면 통계적 분석이 더 정확해짐\n",
    "\n",
    "`StandardScaler()`를 이용하여 위에서 만든 데이터를 평균 0, 표준편차 1로 표준화해보세요.\n"
   ]
  },
  {
   "cell_type": "code",
   "execution_count": 12,
   "metadata": {
    "id": "n_yXnmx5EhTh"
   },
   "outputs": [
    {
     "name": "stdout",
     "output_type": "stream",
     "text": [
      "[[-1.41421356]\n",
      " [-0.70710678]\n",
      " [ 0.        ]\n",
      " [ 0.70710678]\n",
      " [ 1.41421356]]\n",
      "[[ 1.40795276  0.57855097 -0.24863698 ...  1.31613922 -1.1457247\n",
      "  -1.65887344]\n",
      " [-1.72903522 -0.98379243  0.41127455 ...  0.22545285 -0.25763158\n",
      "   0.31117756]\n",
      " [ 0.73929773 -0.76948869 -1.54124719 ...  1.25628448 -1.38536887\n",
      "   0.94465686]\n",
      " ...\n",
      " [ 1.63558001 -1.27413943  1.30929849 ...  1.35604238 -0.25058323\n",
      "  -0.55898631]\n",
      " [-1.37336765 -0.84553195 -1.24870909 ... -0.45955139  1.32120062\n",
      "  -0.20395945]\n",
      " [ 0.51167048  0.15685651  0.64258375 ...  0.42496865  1.08860481\n",
      "  -0.63556073]]\n"
     ]
    }
   ],
   "source": [
    "# 여기에 코드를 작성해보세요!\n",
    "\n",
    "from sklearn.preprocessing import StandardScaler\n",
    "\n",
    "scaler = StandardScaler()\n",
    "std_data = scaler.fit_transform(mdata)\n",
    "\n",
    "print(std_data)\n",
    "\n",
    "std_mdata = scaler.fit_transform(mdframe)\n",
    "\n",
    "print(std_mdata)"
   ]
  },
  {
   "cell_type": "code",
   "execution_count": 10,
   "metadata": {
    "colab": {
     "base_uri": "https://localhost:8080/"
    },
    "executionInfo": {
     "elapsed": 11,
     "status": "ok",
     "timestamp": 1742946761637,
     "user": {
      "displayName": "MinJeong Shin",
      "userId": "09913383294869151014"
     },
     "user_tz": -540
    },
    "id": "K7Wa_z3lszz8",
    "outputId": "67e5973d-8966-4a58-af5d-a67518115859"
   },
   "outputs": [
    {
     "name": "stdout",
     "output_type": "stream",
     "text": [
      "[[-1.41421356]\n",
      " [-0.70710678]\n",
      " [ 0.        ]\n",
      " [ 0.70710678]\n",
      " [ 1.41421356]]\n"
     ]
    }
   ],
   "source": [
    "# 모범답안\n",
    "\n",
    "from sklearn.preprocessing import StandardScaler\n",
    "\n",
    "scaler = StandardScaler()\n",
    "standardized_data = scaler.fit_transform(data)\n",
    "\n",
    "print(standardized_data)\n"
   ]
  }
 ],
 "metadata": {
  "colab": {
   "provenance": []
  },
  "kernelspec": {
   "display_name": "tensor",
   "language": "python",
   "name": "python3"
  },
  "language_info": {
   "codemirror_mode": {
    "name": "ipython",
    "version": 3
   },
   "file_extension": ".py",
   "mimetype": "text/x-python",
   "name": "python",
   "nbconvert_exporter": "python",
   "pygments_lexer": "ipython3",
   "version": "3.13.2"
  }
 },
 "nbformat": 4,
 "nbformat_minor": 0
}
