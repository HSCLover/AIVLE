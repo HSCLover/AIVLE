{
 "cells": [
  {
   "cell_type": "markdown",
   "metadata": {
    "id": "8s-3jEoh4mLJ"
   },
   "source": [
    "# 중복 데이터?\n",
    "* 데이터가 중복으로 저장된 경우를 의미하며, 회원가입, 데이터베이스 오류, API 데이터 수집 중 발생할 수 있음\n",
    "* 동일한 고객이 여러 번 기록되면, 통계 분석에서 특정 그룹의 비중이 과대평가될 수 있다."
   ]
  },
  {
   "cell_type": "markdown",
   "metadata": {
    "id": "hDN2Z1qsgv2F"
   },
   "source": [
    "# 중복 데이터 제거\n",
    "\n",
    "## 중복 데이터 확인하기 : duplicated()\n",
    "\n",
    "실습에 사용할 데이터를 준비하겠습니다."
   ]
  },
  {
   "cell_type": "code",
   "execution_count": 1,
   "metadata": {
    "id": "Ib3Zc-ugabGE"
   },
   "outputs": [
    {
     "data": {
      "application/vnd.microsoft.datawrangler.viewer.v0+json": {
       "columns": [
        {
         "name": "index",
         "rawType": "int64",
         "type": "integer"
        },
        {
         "name": "이름",
         "rawType": "object",
         "type": "string"
        },
        {
         "name": "나이",
         "rawType": "int64",
         "type": "integer"
        },
        {
         "name": "도시",
         "rawType": "object",
         "type": "string"
        }
       ],
       "conversionMethod": "pd.DataFrame",
       "ref": "07f0a5de-5a7a-4637-81f9-824ab4e0457a",
       "rows": [
        [
         "0",
         "John",
         "20",
         "서울"
        ],
        [
         "1",
         "Anna",
         "25",
         "부산"
        ],
        [
         "2",
         "John",
         "20",
         "서울"
        ],
        [
         "3",
         "Peter",
         "30",
         "대전"
        ],
        [
         "4",
         "Anna",
         "25",
         "부산"
        ]
       ],
       "shape": {
        "columns": 3,
        "rows": 5
       }
      },
      "text/html": [
       "<div>\n",
       "<style scoped>\n",
       "    .dataframe tbody tr th:only-of-type {\n",
       "        vertical-align: middle;\n",
       "    }\n",
       "\n",
       "    .dataframe tbody tr th {\n",
       "        vertical-align: top;\n",
       "    }\n",
       "\n",
       "    .dataframe thead th {\n",
       "        text-align: right;\n",
       "    }\n",
       "</style>\n",
       "<table border=\"1\" class=\"dataframe\">\n",
       "  <thead>\n",
       "    <tr style=\"text-align: right;\">\n",
       "      <th></th>\n",
       "      <th>이름</th>\n",
       "      <th>나이</th>\n",
       "      <th>도시</th>\n",
       "    </tr>\n",
       "  </thead>\n",
       "  <tbody>\n",
       "    <tr>\n",
       "      <th>0</th>\n",
       "      <td>John</td>\n",
       "      <td>20</td>\n",
       "      <td>서울</td>\n",
       "    </tr>\n",
       "    <tr>\n",
       "      <th>1</th>\n",
       "      <td>Anna</td>\n",
       "      <td>25</td>\n",
       "      <td>부산</td>\n",
       "    </tr>\n",
       "    <tr>\n",
       "      <th>2</th>\n",
       "      <td>John</td>\n",
       "      <td>20</td>\n",
       "      <td>서울</td>\n",
       "    </tr>\n",
       "    <tr>\n",
       "      <th>3</th>\n",
       "      <td>Peter</td>\n",
       "      <td>30</td>\n",
       "      <td>대전</td>\n",
       "    </tr>\n",
       "    <tr>\n",
       "      <th>4</th>\n",
       "      <td>Anna</td>\n",
       "      <td>25</td>\n",
       "      <td>부산</td>\n",
       "    </tr>\n",
       "  </tbody>\n",
       "</table>\n",
       "</div>"
      ],
      "text/plain": [
       "      이름  나이  도시\n",
       "0   John  20  서울\n",
       "1   Anna  25  부산\n",
       "2   John  20  서울\n",
       "3  Peter  30  대전\n",
       "4   Anna  25  부산"
      ]
     },
     "execution_count": 1,
     "metadata": {},
     "output_type": "execute_result"
    }
   ],
   "source": [
    "import pandas as pd\n",
    "\n",
    "# 예제 데이터 생성\n",
    "data = {\n",
    "    \"이름\": [\"John\", \"Anna\", \"John\", \"Peter\", \"Anna\"],\n",
    "    \"나이\": [20, 25, 20, 30, 25],\n",
    "    \"도시\": [\"서울\", \"부산\", \"서울\", \"대전\", \"부산\"]\n",
    "}\n",
    "\n",
    "df = pd.DataFrame(data)\n",
    "df\n"
   ]
  },
  {
   "cell_type": "markdown",
   "metadata": {
    "id": "gymoAO3ILu6T"
   },
   "source": [
    "중복된 데이터가 있는지 확인해보세요."
   ]
  },
  {
   "cell_type": "code",
   "execution_count": 2,
   "metadata": {
    "id": "TdA9v4K4FH_5"
   },
   "outputs": [
    {
     "data": {
      "text/plain": [
       "0    False\n",
       "1    False\n",
       "2     True\n",
       "3    False\n",
       "4     True\n",
       "dtype: bool"
      ]
     },
     "execution_count": 2,
     "metadata": {},
     "output_type": "execute_result"
    }
   ],
   "source": [
    "# 여기에 코드를 작성해보세요!\n",
    "df.duplicated()"
   ]
  },
  {
   "cell_type": "code",
   "execution_count": 3,
   "metadata": {
    "id": "QW9PaH9xhmTp"
   },
   "outputs": [
    {
     "name": "stdout",
     "output_type": "stream",
     "text": [
      "0    False\n",
      "1    False\n",
      "2     True\n",
      "3    False\n",
      "4     True\n",
      "dtype: bool\n"
     ]
    }
   ],
   "source": [
    "# 모범답안\n",
    "\n",
    "print(df.duplicated())"
   ]
  },
  {
   "cell_type": "markdown",
   "metadata": {
    "id": "cMXCCxMahyQr"
   },
   "source": [
    "<br/>\n",
    "<br/>\n",
    "\n",
    "## 중복데이터 제거하기 : drop_cuplicates()\n",
    "\n",
    "중복된 데이터를 제거해보세요."
   ]
  },
  {
   "cell_type": "code",
   "execution_count": 4,
   "metadata": {
    "id": "joLLaKudFI9J"
   },
   "outputs": [
    {
     "data": {
      "application/vnd.microsoft.datawrangler.viewer.v0+json": {
       "columns": [
        {
         "name": "index",
         "rawType": "int64",
         "type": "integer"
        },
        {
         "name": "이름",
         "rawType": "object",
         "type": "string"
        },
        {
         "name": "나이",
         "rawType": "int64",
         "type": "integer"
        },
        {
         "name": "도시",
         "rawType": "object",
         "type": "string"
        }
       ],
       "conversionMethod": "pd.DataFrame",
       "ref": "b65aaced-02bd-403f-ae16-0ff14d1dada5",
       "rows": [
        [
         "0",
         "John",
         "20",
         "서울"
        ],
        [
         "1",
         "Anna",
         "25",
         "부산"
        ],
        [
         "3",
         "Peter",
         "30",
         "대전"
        ]
       ],
       "shape": {
        "columns": 3,
        "rows": 3
       }
      },
      "text/html": [
       "<div>\n",
       "<style scoped>\n",
       "    .dataframe tbody tr th:only-of-type {\n",
       "        vertical-align: middle;\n",
       "    }\n",
       "\n",
       "    .dataframe tbody tr th {\n",
       "        vertical-align: top;\n",
       "    }\n",
       "\n",
       "    .dataframe thead th {\n",
       "        text-align: right;\n",
       "    }\n",
       "</style>\n",
       "<table border=\"1\" class=\"dataframe\">\n",
       "  <thead>\n",
       "    <tr style=\"text-align: right;\">\n",
       "      <th></th>\n",
       "      <th>이름</th>\n",
       "      <th>나이</th>\n",
       "      <th>도시</th>\n",
       "    </tr>\n",
       "  </thead>\n",
       "  <tbody>\n",
       "    <tr>\n",
       "      <th>0</th>\n",
       "      <td>John</td>\n",
       "      <td>20</td>\n",
       "      <td>서울</td>\n",
       "    </tr>\n",
       "    <tr>\n",
       "      <th>1</th>\n",
       "      <td>Anna</td>\n",
       "      <td>25</td>\n",
       "      <td>부산</td>\n",
       "    </tr>\n",
       "    <tr>\n",
       "      <th>3</th>\n",
       "      <td>Peter</td>\n",
       "      <td>30</td>\n",
       "      <td>대전</td>\n",
       "    </tr>\n",
       "  </tbody>\n",
       "</table>\n",
       "</div>"
      ],
      "text/plain": [
       "      이름  나이  도시\n",
       "0   John  20  서울\n",
       "1   Anna  25  부산\n",
       "3  Peter  30  대전"
      ]
     },
     "execution_count": 4,
     "metadata": {},
     "output_type": "execute_result"
    }
   ],
   "source": [
    "# 여기에 코드를 작성해보세요!\n",
    "df_unique = df.drop_duplicates()\n",
    "df_unique"
   ]
  },
  {
   "cell_type": "code",
   "execution_count": 5,
   "metadata": {
    "id": "Fj7WK4ythquD"
   },
   "outputs": [
    {
     "data": {
      "application/vnd.microsoft.datawrangler.viewer.v0+json": {
       "columns": [
        {
         "name": "index",
         "rawType": "int64",
         "type": "integer"
        },
        {
         "name": "이름",
         "rawType": "object",
         "type": "string"
        },
        {
         "name": "나이",
         "rawType": "int64",
         "type": "integer"
        },
        {
         "name": "도시",
         "rawType": "object",
         "type": "string"
        }
       ],
       "conversionMethod": "pd.DataFrame",
       "ref": "7d83e7aa-0b88-49b9-a799-b701607a70b3",
       "rows": [
        [
         "0",
         "John",
         "20",
         "서울"
        ],
        [
         "1",
         "Anna",
         "25",
         "부산"
        ],
        [
         "3",
         "Peter",
         "30",
         "대전"
        ]
       ],
       "shape": {
        "columns": 3,
        "rows": 3
       }
      },
      "text/html": [
       "<div>\n",
       "<style scoped>\n",
       "    .dataframe tbody tr th:only-of-type {\n",
       "        vertical-align: middle;\n",
       "    }\n",
       "\n",
       "    .dataframe tbody tr th {\n",
       "        vertical-align: top;\n",
       "    }\n",
       "\n",
       "    .dataframe thead th {\n",
       "        text-align: right;\n",
       "    }\n",
       "</style>\n",
       "<table border=\"1\" class=\"dataframe\">\n",
       "  <thead>\n",
       "    <tr style=\"text-align: right;\">\n",
       "      <th></th>\n",
       "      <th>이름</th>\n",
       "      <th>나이</th>\n",
       "      <th>도시</th>\n",
       "    </tr>\n",
       "  </thead>\n",
       "  <tbody>\n",
       "    <tr>\n",
       "      <th>0</th>\n",
       "      <td>John</td>\n",
       "      <td>20</td>\n",
       "      <td>서울</td>\n",
       "    </tr>\n",
       "    <tr>\n",
       "      <th>1</th>\n",
       "      <td>Anna</td>\n",
       "      <td>25</td>\n",
       "      <td>부산</td>\n",
       "    </tr>\n",
       "    <tr>\n",
       "      <th>3</th>\n",
       "      <td>Peter</td>\n",
       "      <td>30</td>\n",
       "      <td>대전</td>\n",
       "    </tr>\n",
       "  </tbody>\n",
       "</table>\n",
       "</div>"
      ],
      "text/plain": [
       "      이름  나이  도시\n",
       "0   John  20  서울\n",
       "1   Anna  25  부산\n",
       "3  Peter  30  대전"
      ]
     },
     "execution_count": 5,
     "metadata": {},
     "output_type": "execute_result"
    }
   ],
   "source": [
    "# 모범답안\n",
    "\n",
    "df_unique = df.drop_duplicates()\n",
    "df_unique"
   ]
  },
  {
   "cell_type": "markdown",
   "metadata": {
    "id": "Sv5xn27Qh_hp"
   },
   "source": [
    "중복 데이터가 제거된 것을 확인 할 수 있었습니다.\n",
    "만약 특정 열을 기준으로 중복 데이터를 제거 하고 싶다면 subset 옵션을 사용할 수 있습니다.  \n",
    "\"이름\" 컬럼을 기준으로 중복 데이터를 제거합니다.  \n",
    "중복 데이터 중 가장 첫번째 데이터만 남깁니다."
   ]
  },
  {
   "cell_type": "code",
   "execution_count": 6,
   "metadata": {
    "id": "8qIdqQRSFK-i"
   },
   "outputs": [
    {
     "data": {
      "application/vnd.microsoft.datawrangler.viewer.v0+json": {
       "columns": [
        {
         "name": "index",
         "rawType": "int64",
         "type": "integer"
        },
        {
         "name": "이름",
         "rawType": "object",
         "type": "string"
        },
        {
         "name": "나이",
         "rawType": "int64",
         "type": "integer"
        },
        {
         "name": "도시",
         "rawType": "object",
         "type": "string"
        }
       ],
       "conversionMethod": "pd.DataFrame",
       "ref": "1199c82c-f579-4b72-8d73-8baa64aec019",
       "rows": [
        [
         "2",
         "John",
         "20",
         "서울"
        ],
        [
         "3",
         "Peter",
         "30",
         "대전"
        ],
        [
         "4",
         "Anna",
         "25",
         "부산"
        ]
       ],
       "shape": {
        "columns": 3,
        "rows": 3
       }
      },
      "text/html": [
       "<div>\n",
       "<style scoped>\n",
       "    .dataframe tbody tr th:only-of-type {\n",
       "        vertical-align: middle;\n",
       "    }\n",
       "\n",
       "    .dataframe tbody tr th {\n",
       "        vertical-align: top;\n",
       "    }\n",
       "\n",
       "    .dataframe thead th {\n",
       "        text-align: right;\n",
       "    }\n",
       "</style>\n",
       "<table border=\"1\" class=\"dataframe\">\n",
       "  <thead>\n",
       "    <tr style=\"text-align: right;\">\n",
       "      <th></th>\n",
       "      <th>이름</th>\n",
       "      <th>나이</th>\n",
       "      <th>도시</th>\n",
       "    </tr>\n",
       "  </thead>\n",
       "  <tbody>\n",
       "    <tr>\n",
       "      <th>2</th>\n",
       "      <td>John</td>\n",
       "      <td>20</td>\n",
       "      <td>서울</td>\n",
       "    </tr>\n",
       "    <tr>\n",
       "      <th>3</th>\n",
       "      <td>Peter</td>\n",
       "      <td>30</td>\n",
       "      <td>대전</td>\n",
       "    </tr>\n",
       "    <tr>\n",
       "      <th>4</th>\n",
       "      <td>Anna</td>\n",
       "      <td>25</td>\n",
       "      <td>부산</td>\n",
       "    </tr>\n",
       "  </tbody>\n",
       "</table>\n",
       "</div>"
      ],
      "text/plain": [
       "      이름  나이  도시\n",
       "2   John  20  서울\n",
       "3  Peter  30  대전\n",
       "4   Anna  25  부산"
      ]
     },
     "execution_count": 6,
     "metadata": {},
     "output_type": "execute_result"
    }
   ],
   "source": [
    "# 여기에 코드를 작성해보세요!\n",
    "df_clean = df.drop_duplicates(subset=[\"이름\"], keep=\"last\")\n",
    "df_clean"
   ]
  },
  {
   "cell_type": "code",
   "execution_count": 7,
   "metadata": {
    "id": "7i_62Xfphqwi"
   },
   "outputs": [
    {
     "name": "stdout",
     "output_type": "stream",
     "text": [
      "      이름  나이  도시\n",
      "0   John  20  서울\n",
      "1   Anna  25  부산\n",
      "3  Peter  30  대전\n"
     ]
    }
   ],
   "source": [
    "# 모범답안\n",
    "\n",
    "df_clean = df.drop_duplicates(subset=[\"이름\"], keep=\"first\")\n",
    "print(df_clean)\n"
   ]
  },
  {
   "cell_type": "markdown",
   "metadata": {
    "id": "ZpuIyE62iQQ8"
   },
   "source": [
    "## value_counts() 활용 중복데이터 제거\n",
    "\n",
    "중복 데이터를 확인하는 작업을 하려면 특정 열에서 value_counts()를 수행하여 갯수 2 이상이라면 중복으로 확인할 수 있습니다."
   ]
  },
  {
   "cell_type": "code",
   "execution_count": 8,
   "metadata": {
    "id": "dQe_fTMOFLpq"
   },
   "outputs": [
    {
     "data": {
      "text/plain": [
       "John     2\n",
       "Anna     2\n",
       "Peter    1\n",
       "Name: 이름, dtype: int64"
      ]
     },
     "execution_count": 8,
     "metadata": {},
     "output_type": "execute_result"
    }
   ],
   "source": [
    "# 여기에 코드를 작성해보세요!\n",
    "df[\"이름\"].value_counts()"
   ]
  },
  {
   "cell_type": "code",
   "execution_count": 9,
   "metadata": {
    "id": "0zOf3L7ghqyk"
   },
   "outputs": [
    {
     "name": "stdout",
     "output_type": "stream",
     "text": [
      "John     2\n",
      "Anna     2\n",
      "Peter    1\n",
      "Name: 이름, dtype: int64\n"
     ]
    }
   ],
   "source": [
    "# 모범답안\n",
    "\n",
    "print(df[\"이름\"].value_counts())"
   ]
  },
  {
   "cell_type": "markdown",
   "metadata": {
    "id": "_HLSwX2Li9aS"
   },
   "source": [
    "# 결측치란?\n",
    "* 데이터가 누락된 상태를 의미하며, 설문조사 응답 누락, 센서 오류, 시스템 입력 오류 등으로 발생할 수 있음\n",
    "\n",
    "#결측치가 분석에 미치는 영향\n",
    "* 데이터가 부족하면 평균, 합계 등 통계 계산이 정확하지 않을 수 있음\n",
    "* 머신러닝 모델을 학습할 때 결측치가 많으면 모델의 성능이 저하될 수 있음\n",
    "* 결측치가 포함된 데이터를 그대로 사용하면 잘못된 해석을 내릴 가능성이 높음\n",
    "<br/>\n",
    "<br/>\n",
    "\n",
    "# 결측치 처리\n",
    "\n",
    "## 결측치 확인 : isnull()\n",
    "\n",
    "실습에 사용할 데이터를 준비하겠습니다."
   ]
  },
  {
   "cell_type": "code",
   "execution_count": 10,
   "metadata": {
    "id": "bORVqR6Jhq0v"
   },
   "outputs": [
    {
     "data": {
      "application/vnd.microsoft.datawrangler.viewer.v0+json": {
       "columns": [
        {
         "name": "index",
         "rawType": "int64",
         "type": "integer"
        },
        {
         "name": "이름",
         "rawType": "object",
         "type": "string"
        },
        {
         "name": "나이",
         "rawType": "float64",
         "type": "float"
        },
        {
         "name": "도시",
         "rawType": "object",
         "type": "string"
        }
       ],
       "conversionMethod": "pd.DataFrame",
       "ref": "eb677c2b-5ea3-41ea-bb0b-e9960c72177a",
       "rows": [
        [
         "0",
         "John",
         "20.0",
         "서울"
        ],
        [
         "1",
         "Anna",
         "25.0",
         null
        ],
        [
         "2",
         "Peter",
         null,
         "대전"
        ],
        [
         "3",
         "Sue",
         "30.0",
         "부산"
        ]
       ],
       "shape": {
        "columns": 3,
        "rows": 4
       }
      },
      "text/html": [
       "<div>\n",
       "<style scoped>\n",
       "    .dataframe tbody tr th:only-of-type {\n",
       "        vertical-align: middle;\n",
       "    }\n",
       "\n",
       "    .dataframe tbody tr th {\n",
       "        vertical-align: top;\n",
       "    }\n",
       "\n",
       "    .dataframe thead th {\n",
       "        text-align: right;\n",
       "    }\n",
       "</style>\n",
       "<table border=\"1\" class=\"dataframe\">\n",
       "  <thead>\n",
       "    <tr style=\"text-align: right;\">\n",
       "      <th></th>\n",
       "      <th>이름</th>\n",
       "      <th>나이</th>\n",
       "      <th>도시</th>\n",
       "    </tr>\n",
       "  </thead>\n",
       "  <tbody>\n",
       "    <tr>\n",
       "      <th>0</th>\n",
       "      <td>John</td>\n",
       "      <td>20.0</td>\n",
       "      <td>서울</td>\n",
       "    </tr>\n",
       "    <tr>\n",
       "      <th>1</th>\n",
       "      <td>Anna</td>\n",
       "      <td>25.0</td>\n",
       "      <td>None</td>\n",
       "    </tr>\n",
       "    <tr>\n",
       "      <th>2</th>\n",
       "      <td>Peter</td>\n",
       "      <td>NaN</td>\n",
       "      <td>대전</td>\n",
       "    </tr>\n",
       "    <tr>\n",
       "      <th>3</th>\n",
       "      <td>Sue</td>\n",
       "      <td>30.0</td>\n",
       "      <td>부산</td>\n",
       "    </tr>\n",
       "  </tbody>\n",
       "</table>\n",
       "</div>"
      ],
      "text/plain": [
       "      이름    나이    도시\n",
       "0   John  20.0    서울\n",
       "1   Anna  25.0  None\n",
       "2  Peter   NaN    대전\n",
       "3    Sue  30.0    부산"
      ]
     },
     "execution_count": 10,
     "metadata": {},
     "output_type": "execute_result"
    }
   ],
   "source": [
    "import pandas as pd\n",
    "\n",
    "data = {\n",
    "    \"이름\": [\"John\", \"Anna\", \"Peter\", \"Sue\"],\n",
    "    \"나이\": [20, 25, None, 30],  # 결측치 존재\n",
    "    \"도시\": [\"서울\", None, \"대전\", \"부산\"]\n",
    "}\n",
    "\n",
    "df = pd.DataFrame(data)\n",
    "df"
   ]
  },
  {
   "cell_type": "markdown",
   "metadata": {
    "id": "KFkxqCrqMICd"
   },
   "source": [
    "결측치를 확인해보세요. 결측치가 있는 곳에 true 값이 들어있습니다."
   ]
  },
  {
   "cell_type": "code",
   "execution_count": 11,
   "metadata": {
    "id": "ldxdnLmQFN4x"
   },
   "outputs": [
    {
     "data": {
      "application/vnd.microsoft.datawrangler.viewer.v0+json": {
       "columns": [
        {
         "name": "index",
         "rawType": "int64",
         "type": "integer"
        },
        {
         "name": "이름",
         "rawType": "bool",
         "type": "boolean"
        },
        {
         "name": "나이",
         "rawType": "bool",
         "type": "boolean"
        },
        {
         "name": "도시",
         "rawType": "bool",
         "type": "boolean"
        }
       ],
       "conversionMethod": "pd.DataFrame",
       "ref": "3638bda5-eab4-42d6-89e0-a82192c1cd21",
       "rows": [
        [
         "0",
         "False",
         "False",
         "False"
        ],
        [
         "1",
         "False",
         "False",
         "True"
        ],
        [
         "2",
         "False",
         "True",
         "False"
        ],
        [
         "3",
         "False",
         "False",
         "False"
        ]
       ],
       "shape": {
        "columns": 3,
        "rows": 4
       }
      },
      "text/html": [
       "<div>\n",
       "<style scoped>\n",
       "    .dataframe tbody tr th:only-of-type {\n",
       "        vertical-align: middle;\n",
       "    }\n",
       "\n",
       "    .dataframe tbody tr th {\n",
       "        vertical-align: top;\n",
       "    }\n",
       "\n",
       "    .dataframe thead th {\n",
       "        text-align: right;\n",
       "    }\n",
       "</style>\n",
       "<table border=\"1\" class=\"dataframe\">\n",
       "  <thead>\n",
       "    <tr style=\"text-align: right;\">\n",
       "      <th></th>\n",
       "      <th>이름</th>\n",
       "      <th>나이</th>\n",
       "      <th>도시</th>\n",
       "    </tr>\n",
       "  </thead>\n",
       "  <tbody>\n",
       "    <tr>\n",
       "      <th>0</th>\n",
       "      <td>False</td>\n",
       "      <td>False</td>\n",
       "      <td>False</td>\n",
       "    </tr>\n",
       "    <tr>\n",
       "      <th>1</th>\n",
       "      <td>False</td>\n",
       "      <td>False</td>\n",
       "      <td>True</td>\n",
       "    </tr>\n",
       "    <tr>\n",
       "      <th>2</th>\n",
       "      <td>False</td>\n",
       "      <td>True</td>\n",
       "      <td>False</td>\n",
       "    </tr>\n",
       "    <tr>\n",
       "      <th>3</th>\n",
       "      <td>False</td>\n",
       "      <td>False</td>\n",
       "      <td>False</td>\n",
       "    </tr>\n",
       "  </tbody>\n",
       "</table>\n",
       "</div>"
      ],
      "text/plain": [
       "      이름     나이     도시\n",
       "0  False  False  False\n",
       "1  False  False   True\n",
       "2  False   True  False\n",
       "3  False  False  False"
      ]
     },
     "execution_count": 11,
     "metadata": {},
     "output_type": "execute_result"
    }
   ],
   "source": [
    "# 여기에 코드를 작성해보세요!\n",
    "dframe = df\n",
    "dframe.isnull()"
   ]
  },
  {
   "cell_type": "code",
   "execution_count": 12,
   "metadata": {
    "id": "_qjWXymShq3X"
   },
   "outputs": [
    {
     "data": {
      "application/vnd.microsoft.datawrangler.viewer.v0+json": {
       "columns": [
        {
         "name": "index",
         "rawType": "int64",
         "type": "integer"
        },
        {
         "name": "이름",
         "rawType": "bool",
         "type": "boolean"
        },
        {
         "name": "나이",
         "rawType": "bool",
         "type": "boolean"
        },
        {
         "name": "도시",
         "rawType": "bool",
         "type": "boolean"
        }
       ],
       "conversionMethod": "pd.DataFrame",
       "ref": "2825dbb3-7a05-404c-aea6-f396afa1104e",
       "rows": [
        [
         "0",
         "False",
         "False",
         "False"
        ],
        [
         "1",
         "False",
         "False",
         "True"
        ],
        [
         "2",
         "False",
         "True",
         "False"
        ],
        [
         "3",
         "False",
         "False",
         "False"
        ]
       ],
       "shape": {
        "columns": 3,
        "rows": 4
       }
      },
      "text/html": [
       "<div>\n",
       "<style scoped>\n",
       "    .dataframe tbody tr th:only-of-type {\n",
       "        vertical-align: middle;\n",
       "    }\n",
       "\n",
       "    .dataframe tbody tr th {\n",
       "        vertical-align: top;\n",
       "    }\n",
       "\n",
       "    .dataframe thead th {\n",
       "        text-align: right;\n",
       "    }\n",
       "</style>\n",
       "<table border=\"1\" class=\"dataframe\">\n",
       "  <thead>\n",
       "    <tr style=\"text-align: right;\">\n",
       "      <th></th>\n",
       "      <th>이름</th>\n",
       "      <th>나이</th>\n",
       "      <th>도시</th>\n",
       "    </tr>\n",
       "  </thead>\n",
       "  <tbody>\n",
       "    <tr>\n",
       "      <th>0</th>\n",
       "      <td>False</td>\n",
       "      <td>False</td>\n",
       "      <td>False</td>\n",
       "    </tr>\n",
       "    <tr>\n",
       "      <th>1</th>\n",
       "      <td>False</td>\n",
       "      <td>False</td>\n",
       "      <td>True</td>\n",
       "    </tr>\n",
       "    <tr>\n",
       "      <th>2</th>\n",
       "      <td>False</td>\n",
       "      <td>True</td>\n",
       "      <td>False</td>\n",
       "    </tr>\n",
       "    <tr>\n",
       "      <th>3</th>\n",
       "      <td>False</td>\n",
       "      <td>False</td>\n",
       "      <td>False</td>\n",
       "    </tr>\n",
       "  </tbody>\n",
       "</table>\n",
       "</div>"
      ],
      "text/plain": [
       "      이름     나이     도시\n",
       "0  False  False  False\n",
       "1  False  False   True\n",
       "2  False   True  False\n",
       "3  False  False  False"
      ]
     },
     "execution_count": 12,
     "metadata": {},
     "output_type": "execute_result"
    }
   ],
   "source": [
    "# 모범답안\n",
    "\n",
    "df.isnull()  # 결측치 확인"
   ]
  },
  {
   "cell_type": "markdown",
   "metadata": {
    "id": "dOmTxCrHjh67"
   },
   "source": [
    "데이터에 **결측치**가 있는지 확인할 때,\n",
    "True는 1, False는 0처럼 작동하는 파이썬의 특징을 이용하면\n",
    "열마다 결측치가 몇 개인지 쉽게 알 수 있습니다.\n",
    "\n",
    "sum() 메서드를 활용하여 결측치의 수를 확인해보세요."
   ]
  },
  {
   "cell_type": "code",
   "execution_count": 13,
   "metadata": {
    "id": "vwGpl62zFOfj"
   },
   "outputs": [
    {
     "data": {
      "text/plain": [
       "이름    0\n",
       "나이    1\n",
       "도시    1\n",
       "dtype: int64"
      ]
     },
     "execution_count": 13,
     "metadata": {},
     "output_type": "execute_result"
    }
   ],
   "source": [
    "# 여기에 코드를 작성해보세요!\n",
    "dframe.isnull().sum()"
   ]
  },
  {
   "cell_type": "code",
   "execution_count": 14,
   "metadata": {
    "id": "X0NV8vJVhq7Y"
   },
   "outputs": [
    {
     "data": {
      "text/plain": [
       "이름    0\n",
       "나이    1\n",
       "도시    1\n",
       "dtype: int64"
      ]
     },
     "metadata": {},
     "output_type": "display_data"
    }
   ],
   "source": [
    "# 모범답안\n",
    "\n",
    "display(df.isnull().sum())"
   ]
  },
  {
   "cell_type": "markdown",
   "metadata": {
    "id": "I47GwmtykNOw"
   },
   "source": [
    "## 결측치 제거 :dropna()\n",
    "결측치가 포함된 행을 모두 제거해보세요."
   ]
  },
  {
   "cell_type": "code",
   "execution_count": 15,
   "metadata": {
    "id": "8i9YrslwFPMM"
   },
   "outputs": [
    {
     "data": {
      "application/vnd.microsoft.datawrangler.viewer.v0+json": {
       "columns": [
        {
         "name": "index",
         "rawType": "int64",
         "type": "integer"
        },
        {
         "name": "이름",
         "rawType": "object",
         "type": "string"
        },
        {
         "name": "나이",
         "rawType": "float64",
         "type": "float"
        },
        {
         "name": "도시",
         "rawType": "object",
         "type": "string"
        }
       ],
       "conversionMethod": "pd.DataFrame",
       "ref": "3ee618f1-708c-4be9-a289-18d0e22b499e",
       "rows": [
        [
         "0",
         "John",
         "20.0",
         "서울"
        ],
        [
         "3",
         "Sue",
         "30.0",
         "부산"
        ]
       ],
       "shape": {
        "columns": 3,
        "rows": 2
       }
      },
      "text/html": [
       "<div>\n",
       "<style scoped>\n",
       "    .dataframe tbody tr th:only-of-type {\n",
       "        vertical-align: middle;\n",
       "    }\n",
       "\n",
       "    .dataframe tbody tr th {\n",
       "        vertical-align: top;\n",
       "    }\n",
       "\n",
       "    .dataframe thead th {\n",
       "        text-align: right;\n",
       "    }\n",
       "</style>\n",
       "<table border=\"1\" class=\"dataframe\">\n",
       "  <thead>\n",
       "    <tr style=\"text-align: right;\">\n",
       "      <th></th>\n",
       "      <th>이름</th>\n",
       "      <th>나이</th>\n",
       "      <th>도시</th>\n",
       "    </tr>\n",
       "  </thead>\n",
       "  <tbody>\n",
       "    <tr>\n",
       "      <th>0</th>\n",
       "      <td>John</td>\n",
       "      <td>20.0</td>\n",
       "      <td>서울</td>\n",
       "    </tr>\n",
       "    <tr>\n",
       "      <th>3</th>\n",
       "      <td>Sue</td>\n",
       "      <td>30.0</td>\n",
       "      <td>부산</td>\n",
       "    </tr>\n",
       "  </tbody>\n",
       "</table>\n",
       "</div>"
      ],
      "text/plain": [
       "     이름    나이  도시\n",
       "0  John  20.0  서울\n",
       "3   Sue  30.0  부산"
      ]
     },
     "metadata": {},
     "output_type": "display_data"
    },
    {
     "data": {
      "application/vnd.microsoft.datawrangler.viewer.v0+json": {
       "columns": [
        {
         "name": "index",
         "rawType": "int64",
         "type": "integer"
        },
        {
         "name": "이름",
         "rawType": "object",
         "type": "string"
        },
        {
         "name": "나이",
         "rawType": "float64",
         "type": "float"
        },
        {
         "name": "도시",
         "rawType": "object",
         "type": "string"
        }
       ],
       "conversionMethod": "pd.DataFrame",
       "ref": "f6de6c1d-ba3a-44b8-979e-a8ce59de7123",
       "rows": [
        [
         "0",
         "John",
         "20.0",
         "서울"
        ],
        [
         "3",
         "Sue",
         "30.0",
         "부산"
        ]
       ],
       "shape": {
        "columns": 3,
        "rows": 2
       }
      },
      "text/html": [
       "<div>\n",
       "<style scoped>\n",
       "    .dataframe tbody tr th:only-of-type {\n",
       "        vertical-align: middle;\n",
       "    }\n",
       "\n",
       "    .dataframe tbody tr th {\n",
       "        vertical-align: top;\n",
       "    }\n",
       "\n",
       "    .dataframe thead th {\n",
       "        text-align: right;\n",
       "    }\n",
       "</style>\n",
       "<table border=\"1\" class=\"dataframe\">\n",
       "  <thead>\n",
       "    <tr style=\"text-align: right;\">\n",
       "      <th></th>\n",
       "      <th>이름</th>\n",
       "      <th>나이</th>\n",
       "      <th>도시</th>\n",
       "    </tr>\n",
       "  </thead>\n",
       "  <tbody>\n",
       "    <tr>\n",
       "      <th>0</th>\n",
       "      <td>John</td>\n",
       "      <td>20.0</td>\n",
       "      <td>서울</td>\n",
       "    </tr>\n",
       "    <tr>\n",
       "      <th>3</th>\n",
       "      <td>Sue</td>\n",
       "      <td>30.0</td>\n",
       "      <td>부산</td>\n",
       "    </tr>\n",
       "  </tbody>\n",
       "</table>\n",
       "</div>"
      ],
      "text/plain": [
       "     이름    나이  도시\n",
       "0  John  20.0  서울\n",
       "3   Sue  30.0  부산"
      ]
     },
     "metadata": {},
     "output_type": "display_data"
    },
    {
     "data": {
      "application/vnd.microsoft.datawrangler.viewer.v0+json": {
       "columns": [
        {
         "name": "index",
         "rawType": "int64",
         "type": "integer"
        },
        {
         "name": "이름",
         "rawType": "object",
         "type": "string"
        }
       ],
       "conversionMethod": "pd.DataFrame",
       "ref": "58acab1b-e4bb-49cd-8f71-bac097cb0b0c",
       "rows": [
        [
         "0",
         "John"
        ],
        [
         "1",
         "Anna"
        ],
        [
         "2",
         "Peter"
        ],
        [
         "3",
         "Sue"
        ]
       ],
       "shape": {
        "columns": 1,
        "rows": 4
       }
      },
      "text/html": [
       "<div>\n",
       "<style scoped>\n",
       "    .dataframe tbody tr th:only-of-type {\n",
       "        vertical-align: middle;\n",
       "    }\n",
       "\n",
       "    .dataframe tbody tr th {\n",
       "        vertical-align: top;\n",
       "    }\n",
       "\n",
       "    .dataframe thead th {\n",
       "        text-align: right;\n",
       "    }\n",
       "</style>\n",
       "<table border=\"1\" class=\"dataframe\">\n",
       "  <thead>\n",
       "    <tr style=\"text-align: right;\">\n",
       "      <th></th>\n",
       "      <th>이름</th>\n",
       "    </tr>\n",
       "  </thead>\n",
       "  <tbody>\n",
       "    <tr>\n",
       "      <th>0</th>\n",
       "      <td>John</td>\n",
       "    </tr>\n",
       "    <tr>\n",
       "      <th>1</th>\n",
       "      <td>Anna</td>\n",
       "    </tr>\n",
       "    <tr>\n",
       "      <th>2</th>\n",
       "      <td>Peter</td>\n",
       "    </tr>\n",
       "    <tr>\n",
       "      <th>3</th>\n",
       "      <td>Sue</td>\n",
       "    </tr>\n",
       "  </tbody>\n",
       "</table>\n",
       "</div>"
      ],
      "text/plain": [
       "      이름\n",
       "0   John\n",
       "1   Anna\n",
       "2  Peter\n",
       "3    Sue"
      ]
     },
     "metadata": {},
     "output_type": "display_data"
    }
   ],
   "source": [
    "# 여기에 코드를 작성해보세요!\n",
    "dframe_clean = dframe.dropna()\n",
    "display(dframe_clean)\n",
    "\n",
    "# 행 기준\n",
    "dframe_clean_row = dframe.dropna(axis=0)\n",
    "display(dframe_clean_row)\n",
    "\n",
    "# 열 기준\n",
    "dframe_clean_col = dframe.dropna(axis=1)\n",
    "display(dframe_clean_col)"
   ]
  },
  {
   "cell_type": "markdown",
   "metadata": {
    "id": "1DYMLQ1WkZRv"
   },
   "source": [
    "## 결측치를 특정 값으로 대체 : fillna()\n",
    "\n",
    "결측치가 존재하는 모든 행을 삭제한다면, 데이터 갯수가 크게 줄어들 수 있습니다. 결측치를 제거하는 대신 특정 값으로 채울 수도 있습니다.  \n",
    "`나이` 컬럼의 결측치는 나이의 평균 값으로 채우고 `도시` 컬럼의 결측치는 문자열 \"알 수 없음\"으로 채워보세요."
   ]
  },
  {
   "cell_type": "code",
   "execution_count": 16,
   "metadata": {
    "id": "1LgmyjxHkqD3"
   },
   "outputs": [
    {
     "data": {
      "application/vnd.microsoft.datawrangler.viewer.v0+json": {
       "columns": [
        {
         "name": "index",
         "rawType": "int64",
         "type": "integer"
        },
        {
         "name": "이름",
         "rawType": "object",
         "type": "string"
        },
        {
         "name": "나이",
         "rawType": "float64",
         "type": "float"
        },
        {
         "name": "도시",
         "rawType": "object",
         "type": "string"
        }
       ],
       "conversionMethod": "pd.DataFrame",
       "ref": "42357114-73ae-4a42-a03a-0dc9f49feeab",
       "rows": [
        [
         "0",
         "John",
         "20.0",
         "서울"
        ],
        [
         "1",
         "Anna",
         "25.0",
         null
        ],
        [
         "2",
         "Peter",
         null,
         "대전"
        ],
        [
         "3",
         "Sue",
         "30.0",
         "부산"
        ]
       ],
       "shape": {
        "columns": 3,
        "rows": 4
       }
      },
      "text/html": [
       "<div>\n",
       "<style scoped>\n",
       "    .dataframe tbody tr th:only-of-type {\n",
       "        vertical-align: middle;\n",
       "    }\n",
       "\n",
       "    .dataframe tbody tr th {\n",
       "        vertical-align: top;\n",
       "    }\n",
       "\n",
       "    .dataframe thead th {\n",
       "        text-align: right;\n",
       "    }\n",
       "</style>\n",
       "<table border=\"1\" class=\"dataframe\">\n",
       "  <thead>\n",
       "    <tr style=\"text-align: right;\">\n",
       "      <th></th>\n",
       "      <th>이름</th>\n",
       "      <th>나이</th>\n",
       "      <th>도시</th>\n",
       "    </tr>\n",
       "  </thead>\n",
       "  <tbody>\n",
       "    <tr>\n",
       "      <th>0</th>\n",
       "      <td>John</td>\n",
       "      <td>20.0</td>\n",
       "      <td>서울</td>\n",
       "    </tr>\n",
       "    <tr>\n",
       "      <th>1</th>\n",
       "      <td>Anna</td>\n",
       "      <td>25.0</td>\n",
       "      <td>None</td>\n",
       "    </tr>\n",
       "    <tr>\n",
       "      <th>2</th>\n",
       "      <td>Peter</td>\n",
       "      <td>NaN</td>\n",
       "      <td>대전</td>\n",
       "    </tr>\n",
       "    <tr>\n",
       "      <th>3</th>\n",
       "      <td>Sue</td>\n",
       "      <td>30.0</td>\n",
       "      <td>부산</td>\n",
       "    </tr>\n",
       "  </tbody>\n",
       "</table>\n",
       "</div>"
      ],
      "text/plain": [
       "      이름    나이    도시\n",
       "0   John  20.0    서울\n",
       "1   Anna  25.0  None\n",
       "2  Peter   NaN    대전\n",
       "3    Sue  30.0    부산"
      ]
     },
     "metadata": {},
     "output_type": "display_data"
    },
    {
     "data": {
      "text/plain": [
       "0    20.0\n",
       "1    25.0\n",
       "2    25.0\n",
       "3    30.0\n",
       "Name: 나이, dtype: float64"
      ]
     },
     "execution_count": 16,
     "metadata": {},
     "output_type": "execute_result"
    }
   ],
   "source": [
    "# 여기에 코드를 작성해보세요!\n",
    "display(dframe)\n",
    "\n",
    "dframe_age = dframe[\"나이\"].fillna(df[\"나이\"].mean())\n",
    "dframe_age\n"
   ]
  },
  {
   "cell_type": "code",
   "execution_count": 17,
   "metadata": {
    "id": "tDOmJcYKkYub"
   },
   "outputs": [
    {
     "data": {
      "text/plain": [
       "0    20.0\n",
       "1    25.0\n",
       "2    25.0\n",
       "3    30.0\n",
       "Name: 나이, dtype: float64"
      ]
     },
     "execution_count": 17,
     "metadata": {},
     "output_type": "execute_result"
    }
   ],
   "source": [
    "# 모범답안\n",
    "\n",
    "df_age = df[\"나이\"].fillna(df[\"나이\"].mean())  # 나이를 평균값으로 채움\n",
    "\n",
    "df_age"
   ]
  },
  {
   "cell_type": "code",
   "execution_count": 18,
   "metadata": {},
   "outputs": [
    {
     "data": {
      "text/plain": [
       "0       서울\n",
       "1    응답 없음\n",
       "2       대전\n",
       "3       부산\n",
       "Name: 도시, dtype: object"
      ]
     },
     "metadata": {},
     "output_type": "display_data"
    }
   ],
   "source": [
    "# 여기에 코드를 작성해보세요!\n",
    "\n",
    "dframe_city = dframe[\"도시\"].fillna(\"응답 없음\")\n",
    "\n",
    "display(dframe_city)"
   ]
  },
  {
   "cell_type": "code",
   "execution_count": 19,
   "metadata": {
    "id": "AHcZt9xWk_Lm"
   },
   "outputs": [
    {
     "data": {
      "text/plain": [
       "0        서울\n",
       "1    알 수 없음\n",
       "2        대전\n",
       "3        부산\n",
       "Name: 도시, dtype: object"
      ]
     },
     "execution_count": 19,
     "metadata": {},
     "output_type": "execute_result"
    }
   ],
   "source": [
    "# 모범답안\n",
    "\n",
    "dframe_city = df[\"도시\"].fillna(\"알 수 없음\")  # 도시를 \"알 수 없음\"으로 채움\n",
    "\n",
    "dframe_city"
   ]
  },
  {
   "cell_type": "markdown",
   "metadata": {
    "id": "rJxDBC4mkHMJ"
   },
   "source": [
    "# 이상치란?\n",
    "* 데이터에서 정상적인 패턴에서 벗어난 극단적인 값을 의미함\n",
    "* 이상치는 데이터 입력 오류, 센서 오작동, 특수한 상황 등으로 발생할 수 있음\n",
    "\n",
    "# 이상치가 분석에 미치는 영향\n",
    "* 평균값 등 대표값이 왜곡될 가능성이 높음\n",
    "* 머신러닝 모델 학습 시 이상치에 의해 성능이 저하될 수 있음\n",
    "\n",
    "<br/>\n",
    "<br/>\n",
    "\n",
    "# 이상치 제거\n",
    "\n",
    "## 이상치 확인 : IQR 방법 사용\n",
    "\n",
    "실습에 사용할 데이터를 준비하겠습니다.\n"
   ]
  },
  {
   "cell_type": "code",
   "execution_count": 20,
   "metadata": {
    "id": "RJC_0w84kGmV"
   },
   "outputs": [
    {
     "data": {
      "application/vnd.microsoft.datawrangler.viewer.v0+json": {
       "columns": [
        {
         "name": "index",
         "rawType": "int64",
         "type": "integer"
        },
        {
         "name": "이름",
         "rawType": "object",
         "type": "string"
        },
        {
         "name": "나이",
         "rawType": "int64",
         "type": "integer"
        }
       ],
       "conversionMethod": "pd.DataFrame",
       "ref": "bcbdf045-7f13-4272-8fd5-e51766f8531b",
       "rows": [
        [
         "0",
         "John",
         "20"
        ],
        [
         "1",
         "Anna",
         "25"
        ],
        [
         "2",
         "Peter",
         "30"
        ],
        [
         "3",
         "Sue",
         "120"
        ],
        [
         "4",
         "Tedy",
         "23"
        ]
       ],
       "shape": {
        "columns": 2,
        "rows": 5
       }
      },
      "text/html": [
       "<div>\n",
       "<style scoped>\n",
       "    .dataframe tbody tr th:only-of-type {\n",
       "        vertical-align: middle;\n",
       "    }\n",
       "\n",
       "    .dataframe tbody tr th {\n",
       "        vertical-align: top;\n",
       "    }\n",
       "\n",
       "    .dataframe thead th {\n",
       "        text-align: right;\n",
       "    }\n",
       "</style>\n",
       "<table border=\"1\" class=\"dataframe\">\n",
       "  <thead>\n",
       "    <tr style=\"text-align: right;\">\n",
       "      <th></th>\n",
       "      <th>이름</th>\n",
       "      <th>나이</th>\n",
       "    </tr>\n",
       "  </thead>\n",
       "  <tbody>\n",
       "    <tr>\n",
       "      <th>0</th>\n",
       "      <td>John</td>\n",
       "      <td>20</td>\n",
       "    </tr>\n",
       "    <tr>\n",
       "      <th>1</th>\n",
       "      <td>Anna</td>\n",
       "      <td>25</td>\n",
       "    </tr>\n",
       "    <tr>\n",
       "      <th>2</th>\n",
       "      <td>Peter</td>\n",
       "      <td>30</td>\n",
       "    </tr>\n",
       "    <tr>\n",
       "      <th>3</th>\n",
       "      <td>Sue</td>\n",
       "      <td>120</td>\n",
       "    </tr>\n",
       "    <tr>\n",
       "      <th>4</th>\n",
       "      <td>Tedy</td>\n",
       "      <td>23</td>\n",
       "    </tr>\n",
       "  </tbody>\n",
       "</table>\n",
       "</div>"
      ],
      "text/plain": [
       "      이름   나이\n",
       "0   John   20\n",
       "1   Anna   25\n",
       "2  Peter   30\n",
       "3    Sue  120\n",
       "4   Tedy   23"
      ]
     },
     "execution_count": 20,
     "metadata": {},
     "output_type": "execute_result"
    }
   ],
   "source": [
    "import numpy as np\n",
    "import pandas as pd\n",
    "\n",
    "data = {\n",
    "    \"이름\": [\"John\", \"Anna\", \"Peter\", \"Sue\", \"Tedy\"],\n",
    "    \"나이\": [20, 25, 30, 120, 23]  # 120은 이상치\n",
    "}\n",
    "\n",
    "df = pd.DataFrame(data)\n",
    "df"
   ]
  },
  {
   "cell_type": "markdown",
   "metadata": {
    "id": "GpPQXJmlMqNM"
   },
   "source": [
    "IQR(사분위 범위)은 하위 25%에 해당하는 제1사분위수(Q1)와 상위 25%에 해당하는 제3사분위수(Q3)의 차이를 통해 계산되는 값입니다.\n",
    "\n",
    "IQR의 범위 상한선과 하한선을 계산하고 이 범위를 벗어나는 데이터를 찾아보세요."
   ]
  },
  {
   "cell_type": "code",
   "execution_count": 21,
   "metadata": {
    "id": "XdhQMLHSFfCC"
   },
   "outputs": [
    {
     "name": "stdout",
     "output_type": "stream",
     "text": [
      "범위 : 12.5 ~ 40.5\n",
      "이상치\n"
     ]
    },
    {
     "data": {
      "application/vnd.microsoft.datawrangler.viewer.v0+json": {
       "columns": [
        {
         "name": "index",
         "rawType": "int64",
         "type": "integer"
        },
        {
         "name": "이름",
         "rawType": "object",
         "type": "string"
        },
        {
         "name": "나이",
         "rawType": "int64",
         "type": "integer"
        }
       ],
       "conversionMethod": "pd.DataFrame",
       "ref": "0e7d5ae8-dc90-47ff-b2ec-b2d45ea0c398",
       "rows": [
        [
         "3",
         "Sue",
         "120"
        ]
       ],
       "shape": {
        "columns": 2,
        "rows": 1
       }
      },
      "text/html": [
       "<div>\n",
       "<style scoped>\n",
       "    .dataframe tbody tr th:only-of-type {\n",
       "        vertical-align: middle;\n",
       "    }\n",
       "\n",
       "    .dataframe tbody tr th {\n",
       "        vertical-align: top;\n",
       "    }\n",
       "\n",
       "    .dataframe thead th {\n",
       "        text-align: right;\n",
       "    }\n",
       "</style>\n",
       "<table border=\"1\" class=\"dataframe\">\n",
       "  <thead>\n",
       "    <tr style=\"text-align: right;\">\n",
       "      <th></th>\n",
       "      <th>이름</th>\n",
       "      <th>나이</th>\n",
       "    </tr>\n",
       "  </thead>\n",
       "  <tbody>\n",
       "    <tr>\n",
       "      <th>3</th>\n",
       "      <td>Sue</td>\n",
       "      <td>120</td>\n",
       "    </tr>\n",
       "  </tbody>\n",
       "</table>\n",
       "</div>"
      ],
      "text/plain": [
       "    이름   나이\n",
       "3  Sue  120"
      ]
     },
     "execution_count": 21,
     "metadata": {},
     "output_type": "execute_result"
    }
   ],
   "source": [
    "# 여기에 코드를 작성해보세요!\n",
    "dframe = df\n",
    "\n",
    "Q1 = dframe[\"나이\"].quantile(0.25)\n",
    "Q3 = dframe[\"나이\"].quantile(0.75)\n",
    "IQR = Q3 - Q1\n",
    "\n",
    "l_bound = Q1 - 1.5 * IQR\n",
    "u_bound = Q3 + 1.5 * IQR\n",
    "\n",
    "print(f\"범위 : {l_bound} ~ {u_bound}\")\n",
    "print(\"이상치\")\n",
    "dframe[(dframe[\"나이\"] < l_bound) | (dframe[\"나이\"] > u_bound)]"
   ]
  },
  {
   "cell_type": "code",
   "execution_count": 22,
   "metadata": {
    "id": "gRtwTk06Fc-P"
   },
   "outputs": [
    {
     "name": "stdout",
     "output_type": "stream",
     "text": [
      "이상치 기준: 12.5 ~ 40.5\n",
      "    이름   나이\n",
      "3  Sue  120\n"
     ]
    }
   ],
   "source": [
    "# 모범답안\n",
    "\n",
    "Q1 = np.percentile(df[\"나이\"], 25)  # 1사분위수 (Q1)\n",
    "Q3 = np.percentile(df[\"나이\"], 75)  # 3사분위수 (Q3)\n",
    "IQR = Q3 - Q1  # 사분위 범위\n",
    "\n",
    "lower_bound = Q1 - (1.5 * IQR)\n",
    "upper_bound = Q3 + (1.5 * IQR)\n",
    "\n",
    "print(f\"이상치 기준: {lower_bound} ~ {upper_bound}\")\n",
    "print(df[(df[\"나이\"] < lower_bound) | (df[\"나이\"] > upper_bound)])  # 이상치 찾기"
   ]
  },
  {
   "cell_type": "markdown",
   "metadata": {
    "id": "XnRDKzh6lTao"
   },
   "source": [
    "## 이상치 제거\n",
    "위에서 구한 IQR 범위 내에 들어오는 데이터를 찾아 DataFrame 을 추출한 후, 새로운 변수에 할당해보세요."
   ]
  },
  {
   "cell_type": "code",
   "execution_count": 23,
   "metadata": {
    "id": "lKSbI2WDlpBm"
   },
   "outputs": [
    {
     "data": {
      "application/vnd.microsoft.datawrangler.viewer.v0+json": {
       "columns": [
        {
         "name": "index",
         "rawType": "int64",
         "type": "integer"
        },
        {
         "name": "이름",
         "rawType": "object",
         "type": "string"
        },
        {
         "name": "나이",
         "rawType": "int64",
         "type": "integer"
        }
       ],
       "conversionMethod": "pd.DataFrame",
       "ref": "48754074-b62b-4b02-ad89-1adb70108d46",
       "rows": [
        [
         "0",
         "John",
         "20"
        ],
        [
         "1",
         "Anna",
         "25"
        ],
        [
         "2",
         "Peter",
         "30"
        ],
        [
         "4",
         "Tedy",
         "23"
        ]
       ],
       "shape": {
        "columns": 2,
        "rows": 4
       }
      },
      "text/html": [
       "<div>\n",
       "<style scoped>\n",
       "    .dataframe tbody tr th:only-of-type {\n",
       "        vertical-align: middle;\n",
       "    }\n",
       "\n",
       "    .dataframe tbody tr th {\n",
       "        vertical-align: top;\n",
       "    }\n",
       "\n",
       "    .dataframe thead th {\n",
       "        text-align: right;\n",
       "    }\n",
       "</style>\n",
       "<table border=\"1\" class=\"dataframe\">\n",
       "  <thead>\n",
       "    <tr style=\"text-align: right;\">\n",
       "      <th></th>\n",
       "      <th>이름</th>\n",
       "      <th>나이</th>\n",
       "    </tr>\n",
       "  </thead>\n",
       "  <tbody>\n",
       "    <tr>\n",
       "      <th>0</th>\n",
       "      <td>John</td>\n",
       "      <td>20</td>\n",
       "    </tr>\n",
       "    <tr>\n",
       "      <th>1</th>\n",
       "      <td>Anna</td>\n",
       "      <td>25</td>\n",
       "    </tr>\n",
       "    <tr>\n",
       "      <th>2</th>\n",
       "      <td>Peter</td>\n",
       "      <td>30</td>\n",
       "    </tr>\n",
       "    <tr>\n",
       "      <th>4</th>\n",
       "      <td>Tedy</td>\n",
       "      <td>23</td>\n",
       "    </tr>\n",
       "  </tbody>\n",
       "</table>\n",
       "</div>"
      ],
      "text/plain": [
       "      이름  나이\n",
       "0   John  20\n",
       "1   Anna  25\n",
       "2  Peter  30\n",
       "4   Tedy  23"
      ]
     },
     "execution_count": 23,
     "metadata": {},
     "output_type": "execute_result"
    }
   ],
   "source": [
    "# 여기에 코드를 작성해보세요!\n",
    "dframe_clean = dframe[(dframe[\"나이\"] >= l_bound) & (dframe[\"나이\"] <= u_bound)]\n",
    "dframe_clean"
   ]
  },
  {
   "cell_type": "code",
   "execution_count": 24,
   "metadata": {
    "id": "cY5ILPP3lSs3"
   },
   "outputs": [
    {
     "data": {
      "application/vnd.microsoft.datawrangler.viewer.v0+json": {
       "columns": [
        {
         "name": "index",
         "rawType": "int64",
         "type": "integer"
        },
        {
         "name": "이름",
         "rawType": "object",
         "type": "string"
        },
        {
         "name": "나이",
         "rawType": "int64",
         "type": "integer"
        }
       ],
       "conversionMethod": "pd.DataFrame",
       "ref": "d8958bbf-5285-4dac-953f-3534f25369c5",
       "rows": [
        [
         "0",
         "John",
         "20"
        ],
        [
         "1",
         "Anna",
         "25"
        ],
        [
         "2",
         "Peter",
         "30"
        ],
        [
         "4",
         "Tedy",
         "23"
        ]
       ],
       "shape": {
        "columns": 2,
        "rows": 4
       }
      },
      "text/html": [
       "<div>\n",
       "<style scoped>\n",
       "    .dataframe tbody tr th:only-of-type {\n",
       "        vertical-align: middle;\n",
       "    }\n",
       "\n",
       "    .dataframe tbody tr th {\n",
       "        vertical-align: top;\n",
       "    }\n",
       "\n",
       "    .dataframe thead th {\n",
       "        text-align: right;\n",
       "    }\n",
       "</style>\n",
       "<table border=\"1\" class=\"dataframe\">\n",
       "  <thead>\n",
       "    <tr style=\"text-align: right;\">\n",
       "      <th></th>\n",
       "      <th>이름</th>\n",
       "      <th>나이</th>\n",
       "    </tr>\n",
       "  </thead>\n",
       "  <tbody>\n",
       "    <tr>\n",
       "      <th>0</th>\n",
       "      <td>John</td>\n",
       "      <td>20</td>\n",
       "    </tr>\n",
       "    <tr>\n",
       "      <th>1</th>\n",
       "      <td>Anna</td>\n",
       "      <td>25</td>\n",
       "    </tr>\n",
       "    <tr>\n",
       "      <th>2</th>\n",
       "      <td>Peter</td>\n",
       "      <td>30</td>\n",
       "    </tr>\n",
       "    <tr>\n",
       "      <th>4</th>\n",
       "      <td>Tedy</td>\n",
       "      <td>23</td>\n",
       "    </tr>\n",
       "  </tbody>\n",
       "</table>\n",
       "</div>"
      ],
      "text/plain": [
       "      이름  나이\n",
       "0   John  20\n",
       "1   Anna  25\n",
       "2  Peter  30\n",
       "4   Tedy  23"
      ]
     },
     "execution_count": 24,
     "metadata": {},
     "output_type": "execute_result"
    }
   ],
   "source": [
    "# 모범 답안\n",
    "\n",
    "df_clean = df[(df[\"나이\"] >= lower_bound) & (df[\"나이\"] <= upper_bound)]\n",
    "df_clean"
   ]
  },
  {
   "cell_type": "markdown",
   "metadata": {
    "id": "W7kZ_b7ZtEQx"
   },
   "source": [
    "<br/>\n",
    "<br/>\n",
    "\n",
    "---\n",
    "<br/>\n",
    "<br/>\n",
    "\n",
    "# [자율] 실습문제\n",
    "\n",
    "다음 주어진 데이터를 활용하여\n",
    "\n",
    "1. 이 데이터에서 중복된 행을 제거하세요.\n",
    "(전체 행 기준 중복입니다. 예: '김영희'가 완전히 같은 데이터로 2번 있음)\n",
    "\n",
    "\n",
    "2. 이 데이터에서 **결측치(NaN)**가 있는 행을 제거하세요."
   ]
  },
  {
   "cell_type": "code",
   "execution_count": 25,
   "metadata": {
    "id": "CKdin-VXtU2E"
   },
   "outputs": [
    {
     "data": {
      "application/vnd.microsoft.datawrangler.viewer.v0+json": {
       "columns": [
        {
         "name": "index",
         "rawType": "int64",
         "type": "integer"
        },
        {
         "name": "이름",
         "rawType": "object",
         "type": "string"
        },
        {
         "name": "부서",
         "rawType": "object",
         "type": "string"
        },
        {
         "name": "입사연도",
         "rawType": "int64",
         "type": "integer"
        },
        {
         "name": "연봉",
         "rawType": "float64",
         "type": "float"
        },
        {
         "name": "성별",
         "rawType": "object",
         "type": "string"
        }
       ],
       "conversionMethod": "pd.DataFrame",
       "ref": "436d0be3-9998-47a5-961f-5062ece376e8",
       "rows": [
        [
         "0",
         "김영희",
         "인사",
         "2018",
         "4500.0",
         "여"
        ],
        [
         "1",
         "이철수",
         "총무",
         "2019",
         "4700.0",
         "남"
        ],
        [
         "2",
         "박민수",
         "개발",
         "2020",
         "5000.0",
         "남"
        ],
        [
         "3",
         "김영희",
         "인사",
         "2018",
         "4500.0",
         "여"
        ],
        [
         "4",
         "최지민",
         "개발",
         "2021",
         null,
         "여"
        ],
        [
         "5",
         "정해인",
         null,
         "2022",
         "5200.0",
         "남"
        ]
       ],
       "shape": {
        "columns": 5,
        "rows": 6
       }
      },
      "text/html": [
       "<div>\n",
       "<style scoped>\n",
       "    .dataframe tbody tr th:only-of-type {\n",
       "        vertical-align: middle;\n",
       "    }\n",
       "\n",
       "    .dataframe tbody tr th {\n",
       "        vertical-align: top;\n",
       "    }\n",
       "\n",
       "    .dataframe thead th {\n",
       "        text-align: right;\n",
       "    }\n",
       "</style>\n",
       "<table border=\"1\" class=\"dataframe\">\n",
       "  <thead>\n",
       "    <tr style=\"text-align: right;\">\n",
       "      <th></th>\n",
       "      <th>이름</th>\n",
       "      <th>부서</th>\n",
       "      <th>입사연도</th>\n",
       "      <th>연봉</th>\n",
       "      <th>성별</th>\n",
       "    </tr>\n",
       "  </thead>\n",
       "  <tbody>\n",
       "    <tr>\n",
       "      <th>0</th>\n",
       "      <td>김영희</td>\n",
       "      <td>인사</td>\n",
       "      <td>2018</td>\n",
       "      <td>4500.0</td>\n",
       "      <td>여</td>\n",
       "    </tr>\n",
       "    <tr>\n",
       "      <th>1</th>\n",
       "      <td>이철수</td>\n",
       "      <td>총무</td>\n",
       "      <td>2019</td>\n",
       "      <td>4700.0</td>\n",
       "      <td>남</td>\n",
       "    </tr>\n",
       "    <tr>\n",
       "      <th>2</th>\n",
       "      <td>박민수</td>\n",
       "      <td>개발</td>\n",
       "      <td>2020</td>\n",
       "      <td>5000.0</td>\n",
       "      <td>남</td>\n",
       "    </tr>\n",
       "    <tr>\n",
       "      <th>3</th>\n",
       "      <td>김영희</td>\n",
       "      <td>인사</td>\n",
       "      <td>2018</td>\n",
       "      <td>4500.0</td>\n",
       "      <td>여</td>\n",
       "    </tr>\n",
       "    <tr>\n",
       "      <th>4</th>\n",
       "      <td>최지민</td>\n",
       "      <td>개발</td>\n",
       "      <td>2021</td>\n",
       "      <td>NaN</td>\n",
       "      <td>여</td>\n",
       "    </tr>\n",
       "    <tr>\n",
       "      <th>5</th>\n",
       "      <td>정해인</td>\n",
       "      <td>NaN</td>\n",
       "      <td>2022</td>\n",
       "      <td>5200.0</td>\n",
       "      <td>남</td>\n",
       "    </tr>\n",
       "  </tbody>\n",
       "</table>\n",
       "</div>"
      ],
      "text/plain": [
       "    이름   부서  입사연도      연봉 성별\n",
       "0  김영희   인사  2018  4500.0  여\n",
       "1  이철수   총무  2019  4700.0  남\n",
       "2  박민수   개발  2020  5000.0  남\n",
       "3  김영희   인사  2018  4500.0  여\n",
       "4  최지민   개발  2021     NaN  여\n",
       "5  정해인  NaN  2022  5200.0  남"
      ]
     },
     "execution_count": 25,
     "metadata": {},
     "output_type": "execute_result"
    }
   ],
   "source": [
    "import pandas as pd\n",
    "import numpy as np\n",
    "\n",
    "data = {\n",
    "    '이름': ['김영희', '이철수', '박민수', '김영희', '최지민', '정해인'],\n",
    "    '부서': ['인사', '총무', '개발', '인사', '개발', np.nan],\n",
    "    '입사연도': [2018, 2019, 2020, 2018, 2021, 2022],\n",
    "    '연봉': [4500, 4700, 5000, 4500, np.nan, 5200],\n",
    "    '성별': ['여', '남', '남', '여', '여', '남']\n",
    "}\n",
    "\n",
    "df = pd.DataFrame(data)\n",
    "df\n"
   ]
  },
  {
   "cell_type": "code",
   "execution_count": 26,
   "metadata": {
    "id": "sxyVKfXjtYJd"
   },
   "outputs": [
    {
     "data": {
      "application/vnd.microsoft.datawrangler.viewer.v0+json": {
       "columns": [
        {
         "name": "index",
         "rawType": "int64",
         "type": "integer"
        },
        {
         "name": "이름",
         "rawType": "object",
         "type": "string"
        },
        {
         "name": "부서",
         "rawType": "object",
         "type": "string"
        },
        {
         "name": "입사연도",
         "rawType": "int64",
         "type": "integer"
        },
        {
         "name": "연봉",
         "rawType": "float64",
         "type": "float"
        },
        {
         "name": "성별",
         "rawType": "object",
         "type": "string"
        }
       ],
       "conversionMethod": "pd.DataFrame",
       "ref": "85c53ac8-d705-46f3-8b40-b82a4f62692b",
       "rows": [
        [
         "0",
         "김영희",
         "인사",
         "2018",
         "4500.0",
         "여"
        ],
        [
         "1",
         "이철수",
         "총무",
         "2019",
         "4700.0",
         "남"
        ],
        [
         "2",
         "박민수",
         "개발",
         "2020",
         "5000.0",
         "남"
        ],
        [
         "4",
         "최지민",
         "개발",
         "2021",
         null,
         "여"
        ],
        [
         "5",
         "정해인",
         null,
         "2022",
         "5200.0",
         "남"
        ]
       ],
       "shape": {
        "columns": 5,
        "rows": 5
       }
      },
      "text/html": [
       "<div>\n",
       "<style scoped>\n",
       "    .dataframe tbody tr th:only-of-type {\n",
       "        vertical-align: middle;\n",
       "    }\n",
       "\n",
       "    .dataframe tbody tr th {\n",
       "        vertical-align: top;\n",
       "    }\n",
       "\n",
       "    .dataframe thead th {\n",
       "        text-align: right;\n",
       "    }\n",
       "</style>\n",
       "<table border=\"1\" class=\"dataframe\">\n",
       "  <thead>\n",
       "    <tr style=\"text-align: right;\">\n",
       "      <th></th>\n",
       "      <th>이름</th>\n",
       "      <th>부서</th>\n",
       "      <th>입사연도</th>\n",
       "      <th>연봉</th>\n",
       "      <th>성별</th>\n",
       "    </tr>\n",
       "  </thead>\n",
       "  <tbody>\n",
       "    <tr>\n",
       "      <th>0</th>\n",
       "      <td>김영희</td>\n",
       "      <td>인사</td>\n",
       "      <td>2018</td>\n",
       "      <td>4500.0</td>\n",
       "      <td>여</td>\n",
       "    </tr>\n",
       "    <tr>\n",
       "      <th>1</th>\n",
       "      <td>이철수</td>\n",
       "      <td>총무</td>\n",
       "      <td>2019</td>\n",
       "      <td>4700.0</td>\n",
       "      <td>남</td>\n",
       "    </tr>\n",
       "    <tr>\n",
       "      <th>2</th>\n",
       "      <td>박민수</td>\n",
       "      <td>개발</td>\n",
       "      <td>2020</td>\n",
       "      <td>5000.0</td>\n",
       "      <td>남</td>\n",
       "    </tr>\n",
       "    <tr>\n",
       "      <th>4</th>\n",
       "      <td>최지민</td>\n",
       "      <td>개발</td>\n",
       "      <td>2021</td>\n",
       "      <td>NaN</td>\n",
       "      <td>여</td>\n",
       "    </tr>\n",
       "    <tr>\n",
       "      <th>5</th>\n",
       "      <td>정해인</td>\n",
       "      <td>NaN</td>\n",
       "      <td>2022</td>\n",
       "      <td>5200.0</td>\n",
       "      <td>남</td>\n",
       "    </tr>\n",
       "  </tbody>\n",
       "</table>\n",
       "</div>"
      ],
      "text/plain": [
       "    이름   부서  입사연도      연봉 성별\n",
       "0  김영희   인사  2018  4500.0  여\n",
       "1  이철수   총무  2019  4700.0  남\n",
       "2  박민수   개발  2020  5000.0  남\n",
       "4  최지민   개발  2021     NaN  여\n",
       "5  정해인  NaN  2022  5200.0  남"
      ]
     },
     "metadata": {},
     "output_type": "display_data"
    }
   ],
   "source": [
    "# 1. 여기에 코드를 작성해보세요!\n",
    "df_nodp = df.drop_duplicates()\n",
    "display(df_nodp)"
   ]
  },
  {
   "cell_type": "code",
   "execution_count": 27,
   "metadata": {
    "id": "5tIXdIUVtdIe"
   },
   "outputs": [
    {
     "data": {
      "application/vnd.microsoft.datawrangler.viewer.v0+json": {
       "columns": [
        {
         "name": "index",
         "rawType": "int64",
         "type": "integer"
        },
        {
         "name": "이름",
         "rawType": "object",
         "type": "string"
        },
        {
         "name": "부서",
         "rawType": "object",
         "type": "string"
        },
        {
         "name": "입사연도",
         "rawType": "int64",
         "type": "integer"
        },
        {
         "name": "연봉",
         "rawType": "float64",
         "type": "float"
        },
        {
         "name": "성별",
         "rawType": "object",
         "type": "string"
        }
       ],
       "conversionMethod": "pd.DataFrame",
       "ref": "c98e209e-c5f4-477e-9dfc-bb157cfe4268",
       "rows": [
        [
         "0",
         "김영희",
         "인사",
         "2018",
         "4500.0",
         "여"
        ],
        [
         "1",
         "이철수",
         "총무",
         "2019",
         "4700.0",
         "남"
        ],
        [
         "2",
         "박민수",
         "개발",
         "2020",
         "5000.0",
         "남"
        ]
       ],
       "shape": {
        "columns": 5,
        "rows": 3
       }
      },
      "text/html": [
       "<div>\n",
       "<style scoped>\n",
       "    .dataframe tbody tr th:only-of-type {\n",
       "        vertical-align: middle;\n",
       "    }\n",
       "\n",
       "    .dataframe tbody tr th {\n",
       "        vertical-align: top;\n",
       "    }\n",
       "\n",
       "    .dataframe thead th {\n",
       "        text-align: right;\n",
       "    }\n",
       "</style>\n",
       "<table border=\"1\" class=\"dataframe\">\n",
       "  <thead>\n",
       "    <tr style=\"text-align: right;\">\n",
       "      <th></th>\n",
       "      <th>이름</th>\n",
       "      <th>부서</th>\n",
       "      <th>입사연도</th>\n",
       "      <th>연봉</th>\n",
       "      <th>성별</th>\n",
       "    </tr>\n",
       "  </thead>\n",
       "  <tbody>\n",
       "    <tr>\n",
       "      <th>0</th>\n",
       "      <td>김영희</td>\n",
       "      <td>인사</td>\n",
       "      <td>2018</td>\n",
       "      <td>4500.0</td>\n",
       "      <td>여</td>\n",
       "    </tr>\n",
       "    <tr>\n",
       "      <th>1</th>\n",
       "      <td>이철수</td>\n",
       "      <td>총무</td>\n",
       "      <td>2019</td>\n",
       "      <td>4700.0</td>\n",
       "      <td>남</td>\n",
       "    </tr>\n",
       "    <tr>\n",
       "      <th>2</th>\n",
       "      <td>박민수</td>\n",
       "      <td>개발</td>\n",
       "      <td>2020</td>\n",
       "      <td>5000.0</td>\n",
       "      <td>남</td>\n",
       "    </tr>\n",
       "  </tbody>\n",
       "</table>\n",
       "</div>"
      ],
      "text/plain": [
       "    이름  부서  입사연도      연봉 성별\n",
       "0  김영희  인사  2018  4500.0  여\n",
       "1  이철수  총무  2019  4700.0  남\n",
       "2  박민수  개발  2020  5000.0  남"
      ]
     },
     "execution_count": 27,
     "metadata": {},
     "output_type": "execute_result"
    }
   ],
   "source": [
    "# 2. 여기에 코드를 작성해보세요!\n",
    "df_nona = df_nodp.dropna()\n",
    "df_nona"
   ]
  },
  {
   "cell_type": "code",
   "execution_count": 28,
   "metadata": {
    "id": "uU6kI5xVteRJ"
   },
   "outputs": [
    {
     "name": "stdout",
     "output_type": "stream",
     "text": [
      "중복 제거 결과:\n",
      "    이름   부서  입사연도      연봉 성별\n",
      "0  김영희   인사  2018  4500.0  여\n",
      "1  이철수   총무  2019  4700.0  남\n",
      "2  박민수   개발  2020  5000.0  남\n",
      "4  최지민   개발  2021     NaN  여\n",
      "5  정해인  NaN  2022  5200.0  남\n",
      "\n",
      "결측치 제거 결과:\n",
      "    이름  부서  입사연도      연봉 성별\n",
      "0  김영희  인사  2018  4500.0  여\n",
      "1  이철수  총무  2019  4700.0  남\n",
      "2  박민수  개발  2020  5000.0  남\n"
     ]
    }
   ],
   "source": [
    "# 모범답안\n",
    "\n",
    "# 1. 중복 행 제거\n",
    "df_no_duplicates = df.drop_duplicates()\n",
    "print(\"중복 제거 결과:\")\n",
    "print(df_no_duplicates)\n",
    "\n",
    "# 2. 결측치 제거\n",
    "df_no_na = df_no_duplicates.dropna()\n",
    "print(\"\\n결측치 제거 결과:\")\n",
    "print(df_no_na)"
   ]
  }
 ],
 "metadata": {
  "colab": {
   "provenance": []
  },
  "kernelspec": {
   "display_name": "base",
   "language": "python",
   "name": "python3"
  },
  "language_info": {
   "codemirror_mode": {
    "name": "ipython",
    "version": 3
   },
   "file_extension": ".py",
   "mimetype": "text/x-python",
   "name": "python",
   "nbconvert_exporter": "python",
   "pygments_lexer": "ipython3",
   "version": "3.9.7"
  }
 },
 "nbformat": 4,
 "nbformat_minor": 0
}
