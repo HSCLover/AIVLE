{
 "cells": [
  {
   "cell_type": "markdown",
   "metadata": {
    "id": "aFZHXmhdKOhm"
   },
   "source": [
    "0. 라이브러리를 불러오세요"
   ]
  },
  {
   "cell_type": "code",
   "execution_count": null,
   "metadata": {
    "id": "dLijbr4UKH6Q"
   },
   "outputs": [],
   "source": [
    "import numpy as np\n",
    "import pandas as pd"
   ]
  },
  {
   "cell_type": "markdown",
   "metadata": {
    "id": "jsX5rxtdKUd_"
   },
   "source": [
    "1. 데이터를 로드하세요. 데이터는 \\t을 기준으로 구분되어있습니다."
   ]
  },
  {
   "cell_type": "code",
   "execution_count": null,
   "metadata": {
    "id": "I8fjz-uVKUlo"
   },
   "outputs": [],
   "source": [
    "# DataUrl = 'https://raw.githubusercontent.com/Datamanim/pandas/main/lol.csv'\n",
    "\n",
    "dframe = pd.read_csv('https://raw.githubusercontent.com/Datamanim/pandas/main/lol.csv', sep='\\t')"
   ]
  },
  {
   "cell_type": "markdown",
   "metadata": {
    "id": "Up57D909KUsy"
   },
   "source": [
    "2. 데이터의 상위 5개 행을 출력하세요."
   ]
  },
  {
   "cell_type": "code",
   "execution_count": null,
   "metadata": {
    "id": "H5vOFmG9KUzY"
   },
   "outputs": [],
   "source": [
    "dframe.head(5)"
   ]
  },
  {
   "cell_type": "markdown",
   "metadata": {
    "id": "FiTpWPVDKU5p"
   },
   "source": [
    "3. 데이터의 행과 열의 갯수를 파악하세요."
   ]
  },
  {
   "cell_type": "code",
   "execution_count": null,
   "metadata": {
    "id": "zL7yoEgjKVAl"
   },
   "outputs": [],
   "source": [
    "dframe.shape"
   ]
  },
  {
   "cell_type": "markdown",
   "metadata": {
    "id": "M4FQ-GCcKVH_"
   },
   "source": [
    "4. 전체 컬럼을 출력하세요.\n",
    "\n"
   ]
  },
  {
   "cell_type": "code",
   "execution_count": null,
   "metadata": {
    "id": "aMXHciCTKVOy"
   },
   "outputs": [],
   "source": [
    "dframe.columns"
   ]
  },
  {
   "cell_type": "markdown",
   "metadata": {
    "id": "dUQKCzQZKVV2"
   },
   "source": [
    "5. 6번째 컬럼명을 출력하세요."
   ]
  },
  {
   "cell_type": "code",
   "execution_count": null,
   "metadata": {
    "id": "po0kHt1lKVdh"
   },
   "outputs": [],
   "source": [
    "dframe.columns[5]"
   ]
  },
  {
   "cell_type": "markdown",
   "metadata": {
    "id": "XdELpuiZKVjZ"
   },
   "source": [
    "6. 6번째 컬럼의 데이터 타입을 확인하세요."
   ]
  },
  {
   "cell_type": "code",
   "execution_count": null,
   "metadata": {
    "id": "mYGl1syxKVqy"
   },
   "outputs": [],
   "source": []
  },
  {
   "cell_type": "markdown",
   "metadata": {
    "id": "C0fbuUeBKVxK"
   },
   "source": [
    "7. 데이터셋의 인덱스 구성을 파악하세요."
   ]
  },
  {
   "cell_type": "code",
   "execution_count": null,
   "metadata": {
    "id": "1Tn_E6eSKV4o"
   },
   "outputs": [],
   "source": [
    "dframe.index"
   ]
  },
  {
   "cell_type": "markdown",
   "metadata": {
    "id": "lLj4gjhcKV-o"
   },
   "source": [
    "8. 6번째 컬럼의 3번째 값을 조회해 보세요."
   ]
  },
  {
   "cell_type": "code",
   "execution_count": null,
   "metadata": {
    "id": "Khg4i5uaKWFk"
   },
   "outputs": [],
   "source": []
  },
  {
   "cell_type": "markdown",
   "metadata": {
    "id": "eTV7V2ctKWM2"
   },
   "source": [
    "9. 새로운 데이터를 로드하고 데이터의 마지막 3개행을 출력하세요."
   ]
  },
  {
   "cell_type": "code",
   "execution_count": null,
   "metadata": {
    "colab": {
     "base_uri": "https://localhost:8080/",
     "height": 930
    },
    "executionInfo": {
     "elapsed": 424,
     "status": "ok",
     "timestamp": 1732606992152,
     "user": {
      "displayName": "MinJeong Shin",
      "userId": "11558066440127198379"
     },
     "user_tz": -540
    },
    "id": "dKcht-FgKWUG",
    "outputId": "ad101f9a-614f-4ad1-8b1a-0f41018d6473"
   },
   "outputs": [],
   "source": [
    "# DataUrl = 'https://raw.githubusercontent.com/Datamanim/pandas/main/Jeju.csv'\n",
    "\n",
    "import pandas as pd\n",
    "\n",
    "df = pd.read_csv('https://raw.githubusercontent.com/Datamanim/pandas/main/Jeju.csv', encoding='cp949')\n",
    "df"
   ]
  },
  {
   "cell_type": "markdown",
   "metadata": {
    "id": "IwH9zPEzKWav"
   },
   "source": [
    "10. 각 수치형 변수의 분포(사분위, 평균, 표준편차, 최대 , 최소)를 확인하세요."
   ]
  },
  {
   "cell_type": "code",
   "execution_count": null,
   "metadata": {
    "id": "7PU4X8rdKWiP"
   },
   "outputs": [],
   "source": []
  },
  {
   "cell_type": "markdown",
   "metadata": {
    "id": "FHagKJD9KWot"
   },
   "source": [
    "11. 거주인구 컬럼의 값들을 출력하세요.\n",
    "\n"
   ]
  },
  {
   "cell_type": "code",
   "execution_count": null,
   "metadata": {
    "id": "XxEF3N0LKWvc"
   },
   "outputs": [],
   "source": []
  },
  {
   "cell_type": "markdown",
   "metadata": {
    "id": "7wQKiBFVKW1p"
   },
   "source": [
    "12. 읍면동명 컬럼의 유일값 갯수를 출력하세요."
   ]
  },
  {
   "cell_type": "code",
   "execution_count": null,
   "metadata": {
    "id": "7Hci592vKW8T"
   },
   "outputs": [],
   "source": []
  },
  {
   "cell_type": "markdown",
   "metadata": {
    "id": "9OGKolFuKXCi"
   },
   "source": [
    "13. 새로운 데이터를 로드하고 quantity컬럼 값이 3인 데이터를 추출하여 첫 5행을 출력하세요.\n",
    "\n"
   ]
  },
  {
   "cell_type": "code",
   "execution_count": null,
   "metadata": {
    "id": "-Db0Ae88KXJ0"
   },
   "outputs": [],
   "source": [
    "# DataUrl = 'https://raw.githubusercontent.com/Datamanim/pandas/main/chipo.csv'\n"
   ]
  },
  {
   "cell_type": "markdown",
   "metadata": {
    "id": "vXsmliQQKXQI"
   },
   "source": [
    "14. quantity컬럼 값이 3인 데이터를 추출하여 index를 0부터 정렬하고 첫 5행을 출력하세요."
   ]
  },
  {
   "cell_type": "code",
   "execution_count": null,
   "metadata": {
    "id": "3gSZYXIAKXW3"
   },
   "outputs": [],
   "source": []
  },
  {
   "cell_type": "markdown",
   "metadata": {
    "id": "6is6KPEZKXc6"
   },
   "source": [
    "15. quantity , item_price 두개의 컬럼으로 구성된 새로운 데이터 프레임을 정의하세요."
   ]
  },
  {
   "cell_type": "code",
   "execution_count": null,
   "metadata": {
    "id": "jHHJkk7IKXia"
   },
   "outputs": [],
   "source": []
  },
  {
   "cell_type": "markdown",
   "metadata": {
    "id": "1G7wMSFaKXp0"
   },
   "source": [
    "16. item_price 컬럼의 달러표시 문자를 제거하고 float 타입으로 저장하여 new_price 컬럼에 저장하세요."
   ]
  },
  {
   "cell_type": "code",
   "execution_count": null,
   "metadata": {
    "id": "WynBkpz3KXwG"
   },
   "outputs": [],
   "source": []
  },
  {
   "cell_type": "markdown",
   "metadata": {
    "id": "3fMLMRDXKX3K"
   },
   "source": [
    "17. new_price 컬럼이 5이하의 값을 가지는 데이터프레임을 추출하고, 전체 갯수를 구하세요."
   ]
  },
  {
   "cell_type": "code",
   "execution_count": null,
   "metadata": {
    "id": "Du8dWe1hKX9d"
   },
   "outputs": [],
   "source": []
  },
  {
   "cell_type": "markdown",
   "metadata": {
    "id": "9RGGLzRgKYEd"
   },
   "source": [
    "18. item_name명이 Chicken Salad Bowl 인 데이터 프레임을 추출하라고 index 값을 초기화 하세요.\n",
    "\n"
   ]
  },
  {
   "cell_type": "code",
   "execution_count": null,
   "metadata": {
    "id": "vRhnF4lqKYK7"
   },
   "outputs": [],
   "source": []
  },
  {
   "cell_type": "markdown",
   "metadata": {
    "id": "JIGinExcKYR-"
   },
   "source": [
    "19. new_price값이 9 이하이고 item_name 값이 Chicken Salad Bowl 인 데이터 프레임을 추출하세요."
   ]
  },
  {
   "cell_type": "code",
   "execution_count": null,
   "metadata": {
    "id": "ADMhPbW-KYX9"
   },
   "outputs": [],
   "source": []
  },
  {
   "cell_type": "markdown",
   "metadata": {
    "id": "_AybHtHXKYef"
   },
   "source": [
    "20. df의 new_price 컬럼 값에 따라 오름차순으로 정리하고 index를 초기화 하세요."
   ]
  },
  {
   "cell_type": "code",
   "execution_count": null,
   "metadata": {
    "id": "amWlfSzaKYlM"
   },
   "outputs": [],
   "source": []
  },
  {
   "cell_type": "markdown",
   "metadata": {
    "id": "jFiotJa7MBEh"
   },
   "source": [
    "21. df의 item_name 컬럼 값중 Chips 포함하는 경우의 데이터를 출력하세요."
   ]
  },
  {
   "cell_type": "code",
   "execution_count": null,
   "metadata": {
    "id": "laF4bn-0MBMW"
   },
   "outputs": [],
   "source": []
  },
  {
   "cell_type": "markdown",
   "metadata": {
    "id": "uMwx51zeMBS6"
   },
   "source": [
    "22. df의 item_name 컬럼 값이 Steak Salad 또는 Bowl 인 데이터를 인덱싱하세요."
   ]
  },
  {
   "cell_type": "code",
   "execution_count": null,
   "metadata": {
    "id": "GN9vGbbKMBYx"
   },
   "outputs": [],
   "source": []
  },
  {
   "cell_type": "markdown",
   "metadata": {
    "id": "7qhoADcAMBe1"
   },
   "source": [
    "23. df의 데이터 중 new_price값이 new_price값의 평균값 이상을 가지는 데이터들을 인덱싱하세요."
   ]
  },
  {
   "cell_type": "code",
   "execution_count": null,
   "metadata": {
    "id": "gmb8PTH_MBkQ"
   },
   "outputs": [],
   "source": []
  },
  {
   "cell_type": "markdown",
   "metadata": {
    "id": "lVowWKesMBpp"
   },
   "source": [
    "24. df의 데이터 중 item_name의 값이 Izze 데이터를 Fizzy Lizzy로 수정하세요."
   ]
  },
  {
   "cell_type": "code",
   "execution_count": null,
   "metadata": {
    "id": "ahtG5ygiMBvB"
   },
   "outputs": [],
   "source": []
  },
  {
   "cell_type": "markdown",
   "metadata": {
    "id": "0xAfkuTmMB0k"
   },
   "source": [
    "25. df의 데이터 중 choice_description 값이 NaN 인 데이터의 갯수를 구하세요."
   ]
  },
  {
   "cell_type": "code",
   "execution_count": null,
   "metadata": {
    "id": "l2Qwvx8eMB5i"
   },
   "outputs": [],
   "source": []
  },
  {
   "cell_type": "markdown",
   "metadata": {
    "id": "t0QejVpvMB-r"
   },
   "source": [
    "26. df의 데이터 중 choice_description 값이 NaN 인 데이터를 NoData 값으로 대체하세요.(loc 이용)"
   ]
  },
  {
   "cell_type": "code",
   "execution_count": null,
   "metadata": {
    "id": "VsOwTzZwMCDi"
   },
   "outputs": [],
   "source": []
  },
  {
   "cell_type": "markdown",
   "metadata": {
    "id": "f1L8IQsKMk8x"
   },
   "source": [
    "27. 새로운 데이터를 로드하세요.   \n",
    "데이터의 각 host_name의 빈도수를 구하고 host_name 컬럼으로 정렬하여 상위 5개를 출력하세요."
   ]
  },
  {
   "cell_type": "code",
   "execution_count": null,
   "metadata": {
    "id": "4mm5wtFWMlD9"
   },
   "outputs": [],
   "source": [
    "# DataUrl = 'https://raw.githubusercontent.com/Datamanim/pandas/main/AB_NYC_2019.csv'"
   ]
  },
  {
   "cell_type": "markdown",
   "metadata": {
    "id": "6TXVbyoWMlJ2"
   },
   "source": [
    "28. neighbourhood 값과 neighbourhood_group 값에 따른 price 의 평균을 구하세요."
   ]
  },
  {
   "cell_type": "code",
   "execution_count": null,
   "metadata": {
    "id": "oWg2hSsAMlP0"
   },
   "outputs": [],
   "source": []
  },
  {
   "cell_type": "markdown",
   "metadata": {
    "id": "OCCSDaz9MlWQ"
   },
   "source": [
    "29. 데이터를 로드하고 데이터 행과 열의 갯수를 출력하세요."
   ]
  },
  {
   "cell_type": "code",
   "execution_count": null,
   "metadata": {
    "id": "55m8GCWLMlcS"
   },
   "outputs": [],
   "source": [
    "# DataUrl = 'https://raw.githubusercontent.com/Datamanim/pandas/main/BankChurnersUp.csv'"
   ]
  },
  {
   "cell_type": "markdown",
   "metadata": {
    "id": "oDqfwn_fMlh-"
   },
   "source": [
    "30. Income_Category의 카테고리를 map 함수를 이용하여 다음과 같이 변경하여 newIncome 컬럼에 매핑하세요.\n",
    "- Unknown : N   \n",
    "- Less than $40K : a\n",
    "\n",
    "- $40K - $60K : b  \n",
    "\n",
    "- $60K - $80K : c    <br />  \n",
    "- $80K - $120K : d   <br />  \n",
    "- $120K + : e   <br />  "
   ]
  },
  {
   "cell_type": "code",
   "execution_count": null,
   "metadata": {
    "id": "q-N32xlcMloN"
   },
   "outputs": [],
   "source": []
  },
  {
   "cell_type": "markdown",
   "metadata": {
    "id": "HOwzy-F5Mltp"
   },
   "source": [
    "31. Customer_Age의 값을 이용하여 나이 구간을 AgeState 컬럼으로 정의하세요.  \n",
    "   - 0~9 : 0\n",
    "   - 10~19 :10\n",
    "   - 20~29 :20\n",
    "   - …    \n",
    "   \n",
    "   각 구간의 빈도수를 출력하라"
   ]
  },
  {
   "cell_type": "code",
   "execution_count": null,
   "metadata": {
    "id": "OgmQvm19Ml0B"
   },
   "outputs": [],
   "source": []
  },
  {
   "cell_type": "markdown",
   "metadata": {
    "id": "SyIgvBG6Ml6H"
   },
   "source": [
    "32. 새로운 데이터를 로드하고 각 열의 데이터 타입을 파악하세요."
   ]
  },
  {
   "cell_type": "code",
   "execution_count": null,
   "metadata": {
    "id": "IjFzEUouMmAk"
   },
   "outputs": [],
   "source": [
    "# DataUrl = 'https://raw.githubusercontent.com/Datamanim/pandas/main/timeTest.csv'"
   ]
  },
  {
   "cell_type": "markdown",
   "metadata": {
    "id": "rDvi7iu_MmGF"
   },
   "source": [
    "33. Yr_Mo_Dy을 판다스에서 인식할 수 있는 datetime64타입으로 변경하세요."
   ]
  },
  {
   "cell_type": "code",
   "execution_count": null,
   "metadata": {
    "id": "HHIdzloKMmLY"
   },
   "outputs": [],
   "source": []
  },
  {
   "cell_type": "markdown",
   "metadata": {
    "id": "BoiJ7TeJtTii"
   },
   "source": [
    "34. weekday컬럼을 만들고 요일별로 매핑하세요. ( 월요일: 0 ~ 일요일 :6)"
   ]
  },
  {
   "cell_type": "code",
   "execution_count": null,
   "metadata": {
    "id": "KfwnabrAtTmI"
   },
   "outputs": [],
   "source": []
  },
  {
   "cell_type": "markdown",
   "metadata": {
    "id": "X5YaH7JWMmQ6"
   },
   "source": [
    "35. weekday컬럼을 기준으로 주말이면 1 평일이면 0의 값을 가지는 WeekCheck 컬럼을 만드세요."
   ]
  },
  {
   "cell_type": "code",
   "execution_count": null,
   "metadata": {
    "id": "SNhVjqIbMmWk"
   },
   "outputs": [],
   "source": []
  }
 ],
 "metadata": {
  "colab": {
   "provenance": []
  },
  "kernelspec": {
   "display_name": "base",
   "language": "python",
   "name": "python3"
  },
  "language_info": {
   "codemirror_mode": {
    "name": "ipython",
    "version": 3
   },
   "file_extension": ".py",
   "mimetype": "text/x-python",
   "name": "python",
   "nbconvert_exporter": "python",
   "pygments_lexer": "ipython3",
   "version": "3.9.7"
  }
 },
 "nbformat": 4,
 "nbformat_minor": 0
}
