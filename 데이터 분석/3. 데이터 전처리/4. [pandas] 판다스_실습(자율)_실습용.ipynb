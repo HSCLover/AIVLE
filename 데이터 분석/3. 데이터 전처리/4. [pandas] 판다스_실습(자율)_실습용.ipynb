{
 "cells": [
  {
   "cell_type": "markdown",
   "metadata": {
    "id": "aFZHXmhdKOhm"
   },
   "source": [
    "0. 라이브러리를 불러오세요"
   ]
  },
  {
   "cell_type": "code",
   "execution_count": null,
   "metadata": {
    "id": "dLijbr4UKH6Q"
   },
   "outputs": [],
   "source": []
  },
  {
   "cell_type": "markdown",
   "metadata": {
    "id": "jsX5rxtdKUd_"
   },
   "source": [
    "1. 데이터를 로드하세요. 데이터는 \\t을 기준으로 구분되어있습니다."
   ]
  },
  {
   "cell_type": "code",
   "execution_count": null,
   "metadata": {
    "id": "I8fjz-uVKUlo"
   },
   "outputs": [],
   "source": [
    "# DataUrl = 'https://raw.githubusercontent.com/Datamanim/pandas/main/lol.csv'\n",
    "\n",
    "pd.read_csv('~~~~', sep='\\t')"
   ]
  },
  {
   "cell_type": "markdown",
   "metadata": {
    "id": "Up57D909KUsy"
   },
   "source": [
    "2. 데이터의 상위 5개 행을 출력하세요."
   ]
  },
  {
   "cell_type": "code",
   "execution_count": null,
   "metadata": {
    "id": "H5vOFmG9KUzY"
   },
   "outputs": [],
   "source": []
  },
  {
   "cell_type": "markdown",
   "metadata": {
    "id": "FiTpWPVDKU5p"
   },
   "source": [
    "3. 데이터의 행과 열의 갯수를 파악하세요."
   ]
  },
  {
   "cell_type": "code",
   "execution_count": null,
   "metadata": {
    "id": "zL7yoEgjKVAl"
   },
   "outputs": [],
   "source": []
  },
  {
   "cell_type": "markdown",
   "metadata": {
    "id": "M4FQ-GCcKVH_"
   },
   "source": [
    "4. 전체 컬럼을 출력하세요.\n",
    "\n"
   ]
  },
  {
   "cell_type": "code",
   "execution_count": null,
   "metadata": {
    "id": "aMXHciCTKVOy"
   },
   "outputs": [],
   "source": []
  },
  {
   "cell_type": "markdown",
   "metadata": {
    "id": "dUQKCzQZKVV2"
   },
   "source": [
    "5. 6번째 컬럼명을 출력하세요."
   ]
  },
  {
   "cell_type": "code",
   "execution_count": null,
   "metadata": {
    "id": "po0kHt1lKVdh"
   },
   "outputs": [],
   "source": []
  },
  {
   "cell_type": "markdown",
   "metadata": {
    "id": "XdELpuiZKVjZ"
   },
   "source": [
    "6. 6번째 컬럼의 데이터 타입을 확인하세요."
   ]
  },
  {
   "cell_type": "code",
   "execution_count": null,
   "metadata": {
    "id": "mYGl1syxKVqy"
   },
   "outputs": [],
   "source": []
  },
  {
   "cell_type": "markdown",
   "metadata": {
    "id": "C0fbuUeBKVxK"
   },
   "source": [
    "7. 데이터셋의 인덱스 구성을 파악하세요."
   ]
  },
  {
   "cell_type": "code",
   "execution_count": null,
   "metadata": {
    "id": "1Tn_E6eSKV4o"
   },
   "outputs": [],
   "source": []
  },
  {
   "cell_type": "markdown",
   "metadata": {
    "id": "lLj4gjhcKV-o"
   },
   "source": [
    "8. 6번째 컬럼의 3번째 값을 조회해 보세요."
   ]
  },
  {
   "cell_type": "code",
   "execution_count": null,
   "metadata": {
    "id": "Khg4i5uaKWFk"
   },
   "outputs": [],
   "source": []
  },
  {
   "cell_type": "markdown",
   "metadata": {
    "id": "eTV7V2ctKWM2"
   },
   "source": [
    "9. 새로운 데이터를 로드하고 데이터의 마지막 3개행을 출력하세요."
   ]
  },
  {
   "cell_type": "code",
   "execution_count": null,
   "metadata": {
    "colab": {
     "base_uri": "https://localhost:8080/",
     "height": 930
    },
    "executionInfo": {
     "elapsed": 424,
     "status": "ok",
     "timestamp": 1732606992152,
     "user": {
      "displayName": "MinJeong Shin",
      "userId": "11558066440127198379"
     },
     "user_tz": -540
    },
    "id": "dKcht-FgKWUG",
    "outputId": "ad101f9a-614f-4ad1-8b1a-0f41018d6473"
   },
   "outputs": [
    {
     "data": {
      "application/vnd.google.colaboratory.intrinsic+json": {
       "summary": "{\n  \"name\": \"df\",\n  \"rows\": 9621,\n  \"fields\": [\n    {\n      \"column\": \"id\",\n      \"properties\": {\n        \"dtype\": \"number\",\n        \"std\": 2777,\n        \"min\": 22448,\n        \"max\": 32068,\n        \"num_unique_values\": 9621,\n        \"samples\": [\n          28521,\n          29801,\n          27798\n        ],\n        \"semantic_type\": \"\",\n        \"description\": \"\"\n      }\n    },\n    {\n      \"column\": \"\\uc77c\\uc790\",\n      \"properties\": {\n        \"dtype\": \"object\",\n        \"num_unique_values\": 803,\n        \"samples\": [\n          \"2018-08-01\",\n          \"2018-11-18\",\n          \"2018-07-08\"\n        ],\n        \"semantic_type\": \"\",\n        \"description\": \"\"\n      }\n    },\n    {\n      \"column\": \"\\uc2dc\\ub3c4\\uba85\",\n      \"properties\": {\n        \"dtype\": \"category\",\n        \"num_unique_values\": 2,\n        \"samples\": [\n          \"\\uc11c\\uadc0\\ud3ec\\uc2dc\",\n          \"\\uc81c\\uc8fc\\uc2dc\"\n        ],\n        \"semantic_type\": \"\",\n        \"description\": \"\"\n      }\n    },\n    {\n      \"column\": \"\\uc74d\\uba74\\ub3d9\\uba85\",\n      \"properties\": {\n        \"dtype\": \"category\",\n        \"num_unique_values\": 41,\n        \"samples\": [\n          \"\\uc544\\ub77c\\ub3d9\",\n          \"\\uc0bc\\ub3c41\\ub3d9\"\n        ],\n        \"semantic_type\": \"\",\n        \"description\": \"\"\n      }\n    },\n    {\n      \"column\": \"\\uac70\\uc8fc\\uc778\\uad6c\",\n      \"properties\": {\n        \"dtype\": \"number\",\n        \"std\": 298207.94907572604,\n        \"min\": 9305.552,\n        \"max\": 1364503.9130000002,\n        \"num_unique_values\": 9621,\n        \"samples\": [\n          607365.494,\n          859913.046\n        ],\n        \"semantic_type\": \"\",\n        \"description\": \"\"\n      }\n    },\n    {\n      \"column\": \"\\uadfc\\ubb34\\uc778\\uad6c\",\n      \"properties\": {\n        \"dtype\": \"number\",\n        \"std\": 40381.21477536586,\n        \"min\": 1407.936,\n        \"max\": 263476.965,\n        \"num_unique_values\": 9621,\n        \"samples\": [\n          41625.079,\n          215156.342\n        ],\n        \"semantic_type\": \"\",\n        \"description\": \"\"\n      }\n    },\n    {\n      \"column\": \"\\ubc29\\ubb38\\uc778\\uad6c\",\n      \"properties\": {\n        \"dtype\": \"number\",\n        \"std\": 140706.0903247548,\n        \"min\": 11538.322,\n        \"max\": 723459.209,\n        \"num_unique_values\": 9621,\n        \"samples\": [\n          241852.713,\n          358926.8870000001\n        ],\n        \"semantic_type\": \"\",\n        \"description\": \"\"\n      }\n    },\n    {\n      \"column\": \"\\ucd1d \\uc720\\ub3d9\\uc778\\uad6c\",\n      \"properties\": {\n        \"dtype\": \"number\",\n        \"std\": 460880.2377220844,\n        \"min\": 22251.81,\n        \"max\": 2066483.867,\n        \"num_unique_values\": 9621,\n        \"samples\": [\n          890843.286,\n          1433996.275\n        ],\n        \"semantic_type\": \"\",\n        \"description\": \"\"\n      }\n    },\n    {\n      \"column\": \"\\ud3c9\\uade0 \\uc18d\\ub3c4\",\n      \"properties\": {\n        \"dtype\": \"number\",\n        \"std\": 8.758631111827034,\n        \"min\": 24.333,\n        \"max\": 103.0,\n        \"num_unique_values\": 3345,\n        \"samples\": [\n          38.429,\n          40.791\n        ],\n        \"semantic_type\": \"\",\n        \"description\": \"\"\n      }\n    },\n    {\n      \"column\": \"\\ud3c9\\uade0 \\uc18c\\uc694 \\uc2dc\\uac04\",\n      \"properties\": {\n        \"dtype\": \"number\",\n        \"std\": 12.993786022886228,\n        \"min\": 12.667,\n        \"max\": 172.2,\n        \"num_unique_values\": 4046,\n        \"samples\": [\n          36.632,\n          37.038\n        ],\n        \"semantic_type\": \"\",\n        \"description\": \"\"\n      }\n    },\n    {\n      \"column\": \"\\ud3c9\\uade0 \\uae30\\uc628\",\n      \"properties\": {\n        \"dtype\": \"number\",\n        \"std\": 7.7455150055280475,\n        \"min\": -9.6,\n        \"max\": 30.4,\n        \"num_unique_values\": 1324,\n        \"samples\": [\n          -8.0,\n          18.55\n        ],\n        \"semantic_type\": \"\",\n        \"description\": \"\"\n      }\n    },\n    {\n      \"column\": \"\\uc77c\\uac15\\uc218\\ub7c9\",\n      \"properties\": {\n        \"dtype\": \"number\",\n        \"std\": 27.61725971685997,\n        \"min\": 0.0,\n        \"max\": 587.5,\n        \"num_unique_values\": 506,\n        \"samples\": [\n          21.75,\n          382.0\n        ],\n        \"semantic_type\": \"\",\n        \"description\": \"\"\n      }\n    },\n    {\n      \"column\": \"\\ud3c9\\uade0 \\ud48d\\uc18d\",\n      \"properties\": {\n        \"dtype\": \"number\",\n        \"std\": 1.49853847017951,\n        \"min\": 0.0,\n        \"max\": 13.333,\n        \"num_unique_values\": 439,\n        \"samples\": [\n          4.133,\n          7.233\n        ],\n        \"semantic_type\": \"\",\n        \"description\": \"\"\n      }\n    }\n  ]\n}",
       "type": "dataframe",
       "variable_name": "df"
      },
      "text/html": [
       "\n",
       "  <div id=\"df-5d312772-0dde-44b0-931e-84a67ee24105\" class=\"colab-df-container\">\n",
       "    <div>\n",
       "<style scoped>\n",
       "    .dataframe tbody tr th:only-of-type {\n",
       "        vertical-align: middle;\n",
       "    }\n",
       "\n",
       "    .dataframe tbody tr th {\n",
       "        vertical-align: top;\n",
       "    }\n",
       "\n",
       "    .dataframe thead th {\n",
       "        text-align: right;\n",
       "    }\n",
       "</style>\n",
       "<table border=\"1\" class=\"dataframe\">\n",
       "  <thead>\n",
       "    <tr style=\"text-align: right;\">\n",
       "      <th></th>\n",
       "      <th>id</th>\n",
       "      <th>일자</th>\n",
       "      <th>시도명</th>\n",
       "      <th>읍면동명</th>\n",
       "      <th>거주인구</th>\n",
       "      <th>근무인구</th>\n",
       "      <th>방문인구</th>\n",
       "      <th>총 유동인구</th>\n",
       "      <th>평균 속도</th>\n",
       "      <th>평균 소요 시간</th>\n",
       "      <th>평균 기온</th>\n",
       "      <th>일강수량</th>\n",
       "      <th>평균 풍속</th>\n",
       "    </tr>\n",
       "  </thead>\n",
       "  <tbody>\n",
       "    <tr>\n",
       "      <th>0</th>\n",
       "      <td>22448</td>\n",
       "      <td>2018-01-01</td>\n",
       "      <td>제주시</td>\n",
       "      <td>도두동</td>\n",
       "      <td>32249.987</td>\n",
       "      <td>3418.266</td>\n",
       "      <td>102709.092</td>\n",
       "      <td>138377.345</td>\n",
       "      <td>39.556</td>\n",
       "      <td>29.167</td>\n",
       "      <td>5.0</td>\n",
       "      <td>0.0</td>\n",
       "      <td>2.50</td>\n",
       "    </tr>\n",
       "    <tr>\n",
       "      <th>1</th>\n",
       "      <td>22449</td>\n",
       "      <td>2018-01-01</td>\n",
       "      <td>제주시</td>\n",
       "      <td>외도동</td>\n",
       "      <td>213500.997</td>\n",
       "      <td>10341.172</td>\n",
       "      <td>112692.789</td>\n",
       "      <td>336534.958</td>\n",
       "      <td>32.900</td>\n",
       "      <td>30.900</td>\n",
       "      <td>5.0</td>\n",
       "      <td>0.0</td>\n",
       "      <td>2.50</td>\n",
       "    </tr>\n",
       "    <tr>\n",
       "      <th>2</th>\n",
       "      <td>22450</td>\n",
       "      <td>2018-01-01</td>\n",
       "      <td>제주시</td>\n",
       "      <td>이도2동</td>\n",
       "      <td>1212382.218</td>\n",
       "      <td>96920.834</td>\n",
       "      <td>541194.481</td>\n",
       "      <td>1850497.533</td>\n",
       "      <td>29.538</td>\n",
       "      <td>35.692</td>\n",
       "      <td>2.9</td>\n",
       "      <td>0.0</td>\n",
       "      <td>2.40</td>\n",
       "    </tr>\n",
       "    <tr>\n",
       "      <th>3</th>\n",
       "      <td>22451</td>\n",
       "      <td>2018-01-01</td>\n",
       "      <td>제주시</td>\n",
       "      <td>일도1동</td>\n",
       "      <td>33991.653</td>\n",
       "      <td>6034.253</td>\n",
       "      <td>72155.919</td>\n",
       "      <td>112181.825</td>\n",
       "      <td>30.000</td>\n",
       "      <td>23.500</td>\n",
       "      <td>2.9</td>\n",
       "      <td>0.0</td>\n",
       "      <td>2.40</td>\n",
       "    </tr>\n",
       "    <tr>\n",
       "      <th>4</th>\n",
       "      <td>22452</td>\n",
       "      <td>2018-01-01</td>\n",
       "      <td>서귀포시</td>\n",
       "      <td>대천동</td>\n",
       "      <td>155036.925</td>\n",
       "      <td>9403.969</td>\n",
       "      <td>150882.409</td>\n",
       "      <td>315323.303</td>\n",
       "      <td>41.583</td>\n",
       "      <td>14.375</td>\n",
       "      <td>5.1</td>\n",
       "      <td>0.0</td>\n",
       "      <td>2.30</td>\n",
       "    </tr>\n",
       "    <tr>\n",
       "      <th>...</th>\n",
       "      <td>...</td>\n",
       "      <td>...</td>\n",
       "      <td>...</td>\n",
       "      <td>...</td>\n",
       "      <td>...</td>\n",
       "      <td>...</td>\n",
       "      <td>...</td>\n",
       "      <td>...</td>\n",
       "      <td>...</td>\n",
       "      <td>...</td>\n",
       "      <td>...</td>\n",
       "      <td>...</td>\n",
       "      <td>...</td>\n",
       "    </tr>\n",
       "    <tr>\n",
       "      <th>9616</th>\n",
       "      <td>32064</td>\n",
       "      <td>2020-04-30</td>\n",
       "      <td>서귀포시</td>\n",
       "      <td>표선면</td>\n",
       "      <td>228260.005</td>\n",
       "      <td>16891.732</td>\n",
       "      <td>152832.449</td>\n",
       "      <td>397984.186</td>\n",
       "      <td>44.514</td>\n",
       "      <td>34.054</td>\n",
       "      <td>18.1</td>\n",
       "      <td>0.0</td>\n",
       "      <td>4.70</td>\n",
       "    </tr>\n",
       "    <tr>\n",
       "      <th>9617</th>\n",
       "      <td>32065</td>\n",
       "      <td>2020-04-30</td>\n",
       "      <td>제주시</td>\n",
       "      <td>한림읍</td>\n",
       "      <td>459959.064</td>\n",
       "      <td>26007.122</td>\n",
       "      <td>249700.419</td>\n",
       "      <td>735666.605</td>\n",
       "      <td>48.609</td>\n",
       "      <td>61.377</td>\n",
       "      <td>18.0</td>\n",
       "      <td>0.0</td>\n",
       "      <td>4.35</td>\n",
       "    </tr>\n",
       "    <tr>\n",
       "      <th>9618</th>\n",
       "      <td>32066</td>\n",
       "      <td>2020-04-30</td>\n",
       "      <td>제주시</td>\n",
       "      <td>도두동</td>\n",
       "      <td>28397.481</td>\n",
       "      <td>3144.895</td>\n",
       "      <td>84052.697</td>\n",
       "      <td>115595.073</td>\n",
       "      <td>41.053</td>\n",
       "      <td>29.421</td>\n",
       "      <td>20.3</td>\n",
       "      <td>0.0</td>\n",
       "      <td>3.00</td>\n",
       "    </tr>\n",
       "    <tr>\n",
       "      <th>9619</th>\n",
       "      <td>32067</td>\n",
       "      <td>2020-04-30</td>\n",
       "      <td>서귀포시</td>\n",
       "      <td>안덕면</td>\n",
       "      <td>348037.846</td>\n",
       "      <td>29106.286</td>\n",
       "      <td>251129.660</td>\n",
       "      <td>628273.792</td>\n",
       "      <td>46.595</td>\n",
       "      <td>49.189</td>\n",
       "      <td>17.6</td>\n",
       "      <td>0.0</td>\n",
       "      <td>3.50</td>\n",
       "    </tr>\n",
       "    <tr>\n",
       "      <th>9620</th>\n",
       "      <td>32068</td>\n",
       "      <td>2020-04-30</td>\n",
       "      <td>제주시</td>\n",
       "      <td>연동</td>\n",
       "      <td>1010643.372</td>\n",
       "      <td>65673.477</td>\n",
       "      <td>447622.068</td>\n",
       "      <td>1523938.917</td>\n",
       "      <td>40.863</td>\n",
       "      <td>27.765</td>\n",
       "      <td>14.1</td>\n",
       "      <td>0.0</td>\n",
       "      <td>4.80</td>\n",
       "    </tr>\n",
       "  </tbody>\n",
       "</table>\n",
       "<p>9621 rows × 13 columns</p>\n",
       "</div>\n",
       "    <div class=\"colab-df-buttons\">\n",
       "\n",
       "  <div class=\"colab-df-container\">\n",
       "    <button class=\"colab-df-convert\" onclick=\"convertToInteractive('df-5d312772-0dde-44b0-931e-84a67ee24105')\"\n",
       "            title=\"Convert this dataframe to an interactive table.\"\n",
       "            style=\"display:none;\">\n",
       "\n",
       "  <svg xmlns=\"http://www.w3.org/2000/svg\" height=\"24px\" viewBox=\"0 -960 960 960\">\n",
       "    <path d=\"M120-120v-720h720v720H120Zm60-500h600v-160H180v160Zm220 220h160v-160H400v160Zm0 220h160v-160H400v160ZM180-400h160v-160H180v160Zm440 0h160v-160H620v160ZM180-180h160v-160H180v160Zm440 0h160v-160H620v160Z\"/>\n",
       "  </svg>\n",
       "    </button>\n",
       "\n",
       "  <style>\n",
       "    .colab-df-container {\n",
       "      display:flex;\n",
       "      gap: 12px;\n",
       "    }\n",
       "\n",
       "    .colab-df-convert {\n",
       "      background-color: #E8F0FE;\n",
       "      border: none;\n",
       "      border-radius: 50%;\n",
       "      cursor: pointer;\n",
       "      display: none;\n",
       "      fill: #1967D2;\n",
       "      height: 32px;\n",
       "      padding: 0 0 0 0;\n",
       "      width: 32px;\n",
       "    }\n",
       "\n",
       "    .colab-df-convert:hover {\n",
       "      background-color: #E2EBFA;\n",
       "      box-shadow: 0px 1px 2px rgba(60, 64, 67, 0.3), 0px 1px 3px 1px rgba(60, 64, 67, 0.15);\n",
       "      fill: #174EA6;\n",
       "    }\n",
       "\n",
       "    .colab-df-buttons div {\n",
       "      margin-bottom: 4px;\n",
       "    }\n",
       "\n",
       "    [theme=dark] .colab-df-convert {\n",
       "      background-color: #3B4455;\n",
       "      fill: #D2E3FC;\n",
       "    }\n",
       "\n",
       "    [theme=dark] .colab-df-convert:hover {\n",
       "      background-color: #434B5C;\n",
       "      box-shadow: 0px 1px 3px 1px rgba(0, 0, 0, 0.15);\n",
       "      filter: drop-shadow(0px 1px 2px rgba(0, 0, 0, 0.3));\n",
       "      fill: #FFFFFF;\n",
       "    }\n",
       "  </style>\n",
       "\n",
       "    <script>\n",
       "      const buttonEl =\n",
       "        document.querySelector('#df-5d312772-0dde-44b0-931e-84a67ee24105 button.colab-df-convert');\n",
       "      buttonEl.style.display =\n",
       "        google.colab.kernel.accessAllowed ? 'block' : 'none';\n",
       "\n",
       "      async function convertToInteractive(key) {\n",
       "        const element = document.querySelector('#df-5d312772-0dde-44b0-931e-84a67ee24105');\n",
       "        const dataTable =\n",
       "          await google.colab.kernel.invokeFunction('convertToInteractive',\n",
       "                                                    [key], {});\n",
       "        if (!dataTable) return;\n",
       "\n",
       "        const docLinkHtml = 'Like what you see? Visit the ' +\n",
       "          '<a target=\"_blank\" href=https://colab.research.google.com/notebooks/data_table.ipynb>data table notebook</a>'\n",
       "          + ' to learn more about interactive tables.';\n",
       "        element.innerHTML = '';\n",
       "        dataTable['output_type'] = 'display_data';\n",
       "        await google.colab.output.renderOutput(dataTable, element);\n",
       "        const docLink = document.createElement('div');\n",
       "        docLink.innerHTML = docLinkHtml;\n",
       "        element.appendChild(docLink);\n",
       "      }\n",
       "    </script>\n",
       "  </div>\n",
       "\n",
       "\n",
       "<div id=\"df-d175e7ec-a6fe-4acf-a467-249a98bba9a6\">\n",
       "  <button class=\"colab-df-quickchart\" onclick=\"quickchart('df-d175e7ec-a6fe-4acf-a467-249a98bba9a6')\"\n",
       "            title=\"Suggest charts\"\n",
       "            style=\"display:none;\">\n",
       "\n",
       "<svg xmlns=\"http://www.w3.org/2000/svg\" height=\"24px\"viewBox=\"0 0 24 24\"\n",
       "     width=\"24px\">\n",
       "    <g>\n",
       "        <path d=\"M19 3H5c-1.1 0-2 .9-2 2v14c0 1.1.9 2 2 2h14c1.1 0 2-.9 2-2V5c0-1.1-.9-2-2-2zM9 17H7v-7h2v7zm4 0h-2V7h2v10zm4 0h-2v-4h2v4z\"/>\n",
       "    </g>\n",
       "</svg>\n",
       "  </button>\n",
       "\n",
       "<style>\n",
       "  .colab-df-quickchart {\n",
       "      --bg-color: #E8F0FE;\n",
       "      --fill-color: #1967D2;\n",
       "      --hover-bg-color: #E2EBFA;\n",
       "      --hover-fill-color: #174EA6;\n",
       "      --disabled-fill-color: #AAA;\n",
       "      --disabled-bg-color: #DDD;\n",
       "  }\n",
       "\n",
       "  [theme=dark] .colab-df-quickchart {\n",
       "      --bg-color: #3B4455;\n",
       "      --fill-color: #D2E3FC;\n",
       "      --hover-bg-color: #434B5C;\n",
       "      --hover-fill-color: #FFFFFF;\n",
       "      --disabled-bg-color: #3B4455;\n",
       "      --disabled-fill-color: #666;\n",
       "  }\n",
       "\n",
       "  .colab-df-quickchart {\n",
       "    background-color: var(--bg-color);\n",
       "    border: none;\n",
       "    border-radius: 50%;\n",
       "    cursor: pointer;\n",
       "    display: none;\n",
       "    fill: var(--fill-color);\n",
       "    height: 32px;\n",
       "    padding: 0;\n",
       "    width: 32px;\n",
       "  }\n",
       "\n",
       "  .colab-df-quickchart:hover {\n",
       "    background-color: var(--hover-bg-color);\n",
       "    box-shadow: 0 1px 2px rgba(60, 64, 67, 0.3), 0 1px 3px 1px rgba(60, 64, 67, 0.15);\n",
       "    fill: var(--button-hover-fill-color);\n",
       "  }\n",
       "\n",
       "  .colab-df-quickchart-complete:disabled,\n",
       "  .colab-df-quickchart-complete:disabled:hover {\n",
       "    background-color: var(--disabled-bg-color);\n",
       "    fill: var(--disabled-fill-color);\n",
       "    box-shadow: none;\n",
       "  }\n",
       "\n",
       "  .colab-df-spinner {\n",
       "    border: 2px solid var(--fill-color);\n",
       "    border-color: transparent;\n",
       "    border-bottom-color: var(--fill-color);\n",
       "    animation:\n",
       "      spin 1s steps(1) infinite;\n",
       "  }\n",
       "\n",
       "  @keyframes spin {\n",
       "    0% {\n",
       "      border-color: transparent;\n",
       "      border-bottom-color: var(--fill-color);\n",
       "      border-left-color: var(--fill-color);\n",
       "    }\n",
       "    20% {\n",
       "      border-color: transparent;\n",
       "      border-left-color: var(--fill-color);\n",
       "      border-top-color: var(--fill-color);\n",
       "    }\n",
       "    30% {\n",
       "      border-color: transparent;\n",
       "      border-left-color: var(--fill-color);\n",
       "      border-top-color: var(--fill-color);\n",
       "      border-right-color: var(--fill-color);\n",
       "    }\n",
       "    40% {\n",
       "      border-color: transparent;\n",
       "      border-right-color: var(--fill-color);\n",
       "      border-top-color: var(--fill-color);\n",
       "    }\n",
       "    60% {\n",
       "      border-color: transparent;\n",
       "      border-right-color: var(--fill-color);\n",
       "    }\n",
       "    80% {\n",
       "      border-color: transparent;\n",
       "      border-right-color: var(--fill-color);\n",
       "      border-bottom-color: var(--fill-color);\n",
       "    }\n",
       "    90% {\n",
       "      border-color: transparent;\n",
       "      border-bottom-color: var(--fill-color);\n",
       "    }\n",
       "  }\n",
       "</style>\n",
       "\n",
       "  <script>\n",
       "    async function quickchart(key) {\n",
       "      const quickchartButtonEl =\n",
       "        document.querySelector('#' + key + ' button');\n",
       "      quickchartButtonEl.disabled = true;  // To prevent multiple clicks.\n",
       "      quickchartButtonEl.classList.add('colab-df-spinner');\n",
       "      try {\n",
       "        const charts = await google.colab.kernel.invokeFunction(\n",
       "            'suggestCharts', [key], {});\n",
       "      } catch (error) {\n",
       "        console.error('Error during call to suggestCharts:', error);\n",
       "      }\n",
       "      quickchartButtonEl.classList.remove('colab-df-spinner');\n",
       "      quickchartButtonEl.classList.add('colab-df-quickchart-complete');\n",
       "    }\n",
       "    (() => {\n",
       "      let quickchartButtonEl =\n",
       "        document.querySelector('#df-d175e7ec-a6fe-4acf-a467-249a98bba9a6 button');\n",
       "      quickchartButtonEl.style.display =\n",
       "        google.colab.kernel.accessAllowed ? 'block' : 'none';\n",
       "    })();\n",
       "  </script>\n",
       "</div>\n",
       "\n",
       "  <div id=\"id_5ffd72d2-bc83-459e-8deb-f6dfdd2e5a8f\">\n",
       "    <style>\n",
       "      .colab-df-generate {\n",
       "        background-color: #E8F0FE;\n",
       "        border: none;\n",
       "        border-radius: 50%;\n",
       "        cursor: pointer;\n",
       "        display: none;\n",
       "        fill: #1967D2;\n",
       "        height: 32px;\n",
       "        padding: 0 0 0 0;\n",
       "        width: 32px;\n",
       "      }\n",
       "\n",
       "      .colab-df-generate:hover {\n",
       "        background-color: #E2EBFA;\n",
       "        box-shadow: 0px 1px 2px rgba(60, 64, 67, 0.3), 0px 1px 3px 1px rgba(60, 64, 67, 0.15);\n",
       "        fill: #174EA6;\n",
       "      }\n",
       "\n",
       "      [theme=dark] .colab-df-generate {\n",
       "        background-color: #3B4455;\n",
       "        fill: #D2E3FC;\n",
       "      }\n",
       "\n",
       "      [theme=dark] .colab-df-generate:hover {\n",
       "        background-color: #434B5C;\n",
       "        box-shadow: 0px 1px 3px 1px rgba(0, 0, 0, 0.15);\n",
       "        filter: drop-shadow(0px 1px 2px rgba(0, 0, 0, 0.3));\n",
       "        fill: #FFFFFF;\n",
       "      }\n",
       "    </style>\n",
       "    <button class=\"colab-df-generate\" onclick=\"generateWithVariable('df')\"\n",
       "            title=\"Generate code using this dataframe.\"\n",
       "            style=\"display:none;\">\n",
       "\n",
       "  <svg xmlns=\"http://www.w3.org/2000/svg\" height=\"24px\"viewBox=\"0 0 24 24\"\n",
       "       width=\"24px\">\n",
       "    <path d=\"M7,19H8.4L18.45,9,17,7.55,7,17.6ZM5,21V16.75L18.45,3.32a2,2,0,0,1,2.83,0l1.4,1.43a1.91,1.91,0,0,1,.58,1.4,1.91,1.91,0,0,1-.58,1.4L9.25,21ZM18.45,9,17,7.55Zm-12,3A5.31,5.31,0,0,0,4.9,8.1,5.31,5.31,0,0,0,1,6.5,5.31,5.31,0,0,0,4.9,4.9,5.31,5.31,0,0,0,6.5,1,5.31,5.31,0,0,0,8.1,4.9,5.31,5.31,0,0,0,12,6.5,5.46,5.46,0,0,0,6.5,12Z\"/>\n",
       "  </svg>\n",
       "    </button>\n",
       "    <script>\n",
       "      (() => {\n",
       "      const buttonEl =\n",
       "        document.querySelector('#id_5ffd72d2-bc83-459e-8deb-f6dfdd2e5a8f button.colab-df-generate');\n",
       "      buttonEl.style.display =\n",
       "        google.colab.kernel.accessAllowed ? 'block' : 'none';\n",
       "\n",
       "      buttonEl.onclick = () => {\n",
       "        google.colab.notebook.generateWithVariable('df');\n",
       "      }\n",
       "      })();\n",
       "    </script>\n",
       "  </div>\n",
       "\n",
       "    </div>\n",
       "  </div>\n"
      ],
      "text/plain": [
       "         id          일자   시도명  읍면동명         거주인구       근무인구        방문인구  \\\n",
       "0     22448  2018-01-01   제주시   도두동    32249.987   3418.266  102709.092   \n",
       "1     22449  2018-01-01   제주시   외도동   213500.997  10341.172  112692.789   \n",
       "2     22450  2018-01-01   제주시  이도2동  1212382.218  96920.834  541194.481   \n",
       "3     22451  2018-01-01   제주시  일도1동    33991.653   6034.253   72155.919   \n",
       "4     22452  2018-01-01  서귀포시   대천동   155036.925   9403.969  150882.409   \n",
       "...     ...         ...   ...   ...          ...        ...         ...   \n",
       "9616  32064  2020-04-30  서귀포시   표선면   228260.005  16891.732  152832.449   \n",
       "9617  32065  2020-04-30   제주시   한림읍   459959.064  26007.122  249700.419   \n",
       "9618  32066  2020-04-30   제주시   도두동    28397.481   3144.895   84052.697   \n",
       "9619  32067  2020-04-30  서귀포시   안덕면   348037.846  29106.286  251129.660   \n",
       "9620  32068  2020-04-30   제주시    연동  1010643.372  65673.477  447622.068   \n",
       "\n",
       "           총 유동인구   평균 속도  평균 소요 시간  평균 기온  일강수량  평균 풍속  \n",
       "0      138377.345  39.556    29.167    5.0   0.0   2.50  \n",
       "1      336534.958  32.900    30.900    5.0   0.0   2.50  \n",
       "2     1850497.533  29.538    35.692    2.9   0.0   2.40  \n",
       "3      112181.825  30.000    23.500    2.9   0.0   2.40  \n",
       "4      315323.303  41.583    14.375    5.1   0.0   2.30  \n",
       "...           ...     ...       ...    ...   ...    ...  \n",
       "9616   397984.186  44.514    34.054   18.1   0.0   4.70  \n",
       "9617   735666.605  48.609    61.377   18.0   0.0   4.35  \n",
       "9618   115595.073  41.053    29.421   20.3   0.0   3.00  \n",
       "9619   628273.792  46.595    49.189   17.6   0.0   3.50  \n",
       "9620  1523938.917  40.863    27.765   14.1   0.0   4.80  \n",
       "\n",
       "[9621 rows x 13 columns]"
      ]
     },
     "execution_count": 5,
     "metadata": {},
     "output_type": "execute_result"
    }
   ],
   "source": [
    "# DataUrl = 'https://raw.githubusercontent.com/Datamanim/pandas/main/Jeju.csv'\n",
    "\n",
    "import pandas as pd\n",
    "\n",
    "df = pd.read_csv('https://raw.githubusercontent.com/Datamanim/pandas/main/Jeju.csv', encoding='cp949')\n",
    "df"
   ]
  },
  {
   "cell_type": "markdown",
   "metadata": {
    "id": "IwH9zPEzKWav"
   },
   "source": [
    "10. 각 수치형 변수의 분포(사분위, 평균, 표준편차, 최대 , 최소)를 확인하세요."
   ]
  },
  {
   "cell_type": "code",
   "execution_count": null,
   "metadata": {
    "id": "7PU4X8rdKWiP"
   },
   "outputs": [],
   "source": []
  },
  {
   "cell_type": "markdown",
   "metadata": {
    "id": "FHagKJD9KWot"
   },
   "source": [
    "11. 거주인구 컬럼의 값들을 출력하세요.\n",
    "\n"
   ]
  },
  {
   "cell_type": "code",
   "execution_count": null,
   "metadata": {
    "id": "XxEF3N0LKWvc"
   },
   "outputs": [],
   "source": []
  },
  {
   "cell_type": "markdown",
   "metadata": {
    "id": "7wQKiBFVKW1p"
   },
   "source": [
    "12. 읍면동명 컬럼의 유일값 갯수를 출력하세요."
   ]
  },
  {
   "cell_type": "code",
   "execution_count": null,
   "metadata": {
    "id": "7Hci592vKW8T"
   },
   "outputs": [],
   "source": []
  },
  {
   "cell_type": "markdown",
   "metadata": {
    "id": "9OGKolFuKXCi"
   },
   "source": [
    "13. 새로운 데이터를 로드하고 quantity컬럼 값이 3인 데이터를 추출하여 첫 5행을 출력하세요.\n",
    "\n"
   ]
  },
  {
   "cell_type": "code",
   "execution_count": null,
   "metadata": {
    "id": "-Db0Ae88KXJ0"
   },
   "outputs": [],
   "source": [
    "# DataUrl = 'https://raw.githubusercontent.com/Datamanim/pandas/main/chipo.csv'\n"
   ]
  },
  {
   "cell_type": "markdown",
   "metadata": {
    "id": "vXsmliQQKXQI"
   },
   "source": [
    "14. quantity컬럼 값이 3인 데이터를 추출하여 index를 0부터 정렬하고 첫 5행을 출력하세요."
   ]
  },
  {
   "cell_type": "code",
   "execution_count": null,
   "metadata": {
    "id": "3gSZYXIAKXW3"
   },
   "outputs": [],
   "source": []
  },
  {
   "cell_type": "markdown",
   "metadata": {
    "id": "6is6KPEZKXc6"
   },
   "source": [
    "15. quantity , item_price 두개의 컬럼으로 구성된 새로운 데이터 프레임을 정의하세요."
   ]
  },
  {
   "cell_type": "code",
   "execution_count": null,
   "metadata": {
    "id": "jHHJkk7IKXia"
   },
   "outputs": [],
   "source": []
  },
  {
   "cell_type": "markdown",
   "metadata": {
    "id": "1G7wMSFaKXp0"
   },
   "source": [
    "16. item_price 컬럼의 달러표시 문자를 제거하고 float 타입으로 저장하여 new_price 컬럼에 저장하세요."
   ]
  },
  {
   "cell_type": "code",
   "execution_count": null,
   "metadata": {
    "id": "WynBkpz3KXwG"
   },
   "outputs": [],
   "source": []
  },
  {
   "cell_type": "markdown",
   "metadata": {
    "id": "3fMLMRDXKX3K"
   },
   "source": [
    "17. new_price 컬럼이 5이하의 값을 가지는 데이터프레임을 추출하고, 전체 갯수를 구하세요."
   ]
  },
  {
   "cell_type": "code",
   "execution_count": null,
   "metadata": {
    "id": "Du8dWe1hKX9d"
   },
   "outputs": [],
   "source": []
  },
  {
   "cell_type": "markdown",
   "metadata": {
    "id": "9RGGLzRgKYEd"
   },
   "source": [
    "18. item_name명이 Chicken Salad Bowl 인 데이터 프레임을 추출하라고 index 값을 초기화 하세요.\n",
    "\n"
   ]
  },
  {
   "cell_type": "code",
   "execution_count": null,
   "metadata": {
    "id": "vRhnF4lqKYK7"
   },
   "outputs": [],
   "source": []
  },
  {
   "cell_type": "markdown",
   "metadata": {
    "id": "JIGinExcKYR-"
   },
   "source": [
    "19. new_price값이 9 이하이고 item_name 값이 Chicken Salad Bowl 인 데이터 프레임을 추출하세요."
   ]
  },
  {
   "cell_type": "code",
   "execution_count": null,
   "metadata": {
    "id": "ADMhPbW-KYX9"
   },
   "outputs": [],
   "source": []
  },
  {
   "cell_type": "markdown",
   "metadata": {
    "id": "_AybHtHXKYef"
   },
   "source": [
    "20. df의 new_price 컬럼 값에 따라 오름차순으로 정리하고 index를 초기화 하세요."
   ]
  },
  {
   "cell_type": "code",
   "execution_count": null,
   "metadata": {
    "id": "amWlfSzaKYlM"
   },
   "outputs": [],
   "source": []
  },
  {
   "cell_type": "markdown",
   "metadata": {
    "id": "jFiotJa7MBEh"
   },
   "source": [
    "21. df의 item_name 컬럼 값중 Chips 포함하는 경우의 데이터를 출력하세요."
   ]
  },
  {
   "cell_type": "code",
   "execution_count": null,
   "metadata": {
    "id": "laF4bn-0MBMW"
   },
   "outputs": [],
   "source": []
  },
  {
   "cell_type": "markdown",
   "metadata": {
    "id": "uMwx51zeMBS6"
   },
   "source": [
    "22. df의 item_name 컬럼 값이 Steak Salad 또는 Bowl 인 데이터를 인덱싱하세요."
   ]
  },
  {
   "cell_type": "code",
   "execution_count": null,
   "metadata": {
    "id": "GN9vGbbKMBYx"
   },
   "outputs": [],
   "source": []
  },
  {
   "cell_type": "markdown",
   "metadata": {
    "id": "7qhoADcAMBe1"
   },
   "source": [
    "23. df의 데이터 중 new_price값이 new_price값의 평균값 이상을 가지는 데이터들을 인덱싱하세요."
   ]
  },
  {
   "cell_type": "code",
   "execution_count": null,
   "metadata": {
    "id": "gmb8PTH_MBkQ"
   },
   "outputs": [],
   "source": []
  },
  {
   "cell_type": "markdown",
   "metadata": {
    "id": "lVowWKesMBpp"
   },
   "source": [
    "24. df의 데이터 중 item_name의 값이 Izze 데이터를 Fizzy Lizzy로 수정하세요."
   ]
  },
  {
   "cell_type": "code",
   "execution_count": null,
   "metadata": {
    "id": "ahtG5ygiMBvB"
   },
   "outputs": [],
   "source": []
  },
  {
   "cell_type": "markdown",
   "metadata": {
    "id": "0xAfkuTmMB0k"
   },
   "source": [
    "25. df의 데이터 중 choice_description 값이 NaN 인 데이터의 갯수를 구하세요."
   ]
  },
  {
   "cell_type": "code",
   "execution_count": null,
   "metadata": {
    "id": "l2Qwvx8eMB5i"
   },
   "outputs": [],
   "source": []
  },
  {
   "cell_type": "markdown",
   "metadata": {
    "id": "t0QejVpvMB-r"
   },
   "source": [
    "26. df의 데이터 중 choice_description 값이 NaN 인 데이터를 NoData 값으로 대체하세요.(loc 이용)"
   ]
  },
  {
   "cell_type": "code",
   "execution_count": null,
   "metadata": {
    "id": "VsOwTzZwMCDi"
   },
   "outputs": [],
   "source": []
  },
  {
   "cell_type": "markdown",
   "metadata": {
    "id": "f1L8IQsKMk8x"
   },
   "source": [
    "27. 새로운 데이터를 로드하세요.   \n",
    "데이터의 각 host_name의 빈도수를 구하고 host_name 컬럼으로 정렬하여 상위 5개를 출력하세요."
   ]
  },
  {
   "cell_type": "code",
   "execution_count": null,
   "metadata": {
    "id": "4mm5wtFWMlD9"
   },
   "outputs": [],
   "source": [
    "# DataUrl = 'https://raw.githubusercontent.com/Datamanim/pandas/main/AB_NYC_2019.csv'"
   ]
  },
  {
   "cell_type": "markdown",
   "metadata": {
    "id": "6TXVbyoWMlJ2"
   },
   "source": [
    "28. neighbourhood 값과 neighbourhood_group 값에 따른 price 의 평균을 구하세요."
   ]
  },
  {
   "cell_type": "code",
   "execution_count": null,
   "metadata": {
    "id": "oWg2hSsAMlP0"
   },
   "outputs": [],
   "source": []
  },
  {
   "cell_type": "markdown",
   "metadata": {
    "id": "OCCSDaz9MlWQ"
   },
   "source": [
    "29. 데이터를 로드하고 데이터 행과 열의 갯수를 출력하세요."
   ]
  },
  {
   "cell_type": "code",
   "execution_count": null,
   "metadata": {
    "id": "55m8GCWLMlcS"
   },
   "outputs": [],
   "source": [
    "# DataUrl = 'https://raw.githubusercontent.com/Datamanim/pandas/main/BankChurnersUp.csv'"
   ]
  },
  {
   "cell_type": "markdown",
   "metadata": {
    "id": "oDqfwn_fMlh-"
   },
   "source": [
    "30. Income_Category의 카테고리를 map 함수를 이용하여 다음과 같이 변경하여 newIncome 컬럼에 매핑하세요.\n",
    "- Unknown : N   \n",
    "- Less than $40K : a\n",
    "\n",
    "- $40K - $60K : b  \n",
    "\n",
    "- $60K - $80K : c    <br />  \n",
    "- $80K - $120K : d   <br />  \n",
    "- $120K + : e   <br />  "
   ]
  },
  {
   "cell_type": "code",
   "execution_count": null,
   "metadata": {
    "id": "q-N32xlcMloN"
   },
   "outputs": [],
   "source": []
  },
  {
   "cell_type": "markdown",
   "metadata": {
    "id": "HOwzy-F5Mltp"
   },
   "source": [
    "31. Customer_Age의 값을 이용하여 나이 구간을 AgeState 컬럼으로 정의하세요.  \n",
    "   - 0~9 : 0\n",
    "   - 10~19 :10\n",
    "   - 20~29 :20\n",
    "   - …    \n",
    "   \n",
    "   각 구간의 빈도수를 출력하라"
   ]
  },
  {
   "cell_type": "code",
   "execution_count": null,
   "metadata": {
    "id": "OgmQvm19Ml0B"
   },
   "outputs": [],
   "source": []
  },
  {
   "cell_type": "markdown",
   "metadata": {
    "id": "SyIgvBG6Ml6H"
   },
   "source": [
    "32. 새로운 데이터를 로드하고 각 열의 데이터 타입을 파악하세요."
   ]
  },
  {
   "cell_type": "code",
   "execution_count": null,
   "metadata": {
    "id": "IjFzEUouMmAk"
   },
   "outputs": [],
   "source": [
    "# DataUrl = 'https://raw.githubusercontent.com/Datamanim/pandas/main/timeTest.csv'"
   ]
  },
  {
   "cell_type": "markdown",
   "metadata": {
    "id": "rDvi7iu_MmGF"
   },
   "source": [
    "33. Yr_Mo_Dy을 판다스에서 인식할 수 있는 datetime64타입으로 변경하세요."
   ]
  },
  {
   "cell_type": "code",
   "execution_count": null,
   "metadata": {
    "id": "HHIdzloKMmLY"
   },
   "outputs": [],
   "source": []
  },
  {
   "cell_type": "markdown",
   "metadata": {
    "id": "BoiJ7TeJtTii"
   },
   "source": [
    "34. weekday컬럼을 만들고 요일별로 매핑하세요. ( 월요일: 0 ~ 일요일 :6)"
   ]
  },
  {
   "cell_type": "code",
   "execution_count": null,
   "metadata": {
    "id": "KfwnabrAtTmI"
   },
   "outputs": [],
   "source": []
  },
  {
   "cell_type": "markdown",
   "metadata": {
    "id": "X5YaH7JWMmQ6"
   },
   "source": [
    "35. weekday컬럼을 기준으로 주말이면 1 평일이면 0의 값을 가지는 WeekCheck 컬럼을 만드세요."
   ]
  },
  {
   "cell_type": "code",
   "execution_count": null,
   "metadata": {
    "id": "SNhVjqIbMmWk"
   },
   "outputs": [],
   "source": []
  }
 ],
 "metadata": {
  "colab": {
   "provenance": []
  },
  "kernelspec": {
   "display_name": "Python 3",
   "name": "python3"
  },
  "language_info": {
   "name": "python"
  }
 },
 "nbformat": 4,
 "nbformat_minor": 0
}
