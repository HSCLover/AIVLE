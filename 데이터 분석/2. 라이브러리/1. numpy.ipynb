{
 "cells": [
  {
   "cell_type": "markdown",
   "metadata": {
    "id": "8UET_MPEvLRr"
   },
   "source": [
    "# Numpy (넘파이)\n",
    "### 1. Numpy 란?\n",
    "\n",
    "\n",
    "Numpy는 \"Numerical Python\"의 줄임말로, Python에서 과학 계산을 위한 핵심 라이브러리입니다. Numpy는 파이썬의 기본 데이터 구조를 확장하여, 다차원 배열을 효과적으로 처리할 수 있는 기능을 제공합니다.\n",
    "<br />\n",
    "\n",
    "Numpy의 가장 큰 특징은 다차원 배열 객체인 ndarray를 제공한다는 점입니다. 이 배열은 동일한 유형의 원소들로 구성되며, 파이썬의 리스트에 비해 빠른 연산과 더 적은 메모리를 사용합니다.\n",
    "\n",
    "<img src=\"./sorce/Numpy.png\" height=\"200\" width=\"500\">\n",
    "\n",
    "\n",
    "### 2. Numpy 장점\n",
    "* 효율적인 메모리 사용\n",
    "\n",
    "\n",
    "Numpy 배열은 동일한 데이터 타입을 가진 원소들로 이루어져 있어, 메모리를 효율적으로 활용합니다. 그 결과, 대용량 데이터를 다룰 때에도 높은 성능을 보장합니다.\n",
    "\n",
    "\n",
    "\n",
    "* 빠른 연산 속도\n",
    "\n",
    "\n",
    "Numpy는 내부적으로 C언어로 구현되어 있어 연산이 매우 빠릅니다. 복잡한 수학적 연산도 빠르게 처리할 수 있습니다.\n",
    "\n",
    "\n",
    "\n",
    "* 편리한 수치 연산 기능\n",
    "\n",
    "\n",
    "Numpy는 수학적 연산을 간편하게 수행할 수 있는 다양한 함수를 제공합니다. 이에는 기본적인 산술 연산부터 복잡한 선형대수 연산까지 포함됩니다.\n",
    "\n",
    "\n",
    "<br />\n",
    "\n",
    "\n",
    "Numpy는 데이터 분석, 머신러닝, 이미지 처리, 컴퓨터 그래픽스 등 다양한 분야에서 사용됩니다. 특히 파이썬의 대표적인 데이터 분석 라이브러리인 pandas와 시각화 라이브러리인 matplotlib, 그리고 머신러닝 라이브러리인 scikit-learn, TensorFlow, PyTorch 등은 모두 내부적으로 Numpy를 활용합니다. 따라서 Numpy는 파이썬을 활용한 과학 계산과 데이터 분석의 기본적인 라이브러리라고 할 수 있습니다."
   ]
  },
  {
   "cell_type": "markdown",
   "metadata": {
    "id": "ETt3fp3zvLRz"
   },
   "source": [
    "---\n",
    "numpy를 사용하기 위해서는 import 해야합니다. 아래와 같이 임포트 하면됩니다. 여기서 as는 코드의 가독성을 높이고, 라이브러리의 이름을 짧게 사용하기 위해 사용됩니다. numpy는 보통 np로 짧게 사용합니다."
   ]
  },
  {
   "cell_type": "code",
   "execution_count": 1,
   "metadata": {
    "id": "C3MmL7VkvLR0"
   },
   "outputs": [
    {
     "name": "stdout",
     "output_type": "stream",
     "text": [
      "Requirement already satisfied: numpy in c:\\users\\hanasaki\\appdata\\local\\programs\\python\\python310\\lib\\site-packages (2.2.4)\n",
      "Note: you may need to restart the kernel to use updated packages.\n"
     ]
    }
   ],
   "source": [
    "%pip install numpy\n",
    "\n",
    "import numpy as np"
   ]
  },
  {
   "cell_type": "markdown",
   "metadata": {
    "id": "19n5fkxQvLR5"
   },
   "source": [
    "<br />\n",
    "<br />\n",
    "\n",
    "---\n",
    "## [Numpy 배열 만들기]\n",
    "* NumPy에서 가장 중요한 데이터 구조는 ndarray (N-dimensional array, 다차원 배열)\n",
    "* 이 배열은 Python의 기본 리스트보다 연산 속도가 빠르고, 메모리 사용량이 적음\n",
    "\n",
    "\n",
    "#### (1) numpy.array() : 리스트를 Numpy 배열로 변환\n",
    "<br />\n",
    "numpy.array는 입력 데이터(리스트, 리스트의 튜플, 다른 배열 등)를 ndarray로 변환합니다."
   ]
  },
  {
   "cell_type": "code",
   "execution_count": 2,
   "metadata": {
    "id": "E0H_7aIOvLR5"
   },
   "outputs": [
    {
     "name": "stdout",
     "output_type": "stream",
     "text": [
      "[1 2 3 4 5]\n",
      "<class 'numpy.ndarray'>\n"
     ]
    }
   ],
   "source": [
    "# 여기에 코드를 작성해 보세요!\n",
    "import numpy as np\n",
    "\n",
    "arr = np.array([1, 2, 3, 4, 5])\n",
    "print(arr)\n",
    "print(type(arr))\n"
   ]
  },
  {
   "cell_type": "code",
   "execution_count": 3,
   "metadata": {
    "id": "8RXn05TxvLR6"
   },
   "outputs": [
    {
     "name": "stdout",
     "output_type": "stream",
     "text": [
      "[1 2 3 4 5]\n",
      "<class 'numpy.ndarray'>\n"
     ]
    }
   ],
   "source": [
    "# 모범답안은 아래와 같습니다.\n",
    "\n",
    "import numpy as np\n",
    "\n",
    "# 리스트를 NumPy 배열로 변환\n",
    "arr = np.array([1, 2, 3, 4, 5])\n",
    "print(arr)\n",
    "print(type(arr))  # <class 'numpy.ndarray'>"
   ]
  },
  {
   "cell_type": "markdown",
   "metadata": {
    "id": "9yNlVLUDvLR7"
   },
   "source": [
    "### (2) numpy.zeros()\n",
    "\n",
    "numpy.zeros는 모든 원소가 0인 배열을 생성합니다. 괄호 안의 숫자는 배열의 형태를 나타냅니다.\n",
    "\n",
    "\n",
    "이 함수는 **배열을 초기화할 때 매우 자주 사용**됩니다.  \n",
    "예를 들어 머신러닝에서 가중치 배열을 0으로 초기화하거나,  \n",
    "데이터를 담기 전에 빈 그릇처럼 배열을 미리 만들어두는 데 사용됩니다."
   ]
  },
  {
   "cell_type": "code",
   "execution_count": 4,
   "metadata": {
    "id": "UbNEDi0-vLR8"
   },
   "outputs": [
    {
     "name": "stdout",
     "output_type": "stream",
     "text": [
      "[[0. 0. 0. ... 0. 0. 0.]\n",
      " [0. 0. 0. ... 0. 0. 0.]\n",
      " [0. 0. 0. ... 0. 0. 0.]\n",
      " ...\n",
      " [0. 0. 0. ... 0. 0. 0.]\n",
      " [0. 0. 0. ... 0. 0. 0.]\n",
      " [0. 0. 0. ... 0. 0. 0.]]\n"
     ]
    },
    {
     "data": {
      "text/plain": [
       "dtype('float64')"
      ]
     },
     "execution_count": 4,
     "metadata": {},
     "output_type": "execute_result"
    }
   ],
   "source": [
    "# 여기에 코드를 작성해 보세요!\n",
    "zero_array = np.zeros((100, 100))\n",
    "print(zero_array)\n",
    "zero_array.dtype "
   ]
  },
  {
   "cell_type": "code",
   "execution_count": 5,
   "metadata": {
    "id": "XrmnjdsqvLR9"
   },
   "outputs": [
    {
     "name": "stdout",
     "output_type": "stream",
     "text": [
      "[[0. 0. 0. 0.]\n",
      " [0. 0. 0. 0.]\n",
      " [0. 0. 0. 0.]]\n"
     ]
    },
    {
     "data": {
      "text/plain": [
       "dtype('float64')"
      ]
     },
     "execution_count": 5,
     "metadata": {},
     "output_type": "execute_result"
    }
   ],
   "source": [
    "# 모범답안은 아래와 같습니다.\n",
    "zero_arr = np.zeros((3, 4))  # 3행 4열 배열\n",
    "print(zero_arr)\n",
    "zero_arr.dtype"
   ]
  },
  {
   "cell_type": "markdown",
   "metadata": {
    "id": "weaXVdV3vLR9"
   },
   "source": [
    "### (3) numpy.ones()\n",
    "\n",
    "numpy.ones는 모든 원소가 1인 배열을 생성합니다. (2, 3)은 이 배열이 2행 3열의 2차원 배열임을 의미합니다. 이 함수는 가중치를 초기화 할 때, 연산에서 모든 원소가 1인 배열이 필요할 때 주로 사용됩니다."
   ]
  },
  {
   "cell_type": "code",
   "execution_count": 6,
   "metadata": {
    "id": "-Ci_BPC_vLR-"
   },
   "outputs": [
    {
     "name": "stdout",
     "output_type": "stream",
     "text": [
      "[[1. 1. 1. 1. 1.]\n",
      " [1. 1. 1. 1. 1.]\n",
      " [1. 1. 1. 1. 1.]\n",
      " [1. 1. 1. 1. 1.]\n",
      " [1. 1. 1. 1. 1.]]\n"
     ]
    },
    {
     "data": {
      "text/plain": [
       "dtype('float64')"
      ]
     },
     "execution_count": 6,
     "metadata": {},
     "output_type": "execute_result"
    }
   ],
   "source": [
    "# 여기에 코드를 작성해 보세요!\n",
    "one_array = np.ones((5, 5))\n",
    "print(one_array)\n",
    "one_array.dtype"
   ]
  },
  {
   "cell_type": "code",
   "execution_count": 7,
   "metadata": {
    "id": "d3AbVtb5vLR-"
   },
   "outputs": [
    {
     "name": "stdout",
     "output_type": "stream",
     "text": [
      "[[1. 1. 1.]\n",
      " [1. 1. 1.]]\n"
     ]
    }
   ],
   "source": [
    "# 모범답안은 아래와 같습니다.\n",
    "one_arr = np.ones((2, 3))  # 2행 3열 배열\n",
    "print(one_arr)"
   ]
  },
  {
   "cell_type": "markdown",
   "metadata": {
    "id": "7UdQgkQZvLR_"
   },
   "source": [
    "### (4) numpy.arange()\n",
    "<br />\n",
    "numpy.arange는 특정 구간 안에서 일정 간격의 값으로 구성된 배열을 생성합니다.\n",
    "   start 값에서 시작하여 stop 값까지 step 간격으로 숫자를 생성합니다.  \n",
    "   여기서 stop값은 범위에 포함되지 않습니다.\n",
    "<br />\n",
    "\n",
    "\n",
    "<img src=\"./sorce/arange.png\" height=\"200\" width=\"600\">\n",
    "\n",
    "\n",
    "\n",
    "\n",
    "`numpy.arange()`는 파이썬의 `range()` 함수처럼  \n",
    "**규칙적인 간격의 숫자 배열**을 만들 때 사용합니다.  \n",
    "하지만 리스트가 아닌 **NumPy 배열(ndarray)**로 만들어주기 때문에  \n",
    "연산이 빠르고 다양한 배열 연산에 바로 사용할 수 있습니다.\n",
    "\n",
    "이 함수는 **데이터 인덱스, 샘플 시점, 수열 기반 초기값 생성 등**  \n",
    "다양한 실습에서 반복적으로 사용됩니다.\n"
   ]
  },
  {
   "cell_type": "code",
   "execution_count": 8,
   "metadata": {
    "id": "eN9vS5fYvLR_"
   },
   "outputs": [
    {
     "name": "stdout",
     "output_type": "stream",
     "text": [
      "1\n",
      "3\n",
      "5\n",
      "7\n",
      "9\n"
     ]
    }
   ],
   "source": [
    "# 여기에 코드를 작성해 보세요!\n",
    "for i in range(1, 10, 2):\n",
    "    print(i)"
   ]
  },
  {
   "cell_type": "code",
   "execution_count": 9,
   "metadata": {
    "id": "O8d4bmTuvLR_"
   },
   "outputs": [
    {
     "name": "stdout",
     "output_type": "stream",
     "text": [
      "1\n",
      "3\n",
      "5\n",
      "7\n",
      "9\n"
     ]
    }
   ],
   "source": [
    "# 모범답안은 아래와 같습니다.\n",
    "for i in range(1, 10, 2):\n",
    "  print(i)"
   ]
  },
  {
   "cell_type": "code",
   "execution_count": 10,
   "metadata": {
    "id": "ZuqzLpV-vLSA"
   },
   "outputs": [
    {
     "name": "stdout",
     "output_type": "stream",
     "text": [
      "[1 3 5 7 9]\n"
     ]
    }
   ],
   "source": [
    "# 여기에 코드를 작성해 보세요!\n",
    "range_array = np.arange(1, 10, 2)\n",
    "print(range_array)"
   ]
  },
  {
   "cell_type": "code",
   "execution_count": 11,
   "metadata": {
    "id": "uhjead37vLSA"
   },
   "outputs": [
    {
     "name": "stdout",
     "output_type": "stream",
     "text": [
      "[1 3 5 7 9]\n"
     ]
    }
   ],
   "source": [
    "# 모범답안은 아래와 같습니다.\n",
    "range_arr = np.arange(1, 10, 2)  # 1부터 10까지 2씩 증가하는 배열\n",
    "print(range_arr)"
   ]
  },
  {
   "cell_type": "markdown",
   "metadata": {
    "id": "dYgiKoifvLSA"
   },
   "source": [
    "### (5)numpy.linspace()\n",
    "numpy.linspace는 지정된 범위에서 균일한 간격으로 숫자 생성합니다.\n",
    "\n",
    "`numpy.linspace()`는 시작값과 끝값을 기준으로  \n",
    "**원하는 개수만큼 균등한 간격의 값을 생성**할 때 사용합니다.\n",
    "\n",
    "`arange()`는 간격(step)을 기준으로 숫자를 생성하지만,  \n",
    "`linspace()`는 **“개수”를 기준으로 균등 분할**합니다.  \n",
    "→ 주로 **시각화 축 값 생성, 함수 그래프 그리기, 시뮬레이션 시간 설정** 등에 자주 사용됩니다.\n"
   ]
  },
  {
   "cell_type": "code",
   "execution_count": 12,
   "metadata": {
    "id": "lzXVxnVpvLSB"
   },
   "outputs": [
    {
     "name": "stdout",
     "output_type": "stream",
     "text": [
      "[ 0.   2.5  5.   7.5 10. ]\n"
     ]
    }
   ],
   "source": [
    "# 여기에 코드를 작성해 보세요!\n",
    "linspace_array = np.linspace(0, 10, 5)\n",
    "print(linspace_array)"
   ]
  },
  {
   "cell_type": "code",
   "execution_count": 13,
   "metadata": {
    "id": "uk0UN6S4vLSB"
   },
   "outputs": [
    {
     "name": "stdout",
     "output_type": "stream",
     "text": [
      "[  0.  25.  50.  75. 100.]\n"
     ]
    }
   ],
   "source": [
    "# 모범답안은 아래와 같습니다.\n",
    "linspace_arr = np.linspace(0, 100, 5)  # 0부터 100까지 5개의 숫자를 균등 간격으로 생성\n",
    "print(linspace_arr)"
   ]
  },
  {
   "cell_type": "markdown",
   "metadata": {
    "id": "S-pA6n4-vLSB"
   },
   "source": [
    "### (6)numpy.random()\n",
    "numpy.random는 난수 배열을 생생성합니다.\n",
    "\n",
    "`numpy.random`은 난수(무작위 수)를 생성할 수 있는 도구 모음입니다.  \n",
    "머신러닝, 통계 분석, 시뮬레이션 등 다양한 분야에서  \n",
    "**샘플 데이터를 만들거나, 확률 기반 처리를 할 때 필수적으로 사용됩니다.**\n",
    "\n",
    "예를 들어,\n",
    "- 무작위로 정수를 뽑거나 (`randint`)\n",
    "- 0~1 사이의 실수 배열을 만들거나 (`rand`, `random`)\n",
    "- 정규분포를 따르는 난수를 만들거나 (`normal`)\n",
    "등 다양한 난수 생성이 가능합니다."
   ]
  },
  {
   "cell_type": "code",
   "execution_count": 14,
   "metadata": {
    "id": "Y0UeMakgvLSB"
   },
   "outputs": [
    {
     "name": "stdout",
     "output_type": "stream",
     "text": [
      "[[0.91958989 0.98918815 0.17709814 0.05451729]\n",
      " [0.6317014  0.26675314 0.39368024 0.00344204]\n",
      " [0.74778168 0.5333401  0.17991446 0.43999785]\n",
      " [0.44840075 0.55511376 0.19757982 0.4183088 ]]\n"
     ]
    }
   ],
   "source": [
    "# 여기에 코드를 작성해 보세요!\n",
    "random_array = np.random.rand(4, 4)\n",
    "print(random_array)"
   ]
  },
  {
   "cell_type": "markdown",
   "metadata": {
    "id": "RXtqyJ2JvLSC"
   },
   "source": [
    "<br />\n",
    "<br />\n",
    "\n",
    "---\n",
    "## [Numpy 배열 주요연산]\n",
    "Numpy는 배열에 대한 기본적인 수학 연산을 지원합니다. 이 연산은 배열의 각 요소에 개별적으로 적용되며, 새 배열을 생성하여 결과를 반환합니다."
   ]
  },
  {
   "cell_type": "markdown",
   "metadata": {
    "id": "Fol8abvBvLSC"
   },
   "source": [
    "#### (1) 기본연산(덧셈,뺄셈,곱셈,나눗셈)\n",
    "리스트와 달리 NumPy 배열은 요소별 연산 가능\n",
    "\n",
    "\n",
    "<img src=\"./sorce/numpyarray.png\" height=\"250\" width=\"400\">\n"
   ]
  },
  {
   "cell_type": "code",
   "execution_count": 15,
   "metadata": {
    "id": "OR3e_Ou4vLSC"
   },
   "outputs": [
    {
     "name": "stdout",
     "output_type": "stream",
     "text": [
      "[11 22 33]\n",
      "[ 9 18 27]\n",
      "[10 40 90]\n",
      "[10. 10. 10.]\n"
     ]
    }
   ],
   "source": [
    "# 여기에 코드를 작성해 보세요!\n",
    "array1 = np.array([10,20,30])\n",
    "array2 = np.array([1,2,3])\n",
    "\n",
    "print(array1 + array2)\n",
    "print(array1 - array2)\n",
    "print(array1 * array2)\n",
    "print(array1 / array2)"
   ]
  },
  {
   "cell_type": "code",
   "execution_count": 16,
   "metadata": {
    "id": "2j1aDccgvLSC"
   },
   "outputs": [
    {
     "name": "stdout",
     "output_type": "stream",
     "text": [
      "[11 22 33]\n",
      "[ 9 18 27]\n",
      "[10 40 90]\n",
      "[10. 10. 10.]\n"
     ]
    }
   ],
   "source": [
    "# 모범답안은 아래와 같습니다.\n",
    "arr1 = np.array([10, 20, 30])\n",
    "arr2 = np.array([1, 2, 3])\n",
    "\n",
    "print(arr1 + arr2)  # [11 22 33]  ** + 는 덧셈\n",
    "print(arr1 - arr2)  # [ 9 18 27]  ** - 는 뺄셈\n",
    "print(arr1 * arr2)  # [10 40 90]  ** * 는 곱셈\n",
    "print(arr1 / arr2)  # [10. 10. 10.] ** / 는 나눗셈\n"
   ]
  },
  {
   "cell_type": "markdown",
   "metadata": {
    "id": "yBq71IkVvLSD"
   },
   "source": [
    "#### (2) 배열의 형태(shape)와 크기(size) 확인\n",
    "배열의 행과 열 개수를 shape, 원소 개수를 size로 확인 가능"
   ]
  },
  {
   "cell_type": "code",
   "execution_count": 17,
   "metadata": {
    "id": "M9TXEZFuvLSD"
   },
   "outputs": [
    {
     "name": "stdout",
     "output_type": "stream",
     "text": [
      "(2, 3)\n",
      "6\n"
     ]
    }
   ],
   "source": [
    "# 여기에 코드를 작성해 보세요!\n",
    "array = np.array([[1, 2, 3], [4, 5, 6]])\n",
    "print(array.shape)\n",
    "print(array.size)"
   ]
  },
  {
   "cell_type": "code",
   "execution_count": 18,
   "metadata": {
    "id": "gfiDBrfSvLSE"
   },
   "outputs": [
    {
     "name": "stdout",
     "output_type": "stream",
     "text": [
      "(2, 3)\n",
      "6\n"
     ]
    }
   ],
   "source": [
    "# 모범답안은 아래와 같습니다.\n",
    "arr = np.array([[1, 2, 3], [4, 5, 6]])\n",
    "print(arr.shape)  # (2, 3) → 2행 3열\n",
    "print(arr.size)   # 6 → 총 원소 개수"
   ]
  },
  {
   "cell_type": "markdown",
   "metadata": {
    "id": "Opi6hMmIvLSE"
   },
   "source": [
    "#### (3) 배열 인덱싱 & 슬라이싱\n",
    "Python 리스트처럼 인덱싱과 슬라이싱 가능"
   ]
  },
  {
   "cell_type": "code",
   "execution_count": 19,
   "metadata": {
    "id": "A2elmEYzvLSE"
   },
   "outputs": [
    {
     "name": "stdout",
     "output_type": "stream",
     "text": [
      "9\n",
      "[35 82 17]\n",
      "[35 82 17]\n",
      "[35 82 17]\n"
     ]
    }
   ],
   "source": [
    "# 여기에 코드를 작성해 보세요!\n",
    "array = np.array([12, 65, 8, 9, 35, 82, 17])\n",
    "print(array[3])\n",
    "print(array[4:])\n",
    "print(array[4:7])\n",
    "print(array[-3:])"
   ]
  },
  {
   "cell_type": "code",
   "execution_count": 20,
   "metadata": {
    "id": "VV54ZLyMvLSF"
   },
   "outputs": [
    {
     "name": "stdout",
     "output_type": "stream",
     "text": [
      "30\n",
      "[20 30 40]\n"
     ]
    }
   ],
   "source": [
    "# 모범답안은 아래와 같습니다.\n",
    "arr = np.array([10, 20, 30, 40, 50])\n",
    "\n",
    "print(arr[2])   # 30 (인덱싱)\n",
    "print(arr[1:4]) # [20 30 40] (슬라이싱"
   ]
  },
  {
   "cell_type": "markdown",
   "metadata": {
    "id": "ByBMkYh6vLSF"
   },
   "source": [
    "<br />\n",
    "\n",
    "___\n",
    "## [Numpy 배열의 주요 연산 (Numpy 집계 함수)]\n",
    "\n",
    "\n",
    "Numpy는 데이터 분석을 위해 다양한 집계 함수(Aggregate functions)를 제공합니다. 이러한 함수를 사용하면 배열의 요소에 대해 특정 계산을 수행할 수 있습니다. 대표적인 집계 함수들은 다음과 같습니다.\n",
    "\n",
    "\n",
    "\n",
    "* np.sum(): 배열의 모든 요소의 합을 계산합니다.\n",
    "* np.min(), np.max(): 배열의 최소값 또는 최대값을 찾습니다.\n",
    "* np.mean(): 배열의 평균 값을 계산합니다.\n",
    "* np.median(): 배열의 중간값(median)을 찾습니다.\n",
    "* np.std(): 배열의 표준 편차를 계산합니다.\n",
    "* np.var(): 배열의 분산을 계산합니다.\n"
   ]
  },
  {
   "cell_type": "markdown",
   "metadata": {
    "id": "NqlvLD91vLSF"
   },
   "source": []
  },
  {
   "cell_type": "markdown",
   "metadata": {
    "id": "HVMJ2K6tvLSF"
   },
   "source": [
    "### (1) np.mean()"
   ]
  },
  {
   "cell_type": "code",
   "execution_count": 21,
   "metadata": {
    "id": "PEvqsCkGvLSF"
   },
   "outputs": [
    {
     "name": "stdout",
     "output_type": "stream",
     "text": [
      "5.5\n"
     ]
    }
   ],
   "source": [
    "# 여기에 코드를 작성해 보세요!0\n",
    "array = np.array([[1, 2, 3, 4, 5],[6, 7, 8, 9, 10]])\n",
    "print(np.mean(array))"
   ]
  },
  {
   "cell_type": "code",
   "execution_count": 22,
   "metadata": {
    "id": "c-H4IKy9vLSG"
   },
   "outputs": [
    {
     "name": "stdout",
     "output_type": "stream",
     "text": [
      "3.0\n"
     ]
    }
   ],
   "source": [
    "# 모범답안은 아래와 같습니다.\n",
    "arr = np.array([1, 2, 3, 4, 5])\n",
    "print(np.mean(arr))  # 3.0"
   ]
  },
  {
   "cell_type": "markdown",
   "metadata": {
    "id": "C0RoMqyjvLSV"
   },
   "source": [
    "### (2) np.sum()\n",
    "\n",
    "\n",
    "<img src=\"./sorce/npmean.png\" height=\"400\" width=\"600\">"
   ]
  },
  {
   "cell_type": "code",
   "execution_count": 23,
   "metadata": {
    "id": "ZMjXXDAzvLSV"
   },
   "outputs": [
    {
     "name": "stdout",
     "output_type": "stream",
     "text": [
      "55\n",
      "[ 7  9 11 13 15]\n",
      "[15 40]\n"
     ]
    }
   ],
   "source": [
    "# 여기에 코드를 작성해 보세요!\n",
    "print(np.sum(array))\n",
    "print(np.sum(array, axis=0))\n",
    "print(np.sum(array, axis=1))\n"
   ]
  },
  {
   "cell_type": "code",
   "execution_count": 24,
   "metadata": {
    "id": "6XFV1cEdvLSV"
   },
   "outputs": [
    {
     "name": "stdout",
     "output_type": "stream",
     "text": [
      "15\n"
     ]
    }
   ],
   "source": [
    "# 모범답안은 아래와 같습니다.\n",
    "print(np.sum(arr))  # 15"
   ]
  },
  {
   "cell_type": "markdown",
   "metadata": {
    "id": "_WBmZVC5vLSW"
   },
   "source": [
    "### (3) np.min(), np.max()"
   ]
  },
  {
   "cell_type": "code",
   "execution_count": 25,
   "metadata": {
    "id": "BhBnr7eBvLSW"
   },
   "outputs": [
    {
     "name": "stdout",
     "output_type": "stream",
     "text": [
      "10\n",
      "1\n",
      "[ 6  7  8  9 10]\n",
      "[ 5 10]\n",
      "[1 2 3 4 5]\n",
      "[1 6]\n"
     ]
    }
   ],
   "source": [
    "# 여기에 코드를 작성해 보세요!\n",
    "print(np.max(array))\n",
    "print(np.min(array))\n",
    "\n",
    "print(np.max(array, axis=0))\n",
    "print(np.max(array, axis=1))\n",
    "print(np.min(array, axis=0))\n",
    "print(np.min(array, axis=1))"
   ]
  },
  {
   "cell_type": "code",
   "execution_count": 26,
   "metadata": {
    "id": "D9M0_vGFvLSW"
   },
   "outputs": [
    {
     "name": "stdout",
     "output_type": "stream",
     "text": [
      "5\n",
      "1\n"
     ]
    }
   ],
   "source": [
    "# 모범답안은 아래와 같습니다.\n",
    "print(np.max(arr))  # 5\n",
    "print(np.min(arr))  # 1\n"
   ]
  },
  {
   "cell_type": "markdown",
   "metadata": {
    "id": "N_mNL4QXvLSW"
   },
   "source": [
    "### (4)reshape()\n",
    "배열의 형태를 원하는 크기로 변환 가능\n"
   ]
  },
  {
   "cell_type": "code",
   "execution_count": 27,
   "metadata": {
    "id": "-zQNAR1DvLSW"
   },
   "outputs": [
    {
     "name": "stdout",
     "output_type": "stream",
     "text": [
      "[[1 2 3]\n",
      " [4 5 6]]\n"
     ]
    }
   ],
   "source": [
    "# 여기에 코드를 작성해 보세요!\n",
    "array = np.array([1, 2, 3, 4, 5, 6])\n",
    "reshaped_array = array.reshape(2,3)\n",
    "print(reshaped_array)"
   ]
  },
  {
   "cell_type": "code",
   "execution_count": 28,
   "metadata": {
    "id": "ikwybxwHvLSX"
   },
   "outputs": [
    {
     "name": "stdout",
     "output_type": "stream",
     "text": [
      "[[1 2 3]\n",
      " [4 5 6]]\n"
     ]
    }
   ],
   "source": [
    "# 모범답안은 아래와 같습니다.\n",
    "arr = np.array([1, 2, 3, 4, 5, 6])\n",
    "reshaped_arr = arr.reshape(2, 3)  # 2행 3열로 변경\n",
    "print(reshaped_arr)\n"
   ]
  },
  {
   "cell_type": "markdown",
   "metadata": {
    "id": "hzVZ40QHvLSX"
   },
   "source": [
    "___"
   ]
  },
  {
   "cell_type": "markdown",
   "metadata": {
    "id": "I9mUZfctvLSX"
   },
   "source": [
    "## [참고] 추가학습자료(numpy)\n"
   ]
  },
  {
   "cell_type": "markdown",
   "metadata": {
    "id": "ovhzNtY3vLSX"
   },
   "source": [
    "## Numpy 인덱싱\n",
    "\n",
    "\n",
    "Numpy 배열 인덱싱(indexing)은 리스트 인덱싱과 매우 유사하게 작동합니다. 인덱싱(Indexing)은 특정 위치의 데이터에 접근하는 것을 의미합니다. 인덱싱을 이용해 특정 위치에 있는 값을 가져오거나 설정할 수 있습니다."
   ]
  },
  {
   "cell_type": "code",
   "execution_count": 29,
   "metadata": {
    "id": "v_ZXIRO3vLSX"
   },
   "outputs": [
    {
     "name": "stdout",
     "output_type": "stream",
     "text": [
      "Origianl array: [1 2 3 4 5]\n",
      "First element: 1\n",
      "Last element: 5\n",
      "Array after modification: [10  2  3  4  5]\n"
     ]
    }
   ],
   "source": [
    "# 여기에 코드를 작성해 보세요!\n",
    "array = np.array([1, 2, 3, 4, 5])\n",
    "print(f\"Origianl array: {array}\")\n",
    "print(f\"First element: {array[0]}\")\n",
    "print(f\"Last element: {array[-1]}\")\n",
    "\n",
    "array[0] = 10\n",
    "print(f\"Array after modification: {array}\")"
   ]
  },
  {
   "cell_type": "code",
   "execution_count": 30,
   "metadata": {
    "id": "_o8ulKGlvLSY"
   },
   "outputs": [
    {
     "name": "stdout",
     "output_type": "stream",
     "text": [
      "Original array:  [1 2 3 4 5]\n",
      "First element:  1\n",
      "Last element:  5\n",
      "Array after modification:  [10  2  3  4  5]\n"
     ]
    }
   ],
   "source": [
    "# 모범답안은 아래와 같습니다.\n",
    "arr = np.array([1, 2, 3, 4, 5])\n",
    "print(\"Original array: \", arr)\n",
    "print(\"First element: \", arr[0])  # 첫 번째 원소\n",
    "print(\"Last element: \", arr[-1])  # 마지막 원소\n",
    "\n",
    "arr[0] = 10  # 첫 번째 원소 값을 변경\n",
    "print(\"Array after modification: \", arr)"
   ]
  },
  {
   "cell_type": "code",
   "execution_count": 31,
   "metadata": {
    "id": "KuYS5jrhvLSY"
   },
   "outputs": [
    {
     "data": {
      "text/plain": [
       "7"
      ]
     },
     "execution_count": 31,
     "metadata": {},
     "output_type": "execute_result"
    }
   ],
   "source": [
    "a = [[1,2,3,4], [5,6,7,8]]\n",
    "a[1][2]  # 리스트의 인덱싱"
   ]
  },
  {
   "cell_type": "markdown",
   "metadata": {
    "id": "uil0uqjTvLSY"
   },
   "source": [
    "### 슬라이싱\n",
    "\n",
    "\n",
    "슬라이싱은 배열의 일부분을 선택하는 방법을 의미합니다. 넘파이 배열에서 슬라이싱을 수행하면 원본 데이터를 변경하게 될 수 있으므로 주의 해야합니다."
   ]
  },
  {
   "cell_type": "code",
   "execution_count": 32,
   "metadata": {
    "id": "g7GFEivtvLSY"
   },
   "outputs": [
    {
     "name": "stdout",
     "output_type": "stream",
     "text": [
      "Original array: [1 2 3 4 5]\n",
      "Sliced array: [2 3 4]\n",
      "Modified sliced array: [10  3  4]\n",
      "Original array after modification: [ 1 10  3  4  5]\n"
     ]
    }
   ],
   "source": [
    "# 여기에 코드를 작성해 보세요!\n",
    "array = np.array([1, 2, 3, 4, 5])\n",
    "print(f\"Original array: {array}\")\n",
    "\n",
    "slice_array = array[1:4]\n",
    "print(f\"Sliced array: {slice_array}\")\n",
    "\n",
    "slice_array[0] = 10\n",
    "print(f\"Modified sliced array: {slice_array}\")\n",
    "print(f\"Original array after modification: {array}\")"
   ]
  },
  {
   "cell_type": "code",
   "execution_count": 33,
   "metadata": {
    "id": "ijb4oaJbvLSZ"
   },
   "outputs": [
    {
     "name": "stdout",
     "output_type": "stream",
     "text": [
      "Original array:  [1 2 3 4 5]\n",
      "Slice of the array:  [2 3 4]\n",
      "Slice after modification:  [10  3  4]\n",
      "Original array after modification:  [ 1 10  3  4  5]\n"
     ]
    }
   ],
   "source": [
    "# 모범답안은 아래와 같습니다.\n",
    "arr = np.array([1, 2, 3, 4, 5])\n",
    "print(\"Original array: \", arr)\n",
    "\n",
    "slice_arr = arr[1:4]  # 인덱스 1에서 3까지의 슬라이스\n",
    "print(\"Slice of the array: \", slice_arr)\n",
    "\n",
    "slice_arr[0] = 10  # 슬라이스의 첫 번째 원소 값을 변경\n",
    "print(\"Slice after modification: \", slice_arr)\n",
    "print(\"Original array after modification: \", arr)  # 원래 배열도 변경됨"
   ]
  },
  {
   "cell_type": "markdown",
   "metadata": {
    "id": "UBQdf893vLSZ"
   },
   "source": [
    "___"
   ]
  },
  {
   "cell_type": "markdown",
   "metadata": {
    "id": "IGot8RzKvLSZ"
   },
   "source": [
    "# [np.random 부록]  난수 생성\n",
    "\n",
    "\n",
    "난수 생성은 컴퓨터 프로그래밍에서 자주 사용되는 기능 중 하나입니다. 통계적 분석, 머신러닝, 시뮬레이션, 암호화 등 다양한 분야에서 사용됩니다.\n",
    "\n",
    "\n",
    "\n",
    "* np.random.rand() : 0과 1 사이에서 균일 분포를 따르는 난수를 생성합니다. 함수에 전달된 인수의 개수에 따라 다차원 배열을 생성하는 데 사용할 수 있습니다. 예를 들어, np.random.rand(5,3)을 호출하면 5x3 크기의 배열이 생성되며, 각 요소는 0과 1 사이의 랜덤한 숫자입니다.\n",
    "* np.random.randn() : 표준 정규 분포(평균이 0이고 표준편차가 1인 분포)를 따르는 난수를 생성합니다.\n",
    "* np.random.randint() : 특정 범위 내에서 랜덤한 정수를 생성합니다. 두 개의 인수를 받으며, 첫 번째 인수는 범위의 시작(포함)이고 두 번째 인수는 범위의 끝(비포함)입니다.\n",
    "* np.random.random() : 0과 1 사이에서 균일 분포를 따르는 난수를 생성합니다. 인수로 튜플을 받아 다차원 배열을 생성할 수 있습니다."
   ]
  },
  {
   "cell_type": "code",
   "execution_count": 34,
   "metadata": {
    "id": "vncfw9aBvLSZ"
   },
   "outputs": [
    {
     "name": "stdout",
     "output_type": "stream",
     "text": [
      "0.07272903807911912\n",
      "-1.1187494373838514\n",
      "5\n",
      "0.38136791567986816\n"
     ]
    }
   ],
   "source": [
    "# 여기에 코드를 작성해 보세요!\n",
    "print(np.random.rand())\n",
    "print(np.random.randn())\n",
    "print(np.random.randint(1, 10))\n",
    "print(np.random.random())"
   ]
  },
  {
   "cell_type": "code",
   "execution_count": 35,
   "metadata": {
    "id": "Kibhuy6_vLSa"
   },
   "outputs": [
    {
     "name": "stdout",
     "output_type": "stream",
     "text": [
      "Random number between 0 and 1:  0.9124927565559362\n",
      "Random number from standard normal distribution:  -0.5411184688900358\n",
      "Random integer between 1 and 10:  5\n",
      "Random number between 0 and 1:  0.4384481639330089\n"
     ]
    }
   ],
   "source": [
    "# 모범답안은 아래와 같습니다.\n",
    "# rand: 0과 1 사이의 균일 분포에서 난수 생성\n",
    "print(\"Random number between 0 and 1: \", np.random.rand())\n",
    "\n",
    "# randn: 표준 정규 분포에서 난수 생성\n",
    "print(\"Random number from standard normal distribution: \", np.random.randn())\n",
    "\n",
    "# randint: 주어진 범위에서 임의의 정수 생성\n",
    "print(\"Random integer between 1 and 10: \", np.random.randint(1, 10))\n",
    "\n",
    "# random: 0과 1 사이의 균일 분포에서 난수 생성 (rand와 비슷하지만 다른 형태의 인자를 받음)\n",
    "print(\"Random number between 0 and 1: \", np.random.random())\n"
   ]
  },
  {
   "cell_type": "markdown",
   "metadata": {
    "id": "7G2DpX4SvLSa"
   },
   "source": [
    "___"
   ]
  },
  {
   "cell_type": "markdown",
   "metadata": {
    "id": "oCeui-JKvLSa"
   },
   "source": [
    "# [참고] Numpy 유용한 함수\n",
    "### (1)  np.any(), np.all()\n",
    "\n",
    "np.any() 함수는 배열 내에서 어느 한 요소라도 참(True)이면 True를 반환하고, np.all() 함수는 배열의 모든 요소가 참(True)일 때 True를 반환합니다."
   ]
  },
  {
   "cell_type": "code",
   "execution_count": 36,
   "metadata": {
    "id": "92cAaDVavLSa"
   },
   "outputs": [
    {
     "name": "stdout",
     "output_type": "stream",
     "text": [
      "True\n",
      "False\n"
     ]
    }
   ],
   "source": [
    "# 여기에 코드를 작성해 보세요!\n",
    "array = np.array([True, True, False])\n",
    "print(np.any(array))\n",
    "print(np.all(array))"
   ]
  },
  {
   "cell_type": "code",
   "execution_count": 37,
   "metadata": {
    "id": "NuLaD_qjvLSa"
   },
   "outputs": [
    {
     "name": "stdout",
     "output_type": "stream",
     "text": [
      "Any:  True\n",
      "All:  False\n"
     ]
    }
   ],
   "source": [
    "# 모범답안은 아래와 같습니다.\n",
    "arr = np.array([True, False, True])\n",
    "\n",
    "print(\"Any: \", np.any(arr)) # or\n",
    "print(\"All: \", np.all(arr)) # and"
   ]
  },
  {
   "cell_type": "markdown",
   "metadata": {
    "id": "ue-FanA6vLSb"
   },
   "source": [
    "### (2) np.where()\n",
    "\n",
    "\n",
    "np.where() 함수는 특정 조건을 만족하는 요소의 인덱스를 반환합니다."
   ]
  },
  {
   "cell_type": "code",
   "execution_count": 38,
   "metadata": {
    "id": "i6pt_gc9vLSb"
   },
   "outputs": [
    {
     "name": "stdout",
     "output_type": "stream",
     "text": [
      "Index : (array([], dtype=int64),)\n",
      "Value : []\n"
     ]
    }
   ],
   "source": [
    "# 여기에 코드를 작성해 보세요!\n",
    "array = np.array([2, 1, 4, 3, 5])\n",
    "index = np.where(arr > 3)\n",
    "\n",
    "print(f\"Index : {index}\")\n",
    "print(f\"Value : {arr[index]}\")"
   ]
  },
  {
   "cell_type": "code",
   "execution_count": 39,
   "metadata": {
    "id": "63DGnRdGvLSb"
   },
   "outputs": [
    {
     "name": "stdout",
     "output_type": "stream",
     "text": [
      "Index:  (array([3, 4]),)\n",
      "Values:  [4 5]\n"
     ]
    }
   ],
   "source": [
    "# 모범답안은 아래와 같습니다.\n",
    "arr = np.array([1, 2, 3, 4, 5])\n",
    "index = np.where(arr > 3)\n",
    "\n",
    "print(\"Index: \", index)  # 3, 4\n",
    "print(\"Values: \", arr[index])"
   ]
  }
 ],
 "metadata": {
  "colab": {
   "provenance": [],
   "toc_visible": true
  },
  "kernelspec": {
   "display_name": "Python 3",
   "language": "python",
   "name": "python3"
  },
  "language_info": {
   "codemirror_mode": {
    "name": "ipython",
    "version": 3
   },
   "file_extension": ".py",
   "mimetype": "text/x-python",
   "name": "python",
   "nbconvert_exporter": "python",
   "pygments_lexer": "ipython3",
   "version": "3.10.11"
  }
 },
 "nbformat": 4,
 "nbformat_minor": 0
}
