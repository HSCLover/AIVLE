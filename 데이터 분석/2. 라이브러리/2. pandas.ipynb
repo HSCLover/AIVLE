{
 "cells": [
  {
   "cell_type": "markdown",
   "id": "LpnnbC40DjZq",
   "metadata": {
    "id": "LpnnbC40DjZq"
   },
   "source": [
    "# 1. pandas(판다스)\n",
    "\n",
    "Pandas는 Python에서 사용하는 데이터 분석 라이브러리입니다. 이름은 \"PANel DAta\"의 약자로 금융 경제학 용어에서 유래되었습니다. Pandas는 데이터 조작 및 분석을 위해 설계되었으며, 빠르고 유연한 데이터 구조를 제공하여 대규모 데이터 세트를 효율적으로 처리할 수 있습니다.\n",
    "\n",
    " <img src=\"./sorce/pandas.png\" height=\"100\" width=\"300\">\n",
    "\n",
    "\n",
    "Pandas는 다음과 같은 주요 특징을 가지고 있습니다.\n",
    "\n",
    "* 다양한 데이터 타입 처리 : Pandas는 다양한 타입의 데이터를 처리할 수 있습니다. 예를 들어, 정수, 실수, 문자열, Python 객체 등을 처리할 수 있습니다.\n",
    "* 누락된 데이터 처리 : Pandas는 누락된 데이터를 쉽게 처리할 수 있습니다. 예를 들어, 누락된 데이터를 특정 값으로 채우거나 누락된 데이터를 포함하는 행이나 열을 삭제할 수 있습니다.\n",
    "* 데이터 병합 : Pandas는 여러 데이터프레임을 하나로 병합하거나 조인할 수 있는 기능을 제공합니다.\n",
    "* 피벗 테이블 생성 : Pandas는 피벗 테이블을 쉽게 생성할 수 있습니다. 피벗 테이블은 데이터를 요약하고 분석하는데 유용합니다.\n",
    "* 시계열 데이터 처리 : Pandas는 시계열 데이터를 다루는 데 매우 유용한 도구들을 제공합니다.\n",
    "\n",
    "\n",
    "<br />\n",
    "<br />\n",
    "<br />\n",
    "\n",
    "\n",
    "## 라이브러리 불러오기\n",
    "데이터 분석에서 널리 사용되는 파이썬 패키지 중 하나인 pandas는 데이터를 처리하고 조작하는 데 필수적인 도구를 제공합니다. pandas는 NumPy를 기반으로 구현되었으므로 NumPy도 함께 import 해주어야 합니다.\n",
    "\n",
    "아래 코드에서는 pandas를 **pd** 라는 이름으로 import하고, NumPy를 **np** 라는 이름으로 import합니다. 이렇게 하면 pandas나 NumPy의 함수나 클래스를 호출할 때 매번 긴 이름을 쓰지 않고 간결하게 사용할 수 있습니다.\n"
   ]
  },
  {
   "cell_type": "code",
   "execution_count": 1,
   "id": "TJ_b38gDFKN6",
   "metadata": {
    "id": "TJ_b38gDFKN6"
   },
   "outputs": [],
   "source": [
    "import pandas as pd\n",
    "import numpy as np"
   ]
  },
  {
   "cell_type": "markdown",
   "id": "Uc9TvY5mFMeU",
   "metadata": {
    "id": "Uc9TvY5mFMeU"
   },
   "source": [
    "\n",
    "<br />\n",
    "<br />\n",
    "<br />\n",
    "<br />\n",
    "\n",
    "# 2. Pandas 데이터 구조\n",
    "\n",
    "\n",
    "Pandas는 Series, DataFrame, Index라는 세 가지 핵심 데이터 구조를 기반으로 작동합니다.\n",
    "\n",
    "\n",
    "\n",
    "## 2.1 Series\n",
    "\n",
    "\n",
    "Pandas Series는 기본 데이터 구조 중 하나로, 1차원 배열로과 유사하게 동작합니다. 이러한 구조는 일련의 데이터 항목을 저장하고 조작할 수 있는 기능을 제공합니다. Series는 index 을 가질 수 있으며, index를 기반으로 데이터를 액세스할 수 있습니다.\n",
    "\n",
    "<img src=\"./sorce/series.png\" height=\"600\" width=\"300\">\n",
    "\n",
    "\n",
    "\n",
    "<br />\n",
    "<br />\n",
    "<br />\n",
    "\n",
    "\n",
    "## 2.2 생성\n",
    "\n",
    "\n",
    "pd.Series 객체는 여러 가지 데이터 유형으로부터 생성될 수 있습니다.\n",
    "\n"
   ]
  },
  {
   "cell_type": "code",
   "execution_count": 2,
   "id": "UpYurAZdFdqP",
   "metadata": {
    "id": "UpYurAZdFdqP"
   },
   "outputs": [],
   "source": [
    "import pandas as pd\n",
    "\n",
    "data = [10, 20, 30, 40, 50]  # 리스트 데이터\n"
   ]
  },
  {
   "cell_type": "code",
   "execution_count": 3,
   "id": "vznri4nsI_Xi",
   "metadata": {
    "id": "vznri4nsI_Xi"
   },
   "outputs": [
    {
     "name": "stdout",
     "output_type": "stream",
     "text": [
      "0    10\n",
      "1    20\n",
      "2    30\n",
      "3    40\n",
      "4    50\n",
      "dtype: int64\n"
     ]
    }
   ],
   "source": [
    "# 여기에 코드를 작성하세요!\n",
    "series = pd.Series(data)\n",
    "print(series)"
   ]
  },
  {
   "cell_type": "code",
   "execution_count": 4,
   "id": "pNqXh2c9JAhv",
   "metadata": {
    "id": "pNqXh2c9JAhv"
   },
   "outputs": [
    {
     "name": "stdout",
     "output_type": "stream",
     "text": [
      "0    10\n",
      "1    20\n",
      "2    30\n",
      "3    40\n",
      "4    50\n",
      "dtype: int64\n"
     ]
    }
   ],
   "source": [
    "# 모범 답안\n",
    "\n",
    "series = pd.Series(data)  # 시리즈 생성\n",
    "\n",
    "print(series)"
   ]
  },
  {
   "cell_type": "markdown",
   "id": "ASMee_GlFfGb",
   "metadata": {
    "id": "ASMee_GlFfGb"
   },
   "source": [
    "## 2.3 인덱싱\n",
    "\n",
    "\n",
    "Series의 요소에는 인덱스를 사용하여 엑세스 할 수 있습니다. 인덱스를 지정하지 않으면 Pandas는 기본적으로 0에서 시작하는 정수 인덱스를 제공합니다. 명시적으로 인덱스를 지정하는 경우에는, 사용자가 원하는 문자 인덱스(이름) 를 지정할 수도 있습니다."
   ]
  },
  {
   "cell_type": "code",
   "execution_count": 5,
   "id": "tqpLuwWFFeZL",
   "metadata": {
    "id": "tqpLuwWFFeZL"
   },
   "outputs": [],
   "source": [
    "data = [100, 200, 300]\n",
    "index_labels = [\"a\", \"b\", \"c\"]  # 인덱스 라벨 지정\n",
    "\n"
   ]
  },
  {
   "cell_type": "code",
   "execution_count": 6,
   "id": "du90-W2-JJpM",
   "metadata": {
    "id": "du90-W2-JJpM"
   },
   "outputs": [
    {
     "name": "stdout",
     "output_type": "stream",
     "text": [
      "a    100\n",
      "b    200\n",
      "c    300\n",
      "dtype: int64\n"
     ]
    }
   ],
   "source": [
    "# 여기에 코드를 작성하세요!\n",
    "\n",
    "series = pd.Series(data, index=index_labels)  # 인덱스 라벨 지정하여 시리즈 생성\n",
    "print(series)"
   ]
  },
  {
   "cell_type": "code",
   "execution_count": 7,
   "id": "4Sp7rWIYJHP7",
   "metadata": {
    "id": "4Sp7rWIYJHP7"
   },
   "outputs": [
    {
     "name": "stdout",
     "output_type": "stream",
     "text": [
      "a    100\n",
      "b    200\n",
      "c    300\n",
      "dtype: int64\n"
     ]
    }
   ],
   "source": [
    "# 모범 답안\n",
    "\n",
    "import pandas as pd\n",
    "\n",
    "\n",
    "series = pd.Series(data, index=index_labels)\n",
    "\n",
    "print(series)"
   ]
  },
  {
   "cell_type": "markdown",
   "id": "rf1KXvp-HtCG",
   "metadata": {
    "id": "rf1KXvp-HtCG"
   },
   "source": [
    "특정 인덱스 값을 가져오거나, 여러 개의 값을 리스트 형태로 가져올 수도 있습니다."
   ]
  },
  {
   "cell_type": "code",
   "execution_count": 8,
   "id": "45WkHXDHJSWQ",
   "metadata": {
    "id": "45WkHXDHJSWQ"
   },
   "outputs": [
    {
     "name": "stdout",
     "output_type": "stream",
     "text": [
      "100\n",
      "100\n"
     ]
    }
   ],
   "source": [
    "# 여기에 코드를 작성하세요!\n",
    "print(series[\"a\"])\n",
    "print(series[0])"
   ]
  },
  {
   "cell_type": "code",
   "execution_count": 9,
   "id": "lbX3oq_KJTe6",
   "metadata": {
    "id": "lbX3oq_KJTe6"
   },
   "outputs": [
    {
     "name": "stdout",
     "output_type": "stream",
     "text": [
      "a    100\n",
      "c    300\n",
      "dtype: int64\n"
     ]
    }
   ],
   "source": [
    "# 여기에 코드를 작성하세요!\n",
    "print(series[[\"a\", \"c\"]])"
   ]
  },
  {
   "cell_type": "code",
   "execution_count": 10,
   "id": "HcGoPtK7HsPP",
   "metadata": {
    "id": "HcGoPtK7HsPP"
   },
   "outputs": [
    {
     "name": "stdout",
     "output_type": "stream",
     "text": [
      "100\n",
      "100\n"
     ]
    }
   ],
   "source": [
    "# 모범 답안\n",
    "\n",
    "print(series[\"a\"])  # 100\n",
    "print(series[0])    # 100 (숫자 인덱스도 가능)"
   ]
  },
  {
   "cell_type": "code",
   "execution_count": 11,
   "id": "nuxuJzuLH8rp",
   "metadata": {
    "id": "nuxuJzuLH8rp"
   },
   "outputs": [
    {
     "name": "stdout",
     "output_type": "stream",
     "text": [
      "a    100\n",
      "c    300\n",
      "dtype: int64\n"
     ]
    }
   ],
   "source": [
    "# 모범 답안\n",
    "\n",
    "print(series[[\"a\", \"c\"]])"
   ]
  },
  {
   "cell_type": "markdown",
   "id": "z95LtrD0FfPc",
   "metadata": {
    "id": "z95LtrD0FfPc"
   },
   "source": [
    "\n",
    "\n",
    "<br />\n",
    "<br />\n",
    "<br />\n",
    "\n",
    "# 3. DataFrame\n",
    "\n",
    "\n",
    "\n",
    "Pandas DataFrame은 2차원 테이블로, 서로 다른 타입의 데이터를 보관할 수 있습니다. DataFrame은 각 열마다 다른 타입의 데이터(숫자, 문자열, 불리언 등)를 저장할 수 있으며, 데이터는 열이나 행을 기준으로 선택, 정렬, 조작될 수 있습니다. DataFrame은 스프레드시트, SQL 테이블, 또는 R의 data.frame과 같은 2차원 테이블 형식의 데이터 구조와 유사합니다.\n",
    "\n",
    "<img src=\"./sorce/dataframe.png\" height=\"400\" width=\"600\">\n",
    "\n",
    "\n",
    "\n",
    "\n",
    "\n",
    "DataFrame은 다양한 방법으로 생성할 수 있습니다. 가장 먼저 리스트를 활용하여 생성해봅니다.\n"
   ]
  },
  {
   "cell_type": "code",
   "execution_count": 12,
   "id": "xblZim7XL320",
   "metadata": {
    "colab": {
     "base_uri": "https://localhost:8080/"
    },
    "executionInfo": {
     "elapsed": 15,
     "status": "ok",
     "timestamp": 1742988393470,
     "user": {
      "displayName": "MinJeong Shin",
      "userId": "09913383294869151014"
     },
     "user_tz": -540
    },
    "id": "xblZim7XL320",
    "outputId": "80625182-bcb9-48ef-b4f6-1a3bfeffe248"
   },
   "outputs": [],
   "source": [
    "import pandas as pd\n",
    "\n",
    "data = [\n",
    "    ['John', 28, 'New York'],\n",
    "    ['Anna', 24, 'Paris'],\n",
    "    ['Peter', 35, 'Berlin'],\n",
    "    ['Linda', 32, 'London']\n",
    "]"
   ]
  },
  {
   "cell_type": "code",
   "execution_count": 13,
   "id": "spbOQK2kJYZ2",
   "metadata": {
    "id": "spbOQK2kJYZ2"
   },
   "outputs": [
    {
     "name": "stdout",
     "output_type": "stream",
     "text": [
      "    name  age      city\n",
      "0   John   28  New York\n",
      "1   Anna   24     Paris\n",
      "2  Peter   35    Berlin\n",
      "3  Linda   32    London\n",
      "              0   1         2\n",
      "Person 1   John  28  New York\n",
      "Person 2   Anna  24     Paris\n",
      "Person 3  Peter  35    Berlin\n",
      "Person 4  Linda  32    London\n"
     ]
    }
   ],
   "source": [
    "# 여기에 코드를 작성하세요!\n",
    "dataframe = pd.DataFrame(data, columns=['name', 'age', 'city'])\n",
    "dataframe2 = pd.DataFrame(data, index=['Person 1', 'Person 2', 'Person 3', 'Person 4'])\n",
    "\n",
    "\n",
    "print(dataframe)\n",
    "print(dataframe2)"
   ]
  },
  {
   "cell_type": "code",
   "execution_count": 14,
   "id": "2BHSGAd8FfcB",
   "metadata": {
    "colab": {
     "base_uri": "https://localhost:8080/"
    },
    "executionInfo": {
     "elapsed": 16,
     "status": "ok",
     "timestamp": 1742988212025,
     "user": {
      "displayName": "MinJeong Shin",
      "userId": "09913383294869151014"
     },
     "user_tz": -540
    },
    "id": "2BHSGAd8FfcB",
    "outputId": "7cea1e81-937f-4279-a7da-d057191e224a"
   },
   "outputs": [
    {
     "name": "stdout",
     "output_type": "stream",
     "text": [
      "    name  age      city\n",
      "0   John   28  New York\n",
      "1   Anna   24     Paris\n",
      "2  Peter   35    Berlin\n",
      "3  Linda   32    London\n",
      "              0   1         2\n",
      "Person 1   John  28  New York\n",
      "Person 2   Anna  24     Paris\n",
      "Person 3  Peter  35    Berlin\n",
      "Person 4  Linda  32    London\n"
     ]
    }
   ],
   "source": [
    "# 모범답안\n",
    "\n",
    "import pandas as pd\n",
    "\n",
    "df = pd.DataFrame(data, columns=['name', 'age', 'city'])\n",
    "df2 = pd.DataFrame(data, index=['Person 1', 'Person 2', 'Person 3', 'Person 4'])\n",
    "\n",
    "print(df)\n",
    "print(df2)"
   ]
  },
  {
   "cell_type": "markdown",
   "id": "VDW2a22HIw5r",
   "metadata": {
    "id": "VDW2a22HIw5r"
   },
   "source": [
    "\n",
    "<br />\n",
    "<br />\n",
    "\n",
    "\n",
    "다음은 딕셔너리를 활용하여 DataFrame을 생성하는 코드입니다. 딕셔너리를 사용하면 자동으로 컬럼명이 지정됩니다."
   ]
  },
  {
   "cell_type": "code",
   "execution_count": 15,
   "id": "FMxYjxDoJbLE",
   "metadata": {
    "id": "FMxYjxDoJbLE"
   },
   "outputs": [
    {
     "data": {
      "application/vnd.microsoft.datawrangler.viewer.v0+json": {
       "columns": [
        {
         "name": "index",
         "rawType": "object",
         "type": "string"
        },
        {
         "name": "이름",
         "rawType": "object",
         "type": "string"
        },
        {
         "name": "나이",
         "rawType": "int64",
         "type": "integer"
        },
        {
         "name": "학점",
         "rawType": "object",
         "type": "string"
        }
       ],
       "conversionMethod": "pd.DataFrame",
       "ref": "5642c8cc-e14b-4846-8ab9-5fee47156f86",
       "rows": [
        [
         "학생1",
         "John",
         "20",
         "A"
        ],
        [
         "학생2",
         "Anna",
         "22",
         "B"
        ],
        [
         "학생3",
         "Peter",
         "21",
         "A"
        ],
        [
         "학생4",
         "Linda",
         "24",
         "C"
        ]
       ],
       "shape": {
        "columns": 3,
        "rows": 4
       }
      },
      "text/html": [
       "<div>\n",
       "<style scoped>\n",
       "    .dataframe tbody tr th:only-of-type {\n",
       "        vertical-align: middle;\n",
       "    }\n",
       "\n",
       "    .dataframe tbody tr th {\n",
       "        vertical-align: top;\n",
       "    }\n",
       "\n",
       "    .dataframe thead th {\n",
       "        text-align: right;\n",
       "    }\n",
       "</style>\n",
       "<table border=\"1\" class=\"dataframe\">\n",
       "  <thead>\n",
       "    <tr style=\"text-align: right;\">\n",
       "      <th></th>\n",
       "      <th>이름</th>\n",
       "      <th>나이</th>\n",
       "      <th>학점</th>\n",
       "    </tr>\n",
       "  </thead>\n",
       "  <tbody>\n",
       "    <tr>\n",
       "      <th>학생1</th>\n",
       "      <td>John</td>\n",
       "      <td>20</td>\n",
       "      <td>A</td>\n",
       "    </tr>\n",
       "    <tr>\n",
       "      <th>학생2</th>\n",
       "      <td>Anna</td>\n",
       "      <td>22</td>\n",
       "      <td>B</td>\n",
       "    </tr>\n",
       "    <tr>\n",
       "      <th>학생3</th>\n",
       "      <td>Peter</td>\n",
       "      <td>21</td>\n",
       "      <td>A</td>\n",
       "    </tr>\n",
       "    <tr>\n",
       "      <th>학생4</th>\n",
       "      <td>Linda</td>\n",
       "      <td>24</td>\n",
       "      <td>C</td>\n",
       "    </tr>\n",
       "  </tbody>\n",
       "</table>\n",
       "</div>"
      ],
      "text/plain": [
       "        이름  나이 학점\n",
       "학생1   John  20  A\n",
       "학생2   Anna  22  B\n",
       "학생3  Peter  21  A\n",
       "학생4  Linda  24  C"
      ]
     },
     "metadata": {},
     "output_type": "display_data"
    }
   ],
   "source": [
    "# 여기에 코드를 작성하세요!\n",
    "\n",
    "\n",
    "data = {\"이름\": [\"John\", \"Anna\", \"Peter\", \"Linda\"],\n",
    "        \"나이\": [20, 22, 21, 24],\n",
    "        \"학점\": [\"A\", \"B\", \"A\", \"C\"]\n",
    "}\n",
    "\n",
    "dataframe = pd.DataFrame(data, index=[\"학생1\", \"학생2\", \"학생3\", \"학생4\"])\n",
    "display(dataframe)"
   ]
  },
  {
   "cell_type": "code",
   "execution_count": 16,
   "id": "aYTG4ffQFfe8",
   "metadata": {
    "id": "aYTG4ffQFfe8"
   },
   "outputs": [
    {
     "data": {
      "application/vnd.microsoft.datawrangler.viewer.v0+json": {
       "columns": [
        {
         "name": "index",
         "rawType": "int64",
         "type": "integer"
        },
        {
         "name": "이름",
         "rawType": "object",
         "type": "string"
        },
        {
         "name": "나이",
         "rawType": "int64",
         "type": "integer"
        },
        {
         "name": "학점",
         "rawType": "object",
         "type": "string"
        }
       ],
       "conversionMethod": "pd.DataFrame",
       "ref": "5c1c53b5-4d55-40c9-ad46-7c38dbe19d78",
       "rows": [
        [
         "0",
         "John",
         "20",
         "A"
        ],
        [
         "1",
         "Anna",
         "22",
         "B"
        ],
        [
         "2",
         "Peter",
         "21",
         "A"
        ]
       ],
       "shape": {
        "columns": 3,
        "rows": 3
       }
      },
      "text/html": [
       "<div>\n",
       "<style scoped>\n",
       "    .dataframe tbody tr th:only-of-type {\n",
       "        vertical-align: middle;\n",
       "    }\n",
       "\n",
       "    .dataframe tbody tr th {\n",
       "        vertical-align: top;\n",
       "    }\n",
       "\n",
       "    .dataframe thead th {\n",
       "        text-align: right;\n",
       "    }\n",
       "</style>\n",
       "<table border=\"1\" class=\"dataframe\">\n",
       "  <thead>\n",
       "    <tr style=\"text-align: right;\">\n",
       "      <th></th>\n",
       "      <th>이름</th>\n",
       "      <th>나이</th>\n",
       "      <th>학점</th>\n",
       "    </tr>\n",
       "  </thead>\n",
       "  <tbody>\n",
       "    <tr>\n",
       "      <th>0</th>\n",
       "      <td>John</td>\n",
       "      <td>20</td>\n",
       "      <td>A</td>\n",
       "    </tr>\n",
       "    <tr>\n",
       "      <th>1</th>\n",
       "      <td>Anna</td>\n",
       "      <td>22</td>\n",
       "      <td>B</td>\n",
       "    </tr>\n",
       "    <tr>\n",
       "      <th>2</th>\n",
       "      <td>Peter</td>\n",
       "      <td>21</td>\n",
       "      <td>A</td>\n",
       "    </tr>\n",
       "  </tbody>\n",
       "</table>\n",
       "</div>"
      ],
      "text/plain": [
       "      이름  나이 학점\n",
       "0   John  20  A\n",
       "1   Anna  22  B\n",
       "2  Peter  21  A"
      ]
     },
     "metadata": {},
     "output_type": "display_data"
    }
   ],
   "source": [
    "# 모범 답안\n",
    "import pandas as pd\n",
    "\n",
    "data = {\n",
    "    \"이름\": [\"John\", \"Anna\", \"Peter\"],\n",
    "    \"나이\": [20, 22, 21],\n",
    "    \"학점\": [\"A\", \"B\", \"A\"]\n",
    "}\n",
    "\n",
    "df = pd.DataFrame(data)\n",
    "display(df)\n"
   ]
  },
  {
   "cell_type": "markdown",
   "id": "IUmET8KfKYoC",
   "metadata": {
    "id": "IUmET8KfKYoC"
   },
   "source": [
    "\n",
    "<br />\n",
    "<br />\n",
    "<br />\n",
    "\n",
    "\n",
    "# DataFrame 에서 데이터 접근하기\n",
    "  DataFrame 에서는 특정한 컬럼이나 행에 접근이 가능합니다.\n",
    "\n",
    "\n",
    "<br />\n",
    "<br />\n",
    "<br />\n",
    "\n",
    "\n",
    "## 특정 컬럼(열) 가져오기\n",
    "특정 컬럼을 가져오려면 DataFrame 변수의 컬럼명을 사용하여 가져올 수 있습니다."
   ]
  },
  {
   "cell_type": "code",
   "execution_count": 17,
   "id": "UlrBt8y_KXwm",
   "metadata": {
    "id": "UlrBt8y_KXwm"
   },
   "outputs": [
    {
     "name": "stdout",
     "output_type": "stream",
     "text": [
      "0     John\n",
      "1     Anna\n",
      "2    Peter\n",
      "Name: 이름, dtype: object\n"
     ]
    }
   ],
   "source": [
    "print(df[\"이름\"])"
   ]
  },
  {
   "cell_type": "code",
   "execution_count": 18,
   "id": "xSz_tPdgK_hE",
   "metadata": {
    "id": "xSz_tPdgK_hE"
   },
   "outputs": [
    {
     "data": {
      "application/vnd.microsoft.datawrangler.viewer.v0+json": {
       "columns": [
        {
         "name": "index",
         "rawType": "object",
         "type": "string"
        },
        {
         "name": "나이",
         "rawType": "int64",
         "type": "integer"
        },
        {
         "name": "학점",
         "rawType": "object",
         "type": "string"
        }
       ],
       "conversionMethod": "pd.DataFrame",
       "ref": "534f6a43-e766-4dbe-aca5-d6052526eefe",
       "rows": [
        [
         "학생1",
         "20",
         "A"
        ],
        [
         "학생2",
         "22",
         "B"
        ],
        [
         "학생3",
         "21",
         "A"
        ],
        [
         "학생4",
         "24",
         "C"
        ]
       ],
       "shape": {
        "columns": 2,
        "rows": 4
       }
      },
      "text/html": [
       "<div>\n",
       "<style scoped>\n",
       "    .dataframe tbody tr th:only-of-type {\n",
       "        vertical-align: middle;\n",
       "    }\n",
       "\n",
       "    .dataframe tbody tr th {\n",
       "        vertical-align: top;\n",
       "    }\n",
       "\n",
       "    .dataframe thead th {\n",
       "        text-align: right;\n",
       "    }\n",
       "</style>\n",
       "<table border=\"1\" class=\"dataframe\">\n",
       "  <thead>\n",
       "    <tr style=\"text-align: right;\">\n",
       "      <th></th>\n",
       "      <th>나이</th>\n",
       "      <th>학점</th>\n",
       "    </tr>\n",
       "  </thead>\n",
       "  <tbody>\n",
       "    <tr>\n",
       "      <th>학생1</th>\n",
       "      <td>20</td>\n",
       "      <td>A</td>\n",
       "    </tr>\n",
       "    <tr>\n",
       "      <th>학생2</th>\n",
       "      <td>22</td>\n",
       "      <td>B</td>\n",
       "    </tr>\n",
       "    <tr>\n",
       "      <th>학생3</th>\n",
       "      <td>21</td>\n",
       "      <td>A</td>\n",
       "    </tr>\n",
       "    <tr>\n",
       "      <th>학생4</th>\n",
       "      <td>24</td>\n",
       "      <td>C</td>\n",
       "    </tr>\n",
       "  </tbody>\n",
       "</table>\n",
       "</div>"
      ],
      "text/plain": [
       "     나이 학점\n",
       "학생1  20  A\n",
       "학생2  22  B\n",
       "학생3  21  A\n",
       "학생4  24  C"
      ]
     },
     "execution_count": 18,
     "metadata": {},
     "output_type": "execute_result"
    }
   ],
   "source": [
    "# 여기에 코드를 작성하세요!\n",
    "dataframe[[\"나이\",\"학점\"]]"
   ]
  },
  {
   "cell_type": "markdown",
   "id": "NHG8DtaQK7hP",
   "metadata": {
    "id": "NHG8DtaQK7hP"
   },
   "source": [
    "\n",
    "<br />\n",
    "<br />\n",
    "\n",
    "\n",
    "## 특정 행(Row) 가져오기\n",
    "특정 인덱스를 활용하여 행 값들을 가져올 수도 있습니다. 이때에는 .loc 메서드를 활용합니다."
   ]
  },
  {
   "cell_type": "code",
   "execution_count": 19,
   "id": "yMzjSf8yK7qq",
   "metadata": {
    "id": "yMzjSf8yK7qq"
   },
   "outputs": [
    {
     "name": "stdout",
     "output_type": "stream",
     "text": [
      "이름    Anna\n",
      "나이      22\n",
      "학점       B\n",
      "Name: 1, dtype: object\n"
     ]
    }
   ],
   "source": [
    "print(df.loc[1])  # 인덱스 1번 행 가져오기"
   ]
  },
  {
   "cell_type": "code",
   "execution_count": 20,
   "id": "cphfsOj5LUl8",
   "metadata": {
    "id": "cphfsOj5LUl8"
   },
   "outputs": [
    {
     "name": "stdout",
     "output_type": "stream",
     "text": [
      "이름    Anna\n",
      "나이      22\n",
      "학점       B\n",
      "Name: 학생2, dtype: object\n"
     ]
    }
   ],
   "source": [
    "# 여기에 코드를 작성하세요!\n",
    "print(dataframe.iloc[1])"
   ]
  },
  {
   "cell_type": "markdown",
   "id": "u8RcpnIxLg2h",
   "metadata": {
    "id": "u8RcpnIxLg2h"
   },
   "source": [
    "여러개의 행을 한번에 가져올 수도 있습니다."
   ]
  },
  {
   "cell_type": "code",
   "execution_count": 21,
   "id": "oOFxe0hHLWiD",
   "metadata": {
    "id": "oOFxe0hHLWiD"
   },
   "outputs": [
    {
     "name": "stdout",
     "output_type": "stream",
     "text": [
      "      이름  나이 학점\n",
      "0   John  20  A\n",
      "2  Peter  21  A\n"
     ]
    }
   ],
   "source": [
    "print(df.loc[[0, 2]])  # 0번, 2번 행 가져오기"
   ]
  },
  {
   "cell_type": "code",
   "execution_count": 22,
   "id": "J_0DfeVnJiX-",
   "metadata": {
    "id": "J_0DfeVnJiX-"
   },
   "outputs": [
    {
     "name": "stdout",
     "output_type": "stream",
     "text": [
      "        이름  나이 학점\n",
      "학생1   John  20  A\n",
      "학생3  Peter  21  A\n"
     ]
    }
   ],
   "source": [
    "# 여기에 코드를 작성하세요!\n",
    "print(dataframe.iloc[[0,2]])"
   ]
  },
  {
   "cell_type": "markdown",
   "id": "KSnKvugfLpXi",
   "metadata": {
    "id": "KSnKvugfLpXi"
   },
   "source": [
    "\n",
    "<br />\n",
    "<br />\n",
    "\n",
    "\n",
    "## 특정 조건의 데이터 필터링\n",
    "원하는 조건의 데이터만 추출하고 싶다면 조건식을 사용하여 특정 조건의 데이터를 필터링 할 수 있습니다.\n"
   ]
  },
  {
   "cell_type": "code",
   "execution_count": 23,
   "id": "GgiAd8x1LomR",
   "metadata": {
    "id": "GgiAd8x1LomR"
   },
   "outputs": [
    {
     "name": "stdout",
     "output_type": "stream",
     "text": [
      "      이름  나이 학점\n",
      "1   Anna  22  B\n",
      "2  Peter  21  A\n"
     ]
    }
   ],
   "source": [
    "print(df[df[\"나이\"] > 20])  # 나이가 20 이상인 데이터만 선택"
   ]
  },
  {
   "cell_type": "code",
   "execution_count": 24,
   "id": "sAWm9dY8Ot2j",
   "metadata": {
    "id": "sAWm9dY8Ot2j"
   },
   "outputs": [
    {
     "data": {
      "application/vnd.microsoft.datawrangler.viewer.v0+json": {
       "columns": [
        {
         "name": "index",
         "rawType": "object",
         "type": "string"
        },
        {
         "name": "이름",
         "rawType": "object",
         "type": "string"
        },
        {
         "name": "나이",
         "rawType": "int64",
         "type": "integer"
        },
        {
         "name": "학점",
         "rawType": "object",
         "type": "string"
        }
       ],
       "conversionMethod": "pd.DataFrame",
       "ref": "2bac7237-0d43-47a7-9fcc-cf6e0e3ae910",
       "rows": [
        [
         "학생1",
         "John",
         "20",
         "A"
        ],
        [
         "학생3",
         "Peter",
         "21",
         "A"
        ]
       ],
       "shape": {
        "columns": 3,
        "rows": 2
       }
      },
      "text/html": [
       "<div>\n",
       "<style scoped>\n",
       "    .dataframe tbody tr th:only-of-type {\n",
       "        vertical-align: middle;\n",
       "    }\n",
       "\n",
       "    .dataframe tbody tr th {\n",
       "        vertical-align: top;\n",
       "    }\n",
       "\n",
       "    .dataframe thead th {\n",
       "        text-align: right;\n",
       "    }\n",
       "</style>\n",
       "<table border=\"1\" class=\"dataframe\">\n",
       "  <thead>\n",
       "    <tr style=\"text-align: right;\">\n",
       "      <th></th>\n",
       "      <th>이름</th>\n",
       "      <th>나이</th>\n",
       "      <th>학점</th>\n",
       "    </tr>\n",
       "  </thead>\n",
       "  <tbody>\n",
       "    <tr>\n",
       "      <th>학생1</th>\n",
       "      <td>John</td>\n",
       "      <td>20</td>\n",
       "      <td>A</td>\n",
       "    </tr>\n",
       "    <tr>\n",
       "      <th>학생3</th>\n",
       "      <td>Peter</td>\n",
       "      <td>21</td>\n",
       "      <td>A</td>\n",
       "    </tr>\n",
       "  </tbody>\n",
       "</table>\n",
       "</div>"
      ],
      "text/plain": [
       "        이름  나이 학점\n",
       "학생1   John  20  A\n",
       "학생3  Peter  21  A"
      ]
     },
     "execution_count": 24,
     "metadata": {},
     "output_type": "execute_result"
    }
   ],
   "source": [
    "# 여기에 코드를 작성하세요!\n",
    "dataframe[dataframe[\"학점\"] == \"A\"]"
   ]
  },
  {
   "cell_type": "code",
   "execution_count": 29,
   "id": "bc5f3de1",
   "metadata": {},
   "outputs": [
    {
     "data": {
      "text/plain": [
       "학생1    20\n",
       "학생3    21\n",
       "Name: 나이, dtype: int64"
      ]
     },
     "execution_count": 29,
     "metadata": {},
     "output_type": "execute_result"
    }
   ],
   "source": [
    "dataframe['나이'][dataframe['학점'] == \"A\"]"
   ]
  },
  {
   "cell_type": "code",
   "execution_count": 30,
   "id": "b5db5efb",
   "metadata": {},
   "outputs": [
    {
     "data": {
      "text/plain": [
       "학생1    20\n",
       "학생3    21\n",
       "Name: 나이, dtype: int64"
      ]
     },
     "execution_count": 30,
     "metadata": {},
     "output_type": "execute_result"
    }
   ],
   "source": [
    "dataframe[dataframe[\"학점\"] == \"A\"][\"나이\"]"
   ]
  }
 ],
 "metadata": {
  "colab": {
   "provenance": []
  },
  "kernelspec": {
   "display_name": "base",
   "language": "python",
   "name": "python3"
  },
  "language_info": {
   "codemirror_mode": {
    "name": "ipython",
    "version": 3
   },
   "file_extension": ".py",
   "mimetype": "text/x-python",
   "name": "python",
   "nbconvert_exporter": "python",
   "pygments_lexer": "ipython3",
   "version": "3.9.7"
  }
 },
 "nbformat": 4,
 "nbformat_minor": 5
}
