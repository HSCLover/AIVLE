{
  "cells": [
    {
      "cell_type": "markdown",
      "id": "90f3101f-8248-4e8c-bdbf-e113fe6ebbd0",
      "metadata": {
        "id": "90f3101f-8248-4e8c-bdbf-e113fe6ebbd0"
      },
      "source": [
        "# <span style=\"background-color:#fff5b1\"><span style=\"color:black\"><B>보험사 마케팅 활용을 위한 고객 군집화 모델링"
      ]
    },
    {
      "cell_type": "markdown",
      "id": "4c1174fc-1885-4f4e-bbb4-e9bf68f8fc6a",
      "metadata": {
        "id": "4c1174fc-1885-4f4e-bbb4-e9bf68f8fc6a"
      },
      "source": [
        "## **Mission 3. 분석 모델 개발**"
      ]
    },
    {
      "cell_type": "markdown",
      "id": "33589b19-a27e-4ed0-b1e5-8539ce9fe8c0",
      "metadata": {
        "id": "33589b19-a27e-4ed0-b1e5-8539ce9fe8c0",
        "tags": []
      },
      "source": [
        "### [미션 이해하기]\n",
        "* 여러분들은 K 보험사의 직원입니다. K보험사는 효과적인 마케팅 전략을 완성시키기 위해 데이터 기반 마케팅을 시작했습니다.\n",
        "  <br>고객의 행동,성향, 니즈 등의 고객 데이터를 마케팅 전략에 반영하여 고객별로 적절한 마케팅 Action을 주는 미션을 받았습니다.\n",
        "* 고객별로 특징을 적절하게 반영할 수 있는 마케팅 방안은 고객을 segment 하는 것 인데, 어떤 방법으로 고객을 묶을 수 있을까요?\n",
        "  <br>바로, <font color=\"1E90FF\"><b>군집분석을 기반으로 한 고객 segment를 개발 하는 것입니다.</font>\n"
      ]
    },
    {
      "cell_type": "markdown",
      "id": "e6ca9599-a9a1-45f7-bab0-35073378cad4",
      "metadata": {
        "id": "e6ca9599-a9a1-45f7-bab0-35073378cad4"
      },
      "source": [
        "<b>[2일차] mission 3 목표<b>: 전처리 한 데이터를 활용하여 군집분석 하고, 데이터 탐색 기반 프로파일링을 통해 군집별 특징 정의 해보기"
      ]
    },
    {
      "cell_type": "markdown",
      "id": "3cbdb6c2",
      "metadata": {
        "id": "3cbdb6c2"
      },
      "source": [
        "---------------------------------------------------------------------------------------------\n",
        "# **0. 환경설정(경로설정)**\n",
        "* 세부 요구사항\n",
        "    - 경로 설정 : 구글 colab\n",
        "        * 구글 드라이브 바로 밑에 dxproject 폴더를 만들고,\n",
        "        * 데이터 파일을 복사해 넣습니다."
      ]
    },
    {
      "cell_type": "code",
      "execution_count": 1,
      "id": "0af68a82",
      "metadata": {
        "colab": {
          "base_uri": "https://localhost:8080/"
        },
        "id": "0af68a82",
        "outputId": "30eefa03-10f2-4c4b-d63f-f678f73ff4dd"
      },
      "outputs": [],
      "source": [
        "# # 구글 드라이브 연결\n",
        "# from google.colab import drive\n",
        "# drive.mount('/content/drive')"
      ]
    },
    {
      "cell_type": "code",
      "execution_count": 2,
      "id": "40f91042",
      "metadata": {
        "id": "40f91042"
      },
      "outputs": [],
      "source": [
        "#Path\n",
        "# path = '/content/drive/MyDrive/AIVLE/DX_미니프로젝트 1차_1-2일차_실습자료/'"
      ]
    },
    {
      "cell_type": "code",
      "execution_count": 3,
      "id": "1f8e2b74",
      "metadata": {
        "id": "1f8e2b74"
      },
      "outputs": [],
      "source": [
        "path = './'"
      ]
    },
    {
      "cell_type": "markdown",
      "id": "9509146a-6c7c-4e06-9e1e-7fc9a93c8200",
      "metadata": {
        "id": "9509146a-6c7c-4e06-9e1e-7fc9a93c8200"
      },
      "source": [
        "---------------------------------------------------------------------------------------------\n",
        "#### <b>[실습프로세스]<b>\n",
        "\n",
        "1. k-means 군집분석\n",
        "2. 프로파일링"
      ]
    },
    {
      "cell_type": "markdown",
      "id": "3310b100-8526-4122-b00f-98195133395b",
      "metadata": {
        "id": "3310b100-8526-4122-b00f-98195133395b",
        "tags": []
      },
      "source": [
        "---------------------------------------------------------------------------------------------\n",
        "# **1. k-means 모델(군집 분석)**"
      ]
    },
    {
      "cell_type": "markdown",
      "id": "c24c4c20-98c7-46f5-b795-add4bc8912fb",
      "metadata": {
        "id": "c24c4c20-98c7-46f5-b795-add4bc8912fb"
      },
      "source": [
        "**k-means 모델이란?**\n",
        " > **비지도학습의 대표적인 군집분석을 위한 모델로 주어진 데이터를 K개의 클러스터로 묶는 알고리즘**\n",
        " > * K 군집의 초기 중심에서 시작해서 중심을 바꾸는 단계를 사용하여 데이터를 가장 가까운 군집으로 포함시켜 분류하는 모델\n",
        " > * 장점: 단순 알고리즘 및 빠른 연산 속도\n",
        " > * 단점: 이상치, 노이즈에 민감하고 초기 군집 수 결정 단계가 필요함"
      ]
    },
    {
      "cell_type": "markdown",
      "id": "21c7e59d-5751-4cdf-9922-3cf445d1b0f8",
      "metadata": {
        "id": "21c7e59d-5751-4cdf-9922-3cf445d1b0f8"
      },
      "source": [
        "## **(1) 데이터 불러오기**"
      ]
    },
    {
      "cell_type": "code",
      "execution_count": 4,
      "id": "310503f1-a0d6-47d6-ba74-617e5f113ecc",
      "metadata": {
        "id": "310503f1-a0d6-47d6-ba74-617e5f113ecc"
      },
      "outputs": [],
      "source": [
        "# 필요 라이브러리 로딩\n",
        "\n",
        "import numpy as np\n",
        "import pandas as pd\n",
        "import matplotlib.pyplot as plt\n",
        "import seaborn as sns\n",
        "import os\n",
        "\n",
        "# mosaic\n",
        "from statsmodels.graphics.mosaicplot import mosaic\n",
        "\n",
        "import warnings\n",
        "warnings.filterwarnings(action='ignore')"
      ]
    },
    {
      "cell_type": "code",
      "execution_count": 5,
      "id": "c3ec2301",
      "metadata": {
        "colab": {
          "base_uri": "https://localhost:8080/"
        },
        "id": "c3ec2301",
        "outputId": "ccc5c35e-fdab-4ec4-a69b-af27633473e6"
      },
      "outputs": [
        {
          "name": "stdout",
          "output_type": "stream",
          "text": [
            "설정된 폰트 이름: NanumGothicCoding\n"
          ]
        }
      ],
      "source": [
        "# 한글 세팅\n",
        "\n",
        "# 1. 나눔고딕 폰트 설치\n",
        "!apt-get -qq update\n",
        "!apt-get -qq install -y fonts-nanum\n",
        "\n",
        "# 2. 런타임에 폰트 캐시 갱신\n",
        "import matplotlib.font_manager as fm\n",
        "import matplotlib.pyplot as plt\n",
        "import matplotlib as mpl\n",
        "\n",
        "font_dirs = ['/usr/share/fonts/truetype/nanum']\n",
        "font_files = fm.findSystemFonts(fontpaths=font_dirs)\n",
        "\n",
        "for font_file in font_files:\n",
        "    fm.fontManager.addfont(font_file)\n",
        "\n",
        "# 3. 폰트 이름 확인 후 설정\n",
        "nanum_font_name = fm.FontProperties(fname=font_files[0]).get_name()\n",
        "print(f\"설정된 폰트 이름: {nanum_font_name}\")\n",
        "\n",
        "# matplotlib에 폰트 반영\n",
        "mpl.rc('font', family=nanum_font_name)\n",
        "mpl.rcParams['axes.unicode_minus'] = False\n",
        "\n",
        "# 지수표현(소수점 2자리까지 나타내기)\n",
        "pd.options.display.float_format = '{:.2f}'.format"
      ]
    },
    {
      "cell_type": "code",
      "execution_count": 6,
      "id": "1172e209",
      "metadata": {
        "id": "1172e209"
      },
      "outputs": [],
      "source": [
        "# import matplotlib.font_manager as fm\n",
        "# import matplotlib.pyplot as plt\n",
        "# import matplotlib as mpl\n",
        "\n",
        "# mpl.rc('font', family='Nanum_Gothic')\n",
        "# mpl.rcParams['axes.unicode_minus'] = False\n",
        "\n",
        "# # 지수표현(소수점 2자리까지 나타내기)\n",
        "# pd.options.display.float_format = '{:.2f}'.format"
      ]
    },
    {
      "cell_type": "code",
      "execution_count": 7,
      "id": "37852c14-3ef4-45ba-8557-dc99471d5744",
      "metadata": {
        "colab": {
          "base_uri": "https://localhost:8080/",
          "height": 206
        },
        "id": "37852c14-3ef4-45ba-8557-dc99471d5744",
        "outputId": "e280855d-1413-4740-9afd-f8341c2add4a"
      },
      "outputs": [
        {
          "data": {
            "text/html": [
              "<div>\n",
              "<style scoped>\n",
              "    .dataframe tbody tr th:only-of-type {\n",
              "        vertical-align: middle;\n",
              "    }\n",
              "\n",
              "    .dataframe tbody tr th {\n",
              "        vertical-align: top;\n",
              "    }\n",
              "\n",
              "    .dataframe thead th {\n",
              "        text-align: right;\n",
              "    }\n",
              "</style>\n",
              "<table border=\"1\" class=\"dataframe\">\n",
              "  <thead>\n",
              "    <tr style=\"text-align: right;\">\n",
              "      <th></th>\n",
              "      <th>AGE</th>\n",
              "      <th>고용상태</th>\n",
              "      <th>Willingness to pay/Stay</th>\n",
              "      <th>상품타입</th>\n",
              "      <th>교육수준</th>\n",
              "      <th>소득</th>\n",
              "      <th>월 납입액</th>\n",
              "      <th>타 상품 보유 현황</th>\n",
              "      <th>총지불금액</th>\n",
              "      <th>거주지사이즈</th>\n",
              "      <th>자동차</th>\n",
              "    </tr>\n",
              "  </thead>\n",
              "  <tbody>\n",
              "    <tr>\n",
              "      <th>0</th>\n",
              "      <td>-0.07</td>\n",
              "      <td>-1.30</td>\n",
              "      <td>-0.81</td>\n",
              "      <td>-0.31</td>\n",
              "      <td>-0.30</td>\n",
              "      <td>-1.24</td>\n",
              "      <td>-0.47</td>\n",
              "      <td>-1.08</td>\n",
              "      <td>0.27</td>\n",
              "      <td>-0.34</td>\n",
              "      <td>-0.20</td>\n",
              "    </tr>\n",
              "    <tr>\n",
              "      <th>1</th>\n",
              "      <td>-1.85</td>\n",
              "      <td>0.77</td>\n",
              "      <td>-0.33</td>\n",
              "      <td>-0.31</td>\n",
              "      <td>-0.30</td>\n",
              "      <td>1.51</td>\n",
              "      <td>-0.47</td>\n",
              "      <td>1.41</td>\n",
              "      <td>-1.34</td>\n",
              "      <td>-0.34</td>\n",
              "      <td>-0.20</td>\n",
              "    </tr>\n",
              "    <tr>\n",
              "      <th>2</th>\n",
              "      <td>-0.96</td>\n",
              "      <td>-1.30</td>\n",
              "      <td>-0.50</td>\n",
              "      <td>-0.31</td>\n",
              "      <td>-0.30</td>\n",
              "      <td>-0.65</td>\n",
              "      <td>-0.94</td>\n",
              "      <td>1.41</td>\n",
              "      <td>-0.48</td>\n",
              "      <td>-0.34</td>\n",
              "      <td>-0.20</td>\n",
              "    </tr>\n",
              "    <tr>\n",
              "      <th>3</th>\n",
              "      <td>1.71</td>\n",
              "      <td>0.77</td>\n",
              "      <td>0.60</td>\n",
              "      <td>3.19</td>\n",
              "      <td>-0.30</td>\n",
              "      <td>0.14</td>\n",
              "      <td>0.23</td>\n",
              "      <td>-0.25</td>\n",
              "      <td>2.03</td>\n",
              "      <td>2.94</td>\n",
              "      <td>-0.20</td>\n",
              "    </tr>\n",
              "    <tr>\n",
              "      <th>4</th>\n",
              "      <td>0.82</td>\n",
              "      <td>0.77</td>\n",
              "      <td>0.12</td>\n",
              "      <td>-0.31</td>\n",
              "      <td>3.36</td>\n",
              "      <td>-0.52</td>\n",
              "      <td>0.47</td>\n",
              "      <td>0.58</td>\n",
              "      <td>1.15</td>\n",
              "      <td>-0.34</td>\n",
              "      <td>-0.20</td>\n",
              "    </tr>\n",
              "  </tbody>\n",
              "</table>\n",
              "</div>"
            ],
            "text/plain": [
              "    AGE  고용상태  Willingness to pay/Stay  상품타입  교육수준    소득  월 납입액  타 상품 보유 현황  \\\n",
              "0 -0.07 -1.30                    -0.81 -0.31 -0.30 -1.24  -0.47       -1.08   \n",
              "1 -1.85  0.77                    -0.33 -0.31 -0.30  1.51  -0.47        1.41   \n",
              "2 -0.96 -1.30                    -0.50 -0.31 -0.30 -0.65  -0.94        1.41   \n",
              "3  1.71  0.77                     0.60  3.19 -0.30  0.14   0.23       -0.25   \n",
              "4  0.82  0.77                     0.12 -0.31  3.36 -0.52   0.47        0.58   \n",
              "\n",
              "   총지불금액  거주지사이즈   자동차  \n",
              "0   0.27   -0.34 -0.20  \n",
              "1  -1.34   -0.34 -0.20  \n",
              "2  -0.48   -0.34 -0.20  \n",
              "3   2.03    2.94 -0.20  \n",
              "4   1.15   -0.34 -0.20  "
            ]
          },
          "execution_count": 7,
          "metadata": {},
          "output_type": "execute_result"
        }
      ],
      "source": [
        "# [문제 1~2] 스케일링 한 데이터 불러오기\n",
        "# 1. data 변수에 'data_sc.csv' 파일을 불러와서 할당\n",
        "# 2. data 변수 호출해서 상위 5개 확인해보기\n",
        "\n",
        "data = pd.read_csv(path+'data_sc.csv')\n",
        "\n",
        "data.head()\n"
      ]
    },
    {
      "cell_type": "markdown",
      "id": "45a0357c-8311-4fd9-a3b4-47c7766f4037",
      "metadata": {
        "id": "45a0357c-8311-4fd9-a3b4-47c7766f4037"
      },
      "source": [
        "## **(2) 군집분석**"
      ]
    },
    {
      "cell_type": "markdown",
      "id": "ca85a752-317d-4c33-9e78-70c9f1660954",
      "metadata": {
        "id": "ca85a752-317d-4c33-9e78-70c9f1660954"
      },
      "source": [
        "<b>군집분석을 위해 최적의 그룹 k 값을 찾아보고 최적의 군집 수를 결정해 보자"
      ]
    },
    {
      "cell_type": "markdown",
      "id": "083ac050-70b7-45ec-a12e-e044efc38eff",
      "metadata": {
        "id": "083ac050-70b7-45ec-a12e-e044efc38eff"
      },
      "source": [
        "### <b>**1) 기본 셋팅**\n",
        "* yellowbrick을 임포트 해서 군집분석 해보기"
      ]
    },
    {
      "cell_type": "code",
      "execution_count": 8,
      "id": "6d1e3b57-ee3f-4a67-a95c-6088ec42f113",
      "metadata": {
        "id": "6d1e3b57-ee3f-4a67-a95c-6088ec42f113"
      },
      "outputs": [],
      "source": [
        "# #[같이 하기] yellowbrick이 없는 경우 pip로 설치해 주기(!pip install yellowbrick)\n",
        "\n",
        "# !pip install yellowbrick"
      ]
    },
    {
      "cell_type": "code",
      "execution_count": 9,
      "id": "e239122c-feb8-426b-b89c-9e9bbeb82adf",
      "metadata": {
        "id": "e239122c-feb8-426b-b89c-9e9bbeb82adf"
      },
      "outputs": [],
      "source": [
        "# [같이 하기] k-means, yellowbrick의 KElbowVisualizer 불러오기\n",
        "\n",
        "from sklearn.cluster import KMeans\n",
        "from yellowbrick.cluster import KElbowVisualizer"
      ]
    },
    {
      "cell_type": "markdown",
      "id": "89cc90a9-3827-4d36-a18a-9a49a9131fe9",
      "metadata": {
        "id": "89cc90a9-3827-4d36-a18a-9a49a9131fe9",
        "tags": []
      },
      "source": [
        "### <b>**2) 직접 하나하나 해보기**\n",
        "* 몇 개의 그룹으로 군집화를 할지 k 값을 바꿔 가면서 '최적의 k 값'을 찾아보는 것을 해보자."
      ]
    },
    {
      "cell_type": "code",
      "execution_count": 10,
      "id": "afbbbf45-4715-4a84-95e9-f7a0ac827ae6",
      "metadata": {
        "colab": {
          "base_uri": "https://localhost:8080/",
          "height": 80
        },
        "id": "afbbbf45-4715-4a84-95e9-f7a0ac827ae6",
        "outputId": "f6dcc5a7-e9fc-459c-abfe-4d56c314f5d1"
      },
      "outputs": [
        {
          "data": {
            "text/html": [
              "<style>#sk-container-id-1 {color: black;background-color: white;}#sk-container-id-1 pre{padding: 0;}#sk-container-id-1 div.sk-toggleable {background-color: white;}#sk-container-id-1 label.sk-toggleable__label {cursor: pointer;display: block;width: 100%;margin-bottom: 0;padding: 0.3em;box-sizing: border-box;text-align: center;}#sk-container-id-1 label.sk-toggleable__label-arrow:before {content: \"▸\";float: left;margin-right: 0.25em;color: #696969;}#sk-container-id-1 label.sk-toggleable__label-arrow:hover:before {color: black;}#sk-container-id-1 div.sk-estimator:hover label.sk-toggleable__label-arrow:before {color: black;}#sk-container-id-1 div.sk-toggleable__content {max-height: 0;max-width: 0;overflow: hidden;text-align: left;background-color: #f0f8ff;}#sk-container-id-1 div.sk-toggleable__content pre {margin: 0.2em;color: black;border-radius: 0.25em;background-color: #f0f8ff;}#sk-container-id-1 input.sk-toggleable__control:checked~div.sk-toggleable__content {max-height: 200px;max-width: 100%;overflow: auto;}#sk-container-id-1 input.sk-toggleable__control:checked~label.sk-toggleable__label-arrow:before {content: \"▾\";}#sk-container-id-1 div.sk-estimator input.sk-toggleable__control:checked~label.sk-toggleable__label {background-color: #d4ebff;}#sk-container-id-1 div.sk-label input.sk-toggleable__control:checked~label.sk-toggleable__label {background-color: #d4ebff;}#sk-container-id-1 input.sk-hidden--visually {border: 0;clip: rect(1px 1px 1px 1px);clip: rect(1px, 1px, 1px, 1px);height: 1px;margin: -1px;overflow: hidden;padding: 0;position: absolute;width: 1px;}#sk-container-id-1 div.sk-estimator {font-family: monospace;background-color: #f0f8ff;border: 1px dotted black;border-radius: 0.25em;box-sizing: border-box;margin-bottom: 0.5em;}#sk-container-id-1 div.sk-estimator:hover {background-color: #d4ebff;}#sk-container-id-1 div.sk-parallel-item::after {content: \"\";width: 100%;border-bottom: 1px solid gray;flex-grow: 1;}#sk-container-id-1 div.sk-label:hover label.sk-toggleable__label {background-color: #d4ebff;}#sk-container-id-1 div.sk-serial::before {content: \"\";position: absolute;border-left: 1px solid gray;box-sizing: border-box;top: 0;bottom: 0;left: 50%;z-index: 0;}#sk-container-id-1 div.sk-serial {display: flex;flex-direction: column;align-items: center;background-color: white;padding-right: 0.2em;padding-left: 0.2em;position: relative;}#sk-container-id-1 div.sk-item {position: relative;z-index: 1;}#sk-container-id-1 div.sk-parallel {display: flex;align-items: stretch;justify-content: center;background-color: white;position: relative;}#sk-container-id-1 div.sk-item::before, #sk-container-id-1 div.sk-parallel-item::before {content: \"\";position: absolute;border-left: 1px solid gray;box-sizing: border-box;top: 0;bottom: 0;left: 50%;z-index: -1;}#sk-container-id-1 div.sk-parallel-item {display: flex;flex-direction: column;z-index: 1;position: relative;background-color: white;}#sk-container-id-1 div.sk-parallel-item:first-child::after {align-self: flex-end;width: 50%;}#sk-container-id-1 div.sk-parallel-item:last-child::after {align-self: flex-start;width: 50%;}#sk-container-id-1 div.sk-parallel-item:only-child::after {width: 0;}#sk-container-id-1 div.sk-dashed-wrapped {border: 1px dashed gray;margin: 0 0.4em 0.5em 0.4em;box-sizing: border-box;padding-bottom: 0.4em;background-color: white;}#sk-container-id-1 div.sk-label label {font-family: monospace;font-weight: bold;display: inline-block;line-height: 1.2em;}#sk-container-id-1 div.sk-label-container {text-align: center;}#sk-container-id-1 div.sk-container {/* jupyter's `normalize.less` sets `[hidden] { display: none; }` but bootstrap.min.css set `[hidden] { display: none !important; }` so we also need the `!important` here to be able to override the default hidden behavior on the sphinx rendered scikit-learn.org. See: https://github.com/scikit-learn/scikit-learn/issues/21755 */display: inline-block !important;position: relative;}#sk-container-id-1 div.sk-text-repr-fallback {display: none;}</style><div id=\"sk-container-id-1\" class=\"sk-top-container\"><div class=\"sk-text-repr-fallback\"><pre>KMeans(n_clusters=3, n_init=10, random_state=2025)</pre><b>In a Jupyter environment, please rerun this cell to show the HTML representation or trust the notebook. <br />On GitHub, the HTML representation is unable to render, please try loading this page with nbviewer.org.</b></div><div class=\"sk-container\" hidden><div class=\"sk-item\"><div class=\"sk-estimator sk-toggleable\"><input class=\"sk-toggleable__control sk-hidden--visually\" id=\"sk-estimator-id-1\" type=\"checkbox\" checked><label for=\"sk-estimator-id-1\" class=\"sk-toggleable__label sk-toggleable__label-arrow\">KMeans</label><div class=\"sk-toggleable__content\"><pre>KMeans(n_clusters=3, n_init=10, random_state=2025)</pre></div></div></div></div></div>"
            ],
            "text/plain": [
              "KMeans(n_clusters=3, n_init=10, random_state=2025)"
            ]
          },
          "execution_count": 10,
          "metadata": {},
          "output_type": "execute_result"
        }
      ],
      "source": [
        "# [같이 하기] 군집화할 그룹(k) 결정하기\n",
        "\n",
        "# 우리는 먼저 몇개의 그룹으로 군집화 할지 3~10까지 수 중에서 결정하려고 3부터 2씩 올려서 클러스터링을 해보려고 한다.\n",
        "# 그러면 3개의 그룹부터 시작해 보자.\n",
        "\n",
        "\n",
        "# 1.몇개의 그룹(k)으로 군집화 할지 임의로 정해보기(k에 할당)\n",
        "k=3\n",
        "\n",
        "# 2. 모델 만들기 (그룹수 : n_clusters 파라미터 사용)\n",
        "# 동일값을 위해 random_state=2024, n_init=10으로 설정값을 같이 해본다.\n",
        "# [참고]n_init 지정 : warning을 없애기 위해 지정해준다.\n",
        "\n",
        "model_1 = KMeans(n_clusters=k, random_state=2025,n_init=10)\n",
        "\n",
        "#3. 스케일링 된 데이터에 학습\n",
        "\n",
        "model_1.fit(data)\n"
      ]
    },
    {
      "cell_type": "code",
      "execution_count": 11,
      "id": "35bde289",
      "metadata": {
        "colab": {
          "base_uri": "https://localhost:8080/"
        },
        "id": "35bde289",
        "outputId": "7e9636ff-c595-43fe-c6bf-ba684fddc5d0"
      },
      "outputs": [
        {
          "data": {
            "text/plain": [
              "array([[-1.00095624e-01, -1.29322455e+00, -1.01399200e-01,\n",
              "        -1.99293152e-02, -9.28814411e-02, -1.02341277e+00,\n",
              "        -1.16472826e-01,  4.99150823e-03,  3.30622986e-01,\n",
              "         3.64344710e-02, -1.98295176e-01],\n",
              "       [ 2.15866309e-02,  7.72119935e-01, -2.27414180e-02,\n",
              "         1.87984101e-04,  5.72593042e-02,  6.15023311e-01,\n",
              "        -1.48376160e-01, -1.21526606e-03, -3.45765800e-01,\n",
              "        -2.17477950e-02, -1.98295176e-01],\n",
              "       [ 6.09453769e-01,  4.97163593e-02,  1.32505911e+00,\n",
              "         1.86543467e-01, -2.50542030e-02, -2.40246713e-02,\n",
              "         3.46144404e+00, -2.81900345e-02,  2.34094919e+00,\n",
              "        -1.48653084e-03,  5.03146772e+00]])"
            ]
          },
          "execution_count": 11,
          "metadata": {},
          "output_type": "execute_result"
        }
      ],
      "source": [
        "# [같이 하기] 모델이 찾은 3개의 센트로이드를 확인해보자.\n",
        "# 센트로이드는 하나의 클러스터(k) 내 데이터의 중심이 되는 점이다.\n",
        "\n",
        "model_1.cluster_centers_"
      ]
    },
    {
      "cell_type": "markdown",
      "id": "bb94c2cd",
      "metadata": {
        "id": "bb94c2cd"
      },
      "source": [
        "#### (여러분들을 위한 tip)\n",
        "- Kmeans객체는 각 군집을 구성하는 단어 피처가 군집의 중심(Centroid)을 기준으로 얼마나 가깝게 위치해 있는지 cluster_centers_라는 속성으로 제공합니다.\n",
        "- 3개의 클러스터에 각 군집 중심점의 좌표를 확인할 수 있습니다.\n",
        "- cluster_centers_는 배열 값으로 제공되며, 행은 개별 군집을, 열은 개별 피처를 의미합니다.\n",
        "- 각 배열 내의 값은 개별 군집 내의 상대 위치를 숫자 값으로 표현한 일종의 좌표 값입니다. 예를 들어 cluster_centers[0,1]은 0번 군집에서 두 번째 피처의 위치 값입니다."
      ]
    },
    {
      "cell_type": "code",
      "execution_count": 12,
      "id": "f3ae0338-4aee-47d2-bb8a-39cecdb37c70",
      "metadata": {
        "colab": {
          "base_uri": "https://localhost:8080/"
        },
        "id": "f3ae0338-4aee-47d2-bb8a-39cecdb37c70",
        "outputId": "b1b32d68-de86-400d-c2bf-09a574bdd67e",
        "tags": []
      },
      "outputs": [
        {
          "name": "stdout",
          "output_type": "stream",
          "text": [
            "90574.17287284878\n",
            "-90574.17287284878\n"
          ]
        }
      ],
      "source": [
        "# [같이 하기] 3가지 성능지표를 통해서 확인해보기\n",
        "\n",
        "# 1. inertia(이너셔) : 각 데이터와 센트로이드(중심) 사이의 평균 제곱거리로 도출한 모델 (model.inertia_로 쓴다)\n",
        "# 2. score 매서드: 이너셔의 음수값을 반환( model.score(df))\n",
        "\n",
        "print(model_1.inertia_)\n",
        "print(model_1.score(data))"
      ]
    },
    {
      "cell_type": "markdown",
      "id": "16491b26",
      "metadata": {
        "id": "16491b26"
      },
      "source": [
        "#### (여러분들을 위한 tip)\n",
        "- KMeans 클래스는 n_init번 실행하여 이너셔가 가장 낮은 모델을 리턴합니다.\n",
        "- 하지만 마냥 이니셔가 낮다고 좋은 모델일까요?\n",
        "- k가 늘어날 수록 이너셔는 점점 작아지기 때문에 이너셔가 그다지 좋은 성능 지표가 아니라는 걸 알 수 있습니다.\n",
        "- 어차피 클러스터가 늘어날 수록 각각의 데이터는 가까운 센트로이드에 가까워지기 때문에 이너셔가 작아지는 건 당연한 결과입니다.\n",
        "- 그걸 파악하기 위해서 한번 k값에 따라 이니셔가 어떻게 변하는지 확인해 보시죠."
      ]
    },
    {
      "cell_type": "markdown",
      "id": "0a06856b-bbfe-4e96-a61a-e40ee7d4ffe7",
      "metadata": {
        "id": "0a06856b-bbfe-4e96-a61a-e40ee7d4ffe7",
        "tags": []
      },
      "source": [
        "<b> k=3을 같이 해봤으니 이제 여러분들이 한번 그룹수(k)를 바꿔가면서 판단을 해보실 차례입니다!\n",
        "<br>2씩 늘려가면서 k값을 5,7,9개의 그룹으로 나눠서 모델 학습 시키고 성능지표를 확인해 보세요!"
      ]
    },
    {
      "cell_type": "code",
      "execution_count": 13,
      "id": "5b5e9242-3870-48e2-b292-86f1d50d58d2",
      "metadata": {
        "colab": {
          "base_uri": "https://localhost:8080/"
        },
        "id": "5b5e9242-3870-48e2-b292-86f1d50d58d2",
        "outputId": "f3b120fd-b6bc-4705-c522-18d022860b25"
      },
      "outputs": [
        {
          "name": "stdout",
          "output_type": "stream",
          "text": [
            "69562.75315050548\n",
            "-69562.7531505055\n"
          ]
        }
      ],
      "source": [
        "#[문제 3] 군집화할 그룹(k)을 5개로 해보자.\n",
        "\n",
        "# 1.몇개의 그룹(k)으로 군집화 할지 임의로 정해보기(k1에 할당)\n",
        "k1= 5\n",
        "\n",
        "# 2. 모델 만들기 (그룹수 : n_clusters 파라미터 사용) (model_2 에 할당)\n",
        "# 동일값을 위해 random_state=2025, n_init=10으로 설정값을 같이 해본다.\n",
        "# [참고]n_init 지정 : warning을 없애기 위해 지정해준다.\n",
        "\n",
        "model_2 = KMeans(n_clusters=k1, random_state=2025, n_init=10)\n",
        "\n",
        "#3. 스케일링 된 데이터에 학습\n",
        "model_2.fit(data)\n",
        "\n",
        "\n",
        "#4. 학습한 결과 inertia,score 로 확인 해보기\n",
        "\n",
        "print(model_2.inertia_)\n",
        "print(model_2.score(data))"
      ]
    },
    {
      "cell_type": "code",
      "execution_count": 14,
      "id": "80e8e19f-1cc2-4ad7-a98f-b993e40e84bb",
      "metadata": {
        "colab": {
          "base_uri": "https://localhost:8080/"
        },
        "id": "80e8e19f-1cc2-4ad7-a98f-b993e40e84bb",
        "outputId": "1ab65463-c54e-48d5-a12b-864660b8dfde"
      },
      "outputs": [
        {
          "name": "stdout",
          "output_type": "stream",
          "text": [
            "53935.59983957146\n",
            "-53935.59983957147\n"
          ]
        }
      ],
      "source": [
        "#[문제 4] 군집화할 그룹(k)을 7개로 해보자.\n",
        "\n",
        "# 1.몇개의 그룹(k)으로 군집화 할지 임의로 정해보기(k2에 할당)\n",
        "\n",
        "k2= 7\n",
        "\n",
        "# 2. 모델 만들기 (그룹수 : n_clusters 파라미터 사용) (model_3 에 할당)\n",
        "# 동일값을 위해 random_state=2025, n_init=10으로 설정값을 같이 해본다.\n",
        "# [참고]n_init 지정 : warning을 없애기 위해 지정해준다.\n",
        "\n",
        "model_3 = KMeans(n_clusters=k2, random_state=2025, n_init=10)\n",
        "\n",
        "#3. 스케일링 된 데이터에 학습\n",
        "\n",
        "model_3.fit(data)\n",
        "\n",
        "#4. 학습한 결과 inertia,score 로 확인 해보기\n",
        "\n",
        "print(model_3.inertia_)\n",
        "print(model_3.score(data))"
      ]
    },
    {
      "cell_type": "code",
      "execution_count": 15,
      "id": "2fd146d6-7d79-4719-9fd5-7eafbe9804dd",
      "metadata": {
        "colab": {
          "base_uri": "https://localhost:8080/"
        },
        "id": "2fd146d6-7d79-4719-9fd5-7eafbe9804dd",
        "outputId": "fa7bf193-0b23-41d8-9359-2ac6952a7551"
      },
      "outputs": [
        {
          "name": "stdout",
          "output_type": "stream",
          "text": [
            "47835.01174090135\n",
            "-47835.01174090135\n"
          ]
        }
      ],
      "source": [
        "#[문제 5] 군집화할 그룹(k)을 9개로 해보자.\n",
        "\n",
        "# 1.몇개의 그룹(k)으로 군집화 할지 임의로 정해보기(k3에 할당)\n",
        "\n",
        "k3=9\n",
        "\n",
        "# 2. 모델 만들기 (그룹수 : n_clusters 파라미터 사용) (model_4 에 할당)\n",
        "# 동일값을 위해 random_state=2025, n_init=10으로 설정값을 같이 해본다.\n",
        "# [참고]n_init 지정 : warning을 없애기 위해 지정해준다.\n",
        "\n",
        "model_4 = KMeans(n_clusters=k3, random_state=2025, n_init=10)\n",
        "\n",
        "#3. 스케일링 된 데이터에 학습\n",
        "\n",
        "model_4.fit(data)\n",
        "\n",
        "#4. 학습한 결과 inertia,score 로 확인 해보기\n",
        "\n",
        "\n",
        "print(model_4.inertia_)\n",
        "print(model_4.score(data))\n"
      ]
    },
    {
      "cell_type": "markdown",
      "id": "f24abbf3",
      "metadata": {
        "id": "f24abbf3"
      },
      "source": [
        "-----------"
      ]
    },
    {
      "cell_type": "markdown",
      "id": "805baaa7",
      "metadata": {
        "id": "805baaa7"
      },
      "source": [
        "* <b>for 문을 활용해서 그래프로도 확인을 해볼까요?"
      ]
    },
    {
      "cell_type": "code",
      "execution_count": 16,
      "id": "82b9222d",
      "metadata": {
        "colab": {
          "base_uri": "https://localhost:8080/",
          "height": 1000
        },
        "id": "82b9222d",
        "outputId": "d95db04e-0b18-41de-ddb2-cad8bd84164b"
      },
      "outputs": [
        {
          "name": "stdout",
          "output_type": "stream",
          "text": [
            "n_cluster:2, inertia:110732.53062808217\n",
            "---------\n",
            "n_cluster:3, inertia:90574.17287284877\n",
            "---------\n",
            "n_cluster:4, inertia:79134.23910277367\n",
            "---------\n",
            "n_cluster:5, inertia:69562.75315050548\n",
            "---------\n",
            "n_cluster:6, inertia:60892.4135995716\n",
            "---------\n",
            "n_cluster:7, inertia:53935.59983957148\n",
            "---------\n",
            "n_cluster:8, inertia:50856.648047427414\n",
            "---------\n",
            "n_cluster:9, inertia:47835.01174090135\n",
            "---------\n",
            "n_cluster:10, inertia:44740.69687942359\n",
            "---------\n",
            "n_cluster:11, inertia:43285.15398610845\n",
            "---------\n",
            "n_cluster:12, inertia:41010.30940596776\n",
            "---------\n",
            "n_cluster:13, inertia:40086.406372821344\n",
            "---------\n",
            "n_cluster:14, inertia:38251.27909237382\n",
            "---------\n",
            "n_cluster:15, inertia:37263.31643005915\n",
            "---------\n",
            "n_cluster:16, inertia:36057.149523077096\n",
            "---------\n",
            "n_cluster:17, inertia:34659.08189733027\n",
            "---------\n",
            "n_cluster:18, inertia:33645.0401932659\n",
            "---------\n",
            "n_cluster:19, inertia:32570.46257842172\n",
            "---------\n",
            "n_cluster:20, inertia:31850.407001325086\n",
            "---------\n"
          ]
        },
        {
          "data": {
            "image/png": "[encoded data removed]",
            "text/plain": [
              "<Figure size 800x550 with 1 Axes>"
            ]
          },
          "metadata": {},
          "output_type": "display_data"
        }
      ],
      "source": [
        "#[문제 6] for 문을 활용해서 2~20까지 k값을 넣어서 성능지표 확인하기\n",
        "\n",
        "ks= range(2,21)          # k값 범위 지정(range(2,21)) 후 ks 변수에 할당\n",
        "inertias = []  # 이너셔 결과를 저장하기 위한 빈 리스트 생성 (변수명 inertias)\n",
        "\n",
        "for k  in  ks : # for문 활용\n",
        "    model =  KMeans(n_clusters=k, random_state=2025, n_init=10)           # k-means 모델 만들기(그룹수 : n_clusters 파라미터 사용,n_init=10)\n",
        "    model.fit(data)                    # 모델 학습\n",
        "    inertias.append(model.inertia_)                    # 이너셔 결과를 inertias 리스트에 계속 저장(append 활용)\n",
        "    print('n_cluster:{}, inertia:{}'.format(k, model.inertia_))\n",
        "    print('---------') # n_cluster, inertia 결과 출력\n",
        "\n",
        "\n",
        "plt.Figure(figsize=(15,6))\n",
        "plt.plot(ks,inertias,'-o') # '-o'는 실선과 원을 같이 시각화\n",
        "plt.xlabel('k')\n",
        "plt.ylabel('inertia')\n",
        "plt.xticks(ks)\n",
        "plt.grid()\n",
        "plt.show()"
      ]
    },
    {
      "cell_type": "markdown",
      "id": "ee9d3786",
      "metadata": {
        "id": "ee9d3786"
      },
      "source": [
        "여기서는 확실하게 어떤 k 값이 좋은지 파악하기가 힘들긴 하네요"
      ]
    },
    {
      "cell_type": "markdown",
      "id": "b9617bab-45c4-4138-94a9-a148a1d5b722",
      "metadata": {
        "id": "b9617bab-45c4-4138-94a9-a148a1d5b722"
      },
      "source": [
        "### <b>**3) [참조]Elbow Method 활용해서 k 값 구하기**\n",
        "* yellowbrick의 k-Elbow Mehod를 활용해서 최적의 k 값을 구하기(k값 결정하기 쉽게 도와주는 함수)"
      ]
    },
    {
      "cell_type": "code",
      "execution_count": 17,
      "id": "d69955eb-1eea-4a9f-9fd1-f312b742b710",
      "metadata": {
        "colab": {
          "base_uri": "https://localhost:8080/",
          "height": 542
        },
        "id": "d69955eb-1eea-4a9f-9fd1-f312b742b710",
        "outputId": "56e8870e-f636-4d7b-d540-01989133adae"
      },
      "outputs": [
        {
          "data": {
            "image/png": "[encoded data removed]",
            "text/plain": [
              "<Figure size 800x550 with 2 Axes>"
            ]
          },
          "metadata": {},
          "output_type": "display_data"
        },
        {
          "data": {
            "text/plain": [
              "<Axes: title={'center': 'Distortion Score Elbow for KMeans Clustering'}, xlabel='k', ylabel='distortion score'>"
            ]
          },
          "execution_count": 17,
          "metadata": {},
          "output_type": "execute_result"
        }
      ],
      "source": [
        "#[문제 7] Elbow Method를 통해 최적의 군집 수 도출을 해보자.\n",
        "\n",
        "# 1. 모델 선언하기(random_state=2025, n_init = 10 으로 설정)(model_E로 할당)\n",
        "\n",
        "model_E = KMeans(random_state=2025,n_init=10)\n",
        "\n",
        "# 2. KElbowVisualizer 에 k-means 모델과 k값 넣어서 만들기(Elbow_M 에 할당)\n",
        "# k값은 k=(2,21)사이의 값중에서 찾는 것으로 넣으면 된다.\n",
        "\n",
        "Elbow_M = KElbowVisualizer(model_E,k=(2,21))\n",
        "\n",
        "# 3. Elbow 모델 학습하기(fit)\n",
        "\n",
        "Elbow_M.fit(data)\n",
        "\n",
        "# 4. Elbow 모델 확인하기(show()활용)\n",
        "\n",
        "Elbow_M.show()"
      ]
    },
    {
      "cell_type": "markdown",
      "id": "cc94fd69-9fa2-4868-9d7e-2f252c459758",
      "metadata": {
        "id": "cc94fd69-9fa2-4868-9d7e-2f252c459758"
      },
      "source": [
        "### <b>**4) 최적의 k 값으로 모델링**\n",
        "* Elbow Method를 통해 나온 최적의 k값으로 모델링을 해보자."
      ]
    },
    {
      "cell_type": "code",
      "execution_count": 18,
      "id": "81a80def-05ea-4077-bb3b-608612580ea8",
      "metadata": {
        "colab": {
          "base_uri": "https://localhost:8080/",
          "height": 484
        },
        "id": "81a80def-05ea-4077-bb3b-608612580ea8",
        "outputId": "d39f1e21-b245-480a-dbbb-6ef5550e2cb6"
      },
      "outputs": [
        {
          "data": {
            "text/html": [
              "<div>\n",
              "<style scoped>\n",
              "    .dataframe tbody tr th:only-of-type {\n",
              "        vertical-align: middle;\n",
              "    }\n",
              "\n",
              "    .dataframe tbody tr th {\n",
              "        vertical-align: top;\n",
              "    }\n",
              "\n",
              "    .dataframe thead th {\n",
              "        text-align: right;\n",
              "    }\n",
              "</style>\n",
              "<table border=\"1\" class=\"dataframe\">\n",
              "  <thead>\n",
              "    <tr style=\"text-align: right;\">\n",
              "      <th></th>\n",
              "      <th>AGE</th>\n",
              "      <th>등록(계/피)</th>\n",
              "      <th>고용상태</th>\n",
              "      <th>성별</th>\n",
              "      <th>Willingness to pay/Stay</th>\n",
              "      <th>갱신</th>\n",
              "      <th>상품타입</th>\n",
              "      <th>교육수준</th>\n",
              "      <th>소득</th>\n",
              "      <th>지역</th>\n",
              "      <th>결혼여부</th>\n",
              "      <th>월 납입액</th>\n",
              "      <th>VOC</th>\n",
              "      <th>타 상품 보유 현황</th>\n",
              "      <th>온라인방문빈도</th>\n",
              "      <th>갱신인센티브</th>\n",
              "      <th>판매채널</th>\n",
              "      <th>총지불금액</th>\n",
              "      <th>자동차</th>\n",
              "      <th>거주지사이즈</th>\n",
              "    </tr>\n",
              "  </thead>\n",
              "  <tbody>\n",
              "    <tr>\n",
              "      <th>0</th>\n",
              "      <td>3</td>\n",
              "      <td>피보험자</td>\n",
              "      <td>무직</td>\n",
              "      <td>1</td>\n",
              "      <td>2.62</td>\n",
              "      <td>0</td>\n",
              "      <td>기본</td>\n",
              "      <td>대학졸업</td>\n",
              "      <td>0</td>\n",
              "      <td>도시근교</td>\n",
              "      <td>미혼</td>\n",
              "      <td>80</td>\n",
              "      <td>0</td>\n",
              "      <td>1</td>\n",
              "      <td>자주방문</td>\n",
              "      <td>없음</td>\n",
              "      <td>자사영업</td>\n",
              "      <td>631000</td>\n",
              "      <td>일반세단</td>\n",
              "      <td>소</td>\n",
              "    </tr>\n",
              "    <tr>\n",
              "      <th>1</th>\n",
              "      <td>1</td>\n",
              "      <td>계약자</td>\n",
              "      <td>고용</td>\n",
              "      <td>0</td>\n",
              "      <td>6.35</td>\n",
              "      <td>0</td>\n",
              "      <td>기본</td>\n",
              "      <td>고졸이하</td>\n",
              "      <td>102887400</td>\n",
              "      <td>시골</td>\n",
              "      <td>미혼</td>\n",
              "      <td>80</td>\n",
              "      <td>1</td>\n",
              "      <td>4이상</td>\n",
              "      <td>비방문</td>\n",
              "      <td>포인트</td>\n",
              "      <td>인터넷</td>\n",
              "      <td>54000</td>\n",
              "      <td>일반세단</td>\n",
              "      <td>중</td>\n",
              "    </tr>\n",
              "    <tr>\n",
              "      <th>2</th>\n",
              "      <td>2</td>\n",
              "      <td>계약자</td>\n",
              "      <td>휴직</td>\n",
              "      <td>0</td>\n",
              "      <td>4.97</td>\n",
              "      <td>0</td>\n",
              "      <td>기본</td>\n",
              "      <td>대학졸업</td>\n",
              "      <td>22159500</td>\n",
              "      <td>도시근교</td>\n",
              "      <td>기혼</td>\n",
              "      <td>60</td>\n",
              "      <td>0</td>\n",
              "      <td>4이상</td>\n",
              "      <td>비방문</td>\n",
              "      <td>할인</td>\n",
              "      <td>자사영업</td>\n",
              "      <td>362000</td>\n",
              "      <td>일반세단</td>\n",
              "      <td>중</td>\n",
              "    </tr>\n",
              "    <tr>\n",
              "      <th>3</th>\n",
              "      <td>5</td>\n",
              "      <td>계약자</td>\n",
              "      <td>고용</td>\n",
              "      <td>1</td>\n",
              "      <td>13.48</td>\n",
              "      <td>0</td>\n",
              "      <td>고급</td>\n",
              "      <td>고졸이하</td>\n",
              "      <td>51562500</td>\n",
              "      <td>도시근교</td>\n",
              "      <td>기혼</td>\n",
              "      <td>110</td>\n",
              "      <td>0</td>\n",
              "      <td>2</td>\n",
              "      <td>비방문</td>\n",
              "      <td>할인</td>\n",
              "      <td>자사영업</td>\n",
              "      <td>1264000</td>\n",
              "      <td>컴팩트카</td>\n",
              "      <td>대</td>\n",
              "    </tr>\n",
              "    <tr>\n",
              "      <th>4</th>\n",
              "      <td>4</td>\n",
              "      <td>계약자</td>\n",
              "      <td>고용</td>\n",
              "      <td>0</td>\n",
              "      <td>9.78</td>\n",
              "      <td>0</td>\n",
              "      <td>기본</td>\n",
              "      <td>석사</td>\n",
              "      <td>26820200</td>\n",
              "      <td>도시근교</td>\n",
              "      <td>기혼</td>\n",
              "      <td>120</td>\n",
              "      <td>0</td>\n",
              "      <td>3</td>\n",
              "      <td>비방문</td>\n",
              "      <td>없음</td>\n",
              "      <td>대리점</td>\n",
              "      <td>947000</td>\n",
              "      <td>SUV</td>\n",
              "      <td>중</td>\n",
              "    </tr>\n",
              "  </tbody>\n",
              "</table>\n",
              "</div>"
            ],
            "text/plain": [
              "   AGE 등록(계/피) 고용상태  성별  Willingness to pay/Stay  갱신 상품타입  교육수준         소득  \\\n",
              "0    3    피보험자   무직   1                     2.62   0   기본  대학졸업          0   \n",
              "1    1     계약자   고용   0                     6.35   0   기본  고졸이하  102887400   \n",
              "2    2     계약자   휴직   0                     4.97   0   기본  대학졸업   22159500   \n",
              "3    5     계약자   고용   1                    13.48   0   고급  고졸이하   51562500   \n",
              "4    4     계약자   고용   0                     9.78   0   기본    석사   26820200   \n",
              "\n",
              "     지역 결혼여부  월 납입액  VOC 타 상품 보유 현황 온라인방문빈도 갱신인센티브  판매채널    총지불금액   자동차 거주지사이즈  \n",
              "0  도시근교   미혼     80    0          1    자주방문     없음  자사영업   631000  일반세단      소  \n",
              "1    시골   미혼     80    1        4이상     비방문    포인트   인터넷    54000  일반세단      중  \n",
              "2  도시근교   기혼     60    0        4이상     비방문     할인  자사영업   362000  일반세단      중  \n",
              "3  도시근교   기혼    110    0          2     비방문     할인  자사영업  1264000  컴팩트카      대  \n",
              "4  도시근교   기혼    120    0          3     비방문     없음   대리점   947000   SUV      중  "
            ]
          },
          "execution_count": 18,
          "metadata": {},
          "output_type": "execute_result"
        }
      ],
      "source": [
        "# [문제 8] 원본 데이터('customers_seg.csv') 불러오기\n",
        "\n",
        "# 1. scale이 안된 원본 data에 clust를 맵핑 시키기 위해 원본 데이터('customers_seg.csv')도 불러옵시다\n",
        "# data0 라는 변수에 할당하기\n",
        "data0 = pd.read_csv(path+'customers_seg.csv')\n",
        "\n",
        "# 2. 'CID'는 활용하지 않을 예정으로 삭제합니다.\n",
        "data0 = data0.drop('CID', axis =1)\n",
        "\n",
        "# 3. 데이터 상위 5개 확인하기\n",
        "data0.head()"
      ]
    },
    {
      "cell_type": "code",
      "execution_count": 19,
      "id": "0740e020-d1e0-4b17-87b3-994273276908",
      "metadata": {
        "id": "0740e020-d1e0-4b17-87b3-994273276908"
      },
      "outputs": [],
      "source": [
        "# [문제 9] 최적의 k 값으로 k-means 모델을 구성해보자.\n",
        "\n",
        "#1.최적의 k 값으로 군집 수 선택 (k4에 할당)\n",
        "k4= 7\n",
        "\n",
        "# 2. 모델 만들기 (그룹수 : n_clusters 파라미터 사용) (model_B 에 할당)\n",
        "# 동일값을 위해 random_state=2025, n_init=10으로 설정값을 같이 해본다.\n",
        "# [참고]n_init의 기본 값이 10 이나 warning을 없애기 위해 지정해준다.\n",
        "\n",
        "model_B = KMeans(n_clusters=k4, random_state=2025, n_init=10)\n",
        "\n",
        "#3. 스케일링 된 데이터에 학습\n",
        "model_B.fit(data)\n",
        "\n",
        "\n",
        "#4. 클러스터링 된 결과 각 데이터가 몇번째 그룹에 속하는지 확인 및 저장(.predict)\n",
        "\n",
        "cluster = model_B.predict(data)"
      ]
    },
    {
      "cell_type": "code",
      "execution_count": 20,
      "id": "1415cdd5-7840-47b2-923a-9d2dffb1c067",
      "metadata": {
        "id": "1415cdd5-7840-47b2-923a-9d2dffb1c067"
      },
      "outputs": [],
      "source": [
        "# [문제 10] 예측결과와 원본 데이터 합치기\n",
        "\n",
        "#1. 예측 결과를 데이터프레임으로 만들고\n",
        "\n",
        "cluster = pd.DataFrame(cluster, columns = ['cluster'])\n",
        "\n",
        "\n",
        "#2. 원본 데이터와 합쳐서, result로 저장 --> ()안에 작성해보기!\n",
        "\n",
        "result = pd.concat([data0,cluster],axis=1)\n",
        "\n",
        "#3. 예측 결과는 카테고리 타입으로 변경\n",
        "result['cluster'] = pd.Categorical(result['cluster'] )\n",
        "result.head()\n",
        "\n",
        "#4. 결과 저장 --> 코드 마무리!\n",
        "result.to_csv(path+'result.csv',index=False)\n"
      ]
    },
    {
      "cell_type": "markdown",
      "id": "f11f1c33-96b8-4088-b7a2-016f7c0f9252",
      "metadata": {
        "id": "f11f1c33-96b8-4088-b7a2-016f7c0f9252"
      },
      "source": [
        "<b> 각 고객별로 군집 된 번호가 데이터 프레임에 생성한 것을 볼 수 있습니다! 다 왔습니다!\n",
        "\n",
        "* 이제부터 조별 과제를 수행합니다.\n",
        "    * 조 내에서 최적의 K값으로 군집을 수행한 결과(result)를 하나 선정해서\n",
        "    * 모든 조원들이 동일한 데이터를 로딩하고\n",
        "    * 프로파일링을 시작합니다.\n"
      ]
    },
    {
      "cell_type": "markdown",
      "id": "a00a6542-d91a-43a7-afc6-804f648bbf07",
      "metadata": {
        "id": "a00a6542-d91a-43a7-afc6-804f648bbf07"
      },
      "source": [
        "---------------------------------------------------------------------------------------------\n",
        "# **2. 프로파일링**"
      ]
    },
    {
      "cell_type": "markdown",
      "id": "fbc1fc17-c7d5-4b04-801b-f21c44731a05",
      "metadata": {
        "id": "fbc1fc17-c7d5-4b04-801b-f21c44731a05"
      },
      "source": [
        "<b>프로파일링 이란?\n",
        "> <b>군집의 구조와 내용을 분석하고 도메인 및 현업업무의 '추론'을 바탕으로 분석의 결과를 적용 가능하도록 하는 과정. 데이터를 통해서 군집별 특성을 파악하는 것에 목적은 두는 기법"
      ]
    },
    {
      "cell_type": "markdown",
      "id": "3a35df1b",
      "metadata": {
        "id": "3a35df1b"
      },
      "source": [
        "<font color=\"1E90FF\"><b>★ 프로파일링을 위해 군집간의 차이를 도메인 및 업무 관점으로 해석해야한다.</font>\n",
        "\n",
        "* 우리는 총 20개의 컬럼을 clust 별로 업무관점으로 해석하고 정리가 필요하다.\n",
        "  <br>* 범주형/수치형 데이터 별로도 특징과 해석방법이 조금 다르다\n",
        "  <br>* 개인별로 약 6개의 변수에 대한 군집간 차이 분석해보기!(하나의 변수당 2명이상이 분석 수행해야 비교가 된다!)\n",
        "\n",
        "* 도메인 지식을 총 동원 해서 각 컬럼의 clust 별 인사이트를 도출 해 보자!"
      ]
    },
    {
      "cell_type": "markdown",
      "id": "b6f410f9",
      "metadata": {
        "id": "b6f410f9"
      },
      "source": [
        "## **(1) 컬럼 확인해보기**"
      ]
    },
    {
      "cell_type": "code",
      "execution_count": 21,
      "id": "c36c10ae",
      "metadata": {
        "colab": {
          "base_uri": "https://localhost:8080/"
        },
        "id": "c36c10ae",
        "outputId": "e21c370f-9e7c-4c8a-cc2d-f223904b6f6a"
      },
      "outputs": [
        {
          "name": "stdout",
          "output_type": "stream",
          "text": [
            "<class 'pandas.core.frame.DataFrame'>\n",
            "RangeIndex: 12000 entries, 0 to 11999\n",
            "Data columns (total 22 columns):\n",
            " #   Column                   Non-Null Count  Dtype  \n",
            "---  ------                   --------------  -----  \n",
            " 0   Unnamed: 0               12000 non-null  int64  \n",
            " 1   cluster                  12000 non-null  int64  \n",
            " 2   AGE                      12000 non-null  int64  \n",
            " 3   등록(계/피)                  12000 non-null  object \n",
            " 4   고용상태                     12000 non-null  object \n",
            " 5   성별                       12000 non-null  int64  \n",
            " 6   Willingness to pay/Stay  12000 non-null  float64\n",
            " 7   갱신                       12000 non-null  int64  \n",
            " 8   상품타입                     12000 non-null  object \n",
            " 9   교육수준                     12000 non-null  object \n",
            " 10  소득                       12000 non-null  int64  \n",
            " 11  지역                       12000 non-null  object \n",
            " 12  결혼여부                     12000 non-null  object \n",
            " 13  월 납입액                    12000 non-null  int64  \n",
            " 14  VOC                      12000 non-null  int64  \n",
            " 15  타 상품 보유 현황               12000 non-null  object \n",
            " 16  온라인방문빈도                  12000 non-null  object \n",
            " 17  갱신인센티브                   12000 non-null  object \n",
            " 18  판매채널                     12000 non-null  object \n",
            " 19  총지불금액                    12000 non-null  int64  \n",
            " 20  자동차                      12000 non-null  object \n",
            " 21  거주지사이즈                   12000 non-null  object \n",
            "dtypes: float64(1), int64(9), object(12)\n",
            "memory usage: 2.0+ MB\n"
          ]
        }
      ],
      "source": [
        "#[문제 11~12] result에 대해 info를 통해서 범주형/수치형 데이터 확인해보고 어떤 컬럼들이 있었는지 확인\n",
        "# 1. 데이터 불러오기(조에서 하나의 결과를 선정해서 공유)\n",
        "result = pd.read_csv(path+\"group_result.csv\")\n",
        "\n",
        "# 2. info로 확인하기\n",
        "result.info()"
      ]
    },
    {
      "cell_type": "markdown",
      "id": "868be271",
      "metadata": {
        "id": "868be271"
      },
      "source": [
        "<b>cluster 컬럼을 제외하고 그 다음 컬럼인 age 부터 차례대로 군집간의 차이를 업무관점으로 해석해 보기!\n",
        "\n",
        "[tip]\n",
        "* 범주형으로 되어있는 컬럼과 수치형으로 되어있는 컬럼이 해석하는 방법이 다르다.\n",
        "* 컬럼이 어떤 컬럼인지 확인해보고 특징들을 파악해보자."
      ]
    },
    {
      "cell_type": "markdown",
      "id": "f575281c",
      "metadata": {
        "id": "f575281c"
      },
      "source": [
        "----------"
      ]
    },
    {
      "cell_type": "markdown",
      "id": "45b776d6-e18f-4bb7-a2ba-ffd6c651f685",
      "metadata": {
        "id": "45b776d6-e18f-4bb7-a2ba-ffd6c651f685"
      },
      "source": [
        "### **1) AGE**"
      ]
    },
    {
      "cell_type": "code",
      "execution_count": 22,
      "id": "dbb046aa-cd9b-48a2-aee5-68493fd2303a",
      "metadata": {
        "colab": {
          "base_uri": "https://localhost:8080/",
          "height": 782
        },
        "id": "dbb046aa-cd9b-48a2-aee5-68493fd2303a",
        "outputId": "e655fa4c-ff64-483e-d8d8-cc76ba9e1022"
      },
      "outputs": [
        {
          "data": {
            "text/html": [
              "<div>\n",
              "<style scoped>\n",
              "    .dataframe tbody tr th:only-of-type {\n",
              "        vertical-align: middle;\n",
              "    }\n",
              "\n",
              "    .dataframe tbody tr th {\n",
              "        vertical-align: top;\n",
              "    }\n",
              "\n",
              "    .dataframe thead th {\n",
              "        text-align: right;\n",
              "    }\n",
              "</style>\n",
              "<table border=\"1\" class=\"dataframe\">\n",
              "  <thead>\n",
              "    <tr style=\"text-align: right;\">\n",
              "      <th>cluster</th>\n",
              "      <th>0</th>\n",
              "      <th>1</th>\n",
              "      <th>2</th>\n",
              "      <th>3</th>\n",
              "      <th>4</th>\n",
              "      <th>5</th>\n",
              "      <th>6</th>\n",
              "      <th>All</th>\n",
              "      <th>0</th>\n",
              "      <th>1</th>\n",
              "      <th>2</th>\n",
              "      <th>3</th>\n",
              "      <th>4</th>\n",
              "      <th>5</th>\n",
              "      <th>6</th>\n",
              "      <th>All</th>\n",
              "    </tr>\n",
              "    <tr>\n",
              "      <th>AGE</th>\n",
              "      <th></th>\n",
              "      <th></th>\n",
              "      <th></th>\n",
              "      <th></th>\n",
              "      <th></th>\n",
              "      <th></th>\n",
              "      <th></th>\n",
              "      <th></th>\n",
              "      <th></th>\n",
              "      <th></th>\n",
              "      <th></th>\n",
              "      <th></th>\n",
              "      <th></th>\n",
              "      <th></th>\n",
              "      <th></th>\n",
              "      <th></th>\n",
              "    </tr>\n",
              "  </thead>\n",
              "  <tbody>\n",
              "    <tr>\n",
              "      <th>1</th>\n",
              "      <td>88</td>\n",
              "      <td>0</td>\n",
              "      <td>0</td>\n",
              "      <td>1017</td>\n",
              "      <td>149</td>\n",
              "      <td>177</td>\n",
              "      <td>23</td>\n",
              "      <td>1454</td>\n",
              "      <td>0.09</td>\n",
              "      <td>0.00</td>\n",
              "      <td>0.00</td>\n",
              "      <td>0.64</td>\n",
              "      <td>0.14</td>\n",
              "      <td>0.16</td>\n",
              "      <td>0.02</td>\n",
              "      <td>0.12</td>\n",
              "    </tr>\n",
              "    <tr>\n",
              "      <th>2</th>\n",
              "      <td>108</td>\n",
              "      <td>0</td>\n",
              "      <td>480</td>\n",
              "      <td>572</td>\n",
              "      <td>142</td>\n",
              "      <td>163</td>\n",
              "      <td>73</td>\n",
              "      <td>1538</td>\n",
              "      <td>0.11</td>\n",
              "      <td>0.00</td>\n",
              "      <td>0.16</td>\n",
              "      <td>0.36</td>\n",
              "      <td>0.13</td>\n",
              "      <td>0.15</td>\n",
              "      <td>0.07</td>\n",
              "      <td>0.13</td>\n",
              "    </tr>\n",
              "    <tr>\n",
              "      <th>3</th>\n",
              "      <td>337</td>\n",
              "      <td>980</td>\n",
              "      <td>2223</td>\n",
              "      <td>0</td>\n",
              "      <td>484</td>\n",
              "      <td>367</td>\n",
              "      <td>384</td>\n",
              "      <td>4775</td>\n",
              "      <td>0.35</td>\n",
              "      <td>0.30</td>\n",
              "      <td>0.74</td>\n",
              "      <td>0.00</td>\n",
              "      <td>0.45</td>\n",
              "      <td>0.34</td>\n",
              "      <td>0.39</td>\n",
              "      <td>0.40</td>\n",
              "    </tr>\n",
              "    <tr>\n",
              "      <th>4</th>\n",
              "      <td>220</td>\n",
              "      <td>1769</td>\n",
              "      <td>316</td>\n",
              "      <td>0</td>\n",
              "      <td>250</td>\n",
              "      <td>308</td>\n",
              "      <td>261</td>\n",
              "      <td>3124</td>\n",
              "      <td>0.23</td>\n",
              "      <td>0.54</td>\n",
              "      <td>0.10</td>\n",
              "      <td>0.00</td>\n",
              "      <td>0.23</td>\n",
              "      <td>0.28</td>\n",
              "      <td>0.27</td>\n",
              "      <td>0.26</td>\n",
              "    </tr>\n",
              "    <tr>\n",
              "      <th>5</th>\n",
              "      <td>187</td>\n",
              "      <td>547</td>\n",
              "      <td>0</td>\n",
              "      <td>0</td>\n",
              "      <td>54</td>\n",
              "      <td>64</td>\n",
              "      <td>205</td>\n",
              "      <td>1057</td>\n",
              "      <td>0.20</td>\n",
              "      <td>0.17</td>\n",
              "      <td>0.00</td>\n",
              "      <td>0.00</td>\n",
              "      <td>0.05</td>\n",
              "      <td>0.06</td>\n",
              "      <td>0.21</td>\n",
              "      <td>0.09</td>\n",
              "    </tr>\n",
              "    <tr>\n",
              "      <th>6</th>\n",
              "      <td>11</td>\n",
              "      <td>11</td>\n",
              "      <td>0</td>\n",
              "      <td>0</td>\n",
              "      <td>0</td>\n",
              "      <td>1</td>\n",
              "      <td>29</td>\n",
              "      <td>52</td>\n",
              "      <td>0.01</td>\n",
              "      <td>0.00</td>\n",
              "      <td>0.00</td>\n",
              "      <td>0.00</td>\n",
              "      <td>0.00</td>\n",
              "      <td>0.00</td>\n",
              "      <td>0.03</td>\n",
              "      <td>0.00</td>\n",
              "    </tr>\n",
              "    <tr>\n",
              "      <th>All</th>\n",
              "      <td>951</td>\n",
              "      <td>3307</td>\n",
              "      <td>3019</td>\n",
              "      <td>1589</td>\n",
              "      <td>1079</td>\n",
              "      <td>1080</td>\n",
              "      <td>975</td>\n",
              "      <td>12000</td>\n",
              "      <td>NaN</td>\n",
              "      <td>NaN</td>\n",
              "      <td>NaN</td>\n",
              "      <td>NaN</td>\n",
              "      <td>NaN</td>\n",
              "      <td>NaN</td>\n",
              "      <td>NaN</td>\n",
              "      <td>NaN</td>\n",
              "    </tr>\n",
              "  </tbody>\n",
              "</table>\n",
              "</div>"
            ],
            "text/plain": [
              "cluster    0     1     2     3     4     5    6    All    0    1    2    3  \\\n",
              "AGE                                                                          \n",
              "1         88     0     0  1017   149   177   23   1454 0.09 0.00 0.00 0.64   \n",
              "2        108     0   480   572   142   163   73   1538 0.11 0.00 0.16 0.36   \n",
              "3        337   980  2223     0   484   367  384   4775 0.35 0.30 0.74 0.00   \n",
              "4        220  1769   316     0   250   308  261   3124 0.23 0.54 0.10 0.00   \n",
              "5        187   547     0     0    54    64  205   1057 0.20 0.17 0.00 0.00   \n",
              "6         11    11     0     0     0     1   29     52 0.01 0.00 0.00 0.00   \n",
              "All      951  3307  3019  1589  1079  1080  975  12000  NaN  NaN  NaN  NaN   \n",
              "\n",
              "cluster    4    5    6  All  \n",
              "AGE                          \n",
              "1       0.14 0.16 0.02 0.12  \n",
              "2       0.13 0.15 0.07 0.13  \n",
              "3       0.45 0.34 0.39 0.40  \n",
              "4       0.23 0.28 0.27 0.26  \n",
              "5       0.05 0.06 0.21 0.09  \n",
              "6       0.00 0.00 0.03 0.00  \n",
              "All      NaN  NaN  NaN  NaN  "
            ]
          },
          "metadata": {},
          "output_type": "display_data"
        },
        {
          "data": {
            "image/png": "[encoded data removed]",
            "text/plain": [
              "<Figure size 800x550 with 3 Axes>"
            ]
          },
          "metadata": {},
          "output_type": "display_data"
        }
      ],
      "source": [
        "# [같이 하기] 'Age' 열에 대해 crosstab을 활용해서 clust별 범주별 합계를 확인 해보자.\n",
        "# crosstab의 margins='True'을 활용하면 행 합, 열 합을 추가할 수 있다.\n",
        "# pro_df 변수에 할당해서 확인해보자.\n",
        "\n",
        "feature = 'AGE'\n",
        "\n",
        "pro_df1 = pd.crosstab([result[feature]], result['cluster'], margins=True)\n",
        "\n",
        "# 비율로도 한번 확인 해보자.\n",
        "\n",
        "pro_df2 = pd.crosstab([result[feature]], result['cluster'], margins=True, normalize='columns')\n",
        "pro_df2 = pro_df2.round(3)\n",
        "\n",
        "# 합치기, concat\n",
        "pro_df = pd.concat([pro_df1, pro_df2], axis=1)\n",
        "\n",
        "# pro_df 확인\n",
        "display(pro_df)\n",
        "\n",
        "# 시각화를 해 봅시다.\n",
        "mosaic(result.sort_values('cluster'), [ 'cluster', feature])\n",
        "plt.show()"
      ]
    },
    {
      "cell_type": "markdown",
      "id": "e75a3efa",
      "metadata": {
        "id": "e75a3efa"
      },
      "source": [
        "<b>**'age' 변수에 대한 클러스터별 특징을 파악해보고 아래 주석에 적어보자!**\n",
        "( 바로 ppt에 작성을 해도 상관없다)"
      ]
    },
    {
      "cell_type": "code",
      "execution_count": 23,
      "id": "08818c69",
      "metadata": {
        "id": "08818c69"
      },
      "outputs": [],
      "source": [
        "#[같이 하기]\n",
        "\n",
        "# 가장 많은 데이터가 존재하는 클러스터 : 1\n",
        "# 두번째로 많은 데이터가 존재하는 클러스터 : 2\n",
        "\n",
        "# 1 = 20대 / ... / 6 = 70대\n",
        "\n",
        "# 0 - 3이 가장 많음. 3,4를 중심으로 정규분포 같은 형태의 비율로 존재함.\n",
        "# 1 - 3,4,5,6만 존재. 주로 4가 대부분이고(54%) 3(34%), 5(17%) 순으로 많음. 6은은 극소수(1%미만)이기에 이상치로 봐도 무방할 것 같음.\n",
        "# 2 - 2,3,4만 존재하며재하며 3이 대부분이고(74%) 2(16%)와 4(10%)가 조금씩 있음.\n",
        "# 3 - 1과 2의 데이터만 존재함. 6:4정도의 비율 (64:36 / 1,2)\n",
        "# 4 - 3이 제일 많고(45%) 4가 그 다음(23%). 1과 2는 비슷하게 분포(14% 13%) 5도 소수(5%) / 6이 없음.\n",
        "# 5 - 3,4가 제일 많이 분포, 3,4의 절반정도 데이터가 1,2에 분포, 소량의 5\n",
        "# 6 - 3,4,5가 대부분을 차지함지함 2,1,6 순의 데이터도 존재. 6번클러스터에서만 6의 데이터 비율이 3%로 의미 있는 비율로 존재.\n",
        "\n",
        "#클러스터 1, 2, 3이 특정 값만 있다는 것이 특징"
      ]
    },
    {
      "cell_type": "markdown",
      "id": "71f67544-e083-4a4f-bad0-6c82e2496872",
      "metadata": {
        "id": "71f67544-e083-4a4f-bad0-6c82e2496872"
      },
      "source": [
        "### **2) 등록(계/피)**"
      ]
    },
    {
      "cell_type": "code",
      "execution_count": 24,
      "id": "0102d309-7d4b-4c93-b007-2642cb4d6a9e",
      "metadata": {
        "colab": {
          "base_uri": "https://localhost:8080/",
          "height": 641
        },
        "id": "0102d309-7d4b-4c93-b007-2642cb4d6a9e",
        "outputId": "3139ce6f-27cd-4269-e2c9-4c969f054b52"
      },
      "outputs": [
        {
          "data": {
            "text/html": [
              "<div>\n",
              "<style scoped>\n",
              "    .dataframe tbody tr th:only-of-type {\n",
              "        vertical-align: middle;\n",
              "    }\n",
              "\n",
              "    .dataframe tbody tr th {\n",
              "        vertical-align: top;\n",
              "    }\n",
              "\n",
              "    .dataframe thead th {\n",
              "        text-align: right;\n",
              "    }\n",
              "</style>\n",
              "<table border=\"1\" class=\"dataframe\">\n",
              "  <thead>\n",
              "    <tr style=\"text-align: right;\">\n",
              "      <th>cluster</th>\n",
              "      <th>0</th>\n",
              "      <th>1</th>\n",
              "      <th>2</th>\n",
              "      <th>3</th>\n",
              "      <th>4</th>\n",
              "      <th>5</th>\n",
              "      <th>6</th>\n",
              "      <th>All</th>\n",
              "      <th>0</th>\n",
              "      <th>1</th>\n",
              "      <th>2</th>\n",
              "      <th>3</th>\n",
              "      <th>4</th>\n",
              "      <th>5</th>\n",
              "      <th>6</th>\n",
              "      <th>All</th>\n",
              "    </tr>\n",
              "    <tr>\n",
              "      <th>등록(계/피)</th>\n",
              "      <th></th>\n",
              "      <th></th>\n",
              "      <th></th>\n",
              "      <th></th>\n",
              "      <th></th>\n",
              "      <th></th>\n",
              "      <th></th>\n",
              "      <th></th>\n",
              "      <th></th>\n",
              "      <th></th>\n",
              "      <th></th>\n",
              "      <th></th>\n",
              "      <th></th>\n",
              "      <th></th>\n",
              "      <th></th>\n",
              "      <th></th>\n",
              "    </tr>\n",
              "  </thead>\n",
              "  <tbody>\n",
              "    <tr>\n",
              "      <th>계약자</th>\n",
              "      <td>747</td>\n",
              "      <td>2572</td>\n",
              "      <td>2388</td>\n",
              "      <td>1225</td>\n",
              "      <td>852</td>\n",
              "      <td>875</td>\n",
              "      <td>766</td>\n",
              "      <td>9425</td>\n",
              "      <td>0.79</td>\n",
              "      <td>0.78</td>\n",
              "      <td>0.79</td>\n",
              "      <td>0.77</td>\n",
              "      <td>0.79</td>\n",
              "      <td>0.81</td>\n",
              "      <td>0.79</td>\n",
              "      <td>0.79</td>\n",
              "    </tr>\n",
              "    <tr>\n",
              "      <th>피보험자</th>\n",
              "      <td>204</td>\n",
              "      <td>735</td>\n",
              "      <td>631</td>\n",
              "      <td>364</td>\n",
              "      <td>227</td>\n",
              "      <td>205</td>\n",
              "      <td>209</td>\n",
              "      <td>2575</td>\n",
              "      <td>0.21</td>\n",
              "      <td>0.22</td>\n",
              "      <td>0.21</td>\n",
              "      <td>0.23</td>\n",
              "      <td>0.21</td>\n",
              "      <td>0.19</td>\n",
              "      <td>0.21</td>\n",
              "      <td>0.21</td>\n",
              "    </tr>\n",
              "    <tr>\n",
              "      <th>All</th>\n",
              "      <td>951</td>\n",
              "      <td>3307</td>\n",
              "      <td>3019</td>\n",
              "      <td>1589</td>\n",
              "      <td>1079</td>\n",
              "      <td>1080</td>\n",
              "      <td>975</td>\n",
              "      <td>12000</td>\n",
              "      <td>NaN</td>\n",
              "      <td>NaN</td>\n",
              "      <td>NaN</td>\n",
              "      <td>NaN</td>\n",
              "      <td>NaN</td>\n",
              "      <td>NaN</td>\n",
              "      <td>NaN</td>\n",
              "      <td>NaN</td>\n",
              "    </tr>\n",
              "  </tbody>\n",
              "</table>\n",
              "</div>"
            ],
            "text/plain": [
              "cluster    0     1     2     3     4     5    6    All    0    1    2    3  \\\n",
              "등록(계/피)                                                                      \n",
              "계약자      747  2572  2388  1225   852   875  766   9425 0.79 0.78 0.79 0.77   \n",
              "피보험자     204   735   631   364   227   205  209   2575 0.21 0.22 0.21 0.23   \n",
              "All      951  3307  3019  1589  1079  1080  975  12000  NaN  NaN  NaN  NaN   \n",
              "\n",
              "cluster    4    5    6  All  \n",
              "등록(계/피)                      \n",
              "계약자     0.79 0.81 0.79 0.79  \n",
              "피보험자    0.21 0.19 0.21 0.21  \n",
              "All      NaN  NaN  NaN  NaN  "
            ]
          },
          "metadata": {},
          "output_type": "display_data"
        },
        {
          "data": {
            "image/png": "[encoded data removed]",
            "text/plain": [
              "<Figure size 800x550 with 3 Axes>"
            ]
          },
          "metadata": {},
          "output_type": "display_data"
        }
      ],
      "source": [
        "# [문제 13] '등록(계/피)' 열에 대해 crosstab을 활용해서 clust별 범주별 합계를 확인 해보자.\n",
        "feature = '등록(계/피)'\n",
        "\n",
        "pro_df1 = pd.crosstab([result[feature]], result['cluster'], margins=True)\n",
        "\n",
        "pro_df2 = pd.crosstab([result[feature]], result['cluster'], margins=True, normalize='columns')\n",
        "pro_df2 = pro_df2.round(3)\n",
        "\n",
        "pro_df = pd.concat([pro_df1, pro_df2], axis=1)\n",
        "\n",
        "display(pro_df)\n",
        "\n",
        "mosaic(result.sort_values('cluster'), [ 'cluster', feature])\n",
        "plt.show()"
      ]
    },
    {
      "cell_type": "markdown",
      "id": "1cc1cee2",
      "metadata": {
        "id": "1cc1cee2"
      },
      "source": [
        "<b>**'등록(계/피)' 변수에 대한 클러스터별 특징을 파악해보고 아래 주석에 적어보자!**\n",
        "( 바로 ppt에 작성을 해도 상관없다)"
      ]
    },
    {
      "cell_type": "code",
      "execution_count": 25,
      "id": "fa1f4c68",
      "metadata": {
        "id": "fa1f4c68"
      },
      "outputs": [],
      "source": [
        "#[문제 14]\n",
        "# 대부분의 클러스터에서 계약자와 피봇험자의 비율이 비슷함. 약 8대 2의 비율\n",
        "# 클러스터를 나누는 특징이 되지 못하는 것 같음."
      ]
    },
    {
      "cell_type": "markdown",
      "id": "6802cd20-3358-4d4e-af7b-bd49fc74b6ed",
      "metadata": {
        "id": "6802cd20-3358-4d4e-af7b-bd49fc74b6ed"
      },
      "source": [
        "### **3) 성별**"
      ]
    },
    {
      "cell_type": "code",
      "execution_count": 26,
      "id": "9e584810-6c8b-466b-97a9-c0168b8380d8",
      "metadata": {
        "colab": {
          "base_uri": "https://localhost:8080/",
          "height": 642
        },
        "id": "9e584810-6c8b-466b-97a9-c0168b8380d8",
        "outputId": "ce64f409-c323-4558-e2df-336b6d459bdf"
      },
      "outputs": [
        {
          "data": {
            "text/html": [
              "<div>\n",
              "<style scoped>\n",
              "    .dataframe tbody tr th:only-of-type {\n",
              "        vertical-align: middle;\n",
              "    }\n",
              "\n",
              "    .dataframe tbody tr th {\n",
              "        vertical-align: top;\n",
              "    }\n",
              "\n",
              "    .dataframe thead th {\n",
              "        text-align: right;\n",
              "    }\n",
              "</style>\n",
              "<table border=\"1\" class=\"dataframe\">\n",
              "  <thead>\n",
              "    <tr style=\"text-align: right;\">\n",
              "      <th>cluster</th>\n",
              "      <th>0</th>\n",
              "      <th>1</th>\n",
              "      <th>2</th>\n",
              "      <th>3</th>\n",
              "      <th>4</th>\n",
              "      <th>5</th>\n",
              "      <th>6</th>\n",
              "      <th>All</th>\n",
              "      <th>0</th>\n",
              "      <th>1</th>\n",
              "      <th>2</th>\n",
              "      <th>3</th>\n",
              "      <th>4</th>\n",
              "      <th>5</th>\n",
              "      <th>6</th>\n",
              "      <th>All</th>\n",
              "    </tr>\n",
              "    <tr>\n",
              "      <th>성별</th>\n",
              "      <th></th>\n",
              "      <th></th>\n",
              "      <th></th>\n",
              "      <th></th>\n",
              "      <th></th>\n",
              "      <th></th>\n",
              "      <th></th>\n",
              "      <th></th>\n",
              "      <th></th>\n",
              "      <th></th>\n",
              "      <th></th>\n",
              "      <th></th>\n",
              "      <th></th>\n",
              "      <th></th>\n",
              "      <th></th>\n",
              "      <th></th>\n",
              "    </tr>\n",
              "  </thead>\n",
              "  <tbody>\n",
              "    <tr>\n",
              "      <th>0</th>\n",
              "      <td>486</td>\n",
              "      <td>1712</td>\n",
              "      <td>1509</td>\n",
              "      <td>816</td>\n",
              "      <td>596</td>\n",
              "      <td>553</td>\n",
              "      <td>477</td>\n",
              "      <td>6149</td>\n",
              "      <td>0.51</td>\n",
              "      <td>0.52</td>\n",
              "      <td>0.50</td>\n",
              "      <td>0.51</td>\n",
              "      <td>0.55</td>\n",
              "      <td>0.51</td>\n",
              "      <td>0.49</td>\n",
              "      <td>0.51</td>\n",
              "    </tr>\n",
              "    <tr>\n",
              "      <th>1</th>\n",
              "      <td>465</td>\n",
              "      <td>1595</td>\n",
              "      <td>1510</td>\n",
              "      <td>773</td>\n",
              "      <td>483</td>\n",
              "      <td>527</td>\n",
              "      <td>498</td>\n",
              "      <td>5851</td>\n",
              "      <td>0.49</td>\n",
              "      <td>0.48</td>\n",
              "      <td>0.50</td>\n",
              "      <td>0.49</td>\n",
              "      <td>0.45</td>\n",
              "      <td>0.49</td>\n",
              "      <td>0.51</td>\n",
              "      <td>0.49</td>\n",
              "    </tr>\n",
              "    <tr>\n",
              "      <th>All</th>\n",
              "      <td>951</td>\n",
              "      <td>3307</td>\n",
              "      <td>3019</td>\n",
              "      <td>1589</td>\n",
              "      <td>1079</td>\n",
              "      <td>1080</td>\n",
              "      <td>975</td>\n",
              "      <td>12000</td>\n",
              "      <td>NaN</td>\n",
              "      <td>NaN</td>\n",
              "      <td>NaN</td>\n",
              "      <td>NaN</td>\n",
              "      <td>NaN</td>\n",
              "      <td>NaN</td>\n",
              "      <td>NaN</td>\n",
              "      <td>NaN</td>\n",
              "    </tr>\n",
              "  </tbody>\n",
              "</table>\n",
              "</div>"
            ],
            "text/plain": [
              "cluster    0     1     2     3     4     5    6    All    0    1    2    3  \\\n",
              "성별                                                                           \n",
              "0        486  1712  1509   816   596   553  477   6149 0.51 0.52 0.50 0.51   \n",
              "1        465  1595  1510   773   483   527  498   5851 0.49 0.48 0.50 0.49   \n",
              "All      951  3307  3019  1589  1079  1080  975  12000  NaN  NaN  NaN  NaN   \n",
              "\n",
              "cluster    4    5    6  All  \n",
              "성별                           \n",
              "0       0.55 0.51 0.49 0.51  \n",
              "1       0.45 0.49 0.51 0.49  \n",
              "All      NaN  NaN  NaN  NaN  "
            ]
          },
          "metadata": {},
          "output_type": "display_data"
        },
        {
          "data": {
            "image/png": "[encoded data removed]",
            "text/plain": [
              "<Figure size 800x550 with 3 Axes>"
            ]
          },
          "metadata": {},
          "output_type": "display_data"
        }
      ],
      "source": [
        "# [문제 15] '성별' 열에 대해 crosstab을 활용해서 clust별 범주별 합계를 확인 해보자.\n",
        "\n",
        "feature = '성별'\n",
        "\n",
        "pro_df1 = pd.crosstab([result[feature]], result['cluster'], margins=True)\n",
        "\n",
        "pro_df2 = pd.crosstab([result[feature]], result['cluster'], margins=True, normalize='columns')\n",
        "pro_df2 = pro_df2.round(3)\n",
        "\n",
        "pro_df = pd.concat([pro_df1, pro_df2], axis=1)\n",
        "\n",
        "display(pro_df)\n",
        "\n",
        "mosaic(result.sort_values('cluster'), [ 'cluster', feature])\n",
        "plt.show()"
      ]
    },
    {
      "cell_type": "markdown",
      "id": "dda23558",
      "metadata": {
        "id": "dda23558"
      },
      "source": [
        "<b>**'성별' 변수에 대한 클러스터별 특징을 파악해보고 아래 주석에 적어보자!**\n",
        "( 바로 ppt에 작성을 해도 상관없다)"
      ]
    },
    {
      "cell_type": "code",
      "execution_count": 27,
      "id": "33d2c97d",
      "metadata": {
        "id": "33d2c97d"
      },
      "outputs": [],
      "source": [
        "#[문제16]\n",
        "# 모든 클러스터가 대부분 5:5에 가깝게 분포\n",
        "# 클러스터를 나누는 특징이 되지 못하는 것 같음."
      ]
    },
    {
      "cell_type": "markdown",
      "id": "06718f52-2368-46bc-93e5-135beedba1b7",
      "metadata": {
        "id": "06718f52-2368-46bc-93e5-135beedba1b7"
      },
      "source": [
        "### **4) willingness to pay/stay(수치)**"
      ]
    },
    {
      "cell_type": "code",
      "execution_count": 28,
      "id": "32eee39c-41ee-480c-8c46-7791a2ccdbb3",
      "metadata": {
        "colab": {
          "base_uri": "https://localhost:8080/",
          "height": 817
        },
        "id": "32eee39c-41ee-480c-8c46-7791a2ccdbb3",
        "outputId": "e754066d-c28a-49d3-c4b3-a5120a6018b5"
      },
      "outputs": [
        {
          "data": {
            "text/html": [
              "<div>\n",
              "<style scoped>\n",
              "    .dataframe tbody tr th:only-of-type {\n",
              "        vertical-align: middle;\n",
              "    }\n",
              "\n",
              "    .dataframe tbody tr th {\n",
              "        vertical-align: top;\n",
              "    }\n",
              "\n",
              "    .dataframe thead tr th {\n",
              "        text-align: left;\n",
              "    }\n",
              "\n",
              "    .dataframe thead tr:last-of-type th {\n",
              "        text-align: right;\n",
              "    }\n",
              "</style>\n",
              "<table border=\"1\" class=\"dataframe\">\n",
              "  <thead>\n",
              "    <tr>\n",
              "      <th></th>\n",
              "      <th colspan=\"4\" halign=\"left\">Willingness to pay/Stay</th>\n",
              "    </tr>\n",
              "    <tr>\n",
              "      <th></th>\n",
              "      <th>max</th>\n",
              "      <th>min</th>\n",
              "      <th>mean</th>\n",
              "      <th>median</th>\n",
              "    </tr>\n",
              "    <tr>\n",
              "      <th>cluster</th>\n",
              "      <th></th>\n",
              "      <th></th>\n",
              "      <th></th>\n",
              "      <th></th>\n",
              "    </tr>\n",
              "  </thead>\n",
              "  <tbody>\n",
              "    <tr>\n",
              "      <th>0</th>\n",
              "      <td>65.21</td>\n",
              "      <td>3.52</td>\n",
              "      <td>11.63</td>\n",
              "      <td>9.42</td>\n",
              "    </tr>\n",
              "    <tr>\n",
              "      <th>1</th>\n",
              "      <td>52.35</td>\n",
              "      <td>2.51</td>\n",
              "      <td>8.08</td>\n",
              "      <td>6.16</td>\n",
              "    </tr>\n",
              "    <tr>\n",
              "      <th>2</th>\n",
              "      <td>49.69</td>\n",
              "      <td>2.05</td>\n",
              "      <td>7.68</td>\n",
              "      <td>5.67</td>\n",
              "    </tr>\n",
              "    <tr>\n",
              "      <th>3</th>\n",
              "      <td>54.86</td>\n",
              "      <td>2.47</td>\n",
              "      <td>8.10</td>\n",
              "      <td>6.19</td>\n",
              "    </tr>\n",
              "    <tr>\n",
              "      <th>4</th>\n",
              "      <td>51.74</td>\n",
              "      <td>2.09</td>\n",
              "      <td>7.53</td>\n",
              "      <td>5.79</td>\n",
              "    </tr>\n",
              "    <tr>\n",
              "      <th>5</th>\n",
              "      <td>49.79</td>\n",
              "      <td>2.44</td>\n",
              "      <td>8.22</td>\n",
              "      <td>6.01</td>\n",
              "    </tr>\n",
              "    <tr>\n",
              "      <th>6</th>\n",
              "      <td>92.50</td>\n",
              "      <td>3.41</td>\n",
              "      <td>15.85</td>\n",
              "      <td>11.24</td>\n",
              "    </tr>\n",
              "  </tbody>\n",
              "</table>\n",
              "</div>"
            ],
            "text/plain": [
              "        Willingness to pay/Stay                  \n",
              "                            max  min  mean median\n",
              "cluster                                          \n",
              "0                         65.21 3.52 11.63   9.42\n",
              "1                         52.35 2.51  8.08   6.16\n",
              "2                         49.69 2.05  7.68   5.67\n",
              "3                         54.86 2.47  8.10   6.19\n",
              "4                         51.74 2.09  7.53   5.79\n",
              "5                         49.79 2.44  8.22   6.01\n",
              "6                         92.50 3.41 15.85  11.24"
            ]
          },
          "metadata": {},
          "output_type": "display_data"
        },
        {
          "data": {
            "image/png": "[encoded data removed]",
            "text/plain": [
              "<Figure size 800x550 with 1 Axes>"
            ]
          },
          "metadata": {},
          "output_type": "display_data"
        }
      ],
      "source": [
        "# [같이 하기] WTP의 경우 '보험 유지 기대 확률'로 각 clust 별 min,max,mean,median 통계 값으로 확인해보자.\n",
        "# groupby 와 agg() 메소드를 활용하여 도출해 보자.\n",
        "\n",
        "feature = 'Willingness to pay/Stay'\n",
        "display(result[['cluster',feature]].groupby(['cluster']).agg(['max','min','mean','median']))\n",
        "\n",
        "# 시각화를 해 봅시다.\n",
        "sns.barplot(x='cluster', y=feature, data=result, palette='cool')\n",
        "plt.show()\n"
      ]
    },
    {
      "cell_type": "markdown",
      "id": "5b288ceb",
      "metadata": {
        "id": "5b288ceb"
      },
      "source": [
        "<b>**'WTP' 변수에 대한 클러스터별 특징을 파악해보고 아래 주석에 적어보자!**\n",
        "( 바로 ppt에 작성을 해도 상관없다)"
      ]
    },
    {
      "cell_type": "code",
      "execution_count": 29,
      "id": "f5972b2c",
      "metadata": {
        "id": "f5972b2c"
      },
      "outputs": [],
      "source": [
        "# [같이 하기]\n",
        "# 2가 가장 높은 확률을 가짐. 분포 범위가 가장 넓음.\n",
        "# 2를 제외한 다른 클러스터들보다 약간 높은 확률 값을 가짐. 최대는 75정도, 최소는 3정도도, 중앙값은 9.42\n",
        "# 클러스터 0,2를 제외하고는 평균값 8, 최솟값 2, 최댓값 50 정도의 범위에 분포되어있음. 중앙값은 6정도.\n",
        "\n",
        "# 클러스터 0과 2를 제외하고는 특징을 구별해내기 어려울 것 같음."
      ]
    },
    {
      "cell_type": "markdown",
      "id": "32880871-e132-4b05-8dd2-cba31997fe06",
      "metadata": {
        "id": "32880871-e132-4b05-8dd2-cba31997fe06"
      },
      "source": [
        "### **5) 상품 타입**"
      ]
    },
    {
      "cell_type": "code",
      "execution_count": 30,
      "id": "dfdeded9-5e55-4c82-a311-4887ac790046",
      "metadata": {
        "colab": {
          "base_uri": "https://localhost:8080/",
          "height": 686
        },
        "id": "dfdeded9-5e55-4c82-a311-4887ac790046",
        "outputId": "3b73a28b-3c63-421c-f040-268378acbc4c"
      },
      "outputs": [
        {
          "data": {
            "text/html": [
              "<div>\n",
              "<style scoped>\n",
              "    .dataframe tbody tr th:only-of-type {\n",
              "        vertical-align: middle;\n",
              "    }\n",
              "\n",
              "    .dataframe tbody tr th {\n",
              "        vertical-align: top;\n",
              "    }\n",
              "\n",
              "    .dataframe thead th {\n",
              "        text-align: right;\n",
              "    }\n",
              "</style>\n",
              "<table border=\"1\" class=\"dataframe\">\n",
              "  <thead>\n",
              "    <tr style=\"text-align: right;\">\n",
              "      <th>cluster</th>\n",
              "      <th>0</th>\n",
              "      <th>1</th>\n",
              "      <th>2</th>\n",
              "      <th>3</th>\n",
              "      <th>4</th>\n",
              "      <th>5</th>\n",
              "      <th>6</th>\n",
              "      <th>All</th>\n",
              "      <th>0</th>\n",
              "      <th>1</th>\n",
              "      <th>2</th>\n",
              "      <th>3</th>\n",
              "      <th>4</th>\n",
              "      <th>5</th>\n",
              "      <th>6</th>\n",
              "      <th>All</th>\n",
              "    </tr>\n",
              "    <tr>\n",
              "      <th>상품타입</th>\n",
              "      <th></th>\n",
              "      <th></th>\n",
              "      <th></th>\n",
              "      <th></th>\n",
              "      <th></th>\n",
              "      <th></th>\n",
              "      <th></th>\n",
              "      <th></th>\n",
              "      <th></th>\n",
              "      <th></th>\n",
              "      <th></th>\n",
              "      <th></th>\n",
              "      <th></th>\n",
              "      <th></th>\n",
              "      <th></th>\n",
              "      <th></th>\n",
              "    </tr>\n",
              "  </thead>\n",
              "  <tbody>\n",
              "    <tr>\n",
              "      <th>고급</th>\n",
              "      <td>951</td>\n",
              "      <td>0</td>\n",
              "      <td>0</td>\n",
              "      <td>0</td>\n",
              "      <td>1</td>\n",
              "      <td>0</td>\n",
              "      <td>123</td>\n",
              "      <td>1075</td>\n",
              "      <td>1.00</td>\n",
              "      <td>0.00</td>\n",
              "      <td>0.00</td>\n",
              "      <td>0.00</td>\n",
              "      <td>0.00</td>\n",
              "      <td>0.00</td>\n",
              "      <td>0.13</td>\n",
              "      <td>0.09</td>\n",
              "    </tr>\n",
              "    <tr>\n",
              "      <th>기본</th>\n",
              "      <td>0</td>\n",
              "      <td>2212</td>\n",
              "      <td>2004</td>\n",
              "      <td>1123</td>\n",
              "      <td>699</td>\n",
              "      <td>709</td>\n",
              "      <td>531</td>\n",
              "      <td>7278</td>\n",
              "      <td>0.00</td>\n",
              "      <td>0.67</td>\n",
              "      <td>0.66</td>\n",
              "      <td>0.71</td>\n",
              "      <td>0.65</td>\n",
              "      <td>0.66</td>\n",
              "      <td>0.55</td>\n",
              "      <td>0.61</td>\n",
              "    </tr>\n",
              "    <tr>\n",
              "      <th>중급</th>\n",
              "      <td>0</td>\n",
              "      <td>1095</td>\n",
              "      <td>1015</td>\n",
              "      <td>466</td>\n",
              "      <td>379</td>\n",
              "      <td>371</td>\n",
              "      <td>321</td>\n",
              "      <td>3647</td>\n",
              "      <td>0.00</td>\n",
              "      <td>0.33</td>\n",
              "      <td>0.34</td>\n",
              "      <td>0.29</td>\n",
              "      <td>0.35</td>\n",
              "      <td>0.34</td>\n",
              "      <td>0.33</td>\n",
              "      <td>0.30</td>\n",
              "    </tr>\n",
              "    <tr>\n",
              "      <th>All</th>\n",
              "      <td>951</td>\n",
              "      <td>3307</td>\n",
              "      <td>3019</td>\n",
              "      <td>1589</td>\n",
              "      <td>1079</td>\n",
              "      <td>1080</td>\n",
              "      <td>975</td>\n",
              "      <td>12000</td>\n",
              "      <td>NaN</td>\n",
              "      <td>NaN</td>\n",
              "      <td>NaN</td>\n",
              "      <td>NaN</td>\n",
              "      <td>NaN</td>\n",
              "      <td>NaN</td>\n",
              "      <td>NaN</td>\n",
              "      <td>NaN</td>\n",
              "    </tr>\n",
              "  </tbody>\n",
              "</table>\n",
              "</div>"
            ],
            "text/plain": [
              "cluster    0     1     2     3     4     5    6    All    0    1    2    3  \\\n",
              "상품타입                                                                         \n",
              "고급       951     0     0     0     1     0  123   1075 1.00 0.00 0.00 0.00   \n",
              "기본         0  2212  2004  1123   699   709  531   7278 0.00 0.67 0.66 0.71   \n",
              "중급         0  1095  1015   466   379   371  321   3647 0.00 0.33 0.34 0.29   \n",
              "All      951  3307  3019  1589  1079  1080  975  12000  NaN  NaN  NaN  NaN   \n",
              "\n",
              "cluster    4    5    6  All  \n",
              "상품타입                         \n",
              "고급      0.00 0.00 0.13 0.09  \n",
              "기본      0.65 0.66 0.55 0.61  \n",
              "중급      0.35 0.34 0.33 0.30  \n",
              "All      NaN  NaN  NaN  NaN  "
            ]
          },
          "metadata": {},
          "output_type": "display_data"
        },
        {
          "data": {
            "image/png": "[encoded data removed]",
            "text/plain": [
              "<Figure size 800x550 with 3 Axes>"
            ]
          },
          "metadata": {},
          "output_type": "display_data"
        }
      ],
      "source": [
        "# [문제 17] '상품타입' 열에 대해 crosstab을 활용해서 clust별 범주별 합계를 확인 해보자.\n",
        "\n",
        "feature = '상품타입'\n",
        "\n",
        "pro_df1 = pd.crosstab([result[feature]], result['cluster'], margins=True)\n",
        "\n",
        "pro_df2 = pd.crosstab([result[feature]], result['cluster'], margins=True, normalize='columns')\n",
        "pro_df2 = pro_df2.round(3)\n",
        "\n",
        "pro_df = pd.concat([pro_df1, pro_df2], axis=1)\n",
        "\n",
        "display(pro_df)\n",
        "\n",
        "mosaic(result.sort_values('cluster'), [ 'cluster', feature])\n",
        "plt.show()"
      ]
    },
    {
      "cell_type": "markdown",
      "id": "e222c5a9",
      "metadata": {
        "id": "e222c5a9"
      },
      "source": [
        "<b>**'상품타입' 변수에 대한 클러스터별 특징을 파악해보고 아래 주석에 적어보자!**\n",
        "( 바로 ppt에 작성을 해도 상관없다)"
      ]
    },
    {
      "cell_type": "code",
      "execution_count": 31,
      "id": "1adcefba",
      "metadata": {
        "id": "1adcefba"
      },
      "outputs": [],
      "source": [
        "#[문제18]\n",
        "\n",
        "# 0 - 모두 고급\n",
        "# 나머지는 기본 중급 위주와 일부의 고급\n",
        "# 월납입액과 관련이 있었음."
      ]
    },
    {
      "cell_type": "markdown",
      "id": "d5ce24de-1eb3-4391-9099-62d8e9c6a52a",
      "metadata": {
        "id": "d5ce24de-1eb3-4391-9099-62d8e9c6a52a"
      },
      "source": [
        "### **6) 교육수준**"
      ]
    },
    {
      "cell_type": "code",
      "execution_count": 32,
      "id": "54d15c80-4d90-4e3b-b755-4fc20d22802b",
      "metadata": {
        "colab": {
          "base_uri": "https://localhost:8080/",
          "height": 717
        },
        "id": "54d15c80-4d90-4e3b-b755-4fc20d22802b",
        "outputId": "cfa490ef-97c8-4a6b-d7f2-0a5c5cda3a5e"
      },
      "outputs": [
        {
          "data": {
            "text/html": [
              "<div>\n",
              "<style scoped>\n",
              "    .dataframe tbody tr th:only-of-type {\n",
              "        vertical-align: middle;\n",
              "    }\n",
              "\n",
              "    .dataframe tbody tr th {\n",
              "        vertical-align: top;\n",
              "    }\n",
              "\n",
              "    .dataframe thead th {\n",
              "        text-align: right;\n",
              "    }\n",
              "</style>\n",
              "<table border=\"1\" class=\"dataframe\">\n",
              "  <thead>\n",
              "    <tr style=\"text-align: right;\">\n",
              "      <th>cluster</th>\n",
              "      <th>0</th>\n",
              "      <th>1</th>\n",
              "      <th>2</th>\n",
              "      <th>3</th>\n",
              "      <th>4</th>\n",
              "      <th>5</th>\n",
              "      <th>6</th>\n",
              "      <th>All</th>\n",
              "      <th>0</th>\n",
              "      <th>1</th>\n",
              "      <th>2</th>\n",
              "      <th>3</th>\n",
              "      <th>4</th>\n",
              "      <th>5</th>\n",
              "      <th>6</th>\n",
              "      <th>All</th>\n",
              "    </tr>\n",
              "    <tr>\n",
              "      <th>교육수준</th>\n",
              "      <th></th>\n",
              "      <th></th>\n",
              "      <th></th>\n",
              "      <th></th>\n",
              "      <th></th>\n",
              "      <th></th>\n",
              "      <th></th>\n",
              "      <th></th>\n",
              "      <th></th>\n",
              "      <th></th>\n",
              "      <th></th>\n",
              "      <th></th>\n",
              "      <th></th>\n",
              "      <th></th>\n",
              "      <th></th>\n",
              "      <th></th>\n",
              "    </tr>\n",
              "  </thead>\n",
              "  <tbody>\n",
              "    <tr>\n",
              "      <th>고졸이하</th>\n",
              "      <td>301</td>\n",
              "      <td>962</td>\n",
              "      <td>1031</td>\n",
              "      <td>516</td>\n",
              "      <td>333</td>\n",
              "      <td>0</td>\n",
              "      <td>334</td>\n",
              "      <td>3477</td>\n",
              "      <td>0.32</td>\n",
              "      <td>0.29</td>\n",
              "      <td>0.34</td>\n",
              "      <td>0.33</td>\n",
              "      <td>0.31</td>\n",
              "      <td>0.00</td>\n",
              "      <td>0.34</td>\n",
              "      <td>0.29</td>\n",
              "    </tr>\n",
              "    <tr>\n",
              "      <th>대학졸업</th>\n",
              "      <td>553</td>\n",
              "      <td>2345</td>\n",
              "      <td>1988</td>\n",
              "      <td>1073</td>\n",
              "      <td>602</td>\n",
              "      <td>0</td>\n",
              "      <td>544</td>\n",
              "      <td>7105</td>\n",
              "      <td>0.58</td>\n",
              "      <td>0.71</td>\n",
              "      <td>0.66</td>\n",
              "      <td>0.68</td>\n",
              "      <td>0.56</td>\n",
              "      <td>0.00</td>\n",
              "      <td>0.56</td>\n",
              "      <td>0.59</td>\n",
              "    </tr>\n",
              "    <tr>\n",
              "      <th>박사</th>\n",
              "      <td>20</td>\n",
              "      <td>0</td>\n",
              "      <td>0</td>\n",
              "      <td>0</td>\n",
              "      <td>40</td>\n",
              "      <td>353</td>\n",
              "      <td>26</td>\n",
              "      <td>439</td>\n",
              "      <td>0.02</td>\n",
              "      <td>0.00</td>\n",
              "      <td>0.00</td>\n",
              "      <td>0.00</td>\n",
              "      <td>0.04</td>\n",
              "      <td>0.33</td>\n",
              "      <td>0.03</td>\n",
              "      <td>0.04</td>\n",
              "    </tr>\n",
              "    <tr>\n",
              "      <th>석사</th>\n",
              "      <td>77</td>\n",
              "      <td>0</td>\n",
              "      <td>0</td>\n",
              "      <td>0</td>\n",
              "      <td>104</td>\n",
              "      <td>727</td>\n",
              "      <td>71</td>\n",
              "      <td>979</td>\n",
              "      <td>0.08</td>\n",
              "      <td>0.00</td>\n",
              "      <td>0.00</td>\n",
              "      <td>0.00</td>\n",
              "      <td>0.10</td>\n",
              "      <td>0.67</td>\n",
              "      <td>0.07</td>\n",
              "      <td>0.08</td>\n",
              "    </tr>\n",
              "    <tr>\n",
              "      <th>All</th>\n",
              "      <td>951</td>\n",
              "      <td>3307</td>\n",
              "      <td>3019</td>\n",
              "      <td>1589</td>\n",
              "      <td>1079</td>\n",
              "      <td>1080</td>\n",
              "      <td>975</td>\n",
              "      <td>12000</td>\n",
              "      <td>NaN</td>\n",
              "      <td>NaN</td>\n",
              "      <td>NaN</td>\n",
              "      <td>NaN</td>\n",
              "      <td>NaN</td>\n",
              "      <td>NaN</td>\n",
              "      <td>NaN</td>\n",
              "      <td>NaN</td>\n",
              "    </tr>\n",
              "  </tbody>\n",
              "</table>\n",
              "</div>"
            ],
            "text/plain": [
              "cluster    0     1     2     3     4     5    6    All    0    1    2    3  \\\n",
              "교육수준                                                                         \n",
              "고졸이하     301   962  1031   516   333     0  334   3477 0.32 0.29 0.34 0.33   \n",
              "대학졸업     553  2345  1988  1073   602     0  544   7105 0.58 0.71 0.66 0.68   \n",
              "박사        20     0     0     0    40   353   26    439 0.02 0.00 0.00 0.00   \n",
              "석사        77     0     0     0   104   727   71    979 0.08 0.00 0.00 0.00   \n",
              "All      951  3307  3019  1589  1079  1080  975  12000  NaN  NaN  NaN  NaN   \n",
              "\n",
              "cluster    4    5    6  All  \n",
              "교육수준                         \n",
              "고졸이하    0.31 0.00 0.34 0.29  \n",
              "대학졸업    0.56 0.00 0.56 0.59  \n",
              "박사      0.04 0.33 0.03 0.04  \n",
              "석사      0.10 0.67 0.07 0.08  \n",
              "All      NaN  NaN  NaN  NaN  "
            ]
          },
          "metadata": {},
          "output_type": "display_data"
        },
        {
          "data": {
            "image/png": "[encoded data removed]",
            "text/plain": [
              "<Figure size 800x550 with 3 Axes>"
            ]
          },
          "metadata": {},
          "output_type": "display_data"
        }
      ],
      "source": [
        "# [문제 19] '교육수준' 열에 대해 crosstab을 활용해서 clust별 범주별 합계를 확인 해보자.\n",
        "feature = '교육수준'\n",
        "\n",
        "pro_df1 = pd.crosstab([result[feature]], result['cluster'], margins=True)\n",
        "\n",
        "pro_df2 = pd.crosstab([result[feature]], result['cluster'], margins=True, normalize='columns')\n",
        "pro_df2 = pro_df2.round(3)\n",
        "\n",
        "pro_df = pd.concat([pro_df1, pro_df2], axis=1)\n",
        "\n",
        "display(pro_df)\n",
        "\n",
        "mosaic(result.sort_values('cluster'), [ 'cluster', feature])\n",
        "plt.show()\n"
      ]
    },
    {
      "cell_type": "markdown",
      "id": "00fa463a",
      "metadata": {
        "id": "00fa463a"
      },
      "source": [
        "<b>**'교육수준' 변수에 대한 클러스터별 특징을 파악해보고 아래 주석에 적어보자!**\n",
        "( 바로 ppt에 작성을 해도 상관없다)"
      ]
    },
    {
      "cell_type": "code",
      "execution_count": 33,
      "id": "60e52800",
      "metadata": {
        "id": "60e52800"
      },
      "outputs": [],
      "source": [
        "#[문제20]"
      ]
    },
    {
      "cell_type": "markdown",
      "id": "532caaf2-49a1-4ff8-8a88-e2b9ce137a9d",
      "metadata": {
        "id": "532caaf2-49a1-4ff8-8a88-e2b9ce137a9d"
      },
      "source": [
        "### **7) 고용상태**"
      ]
    },
    {
      "cell_type": "code",
      "execution_count": 34,
      "id": "abf87985-16c2-4e0b-af6e-15dea77c9ffb",
      "metadata": {
        "colab": {
          "base_uri": "https://localhost:8080/",
          "height": 717
        },
        "id": "abf87985-16c2-4e0b-af6e-15dea77c9ffb",
        "outputId": "b66fee03-6f18-4cdc-ebe3-6855a02310f4"
      },
      "outputs": [
        {
          "data": {
            "text/html": [
              "<div>\n",
              "<style scoped>\n",
              "    .dataframe tbody tr th:only-of-type {\n",
              "        vertical-align: middle;\n",
              "    }\n",
              "\n",
              "    .dataframe tbody tr th {\n",
              "        vertical-align: top;\n",
              "    }\n",
              "\n",
              "    .dataframe thead th {\n",
              "        text-align: right;\n",
              "    }\n",
              "</style>\n",
              "<table border=\"1\" class=\"dataframe\">\n",
              "  <thead>\n",
              "    <tr style=\"text-align: right;\">\n",
              "      <th>cluster</th>\n",
              "      <th>0</th>\n",
              "      <th>1</th>\n",
              "      <th>2</th>\n",
              "      <th>3</th>\n",
              "      <th>4</th>\n",
              "      <th>5</th>\n",
              "      <th>6</th>\n",
              "      <th>All</th>\n",
              "      <th>0</th>\n",
              "      <th>1</th>\n",
              "      <th>2</th>\n",
              "      <th>3</th>\n",
              "      <th>4</th>\n",
              "      <th>5</th>\n",
              "      <th>6</th>\n",
              "      <th>All</th>\n",
              "    </tr>\n",
              "    <tr>\n",
              "      <th>고용상태</th>\n",
              "      <th></th>\n",
              "      <th></th>\n",
              "      <th></th>\n",
              "      <th></th>\n",
              "      <th></th>\n",
              "      <th></th>\n",
              "      <th></th>\n",
              "      <th></th>\n",
              "      <th></th>\n",
              "      <th></th>\n",
              "      <th></th>\n",
              "      <th></th>\n",
              "      <th></th>\n",
              "      <th></th>\n",
              "      <th></th>\n",
              "      <th></th>\n",
              "    </tr>\n",
              "  </thead>\n",
              "  <tbody>\n",
              "    <tr>\n",
              "      <th>FALSE</th>\n",
              "      <td>6</td>\n",
              "      <td>0</td>\n",
              "      <td>255</td>\n",
              "      <td>0</td>\n",
              "      <td>39</td>\n",
              "      <td>27</td>\n",
              "      <td>33</td>\n",
              "      <td>360</td>\n",
              "      <td>0.01</td>\n",
              "      <td>0.00</td>\n",
              "      <td>0.08</td>\n",
              "      <td>0.00</td>\n",
              "      <td>0.04</td>\n",
              "      <td>0.03</td>\n",
              "      <td>0.03</td>\n",
              "      <td>0.03</td>\n",
              "    </tr>\n",
              "    <tr>\n",
              "      <th>고용</th>\n",
              "      <td>611</td>\n",
              "      <td>3307</td>\n",
              "      <td>0</td>\n",
              "      <td>1589</td>\n",
              "      <td>632</td>\n",
              "      <td>800</td>\n",
              "      <td>579</td>\n",
              "      <td>7518</td>\n",
              "      <td>0.64</td>\n",
              "      <td>1.00</td>\n",
              "      <td>0.00</td>\n",
              "      <td>1.00</td>\n",
              "      <td>0.59</td>\n",
              "      <td>0.74</td>\n",
              "      <td>0.59</td>\n",
              "      <td>0.63</td>\n",
              "    </tr>\n",
              "    <tr>\n",
              "      <th>무직</th>\n",
              "      <td>233</td>\n",
              "      <td>0</td>\n",
              "      <td>2089</td>\n",
              "      <td>0</td>\n",
              "      <td>285</td>\n",
              "      <td>139</td>\n",
              "      <td>282</td>\n",
              "      <td>3028</td>\n",
              "      <td>0.24</td>\n",
              "      <td>0.00</td>\n",
              "      <td>0.69</td>\n",
              "      <td>0.00</td>\n",
              "      <td>0.26</td>\n",
              "      <td>0.13</td>\n",
              "      <td>0.29</td>\n",
              "      <td>0.25</td>\n",
              "    </tr>\n",
              "    <tr>\n",
              "      <th>휴직</th>\n",
              "      <td>101</td>\n",
              "      <td>0</td>\n",
              "      <td>675</td>\n",
              "      <td>0</td>\n",
              "      <td>123</td>\n",
              "      <td>114</td>\n",
              "      <td>81</td>\n",
              "      <td>1094</td>\n",
              "      <td>0.11</td>\n",
              "      <td>0.00</td>\n",
              "      <td>0.22</td>\n",
              "      <td>0.00</td>\n",
              "      <td>0.11</td>\n",
              "      <td>0.11</td>\n",
              "      <td>0.08</td>\n",
              "      <td>0.09</td>\n",
              "    </tr>\n",
              "    <tr>\n",
              "      <th>All</th>\n",
              "      <td>951</td>\n",
              "      <td>3307</td>\n",
              "      <td>3019</td>\n",
              "      <td>1589</td>\n",
              "      <td>1079</td>\n",
              "      <td>1080</td>\n",
              "      <td>975</td>\n",
              "      <td>12000</td>\n",
              "      <td>NaN</td>\n",
              "      <td>NaN</td>\n",
              "      <td>NaN</td>\n",
              "      <td>NaN</td>\n",
              "      <td>NaN</td>\n",
              "      <td>NaN</td>\n",
              "      <td>NaN</td>\n",
              "      <td>NaN</td>\n",
              "    </tr>\n",
              "  </tbody>\n",
              "</table>\n",
              "</div>"
            ],
            "text/plain": [
              "cluster    0     1     2     3     4     5    6    All    0    1    2    3  \\\n",
              "고용상태                                                                         \n",
              "FALSE      6     0   255     0    39    27   33    360 0.01 0.00 0.08 0.00   \n",
              "고용       611  3307     0  1589   632   800  579   7518 0.64 1.00 0.00 1.00   \n",
              "무직       233     0  2089     0   285   139  282   3028 0.24 0.00 0.69 0.00   \n",
              "휴직       101     0   675     0   123   114   81   1094 0.11 0.00 0.22 0.00   \n",
              "All      951  3307  3019  1589  1079  1080  975  12000  NaN  NaN  NaN  NaN   \n",
              "\n",
              "cluster    4    5    6  All  \n",
              "고용상태                         \n",
              "FALSE   0.04 0.03 0.03 0.03  \n",
              "고용      0.59 0.74 0.59 0.63  \n",
              "무직      0.26 0.13 0.29 0.25  \n",
              "휴직      0.11 0.11 0.08 0.09  \n",
              "All      NaN  NaN  NaN  NaN  "
            ]
          },
          "metadata": {},
          "output_type": "display_data"
        },
        {
          "data": {
            "image/png": "[encoded data removed]",
            "text/plain": [
              "<Figure size 800x550 with 3 Axes>"
            ]
          },
          "metadata": {},
          "output_type": "display_data"
        }
      ],
      "source": [
        "# [문제 21] '고용상태' 열에 대해 crosstab을 활용해서 clust별 범주별 합계를 확인 해보자.\n",
        "\n",
        "feature = '고용상태'\n",
        "\n",
        "pro_df1 = pd.crosstab([result[feature]], result['cluster'], margins=True)\n",
        "\n",
        "pro_df2 = pd.crosstab([result[feature]], result['cluster'], margins=True, normalize='columns')\n",
        "pro_df2 = pro_df2.round(3)\n",
        "\n",
        "pro_df = pd.concat([pro_df1, pro_df2], axis=1)\n",
        "\n",
        "display(pro_df)\n",
        "\n",
        "mosaic(result.sort_values('cluster'), [ 'cluster', feature])\n",
        "plt.show()"
      ]
    },
    {
      "cell_type": "markdown",
      "id": "cef06b07",
      "metadata": {
        "id": "cef06b07"
      },
      "source": [
        "<b>**'고용상태' 변수에 대한 클러스터별 특징을 파악해보고 아래 주석에 적어보자!**\n",
        "( 바로 ppt에 작성을 해도 상관없다)"
      ]
    },
    {
      "cell_type": "code",
      "execution_count": 35,
      "id": "aff7c0cb",
      "metadata": {
        "id": "aff7c0cb"
      },
      "outputs": [],
      "source": [
        "#[문제 22]\n",
        "\n",
        "# 0 - 대부분이 고용자이나(64%) 상당수의 무직자와(24%) 약간의 휴직자(11%) 존재. false 값이 1% 존재함.\n",
        "# 1 - 전원이 고용자\n",
        "# 2 - 고용자가 없음. 대부분이 무직이며(69%) 휴직도 존재 (22%) false 값이 8% 존재함.\n",
        "# 3 - 전원이 고용자\n",
        "# 4 - 대부분이 고용자이나(60%) 상당수의 무직자와 약간의 휴직자 존재재. false 값이 4% 존재함.\n",
        "# 5 - 대부분이 고용자이나(74%) 일부의 무직자와 휴직자 존재함. false 값이 3% 존재함.\n",
        "# 6 - 대부분이 고용자이나(60%) 상당수의 무직자와 약간의 휴직자 존재.\n",
        "\n",
        "# 클러스터 1과 3이 모두 고용자 인것이 특징.\n",
        "# 나머지는 6-70% 내외의 고용자와 나머지의 휴직자,무직자, false 값으로 이루어짐\n",
        "# false 값을 어떻게 분석할 지는 미지수"
      ]
    },
    {
      "cell_type": "markdown",
      "id": "9c9afe78-2077-48d2-8a99-f47a60e8a2d2",
      "metadata": {
        "id": "9c9afe78-2077-48d2-8a99-f47a60e8a2d2"
      },
      "source": [
        "### **8) 소득(수치)**"
      ]
    },
    {
      "cell_type": "code",
      "execution_count": 36,
      "id": "db5b7186-4e22-46f8-8883-41bbd5c14c1c",
      "metadata": {
        "colab": {
          "base_uri": "https://localhost:8080/",
          "height": 832
        },
        "id": "db5b7186-4e22-46f8-8883-41bbd5c14c1c",
        "outputId": "0f7b1e7d-8380-4219-e6de-c67fe03a7db6"
      },
      "outputs": [
        {
          "data": {
            "text/html": [
              "<div>\n",
              "<style scoped>\n",
              "    .dataframe tbody tr th:only-of-type {\n",
              "        vertical-align: middle;\n",
              "    }\n",
              "\n",
              "    .dataframe tbody tr th {\n",
              "        vertical-align: top;\n",
              "    }\n",
              "\n",
              "    .dataframe thead tr th {\n",
              "        text-align: left;\n",
              "    }\n",
              "\n",
              "    .dataframe thead tr:last-of-type th {\n",
              "        text-align: right;\n",
              "    }\n",
              "</style>\n",
              "<table border=\"1\" class=\"dataframe\">\n",
              "  <thead>\n",
              "    <tr>\n",
              "      <th></th>\n",
              "      <th colspan=\"4\" halign=\"left\">소득</th>\n",
              "    </tr>\n",
              "    <tr>\n",
              "      <th></th>\n",
              "      <th>max</th>\n",
              "      <th>min</th>\n",
              "      <th>mean</th>\n",
              "      <th>median</th>\n",
              "    </tr>\n",
              "    <tr>\n",
              "      <th>cluster</th>\n",
              "      <th></th>\n",
              "      <th></th>\n",
              "      <th></th>\n",
              "      <th></th>\n",
              "    </tr>\n",
              "  </thead>\n",
              "  <tbody>\n",
              "    <tr>\n",
              "      <th>0</th>\n",
              "      <td>128243500</td>\n",
              "      <td>0</td>\n",
              "      <td>48108641.22</td>\n",
              "      <td>45389300.00</td>\n",
              "    </tr>\n",
              "    <tr>\n",
              "      <th>1</th>\n",
              "      <td>96421000</td>\n",
              "      <td>24045000</td>\n",
              "      <td>53765547.90</td>\n",
              "      <td>52493000.00</td>\n",
              "    </tr>\n",
              "    <tr>\n",
              "      <th>2</th>\n",
              "      <td>39601100</td>\n",
              "      <td>0</td>\n",
              "      <td>7754089.80</td>\n",
              "      <td>0.00</td>\n",
              "    </tr>\n",
              "    <tr>\n",
              "      <th>3</th>\n",
              "      <td>132020900</td>\n",
              "      <td>82386000</td>\n",
              "      <td>101903323.03</td>\n",
              "      <td>100976700.00</td>\n",
              "    </tr>\n",
              "    <tr>\n",
              "      <th>4</th>\n",
              "      <td>131727200</td>\n",
              "      <td>0</td>\n",
              "      <td>45125778.41</td>\n",
              "      <td>38944400.00</td>\n",
              "    </tr>\n",
              "    <tr>\n",
              "      <th>5</th>\n",
              "      <td>131674400</td>\n",
              "      <td>0</td>\n",
              "      <td>55498152.41</td>\n",
              "      <td>52768500.00</td>\n",
              "    </tr>\n",
              "    <tr>\n",
              "      <th>6</th>\n",
              "      <td>130366500</td>\n",
              "      <td>0</td>\n",
              "      <td>40504390.36</td>\n",
              "      <td>35901000.00</td>\n",
              "    </tr>\n",
              "  </tbody>\n",
              "</table>\n",
              "</div>"
            ],
            "text/plain": [
              "                소득                                    \n",
              "               max       min         mean       median\n",
              "cluster                                               \n",
              "0        128243500         0  48108641.22  45389300.00\n",
              "1         96421000  24045000  53765547.90  52493000.00\n",
              "2         39601100         0   7754089.80         0.00\n",
              "3        132020900  82386000 101903323.03 100976700.00\n",
              "4        131727200         0  45125778.41  38944400.00\n",
              "5        131674400         0  55498152.41  52768500.00\n",
              "6        130366500         0  40504390.36  35901000.00"
            ]
          },
          "metadata": {},
          "output_type": "display_data"
        },
        {
          "data": {
            "image/png": "[encoded data removed]",
            "text/plain": [
              "<Figure size 800x550 with 1 Axes>"
            ]
          },
          "metadata": {},
          "output_type": "display_data"
        }
      ],
      "source": [
        "# [문제 23] '소득'은 수치형으로 각 clust 별 min,max,mean,median 통계 값으로 확인해보자.\n",
        "# groupby 와 agg() 메소드를 활용하여 도출해 보자.\n",
        "\n",
        "feature = '소득'\n",
        "display(result[['cluster',feature]].groupby(['cluster']).agg(['max','min','mean','median']))\n",
        "\n",
        "# 시각화를 해 봅시다.\n",
        "sns.barplot(x='cluster', y=feature, data=result, palette='cool')\n",
        "plt.show()"
      ]
    },
    {
      "cell_type": "markdown",
      "id": "f2128b0c",
      "metadata": {
        "id": "f2128b0c"
      },
      "source": [
        "<b>**'소득' 변수에 대한 클러스터별 특징을 파악해보고 아래 주석에 적어보자!**\n",
        "( 바로 ppt에 작성을 해도 상관없다)"
      ]
    },
    {
      "cell_type": "code",
      "execution_count": 37,
      "id": "7454154b",
      "metadata": {
        "id": "7454154b"
      },
      "outputs": [],
      "source": [
        "#[문제24]\n",
        "\n",
        "# 3번 클러스터가 특이하게 높고\n",
        "# 2번 클러스터가 특이하게 낮음음"
      ]
    },
    {
      "cell_type": "markdown",
      "id": "a245baee-aefc-4dbd-bdd3-bb53414dbbd9",
      "metadata": {
        "id": "a245baee-aefc-4dbd-bdd3-bb53414dbbd9"
      },
      "source": [
        "### **9) 결혼여부**"
      ]
    },
    {
      "cell_type": "code",
      "execution_count": 38,
      "id": "11684db0-56e6-4f7d-a9ea-8191fd901b30",
      "metadata": {
        "colab": {
          "base_uri": "https://localhost:8080/",
          "height": 641
        },
        "id": "11684db0-56e6-4f7d-a9ea-8191fd901b30",
        "outputId": "e675a500-fcd4-4960-f81f-f37b20d40ac9"
      },
      "outputs": [
        {
          "data": {
            "text/html": [
              "<div>\n",
              "<style scoped>\n",
              "    .dataframe tbody tr th:only-of-type {\n",
              "        vertical-align: middle;\n",
              "    }\n",
              "\n",
              "    .dataframe tbody tr th {\n",
              "        vertical-align: top;\n",
              "    }\n",
              "\n",
              "    .dataframe thead th {\n",
              "        text-align: right;\n",
              "    }\n",
              "</style>\n",
              "<table border=\"1\" class=\"dataframe\">\n",
              "  <thead>\n",
              "    <tr style=\"text-align: right;\">\n",
              "      <th>cluster</th>\n",
              "      <th>0</th>\n",
              "      <th>1</th>\n",
              "      <th>2</th>\n",
              "      <th>3</th>\n",
              "      <th>4</th>\n",
              "      <th>5</th>\n",
              "      <th>6</th>\n",
              "      <th>All</th>\n",
              "      <th>0</th>\n",
              "      <th>1</th>\n",
              "      <th>2</th>\n",
              "      <th>3</th>\n",
              "      <th>4</th>\n",
              "      <th>5</th>\n",
              "      <th>6</th>\n",
              "      <th>All</th>\n",
              "    </tr>\n",
              "    <tr>\n",
              "      <th>결혼여부</th>\n",
              "      <th></th>\n",
              "      <th></th>\n",
              "      <th></th>\n",
              "      <th></th>\n",
              "      <th></th>\n",
              "      <th></th>\n",
              "      <th></th>\n",
              "      <th></th>\n",
              "      <th></th>\n",
              "      <th></th>\n",
              "      <th></th>\n",
              "      <th></th>\n",
              "      <th></th>\n",
              "      <th></th>\n",
              "      <th></th>\n",
              "      <th></th>\n",
              "    </tr>\n",
              "  </thead>\n",
              "  <tbody>\n",
              "    <tr>\n",
              "      <th>기혼</th>\n",
              "      <td>570</td>\n",
              "      <td>2232</td>\n",
              "      <td>1187</td>\n",
              "      <td>1073</td>\n",
              "      <td>676</td>\n",
              "      <td>702</td>\n",
              "      <td>517</td>\n",
              "      <td>6957</td>\n",
              "      <td>0.60</td>\n",
              "      <td>0.68</td>\n",
              "      <td>0.39</td>\n",
              "      <td>0.68</td>\n",
              "      <td>0.63</td>\n",
              "      <td>0.65</td>\n",
              "      <td>0.53</td>\n",
              "      <td>0.58</td>\n",
              "    </tr>\n",
              "    <tr>\n",
              "      <th>미혼</th>\n",
              "      <td>381</td>\n",
              "      <td>1075</td>\n",
              "      <td>1832</td>\n",
              "      <td>516</td>\n",
              "      <td>403</td>\n",
              "      <td>378</td>\n",
              "      <td>458</td>\n",
              "      <td>5043</td>\n",
              "      <td>0.40</td>\n",
              "      <td>0.33</td>\n",
              "      <td>0.61</td>\n",
              "      <td>0.33</td>\n",
              "      <td>0.37</td>\n",
              "      <td>0.35</td>\n",
              "      <td>0.47</td>\n",
              "      <td>0.42</td>\n",
              "    </tr>\n",
              "    <tr>\n",
              "      <th>All</th>\n",
              "      <td>951</td>\n",
              "      <td>3307</td>\n",
              "      <td>3019</td>\n",
              "      <td>1589</td>\n",
              "      <td>1079</td>\n",
              "      <td>1080</td>\n",
              "      <td>975</td>\n",
              "      <td>12000</td>\n",
              "      <td>NaN</td>\n",
              "      <td>NaN</td>\n",
              "      <td>NaN</td>\n",
              "      <td>NaN</td>\n",
              "      <td>NaN</td>\n",
              "      <td>NaN</td>\n",
              "      <td>NaN</td>\n",
              "      <td>NaN</td>\n",
              "    </tr>\n",
              "  </tbody>\n",
              "</table>\n",
              "</div>"
            ],
            "text/plain": [
              "cluster    0     1     2     3     4     5    6    All    0    1    2    3  \\\n",
              "결혼여부                                                                         \n",
              "기혼       570  2232  1187  1073   676   702  517   6957 0.60 0.68 0.39 0.68   \n",
              "미혼       381  1075  1832   516   403   378  458   5043 0.40 0.33 0.61 0.33   \n",
              "All      951  3307  3019  1589  1079  1080  975  12000  NaN  NaN  NaN  NaN   \n",
              "\n",
              "cluster    4    5    6  All  \n",
              "결혼여부                         \n",
              "기혼      0.63 0.65 0.53 0.58  \n",
              "미혼      0.37 0.35 0.47 0.42  \n",
              "All      NaN  NaN  NaN  NaN  "
            ]
          },
          "metadata": {},
          "output_type": "display_data"
        },
        {
          "data": {
            "image/png": "[encoded data removed]",
            "text/plain": [
              "<Figure size 800x550 with 3 Axes>"
            ]
          },
          "metadata": {},
          "output_type": "display_data"
        }
      ],
      "source": [
        "# [문제 25] '결혼여부' 열에 대해 crosstab을 활용해서 clust별 범주별 합계를 확인 해보자.\n",
        "feature = '결혼여부'\n",
        "\n",
        "pro_df1 = pd.crosstab([result[feature]], result['cluster'], margins=True)\n",
        "\n",
        "pro_df2 = pd.crosstab([result[feature]], result['cluster'], margins=True, normalize='columns')\n",
        "pro_df2 = pro_df2.round(3)\n",
        "\n",
        "pro_df = pd.concat([pro_df1, pro_df2], axis=1)\n",
        "\n",
        "display(pro_df)\n",
        "\n",
        "mosaic(result.sort_values('cluster'), [ 'cluster', feature])\n",
        "plt.show()\n"
      ]
    },
    {
      "cell_type": "markdown",
      "id": "53f2060c",
      "metadata": {
        "id": "53f2060c"
      },
      "source": [
        "<b>**'결혼여부' 변수에 대한 클러스터별 특징을 파악해보고 아래 주석에 적어보자!**\n",
        "( 바로 ppt에 작성을 해도 상관없다)"
      ]
    },
    {
      "cell_type": "code",
      "execution_count": 39,
      "id": "d1974ce4",
      "metadata": {
        "id": "d1974ce4"
      },
      "outputs": [],
      "source": [
        "#[문제26]"
      ]
    },
    {
      "cell_type": "markdown",
      "id": "1ee5b45d-ec43-4d71-9b9e-ef9c202c1b84",
      "metadata": {
        "id": "1ee5b45d-ec43-4d71-9b9e-ef9c202c1b84"
      },
      "source": [
        "### **10) 월 납입액(수치)**"
      ]
    },
    {
      "cell_type": "code",
      "execution_count": 40,
      "id": "88acb42b-e042-49db-83b4-f090d6a8f7bc",
      "metadata": {
        "colab": {
          "base_uri": "https://localhost:8080/",
          "height": 818
        },
        "id": "88acb42b-e042-49db-83b4-f090d6a8f7bc",
        "outputId": "a4ae7dfd-d5f4-401d-92ea-baf5266c2b52"
      },
      "outputs": [
        {
          "data": {
            "text/html": [
              "<div>\n",
              "<style scoped>\n",
              "    .dataframe tbody tr th:only-of-type {\n",
              "        vertical-align: middle;\n",
              "    }\n",
              "\n",
              "    .dataframe tbody tr th {\n",
              "        vertical-align: top;\n",
              "    }\n",
              "\n",
              "    .dataframe thead tr th {\n",
              "        text-align: left;\n",
              "    }\n",
              "\n",
              "    .dataframe thead tr:last-of-type th {\n",
              "        text-align: right;\n",
              "    }\n",
              "</style>\n",
              "<table border=\"1\" class=\"dataframe\">\n",
              "  <thead>\n",
              "    <tr>\n",
              "      <th></th>\n",
              "      <th colspan=\"4\" halign=\"left\">월 납입액</th>\n",
              "    </tr>\n",
              "    <tr>\n",
              "      <th></th>\n",
              "      <th>max</th>\n",
              "      <th>min</th>\n",
              "      <th>mean</th>\n",
              "      <th>median</th>\n",
              "    </tr>\n",
              "    <tr>\n",
              "      <th>cluster</th>\n",
              "      <th></th>\n",
              "      <th></th>\n",
              "      <th></th>\n",
              "      <th></th>\n",
              "    </tr>\n",
              "  </thead>\n",
              "  <tbody>\n",
              "    <tr>\n",
              "      <th>0</th>\n",
              "      <td>230</td>\n",
              "      <td>110</td>\n",
              "      <td>135.30</td>\n",
              "      <td>120.00</td>\n",
              "    </tr>\n",
              "    <tr>\n",
              "      <th>1</th>\n",
              "      <td>160</td>\n",
              "      <td>60</td>\n",
              "      <td>87.70</td>\n",
              "      <td>80.00</td>\n",
              "    </tr>\n",
              "    <tr>\n",
              "      <th>2</th>\n",
              "      <td>160</td>\n",
              "      <td>60</td>\n",
              "      <td>88.68</td>\n",
              "      <td>80.00</td>\n",
              "    </tr>\n",
              "    <tr>\n",
              "      <th>3</th>\n",
              "      <td>160</td>\n",
              "      <td>60</td>\n",
              "      <td>87.59</td>\n",
              "      <td>80.00</td>\n",
              "    </tr>\n",
              "    <tr>\n",
              "      <th>4</th>\n",
              "      <td>160</td>\n",
              "      <td>60</td>\n",
              "      <td>88.28</td>\n",
              "      <td>80.00</td>\n",
              "    </tr>\n",
              "    <tr>\n",
              "      <th>5</th>\n",
              "      <td>160</td>\n",
              "      <td>60</td>\n",
              "      <td>88.50</td>\n",
              "      <td>80.00</td>\n",
              "    </tr>\n",
              "    <tr>\n",
              "      <th>6</th>\n",
              "      <td>350</td>\n",
              "      <td>100</td>\n",
              "      <td>189.06</td>\n",
              "      <td>190.00</td>\n",
              "    </tr>\n",
              "  </tbody>\n",
              "</table>\n",
              "</div>"
            ],
            "text/plain": [
              "        월 납입액                   \n",
              "          max  min   mean median\n",
              "cluster                         \n",
              "0         230  110 135.30 120.00\n",
              "1         160   60  87.70  80.00\n",
              "2         160   60  88.68  80.00\n",
              "3         160   60  87.59  80.00\n",
              "4         160   60  88.28  80.00\n",
              "5         160   60  88.50  80.00\n",
              "6         350  100 189.06 190.00"
            ]
          },
          "metadata": {},
          "output_type": "display_data"
        },
        {
          "data": {
            "image/png": "[encoded data removed]",
            "text/plain": [
              "<Figure size 800x550 with 1 Axes>"
            ]
          },
          "metadata": {},
          "output_type": "display_data"
        }
      ],
      "source": [
        "# [문제 27] '월 납입액'은 수치형으로 각 clust 별 min,max,mean,median 통계 값으로 확인해보자.\n",
        "# groupby 와 agg() 메소드를 활용하여 도출해 보자.\n",
        "\n",
        "feature = '월 납입액'\n",
        "display(result[['cluster',feature]].groupby(['cluster']).agg(['max','min','mean','median']))\n",
        "\n",
        "# 시각화를 해 봅시다.\n",
        "sns.barplot(x='cluster', y=feature, data=result, palette='cool')\n",
        "plt.show()"
      ]
    },
    {
      "cell_type": "markdown",
      "id": "78068345",
      "metadata": {
        "id": "78068345"
      },
      "source": [
        "<b>**'월 납입액' 변수에 대한 클러스터별 특징을 파악해보고 아래 주석에 적어보자!**\n",
        "( 바로 ppt에 작성을 해도 상관없다)"
      ]
    },
    {
      "cell_type": "code",
      "execution_count": 41,
      "id": "76cf74d2",
      "metadata": {
        "id": "76cf74d2"
      },
      "outputs": [],
      "source": [
        "#[문제28]"
      ]
    },
    {
      "cell_type": "markdown",
      "id": "d509a0fb-edd1-4329-8797-3a0ff9aec578",
      "metadata": {
        "id": "d509a0fb-edd1-4329-8797-3a0ff9aec578"
      },
      "source": [
        "### **11) VOC**"
      ]
    },
    {
      "cell_type": "code",
      "execution_count": 42,
      "id": "84157740-689a-41fa-86b0-0aa3ad9833eb",
      "metadata": {
        "colab": {
          "base_uri": "https://localhost:8080/",
          "height": 781
        },
        "id": "84157740-689a-41fa-86b0-0aa3ad9833eb",
        "outputId": "ba1734b3-64e2-4a90-e17b-323140402814"
      },
      "outputs": [
        {
          "data": {
            "text/html": [
              "<div>\n",
              "<style scoped>\n",
              "    .dataframe tbody tr th:only-of-type {\n",
              "        vertical-align: middle;\n",
              "    }\n",
              "\n",
              "    .dataframe tbody tr th {\n",
              "        vertical-align: top;\n",
              "    }\n",
              "\n",
              "    .dataframe thead th {\n",
              "        text-align: right;\n",
              "    }\n",
              "</style>\n",
              "<table border=\"1\" class=\"dataframe\">\n",
              "  <thead>\n",
              "    <tr style=\"text-align: right;\">\n",
              "      <th>cluster</th>\n",
              "      <th>0</th>\n",
              "      <th>1</th>\n",
              "      <th>2</th>\n",
              "      <th>3</th>\n",
              "      <th>4</th>\n",
              "      <th>5</th>\n",
              "      <th>6</th>\n",
              "      <th>All</th>\n",
              "      <th>0</th>\n",
              "      <th>1</th>\n",
              "      <th>2</th>\n",
              "      <th>3</th>\n",
              "      <th>4</th>\n",
              "      <th>5</th>\n",
              "      <th>6</th>\n",
              "      <th>All</th>\n",
              "    </tr>\n",
              "    <tr>\n",
              "      <th>VOC</th>\n",
              "      <th></th>\n",
              "      <th></th>\n",
              "      <th></th>\n",
              "      <th></th>\n",
              "      <th></th>\n",
              "      <th></th>\n",
              "      <th></th>\n",
              "      <th></th>\n",
              "      <th></th>\n",
              "      <th></th>\n",
              "      <th></th>\n",
              "      <th></th>\n",
              "      <th></th>\n",
              "      <th></th>\n",
              "      <th></th>\n",
              "      <th></th>\n",
              "    </tr>\n",
              "  </thead>\n",
              "  <tbody>\n",
              "    <tr>\n",
              "      <th>0</th>\n",
              "      <td>764</td>\n",
              "      <td>2614</td>\n",
              "      <td>2399</td>\n",
              "      <td>1266</td>\n",
              "      <td>847</td>\n",
              "      <td>850</td>\n",
              "      <td>775</td>\n",
              "      <td>9515</td>\n",
              "      <td>0.80</td>\n",
              "      <td>0.79</td>\n",
              "      <td>0.80</td>\n",
              "      <td>0.80</td>\n",
              "      <td>0.79</td>\n",
              "      <td>0.79</td>\n",
              "      <td>0.80</td>\n",
              "      <td>0.79</td>\n",
              "    </tr>\n",
              "    <tr>\n",
              "      <th>1</th>\n",
              "      <td>99</td>\n",
              "      <td>380</td>\n",
              "      <td>329</td>\n",
              "      <td>156</td>\n",
              "      <td>107</td>\n",
              "      <td>131</td>\n",
              "      <td>111</td>\n",
              "      <td>1313</td>\n",
              "      <td>0.10</td>\n",
              "      <td>0.12</td>\n",
              "      <td>0.11</td>\n",
              "      <td>0.10</td>\n",
              "      <td>0.10</td>\n",
              "      <td>0.12</td>\n",
              "      <td>0.11</td>\n",
              "      <td>0.11</td>\n",
              "    </tr>\n",
              "    <tr>\n",
              "      <th>2</th>\n",
              "      <td>49</td>\n",
              "      <td>124</td>\n",
              "      <td>124</td>\n",
              "      <td>65</td>\n",
              "      <td>51</td>\n",
              "      <td>34</td>\n",
              "      <td>48</td>\n",
              "      <td>495</td>\n",
              "      <td>0.05</td>\n",
              "      <td>0.04</td>\n",
              "      <td>0.04</td>\n",
              "      <td>0.04</td>\n",
              "      <td>0.05</td>\n",
              "      <td>0.03</td>\n",
              "      <td>0.05</td>\n",
              "      <td>0.04</td>\n",
              "    </tr>\n",
              "    <tr>\n",
              "      <th>3</th>\n",
              "      <td>24</td>\n",
              "      <td>105</td>\n",
              "      <td>101</td>\n",
              "      <td>69</td>\n",
              "      <td>41</td>\n",
              "      <td>35</td>\n",
              "      <td>30</td>\n",
              "      <td>405</td>\n",
              "      <td>0.03</td>\n",
              "      <td>0.03</td>\n",
              "      <td>0.03</td>\n",
              "      <td>0.04</td>\n",
              "      <td>0.04</td>\n",
              "      <td>0.03</td>\n",
              "      <td>0.03</td>\n",
              "      <td>0.03</td>\n",
              "    </tr>\n",
              "    <tr>\n",
              "      <th>4</th>\n",
              "      <td>9</td>\n",
              "      <td>62</td>\n",
              "      <td>44</td>\n",
              "      <td>19</td>\n",
              "      <td>27</td>\n",
              "      <td>27</td>\n",
              "      <td>8</td>\n",
              "      <td>196</td>\n",
              "      <td>0.01</td>\n",
              "      <td>0.02</td>\n",
              "      <td>0.01</td>\n",
              "      <td>0.01</td>\n",
              "      <td>0.03</td>\n",
              "      <td>0.03</td>\n",
              "      <td>0.01</td>\n",
              "      <td>0.02</td>\n",
              "    </tr>\n",
              "    <tr>\n",
              "      <th>5</th>\n",
              "      <td>6</td>\n",
              "      <td>22</td>\n",
              "      <td>22</td>\n",
              "      <td>14</td>\n",
              "      <td>6</td>\n",
              "      <td>3</td>\n",
              "      <td>3</td>\n",
              "      <td>76</td>\n",
              "      <td>0.01</td>\n",
              "      <td>0.01</td>\n",
              "      <td>0.01</td>\n",
              "      <td>0.01</td>\n",
              "      <td>0.01</td>\n",
              "      <td>0.00</td>\n",
              "      <td>0.00</td>\n",
              "      <td>0.01</td>\n",
              "    </tr>\n",
              "    <tr>\n",
              "      <th>All</th>\n",
              "      <td>951</td>\n",
              "      <td>3307</td>\n",
              "      <td>3019</td>\n",
              "      <td>1589</td>\n",
              "      <td>1079</td>\n",
              "      <td>1080</td>\n",
              "      <td>975</td>\n",
              "      <td>12000</td>\n",
              "      <td>NaN</td>\n",
              "      <td>NaN</td>\n",
              "      <td>NaN</td>\n",
              "      <td>NaN</td>\n",
              "      <td>NaN</td>\n",
              "      <td>NaN</td>\n",
              "      <td>NaN</td>\n",
              "      <td>NaN</td>\n",
              "    </tr>\n",
              "  </tbody>\n",
              "</table>\n",
              "</div>"
            ],
            "text/plain": [
              "cluster    0     1     2     3     4     5    6    All    0    1    2    3  \\\n",
              "VOC                                                                          \n",
              "0        764  2614  2399  1266   847   850  775   9515 0.80 0.79 0.80 0.80   \n",
              "1         99   380   329   156   107   131  111   1313 0.10 0.12 0.11 0.10   \n",
              "2         49   124   124    65    51    34   48    495 0.05 0.04 0.04 0.04   \n",
              "3         24   105   101    69    41    35   30    405 0.03 0.03 0.03 0.04   \n",
              "4          9    62    44    19    27    27    8    196 0.01 0.02 0.01 0.01   \n",
              "5          6    22    22    14     6     3    3     76 0.01 0.01 0.01 0.01   \n",
              "All      951  3307  3019  1589  1079  1080  975  12000  NaN  NaN  NaN  NaN   \n",
              "\n",
              "cluster    4    5    6  All  \n",
              "VOC                          \n",
              "0       0.79 0.79 0.80 0.79  \n",
              "1       0.10 0.12 0.11 0.11  \n",
              "2       0.05 0.03 0.05 0.04  \n",
              "3       0.04 0.03 0.03 0.03  \n",
              "4       0.03 0.03 0.01 0.02  \n",
              "5       0.01 0.00 0.00 0.01  \n",
              "All      NaN  NaN  NaN  NaN  "
            ]
          },
          "metadata": {},
          "output_type": "display_data"
        },
        {
          "data": {
            "image/png": "[encoded data removed]",
            "text/plain": [
              "<Figure size 800x550 with 3 Axes>"
            ]
          },
          "metadata": {},
          "output_type": "display_data"
        }
      ],
      "source": [
        "# [문제 29] 'VOC' 열에 대해 crosstab을 활용해서 clust별 범주별 합계를 확인 해보자.\n",
        "\n",
        "feature = 'VOC'\n",
        "\n",
        "pro_df1 = pd.crosstab([result[feature]], result['cluster'], margins=True)\n",
        "\n",
        "pro_df2 = pd.crosstab([result[feature]], result['cluster'], margins=True, normalize='columns')\n",
        "pro_df2 = pro_df2.round(3)\n",
        "\n",
        "pro_df = pd.concat([pro_df1, pro_df2], axis=1)\n",
        "\n",
        "display(pro_df)\n",
        "\n",
        "mosaic(result.sort_values('cluster'), [ 'cluster', feature])\n",
        "plt.show()"
      ]
    },
    {
      "cell_type": "markdown",
      "id": "bd165817",
      "metadata": {
        "id": "bd165817"
      },
      "source": [
        "<b>**'VOC' 변수에 대한 클러스터별 특징을 파악해보고 아래 주석에 적어보자!**\n",
        "( 바로 ppt에 작성을 해도 상관없다)"
      ]
    },
    {
      "cell_type": "code",
      "execution_count": 43,
      "id": "1c2b482f",
      "metadata": {
        "id": "1c2b482f"
      },
      "outputs": [],
      "source": [
        "#[문제30]"
      ]
    },
    {
      "cell_type": "markdown",
      "id": "991f5f39-4fd8-438a-b992-934800dbe4ed",
      "metadata": {
        "id": "991f5f39-4fd8-438a-b992-934800dbe4ed"
      },
      "source": [
        "### **12) 타 상품 보유 현황**"
      ]
    },
    {
      "cell_type": "code",
      "execution_count": 44,
      "id": "28e49d4b-8645-4000-9059-51c69234e79d",
      "metadata": {
        "colab": {
          "base_uri": "https://localhost:8080/",
          "height": 704
        },
        "id": "28e49d4b-8645-4000-9059-51c69234e79d",
        "outputId": "010c5984-d85d-41fd-8de6-76bd11c7b27e"
      },
      "outputs": [
        {
          "data": {
            "text/html": [
              "<div>\n",
              "<style scoped>\n",
              "    .dataframe tbody tr th:only-of-type {\n",
              "        vertical-align: middle;\n",
              "    }\n",
              "\n",
              "    .dataframe tbody tr th {\n",
              "        vertical-align: top;\n",
              "    }\n",
              "\n",
              "    .dataframe thead th {\n",
              "        text-align: right;\n",
              "    }\n",
              "</style>\n",
              "<table border=\"1\" class=\"dataframe\">\n",
              "  <thead>\n",
              "    <tr style=\"text-align: right;\">\n",
              "      <th>cluster</th>\n",
              "      <th>0</th>\n",
              "      <th>1</th>\n",
              "      <th>2</th>\n",
              "      <th>3</th>\n",
              "      <th>4</th>\n",
              "      <th>5</th>\n",
              "      <th>6</th>\n",
              "      <th>All</th>\n",
              "      <th>0</th>\n",
              "      <th>1</th>\n",
              "      <th>2</th>\n",
              "      <th>3</th>\n",
              "      <th>4</th>\n",
              "      <th>5</th>\n",
              "      <th>6</th>\n",
              "      <th>All</th>\n",
              "    </tr>\n",
              "    <tr>\n",
              "      <th>타 상품 보유 현황</th>\n",
              "      <th></th>\n",
              "      <th></th>\n",
              "      <th></th>\n",
              "      <th></th>\n",
              "      <th></th>\n",
              "      <th></th>\n",
              "      <th></th>\n",
              "      <th></th>\n",
              "      <th></th>\n",
              "      <th></th>\n",
              "      <th></th>\n",
              "      <th></th>\n",
              "      <th></th>\n",
              "      <th></th>\n",
              "      <th></th>\n",
              "      <th></th>\n",
              "    </tr>\n",
              "  </thead>\n",
              "  <tbody>\n",
              "    <tr>\n",
              "      <th>1</th>\n",
              "      <td>329</td>\n",
              "      <td>1163</td>\n",
              "      <td>1026</td>\n",
              "      <td>568</td>\n",
              "      <td>439</td>\n",
              "      <td>403</td>\n",
              "      <td>355</td>\n",
              "      <td>4283</td>\n",
              "      <td>0.35</td>\n",
              "      <td>0.35</td>\n",
              "      <td>0.34</td>\n",
              "      <td>0.36</td>\n",
              "      <td>0.41</td>\n",
              "      <td>0.37</td>\n",
              "      <td>0.36</td>\n",
              "      <td>0.36</td>\n",
              "    </tr>\n",
              "    <tr>\n",
              "      <th>2</th>\n",
              "      <td>267</td>\n",
              "      <td>850</td>\n",
              "      <td>783</td>\n",
              "      <td>359</td>\n",
              "      <td>251</td>\n",
              "      <td>262</td>\n",
              "      <td>245</td>\n",
              "      <td>3017</td>\n",
              "      <td>0.28</td>\n",
              "      <td>0.26</td>\n",
              "      <td>0.26</td>\n",
              "      <td>0.23</td>\n",
              "      <td>0.23</td>\n",
              "      <td>0.24</td>\n",
              "      <td>0.25</td>\n",
              "      <td>0.25</td>\n",
              "    </tr>\n",
              "    <tr>\n",
              "      <th>3</th>\n",
              "      <td>120</td>\n",
              "      <td>421</td>\n",
              "      <td>391</td>\n",
              "      <td>229</td>\n",
              "      <td>132</td>\n",
              "      <td>147</td>\n",
              "      <td>105</td>\n",
              "      <td>1545</td>\n",
              "      <td>0.13</td>\n",
              "      <td>0.13</td>\n",
              "      <td>0.13</td>\n",
              "      <td>0.14</td>\n",
              "      <td>0.12</td>\n",
              "      <td>0.14</td>\n",
              "      <td>0.11</td>\n",
              "      <td>0.13</td>\n",
              "    </tr>\n",
              "    <tr>\n",
              "      <th>4이상</th>\n",
              "      <td>235</td>\n",
              "      <td>873</td>\n",
              "      <td>819</td>\n",
              "      <td>433</td>\n",
              "      <td>257</td>\n",
              "      <td>268</td>\n",
              "      <td>270</td>\n",
              "      <td>3155</td>\n",
              "      <td>0.25</td>\n",
              "      <td>0.26</td>\n",
              "      <td>0.27</td>\n",
              "      <td>0.27</td>\n",
              "      <td>0.24</td>\n",
              "      <td>0.25</td>\n",
              "      <td>0.28</td>\n",
              "      <td>0.26</td>\n",
              "    </tr>\n",
              "    <tr>\n",
              "      <th>All</th>\n",
              "      <td>951</td>\n",
              "      <td>3307</td>\n",
              "      <td>3019</td>\n",
              "      <td>1589</td>\n",
              "      <td>1079</td>\n",
              "      <td>1080</td>\n",
              "      <td>975</td>\n",
              "      <td>12000</td>\n",
              "      <td>NaN</td>\n",
              "      <td>NaN</td>\n",
              "      <td>NaN</td>\n",
              "      <td>NaN</td>\n",
              "      <td>NaN</td>\n",
              "      <td>NaN</td>\n",
              "      <td>NaN</td>\n",
              "      <td>NaN</td>\n",
              "    </tr>\n",
              "  </tbody>\n",
              "</table>\n",
              "</div>"
            ],
            "text/plain": [
              "cluster       0     1     2     3     4     5    6    All    0    1    2    3  \\\n",
              "타 상품 보유 현황                                                                      \n",
              "1           329  1163  1026   568   439   403  355   4283 0.35 0.35 0.34 0.36   \n",
              "2           267   850   783   359   251   262  245   3017 0.28 0.26 0.26 0.23   \n",
              "3           120   421   391   229   132   147  105   1545 0.13 0.13 0.13 0.14   \n",
              "4이상         235   873   819   433   257   268  270   3155 0.25 0.26 0.27 0.27   \n",
              "All         951  3307  3019  1589  1079  1080  975  12000  NaN  NaN  NaN  NaN   \n",
              "\n",
              "cluster       4    5    6  All  \n",
              "타 상품 보유 현황                      \n",
              "1          0.41 0.37 0.36 0.36  \n",
              "2          0.23 0.24 0.25 0.25  \n",
              "3          0.12 0.14 0.11 0.13  \n",
              "4이상        0.24 0.25 0.28 0.26  \n",
              "All         NaN  NaN  NaN  NaN  "
            ]
          },
          "metadata": {},
          "output_type": "display_data"
        },
        {
          "data": {
            "image/png": "[encoded data removed]",
            "text/plain": [
              "<Figure size 800x550 with 3 Axes>"
            ]
          },
          "metadata": {},
          "output_type": "display_data"
        }
      ],
      "source": [
        "# [문제 31] '타 상품 보유 현황' 열에 대해 crosstab을 활용해서 clust별 범주별 합계를 확인 해보자.\n",
        "feature = '타 상품 보유 현황'\n",
        "\n",
        "pro_df1 = pd.crosstab([result[feature]], result['cluster'], margins=True)\n",
        "\n",
        "pro_df2 = pd.crosstab([result[feature]], result['cluster'], margins=True, normalize='columns')\n",
        "pro_df2 = pro_df2.round(3)\n",
        "\n",
        "pro_df = pd.concat([pro_df1, pro_df2], axis=1)\n",
        "\n",
        "display(pro_df)\n",
        "\n",
        "mosaic(result.sort_values('cluster'), [ 'cluster', feature])\n",
        "plt.show()"
      ]
    },
    {
      "cell_type": "markdown",
      "id": "ffa64474",
      "metadata": {
        "id": "ffa64474"
      },
      "source": [
        "<b>**'타 상품 보유 현황\t' 변수에 대한 클러스터별 특징을 파악해보고 아래 주석에 적어보자!**\n",
        "( 바로 ppt에 작성을 해도 상관없다)"
      ]
    },
    {
      "cell_type": "code",
      "execution_count": 45,
      "id": "c4ce5f4e",
      "metadata": {
        "id": "c4ce5f4e"
      },
      "outputs": [],
      "source": [
        "#[문제32]"
      ]
    },
    {
      "cell_type": "markdown",
      "id": "45a81e45-e9cb-4786-8486-0ee6ef6c18c6",
      "metadata": {
        "id": "45a81e45-e9cb-4786-8486-0ee6ef6c18c6"
      },
      "source": [
        "### **13) 갱신 인센티브**"
      ]
    },
    {
      "cell_type": "code",
      "execution_count": 46,
      "id": "6e9ab842-6299-4a30-ad3d-2cd60901c9f1",
      "metadata": {
        "colab": {
          "base_uri": "https://localhost:8080/",
          "height": 703
        },
        "id": "6e9ab842-6299-4a30-ad3d-2cd60901c9f1",
        "outputId": "57100f4f-a01d-413b-84a1-f4f7fd651cf9"
      },
      "outputs": [
        {
          "data": {
            "text/html": [
              "<div>\n",
              "<style scoped>\n",
              "    .dataframe tbody tr th:only-of-type {\n",
              "        vertical-align: middle;\n",
              "    }\n",
              "\n",
              "    .dataframe tbody tr th {\n",
              "        vertical-align: top;\n",
              "    }\n",
              "\n",
              "    .dataframe thead th {\n",
              "        text-align: right;\n",
              "    }\n",
              "</style>\n",
              "<table border=\"1\" class=\"dataframe\">\n",
              "  <thead>\n",
              "    <tr style=\"text-align: right;\">\n",
              "      <th>cluster</th>\n",
              "      <th>0</th>\n",
              "      <th>1</th>\n",
              "      <th>2</th>\n",
              "      <th>3</th>\n",
              "      <th>4</th>\n",
              "      <th>5</th>\n",
              "      <th>6</th>\n",
              "      <th>All</th>\n",
              "      <th>0</th>\n",
              "      <th>1</th>\n",
              "      <th>2</th>\n",
              "      <th>3</th>\n",
              "      <th>4</th>\n",
              "      <th>5</th>\n",
              "      <th>6</th>\n",
              "      <th>All</th>\n",
              "    </tr>\n",
              "    <tr>\n",
              "      <th>갱신인센티브</th>\n",
              "      <th></th>\n",
              "      <th></th>\n",
              "      <th></th>\n",
              "      <th></th>\n",
              "      <th></th>\n",
              "      <th></th>\n",
              "      <th></th>\n",
              "      <th></th>\n",
              "      <th></th>\n",
              "      <th></th>\n",
              "      <th></th>\n",
              "      <th></th>\n",
              "      <th></th>\n",
              "      <th></th>\n",
              "      <th></th>\n",
              "      <th></th>\n",
              "    </tr>\n",
              "  </thead>\n",
              "  <tbody>\n",
              "    <tr>\n",
              "      <th>설계사독려</th>\n",
              "      <td>255</td>\n",
              "      <td>1141</td>\n",
              "      <td>718</td>\n",
              "      <td>701</td>\n",
              "      <td>382</td>\n",
              "      <td>381</td>\n",
              "      <td>287</td>\n",
              "      <td>3865</td>\n",
              "      <td>0.27</td>\n",
              "      <td>0.34</td>\n",
              "      <td>0.24</td>\n",
              "      <td>0.44</td>\n",
              "      <td>0.35</td>\n",
              "      <td>0.35</td>\n",
              "      <td>0.29</td>\n",
              "      <td>0.32</td>\n",
              "    </tr>\n",
              "    <tr>\n",
              "      <th>없음</th>\n",
              "      <td>64</td>\n",
              "      <td>441</td>\n",
              "      <td>240</td>\n",
              "      <td>228</td>\n",
              "      <td>118</td>\n",
              "      <td>149</td>\n",
              "      <td>98</td>\n",
              "      <td>1338</td>\n",
              "      <td>0.07</td>\n",
              "      <td>0.13</td>\n",
              "      <td>0.08</td>\n",
              "      <td>0.14</td>\n",
              "      <td>0.11</td>\n",
              "      <td>0.14</td>\n",
              "      <td>0.10</td>\n",
              "      <td>0.11</td>\n",
              "    </tr>\n",
              "    <tr>\n",
              "      <th>포인트</th>\n",
              "      <td>145</td>\n",
              "      <td>572</td>\n",
              "      <td>433</td>\n",
              "      <td>233</td>\n",
              "      <td>159</td>\n",
              "      <td>197</td>\n",
              "      <td>152</td>\n",
              "      <td>1891</td>\n",
              "      <td>0.15</td>\n",
              "      <td>0.17</td>\n",
              "      <td>0.14</td>\n",
              "      <td>0.15</td>\n",
              "      <td>0.15</td>\n",
              "      <td>0.18</td>\n",
              "      <td>0.16</td>\n",
              "      <td>0.16</td>\n",
              "    </tr>\n",
              "    <tr>\n",
              "      <th>할인</th>\n",
              "      <td>487</td>\n",
              "      <td>1153</td>\n",
              "      <td>1628</td>\n",
              "      <td>427</td>\n",
              "      <td>420</td>\n",
              "      <td>353</td>\n",
              "      <td>438</td>\n",
              "      <td>4906</td>\n",
              "      <td>0.51</td>\n",
              "      <td>0.35</td>\n",
              "      <td>0.54</td>\n",
              "      <td>0.27</td>\n",
              "      <td>0.39</td>\n",
              "      <td>0.33</td>\n",
              "      <td>0.45</td>\n",
              "      <td>0.41</td>\n",
              "    </tr>\n",
              "    <tr>\n",
              "      <th>All</th>\n",
              "      <td>951</td>\n",
              "      <td>3307</td>\n",
              "      <td>3019</td>\n",
              "      <td>1589</td>\n",
              "      <td>1079</td>\n",
              "      <td>1080</td>\n",
              "      <td>975</td>\n",
              "      <td>12000</td>\n",
              "      <td>NaN</td>\n",
              "      <td>NaN</td>\n",
              "      <td>NaN</td>\n",
              "      <td>NaN</td>\n",
              "      <td>NaN</td>\n",
              "      <td>NaN</td>\n",
              "      <td>NaN</td>\n",
              "      <td>NaN</td>\n",
              "    </tr>\n",
              "  </tbody>\n",
              "</table>\n",
              "</div>"
            ],
            "text/plain": [
              "cluster    0     1     2     3     4     5    6    All    0    1    2    3  \\\n",
              "갱신인센티브                                                                       \n",
              "설계사독려    255  1141   718   701   382   381  287   3865 0.27 0.34 0.24 0.44   \n",
              "없음        64   441   240   228   118   149   98   1338 0.07 0.13 0.08 0.14   \n",
              "포인트      145   572   433   233   159   197  152   1891 0.15 0.17 0.14 0.15   \n",
              "할인       487  1153  1628   427   420   353  438   4906 0.51 0.35 0.54 0.27   \n",
              "All      951  3307  3019  1589  1079  1080  975  12000  NaN  NaN  NaN  NaN   \n",
              "\n",
              "cluster    4    5    6  All  \n",
              "갱신인센티브                       \n",
              "설계사독려   0.35 0.35 0.29 0.32  \n",
              "없음      0.11 0.14 0.10 0.11  \n",
              "포인트     0.15 0.18 0.16 0.16  \n",
              "할인      0.39 0.33 0.45 0.41  \n",
              "All      NaN  NaN  NaN  NaN  "
            ]
          },
          "metadata": {},
          "output_type": "display_data"
        },
        {
          "data": {
            "image/png": "[encoded data removed]",
            "text/plain": [
              "<Figure size 800x550 with 3 Axes>"
            ]
          },
          "metadata": {},
          "output_type": "display_data"
        }
      ],
      "source": [
        "# [문제 33] '갱신인센티브' 열에 대해 crosstab을 활용해서 clust별 범주별 합계를 확인 해보자.\n",
        "\n",
        "feature = '갱신인센티브'\n",
        "\n",
        "pro_df1 = pd.crosstab([result[feature]], result['cluster'], margins=True)\n",
        "\n",
        "pro_df2 = pd.crosstab([result[feature]], result['cluster'], margins=True, normalize='columns')\n",
        "pro_df2 = pro_df2.round(3)\n",
        "\n",
        "pro_df = pd.concat([pro_df1, pro_df2], axis=1)\n",
        "\n",
        "display(pro_df)\n",
        "\n",
        "mosaic(result.sort_values('cluster'), [ 'cluster', feature])\n",
        "plt.show()"
      ]
    },
    {
      "cell_type": "markdown",
      "id": "6bbf3acf-e2e3-40a2-b328-af7fce4a397a",
      "metadata": {
        "id": "6bbf3acf-e2e3-40a2-b328-af7fce4a397a"
      },
      "source": [
        "<b>**'갱신인센티브\t' 변수에 대한 클러스터별 특징을 파악해보고 아래 주석에 적어보자!**\n",
        "( 바로 ppt에 작성을 해도 상관없다)"
      ]
    },
    {
      "cell_type": "code",
      "execution_count": 47,
      "id": "31379397",
      "metadata": {
        "id": "31379397"
      },
      "outputs": [],
      "source": [
        "#[문제 34]"
      ]
    },
    {
      "cell_type": "markdown",
      "id": "4dc3fd6b-ab07-4a57-b2d5-194c329e579d",
      "metadata": {
        "id": "4dc3fd6b-ab07-4a57-b2d5-194c329e579d"
      },
      "source": [
        "### **14) 총 지불 금액(수치)**"
      ]
    },
    {
      "cell_type": "code",
      "execution_count": 48,
      "id": "9a16ee05-4f5c-497f-b2d6-26cc6cee44a6",
      "metadata": {
        "colab": {
          "base_uri": "https://localhost:8080/",
          "height": 832
        },
        "id": "9a16ee05-4f5c-497f-b2d6-26cc6cee44a6",
        "outputId": "457bab2e-eada-4df2-a774-047d8092f366"
      },
      "outputs": [
        {
          "data": {
            "text/html": [
              "<div>\n",
              "<style scoped>\n",
              "    .dataframe tbody tr th:only-of-type {\n",
              "        vertical-align: middle;\n",
              "    }\n",
              "\n",
              "    .dataframe tbody tr th {\n",
              "        vertical-align: top;\n",
              "    }\n",
              "\n",
              "    .dataframe thead tr th {\n",
              "        text-align: left;\n",
              "    }\n",
              "\n",
              "    .dataframe thead tr:last-of-type th {\n",
              "        text-align: right;\n",
              "    }\n",
              "</style>\n",
              "<table border=\"1\" class=\"dataframe\">\n",
              "  <thead>\n",
              "    <tr>\n",
              "      <th></th>\n",
              "      <th colspan=\"4\" halign=\"left\">총지불금액</th>\n",
              "    </tr>\n",
              "    <tr>\n",
              "      <th></th>\n",
              "      <th>max</th>\n",
              "      <th>min</th>\n",
              "      <th>mean</th>\n",
              "      <th>median</th>\n",
              "    </tr>\n",
              "    <tr>\n",
              "      <th>cluster</th>\n",
              "      <th></th>\n",
              "      <th></th>\n",
              "      <th></th>\n",
              "      <th></th>\n",
              "    </tr>\n",
              "  </thead>\n",
              "  <tbody>\n",
              "    <tr>\n",
              "      <th>0</th>\n",
              "      <td>2663000</td>\n",
              "      <td>1000</td>\n",
              "      <td>717643.53</td>\n",
              "      <td>674000.00</td>\n",
              "    </tr>\n",
              "    <tr>\n",
              "      <th>1</th>\n",
              "      <td>1512000</td>\n",
              "      <td>1000</td>\n",
              "      <td>421922.89</td>\n",
              "      <td>409000.00</td>\n",
              "    </tr>\n",
              "    <tr>\n",
              "      <th>2</th>\n",
              "      <td>1919000</td>\n",
              "      <td>3000</td>\n",
              "      <td>622037.43</td>\n",
              "      <td>578000.00</td>\n",
              "    </tr>\n",
              "    <tr>\n",
              "      <th>3</th>\n",
              "      <td>1040000</td>\n",
              "      <td>0</td>\n",
              "      <td>343249.84</td>\n",
              "      <td>351000.00</td>\n",
              "    </tr>\n",
              "    <tr>\n",
              "      <th>4</th>\n",
              "      <td>1700000</td>\n",
              "      <td>1000</td>\n",
              "      <td>448273.40</td>\n",
              "      <td>427000.00</td>\n",
              "    </tr>\n",
              "    <tr>\n",
              "      <th>5</th>\n",
              "      <td>1340000</td>\n",
              "      <td>2000</td>\n",
              "      <td>380673.15</td>\n",
              "      <td>385000.00</td>\n",
              "    </tr>\n",
              "    <tr>\n",
              "      <th>6</th>\n",
              "      <td>3573000</td>\n",
              "      <td>2000</td>\n",
              "      <td>1057515.90</td>\n",
              "      <td>957000.00</td>\n",
              "    </tr>\n",
              "  </tbody>\n",
              "</table>\n",
              "</div>"
            ],
            "text/plain": [
              "           총지불금액                           \n",
              "             max   min       mean    median\n",
              "cluster                                    \n",
              "0        2663000  1000  717643.53 674000.00\n",
              "1        1512000  1000  421922.89 409000.00\n",
              "2        1919000  3000  622037.43 578000.00\n",
              "3        1040000     0  343249.84 351000.00\n",
              "4        1700000  1000  448273.40 427000.00\n",
              "5        1340000  2000  380673.15 385000.00\n",
              "6        3573000  2000 1057515.90 957000.00"
            ]
          },
          "metadata": {},
          "output_type": "display_data"
        },
        {
          "data": {
            "image/png": "[encoded data removed]",
            "text/plain": [
              "<Figure size 800x550 with 1 Axes>"
            ]
          },
          "metadata": {},
          "output_type": "display_data"
        }
      ],
      "source": [
        "# [문제 35] '총지불금액'은 수치형으로 각 clust 별 min,max,mean,median 통계 값으로 확인해보자.\n",
        "# groupby 와 agg() 메소드를 활용하여 도출해 보자.\n",
        "\n",
        "feature = '총지불금액'\n",
        "display(result[['cluster',feature]].groupby(['cluster']).agg(['max','min','mean','median']))\n",
        "\n",
        "# 시각화를 해 봅시다.\n",
        "sns.barplot(x='cluster', y=feature, data=result, palette='cool')\n",
        "plt.show()\n",
        "\n",
        "# 시각화를 해 봅시다.\n"
      ]
    },
    {
      "cell_type": "markdown",
      "id": "a8e84e16",
      "metadata": {
        "id": "a8e84e16"
      },
      "source": [
        "<b>**'총지불금액' 변수에 대한 클러스터별 특징을 파악해보고 아래 주석에 적어보자!**\n",
        "( 바로 ppt에 작성을 해도 상관없다)"
      ]
    },
    {
      "cell_type": "code",
      "execution_count": 49,
      "id": "4116f0c1",
      "metadata": {
        "id": "4116f0c1"
      },
      "outputs": [],
      "source": [
        "#[문제 36]"
      ]
    },
    {
      "cell_type": "markdown",
      "id": "55ad9c65-1ae7-439e-ba42-cfa141f8d181",
      "metadata": {
        "id": "55ad9c65-1ae7-439e-ba42-cfa141f8d181"
      },
      "source": [
        "### **15) 자동차**"
      ]
    },
    {
      "cell_type": "code",
      "execution_count": 50,
      "id": "f53e5c92-5fba-4e39-859b-bc2b438bf02b",
      "metadata": {
        "colab": {
          "base_uri": "https://localhost:8080/",
          "height": 749
        },
        "id": "f53e5c92-5fba-4e39-859b-bc2b438bf02b",
        "outputId": "d2fa8749-a053-4620-cdbf-3c7f15761859"
      },
      "outputs": [
        {
          "data": {
            "text/html": [
              "<div>\n",
              "<style scoped>\n",
              "    .dataframe tbody tr th:only-of-type {\n",
              "        vertical-align: middle;\n",
              "    }\n",
              "\n",
              "    .dataframe tbody tr th {\n",
              "        vertical-align: top;\n",
              "    }\n",
              "\n",
              "    .dataframe thead th {\n",
              "        text-align: right;\n",
              "    }\n",
              "</style>\n",
              "<table border=\"1\" class=\"dataframe\">\n",
              "  <thead>\n",
              "    <tr style=\"text-align: right;\">\n",
              "      <th>cluster</th>\n",
              "      <th>0</th>\n",
              "      <th>1</th>\n",
              "      <th>2</th>\n",
              "      <th>3</th>\n",
              "      <th>4</th>\n",
              "      <th>5</th>\n",
              "      <th>6</th>\n",
              "      <th>All</th>\n",
              "      <th>0</th>\n",
              "      <th>1</th>\n",
              "      <th>2</th>\n",
              "      <th>3</th>\n",
              "      <th>4</th>\n",
              "      <th>5</th>\n",
              "      <th>6</th>\n",
              "      <th>All</th>\n",
              "    </tr>\n",
              "    <tr>\n",
              "      <th>자동차</th>\n",
              "      <th></th>\n",
              "      <th></th>\n",
              "      <th></th>\n",
              "      <th></th>\n",
              "      <th></th>\n",
              "      <th></th>\n",
              "      <th></th>\n",
              "      <th></th>\n",
              "      <th></th>\n",
              "      <th></th>\n",
              "      <th></th>\n",
              "      <th></th>\n",
              "      <th></th>\n",
              "      <th></th>\n",
              "      <th></th>\n",
              "      <th></th>\n",
              "    </tr>\n",
              "  </thead>\n",
              "  <tbody>\n",
              "    <tr>\n",
              "      <th>SUV</th>\n",
              "      <td>194</td>\n",
              "      <td>716</td>\n",
              "      <td>698</td>\n",
              "      <td>315</td>\n",
              "      <td>209</td>\n",
              "      <td>200</td>\n",
              "      <td>4</td>\n",
              "      <td>2336</td>\n",
              "      <td>0.20</td>\n",
              "      <td>0.22</td>\n",
              "      <td>0.23</td>\n",
              "      <td>0.20</td>\n",
              "      <td>0.19</td>\n",
              "      <td>0.18</td>\n",
              "      <td>0.00</td>\n",
              "      <td>0.20</td>\n",
              "    </tr>\n",
              "    <tr>\n",
              "      <th>고급차</th>\n",
              "      <td>0</td>\n",
              "      <td>0</td>\n",
              "      <td>0</td>\n",
              "      <td>0</td>\n",
              "      <td>0</td>\n",
              "      <td>0</td>\n",
              "      <td>454</td>\n",
              "      <td>454</td>\n",
              "      <td>0.00</td>\n",
              "      <td>0.00</td>\n",
              "      <td>0.00</td>\n",
              "      <td>0.00</td>\n",
              "      <td>0.00</td>\n",
              "      <td>0.00</td>\n",
              "      <td>0.47</td>\n",
              "      <td>0.04</td>\n",
              "    </tr>\n",
              "    <tr>\n",
              "      <th>스포츠카</th>\n",
              "      <td>6</td>\n",
              "      <td>5</td>\n",
              "      <td>5</td>\n",
              "      <td>46</td>\n",
              "      <td>34</td>\n",
              "      <td>39</td>\n",
              "      <td>517</td>\n",
              "      <td>652</td>\n",
              "      <td>0.01</td>\n",
              "      <td>0.00</td>\n",
              "      <td>0.00</td>\n",
              "      <td>0.03</td>\n",
              "      <td>0.03</td>\n",
              "      <td>0.04</td>\n",
              "      <td>0.53</td>\n",
              "      <td>0.05</td>\n",
              "    </tr>\n",
              "    <tr>\n",
              "      <th>일반세단</th>\n",
              "      <td>556</td>\n",
              "      <td>1879</td>\n",
              "      <td>1653</td>\n",
              "      <td>833</td>\n",
              "      <td>564</td>\n",
              "      <td>589</td>\n",
              "      <td>0</td>\n",
              "      <td>6074</td>\n",
              "      <td>0.58</td>\n",
              "      <td>0.57</td>\n",
              "      <td>0.55</td>\n",
              "      <td>0.52</td>\n",
              "      <td>0.52</td>\n",
              "      <td>0.55</td>\n",
              "      <td>0.00</td>\n",
              "      <td>0.51</td>\n",
              "    </tr>\n",
              "    <tr>\n",
              "      <th>컴팩트카</th>\n",
              "      <td>195</td>\n",
              "      <td>707</td>\n",
              "      <td>663</td>\n",
              "      <td>395</td>\n",
              "      <td>272</td>\n",
              "      <td>252</td>\n",
              "      <td>0</td>\n",
              "      <td>2484</td>\n",
              "      <td>0.20</td>\n",
              "      <td>0.21</td>\n",
              "      <td>0.22</td>\n",
              "      <td>0.25</td>\n",
              "      <td>0.25</td>\n",
              "      <td>0.23</td>\n",
              "      <td>0.00</td>\n",
              "      <td>0.21</td>\n",
              "    </tr>\n",
              "    <tr>\n",
              "      <th>All</th>\n",
              "      <td>951</td>\n",
              "      <td>3307</td>\n",
              "      <td>3019</td>\n",
              "      <td>1589</td>\n",
              "      <td>1079</td>\n",
              "      <td>1080</td>\n",
              "      <td>975</td>\n",
              "      <td>12000</td>\n",
              "      <td>NaN</td>\n",
              "      <td>NaN</td>\n",
              "      <td>NaN</td>\n",
              "      <td>NaN</td>\n",
              "      <td>NaN</td>\n",
              "      <td>NaN</td>\n",
              "      <td>NaN</td>\n",
              "      <td>NaN</td>\n",
              "    </tr>\n",
              "  </tbody>\n",
              "</table>\n",
              "</div>"
            ],
            "text/plain": [
              "cluster    0     1     2     3     4     5    6    All    0    1    2    3  \\\n",
              "자동차                                                                          \n",
              "SUV      194   716   698   315   209   200    4   2336 0.20 0.22 0.23 0.20   \n",
              "고급차        0     0     0     0     0     0  454    454 0.00 0.00 0.00 0.00   \n",
              "스포츠카       6     5     5    46    34    39  517    652 0.01 0.00 0.00 0.03   \n",
              "일반세단     556  1879  1653   833   564   589    0   6074 0.58 0.57 0.55 0.52   \n",
              "컴팩트카     195   707   663   395   272   252    0   2484 0.20 0.21 0.22 0.25   \n",
              "All      951  3307  3019  1589  1079  1080  975  12000  NaN  NaN  NaN  NaN   \n",
              "\n",
              "cluster    4    5    6  All  \n",
              "자동차                          \n",
              "SUV     0.19 0.18 0.00 0.20  \n",
              "고급차     0.00 0.00 0.47 0.04  \n",
              "스포츠카    0.03 0.04 0.53 0.05  \n",
              "일반세단    0.52 0.55 0.00 0.51  \n",
              "컴팩트카    0.25 0.23 0.00 0.21  \n",
              "All      NaN  NaN  NaN  NaN  "
            ]
          },
          "metadata": {},
          "output_type": "display_data"
        },
        {
          "data": {
            "image/png": "[encoded data removed]",
            "text/plain": [
              "<Figure size 800x550 with 3 Axes>"
            ]
          },
          "metadata": {},
          "output_type": "display_data"
        }
      ],
      "source": [
        "# [문제 37] '자동차' 열에 대해 crosstab을 활용해서 clust별 범주별 합계를 확인 해보자.\n",
        "\n",
        "feature = '자동차'\n",
        "\n",
        "pro_df1 = pd.crosstab([result[feature]], result['cluster'], margins=True)\n",
        "\n",
        "pro_df2 = pd.crosstab([result[feature]], result['cluster'], margins=True, normalize='columns')\n",
        "pro_df2 = pro_df2.round(3)\n",
        "\n",
        "pro_df = pd.concat([pro_df1, pro_df2], axis=1)\n",
        "\n",
        "display(pro_df)\n",
        "\n",
        "mosaic(result.sort_values('cluster'), [ 'cluster', feature])\n",
        "plt.show()"
      ]
    },
    {
      "cell_type": "markdown",
      "id": "7137a0f8",
      "metadata": {
        "id": "7137a0f8"
      },
      "source": [
        "<b>**'자동차' 변수에 대한 클러스터별 특징을 파악해보고 아래 주석에 적어보자!**\n",
        "( 바로 ppt에 작성을 해도 상관없다)"
      ]
    },
    {
      "cell_type": "code",
      "execution_count": 51,
      "id": "8a2ed522",
      "metadata": {
        "id": "8a2ed522"
      },
      "outputs": [],
      "source": [
        "#[문제38]"
      ]
    },
    {
      "cell_type": "markdown",
      "id": "320f4f71-f004-4cdd-b451-82bfa24ae6f2",
      "metadata": {
        "id": "320f4f71-f004-4cdd-b451-82bfa24ae6f2"
      },
      "source": [
        " ### **16) 거주지 사이즈**"
      ]
    },
    {
      "cell_type": "code",
      "execution_count": 52,
      "id": "dff26d04-81b3-4a71-988d-472b6cf2fbfc",
      "metadata": {
        "colab": {
          "base_uri": "https://localhost:8080/",
          "height": 641
        },
        "id": "dff26d04-81b3-4a71-988d-472b6cf2fbfc",
        "outputId": "c8690738-aae2-4285-fe41-190b3cad7408"
      },
      "outputs": [
        {
          "data": {
            "text/html": [
              "<div>\n",
              "<style scoped>\n",
              "    .dataframe tbody tr th:only-of-type {\n",
              "        vertical-align: middle;\n",
              "    }\n",
              "\n",
              "    .dataframe tbody tr th {\n",
              "        vertical-align: top;\n",
              "    }\n",
              "\n",
              "    .dataframe thead th {\n",
              "        text-align: right;\n",
              "    }\n",
              "</style>\n",
              "<table border=\"1\" class=\"dataframe\">\n",
              "  <thead>\n",
              "    <tr style=\"text-align: right;\">\n",
              "      <th>cluster</th>\n",
              "      <th>0</th>\n",
              "      <th>1</th>\n",
              "      <th>2</th>\n",
              "      <th>3</th>\n",
              "      <th>4</th>\n",
              "      <th>5</th>\n",
              "      <th>6</th>\n",
              "      <th>All</th>\n",
              "      <th>0</th>\n",
              "      <th>1</th>\n",
              "      <th>2</th>\n",
              "      <th>3</th>\n",
              "      <th>4</th>\n",
              "      <th>5</th>\n",
              "      <th>6</th>\n",
              "      <th>All</th>\n",
              "    </tr>\n",
              "    <tr>\n",
              "      <th>등록(계/피)</th>\n",
              "      <th></th>\n",
              "      <th></th>\n",
              "      <th></th>\n",
              "      <th></th>\n",
              "      <th></th>\n",
              "      <th></th>\n",
              "      <th></th>\n",
              "      <th></th>\n",
              "      <th></th>\n",
              "      <th></th>\n",
              "      <th></th>\n",
              "      <th></th>\n",
              "      <th></th>\n",
              "      <th></th>\n",
              "      <th></th>\n",
              "      <th></th>\n",
              "    </tr>\n",
              "  </thead>\n",
              "  <tbody>\n",
              "    <tr>\n",
              "      <th>계약자</th>\n",
              "      <td>747</td>\n",
              "      <td>2572</td>\n",
              "      <td>2388</td>\n",
              "      <td>1225</td>\n",
              "      <td>852</td>\n",
              "      <td>875</td>\n",
              "      <td>766</td>\n",
              "      <td>9425</td>\n",
              "      <td>0.79</td>\n",
              "      <td>0.78</td>\n",
              "      <td>0.79</td>\n",
              "      <td>0.77</td>\n",
              "      <td>0.79</td>\n",
              "      <td>0.81</td>\n",
              "      <td>0.79</td>\n",
              "      <td>0.79</td>\n",
              "    </tr>\n",
              "    <tr>\n",
              "      <th>피보험자</th>\n",
              "      <td>204</td>\n",
              "      <td>735</td>\n",
              "      <td>631</td>\n",
              "      <td>364</td>\n",
              "      <td>227</td>\n",
              "      <td>205</td>\n",
              "      <td>209</td>\n",
              "      <td>2575</td>\n",
              "      <td>0.21</td>\n",
              "      <td>0.22</td>\n",
              "      <td>0.21</td>\n",
              "      <td>0.23</td>\n",
              "      <td>0.21</td>\n",
              "      <td>0.19</td>\n",
              "      <td>0.21</td>\n",
              "      <td>0.21</td>\n",
              "    </tr>\n",
              "    <tr>\n",
              "      <th>All</th>\n",
              "      <td>951</td>\n",
              "      <td>3307</td>\n",
              "      <td>3019</td>\n",
              "      <td>1589</td>\n",
              "      <td>1079</td>\n",
              "      <td>1080</td>\n",
              "      <td>975</td>\n",
              "      <td>12000</td>\n",
              "      <td>NaN</td>\n",
              "      <td>NaN</td>\n",
              "      <td>NaN</td>\n",
              "      <td>NaN</td>\n",
              "      <td>NaN</td>\n",
              "      <td>NaN</td>\n",
              "      <td>NaN</td>\n",
              "      <td>NaN</td>\n",
              "    </tr>\n",
              "  </tbody>\n",
              "</table>\n",
              "</div>"
            ],
            "text/plain": [
              "cluster    0     1     2     3     4     5    6    All    0    1    2    3  \\\n",
              "등록(계/피)                                                                      \n",
              "계약자      747  2572  2388  1225   852   875  766   9425 0.79 0.78 0.79 0.77   \n",
              "피보험자     204   735   631   364   227   205  209   2575 0.21 0.22 0.21 0.23   \n",
              "All      951  3307  3019  1589  1079  1080  975  12000  NaN  NaN  NaN  NaN   \n",
              "\n",
              "cluster    4    5    6  All  \n",
              "등록(계/피)                      \n",
              "계약자     0.79 0.81 0.79 0.79  \n",
              "피보험자    0.21 0.19 0.21 0.21  \n",
              "All      NaN  NaN  NaN  NaN  "
            ]
          },
          "metadata": {},
          "output_type": "display_data"
        },
        {
          "data": {
            "image/png": "[encoded data removed]",
            "text/plain": [
              "<Figure size 800x550 with 3 Axes>"
            ]
          },
          "metadata": {},
          "output_type": "display_data"
        }
      ],
      "source": [
        "# [문제 39] '거주지사이즈' 열에 대해 crosstab을 활용해서 clust별 범주별 합계를 확인 해보자.\n",
        "\n",
        "feature = '등록(계/피)'\n",
        "\n",
        "pro_df1 = pd.crosstab([result[feature]], result['cluster'], margins=True)\n",
        "\n",
        "pro_df2 = pd.crosstab([result[feature]], result['cluster'], margins=True, normalize='columns')\n",
        "pro_df2 = pro_df2.round(3)\n",
        "\n",
        "pro_df = pd.concat([pro_df1, pro_df2], axis=1)\n",
        "\n",
        "display(pro_df)\n",
        "\n",
        "mosaic(result.sort_values('cluster'), [ 'cluster', feature])\n",
        "plt.show()"
      ]
    },
    {
      "cell_type": "markdown",
      "id": "4255066b",
      "metadata": {
        "id": "4255066b"
      },
      "source": [
        "<b>**'거주지사이즈' 변수에 대한 클러스터별 특징을 파악해보고 아래 주석에 적어보자!**\n",
        "( 바로 ppt에 작성을 해도 상관없다)"
      ]
    },
    {
      "cell_type": "code",
      "execution_count": 53,
      "id": "97a19706",
      "metadata": {
        "id": "97a19706"
      },
      "outputs": [],
      "source": [
        "#[문제40]"
      ]
    },
    {
      "cell_type": "markdown",
      "id": "36449b0b-3063-47f0-9919-4e1117062b41",
      "metadata": {
        "id": "36449b0b-3063-47f0-9919-4e1117062b41"
      },
      "source": [
        "### **17) 갱신**"
      ]
    },
    {
      "cell_type": "code",
      "execution_count": 54,
      "id": "1b3b026e-b3fd-4536-aaa2-3c4eaf597ffd",
      "metadata": {
        "colab": {
          "base_uri": "https://localhost:8080/",
          "height": 642
        },
        "id": "1b3b026e-b3fd-4536-aaa2-3c4eaf597ffd",
        "outputId": "67842725-d49f-4288-bf58-79950b6b8370"
      },
      "outputs": [
        {
          "data": {
            "text/html": [
              "<div>\n",
              "<style scoped>\n",
              "    .dataframe tbody tr th:only-of-type {\n",
              "        vertical-align: middle;\n",
              "    }\n",
              "\n",
              "    .dataframe tbody tr th {\n",
              "        vertical-align: top;\n",
              "    }\n",
              "\n",
              "    .dataframe thead th {\n",
              "        text-align: right;\n",
              "    }\n",
              "</style>\n",
              "<table border=\"1\" class=\"dataframe\">\n",
              "  <thead>\n",
              "    <tr style=\"text-align: right;\">\n",
              "      <th>cluster</th>\n",
              "      <th>0</th>\n",
              "      <th>1</th>\n",
              "      <th>2</th>\n",
              "      <th>3</th>\n",
              "      <th>4</th>\n",
              "      <th>5</th>\n",
              "      <th>6</th>\n",
              "      <th>All</th>\n",
              "      <th>0</th>\n",
              "      <th>1</th>\n",
              "      <th>2</th>\n",
              "      <th>3</th>\n",
              "      <th>4</th>\n",
              "      <th>5</th>\n",
              "      <th>6</th>\n",
              "      <th>All</th>\n",
              "    </tr>\n",
              "    <tr>\n",
              "      <th>갱신</th>\n",
              "      <th></th>\n",
              "      <th></th>\n",
              "      <th></th>\n",
              "      <th></th>\n",
              "      <th></th>\n",
              "      <th></th>\n",
              "      <th></th>\n",
              "      <th></th>\n",
              "      <th></th>\n",
              "      <th></th>\n",
              "      <th></th>\n",
              "      <th></th>\n",
              "      <th></th>\n",
              "      <th></th>\n",
              "      <th></th>\n",
              "      <th></th>\n",
              "    </tr>\n",
              "  </thead>\n",
              "  <tbody>\n",
              "    <tr>\n",
              "      <th>0</th>\n",
              "      <td>825</td>\n",
              "      <td>2908</td>\n",
              "      <td>2540</td>\n",
              "      <td>1386</td>\n",
              "      <td>868</td>\n",
              "      <td>922</td>\n",
              "      <td>835</td>\n",
              "      <td>10284</td>\n",
              "      <td>0.87</td>\n",
              "      <td>0.88</td>\n",
              "      <td>0.84</td>\n",
              "      <td>0.87</td>\n",
              "      <td>0.80</td>\n",
              "      <td>0.85</td>\n",
              "      <td>0.86</td>\n",
              "      <td>0.86</td>\n",
              "    </tr>\n",
              "    <tr>\n",
              "      <th>1</th>\n",
              "      <td>126</td>\n",
              "      <td>399</td>\n",
              "      <td>479</td>\n",
              "      <td>203</td>\n",
              "      <td>211</td>\n",
              "      <td>158</td>\n",
              "      <td>140</td>\n",
              "      <td>1716</td>\n",
              "      <td>0.13</td>\n",
              "      <td>0.12</td>\n",
              "      <td>0.16</td>\n",
              "      <td>0.13</td>\n",
              "      <td>0.20</td>\n",
              "      <td>0.15</td>\n",
              "      <td>0.14</td>\n",
              "      <td>0.14</td>\n",
              "    </tr>\n",
              "    <tr>\n",
              "      <th>All</th>\n",
              "      <td>951</td>\n",
              "      <td>3307</td>\n",
              "      <td>3019</td>\n",
              "      <td>1589</td>\n",
              "      <td>1079</td>\n",
              "      <td>1080</td>\n",
              "      <td>975</td>\n",
              "      <td>12000</td>\n",
              "      <td>NaN</td>\n",
              "      <td>NaN</td>\n",
              "      <td>NaN</td>\n",
              "      <td>NaN</td>\n",
              "      <td>NaN</td>\n",
              "      <td>NaN</td>\n",
              "      <td>NaN</td>\n",
              "      <td>NaN</td>\n",
              "    </tr>\n",
              "  </tbody>\n",
              "</table>\n",
              "</div>"
            ],
            "text/plain": [
              "cluster    0     1     2     3     4     5    6    All    0    1    2    3  \\\n",
              "갱신                                                                           \n",
              "0        825  2908  2540  1386   868   922  835  10284 0.87 0.88 0.84 0.87   \n",
              "1        126   399   479   203   211   158  140   1716 0.13 0.12 0.16 0.13   \n",
              "All      951  3307  3019  1589  1079  1080  975  12000  NaN  NaN  NaN  NaN   \n",
              "\n",
              "cluster    4    5    6  All  \n",
              "갱신                           \n",
              "0       0.80 0.85 0.86 0.86  \n",
              "1       0.20 0.15 0.14 0.14  \n",
              "All      NaN  NaN  NaN  NaN  "
            ]
          },
          "metadata": {},
          "output_type": "display_data"
        },
        {
          "data": {
            "image/png": "[encoded data removed]",
            "text/plain": [
              "<Figure size 800x550 with 3 Axes>"
            ]
          },
          "metadata": {},
          "output_type": "display_data"
        }
      ],
      "source": [
        "# [문제 41] '갱신' 열에 대해 crosstab을 활용해서 clust별 범주별 합계를 확인 해보자.\n",
        "feature = '갱신'\n",
        "\n",
        "pro_df1 = pd.crosstab([result[feature]], result['cluster'], margins=True)\n",
        "\n",
        "pro_df2 = pd.crosstab([result[feature]], result['cluster'], margins=True, normalize='columns')\n",
        "pro_df2 = pro_df2.round(3)\n",
        "\n",
        "pro_df = pd.concat([pro_df1, pro_df2], axis=1)\n",
        "\n",
        "display(pro_df)\n",
        "\n",
        "mosaic(result.sort_values('cluster'), [ 'cluster', feature])\n",
        "plt.show()\n"
      ]
    },
    {
      "cell_type": "markdown",
      "id": "c2e977f4",
      "metadata": {
        "id": "c2e977f4"
      },
      "source": [
        "<b>**'갱신' 변수에 대한 클러스터별 특징을 파악해보고 아래 주석에 적어보자!**\n",
        "( 바로 ppt에 작성을 해도 상관없다)"
      ]
    },
    {
      "cell_type": "code",
      "execution_count": 55,
      "id": "20e65632",
      "metadata": {
        "id": "20e65632"
      },
      "outputs": [],
      "source": [
        "#[문제42]"
      ]
    },
    {
      "cell_type": "markdown",
      "id": "8c69a895-68ea-448d-84cc-a434a68da4db",
      "metadata": {
        "id": "8c69a895-68ea-448d-84cc-a434a68da4db"
      },
      "source": [
        "### **18) 지역**"
      ]
    },
    {
      "cell_type": "code",
      "execution_count": 56,
      "id": "5409ea49-6ba2-42e3-88d9-658e25a8699c",
      "metadata": {
        "colab": {
          "base_uri": "https://localhost:8080/",
          "height": 677
        },
        "id": "5409ea49-6ba2-42e3-88d9-658e25a8699c",
        "outputId": "a3675a1a-5d75-4ac6-e6e3-dc6714e1122e"
      },
      "outputs": [
        {
          "data": {
            "text/html": [
              "<div>\n",
              "<style scoped>\n",
              "    .dataframe tbody tr th:only-of-type {\n",
              "        vertical-align: middle;\n",
              "    }\n",
              "\n",
              "    .dataframe tbody tr th {\n",
              "        vertical-align: top;\n",
              "    }\n",
              "\n",
              "    .dataframe thead th {\n",
              "        text-align: right;\n",
              "    }\n",
              "</style>\n",
              "<table border=\"1\" class=\"dataframe\">\n",
              "  <thead>\n",
              "    <tr style=\"text-align: right;\">\n",
              "      <th>cluster</th>\n",
              "      <th>0</th>\n",
              "      <th>1</th>\n",
              "      <th>2</th>\n",
              "      <th>3</th>\n",
              "      <th>4</th>\n",
              "      <th>5</th>\n",
              "      <th>6</th>\n",
              "      <th>All</th>\n",
              "      <th>0</th>\n",
              "      <th>1</th>\n",
              "      <th>2</th>\n",
              "      <th>3</th>\n",
              "      <th>4</th>\n",
              "      <th>5</th>\n",
              "      <th>6</th>\n",
              "      <th>All</th>\n",
              "    </tr>\n",
              "    <tr>\n",
              "      <th>지역</th>\n",
              "      <th></th>\n",
              "      <th></th>\n",
              "      <th></th>\n",
              "      <th></th>\n",
              "      <th></th>\n",
              "      <th></th>\n",
              "      <th></th>\n",
              "      <th></th>\n",
              "      <th></th>\n",
              "      <th></th>\n",
              "      <th></th>\n",
              "      <th></th>\n",
              "      <th></th>\n",
              "      <th></th>\n",
              "      <th></th>\n",
              "      <th></th>\n",
              "    </tr>\n",
              "  </thead>\n",
              "  <tbody>\n",
              "    <tr>\n",
              "      <th>도시근교</th>\n",
              "      <td>658</td>\n",
              "      <td>1772</td>\n",
              "      <td>2754</td>\n",
              "      <td>539</td>\n",
              "      <td>648</td>\n",
              "      <td>469</td>\n",
              "      <td>732</td>\n",
              "      <td>7572</td>\n",
              "      <td>0.69</td>\n",
              "      <td>0.54</td>\n",
              "      <td>0.91</td>\n",
              "      <td>0.34</td>\n",
              "      <td>0.60</td>\n",
              "      <td>0.43</td>\n",
              "      <td>0.75</td>\n",
              "      <td>0.63</td>\n",
              "    </tr>\n",
              "    <tr>\n",
              "      <th>도심</th>\n",
              "      <td>111</td>\n",
              "      <td>770</td>\n",
              "      <td>130</td>\n",
              "      <td>505</td>\n",
              "      <td>175</td>\n",
              "      <td>268</td>\n",
              "      <td>125</td>\n",
              "      <td>2084</td>\n",
              "      <td>0.12</td>\n",
              "      <td>0.23</td>\n",
              "      <td>0.04</td>\n",
              "      <td>0.32</td>\n",
              "      <td>0.16</td>\n",
              "      <td>0.25</td>\n",
              "      <td>0.13</td>\n",
              "      <td>0.17</td>\n",
              "    </tr>\n",
              "    <tr>\n",
              "      <th>시골</th>\n",
              "      <td>182</td>\n",
              "      <td>765</td>\n",
              "      <td>135</td>\n",
              "      <td>545</td>\n",
              "      <td>256</td>\n",
              "      <td>343</td>\n",
              "      <td>118</td>\n",
              "      <td>2344</td>\n",
              "      <td>0.19</td>\n",
              "      <td>0.23</td>\n",
              "      <td>0.04</td>\n",
              "      <td>0.34</td>\n",
              "      <td>0.24</td>\n",
              "      <td>0.32</td>\n",
              "      <td>0.12</td>\n",
              "      <td>0.20</td>\n",
              "    </tr>\n",
              "    <tr>\n",
              "      <th>All</th>\n",
              "      <td>951</td>\n",
              "      <td>3307</td>\n",
              "      <td>3019</td>\n",
              "      <td>1589</td>\n",
              "      <td>1079</td>\n",
              "      <td>1080</td>\n",
              "      <td>975</td>\n",
              "      <td>12000</td>\n",
              "      <td>NaN</td>\n",
              "      <td>NaN</td>\n",
              "      <td>NaN</td>\n",
              "      <td>NaN</td>\n",
              "      <td>NaN</td>\n",
              "      <td>NaN</td>\n",
              "      <td>NaN</td>\n",
              "      <td>NaN</td>\n",
              "    </tr>\n",
              "  </tbody>\n",
              "</table>\n",
              "</div>"
            ],
            "text/plain": [
              "cluster    0     1     2     3     4     5    6    All    0    1    2    3  \\\n",
              "지역                                                                           \n",
              "도시근교     658  1772  2754   539   648   469  732   7572 0.69 0.54 0.91 0.34   \n",
              "도심       111   770   130   505   175   268  125   2084 0.12 0.23 0.04 0.32   \n",
              "시골       182   765   135   545   256   343  118   2344 0.19 0.23 0.04 0.34   \n",
              "All      951  3307  3019  1589  1079  1080  975  12000  NaN  NaN  NaN  NaN   \n",
              "\n",
              "cluster    4    5    6  All  \n",
              "지역                           \n",
              "도시근교    0.60 0.43 0.75 0.63  \n",
              "도심      0.16 0.25 0.13 0.17  \n",
              "시골      0.24 0.32 0.12 0.20  \n",
              "All      NaN  NaN  NaN  NaN  "
            ]
          },
          "metadata": {},
          "output_type": "display_data"
        },
        {
          "data": {
            "image/png": "[encoded data removed]",
            "text/plain": [
              "<Figure size 800x550 with 3 Axes>"
            ]
          },
          "metadata": {},
          "output_type": "display_data"
        }
      ],
      "source": [
        "# [문제 43] '지역' 열에 대해 crosstab을 활용해서 clust별 범주별 합계를 확인 해보자.\n",
        "feature = '지역'\n",
        "\n",
        "pro_df1 = pd.crosstab([result[feature]], result['cluster'], margins=True)\n",
        "\n",
        "pro_df2 = pd.crosstab([result[feature]], result['cluster'], margins=True, normalize='columns')\n",
        "pro_df2 = pro_df2.round(3)\n",
        "\n",
        "pro_df = pd.concat([pro_df1, pro_df2], axis=1)\n",
        "\n",
        "display(pro_df)\n",
        "\n",
        "mosaic(result.sort_values('cluster'), [ 'cluster', feature])\n",
        "plt.show()\n"
      ]
    },
    {
      "cell_type": "markdown",
      "id": "6ff6f6ec",
      "metadata": {
        "id": "6ff6f6ec"
      },
      "source": [
        "<b>**'지역' 변수에 대한 클러스터별 특징을 파악해보고 아래 주석에 적어보자!**\n",
        "( 바로 ppt에 작성을 해도 상관없다)"
      ]
    },
    {
      "cell_type": "code",
      "execution_count": 57,
      "id": "423fef02",
      "metadata": {
        "id": "423fef02"
      },
      "outputs": [],
      "source": [
        "#[문제44]"
      ]
    },
    {
      "cell_type": "markdown",
      "id": "a7c5bc8e-3eab-4373-bbd9-f9cfea1e2d74",
      "metadata": {
        "id": "a7c5bc8e-3eab-4373-bbd9-f9cfea1e2d74"
      },
      "source": [
        "### **19) 온라인방문빈도**"
      ]
    },
    {
      "cell_type": "code",
      "execution_count": 58,
      "id": "c77e2e07-d73e-454e-8b19-20c00ebb5f20",
      "metadata": {
        "colab": {
          "base_uri": "https://localhost:8080/",
          "height": 678
        },
        "id": "c77e2e07-d73e-454e-8b19-20c00ebb5f20",
        "outputId": "9c757c2c-218e-495a-98fb-3d768eb3756f"
      },
      "outputs": [
        {
          "data": {
            "text/html": [
              "<div>\n",
              "<style scoped>\n",
              "    .dataframe tbody tr th:only-of-type {\n",
              "        vertical-align: middle;\n",
              "    }\n",
              "\n",
              "    .dataframe tbody tr th {\n",
              "        vertical-align: top;\n",
              "    }\n",
              "\n",
              "    .dataframe thead th {\n",
              "        text-align: right;\n",
              "    }\n",
              "</style>\n",
              "<table border=\"1\" class=\"dataframe\">\n",
              "  <thead>\n",
              "    <tr style=\"text-align: right;\">\n",
              "      <th>cluster</th>\n",
              "      <th>0</th>\n",
              "      <th>1</th>\n",
              "      <th>2</th>\n",
              "      <th>3</th>\n",
              "      <th>4</th>\n",
              "      <th>5</th>\n",
              "      <th>6</th>\n",
              "      <th>All</th>\n",
              "      <th>0</th>\n",
              "      <th>1</th>\n",
              "      <th>2</th>\n",
              "      <th>3</th>\n",
              "      <th>4</th>\n",
              "      <th>5</th>\n",
              "      <th>6</th>\n",
              "      <th>All</th>\n",
              "    </tr>\n",
              "    <tr>\n",
              "      <th>온라인방문빈도</th>\n",
              "      <th></th>\n",
              "      <th></th>\n",
              "      <th></th>\n",
              "      <th></th>\n",
              "      <th></th>\n",
              "      <th></th>\n",
              "      <th></th>\n",
              "      <th></th>\n",
              "      <th></th>\n",
              "      <th></th>\n",
              "      <th></th>\n",
              "      <th></th>\n",
              "      <th></th>\n",
              "      <th></th>\n",
              "      <th></th>\n",
              "      <th></th>\n",
              "    </tr>\n",
              "  </thead>\n",
              "  <tbody>\n",
              "    <tr>\n",
              "      <th>비방문</th>\n",
              "      <td>713</td>\n",
              "      <td>2438</td>\n",
              "      <td>2266</td>\n",
              "      <td>1149</td>\n",
              "      <td>809</td>\n",
              "      <td>832</td>\n",
              "      <td>721</td>\n",
              "      <td>8928</td>\n",
              "      <td>0.75</td>\n",
              "      <td>0.74</td>\n",
              "      <td>0.75</td>\n",
              "      <td>0.72</td>\n",
              "      <td>0.75</td>\n",
              "      <td>0.77</td>\n",
              "      <td>0.74</td>\n",
              "      <td>0.74</td>\n",
              "    </tr>\n",
              "    <tr>\n",
              "      <th>자주방문</th>\n",
              "      <td>204</td>\n",
              "      <td>735</td>\n",
              "      <td>631</td>\n",
              "      <td>364</td>\n",
              "      <td>227</td>\n",
              "      <td>205</td>\n",
              "      <td>209</td>\n",
              "      <td>2575</td>\n",
              "      <td>0.21</td>\n",
              "      <td>0.22</td>\n",
              "      <td>0.21</td>\n",
              "      <td>0.23</td>\n",
              "      <td>0.21</td>\n",
              "      <td>0.19</td>\n",
              "      <td>0.21</td>\n",
              "      <td>0.21</td>\n",
              "    </tr>\n",
              "    <tr>\n",
              "      <th>종종</th>\n",
              "      <td>34</td>\n",
              "      <td>134</td>\n",
              "      <td>122</td>\n",
              "      <td>76</td>\n",
              "      <td>43</td>\n",
              "      <td>43</td>\n",
              "      <td>45</td>\n",
              "      <td>497</td>\n",
              "      <td>0.04</td>\n",
              "      <td>0.04</td>\n",
              "      <td>0.04</td>\n",
              "      <td>0.05</td>\n",
              "      <td>0.04</td>\n",
              "      <td>0.04</td>\n",
              "      <td>0.05</td>\n",
              "      <td>0.04</td>\n",
              "    </tr>\n",
              "    <tr>\n",
              "      <th>All</th>\n",
              "      <td>951</td>\n",
              "      <td>3307</td>\n",
              "      <td>3019</td>\n",
              "      <td>1589</td>\n",
              "      <td>1079</td>\n",
              "      <td>1080</td>\n",
              "      <td>975</td>\n",
              "      <td>12000</td>\n",
              "      <td>NaN</td>\n",
              "      <td>NaN</td>\n",
              "      <td>NaN</td>\n",
              "      <td>NaN</td>\n",
              "      <td>NaN</td>\n",
              "      <td>NaN</td>\n",
              "      <td>NaN</td>\n",
              "      <td>NaN</td>\n",
              "    </tr>\n",
              "  </tbody>\n",
              "</table>\n",
              "</div>"
            ],
            "text/plain": [
              "cluster    0     1     2     3     4     5    6    All    0    1    2    3  \\\n",
              "온라인방문빈도                                                                      \n",
              "비방문      713  2438  2266  1149   809   832  721   8928 0.75 0.74 0.75 0.72   \n",
              "자주방문     204   735   631   364   227   205  209   2575 0.21 0.22 0.21 0.23   \n",
              "종종        34   134   122    76    43    43   45    497 0.04 0.04 0.04 0.05   \n",
              "All      951  3307  3019  1589  1079  1080  975  12000  NaN  NaN  NaN  NaN   \n",
              "\n",
              "cluster    4    5    6  All  \n",
              "온라인방문빈도                      \n",
              "비방문     0.75 0.77 0.74 0.74  \n",
              "자주방문    0.21 0.19 0.21 0.21  \n",
              "종종      0.04 0.04 0.05 0.04  \n",
              "All      NaN  NaN  NaN  NaN  "
            ]
          },
          "metadata": {},
          "output_type": "display_data"
        },
        {
          "data": {
            "image/png": "[encoded data removed]",
            "text/plain": [
              "<Figure size 800x550 with 3 Axes>"
            ]
          },
          "metadata": {},
          "output_type": "display_data"
        }
      ],
      "source": [
        "# [문제 45] '온라인방문빈도' 열에 대해 crosstab을 활용해서 clust별 범주별 합계를 확인 해보자.\n",
        "\n",
        "feature = '온라인방문빈도'\n",
        "\n",
        "pro_df1 = pd.crosstab([result[feature]], result['cluster'], margins=True)\n",
        "\n",
        "pro_df2 = pd.crosstab([result[feature]], result['cluster'], margins=True, normalize='columns')\n",
        "pro_df2 = pro_df2.round(3)\n",
        "\n",
        "pro_df = pd.concat([pro_df1, pro_df2], axis=1)\n",
        "\n",
        "display(pro_df)\n",
        "\n",
        "mosaic(result.sort_values('cluster'), [ 'cluster', feature])\n",
        "plt.show()"
      ]
    },
    {
      "cell_type": "markdown",
      "id": "a516c5bd",
      "metadata": {
        "id": "a516c5bd"
      },
      "source": [
        "<b>**'온라인방문빈도' 변수에 대한 클러스터별 특징을 파악해보고 아래 주석에 적어보자!**\n",
        "( 바로 ppt에 작성을 해도 상관없다)"
      ]
    },
    {
      "cell_type": "code",
      "execution_count": 59,
      "id": "7773a3d8",
      "metadata": {
        "id": "7773a3d8"
      },
      "outputs": [],
      "source": [
        "#[문제46]"
      ]
    },
    {
      "cell_type": "markdown",
      "id": "599ec32e-cc03-422d-998b-d0be50f94063",
      "metadata": {
        "id": "599ec32e-cc03-422d-998b-d0be50f94063"
      },
      "source": [
        "### **20) 판매채널**"
      ]
    },
    {
      "cell_type": "code",
      "execution_count": 60,
      "id": "c48587ae-c76f-4840-96d0-9aff57c7a061",
      "metadata": {
        "colab": {
          "base_uri": "https://localhost:8080/",
          "height": 703
        },
        "id": "c48587ae-c76f-4840-96d0-9aff57c7a061",
        "outputId": "42fe3258-b865-4144-add1-fdcfd234cd42"
      },
      "outputs": [
        {
          "data": {
            "text/html": [
              "<div>\n",
              "<style scoped>\n",
              "    .dataframe tbody tr th:only-of-type {\n",
              "        vertical-align: middle;\n",
              "    }\n",
              "\n",
              "    .dataframe tbody tr th {\n",
              "        vertical-align: top;\n",
              "    }\n",
              "\n",
              "    .dataframe thead th {\n",
              "        text-align: right;\n",
              "    }\n",
              "</style>\n",
              "<table border=\"1\" class=\"dataframe\">\n",
              "  <thead>\n",
              "    <tr style=\"text-align: right;\">\n",
              "      <th>cluster</th>\n",
              "      <th>0</th>\n",
              "      <th>1</th>\n",
              "      <th>2</th>\n",
              "      <th>3</th>\n",
              "      <th>4</th>\n",
              "      <th>5</th>\n",
              "      <th>6</th>\n",
              "      <th>All</th>\n",
              "      <th>0</th>\n",
              "      <th>1</th>\n",
              "      <th>2</th>\n",
              "      <th>3</th>\n",
              "      <th>4</th>\n",
              "      <th>5</th>\n",
              "      <th>6</th>\n",
              "      <th>All</th>\n",
              "    </tr>\n",
              "    <tr>\n",
              "      <th>판매채널</th>\n",
              "      <th></th>\n",
              "      <th></th>\n",
              "      <th></th>\n",
              "      <th></th>\n",
              "      <th></th>\n",
              "      <th></th>\n",
              "      <th></th>\n",
              "      <th></th>\n",
              "      <th></th>\n",
              "      <th></th>\n",
              "      <th></th>\n",
              "      <th></th>\n",
              "      <th></th>\n",
              "      <th></th>\n",
              "      <th></th>\n",
              "      <th></th>\n",
              "    </tr>\n",
              "  </thead>\n",
              "  <tbody>\n",
              "    <tr>\n",
              "      <th>대리점</th>\n",
              "      <td>341</td>\n",
              "      <td>1272</td>\n",
              "      <td>1216</td>\n",
              "      <td>593</td>\n",
              "      <td>385</td>\n",
              "      <td>400</td>\n",
              "      <td>385</td>\n",
              "      <td>4592</td>\n",
              "      <td>0.36</td>\n",
              "      <td>0.39</td>\n",
              "      <td>0.40</td>\n",
              "      <td>0.37</td>\n",
              "      <td>0.36</td>\n",
              "      <td>0.37</td>\n",
              "      <td>0.40</td>\n",
              "      <td>0.38</td>\n",
              "    </tr>\n",
              "    <tr>\n",
              "      <th>인터넷</th>\n",
              "      <td>149</td>\n",
              "      <td>466</td>\n",
              "      <td>438</td>\n",
              "      <td>238</td>\n",
              "      <td>141</td>\n",
              "      <td>145</td>\n",
              "      <td>163</td>\n",
              "      <td>1740</td>\n",
              "      <td>0.16</td>\n",
              "      <td>0.14</td>\n",
              "      <td>0.14</td>\n",
              "      <td>0.15</td>\n",
              "      <td>0.13</td>\n",
              "      <td>0.13</td>\n",
              "      <td>0.17</td>\n",
              "      <td>0.14</td>\n",
              "    </tr>\n",
              "    <tr>\n",
              "      <th>자사영업</th>\n",
              "      <td>271</td>\n",
              "      <td>938</td>\n",
              "      <td>803</td>\n",
              "      <td>420</td>\n",
              "      <td>334</td>\n",
              "      <td>321</td>\n",
              "      <td>262</td>\n",
              "      <td>3349</td>\n",
              "      <td>0.28</td>\n",
              "      <td>0.28</td>\n",
              "      <td>0.27</td>\n",
              "      <td>0.26</td>\n",
              "      <td>0.31</td>\n",
              "      <td>0.30</td>\n",
              "      <td>0.27</td>\n",
              "      <td>0.28</td>\n",
              "    </tr>\n",
              "    <tr>\n",
              "      <th>콜센터</th>\n",
              "      <td>190</td>\n",
              "      <td>631</td>\n",
              "      <td>562</td>\n",
              "      <td>338</td>\n",
              "      <td>219</td>\n",
              "      <td>214</td>\n",
              "      <td>165</td>\n",
              "      <td>2319</td>\n",
              "      <td>0.20</td>\n",
              "      <td>0.19</td>\n",
              "      <td>0.19</td>\n",
              "      <td>0.21</td>\n",
              "      <td>0.20</td>\n",
              "      <td>0.20</td>\n",
              "      <td>0.17</td>\n",
              "      <td>0.19</td>\n",
              "    </tr>\n",
              "    <tr>\n",
              "      <th>All</th>\n",
              "      <td>951</td>\n",
              "      <td>3307</td>\n",
              "      <td>3019</td>\n",
              "      <td>1589</td>\n",
              "      <td>1079</td>\n",
              "      <td>1080</td>\n",
              "      <td>975</td>\n",
              "      <td>12000</td>\n",
              "      <td>NaN</td>\n",
              "      <td>NaN</td>\n",
              "      <td>NaN</td>\n",
              "      <td>NaN</td>\n",
              "      <td>NaN</td>\n",
              "      <td>NaN</td>\n",
              "      <td>NaN</td>\n",
              "      <td>NaN</td>\n",
              "    </tr>\n",
              "  </tbody>\n",
              "</table>\n",
              "</div>"
            ],
            "text/plain": [
              "cluster    0     1     2     3     4     5    6    All    0    1    2    3  \\\n",
              "판매채널                                                                         \n",
              "대리점      341  1272  1216   593   385   400  385   4592 0.36 0.39 0.40 0.37   \n",
              "인터넷      149   466   438   238   141   145  163   1740 0.16 0.14 0.14 0.15   \n",
              "자사영업     271   938   803   420   334   321  262   3349 0.28 0.28 0.27 0.26   \n",
              "콜센터      190   631   562   338   219   214  165   2319 0.20 0.19 0.19 0.21   \n",
              "All      951  3307  3019  1589  1079  1080  975  12000  NaN  NaN  NaN  NaN   \n",
              "\n",
              "cluster    4    5    6  All  \n",
              "판매채널                         \n",
              "대리점     0.36 0.37 0.40 0.38  \n",
              "인터넷     0.13 0.13 0.17 0.14  \n",
              "자사영업    0.31 0.30 0.27 0.28  \n",
              "콜센터     0.20 0.20 0.17 0.19  \n",
              "All      NaN  NaN  NaN  NaN  "
            ]
          },
          "metadata": {},
          "output_type": "display_data"
        },
        {
          "data": {
            "image/png": "[encoded data removed]",
            "text/plain": [
              "<Figure size 800x550 with 3 Axes>"
            ]
          },
          "metadata": {},
          "output_type": "display_data"
        }
      ],
      "source": [
        "# [문제 47] '판매채널' 열에 대해 crosstab을 활용해서 clust별 범주별 합계를 확인 해보자.\n",
        "\n",
        "feature = '판매채널'\n",
        "\n",
        "pro_df1 = pd.crosstab([result[feature]], result['cluster'], margins=True)\n",
        "\n",
        "pro_df2 = pd.crosstab([result[feature]], result['cluster'], margins=True, normalize='columns')\n",
        "pro_df2 = pro_df2.round(3)\n",
        "\n",
        "pro_df = pd.concat([pro_df1, pro_df2], axis=1)\n",
        "\n",
        "display(pro_df)\n",
        "\n",
        "mosaic(result.sort_values('cluster'), [ 'cluster', feature])\n",
        "plt.show()"
      ]
    },
    {
      "cell_type": "markdown",
      "id": "d145c8c2",
      "metadata": {
        "id": "d145c8c2"
      },
      "source": [
        "<b>**'판매채널' 변수에 대한 클러스터별 특징을 파악해보고 아래 주석에 적어보자!**\n",
        "( 바로 ppt에 작성을 해도 상관없다)"
      ]
    },
    {
      "cell_type": "code",
      "execution_count": 61,
      "id": "4250a5b0",
      "metadata": {
        "id": "4250a5b0"
      },
      "outputs": [],
      "source": [
        "#[문제48]"
      ]
    },
    {
      "cell_type": "markdown",
      "id": "70963f64-aedd-4a85-8ad8-13278aded787",
      "metadata": {
        "id": "70963f64-aedd-4a85-8ad8-13278aded787"
      },
      "source": [
        "---------------------------------------------------------------------------------------------\n",
        "## **(2) 결과 정리**"
      ]
    },
    {
      "cell_type": "markdown",
      "id": "8a3cd4fc-ad60-456f-bf96-70625d40981c",
      "metadata": {
        "id": "8a3cd4fc-ad60-456f-bf96-70625d40981c"
      },
      "source": [
        "<font color=\"1E90FF\"><b>★ 20가지 피쳐값에 대해 군집별로 분석해 보았고 인사이트도 도출해 보았다. 한번 ppt에 정리해보자!</font>"
      ]
    },
    {
      "cell_type": "markdown",
      "id": "117273bf",
      "metadata": {
        "id": "117273bf"
      },
      "source": [
        "## **[Mission 3-분석모델 개발]**\n",
        "\n",
        "* k-means 활용해 군집화 분석 모델 개발 완료\n",
        "* 프로파일링 기법을 통해 각 피쳐의 군집별 특성에 대해 파악하고 정의 해봄\n",
        "* 정의 한 것을 가지고 고객 군집별 마케팅 전략 수립"
      ]
    },
    {
      "cell_type": "markdown",
      "id": "4fa47a2c",
      "metadata": {
        "id": "4fa47a2c"
      },
      "source": [
        "<font color=\"1E90FF\"><b>→ 여러분들은 어떻게 군집에 대해 정의를 내리고 마케팅 방안을 수립하였나요?<br><b>서로의 군집에 대해서 이야기해 보고 발표해 봅시다.<b><br>\n",
        "    "
      ]
    },
    {
      "cell_type": "markdown",
      "id": "5f80e5cb",
      "metadata": {
        "id": "5f80e5cb"
      },
      "source": [
        "# <b>Mission 3 완료!\n",
        "수고하셨습니다!"
      ]
    }
  ],
  "metadata": {
    "colab": {
      "provenance": [],
      "toc_visible": true
    },
    "kernelspec": {
      "display_name": "Python 3",
      "language": "python",
      "name": "python3"
    },
    "language_info": {
      "codemirror_mode": {
        "name": "ipython",
        "version": 3
      },
      "file_extension": ".py",
      "mimetype": "text/x-python",
      "name": "python",
      "nbconvert_exporter": "python",
      "pygments_lexer": "ipython3",
      "version": "3.10.12"
    }
  },
  "nbformat": 4,
  "nbformat_minor": 5
}
