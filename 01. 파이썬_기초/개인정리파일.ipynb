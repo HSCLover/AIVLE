{
 "cells": [
  {
   "cell_type": "markdown",
   "metadata": {},
   "source": [
    "# 개인 정리 파일"
   ]
  },
  {
   "cell_type": "markdown",
   "metadata": {},
   "source": [
    "## 명령어 정리"
   ]
  },
  {
   "cell_type": "markdown",
   "metadata": {},
   "source": [
    "### `f-string` 문법으로 출력하기"
   ]
  },
  {
   "cell_type": "code",
   "execution_count": null,
   "metadata": {},
   "outputs": [],
   "source": [
    "#basic format\n",
    "variable = \"value\"\n",
    "\n",
    "print(\"text %s text\" % variable) #old style\n",
    "\n",
    "print(f\"text {variable} text\") #f-string"
   ]
  },
  {
   "cell_type": "markdown",
   "metadata": {},
   "source": [
    "### 파일 읽기 쓰기 `OPEN`\n",
    "\n",
    "w : Write, a : Append, r : Read"
   ]
  },
  {
   "cell_type": "code",
   "execution_count": null,
   "metadata": {},
   "outputs": [],
   "source": [
    "with open(\"file_name.txt\", \"w,a,r\", encoding=\"utf-8\") as file:\n",
    "    file_text = file.read() #read the whole file\n",
    "    one_line_text = file.readline() #read one line\n",
    "\n",
    "    write_text = file.write(\"text\") #write text to file"
   ]
  },
  {
   "cell_type": "markdown",
   "metadata": {},
   "source": [
    "### List를 Index와 합께 뽑아내기 `enumerate`"
   ]
  },
  {
   "cell_type": "markdown",
   "metadata": {},
   "source": [
    "enumerate(list)\n",
    "\n",
    "-> index, value가 같이 나옴."
   ]
  },
  {
   "cell_type": "markdown",
   "metadata": {},
   "source": [
    "\\> Structure\n",
    "\n",
    "\n",
    "```python\n",
    "\n",
    "with EXPRESSION [as VARIABLE]:\n",
    "\tBLOCK\n",
    "```"
   ]
  },
  {
   "cell_type": "code",
   "execution_count": null,
   "metadata": {},
   "outputs": [
    {
     "name": "stdout",
     "output_type": "stream",
     "text": [
      "...enter...\n",
      "hello obama\n",
      "hello trump\n",
      "...exit...\n"
     ]
    }
   ],
   "source": [
    "class Hello:\n",
    "    def __enter__(self):\n",
    "        # 사용할 자원을 가져오거나 만든다(핸들러 등)\n",
    "        print('...enter...')\n",
    "        return self # 반환값이 있어야 VARIABLE를 블록내에서 사용할 수 있다\n",
    "        \n",
    "    def sayHello(self, name):\n",
    "        # 자원을 사용한다. ex) 인사한다\n",
    "        print('hello ' + name)\n",
    "\n",
    "    def __exit__(self, exc_type, exc_val, exc_tb):\n",
    "        # 마지막 처리를 한다(자원반납 등)\n",
    "        print('...exit...')\n",
    "\n",
    "with Hello() as h:\n",
    "    h.sayHello('obama')\n",
    "    h.sayHello('trump')\n",
    "\n"
   ]
  },
  {
   "cell_type": "code",
   "execution_count": 2,
   "metadata": {},
   "outputs": [
    {
     "name": "stdout",
     "output_type": "stream",
     "text": [
      "0 a\n",
      "1 b\n",
      "2 c\n"
     ]
    }
   ],
   "source": [
    "list = [\"a\", \"b\", \"c\"]\n",
    "for index, value in enumerate(list):\n",
    "    print(index, value) #print index and value"
   ]
  },
  {
   "cell_type": "markdown",
   "metadata": {},
   "source": [
    "### Class와 Mathod의 구분"
   ]
  },
  {
   "cell_type": "markdown",
   "metadata": {},
   "source": [
    "`Class`는 객체화 하고 싶을 때 사용.\n",
    "\n",
    "하나의 객체를 이용하여 여러가지로 활용 가능.\n",
    "\n",
    "`Class` 내부에서 매개변수를 사용할 때 `__init__` 에서 `self`를 이용하여 `Class` 내의 함수는 `self`를 활용.\n",
    "```python\n",
    "class cls(object):\n",
    "    def __init__ (self, vars):\n",
    "        self.vars = vars\n",
    "    \n",
    "    def function(self):\n",
    "        function_code\n",
    "```"
   ]
  },
  {
   "cell_type": "markdown",
   "metadata": {},
   "source": [
    "`Module`은 특정 기능을 하는 코드들을 다른 파일에 보관하는 개념.\n",
    "\n",
    "함수, 클래스, 변수 등을 포함.\n",
    "\n",
    "`Function`과 `Class`를 더 확장하여 관리."
   ]
  }
 ],
 "metadata": {
  "kernelspec": {
   "display_name": "base",
   "language": "python",
   "name": "python3"
  },
  "language_info": {
   "codemirror_mode": {
    "name": "ipython",
    "version": 3
   },
   "file_extension": ".py",
   "mimetype": "text/x-python",
   "name": "python",
   "nbconvert_exporter": "python",
   "pygments_lexer": "ipython3",
   "version": "3.12.4"
  }
 },
 "nbformat": 4,
 "nbformat_minor": 2
}
