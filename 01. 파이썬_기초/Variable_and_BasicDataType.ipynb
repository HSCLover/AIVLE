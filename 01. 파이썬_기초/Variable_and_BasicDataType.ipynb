{
  "nbformat": 4,
  "nbformat_minor": 0,
  "metadata": {
    "colab": {
      "provenance": [],
      "authorship_tag": "ABX9TyMALDWUMEifdnb3SYb8vns/"
    },
    "kernelspec": {
      "name": "python3",
      "display_name": "Python 3"
    },
    "language_info": {
      "name": "python"
    }
  },
  "cells": [
    {
      "cell_type": "markdown",
      "source": [
        "#3/27 파이썬 실습 연습 파일\n"
      ],
      "metadata": {
        "id": "Iy2xnA4kT72j"
      }
    },
    {
      "cell_type": "code",
      "source": [
        "print(25) # 숫자 25 출력\n",
        "\n",
        "print(1200)"
      ],
      "metadata": {
        "id": "4eyqmbbhURbr",
        "colab": {
          "base_uri": "https://localhost:8080/"
        },
        "outputId": "a25c6373-5dbb-40cf-9afc-7644ee3a096d"
      },
      "execution_count": 13,
      "outputs": [
        {
          "output_type": "stream",
          "name": "stdout",
          "text": [
            "25\n",
            "1200\n"
          ]
        }
      ]
    },
    {
      "cell_type": "markdown",
      "source": [
        "##여러줄 주석"
      ],
      "metadata": {
        "id": "pE1739DbXJoB"
      }
    },
    {
      "cell_type": "code",
      "source": [
        "'''\n",
        "여러줄 주석을 작성하는 중입니다.\n",
        "따옴표를 세 개 연달아 작성하면 여러줄 주석입니다.\n",
        "주석을 닫을 때도 따옴표 세 개를 연달아 사용하면 됩니다.\n",
        "설명할 내용이 많을 때 사용합니다.\n",
        "'''"
      ],
      "metadata": {
        "colab": {
          "base_uri": "https://localhost:8080/",
          "height": 35
        },
        "id": "QDfvaLXgVkA8",
        "outputId": "fd84ddb1-da70-478c-8e99-b2a06550245c"
      },
      "execution_count": 14,
      "outputs": [
        {
          "output_type": "execute_result",
          "data": {
            "text/plain": [
              "'\\n여러줄 주석을 작성하는 중입니다.\\n따옴표를 세 개 연달아 작성하면 여러줄 주석입니다.\\n주석을 닫을 때도 따옴표 세 개를 연달아 사용하면 됩니다.\\n설명할 내용이 많을 때 사용합니다.\\n'"
            ],
            "application/vnd.google.colaboratory.intrinsic+json": {
              "type": "string"
            }
          },
          "metadata": {},
          "execution_count": 14
        }
      ]
    },
    {
      "cell_type": "markdown",
      "source": [
        "##단축키"
      ],
      "metadata": {
        "id": "gcyKJVkSXXj-"
      }
    },
    {
      "cell_type": "markdown",
      "source": [
        "[단축키]\n",
        "1. 코드셀 추가 : esc(누르고 난 후) + b\n",
        "2. 코드 실행 후 다음 셀로 이동 : shift(누른 상태에서) + enter\n",
        "3. 코드 실행 그자리 그대로 : ctrl(누른 상태에서) + enter\n",
        "4. 한줄 주석 : ctrl(누른 상태에서) + /\n",
        "5. 여러줄 한번에 주석 : 여러줄 선택한 상태에서 ctrl + /\n"
      ],
      "metadata": {
        "id": "c7bQvgStXbp1"
      }
    },
    {
      "cell_type": "markdown",
      "source": [
        "## input() : 입력 받기"
      ],
      "metadata": {
        "id": "Jit77UnOaj66"
      }
    },
    {
      "cell_type": "code",
      "source": [
        "age = 25  #age는 25로 고정됨\n",
        "print(age)"
      ],
      "metadata": {
        "colab": {
          "base_uri": "https://localhost:8080/"
        },
        "id": "AF0Zfl3Xap2U",
        "outputId": "a88a0680-3d8b-496a-cff6-031bf9a77756"
      },
      "execution_count": 15,
      "outputs": [
        {
          "output_type": "stream",
          "name": "stdout",
          "text": [
            "25\n"
          ]
        }
      ]
    },
    {
      "cell_type": "code",
      "source": [
        "age = input('나이를 입력하세요 : ')\n",
        "print(age)"
      ],
      "metadata": {
        "colab": {
          "base_uri": "https://localhost:8080/"
        },
        "id": "H5xkg5DGa2av",
        "outputId": "8d56bf55-94bb-4b51-cee1-c2a4db4309b6"
      },
      "execution_count": 17,
      "outputs": [
        {
          "output_type": "stream",
          "name": "stdout",
          "text": [
            "나이를 입력하세요 : 26\n",
            "26\n"
          ]
        }
      ]
    },
    {
      "cell_type": "markdown",
      "source": [
        "## 자료형 변환\n",
        "int(), float(), str(), list()\n"
      ],
      "metadata": {
        "id": "UOoYazH-iVKs"
      }
    },
    {
      "cell_type": "code",
      "source": [
        "print(type(age)) #<class 'str'>"
      ],
      "metadata": {
        "colab": {
          "base_uri": "https://localhost:8080/"
        },
        "id": "QTHuEZITiSIF",
        "outputId": "72e78d49-514e-4d8f-c8b9-949e27f4e847"
      },
      "execution_count": 20,
      "outputs": [
        {
          "output_type": "stream",
          "name": "stdout",
          "text": [
            "<class 'str'>\n"
          ]
        }
      ]
    },
    {
      "cell_type": "markdown",
      "source": [
        "String Type에서는 덧셈 연산이 불가능.\n",
        "\n",
        "Int형으로 변환해야함."
      ],
      "metadata": {
        "id": "I-LPJLRui1LO"
      }
    },
    {
      "cell_type": "code",
      "source": [
        "age = int(age) #<class 'int'>로 변환\n",
        "\n",
        "print(type(age)) #<class 'int'>"
      ],
      "metadata": {
        "colab": {
          "base_uri": "https://localhost:8080/"
        },
        "id": "MqNNTTizi-6l",
        "outputId": "d06ce2db-86ef-4f91-d32f-bbaff9a01782"
      },
      "execution_count": 22,
      "outputs": [
        {
          "output_type": "stream",
          "name": "stdout",
          "text": [
            "<class 'int'>\n"
          ]
        }
      ]
    },
    {
      "cell_type": "code",
      "source": [
        "age = int(input('나이를 입력하세요 : '))\n",
        "print(age)\n",
        "print(type(age))"
      ],
      "metadata": {
        "colab": {
          "base_uri": "https://localhost:8080/"
        },
        "id": "nDzeLzt3jNpm",
        "outputId": "63e9aa64-8e75-49b7-bebe-daf0f61d295a"
      },
      "execution_count": 23,
      "outputs": [
        {
          "output_type": "stream",
          "name": "stdout",
          "text": [
            "나이를 입력하세요 : 22\n",
            "22\n",
            "<class 'int'>\n"
          ]
        }
      ]
    },
    {
      "cell_type": "markdown",
      "source": [
        "## 리스트 (List)\n",
        "`[ , , , ]`\n"
      ],
      "metadata": {
        "id": "ff_ENb6vjcVd"
      }
    },
    {
      "cell_type": "code",
      "source": [
        "list_a = [1,2,3,4,5]\n",
        "print(list_a)\n",
        "\n",
        "list_b = [10,20,30,30] # 중복 허용\n",
        "print(list_b)\n",
        "\n"
      ],
      "metadata": {
        "colab": {
          "base_uri": "https://localhost:8080/"
        },
        "id": "9eeTWodbjnmV",
        "outputId": "b00af267-3ca2-4c16-c6af-9398884d404f"
      },
      "execution_count": 24,
      "outputs": [
        {
          "output_type": "stream",
          "name": "stdout",
          "text": [
            "[1, 2, 3, 4, 5]\n"
          ]
        }
      ]
    },
    {
      "cell_type": "markdown",
      "source": [
        "## 튜플 (Tuple)\n",
        "`( , , )`\n",
        "\n",
        "List와는 다르게 **값 변경이 불가능!!!**"
      ],
      "metadata": {
        "id": "WRwGzlZJjsXW"
      }
    },
    {
      "cell_type": "code",
      "source": [
        "tuple_1 = (10, 20, 30, 30) # 중복 허용\n",
        "print(tuple_1)\n",
        "print(type(tuple_1)) # <class 'tuple'>"
      ],
      "metadata": {
        "colab": {
          "base_uri": "https://localhost:8080/"
        },
        "id": "daA-rrswkw3Z",
        "outputId": "35237c3c-56fd-4b26-ad4d-893057cf7eae"
      },
      "execution_count": 25,
      "outputs": [
        {
          "output_type": "stream",
          "name": "stdout",
          "text": [
            "(10, 20, 30, 30)\n",
            "<class 'tuple'>\n"
          ]
        }
      ]
    },
    {
      "cell_type": "markdown",
      "source": [
        "괄호 생략 가능"
      ],
      "metadata": {
        "id": "7-im51KZltwW"
      }
    },
    {
      "cell_type": "code",
      "source": [
        "tuple_2 = 10,20,30,30\n",
        "print(tuple_2)\n",
        "print(type(tuple_2)) # <class 'tuple'>"
      ],
      "metadata": {
        "colab": {
          "base_uri": "https://localhost:8080/"
        },
        "id": "2Bdd4IOMlnpc",
        "outputId": "6c53e8be-249f-4c16-bc82-1bcdb2ef517e"
      },
      "execution_count": 26,
      "outputs": [
        {
          "output_type": "stream",
          "name": "stdout",
          "text": [
            "(10, 20, 30, 30)\n",
            "<class 'tuple'>\n"
          ]
        }
      ]
    },
    {
      "cell_type": "markdown",
      "source": [
        "단, 원소 하나인 경우에는 쉼표(,)를 입력해야 튜플이 됨."
      ],
      "metadata": {
        "id": "IBzOtNwjmOBw"
      }
    },
    {
      "cell_type": "code",
      "source": [
        "list_3 = [10]   # list\n",
        "tuple_3 = (10)  # int\n",
        "tuple_4 = 10    # int\n",
        "tuple_5 = (10,) # tuple\n",
        "tuple_6 = 10,   # tuple\n",
        "\n",
        "print(type(list_3))\n",
        "print(type(tuple_3))\n",
        "print(type(tuple_4))\n",
        "print(type(tuple_5))\n",
        "print(type(tuple_6))"
      ],
      "metadata": {
        "colab": {
          "base_uri": "https://localhost:8080/"
        },
        "id": "2XYKUwk8l86K",
        "outputId": "59874590-9a2d-4b49-f85e-cc3424409fc6"
      },
      "execution_count": 29,
      "outputs": [
        {
          "output_type": "stream",
          "name": "stdout",
          "text": [
            "<class 'list'>\n",
            "<class 'int'>\n",
            "<class 'int'>\n",
            "<class 'tuple'>\n",
            "<class 'tuple'>\n"
          ]
        }
      ]
    },
    {
      "cell_type": "code",
      "source": [
        "list_to_tuple = tuple(list_3) # list를 tuple로 변환"
      ],
      "metadata": {
        "id": "1U4dj7I9msTk"
      },
      "execution_count": 30,
      "outputs": []
    },
    {
      "cell_type": "markdown",
      "source": [
        "값을 앞으로 변경할 필요가 없거나, 변경하지 못하게 할 때 튜플로 변환\n",
        "\n",
        "리스트보다 처리 속도가 빠르고 메모리를 덜 사용함. (최적화)"
      ],
      "metadata": {
        "id": "96GKKJpzoX6-"
      }
    },
    {
      "cell_type": "markdown",
      "source": [
        "## 딕셔너리 (Dictionary)\n",
        "\n",
        "`{ Key : Value, Key : Value }`\n",
        "\n",
        "순서가 없다.\n",
        "\n",
        "중복된 Key를 가질 수 없다.\n",
        "\n",
        "변경 가능하다."
      ],
      "metadata": {
        "id": "kO-S9FqlofD0"
      }
    },
    {
      "cell_type": "markdown",
      "source": [
        "## 집합 (Set)\n",
        "\n",
        "중복을 허용하지 않는다.\n",
        "\n",
        "순서가 없다."
      ],
      "metadata": {
        "id": "ERxgh4tB8NNm"
      }
    }
  ]
}