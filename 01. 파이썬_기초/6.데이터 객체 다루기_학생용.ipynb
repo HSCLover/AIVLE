{
 "cells": [
  {
   "cell_type": "markdown",
   "id": "1a52fab0",
   "metadata": {
    "id": "1a52fab0"
   },
   "source": [
    "\n",
    "# 🐍 파이썬 기초: 데이터 객체 다루기\n",
    "\n",
    "## 1. 개요\n",
    "파이썬에서는 **리스트(List)**, **튜플(Tuple)**, **딕셔너리(Dictionary)** 등의 데이터 객체를 활용하여 데이터를 저장하고 처리할 수 있습니다.  \n",
    "이 장에서는 각 자료형의 주요 **메서드**, **인덱싱(Indexing)**, **슬라이싱(Slicing)**, 그리고 **클래스를 활용한 데이터 객체 관리** 방법을 배웁니다.\n",
    "\n",
    "---\n",
    "\n",
    "## 2. 실습 목표\n",
    "- 리스트, 튜플, 딕셔너리 등의 데이터 객체를 활용할 수 있다.\n",
    "- 인덱싱과 슬라이싱을 사용하여 데이터에 접근할 수 있다.\n",
    "- 각 자료형의 주요 메서드를 이해하고 사용할 수 있다.\n",
    "- 클래스를 활용하여 객체를 생성하고 데이터를 다룰 수 있다.\n"
   ]
  },
  {
   "cell_type": "markdown",
   "id": "e9d18c71",
   "metadata": {
    "id": "e9d18c71"
   },
   "source": [
    "\n",
    "## 3. 리스트(List) 다루기\n",
    "\n",
    "리스트는 여러 개의 요소를 저장할 수 있으며, 다음과 같은 주요 메서드를 사용할 수 있습니다.\n",
    "\n",
    "### 3.1 리스트 주요 메서드\n"
   ]
  },
  {
   "cell_type": "code",
   "execution_count": 1,
   "id": "ddcd7118",
   "metadata": {
    "id": "ddcd7118"
   },
   "outputs": [
    {
     "name": "stdout",
     "output_type": "stream",
     "text": [
      "append() 후: ['사과', '바나나', '포도', '오렌지']\n",
      "remove() 후: ['사과', '포도', '오렌지']\n",
      "sort() 후: ['사과', '오렌지', '포도']\n",
      "reverse() 후: ['포도', '오렌지', '사과']\n"
     ]
    }
   ],
   "source": [
    "\n",
    "# 리스트 메서드 예제\n",
    "fruits = [\"사과\", \"바나나\", \"포도\"]\n",
    "\n",
    "fruits.append(\"오렌지\")  # 요소 추가\n",
    "print(\"append() 후:\", fruits)\n",
    "\n",
    "fruits.remove(\"바나나\")  # 특정 요소 제거\n",
    "print(\"remove() 후:\", fruits)\n",
    "\n",
    "fruits.sort()  # 정렬\n",
    "print(\"sort() 후:\", fruits)\n",
    "\n",
    "fruits.reverse()  # 순서 뒤집기\n",
    "print(\"reverse() 후:\", fruits)\n"
   ]
  },
  {
   "cell_type": "markdown",
   "id": "b1ba242c",
   "metadata": {
    "id": "b1ba242c"
   },
   "source": [
    "\n",
    "## 4. 튜플(Tuple) 다루기\n",
    "\n",
    "튜플은 리스트와 유사하지만 **불변(immutable)**이라는 특징이 있습니다.\n"
   ]
  },
  {
   "cell_type": "code",
   "execution_count": 2,
   "id": "4facf673",
   "metadata": {
    "id": "4facf673"
   },
   "outputs": [
    {
     "name": "stdout",
     "output_type": "stream",
     "text": [
      "튜플 길이: 4\n",
      "튜플의 특정 요소 접근: 20\n",
      "리스트로 변환 후: [10, 20, 30, 40, 50]\n"
     ]
    }
   ],
   "source": [
    "\n",
    "# 튜플 예제\n",
    "numbers = (10, 20, 30, 40)\n",
    "\n",
    "print(\"튜플 길이:\", len(numbers))\n",
    "print(\"튜플의 특정 요소 접근:\", numbers[1])  # 인덱스 접근\n",
    "\n",
    "# 튜플을 리스트로 변환\n",
    "numbers_list = list(numbers)\n",
    "numbers_list.append(50)\n",
    "print(\"리스트로 변환 후:\", numbers_list)\n"
   ]
  },
  {
   "cell_type": "markdown",
   "id": "7d6b42c7",
   "metadata": {
    "id": "7d6b42c7"
   },
   "source": [
    "\n",
    "## 5. 딕셔너리(Dictionary) 다루기\n",
    "\n",
    "딕셔너리는 **키-값(Key-Value) 쌍**으로 데이터를 저장하는 자료형입니다.\n"
   ]
  },
  {
   "cell_type": "code",
   "execution_count": 3,
   "id": "2b6ee873",
   "metadata": {
    "id": "2b6ee873"
   },
   "outputs": [
    {
     "name": "stdout",
     "output_type": "stream",
     "text": [
      "이름: 철수\n",
      "키 목록: dict_keys(['이름', '나이', '학과'])\n",
      "값 목록: dict_values(['철수', 20, '컴퓨터공학'])\n",
      "업데이트된 딕셔너리: {'이름': '철수', '나이': 20, '학과': '컴퓨터공학', '학년': 2}\n"
     ]
    }
   ],
   "source": [
    "\n",
    "# 딕셔너리 예제\n",
    "student = {\"이름\": \"철수\", \"나이\": 20, \"학과\": \"컴퓨터공학\"}\n",
    "\n",
    "print(\"이름:\", student.get(\"이름\"))  # 값 가져오기\n",
    "print(\"키 목록:\", student.keys())  # 키 가져오기\n",
    "print(\"값 목록:\", student.values())  # 값 가져오기\n",
    "\n",
    "student[\"학년\"] = 2  # 새로운 키-값 추가\n",
    "print(\"업데이트된 딕셔너리:\", student)\n"
   ]
  },
  {
   "cell_type": "markdown",
   "id": "5fce62f8",
   "metadata": {
    "id": "5fce62f8"
   },
   "source": [
    "\n",
    "## 6. 인덱싱과 슬라이싱\n",
    "\n",
    "리스트와 튜플에서 특정 요소에 접근하거나 일부를 잘라서 가져올 수 있습니다.\n"
   ]
  },
  {
   "cell_type": "code",
   "execution_count": 4,
   "id": "ba3fed83",
   "metadata": {
    "id": "ba3fed83"
   },
   "outputs": [
    {
     "name": "stdout",
     "output_type": "stream",
     "text": [
      "첫 번째 요소: 10\n",
      "마지막 요소: 50\n",
      "처음 3개 요소: [10, 20, 30]\n",
      "2번째부터 마지막까지: [20, 30, 40, 50]\n",
      "짝수 번째 요소: [10, 30, 50]\n"
     ]
    }
   ],
   "source": [
    "\n",
    "# 인덱싱 예제\n",
    "numbers = [10, 20, 30, 40, 50]\n",
    "\n",
    "print(\"첫 번째 요소:\", numbers[0])  # 정방향 인덱싱\n",
    "print(\"마지막 요소:\", numbers[-1])  # 역방향 인덱싱\n",
    "\n",
    "# 슬라이싱 예제\n",
    "print(\"처음 3개 요소:\", numbers[:3])  # 처음부터 3개 가져오기\n",
    "print(\"2번째부터 마지막까지:\", numbers[1:])  # 2번째부터 끝까지 가져오기\n",
    "print(\"짝수 번째 요소:\", numbers[::2])  # 2칸씩 건너뛰며 가져오기\n"
   ]
  },
  {
   "cell_type": "markdown",
   "id": "0576107e",
   "metadata": {
    "id": "0576107e"
   },
   "source": [
    "\n",
    "## 7. 클래스와 객체 다루기\n",
    "\n",
    "클래스를 활용하면 데이터 객체를 **객체 지향 방식**으로 관리할 수 있습니다.\n"
   ]
  },
  {
   "cell_type": "code",
   "execution_count": 5,
   "id": "b033e4dd",
   "metadata": {
    "id": "b033e4dd"
   },
   "outputs": [
    {
     "name": "stdout",
     "output_type": "stream",
     "text": [
      "자동차 정보: 2022년형 Hyundai Sonata\n"
     ]
    }
   ],
   "source": [
    "\n",
    "# 클래스 정의 및 객체 생성 예제\n",
    "class Car:\n",
    "    def __init__(self, brand, model, year):\n",
    "        self.brand = brand\n",
    "        self.model = model\n",
    "        self.year = year\n",
    "\n",
    "    def show_info(self):\n",
    "        print(f\"자동차 정보: {self.year}년형 {self.brand} {self.model}\")\n",
    "\n",
    "# 객체 생성\n",
    "car1 = Car(\"Hyundai\", \"Sonata\", 2022)\n",
    "car1.show_info()\n"
   ]
  },
  {
   "cell_type": "markdown",
   "id": "337b6cf7",
   "metadata": {
    "id": "337b6cf7"
   },
   "source": [
    "\n",
    "## 8. ✨ 스스로 해결해보는 실습 문제 ✨\n",
    "\n",
    "아래 문제들을 직접 코드로 작성하여 실행해보세요!\n",
    "\n",
    "### 문제 1: 리스트 활용  \n",
    "1. 빈 리스트를 생성하고, `\"Python\"`, `\"Java\"`, `\"C++\"`을 추가한 후 리스트를 출력하세요.\n",
    "2. 리스트에서 `\"Java\"`를 제거하고 정렬한 후 출력하세요.\n",
    "\n",
    "\n"
   ]
  },
  {
   "cell_type": "code",
   "execution_count": null,
   "id": "62848879",
   "metadata": {
    "id": "62848879"
   },
   "outputs": [
    {
     "name": "stdout",
     "output_type": "stream",
     "text": [
      "['Python', 'Java', 'C++']\n",
      "['C++', 'Python']\n"
     ]
    }
   ],
   "source": [
    "\n",
    "# 문제 1: 리스트 활용\n",
    "languages = [\"Python\", \"Java\", \"C++\"] # 리스트 생성\n",
    "print(f\"{languages}\")\n",
    "\n",
    "languages.remove(\"Java\") # Java 제거\n",
    "languages.sort()         # 정렬\n",
    "print(f\"{languages}\")\n"
   ]
  },
  {
   "cell_type": "markdown",
   "id": "So3TX1B1eYh8",
   "metadata": {
    "id": "So3TX1B1eYh8"
   },
   "source": [
    "### 문제 2: 딕셔너리 활용  \n",
    "1. `\"홍길동\"`의 **이름, 나이, 전공**을 포함하는 딕셔너리를 생성하세요.\n",
    "2. `\"홍길동\"`의 나이를 1 증가시키고, **학년** 정보를 추가하세요.\n",
    "\n"
   ]
  },
  {
   "cell_type": "code",
   "execution_count": null,
   "id": "d5eede4e",
   "metadata": {
    "id": "d5eede4e"
   },
   "outputs": [
    {
     "name": "stdout",
     "output_type": "stream",
     "text": [
      "{'이름': '홍길동', '나이': 26, '전공': 'ICT융합학부', '학년': 4}\n"
     ]
    }
   ],
   "source": [
    "\n",
    "# 문제 2: 딕셔너리 활용\n",
    "student = {\"이름\": \"홍길동\", \"나이\": 25, \"전공\": \"ICT융합학부\"} # 딕셔너리 생성\n",
    "student[\"나이\"] += 1  # 나이 증가\n",
    "student[\"학년\"] = 4  # 학년 추가\n",
    "\n",
    "print(f\"{student}\")"
   ]
  },
  {
   "cell_type": "markdown",
   "id": "IOIwWbV4eaZJ",
   "metadata": {
    "id": "IOIwWbV4eaZJ"
   },
   "source": [
    "### 문제 3: 인덱싱과 슬라이싱  \n",
    "1. `[5, 10, 15, 20, 25, 30]` 리스트에서 첫 번째와 마지막 요소를 출력하세요.\n",
    "2. 리스트에서 **3번째부터 5번째 요소**만 슬라이싱하여 출력하세요.\n",
    "\n"
   ]
  },
  {
   "cell_type": "code",
   "execution_count": 14,
   "id": "1a838f86",
   "metadata": {
    "id": "1a838f86"
   },
   "outputs": [
    {
     "name": "stdout",
     "output_type": "stream",
     "text": [
      "첫번째 요소 : 5\n",
      "마지막 요소 : 30\n",
      "3번부터 5번까지 : [15, 20, 25]\n"
     ]
    }
   ],
   "source": [
    "\n",
    "# 문제 3: 인덱싱과 슬라이싱\n",
    "numbers = [5, 10, 15, 20, 25, 30]\n",
    "\n",
    "print(f\"첫번째 요소 : {numbers[0]}\")  # 첫 번째 요소\n",
    "print(f\"마지막 요소 : {numbers[-1]}\")  # 마지막 요소\n",
    "\n",
    "print(f\"3번부터 5번까지 : {numbers[2:5]}\")  # 3번부터 5번까지\n"
   ]
  },
  {
   "cell_type": "markdown",
   "id": "9whtbDE-ecgR",
   "metadata": {
    "id": "9whtbDE-ecgR"
   },
   "source": [
    "### 문제 4: 클래스 활용  \n",
    "1. `Person` 클래스를 생성하여 **이름**, **나이** 속성을 갖도록 만드세요.\n",
    "2. `introduce()` 메서드를 추가하여 `\"저는 홍길동이며, 25살입니다.\"` 형식으로 출력하세요."
   ]
  },
  {
   "cell_type": "code",
   "execution_count": null,
   "id": "1edbd92f",
   "metadata": {
    "id": "1edbd92f"
   },
   "outputs": [
    {
     "name": "stdout",
     "output_type": "stream",
     "text": [
      "저는 홍길동이며, 25살입니다.\n"
     ]
    }
   ],
   "source": [
    "\n",
    "# 문제 4: 클래스 활용\n",
    "class Person:\n",
    "    # 속성 설정\n",
    "    def __init__(self, name, age):\n",
    "        self.name = name\n",
    "        self.age = age\n",
    "    # 소개 메서드\n",
    "    def introduce(self):\n",
    "        print(f\"저는 {self.name}이며, {self.age}살입니다.\")\n",
    "\n",
    "\n",
    "# 객체 생성 및 메서드 호출\n",
    "hong = Person(\"홍길동\",25)\n",
    "hong.introduce()  # \"저는 홍길동이며, 25살입니다.\" 출력\n"
   ]
  }
 ],
 "metadata": {
  "colab": {
   "provenance": []
  },
  "kernelspec": {
   "display_name": "base",
   "language": "python",
   "name": "python3"
  },
  "language_info": {
   "codemirror_mode": {
    "name": "ipython",
    "version": 3
   },
   "file_extension": ".py",
   "mimetype": "text/x-python",
   "name": "python",
   "nbconvert_exporter": "python",
   "pygments_lexer": "ipython3",
   "version": "3.12.4"
  }
 },
 "nbformat": 4,
 "nbformat_minor": 5
}
