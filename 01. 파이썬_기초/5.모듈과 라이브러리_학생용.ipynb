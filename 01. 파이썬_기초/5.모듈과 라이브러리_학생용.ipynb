{
 "cells": [
  {
   "cell_type": "markdown",
   "id": "c3aee42e",
   "metadata": {
    "id": "c3aee42e"
   },
   "source": [
    "\n",
    "# 🐍 파이썬 기초: 모듈과 라이브러리\n",
    "\n",
    "## 1. 개요\n",
    "모듈(Module)과 라이브러리(Library)는 **코드를 재사용**할 수 있도록 도와주는 개념입니다.  \n",
    "파이썬에서 제공하는 **내장 모듈**을 사용할 수도 있고, 사용자가 직접 **모듈을 만들어서** 활용할 수도 있습니다.  \n",
    "\n",
    "이 장에서는 **모듈을 불러오는 방법(`import`)**, **자주 사용하는 내장 모듈**,  \n",
    "그리고 **사용자 정의 모듈을 생성하고 활용하는 방법**을 배웁니다.\n",
    "\n",
    "---\n",
    "\n",
    "## 2. 실습 목표\n",
    "- `import` 키워드를 사용하여 내장 모듈을 불러올 수 있다.\n",
    "- `math`, `random`, `datetime` 등 자주 사용되는 모듈을 활용할 수 있다.\n",
    "- `from module import function` 형식으로 모듈에서 특정 함수를 가져올 수 있다.\n",
    "- 직접 모듈(`cal.py`)을 만들어보고, 이를 다른 스크립트에서 사용하는 방법을 익힌다.\n"
   ]
  },
  {
   "cell_type": "markdown",
   "id": "509bfaf8",
   "metadata": {
    "id": "509bfaf8"
   },
   "source": [
    "\n",
    "## 3. 내장 모듈 (Built-in Modules)\n",
    "\n",
    "파이썬에는 기본적으로 제공되는 다양한 내장 모듈이 있습니다.  \n",
    "내장 모듈을 사용하려면 **`import` 키워드**를 사용하여 불러옵니다.\n",
    "\n",
    "### 3.1 `math` 모듈 활용\n"
   ]
  },
  {
   "cell_type": "code",
   "execution_count": 1,
   "id": "18a639d0",
   "metadata": {
    "id": "18a639d0"
   },
   "outputs": [
    {
     "name": "stdout",
     "output_type": "stream",
     "text": [
      "제곱근(√16): 4.0\n",
      "2의 3제곱 (2^3): 8.0\n",
      "원주율 (π): 3.141592653589793\n",
      "라디안 → 도 단위 변환 (1 radian): 57.29577951308232\n"
     ]
    }
   ],
   "source": [
    "\n",
    "# math 모듈 사용 예제\n",
    "import math\n",
    "\n",
    "print(\"제곱근(√16):\", math.sqrt(16))\n",
    "print(\"2의 3제곱 (2^3):\", math.pow(2, 3))\n",
    "print(\"원주율 (π):\", math.pi)\n",
    "print(\"라디안 → 도 단위 변환 (1 radian):\", math.degrees(1))\n"
   ]
  },
  {
   "cell_type": "markdown",
   "id": "9430a865",
   "metadata": {
    "id": "9430a865"
   },
   "source": [
    "\n",
    "### 3.2 `random` 모듈 활용\n",
    "\n",
    "난수를 생성하는 `random` 모듈을 사용하면 다양한 랜덤 데이터를 만들 수 있습니다.\n"
   ]
  },
  {
   "cell_type": "code",
   "execution_count": 2,
   "id": "b3f2ab59",
   "metadata": {
    "id": "b3f2ab59"
   },
   "outputs": [
    {
     "name": "stdout",
     "output_type": "stream",
     "text": [
      "0~1 사이의 난수: 0.36487235588223466\n",
      "1~10 사이의 정수 난수: 6\n",
      "리스트에서 랜덤 선택: 포도\n"
     ]
    }
   ],
   "source": [
    "\n",
    "# random 모듈 사용 예제\n",
    "import random\n",
    "\n",
    "print(\"0~1 사이의 난수:\", random.random())\n",
    "print(\"1~10 사이의 정수 난수:\", random.randint(1, 10))\n",
    "print(\"리스트에서 랜덤 선택:\", random.choice(['사과', '바나나', '포도']))\n"
   ]
  },
  {
   "cell_type": "markdown",
   "id": "23b8a154",
   "metadata": {
    "id": "23b8a154"
   },
   "source": [
    "\n",
    "### 3.3 `datetime` 모듈 활용\n",
    "\n",
    "현재 날짜와 시간을 다룰 수 있는 `datetime` 모듈을 사용합니다.\n"
   ]
  },
  {
   "cell_type": "code",
   "execution_count": 3,
   "id": "9ba7f1d4",
   "metadata": {
    "id": "9ba7f1d4"
   },
   "outputs": [
    {
     "name": "stdout",
     "output_type": "stream",
     "text": [
      "현재 날짜와 시간: 2025-03-28 15:05:02.800946\n",
      "현재 연도: 2025\n",
      "현재 월: 3\n",
      "현재 일: 28\n"
     ]
    }
   ],
   "source": [
    "\n",
    "# datetime 모듈 사용 예제\n",
    "from datetime import datetime\n",
    "\n",
    "now = datetime.now()\n",
    "print(\"현재 날짜와 시간:\", now)\n",
    "print(\"현재 연도:\", now.year)\n",
    "print(\"현재 월:\", now.month)\n",
    "print(\"현재 일:\", now.day)\n"
   ]
  },
  {
   "cell_type": "markdown",
   "id": "3e218ebe",
   "metadata": {
    "id": "3e218ebe"
   },
   "source": [
    "\n",
    "## 4. 사용자 정의 모듈 만들기\n",
    "\n",
    "파이썬에서는 직접 **모듈(.py 파일)**을 만들어서 사용할 수 있습니다.\n",
    "\n",
    "### 4.1 `cal.py` 모듈 생성\n",
    "\n",
    "아래와 같은 `cal.py` 파일을 생성하여 사칙연산을 수행하는 함수를 작성합니다.\n",
    "\n",
    "#### 📌 `cal.py` 파일 내용:\n",
    "```python\n",
    "# cal.py\n",
    "\n",
    "# 변수 정의\n",
    "PI = 3.141592\n",
    "\n",
    "# 사칙연산 함수 정의\n",
    "def add(a, b):\n",
    "    return a + b\n",
    "\n",
    "def subtract(a, b):\n",
    "    return a - b\n",
    "\n",
    "def multiply(a, b):\n",
    "    return a * b\n",
    "\n",
    "def divide(a, b):\n",
    "    if b != 0:\n",
    "        return a / b\n",
    "    else:\n",
    "        return \"0으로 나눌 수 없습니다.\"\n",
    "```\n",
    "\n",
    "### 4.2 `cal.py` 모듈 사용하기\n",
    "\n",
    "이제 `import`를 사용하여 `cal.py` 모듈을 불러와서 사용해보겠습니다.\n"
   ]
  },
  {
   "cell_type": "code",
   "execution_count": null,
   "id": "6f3f11ca",
   "metadata": {
    "id": "6f3f11ca"
   },
   "outputs": [
    {
     "name": "stdout",
     "output_type": "stream",
     "text": [
      "덧셈: 16\n",
      "뺄셈: 5\n",
      "곱셈: 50\n",
      "나눗셈: 2.0\n",
      "원주율: 3.141592\n"
     ]
    }
   ],
   "source": [
    "\n",
    "# cal.py 모듈 사용 예제 (파일이 같은 디렉토리에 있어야 합니다.)\n",
    "from module import cal\n",
    "\n",
    "print(\"덧셈:\", cal.add(11, 5))\n",
    "print(\"뺄셈:\", cal.subtract(10, 5))\n",
    "print(\"곱셈:\", cal.multiply(10, 5))\n",
    "print(\"나눗셈:\", cal.divide(10, 5))\n",
    "print(\"원주율:\", cal.PI)\n"
   ]
  },
  {
   "cell_type": "code",
   "execution_count": 13,
   "id": "4b55a952",
   "metadata": {},
   "outputs": [
    {
     "name": "stdout",
     "output_type": "stream",
     "text": [
      "200\n"
     ]
    }
   ],
   "source": [
    "import requests     # requests 모듈\n",
    "\n",
    "response = requests.get(\"https://www.google.com\") # Google 웹사이트에 GET 요청\n",
    "\n",
    "print(response.status_code)  # HTTP 상태 코드 출력"
   ]
  },
  {
   "cell_type": "markdown",
   "id": "8968de59",
   "metadata": {
    "id": "8968de59"
   },
   "source": [
    "\n",
    "## 5. ✨ 스스로 해결해보는 실습 문제 ✨\n",
    "\n",
    "아래 문제들을 직접 코드로 작성하여 실행해보세요!\n",
    "\n",
    "### 문제 1: `math` 모듈 활용  \n",
    "1. `math` 모듈을 사용하여 **45도의 사인값**을 구하세요.\n",
    "2. `math` 모듈을 사용하여 **7의 팩토리얼 값**을 구하세요.\n",
    "\n"
   ]
  },
  {
   "cell_type": "code",
   "execution_count": 11,
   "id": "ad8c6748",
   "metadata": {
    "id": "ad8c6748"
   },
   "outputs": [
    {
     "name": "stdout",
     "output_type": "stream",
     "text": [
      "sin45도 = 0.7071067811865476\n",
      "7! = 5040\n"
     ]
    }
   ],
   "source": [
    "\n",
    "# 문제 1: math 모듈 활용\n",
    "import math\n",
    "\n",
    "sin = math.sin(math.radians(45))\n",
    "\n",
    "factorial = math.factorial(7)\n",
    "\n",
    "print(f\"sin45도 = {sin}\")\n",
    "print(f\"7! = {factorial}\")\n"
   ]
  },
  {
   "cell_type": "markdown",
   "id": "fFH_DMZOdTv7",
   "metadata": {
    "id": "fFH_DMZOdTv7"
   },
   "source": [
    "### 문제 2: `random` 모듈 활용  \n",
    "1. 1부터 100 사이의 랜덤한 숫자를 생성하세요.\n",
    "2. 리스트 `[\"빨강\", \"파랑\", \"초록\", \"노랑\"]`에서 랜덤한 색상을 하나 선택하세요.\n",
    "\n",
    "\n"
   ]
  },
  {
   "cell_type": "code",
   "execution_count": 14,
   "id": "414beac5",
   "metadata": {
    "id": "414beac5"
   },
   "outputs": [
    {
     "name": "stdout",
     "output_type": "stream",
     "text": [
      "1~100 사이의 랜덤한 숫자 5개 : [10, 83, 75, 24, 9]\n",
      "선택된된 색상 : green\n"
     ]
    }
   ],
   "source": [
    "\n",
    "# 문제 2: random 모듈 활용\n",
    "import random as rd\n",
    "\n",
    "# 1~100 사이의 난수 5개 생성\n",
    "list_rd_num = rd.sample(range(1,101), 5)\n",
    "print(f\"1~100 사이의 랜덤한 숫자 5개 : {list_rd_num}\")\n",
    "\n",
    "# 리스트에서 랜덤 색상 선택\n",
    "list_color = ['red', 'blue', 'green', 'yellow']\n",
    "choice_color = rd.choice(list_color)\n",
    "print(f\"선택된된 색상 : {choice_color}\")\n"
   ]
  },
  {
   "cell_type": "markdown",
   "id": "-mBtDc6AdVjf",
   "metadata": {
    "id": "-mBtDc6AdVjf"
   },
   "source": [
    "### 문제 3: 사용자 정의 모듈 활용  \n",
    "1. `my_module.py` 파일을 생성하여 **원의 넓이를 구하는 함수(`circle_area(radius)`)**를 작성하세요.\n",
    "2. `my_module.py`를 불러와 반지름 5인 원의 넓이를 구하세요."
   ]
  },
  {
   "cell_type": "code",
   "execution_count": 1,
   "id": "1a156e7e",
   "metadata": {
    "id": "1a156e7e"
   },
   "outputs": [
    {
     "name": "stdout",
     "output_type": "stream",
     "text": [
      "반지름이 5인 원의 넓이 : 78.53981633974483\n"
     ]
    }
   ],
   "source": [
    "\n",
    "# 문제 3: 사용자 정의 모듈 활용\n",
    "\n",
    "# my_module.py 파일을 생성해야 합니다.\n",
    "\n",
    "\n",
    "# my_module 불러오기\n",
    "from module import my_module as mm\n",
    "\n",
    "area = mm.radius_area(5)\n",
    "print(f\"반지름이 5인 원의 넓이 : {area}\")\n",
    "\n"
   ]
  }
 ],
 "metadata": {
  "colab": {
   "provenance": []
  },
  "kernelspec": {
   "display_name": "base",
   "language": "python",
   "name": "python3"
  },
  "language_info": {
   "codemirror_mode": {
    "name": "ipython",
    "version": 3
   },
   "file_extension": ".py",
   "mimetype": "text/x-python",
   "name": "python",
   "nbconvert_exporter": "python",
   "pygments_lexer": "ipython3",
   "version": "3.12.4"
  }
 },
 "nbformat": 4,
 "nbformat_minor": 5
}
